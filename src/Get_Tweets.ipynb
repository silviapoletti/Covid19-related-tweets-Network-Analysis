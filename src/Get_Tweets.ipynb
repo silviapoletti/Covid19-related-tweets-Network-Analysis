{
 "cells": [
  {
   "cell_type": "markdown",
   "metadata": {
    "id": "v4bkwQoHr9i3"
   },
   "source": [
    "## Twitter data given user id\n",
    "\n",
    "Some comment: it looks like that using this API, you don' t need the dev environment and you can download 2kk tweets a month. "
   ]
  },
  {
   "cell_type": "markdown",
   "metadata": {
    "id": "21NaYdhRr9i7"
   },
   "source": [
    "## Set up"
   ]
  },
  {
   "cell_type": "code",
   "execution_count": 2,
   "metadata": {
    "id": "gNFOaZPIxyS2"
   },
   "outputs": [],
   "source": [
    "import os\n",
    "os.environ['TOKEN'] ='' #your bearer token here"
   ]
  },
  {
   "cell_type": "markdown",
   "metadata": {
    "id": "Nwy6MeGur9i-"
   },
   "source": [
    "### Import libraries"
   ]
  },
  {
   "cell_type": "code",
   "execution_count": 4,
   "metadata": {
    "id": "8ge5EaEur9jA"
   },
   "outputs": [],
   "source": [
    "import requests \n",
    "import pandas as pd \n",
    "import time"
   ]
  },
  {
   "cell_type": "markdown",
   "metadata": {
    "id": "IYIP9Ta4r9jR"
   },
   "source": [
    "### Set up headers"
   ]
  },
  {
   "cell_type": "code",
   "execution_count": 5,
   "metadata": {
    "id": "pKWoILn7AMzj"
   },
   "outputs": [],
   "source": [
    "def create_headers(bearer_token):\n",
    "    headers = {\"Authorization\": \"Bearer {}\".format(bearer_token)}\n",
    "    return headers"
   ]
  },
  {
   "cell_type": "code",
   "execution_count": 6,
   "metadata": {
    "id": "W_buwaoAyPLM"
   },
   "outputs": [],
   "source": [
    "headers = create_headers(os.environ['TOKEN'])"
   ]
  },
  {
   "cell_type": "markdown",
   "metadata": {
    "id": "mD_Szjhpd_ck"
   },
   "source": [
    "## Download tweet from a specific id in a time window"
   ]
  },
  {
   "cell_type": "markdown",
   "metadata": {
    "id": "LA_3suIsehdO"
   },
   "source": [
    "to get the id given the \"@name\", you can use : \n",
    "https://codeofaninja.com/tools/find-twitter-id/\n",
    "\n"
   ]
  },
  {
   "cell_type": "code",
   "execution_count": 32,
   "metadata": {
    "id": "RMdGcZmRd_cn"
   },
   "outputs": [],
   "source": [
    "def create_url(id, start_date, end_date):\n",
    "    \n",
    "    # Timeline by id\n",
    "    search_url = \"https://api.twitter.com/2/users/{}/tweets\".format(id)\n",
    "\n",
    "    #change params based on the endpoint you are using\n",
    "    query_params = {'max_results': 5, 'start_time': start_date, 'end_time': end_date}\n",
    "    return (search_url, query_params)"
   ]
  },
  {
   "cell_type": "code",
   "execution_count": 17,
   "metadata": {
    "id": "6Vo9bklwd_cp"
   },
   "outputs": [],
   "source": [
    "def connect_to_endpoint(url, headers, params, next_token = None):\n",
    "    if next_token is not None and next_token != '':\n",
    "        params['next'] = next_token\n",
    "    response = requests.request(\"GET\", url, headers = headers, params = params,)\n",
    "    print(response.url) # for debug\n",
    "    if response.status_code != 200:\n",
    "        raise Exception(response.status_code, response.text)\n",
    "    return response.json()"
   ]
  },
  {
   "cell_type": "code",
   "execution_count": 19,
   "metadata": {
    "id": "VXwUhq-Rd_cs"
   },
   "outputs": [],
   "source": [
    "def get_data(id, start_time, end_time, next_token):   ##NOT TESTED\n",
    "    results = []\n",
    "  \n",
    "    while next_token is not None:\n",
    "        ##this part here for one request\n",
    "        url = create_url(id, start_time,end_time)\n",
    "        json_response = connect_to_endpoint(url[0], headers, url[1], next_token)\n",
    "\n",
    "        if \"data\" in json_response:\n",
    "            results.extend(json_response[\"data\"])\n",
    "        ### up until this point\n",
    "        if \"next_token\" in json_response['meta']:\n",
    "            next_token = json_response[\"meta\"][\"next_token\"]\n",
    "        else:\n",
    "            next_token = None\n",
    "        time.sleep(1.1)\n",
    "  \n",
    "  return results"
   ]
  },
  {
   "cell_type": "code",
   "execution_count": 58,
   "metadata": {
    "id": "-xTh_3-fd_cu"
   },
   "outputs": [],
   "source": [
    "def get_single_response(id, start_time, end_time):\n",
    "    results = []\n",
    "    url = create_url(id, start_time,end_time)\n",
    "    json_response = connect_to_endpoint(url[0], headers, url[1])\n",
    "\n",
    "    #print(json_response)\n",
    "    if \"data\" in json_response:\n",
    "        results.extend(json_response[\"data\"])\n",
    "\n",
    "    return results\n"
   ]
  },
  {
   "cell_type": "code",
   "execution_count": 59,
   "metadata": {
    "colab": {
     "base_uri": "https://localhost:8080/"
    },
    "id": "OGmdnXx1d_cx",
    "outputId": "4b1fca6b-78a9-4b9c-8f9d-af6edc167b5b"
   },
   "outputs": [
    {
     "name": "stdout",
     "output_type": "stream",
     "text": [
      "https://api.twitter.com/2/users/982240377636700161/tweets?max_results=5&start_time=2019-12-12T00%3A00%3A00Z&end_time=2019-12-19T00%3A00%3A00Z\n"
     ]
    }
   ],
   "source": [
    "# example for @DPCGov between  the 12 and 19 december 2019\n",
    "tweets = get_single_response(\"982240377636700161\", \"2019-12-12T00:00:00Z\", \"2019-12-19T00:00:00Z\")"
   ]
  },
  {
   "cell_type": "markdown",
   "metadata": {
    "id": "Nx82m7Tcd_cz"
   },
   "source": [
    "### Inspect data"
   ]
  },
  {
   "cell_type": "code",
   "execution_count": 60,
   "metadata": {
    "colab": {
     "base_uri": "https://localhost:8080/"
    },
    "id": "Kzcr9wQRd_c2",
    "outputId": "f3fdfce9-4924-4fdc-e3bc-3f319581f7d2"
   },
   "outputs": [
    {
     "data": {
      "text/plain": [
       "[{'id': '1207339601049899013',\n",
       "  'text': 'RT @Quirinale: #Mattarella: Profonda riconoscenza esprimo alle amministrazioni, ai Servizi e ai Corpi dello Stato. Dai #VigilidelFuoco alla…'},\n",
       " {'id': '1207328639391555585',\n",
       "  'text': '🔔#allertaARANCIONE, giovedì #19dicembre, su parte della Sicilia. \\n🔔#allertaGIALLA in 5 regioni.\\n\\n🌧🌬 Avviso di condizioni meteorologiche avverse del #18dicembre per piogge e temporali su Sicilia, Calabria e Campania. Leggi qui 👉 https://t.co/J2y2LtNY5U\\n#protezionecivile https://t.co/ylJm64gNtS'},\n",
       " {'id': '1207279054333841416',\n",
       "  'text': \"#18dicembre Chiusura numero solidale: raccolti 574.114,00 euro.\\nGrazie alla generosità di chi ha voluto sostenere la città di #Venezia gravemente colpita dall'eccezionale evento di acqua alta lo scorso novembre 👉 https://t.co/CScRy2siXs https://t.co/GjzuEdXQ79\"},\n",
       " {'id': '1207208205492916224',\n",
       "  'text': 'Le domande che spopolano in questo periodo:\\nChe fai a Capodanno?🤷\\u200d♀️\\nChe tempo farà a Capodanno? 👇👇\\n#18dicembre #protezionecivile https://t.co/k5dYSYQgxU'},\n",
       " {'id': '1206959773633126400',\n",
       "  'text': '🔔 #allertaARANCIONE, mercoledì #18dicembre, su parte di Lombardia e Sardegna. #allertaGIALLA in 5 regioni.\\n🌬⛈ Avviso di condizioni meteo avverse del #17dicembre. In arrivo una perturbazione di origine atlantica. Leggi qui 👉 https://t.co/ZAllqfBhvL https://t.co/JWi4GH74Cq'}]"
      ]
     },
     "execution_count": 60,
     "metadata": {},
     "output_type": "execute_result"
    }
   ],
   "source": [
    "tweets"
   ]
  },
  {
   "cell_type": "code",
   "execution_count": 61,
   "metadata": {
    "colab": {
     "base_uri": "https://localhost:8080/"
    },
    "id": "naVJwJewd_c3",
    "outputId": "39be3d6e-6f6d-4f81-c6b8-6054ba26abe7"
   },
   "outputs": [
    {
     "data": {
      "text/plain": [
       "{'id': '1207339601049899013',\n",
       " 'text': 'RT @Quirinale: #Mattarella: Profonda riconoscenza esprimo alle amministrazioni, ai Servizi e ai Corpi dello Stato. Dai #VigilidelFuoco alla…'}"
      ]
     },
     "execution_count": 61,
     "metadata": {},
     "output_type": "execute_result"
    }
   ],
   "source": [
    "tweets[0]"
   ]
  }
 ],
 "metadata": {
  "colab": {
   "collapsed_sections": [
    "Q8Pb9MXWr9jd"
   ],
   "name": "Twitter_lab2.ipynb",
   "provenance": []
  },
  "kernelspec": {
   "display_name": "Python 3 (ipykernel)",
   "language": "python",
   "name": "python3"
  },
  "language_info": {
   "codemirror_mode": {
    "name": "ipython",
    "version": 3
   },
   "file_extension": ".py",
   "mimetype": "text/x-python",
   "name": "python",
   "nbconvert_exporter": "python",
   "pygments_lexer": "ipython3",
   "version": "3.9.7"
  }
 },
 "nbformat": 4,
 "nbformat_minor": 1
}
