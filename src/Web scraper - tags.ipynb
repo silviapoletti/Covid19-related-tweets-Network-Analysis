{
 "cells": [
  {
   "attachments": {},
   "cell_type": "markdown",
   "metadata": {},
   "source": [
    "# Web scraper\n",
    "This code scrapes the articles tag of the article at the given url"
   ]
  },
  {
   "cell_type": "code",
   "execution_count": 33,
   "metadata": {},
   "outputs": [],
   "source": [
    "#to make http requests\n",
    "import requests\n",
    "#library for html scraping and parsing\n",
    "from bs4 import BeautifulSoup as bs"
   ]
  },
  {
   "cell_type": "markdown",
   "metadata": {},
   "source": [
    "Get the article and parse it"
   ]
  },
  {
   "cell_type": "code",
   "execution_count": 34,
   "metadata": {},
   "outputs": [],
   "source": [
    "url=\"https://www.bbc.com/news/world-59468155?xtor=AL-72-%5Bpartner%5D-%5Bbbc.news.twitter%5D-%5Bheadline%5D-%5Bnews%5D-%5Bbizdev%5D-%5Bisapi%5D&at_custom4=9033EC90-5152-11EC-BACA-E7FD4744363C&at_custom2=twitter&at_custom3=%40BBCWorld&at_medium=custom7&at_campaign=64&at_custom1=%5Bpost+type%5D\" #place the url\n",
    "article=requests.get(url)\n",
    "parsed_article=bs(article.content,'html.parser')"
   ]
  },
  {
   "cell_type": "markdown",
   "metadata": {},
   "source": [
    "extract title of the article"
   ]
  },
  {
   "cell_type": "code",
   "execution_count": 35,
   "metadata": {},
   "outputs": [
    {
     "name": "stdout",
     "output_type": "stream",
     "text": [
      "Omicron: WHO warns of 'high infection risk' around globe\n"
     ]
    }
   ],
   "source": [
    "title=parsed_article.find(id='main-heading')\n",
    "print(title.text)"
   ]
  },
  {
   "cell_type": "markdown",
   "metadata": {},
   "source": [
    "Extract the content of the article (all the paragraphs) and print them"
   ]
  },
  {
   "cell_type": "code",
   "execution_count": 36,
   "metadata": {},
   "outputs": [
    {
     "name": "stdout",
     "output_type": "stream",
     "text": [
      "['The World Health Organization (WHO) has warned that the Omicron coronavirus variant poses a high risk of infection surges around the globe. ', 'The variant could lead to severe consequences in some regions, the WHO said on Monday. ', 'The head of the organisation, Dr Tedros Adhanom Ghebreyesus, renewed a call for a global push to get vaccines to poorer nations. ', 'Covid-19 is \"not done with us\" yet he warned.', 'The variant was detected in South Africa earlier this month with initial evidence suggesting it has a higher re-infection risk. South Africa has been praised for its prompt reporting of the variant. ', '\"Omicron has an unprecedented number of spike mutations, some of which are concerning for their potential impact on the trajectory of the pandemic,\" the WHO said.', 'Speaking on Monday, Dr Tedros said scientists around the world are working to discover if the new variant is associated with higher transmission, risk of reinfection and how it reacts to vaccines.', '\"Omicron\\'s very emergency is another reminder that although many of us think we are done with Covid-19, it is not done with us,\" he said. ', 'He added that no deaths have been linked to the new variant yet. ', 'Cases have already been reported in a number of countries including Canada, the UK, Portugal, Belgium and the Netherlands. ', \"The new variant has prompted the UK, EU and US to issue a travel ban on Southern African countries - a decision criticised by South Africa's President Cyril Ramaphosa.\", 'Japan has announced it is closing its borders to new foreign visitors from midnight on Tuesday, while Australia has paused its long-awaited plan to ease border restrictions. ', 'Travel into Australia for international students and \"skilled workers\" holding visas was meant to re-start on Wednesday but has now been delayed until 15 December. ', 'Israel has also banned foreigners from entering the country. ', 'In the UK, Covid booster jabs are set to be offered to all over-18s to help stop a new wave driven by Omicron. ', 'The US has also followed suit with Joe Biden telling Americans to \"go get your booster\". He also urged people to wear masks indoors. ', 'But Mr Biden also said he did not anticipate any further US travel restrictions or lockdowns at this time. ', 'There have been more than 261 million cases and five million deaths around the globe since the pandemic started in 2020, according to data from John Hopkins University. ', \"Javid defends 'swift action' on Omicron variant\", 'Air passengers have new variant in Netherlands', 'How worrying is the new Covid variant?']\n"
     ]
    }
   ],
   "source": [
    "body=parsed_article.find('article')\n",
    "paragraphs=[p.text for p in body.find_all('p')]\n",
    "print(paragraphs)"
   ]
  },
  {
   "cell_type": "markdown",
   "metadata": {},
   "source": [
    "Extract the tags and print them"
   ]
  },
  {
   "cell_type": "code",
   "execution_count": 37,
   "metadata": {},
   "outputs": [
    {
     "name": "stdout",
     "output_type": "stream",
     "text": [
      "World Health Organization (WHO)\n",
      "South Africa\n",
      "Coronavirus pandemic\n"
     ]
    }
   ],
   "source": [
    "#tags=parsed_article.find(text=re.compile('Related Topics'))\n",
    "tags=parsed_article.find(\"section\", { \"data-component\" : \"tag-list\" }).findAll(\"a\", recursive=True)\n",
    "for tag in tags:\n",
    "    print(tag.text)"
   ]
  }
 ],
 "metadata": {
  "interpreter": {
   "hash": "b837477f779fd3ba2d0322b81b1029ddb351865459e937252cad76539e5747ee"
  },
  "kernelspec": {
   "display_name": "Python 3 (ipykernel)",
   "language": "python",
   "name": "python3"
  },
  "language_info": {
   "codemirror_mode": {
    "name": "ipython",
    "version": 3
   },
   "file_extension": ".py",
   "mimetype": "text/x-python",
   "name": "python",
   "nbconvert_exporter": "python",
   "pygments_lexer": "ipython3",
   "version": "3.9.7"
  }
 },
 "nbformat": 4,
 "nbformat_minor": 2
}
