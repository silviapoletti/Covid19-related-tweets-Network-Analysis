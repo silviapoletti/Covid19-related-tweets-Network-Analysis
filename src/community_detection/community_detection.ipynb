{
  "nbformat": 4,
  "nbformat_minor": 0,
  "metadata": {
    "colab": {
      "name": "community_detection_final.ipynb",
      "provenance": [],
      "collapsed_sections": [
        "HFpJ40-hpztP",
        "6yY5PLrrAoTj",
        "4Cf7GVQOpRqn",
        "vb70Nj1kKIYb",
        "9OCXZZs0Lyet",
        "wx0btxUosYhr",
        "gHJ0H0vjVxe0",
        "VdsasvlOlLX0",
        "eIsBQCO5z6nZ",
        "aEDalrU8z6na",
        "YDDZQy69z6nb",
        "uRcdtDXyz6nc",
        "riIitP9yz6ne",
        "WVys5txp6IhY",
        "ipxQjXgF6IhY",
        "FxqpQ6gR6IhZ",
        "UK3gMmox6IhZ",
        "2rDk-p1U-6E-"
      ]
    },
    "kernelspec": {
      "name": "python3",
      "display_name": "Python 3"
    },
    "language_info": {
      "name": "python"
    }
  },
  "cells": [
    {
      "cell_type": "markdown",
      "source": [
        "**Community detection**"
      ],
      "metadata": {
        "id": "8JsOn3xOMKIp"
      }
    },
    {
      "cell_type": "code",
      "source": [
        "!pip install python-louvain\n",
        "!pip install scikit-network\n",
        "!pip install cdlib"
      ],
      "metadata": {
        "id": "2T4rXWMMOEJj"
      },
      "execution_count": null,
      "outputs": []
    },
    {
      "cell_type": "markdown",
      "source": [
        "## Utils"
      ],
      "metadata": {
        "id": "tSWqfwUxNVYi"
      }
    },
    {
      "cell_type": "code",
      "source": [
        "import networkx as nx\n",
        "from networkx import edge_betweenness_centrality as betweenness\n",
        "from networkx.algorithms import community\n",
        "from community import community_louvain\n",
        "from sknetwork.hierarchy import Paris, cut_straight, dasgupta_score, tree_sampling_divergence\n",
        "from sknetwork.visualization import svg_graph, svg_dendrogram\n",
        "from sknetwork.hierarchy.postprocess import cut_straight\n",
        "\n",
        "import cdlib\n",
        "from cdlib.algorithms import big_clam\n",
        "\n",
        "import pandas as pd\n",
        "import numpy as np\n",
        "import itertools\n",
        "from operator import itemgetter\n",
        "import re\n",
        "\n",
        "\n",
        "from google.colab import files\n",
        "from IPython.display import SVG\n",
        "import matplotlib.pyplot as plt"
      ],
      "metadata": {
        "id": "vCg2CDL6uuuB"
      },
      "execution_count": 47,
      "outputs": []
    },
    {
      "cell_type": "code",
      "source": [
        "def network_from_edges(edges):\n",
        "  dict_edges = {}\n",
        "  for ind in range(len(edges)):\n",
        "    if edges.iloc[ind,2] > 10:\n",
        "      dict_edges[(edges.iloc[ind,0], edges.iloc[ind,1])] = edges.iloc[ind,2]\n",
        "  net = pd.DataFrame.from_dict(dict_edges,orient='index')\n",
        "  net.columns = [\"weight\"]\n",
        "  net.sort_values(by=\"weight\",inplace=True, ascending=False)\n",
        "  return dict_edges, net\n",
        "\n",
        "\n",
        "def get_graph(network):\n",
        "  G = nx.Graph()\n",
        "  for edge in network:\n",
        "      #we can filter edges by weight by uncommenting the next line and setting desired weight threshold\n",
        "      G.add_edge(edge[0], edge[1], weight=network[edge])\n",
        "  \n",
        "  #G.add_weighted_edges_from(up_weighted, weight='weight')\n",
        "  return G\n",
        "\n",
        "\n",
        "def extract_text(df):       #extract the text from the tweets and RT\n",
        "                            #works ONLY on .csv file\n",
        "    list_strings = []\n",
        "    for index in range(len(df)):\n",
        "        #print(index)\n",
        "        text = df.loc[index]['text']                          #if it is nor trucated nor a RT  i take \"text\"\n",
        "        string = -1\n",
        "        if (df.loc[index,\"truncated\"] == True):                 #if it is trucated I take \"extended_tweet\"\n",
        "            string = df.loc[index,\"extended_tweet\"]\n",
        "        if type(df.loc[index,\"retweeted_status\"]) != float:     #if it is a RT I take retweeted_status\n",
        "            string = df.loc[index,\"retweeted_status\"]\n",
        "        if type(string) == str :\n",
        "            if(re.search('full_text\\':(.+?)https',string) != None):     #if I find \"full_text\"\n",
        "                s = re.search('full_text\\':(.+?)https',string).group(1)\n",
        "            if(re.search('text\\':(.+?)https',string)!= None):\n",
        "                s = re.search('text\\':(.+?)https',string).group(1)\n",
        "            else:  #here then one should remove the http\n",
        "                if (re.search('full_text\\':\\s\\'(.+?)\\'',string)!=None) :\n",
        "                    s=re.search('full_text\\':\\s\\'(.+?)\\'',string).group(1)  \n",
        "                if (re.search('\\{\\\\\\'full_text\\\\\\':\\s(.+?)\\\"',string)!=None) : \n",
        "                    re.search('\\{\\\\\\'full_text\\\\\\':\\s(.+?)\\\"',string).group(1)\n",
        "            \n",
        "            list_strings.append(s)\n",
        "            #print(s)         \n",
        "        else:\n",
        "            list_strings.append(text)\n",
        "            #print(text)\n",
        "      \n",
        "\n",
        "    return list_strings\n",
        "\n",
        "\n",
        "def frequency_dictionary(df):\n",
        "  unique_words = {}\n",
        "\n",
        "  for row in df:\n",
        "    for word in row.split():\n",
        "      #if the word is encountered for the first time add to dict as key and set its value to 0\n",
        "      unique_words.setdefault(word,0)\n",
        "      #increase the value (i.e the count) of the word by 1 every time it is encountered\n",
        "      unique_words[word] += 1\n",
        "\n",
        "  return unique_words\n",
        "\n",
        "\n",
        "def adj_matrix(node_list, edge_list):   \n",
        "\n",
        "  words = sorted(list(node_list['Id']))\n",
        "\n",
        "  A = pd.DataFrame(np.zeros((len(words),len(words))), columns = words, index = words)\n",
        "  print('A shape: ', A.shape)\n",
        "  for row in range(len(edge_list)):\n",
        "    if row%1000==0:\n",
        "      print(str(round(row/1000)) + '/' + str(round(len(edge_list)/1000)))\n",
        "    word1 = edge_list.iloc[row, 0]\n",
        "    word2 = edge_list.iloc[row, 1]\n",
        "    weight = edge_list.iloc[row, 2]\n",
        "    A[word1, word2] = weight\n",
        "    A[word2, word1] = weight\n",
        "  print('A shape: ', A.shape)\n",
        "  return A"
      ],
      "metadata": {
        "id": "6M8qjj00Pki1"
      },
      "execution_count": 2,
      "outputs": []
    },
    {
      "cell_type": "code",
      "source": [
        "def community_check(community, dict_1, dict_2, G_1, G_2, thr):\n",
        "  sum_1 = 0\n",
        "  sum_2 = 0\n",
        "  sum_12 = 0\n",
        "  for key in community:\n",
        "    if (key in list(dict_1.keys())) and (key in list(dict_2.keys())):\n",
        "      if dict_1[key] / sum(list(dict_1.values())) - dict_2[key] / sum(list(dict_2.values())) > thr:\n",
        "        sum_1 += 1\n",
        "      elif dict_1[key] / sum(list(dict_1.values())) - dict_2[key] / sum(list(dict_2.values())) < -thr:\n",
        "        sum_2 += 1  \n",
        "      else:\n",
        "        sum_12 += 1 \n",
        "    elif key in list(G_1.nodes()):\n",
        "      sum_1 += 1\n",
        "    elif key in list(G_2.nodes()):\n",
        "      sum_2 += 1\n",
        "  return sum_1, sum_2, sum_12"
      ],
      "metadata": {
        "id": "TKPfRtcagPT0"
      },
      "execution_count": 3,
      "outputs": []
    },
    {
      "cell_type": "code",
      "source": [
        "# Functions for measuring the quality of a partition (into communities).\n",
        "\n",
        "def compute_metrics(G, partition):\n",
        "\n",
        "  # Returns the coverage of a partition.\n",
        "  coverage = community.coverage(G, partition)\n",
        "\n",
        "  # Returns the coverage and performance of a partition of G.\n",
        "  quality = community.partition_quality(G, partition)\n",
        "\n",
        "  performance = community.performance(G, partition)\n",
        "\n",
        "  # Returns the modularity of the given partition of the graph.\n",
        "  modularity = community.modularity(G, partition)\n",
        "\n",
        "  print(\"Coverage: \", coverage)\n",
        "  # print(\"Quality: \", quality) # Coverage and performance\n",
        "  print(\"Performance: \", performance)\n",
        "  print(\"Modularity: \", modularity)\n",
        "\n",
        "  return coverage, quality, performance, modularity\n"
      ],
      "metadata": {
        "id": "POLncCkKj-4y"
      },
      "execution_count": 4,
      "outputs": []
    },
    {
      "cell_type": "code",
      "source": [
        "def community_layout(g, partition):\n",
        "    \"\"\"\n",
        "    Compute the layout for a modular graph.\n",
        "\n",
        "\n",
        "    Arguments:\n",
        "    ----------\n",
        "    g -- networkx.Graph or networkx.DiGraph instance\n",
        "        graph to plot\n",
        "\n",
        "    partition -- dict mapping int node -> int community\n",
        "        graph partitions\n",
        "\n",
        "\n",
        "    Returns:\n",
        "    --------\n",
        "    pos -- dict mapping int node -> (float x, float y)\n",
        "        node positions\n",
        "\n",
        "    \"\"\"\n",
        "\n",
        "    pos_communities = _position_communities(g, partition, scale=0.5)\n",
        "\n",
        "    pos_nodes = _position_nodes(g, partition, scale=2.)\n",
        "\n",
        "    # combine positions\n",
        "    pos = dict()\n",
        "    for node in g.nodes():\n",
        "        pos[node] = pos_communities[node] + pos_nodes[node]\n",
        "\n",
        "    return pos\n",
        "\n",
        "def _position_communities(g, partition, **kwargs):\n",
        "\n",
        "    # create a weighted graph, in which each node corresponds to a community,\n",
        "    # and each edge weight to the number of edges between communities\n",
        "    between_community_edges = _find_between_community_edges(g, partition)\n",
        "\n",
        "    communities = set(partition.values())\n",
        "    hypergraph = nx.DiGraph()\n",
        "    hypergraph.add_nodes_from(communities)\n",
        "    for (ci, cj), edges in between_community_edges.items():\n",
        "        hypergraph.add_edge(ci, cj, weight=len(edges))\n",
        "\n",
        "    # find layout for communities\n",
        "    pos_communities = nx.circular_layout(hypergraph, **kwargs)\n",
        "\n",
        "    # set node positions to position of community\n",
        "    pos = dict()\n",
        "    for node, community in partition.items():\n",
        "        pos[node] = pos_communities[community]\n",
        "\n",
        "    return pos\n",
        "\n",
        "def _find_between_community_edges(g, partition):\n",
        "\n",
        "    edges = dict()\n",
        "\n",
        "    for (ni, nj) in g.edges():\n",
        "        ci = partition[ni]\n",
        "        cj = partition[nj]\n",
        "\n",
        "        if ci != cj:\n",
        "            try:\n",
        "                edges[(ci, cj)] += [(ni, nj)]\n",
        "            except KeyError:\n",
        "                edges[(ci, cj)] = [(ni, nj)]\n",
        "\n",
        "    return edges\n",
        "\n",
        "def _position_nodes(g, partition, **kwargs):\n",
        "    \"\"\"\n",
        "    Positions nodes within communities.\n",
        "    \"\"\"\n",
        "\n",
        "    communities = dict()\n",
        "    for node, community in partition.items():\n",
        "        try:\n",
        "            communities[community] += [node]\n",
        "        except KeyError:\n",
        "            communities[community] = [node]\n",
        "\n",
        "    pos = dict()\n",
        "    for ci, nodes in communities.items():\n",
        "        subgraph = g.subgraph(nodes)\n",
        "        pos_subgraph = nx.random_layout(subgraph)\n",
        "        pos.update(pos_subgraph)\n",
        "\n",
        "    return pos"
      ],
      "metadata": {
        "id": "L3ne9OUocUgG"
      },
      "execution_count": 5,
      "outputs": []
    },
    {
      "cell_type": "markdown",
      "source": [
        "# PageRank Networks: inside/outside together"
      ],
      "metadata": {
        "id": "7SQYN2uFpug-"
      }
    },
    {
      "cell_type": "markdown",
      "source": [
        "## **All periods**"
      ],
      "metadata": {
        "id": "HFpJ40-hpztP"
      }
    },
    {
      "cell_type": "markdown",
      "source": [
        "### Download data"
      ],
      "metadata": {
        "id": "6yY5PLrrAoTj"
      }
    },
    {
      "cell_type": "code",
      "source": [
        "China = pd.read_csv('/content/China.csv')\n",
        "USA = pd.read_csv('/content/USA.csv',)\n",
        "\n",
        "edges = pd.read_csv('/content/edgelist_China_USA.csv')\n",
        "edges_China = pd.read_csv('/content/edgelist_China.csv')\n",
        "edges_USA = pd.read_csv('/content/edgelist_USA.csv')\n",
        "\n",
        "text_China = extract_text(China)\n",
        "text_USA = extract_text(USA)\n",
        "\n",
        "freq_dict_China = frequency_dictionary(text_China)\n",
        "freq_dict_China = dict(sorted(freq_dict_China.items(), key=lambda item: item[1], reverse = True))   #order from more frequent to less frequent word\n",
        "\n",
        "freq_dict_USA = frequency_dictionary(text_USA)\n",
        "freq_dict_USA = dict(sorted(freq_dict_USA.items(), key=lambda item: item[1], reverse = True))   #order from more frequent to less frequent word\n",
        "\n",
        "net, net_df = network_from_edges(edges)\n",
        "net_China, _ = network_from_edges(edges_China)\n",
        "net_USA, _ = network_from_edges(edges_USA)\n",
        "\n",
        "G = get_graph(net)\n",
        "nodes = G.nodes()\n",
        "G_China = get_graph(net_China)\n",
        "G_USA = get_graph(net_USA)"
      ],
      "metadata": {
        "id": "pcxvUc4GqAJt"
      },
      "execution_count": 555,
      "outputs": []
    },
    {
      "cell_type": "code",
      "source": [
        "print('China&USA:')\n",
        "print('Nodes: ',len(G.nodes()))\n",
        "print('Edges: ',len(G.edges()))\n",
        "print('Is connected: ',nx.is_connected(G))\n",
        "print()\n",
        "print('China:')\n",
        "print('Words: ',len(freq_dict_China))\n",
        "print()\n",
        "print('USA:')\n",
        "print('Words: ',len(freq_dict_USA))"
      ],
      "metadata": {
        "id": "4vfxekxfTL17",
        "outputId": "50dfd3ac-c0a6-4a2b-a2e9-623bab94bd76",
        "colab": {
          "base_uri": "https://localhost:8080/"
        }
      },
      "execution_count": 556,
      "outputs": [
        {
          "output_type": "stream",
          "name": "stdout",
          "text": [
            "China&USA:\n",
            "Nodes:  509\n",
            "Edges:  12061\n",
            "Is connected:  True\n",
            "\n",
            "China:\n",
            "Words:  17019\n",
            "\n",
            "USA:\n",
            "Words:  33536\n"
          ]
        }
      ]
    },
    {
      "cell_type": "code",
      "source": [
        "# Graph without search keys\n",
        "G_original = G.copy()\n",
        "G.remove_node('coronavirus')\n",
        "G.remove_node('covid')\n",
        "G.remove_node('vaccine')"
      ],
      "metadata": {
        "id": "SpWeXOWyNtXb"
      },
      "execution_count": 557,
      "outputs": []
    },
    {
      "cell_type": "code",
      "source": [
        "print('Is connected: ', nx.is_connected(G))"
      ],
      "metadata": {
        "colab": {
          "base_uri": "https://localhost:8080/"
        },
        "id": "b4EuuypVOMMz",
        "outputId": "ab8152fd-dfa2-4135-9365-4ec65a111d55"
      },
      "execution_count": 558,
      "outputs": [
        {
          "output_type": "stream",
          "name": "stdout",
          "text": [
            "Is connected:  True\n"
          ]
        }
      ]
    },
    {
      "cell_type": "code",
      "source": [
        "def threshold(vector,threshold):\n",
        "\n",
        "  l = [(el,vector[el]) for el in vector if vector[el] >= threshold ]\n",
        "\n",
        "  return pd.DataFrame(l)\n",
        "\n",
        "def threshold_reverse(vector,threshold):\n",
        "\n",
        "  l = [(el,vector[el]) for el in vector if vector[el] < threshold ]\n",
        "\n",
        "  return pd.DataFrame(l)"
      ],
      "metadata": {
        "id": "MD9rwwLAbviY"
      },
      "execution_count": 559,
      "outputs": []
    },
    {
      "cell_type": "code",
      "source": [
        "# PageRank for reducing the graph\n",
        "pr = nx.algorithms.pagerank(G, alpha = 1)\n",
        "pr = dict(sorted(pr.items(), key=lambda item: item[1],reverse = True))\n",
        "\n",
        "thr = 0.002\n",
        "len(threshold(pr,thr))"
      ],
      "metadata": {
        "id": "fXV4ZHsxS0Rw",
        "outputId": "54e9a42e-4445-4c67-c8c6-d803d29651f3",
        "colab": {
          "base_uri": "https://localhost:8080/"
        }
      },
      "execution_count": 560,
      "outputs": [
        {
          "output_type": "execute_result",
          "data": {
            "text/plain": [
              "110"
            ]
          },
          "metadata": {},
          "execution_count": 560
        }
      ]
    },
    {
      "cell_type": "code",
      "source": [
        "G_reduced = G.copy()\n",
        "nodes_to_delete = list(threshold_reverse(pr,thr)[0])\n",
        "for n in nodes_to_delete:\n",
        "    G_reduced.remove_node(n)\n",
        "\n",
        "nx.is_connected(G_reduced)"
      ],
      "metadata": {
        "id": "mUWQNN2UTZU9",
        "outputId": "e2708064-8edb-403f-9d1b-bed7c6b13a77",
        "colab": {
          "base_uri": "https://localhost:8080/"
        }
      },
      "execution_count": 561,
      "outputs": [
        {
          "output_type": "execute_result",
          "data": {
            "text/plain": [
              "True"
            ]
          },
          "metadata": {},
          "execution_count": 561
        }
      ]
    },
    {
      "cell_type": "markdown",
      "source": [
        "### Bipartition\n",
        "Partition a graph into two blocks using the Kernighan–Lin algorithm."
      ],
      "metadata": {
        "id": "4Cf7GVQOpRqn"
      }
    },
    {
      "cell_type": "code",
      "source": [
        "community_bipart = community.kernighan_lin_bisection(G,weight='weight')\n",
        "\n",
        "print(community_bipart[0])\n",
        "print(community_bipart[1])"
      ],
      "metadata": {
        "id": "VQaI3Lw9YV0a",
        "colab": {
          "base_uri": "https://localhost:8080/"
        },
        "outputId": "f513baf5-0876-4411-c945-374a6435be3d"
      },
      "execution_count": 26,
      "outputs": [
        {
          "output_type": "stream",
          "name": "stdout",
          "text": [
            "{'street', 'korea', 'ask', 'exclusive', 'urge', 'small', 'facility', 'build', 'volunteer', 'launch', 'major', 'express', 'secretary', 'post', 'likely', 'step', 'economic', 'system', 'worry', 'term', 'whether', 'look', 'conference', 'young', 'life', 'much', 'stay', 'read', 'impact', 'appear', 'side', 'rule', 'cancel', 'california', 'soon', 'growth', 'reopen', 'press', 'deadly', 'stock', 'department', 'several', 'illness', 'like', 'yet', 'watch', 'relief', 'man', 'republican', 'office', 'research', 'head', 'special', 'recent', 'general', 'aid', 'force', 'rare', 'area', 'keep', 'severe', 'ease', 'turn', 'effect', 'russia', 'maker', 'scientist', 'ahead', 'bank', 'germany', 'job', 'employee', 'population', 'shut', 'adviser', 'community', 'researcher', 'seek', 'beijing', 'hope', 'vote', 'condition', 'issue', 'move', 'seven', 'statement', 'america', 'contact', 'party', 'sign', 'base', 'push', 'member', 'prevent', 'boost', 'combat', 'age', 'north', 'deal', 'financial', 'transmission', 'already', 'medicine', 'regulator', 'within', 'experience', 'send', 'air', 'protect', 'information', 'limit', 'right', 'add', 'mark', 'bill', 'track', 'governor', 'court', 'infectious', 'social', 'four', 'suspend', 'canada', 'break', 'committee', 'capital', 'market', 'export', 'hundred', 'production', 'strong', 'diagnose', 'asian', 'decline', 'produce', 'thousand', 'flu', 'provide', 'war', 'question', 'human', 'challenge', 'event', 'billion', 'extend', 'race', 'woman', 'news', 'hand', 'italy', 'british', 'breaking', 'meet', 'open', 'critical', 'half', 'citizen', 'catch', 'federal', 'free', 'stand', 'game', 'blood', 'link', 'less', 'allow', 'affect', 'group', 'delay', 'struggle', 'grow', 'ban', 'release', 'service', 'win', 'raise', 'restaurant', 'food', 'stage', 'share', 'deliver', 'senior', 'great', 'vice', 'industry', 'story', 'sale', 'avoid', 'institute', 'full', 'line', 'change', 'school', 'donate', 'wear', 'medium', 'without', 'confidence', 'try', 'batch', 'pass', 'visit', 'good', 'student', 'former', 'today', 'hard', 'french', 'offer', 'safety', 'source', 'drop', 'agency', 'evacuate', 'safe', 'business', 'mike', 'approve', 'video', 'person', 'clot', 'season', 'behind', 'join', 'fund', 'holiday', 'claim', 'drive', 'almost', 'slow', 'arrive', 'poll', 'development', 'problem', 'talk', 'lose', 'loss', 'potential', 'benefit', 'family', 'crisis', 'experimental', 'want', 'march', 'tweet', 'think', 'stop', 'possible', 'demand', 'place', 'order', 'region', 'despite'}\n",
            "{'global', 'reach', 'past', 'record', 'wave', 'economy', 'confirm', 'single', 'say', 'contain', 'health', 'leader', 'may', 'declare', 'trial', 'live', 'surge', 'low', 'start', 'vaccination', 'local', 'team', 'resident', 'home', 'novel', 'well', 'country', 'epidemic', 'kill', 'since', 'next', 'expert', 'positive', 'emergency', 'fear', 'brazil', 'pandemic', 'due', 'month', 'old', 'prime', 'house', 'chief', 'rise', 'surpass', 'leave', 'clinical', 'cause', 'test', 'return', 'first', 'administer', 'report', 'get', 'democratic', 'update', 'total', 'even', 'develop', 'daily', 'authority', 'public', 'ship', 'australia', 'center', 'treatment', 'travel', 'come', 'diagnosis', 'remain', 'know', 'see', 'infect', 'dos', 'province', 'another', 'south', 'outbreak', 'foreign', 'york', 'fight', 'nominee', 'variant', 'medical', 'election', 'control', 'india', 'increase', 'study', 'organization', 'trump', 'accord', 'part', 'military', 'mask', 'japan', 'fauci', 'five', 'central', 'across', 'fall', 'support', 'flight', 'candidate', 'early', 'symptom', 'recovery', 'continue', 'disease', 'supply', 'case', 'company', 'outside', 'official', 'care', 'quarantine', 'concern', 'passenger', 'two', 'level', 'set', 'discharge', 'minister', 'toll', 'become', 'top', 'receive', 'prevention', 'large', 'recover', 'city', 'late', 'international', 'contract', 'show', 'joe', 'use', 'virus', 'commission', 'bring', 'also', 'president', 'way', 'could', 'china', 'last', 'epicenter', 'restriction', 'begin', 'third', 'big', 'plan', 'doctor', 'data', 'long', 'lady', 'put', 'day', 'analysis', 'die', 'director', 'far', 'time', 'million', 'dose', 'antibody', 'africa', 'united', 'expect', 'follow', 'back', 'around', 'battle', 'france', 'give', 'close', 'child', 'cruise', 'work', 'include', 'hubei', 'drug', 'bad', 'amid', 'infection', 'take', 'hit', 'six', 'hospital', 'would', 'hour', 'nearly', 'least', 'treat', 'risk', 'lead', 'new', 'make', 'death', 'end', 'ministry', 'state', 'university', 'worker', 'national', 'hong', 'year', 'white', 'campaign', 'among', 'government', 'find', 'spike', 'warn', 'rate', 'people', 'nation', 'administration', 'result', 'tell', 'debate', 'measure', 'effective', 'adult', 'effort', 'shot', 'staff', 'response', 'high', 'curb', 'patient', 'call', 'face', 'world', 'week', 'many', 'presidential', 'three', 'hold', 'negative', 'confirmed', 'pneumonia', 'number', 'johnson', 'help', 'need', 'vaccinate', 'second', 'still', 'spread', 'one', 'announce', 'pause'}\n"
          ]
        }
      ]
    },
    {
      "cell_type": "code",
      "source": [
        "threshold = 0.001\n",
        "sum_China_0, sum_USA_0, sum_China_USA_0 = community_check(community_bipart[0], freq_dict_China, freq_dict_USA, G_China, G_USA, threshold)\n",
        "sum_China_1, sum_USA_1, sum_China_USA_1 = community_check(community_bipart[1], freq_dict_China, freq_dict_USA, G_China, G_USA, threshold)\n",
        "\n",
        "print('First community:')\n",
        "print('China: ', round(100 * sum_China_0 / len(community_bipart[0])),'%')\n",
        "print('USA: ', round(100 * sum_USA_0 / len(community_bipart[0])),'%')\n",
        "print('China&USA: ', round(100 * sum_China_USA_0 / len(community_bipart[0])),'%')\n",
        "print()\n",
        "print('China: ', round(100 * sum_China_1 / len(community_bipart[1])),'%')\n",
        "print('USA: ', round(100 * sum_USA_1 / len(community_bipart[1])),'%')\n",
        "print('China&USA: ', round(100 * sum_China_USA_1 / len(community_bipart[1])),'%')"
      ],
      "metadata": {
        "id": "7wPUW6s2kih_",
        "colab": {
          "base_uri": "https://localhost:8080/"
        },
        "outputId": "8182bb3c-7c25-47cd-f04e-e6ad65a2ba37"
      },
      "execution_count": 28,
      "outputs": [
        {
          "output_type": "stream",
          "name": "stdout",
          "text": [
            "First community:\n",
            "China:  4 %\n",
            "USA:  7 %\n",
            "China&USA:  90 %\n",
            "\n",
            "China:  10 %\n",
            "USA:  2 %\n",
            "China&USA:  88 %\n"
          ]
        }
      ]
    },
    {
      "cell_type": "markdown",
      "source": [
        "**Metrics**"
      ],
      "metadata": {
        "id": "kmEIp7puDUnl"
      }
    },
    {
      "cell_type": "code",
      "source": [
        "_ = compute_metrics(G, community_bipart)"
      ],
      "metadata": {
        "colab": {
          "base_uri": "https://localhost:8080/"
        },
        "id": "h4XjYY0ODHJp",
        "outputId": "3dd1111d-3071-4b1c-b392-3976db7d4451"
      },
      "execution_count": 29,
      "outputs": [
        {
          "output_type": "stream",
          "name": "stdout",
          "text": [
            "Coverage:  0.7084312435379265\n",
            "Performance:  0.5357022658787618\n",
            "Modularity:  0.007131826085145357\n"
          ]
        }
      ]
    },
    {
      "cell_type": "markdown",
      "source": [
        "### Modularity-based communities\n",
        "Find communities in G using greedy modularity maximization."
      ],
      "metadata": {
        "id": "vb70Nj1kKIYb"
      }
    },
    {
      "cell_type": "code",
      "source": [
        "community_mod = community.greedy_modularity_communities(G, n_communities=2, weight='weight')\n",
        "\n",
        "community_mod_list = []\n",
        "for comm in community_mod:\n",
        " print(list(comm))\n",
        " community_mod_list.append(list(comm))"
      ],
      "metadata": {
        "id": "cEm-2UTOKSeB",
        "colab": {
          "base_uri": "https://localhost:8080/"
        },
        "outputId": "761e78c1-8ec5-4a1d-cf7d-6500e7e243a6"
      },
      "execution_count": 31,
      "outputs": [
        {
          "output_type": "stream",
          "name": "stdout",
          "text": [
            "['ask', 'small', 'say', 'leader', 'secretary', 'post', 'likely', 'team', 'well', 'whether', 'look', 'conference', 'next', 'positive', 'much', 'rule', 'california', 'house', 'soon', 'chief', 'press', 'test', 'stock', 'return', 'first', 'several', 'like', 'democratic', 'relief', 'republican', 'office', 'come', 'general', 'diagnosis', 'aid', 'remain', 'know', 'severe', 'turn', 'ahead', 'job', 'employee', 'adviser', 'nominee', 'vote', 'hope', 'move', 'condition', 'statement', 'push', 'contact', 'party', 'base', 'member', 'election', 'deal', 'trump', 'within', 'experience', 'military', 'fauci', 'information', 'limit', 'right', 'add', 'recovery', 'symptom', 'bill', 'mark', 'court', 'official', 'diagnose', 'top', 'provide', 'question', 'contract', 'event', 'joe', 'extend', 'news', 'also', 'president', 'breaking', 'critical', 'game', 'plan', 'doctor', 'lady', 'analysis', 'director', 'release', 'share', 'senior', 'vice', 'give', 'change', 'without', 'take', 'good', 'former', 'today', 'would', 'source', 'mike', 'campaign', 'white', 'person', 'behind', 'claim', 'administration', 'result', 'tell', 'debate', 'poll', 'staff', 'response', 'call', 'talk', 'lose', 'week', 'presidential', 'hold', 'negative', 'need', 'tweet', 'stop', 'think', 'still', 'announce']\n",
            "['street', 'prevention', 'facility', 'build', 'recover', 'city', 'contain', 'late', 'live', 'express', 'start', 'step', 'local', 'virus', 'resident', 'novel', 'home', 'hand', 'epidemic', 'meet', 'kill', 'life', 'china', 'epicenter', 'citizen', 'stand', 'read', 'stay', 'affect', 'put', 'group', 'die', 'leave', 'deadly', 'cause', 'ban', 'service', 'win', 'restaurant', 'department', 'update', 'follow', 'great', 'watch', 'battle', 'story', 'full', 'sale', 'authority', 'avoid', 'close', 'line', 'center', 'treatment', 'work', 'travel', 'school', 'amid', 'wear', 'donate', 'keep', 'visit', 'medium', 'confidence', 'try', 'infect', 'hospital', 'shut', 'least', 'treat', 'community', 'offer', 'foreign', 'outbreak', 'beijing', 'fight', 'medical', 'worker', 'business', 'hong', 'video', 'government', 'control', 'prevent', 'boost', 'combat', 'holiday', 'people', 'measure', 'already', 'effort', 'arrive', 'send', 'development', 'patient', 'mask', 'face', 'curb', 'protect', 'central', 'many', 'flight', 'support', 'disease', 'family', 'supply', 'social', 'pneumonia', 'help', 'suspend', 'care', 'place', 'demand', 'order', 'spread', 'capital', 'hundred', 'production']\n",
            "['toll', 'reach', 'past', 'record', 'wave', 'large', 'confirm', 'single', 'level', 'low', 'surge', 'system', 'commission', 'country', 'bring', 'italy', 'open', 'last', 'restriction', 'since', 'half', 'begin', 'region', 'third', 'less', 'brazil', 'month', 'data', 'day', 'rise', 'reopen', 'surpass', 'time', 'million', 'expect', 'administer', 'united', 'report', 'total', 'daily', 'france', 'australia', 'include', 'bad', 'hubei', 'force', 'area', 'infection', 'pass', 'ease', 'russia', 'hit', 'germany', 'see', 'hard', 'dos', 'french', 'province', 'hour', 'nearly', 'another', 'new', 'york', 'death', 'variant', 'drop', 'ministry', 'state', 'seven', 'national', 'india', 'increase', 'spike', 'warn', 'rate', 'almost', 'accord', 'slow', 'high', 'five', 'across', 'fall', 'three', 'case', 'governor', 'confirmed', 'outside', 'number', 'march', 'four', 'canada', 'second', 'two', 'export', 'one', 'set', 'discharge', 'decline']\n",
            "['produce', 'receive', 'exclusive', 'urge', 'volunteer', 'launch', 'may', 'show', 'trial', 'vaccination', 'use', 'woman', 'term', 'way', 'young', 'link', 'federal', 'free', 'blood', 'old', 'due', 'appear', 'long', 'side', 'cancel', 'delay', 'clinical', 'dose', 'antibody', 'stage', 'illness', 'deliver', 'get', 'man', 'back', 'develop', 'child', 'drug', 'rare', 'batch', 'effect', 'maker', 'scientist', 'student', 'six', 'population', 'researcher', 'make', 'risk', 'safety', 'end', 'university', 'agency', 'safe', 'sign', 'year', 'among', 'approve', 'find', 'clot', 'age', 'study', 'drive', 'part', 'adult', 'effective', 'medicine', 'regulator', 'shot', 'problem', 'candidate', 'potential', 'benefit', 'early', 'track', 'company', 'experimental', 'infectious', 'johnson', 'want', 'vaccinate', 'possible', 'committee', 'strong', 'pause']\n",
            "['become', 'economy', 'thousand', 'flu', 'war', 'human', 'challenge', 'bank', 'health', 'international', 'declare', 'major', 'billion', 'lead', 'race', 'seek', 'economic', 'issue', 'america', 'could', 'season', 'catch', 'join', 'fund', 'expert', 'emergency', 'big', 'nation', 'financial', 'pandemic', 'transmission', 'organization', 'impact', 'head', 'air', 'struggle', 'growth', 'far', 'grow', 'world', 'raise', 'loss', 'food', 'continue', 'crisis', 'yet', 'even', 'around', 'public', 'break', 'institute', 'concern', 'research', 'special', 'market', 'recent', 'global', 'asian']\n",
            "['allow', 'evacuate', 'industry', 'passenger', 'ship', 'quarantine', 'japan', 'cruise', 'despite', 'fear']\n",
            "['minister', 'korea', 'north', 'africa', 'prime', 'worry', 'south', 'british']\n"
          ]
        }
      ]
    },
    {
      "cell_type": "code",
      "source": [
        "threshold = 0.001\n",
        "for i in range(len(community_mod_list)):\n",
        "  sum_China, sum_USA, sum_China_USA = community_check(community_mod_list[i], freq_dict_China, freq_dict_USA, G_China, G_USA, threshold)\n",
        "  print('Community: ', i)\n",
        "  print('China: ', round(100 * sum_China / len(community_mod_list[i])),'%')\n",
        "  print('USA: ', round(100 * sum_USA / len(community_mod_list[i])),'%')\n",
        "  print('China&USA: ', round(100 * sum_China_USA / len(community_mod_list[i])),'%')\n",
        "  print()"
      ],
      "metadata": {
        "colab": {
          "base_uri": "https://localhost:8080/"
        },
        "id": "FQznkOANPScS",
        "outputId": "1f7ce953-5a8e-4f12-ff32-1b3bcb4fc8e4"
      },
      "execution_count": 32,
      "outputs": [
        {
          "output_type": "stream",
          "name": "stdout",
          "text": [
            "Community:  0\n",
            "China:  2 %\n",
            "USA:  10 %\n",
            "China&USA:  88 %\n",
            "\n",
            "Community:  1\n",
            "China:  12 %\n",
            "USA:  1 %\n",
            "China&USA:  87 %\n",
            "\n",
            "Community:  2\n",
            "China:  12 %\n",
            "USA:  3 %\n",
            "China&USA:  85 %\n",
            "\n",
            "Community:  3\n",
            "China:  2 %\n",
            "USA:  1 %\n",
            "China&USA:  96 %\n",
            "\n",
            "Community:  4\n",
            "China:  2 %\n",
            "USA:  3 %\n",
            "China&USA:  95 %\n",
            "\n",
            "Community:  5\n",
            "China:  10 %\n",
            "USA:  10 %\n",
            "China&USA:  80 %\n",
            "\n",
            "Community:  6\n",
            "China:  38 %\n",
            "USA:  12 %\n",
            "China&USA:  50 %\n",
            "\n"
          ]
        }
      ]
    },
    {
      "cell_type": "markdown",
      "source": [
        "**Metrics**"
      ],
      "metadata": {
        "id": "K-3SXDcYDaVJ"
      }
    },
    {
      "cell_type": "code",
      "source": [
        "_ = compute_metrics(G, community_mod_list)"
      ],
      "metadata": {
        "colab": {
          "base_uri": "https://localhost:8080/"
        },
        "outputId": "9393dee1-b2cf-440c-e30c-28f1929c93a0",
        "id": "-Jl2VWFGDaVJ"
      },
      "execution_count": 33,
      "outputs": [
        {
          "output_type": "stream",
          "name": "stdout",
          "text": [
            "Coverage:  0.36215809756556067\n",
            "Performance:  0.7797440613626581\n",
            "Modularity:  0.22075503010940023\n"
          ]
        }
      ]
    },
    {
      "cell_type": "markdown",
      "source": [
        "#### display"
      ],
      "metadata": {
        "id": "CAGwOqLOPZE5"
      }
    },
    {
      "cell_type": "code",
      "source": [
        "colors = list(G.nodes)\n",
        "i = 0\n",
        "dict_nodes = {}\n",
        "for node in colors:\n",
        "  if node in community_mod_list[0]:\n",
        "    colors[i] = 'violet'\n",
        "    dict_nodes[node] = 0\n",
        "  if node in community_mod_list[1]:\n",
        "    colors[i] = 'lightcoral'\n",
        "    dict_nodes[node] = 1\n",
        "  if node in community_mod_list[2]:\n",
        "    colors[i] = 'lawngreen'\n",
        "    dict_nodes[node] = 2\n",
        "  if node in community_mod_list[3]:\n",
        "    colors[i] = 'cyan'\n",
        "    dict_nodes[node] = 3\n",
        "  if node in community_mod_list[4]:\n",
        "    colors[i] = 'dodgerblue'\n",
        "    dict_nodes[node] = 4\n",
        "  i += 1"
      ],
      "metadata": {
        "id": "2o1KVsgtt3YI"
      },
      "execution_count": null,
      "outputs": []
    },
    {
      "cell_type": "code",
      "source": [
        "pos = community_layout(G, dict_nodes)\n",
        "fig = plt.figure(1, figsize=(200, 80), dpi=60)\n",
        "nx.draw_networkx(G, pos, node_color=colors, node_size=5000, with_labels=True,\n",
        "                 font_size =50,width=0.05)\n",
        "plt.show()"
      ],
      "metadata": {
        "id": "yEzWEa2ita5F"
      },
      "execution_count": null,
      "outputs": []
    },
    {
      "cell_type": "markdown",
      "source": [
        "### Louvain Community Detection\n",
        "Find the best partition of a graph using the Louvain Community Detection Algorithm."
      ],
      "metadata": {
        "id": "9OCXZZs0Lyet"
      }
    },
    {
      "cell_type": "code",
      "source": [
        "community_louv = community_louvain.best_partition(G,weight='weight')\n",
        "\n",
        "max = np.max(list(community_louv.values()))\n",
        "community_louvain_list = []\n",
        "for i in range(max+1):\n",
        "  community_louvain_list.append([])\n",
        "for key in list(community_louv.keys()):\n",
        "  community_louvain_list[community_louv[key]].append(key)\n",
        "for i in range(max+1):\n",
        "  print(community_louvain_list[i])"
      ],
      "metadata": {
        "id": "aLIzxRByL0h7",
        "colab": {
          "base_uri": "https://localhost:8080/"
        },
        "outputId": "7b781b45-fcc1-425b-b817-ba715d172521"
      },
      "execution_count": 34,
      "outputs": [
        {
          "output_type": "stream",
          "name": "stdout",
          "text": [
            "['continue', 'reach', 'fall', 'case', 'million', 'death', 'accord', 'new', 'state', 'united', 'hard', 'confirm', 'half', 'country', 'across', 'nation', 'since', 'arrive', 'nearly', 'third', 'number', 'drop', 'day', 'include', 'australia', 'daily', 'week', 'almost', 'total', 'begin', 'one', 'national', 'commission', 'high', 'start', 'three', 'increase', 'second', 'slow', 'confirmed', 'see', 'far', 'report', 'toll', 'another', 'infection', 'bring', 'ministry', 'rate', 'last', 'receive', 'russia', 'month', 'two', 'warn', 'time', 'rise', 'set', 'capital', 'low', 'single', 'hour', 'restriction', 'region', 'place', 'past', 'five', 'launch', 'level', 'hit', 'area', 'expect', 'germany', 'march', 'force', 'drive', 'brazil', 'pass', 'record', 'ease', 'recent', 'open', 'batch', 'administer', 'dos', 'vaccination', 'population', 'wave', 'surge', 'export', 'york', 'india', 'france', 'canada', 'french', 'surpass', 'school', 'italy', 'governor', 'four', 'less', 'reopen', 'spike', 'seven', 'decline', 'bad', 'variant']\n",
            "['cruise', 'ship', 'japan', 'allow', 'leave', 'evacuate', 'despite', 'quarantine', 'passenger', 'fear']\n",
            "['world', 'expert', 'health', 'organization', 'lead', 'international', 'system', 'minister', 'issue', 'bank', 'prime', 'concern', 'public', 'emergency', 'grow', 'british', 'crisis', 'declare', 'yet', 'worry']\n",
            "['university', 'student', 'data', 'among', 'head', 'show', 'trial', 'vaccinate', 'make', 'risk', 'drug', 'medicine', 'get', 'possible', 'deliver', 'use', 'part', 'find', 'may', 'exclusive', 'sign', 'company', 'clinical', 'scientist', 'safe', 'long', 'follow', 'volunteer', 'early', 'develop', 'urge', 'prevent', 'produce', 'study', 'child', 'effective', 'appear', 'six', 'illness', 'term', 'stage', 'result', 'side', 'experimental', 'approve', 'candidate', 'dose', 'shot', 'potential', 'age', 'young', 'free', 'effect', 'blood', 'rare', 'clot', 'johnson', 'adult', 'agency', 'link', 'regulator', 'safety', 'antibody', 'pause', 'researcher', 'want', 'problem', 'committee', 'federal', 'benefit']\n",
            "['china', 'novel', 'outbreak', 'global', 'people', 'medical', 'virus', 'challenge', 'face', 'human', 'medium', 'watch', 'great', 'outside', 'live', 'worker', 'line', 'central', 'epicenter', 'late', 'hubei', 'province', 'support', 'local', 'hospital', 'help', 'fight', 'express', 'contain', 'epidemic', 'supply', 'research', 'try', 'effort', 'send', 'amid', 'offer', 'foreign', 'mask', 'donate', 'critical', 'condition', 'work', 'service', 'industry', 'combat', 'business', 'treatment', 'transmission', 'update', 'around', 'raise', 'woman', 'development', 'end', 'die', 'measure', 'home', 'city', 'fund', 'battle', 'billion', 'win', 'meet', 'due', 'big', 'authority', 'beijing', 'pneumonia', 'economy', 'many', 'stand', 'infect', 'family', 'patient', 'spread', 'protect', 'already', 'production', 'join', 'year', 'old', 'discharge', 'affect', 'growth', 'put', 'full', 'recover', 'keep', 'citizen', 'doctor', 'close', 'impact', 'government', 'air', 'group', 'hong', 'economic', 'major', 'cause', 'holiday', 'curb', 'stay', 'strong', 'man', 'build', 'ban', 'flight', 'suspend', 'confidence', 'travel', 'social', 'large', 'least', 'break', 'special', 'facility', 'read', 'resident', 'story', 'department', 'deadly', 'order', 'war', 'demand', 'treat', 'cancel', 'hundred', 'visit', 'sale', 'life', 'market', 'hand', 'step', 'community', 'asian', 'kill', 'thousand', 'boost', 'street', 'shut', 'care', 'wear', 'severe', 'restaurant', 'maker']\n",
            "['track', 'infectious', 'disease', 'prevention', 'control', 'south', 'center', 'korea', 'africa', 'institute', 'north']\n",
            "['talk', 'deal', 'president', 'trump', 'say', 'relief', 'house', 'aid', 'secretary', 'first', 'test', 'positive', 'person', 'pandemic', 'take', 'announce', 'team', 'information', 'office', 'chief', 'give', 'share', 'official', 'hold', 'back', 'plan', 'food', 'come', 'behind', 'post', 'response', 'diagnose', 'much', 'leader', 'also', 'press', 'conference', 'soon', 'call', 'need', 'become', 'former', 'ask', 'symptom', 'loss', 'could', 'stop', 'statement', 'flu', 'top', 'change', 'recovery', 'video', 'general', 'look', 'director', 'tell', 'vice', 'good', 'provide', 'employee', 'would', 'still', 'way', 'return', 'base', 'news', 'add', 'know', 'party', 'race', 'within', 'staff', 'source', 'military', 'experience', 'release', 'extend', 'like', 'remain', 'senior', 'analysis', 'stock', 'move', 'avoid', 'claim', 'likely', 'administration', 'campaign', 'seek', 'push', 'california', 'white', 'election', 'limit', 'contact', 'negative', 'hope', 'contract', 'turn', 'several', 'think', 'lose', 'today', 'fauci', 'mark', 'even', 'without', 'diagnosis', 'next', 'season', 'lady', 'presidential', 'debate', 'america', 'tweet', 'rule', 'event', 'vote', 'mike', 'question', 'adviser', 'joe', 'court', 'nominee', 'republican', 'well', 'delay', 'democratic', 'breaking', 'member', 'job', 'ahead', 'game', 'catch', 'struggle', 'bill', 'small', 'poll', 'right', 'financial', 'whether']\n"
          ]
        }
      ]
    },
    {
      "cell_type": "code",
      "source": [
        "threshold = 0.001\n",
        "for i in range(len(community_louvain_list)):\n",
        "  sum_China, sum_USA, sum_China_USA = community_check(community_louvain_list[i], freq_dict_China, freq_dict_USA, G_China, G_USA, threshold)\n",
        "  print('Community: ', i)\n",
        "  print('China: ', round(100 * sum_China / len(community_louvain_list[i])),'%')\n",
        "  print('USA: ', round(100 * sum_USA / len(community_louvain_list[i])),'%')\n",
        "  print('China&USA: ', round(100 * sum_China_USA / len(community_louvain_list[i])),'%')\n",
        "  print()"
      ],
      "metadata": {
        "colab": {
          "base_uri": "https://localhost:8080/"
        },
        "id": "_lgezV3ERSRf",
        "outputId": "999fd649-a2f4-4513-efad-9e4e61de4248"
      },
      "execution_count": 38,
      "outputs": [
        {
          "output_type": "stream",
          "name": "stdout",
          "text": [
            "Community:  0\n",
            "China:  11 %\n",
            "USA:  3 %\n",
            "China&USA:  86 %\n",
            "\n",
            "Community:  1\n",
            "China:  10 %\n",
            "USA:  10 %\n",
            "China&USA:  80 %\n",
            "\n",
            "Community:  2\n",
            "China:  0 %\n",
            "USA:  5 %\n",
            "China&USA:  95 %\n",
            "\n",
            "Community:  3\n",
            "China:  1 %\n",
            "USA:  0 %\n",
            "China&USA:  99 %\n",
            "\n",
            "Community:  4\n",
            "China:  10 %\n",
            "USA:  1 %\n",
            "China&USA:  88 %\n",
            "\n",
            "Community:  5\n",
            "China:  36 %\n",
            "USA:  0 %\n",
            "China&USA:  64 %\n",
            "\n",
            "Community:  6\n",
            "China:  1 %\n",
            "USA:  11 %\n",
            "China&USA:  88 %\n",
            "\n"
          ]
        }
      ]
    },
    {
      "cell_type": "markdown",
      "source": [
        "**Metrics**"
      ],
      "metadata": {
        "id": "ZuIZc128DpDf"
      }
    },
    {
      "cell_type": "code",
      "source": [
        "_ = compute_metrics(G, community_louvain_list)"
      ],
      "metadata": {
        "colab": {
          "base_uri": "https://localhost:8080/"
        },
        "outputId": "68c4b13e-0b1c-4bf2-bae2-a352c5473f54",
        "id": "m99w9j3_DpDg"
      },
      "execution_count": 39,
      "outputs": [
        {
          "output_type": "stream",
          "name": "stdout",
          "text": [
            "Coverage:  0.38293072657204624\n",
            "Performance:  0.7537432004069973\n",
            "Modularity:  0.21918965497213178\n"
          ]
        }
      ]
    },
    {
      "cell_type": "markdown",
      "source": [
        "#### display"
      ],
      "metadata": {
        "id": "l41mBBOXPjmG"
      }
    },
    {
      "cell_type": "code",
      "source": [
        "colors = list(community_louv.values())\n",
        "\n",
        "colors[:] = [x if x != 0 else 'violet' for x in colors]\n",
        "colors[:] = [x if x != 1 else 'dodgerblue' for x in colors]\n",
        "colors[:] = [x if x != 2 else 'lawngreen' for x in colors]\n",
        "colors[:] = [x if x != 3 else 'pink' for x in colors]\n",
        "colors[:] = [x if x != 4 else 'lightcoral' for x in colors]\n",
        "colors[:] = [x if x != 5 else 'cyan' for x in colors]"
      ],
      "metadata": {
        "id": "u7jPyEnbp25L"
      },
      "execution_count": null,
      "outputs": []
    },
    {
      "cell_type": "code",
      "source": [
        "pos = community_layout(G, community_louv)\n",
        "fig = plt.figure(1, figsize=(200, 80), dpi=60)\n",
        "nx.draw_networkx(G, pos, node_color=colors, node_size=5000, with_labels=True,\n",
        "                 font_size =50,width=0.05)\n",
        "plt.show()"
      ],
      "metadata": {
        "id": "F8xKR5jfcb_3"
      },
      "execution_count": null,
      "outputs": []
    },
    {
      "cell_type": "markdown",
      "source": [
        "### Dendogram"
      ],
      "metadata": {
        "id": "wx0btxUosYhr"
      }
    },
    {
      "cell_type": "code",
      "source": [
        "paris = Paris()\n",
        "adjacency = nx.convert_matrix.to_numpy_array(G_reduced, nodelist = list(G_reduced.nodes))\n",
        "dendrogram = paris.fit_transform(adjacency)\n",
        "\n",
        "names = list(G_reduced.nodes)\n",
        "image = svg_dendrogram(dendrogram, names, n_clusters=2, rotate=False,width=1000,height=500,filename='community_dendogram2_all_periods')\n",
        "SVG(image)"
      ],
      "metadata": {
        "id": "_QjOOantsbXd",
        "colab": {
          "base_uri": "https://localhost:8080/",
          "height": 0
        },
        "outputId": "b6360b4a-6bc0-4496-8ef1-d4da8d333536"
      },
      "execution_count": 562,
      "outputs": [
        {
          "output_type": "execute_result",
          "data": {
            "text/plain": [
              "<IPython.core.display.SVG object>"
            ],
            "image/svg+xml": "<svg height=\"597.0\" width=\"1020\" xmlns=\"http://www.w3.org/2000/svg\"><text font-size=\"12\" transform=\"rotate(60, 650.4545454545455, 515)\" x=\"650.4545454545455\" y=\"515\">china</text><text font-size=\"12\" transform=\"rotate(60, 641.3636363636364, 515)\" x=\"641.3636363636364\" y=\"515\">novel</text><text font-size=\"12\" transform=\"rotate(60, 614.0909090909091, 515)\" x=\"614.0909090909091\" y=\"515\">outbreak</text><text font-size=\"12\" transform=\"rotate(60, 159.54545454545456, 515)\" x=\"159.54545454545456\" y=\"515\">president</text><text font-size=\"12\" transform=\"rotate(60, 514.0909090909091, 515)\" x=\"514.0909090909091\" y=\"515\">global</text><text font-size=\"12\" transform=\"rotate(60, 150.45454545454547, 515)\" x=\"150.45454545454547\" y=\"515\">trump</text><text font-size=\"12\" transform=\"rotate(60, 250.45454545454547, 515)\" x=\"250.45454545454547\" y=\"515\">say</text><text font-size=\"12\" transform=\"rotate(60, 141.36363636363637, 515)\" x=\"141.36363636363637\" y=\"515\">house</text><text font-size=\"12\" transform=\"rotate(60, 741.3636363636364, 515)\" x=\"741.3636363636364\" y=\"515\">people</text><text font-size=\"12\" transform=\"rotate(60, 495.90909090909093, 515)\" x=\"495.90909090909093\" y=\"515\">world</text><text font-size=\"12\" transform=\"rotate(60, 659.5454545454546, 515)\" x=\"659.5454545454546\" y=\"515\">medical</text><text font-size=\"12\" transform=\"rotate(60, 177.72727272727275, 515)\" x=\"177.72727272727275\" y=\"515\">first</text><text font-size=\"12\" transform=\"rotate(60, 714.0909090909091, 515)\" x=\"714.0909090909091\" y=\"515\">virus</text><text font-size=\"12\" transform=\"rotate(60, 832.2727272727274, 515)\" x=\"832.2727272727274\" y=\"515\">case</text><text font-size=\"12\" transform=\"rotate(60, 123.18181818181819, 515)\" x=\"123.18181818181819\" y=\"515\">test</text><text font-size=\"12\" transform=\"rotate(60, 114.0909090909091, 515)\" x=\"114.0909090909091\" y=\"515\">positive</text><text font-size=\"12\" transform=\"rotate(60, 395.90909090909093, 515)\" x=\"395.90909090909093\" y=\"515\">data</text><text font-size=\"12\" transform=\"rotate(60, 450.4545454545455, 515)\" x=\"450.4545454545455\" y=\"515\">million</text><text font-size=\"12\" transform=\"rotate(60, 795.909090909091, 515)\" x=\"795.909090909091\" y=\"515\">death</text><text font-size=\"12\" transform=\"rotate(60, 477.72727272727275, 515)\" x=\"477.72727272727275\" y=\"515\">accord</text><text font-size=\"12\" transform=\"rotate(60, 868.6363636363637, 515)\" x=\"868.6363636363637\" y=\"515\">new</text><text font-size=\"12\" transform=\"rotate(60, 386.81818181818187, 515)\" x=\"386.81818181818187\" y=\"515\">show</text><text font-size=\"12\" transform=\"rotate(60, 405.00000000000006, 515)\" x=\"405.00000000000006\" y=\"515\">trial</text><text font-size=\"12\" transform=\"rotate(60, 77.72727272727273, 515)\" x=\"77.72727272727273\" y=\"515\">state</text><text font-size=\"12\" transform=\"rotate(60, 305.0, 515)\" x=\"305.0\" y=\"515\">make</text><text font-size=\"12\" transform=\"rotate(60, 559.5454545454546, 515)\" x=\"559.5454545454546\" y=\"515\">face</text><text font-size=\"12\" transform=\"rotate(60, 268.6363636363637, 515)\" x=\"268.6363636363637\" y=\"515\">expert</text><text font-size=\"12\" transform=\"rotate(60, 541.3636363636364, 515)\" x=\"541.3636363636364\" y=\"515\">pandemic</text><text font-size=\"12\" transform=\"rotate(60, 195.90909090909093, 515)\" x=\"195.90909090909093\" y=\"515\">disease</text><text font-size=\"12\" transform=\"rotate(60, 986.8181818181819, 515)\" x=\"986.8181818181819\" y=\"515\">take</text><text font-size=\"12\" transform=\"rotate(60, 486.81818181818187, 515)\" x=\"486.81818181818187\" y=\"515\">health</text><text font-size=\"12\" transform=\"rotate(60, 505.00000000000006, 515)\" x=\"505.00000000000006\" y=\"515\">organization</text><text font-size=\"12\" transform=\"rotate(60, 68.63636363636364, 515)\" x=\"68.63636363636364\" y=\"515\">announce</text><text font-size=\"12\" transform=\"rotate(60, 823.1818181818182, 515)\" x=\"823.1818181818182\" y=\"515\">confirm</text><text font-size=\"12\" transform=\"rotate(60, 105.00000000000001, 515)\" x=\"105.00000000000001\" y=\"515\">cruise</text><text font-size=\"12\" transform=\"rotate(60, 95.90909090909092, 515)\" x=\"95.90909090909092\" y=\"515\">ship</text><text font-size=\"12\" transform=\"rotate(60, 432.2727272727273, 515)\" x=\"432.2727272727273\" y=\"515\">country</text><text font-size=\"12\" transform=\"rotate(60, 586.8181818181819, 515)\" x=\"586.8181818181819\" y=\"515\">live</text><text font-size=\"12\" transform=\"rotate(60, 186.81818181818184, 515)\" x=\"186.81818181818184\" y=\"515\">since</text><text font-size=\"12\" transform=\"rotate(60, 595.909090909091, 515)\" x=\"595.909090909091\" y=\"515\">late</text><text font-size=\"12\" transform=\"rotate(60, 632.2727272727274, 515)\" x=\"632.2727272727274\" y=\"515\">hubei</text><text font-size=\"12\" transform=\"rotate(60, 623.1818181818182, 515)\" x=\"623.1818181818182\" y=\"515\">province</text><text font-size=\"12\" transform=\"rotate(60, 768.6363636363637, 515)\" x=\"768.6363636363637\" y=\"515\">hospital</text><text font-size=\"12\" transform=\"rotate(60, 668.6363636363637, 515)\" x=\"668.6363636363637\" y=\"515\">help</text><text font-size=\"12\" transform=\"rotate(60, 677.7272727272727, 515)\" x=\"677.7272727272727\" y=\"515\">fight</text><text font-size=\"12\" transform=\"rotate(60, 923.1818181818182, 515)\" x=\"923.1818181818182\" y=\"515\">risk</text><text font-size=\"12\" transform=\"rotate(60, 605.0, 515)\" x=\"605.0\" y=\"515\">amid</text><text font-size=\"12\" transform=\"rotate(60, 841.3636363636365, 515)\" x=\"841.3636363636365\" y=\"515\">number</text><text font-size=\"12\" transform=\"rotate(60, 995.909090909091, 515)\" x=\"995.909090909091\" y=\"515\">day</text><text font-size=\"12\" transform=\"rotate(60, 423.18181818181824, 515)\" x=\"423.18181818181824\" y=\"515\">minister</text><text font-size=\"12\" transform=\"rotate(60, 968.6363636363637, 515)\" x=\"968.6363636363637\" y=\"515\">include</text><text font-size=\"12\" transform=\"rotate(60, 550.4545454545455, 515)\" x=\"550.4545454545455\" y=\"515\">mask</text><text font-size=\"12\" transform=\"rotate(60, 223.1818181818182, 515)\" x=\"223.1818181818182\" y=\"515\">official</text><text font-size=\"12\" transform=\"rotate(60, 941.3636363636365, 515)\" x=\"941.3636363636365\" y=\"515\">daily</text><text font-size=\"12\" transform=\"rotate(60, 214.09090909090912, 515)\" x=\"214.09090909090912\" y=\"515\">control</text><text font-size=\"12\" transform=\"rotate(60, 23.181818181818183, 515)\" x=\"23.181818181818183\" y=\"515\">week</text><text font-size=\"12\" transform=\"rotate(60, 850.4545454545455, 515)\" x=\"850.4545454545455\" y=\"515\">total</text><text font-size=\"12\" transform=\"rotate(60, 286.81818181818187, 515)\" x=\"286.81818181818187\" y=\"515\">back</text><text font-size=\"12\" transform=\"rotate(60, 277.72727272727275, 515)\" x=\"277.72727272727275\" y=\"515\">work</text><text font-size=\"12\" transform=\"rotate(60, 977.7272727272729, 515)\" x=\"977.7272727272729\" y=\"515\">one</text><text font-size=\"12\" transform=\"rotate(60, 295.90909090909093, 515)\" x=\"295.90909090909093\" y=\"515\">get</text><text font-size=\"12\" transform=\"rotate(60, 468.6363636363637, 515)\" x=\"468.6363636363637\" y=\"515\">national</text><text font-size=\"12\" transform=\"rotate(60, 914.0909090909091, 515)\" x=\"914.0909090909091\" y=\"515\">high</text><text font-size=\"12\" transform=\"rotate(60, 350.4545454545455, 515)\" x=\"350.4545454545455\" y=\"515\">use</text><text font-size=\"12\" transform=\"rotate(60, 732.2727272727274, 515)\" x=\"732.2727272727274\" y=\"515\">die</text><text font-size=\"12\" transform=\"rotate(60, 686.8181818181819, 515)\" x=\"686.8181818181819\" y=\"515\">city</text><text font-size=\"12\" transform=\"rotate(60, 414.0909090909091, 515)\" x=\"414.0909090909091\" y=\"515\">second</text><text font-size=\"12\" transform=\"rotate(60, 532.2727272727274, 515)\" x=\"532.2727272727274\" y=\"515\">due</text><text font-size=\"12\" transform=\"rotate(60, 695.909090909091, 515)\" x=\"695.909090909091\" y=\"515\">authority</text><text font-size=\"12\" transform=\"rotate(60, 377.72727272727275, 515)\" x=\"377.72727272727275\" y=\"515\">find</text><text font-size=\"12\" transform=\"rotate(60, 241.36363636363637, 515)\" x=\"241.36363636363637\" y=\"515\">may</text><text font-size=\"12\" transform=\"rotate(60, 786.8181818181819, 515)\" x=\"786.8181818181819\" y=\"515\">infect</text><text font-size=\"12\" transform=\"rotate(60, 959.5454545454546, 515)\" x=\"959.5454545454546\" y=\"515\">see</text><text font-size=\"12\" transform=\"rotate(60, 777.7272727272727, 515)\" x=\"777.7272727272727\" y=\"515\">patient</text><text font-size=\"12\" transform=\"rotate(60, 705.0000000000001, 515)\" x=\"705.0000000000001\" y=\"515\">spread</text><text font-size=\"12\" transform=\"rotate(60, 750.4545454545455, 515)\" x=\"750.4545454545455\" y=\"515\">year</text><text font-size=\"12\" transform=\"rotate(60, 759.5454545454546, 515)\" x=\"759.5454545454546\" y=\"515\">old</text><text font-size=\"12\" transform=\"rotate(60, 859.5454545454546, 515)\" x=\"859.5454545454546\" y=\"515\">report</text><text font-size=\"12\" transform=\"rotate(60, 805.0000000000001, 515)\" x=\"805.0000000000001\" y=\"515\">toll</text><text font-size=\"12\" transform=\"rotate(60, 877.7272727272727, 515)\" x=\"877.7272727272727\" y=\"515\">infection</text><text font-size=\"12\" transform=\"rotate(60, 723.1818181818182, 515)\" x=\"723.1818181818182\" y=\"515\">doctor</text><text font-size=\"12\" transform=\"rotate(60, 523.1818181818182, 515)\" x=\"523.1818181818182\" y=\"515\">close</text><text font-size=\"12\" transform=\"rotate(60, 32.27272727272727, 515)\" x=\"32.27272727272727\" y=\"515\">last</text><text font-size=\"12\" transform=\"rotate(60, 259.54545454545456, 515)\" x=\"259.54545454545456\" y=\"515\">could</text><text font-size=\"12\" transform=\"rotate(60, 459.54545454545456, 515)\" x=\"459.54545454545456\" y=\"515\">receive</text><text font-size=\"12\" transform=\"rotate(60, 41.36363636363637, 515)\" x=\"41.36363636363637\" y=\"515\">government</text><text font-size=\"12\" transform=\"rotate(60, 86.81818181818183, 515)\" x=\"86.81818181818183\" y=\"515\">quarantine</text><text font-size=\"12\" transform=\"rotate(60, 232.27272727272728, 515)\" x=\"232.27272727272728\" y=\"515\">top</text><text font-size=\"12\" transform=\"rotate(60, 14.090909090909093, 515)\" x=\"14.090909090909093\" y=\"515\">month</text><text font-size=\"12\" transform=\"rotate(60, 5.0, 515)\" x=\"5.0\" y=\"515\">two</text><text font-size=\"12\" transform=\"rotate(60, 568.6363636363637, 515)\" x=\"568.6363636363637\" y=\"515\">public</text><text font-size=\"12\" transform=\"rotate(60, 359.54545454545456, 515)\" x=\"359.54545454545456\" y=\"515\">emergency</text><text font-size=\"12\" transform=\"rotate(60, 577.7272727272727, 515)\" x=\"577.7272727272727\" y=\"515\">follow</text><text font-size=\"12\" transform=\"rotate(60, 168.63636363636365, 515)\" x=\"168.63636363636365\" y=\"515\">time</text><text font-size=\"12\" transform=\"rotate(60, 905.0000000000001, 515)\" x=\"905.0000000000001\" y=\"515\">rise</text><text font-size=\"12\" transform=\"rotate(60, 59.54545454545455, 515)\" x=\"59.54545454545455\" y=\"515\">travel</text><text font-size=\"12\" transform=\"rotate(60, 50.45454545454546, 515)\" x=\"50.45454545454546\" y=\"515\">restriction</text><text font-size=\"12\" transform=\"rotate(60, 205.00000000000003, 515)\" x=\"205.00000000000003\" y=\"515\">center</text><text font-size=\"12\" transform=\"rotate(60, 368.6363636363637, 515)\" x=\"368.6363636363637\" y=\"515\">study</text><text font-size=\"12\" transform=\"rotate(60, 932.2727272727274, 515)\" x=\"932.2727272727274\" y=\"515\">hit</text><text font-size=\"12\" transform=\"rotate(60, 814.0909090909091, 515)\" x=\"814.0909090909091\" y=\"515\">brazil</text><text font-size=\"12\" transform=\"rotate(60, 950.4545454545455, 515)\" x=\"950.4545454545455\" y=\"515\">record</text><text font-size=\"12\" transform=\"rotate(60, 441.3636363636364, 515)\" x=\"441.3636363636364\" y=\"515\">dos</text><text font-size=\"12\" transform=\"rotate(60, 314.0909090909091, 515)\" x=\"314.0909090909091\" y=\"515\">shot</text><text font-size=\"12\" transform=\"rotate(60, 132.27272727272728, 515)\" x=\"132.27272727272728\" y=\"515\">white</text><text font-size=\"12\" transform=\"rotate(60, 895.909090909091, 515)\" x=\"895.909090909091\" y=\"515\">surge</text><text font-size=\"12\" transform=\"rotate(60, 886.8181818181819, 515)\" x=\"886.8181818181819\" y=\"515\">india</text><text font-size=\"12\" transform=\"rotate(60, 341.3636363636364, 515)\" x=\"341.3636363636364\" y=\"515\">blood</text><text font-size=\"12\" transform=\"rotate(60, 332.2727272727273, 515)\" x=\"332.2727272727273\" y=\"515\">clot</text><text font-size=\"12\" transform=\"rotate(60, 323.1818181818182, 515)\" x=\"323.1818181818182\" y=\"515\">johnson</text><path d=\"M 337.2727272727273 510 337.2727272727273 505.223654343176\" stroke=\"blue\" stroke-width=\"2\"/><path d=\"M 346.3636363636364 510 346.3636363636364 505.223654343176\" stroke=\"blue\" stroke-width=\"2\"/><path d=\"M 337.2727272727273 505.223654343176 346.3636363636364 505.223654343176\" stroke=\"blue\" stroke-width=\"2\"/><path d=\"M 100.90909090909092 510 100.90909090909092 504.9339043887741\" stroke=\"blue\" stroke-width=\"2\"/><path d=\"M 110.00000000000001 510 110.00000000000001 504.9339043887741\" stroke=\"blue\" stroke-width=\"2\"/><path d=\"M 100.90909090909092 504.9339043887741 110.00000000000001 504.9339043887741\" stroke=\"blue\" stroke-width=\"2\"/><path d=\"M 555.4545454545455 510 555.4545454545455 493.33189949737084\" stroke=\"blue\" stroke-width=\"2\"/><path d=\"M 564.5454545454546 510 564.5454545454546 493.33189949737084\" stroke=\"blue\" stroke-width=\"2\"/><path d=\"M 555.4545454545455 493.33189949737084 564.5454545454546 493.33189949737084\" stroke=\"blue\" stroke-width=\"2\"/><path d=\"M 137.27272727272728 510 137.27272727272728 492.5622056634425\" stroke=\"blue\" stroke-width=\"2\"/><path d=\"M 146.36363636363637 510 146.36363636363637 492.5622056634425\" stroke=\"blue\" stroke-width=\"2\"/><path d=\"M 137.27272727272728 492.5622056634425 146.36363636363637 492.5622056634425\" stroke=\"blue\" stroke-width=\"2\"/><path d=\"M 628.1818181818182 510 628.1818181818182 490.5473751104885\" stroke=\"blue\" stroke-width=\"2\"/><path d=\"M 637.2727272727274 510 637.2727272727274 490.5473751104885\" stroke=\"blue\" stroke-width=\"2\"/><path d=\"M 628.1818181818182 490.5473751104885 637.2727272727274 490.5473751104885\" stroke=\"blue\" stroke-width=\"2\"/><path d=\"M 210.00000000000003 510 210.00000000000003 490.0998506770439\" stroke=\"blue\" stroke-width=\"2\"/><path d=\"M 219.09090909090912 510 219.09090909090912 490.0998506770439\" stroke=\"blue\" stroke-width=\"2\"/><path d=\"M 210.00000000000003 490.0998506770439 219.09090909090912 490.0998506770439\" stroke=\"blue\" stroke-width=\"2\"/><path d=\"M 373.6363636363637 510 373.6363636363637 489.78692357357295\" stroke=\"blue\" stroke-width=\"2\"/><path d=\"M 382.72727272727275 510 382.72727272727275 489.78692357357295\" stroke=\"blue\" stroke-width=\"2\"/><path d=\"M 373.6363636363637 489.78692357357295 382.72727272727275 489.78692357357295\" stroke=\"blue\" stroke-width=\"2\"/><path d=\"M 355.4545454545455 510 355.4545454545455 489.2737631053899\" stroke=\"blue\" stroke-width=\"2\"/><path d=\"M 364.54545454545456 510 364.54545454545456 489.2737631053899\" stroke=\"blue\" stroke-width=\"2\"/><path d=\"M 355.4545454545455 489.2737631053899 364.54545454545456 489.2737631053899\" stroke=\"blue\" stroke-width=\"2\"/><path d=\"M 446.3636363636364 510 446.3636363636364 488.2057243466458\" stroke=\"blue\" stroke-width=\"2\"/><path d=\"M 455.4545454545455 510 455.4545454545455 488.2057243466458\" stroke=\"blue\" stroke-width=\"2\"/><path d=\"M 446.3636363636364 488.2057243466458 455.4545454545455 488.2057243466458\" stroke=\"blue\" stroke-width=\"2\"/><path d=\"M 755.4545454545455 510 755.4545454545455 486.76762077983074\" stroke=\"blue\" stroke-width=\"2\"/><path d=\"M 764.5454545454546 510 764.5454545454546 486.76762077983074\" stroke=\"blue\" stroke-width=\"2\"/><path d=\"M 755.4545454545455 486.76762077983074 764.5454545454546 486.76762077983074\" stroke=\"blue\" stroke-width=\"2\"/><path d=\"M 91.81818181818183 510 91.81818181818183 486.5818944824582\" stroke=\"blue\" stroke-width=\"2\"/><path d=\"M 105.45454545454547 504.9339043887741 105.45454545454547 486.5818944824582\" stroke=\"blue\" stroke-width=\"2\"/><path d=\"M 91.81818181818183 486.5818944824582 105.45454545454547 486.5818944824582\" stroke=\"blue\" stroke-width=\"2\"/><path d=\"M 400.90909090909093 510 400.90909090909093 485.8737715792222\" stroke=\"blue\" stroke-width=\"2\"/><path d=\"M 410.00000000000006 510 410.00000000000006 485.8737715792222\" stroke=\"blue\" stroke-width=\"2\"/><path d=\"M 400.90909090909093 485.8737715792222 410.00000000000006 485.8737715792222\" stroke=\"blue\" stroke-width=\"2\"/><path d=\"M 328.1818181818182 510 328.1818181818182 485.8400424342858\" stroke=\"blue\" stroke-width=\"2\"/><path d=\"M 341.81818181818187 505.223654343176 341.81818181818187 485.8400424342858\" stroke=\"blue\" stroke-width=\"2\"/><path d=\"M 328.1818181818182 485.8400424342858 341.81818181818187 485.8400424342858\" stroke=\"blue\" stroke-width=\"2\"/><path d=\"M 500.90909090909093 510 500.90909090909093 485.065649587585\" stroke=\"blue\" stroke-width=\"2\"/><path d=\"M 510.00000000000006 510 510.00000000000006 485.065649587585\" stroke=\"blue\" stroke-width=\"2\"/><path d=\"M 500.90909090909093 485.065649587585 510.00000000000006 485.065649587585\" stroke=\"blue\" stroke-width=\"2\"/><path d=\"M 200.90909090909093 510 200.90909090909093 484.40488985970285\" stroke=\"blue\" stroke-width=\"2\"/><path d=\"M 214.54545454545456 490.0998506770439 214.54545454545456 484.40488985970285\" stroke=\"blue\" stroke-width=\"2\"/><path d=\"M 200.90909090909093 484.40488985970285 214.54545454545456 484.40488985970285\" stroke=\"blue\" stroke-width=\"2\"/><path d=\"M 319.0909090909091 510 319.0909090909091 477.03343076020326\" stroke=\"blue\" stroke-width=\"2\"/><path d=\"M 335.0 485.8400424342858 335.0 477.03343076020326\" stroke=\"blue\" stroke-width=\"2\"/><path d=\"M 319.0909090909091 477.03343076020326 335.0 477.03343076020326\" stroke=\"blue\" stroke-width=\"2\"/><path d=\"M 773.6363636363637 510 773.6363636363637 475.0964934631975\" stroke=\"blue\" stroke-width=\"2\"/><path d=\"M 782.7272727272727 510 782.7272727272727 475.0964934631975\" stroke=\"blue\" stroke-width=\"2\"/><path d=\"M 773.6363636363637 475.0964934631975 782.7272727272727 475.0964934631975\" stroke=\"blue\" stroke-width=\"2\"/><path d=\"M 119.0909090909091 510 119.0909090909091 473.8238920766332\" stroke=\"blue\" stroke-width=\"2\"/><path d=\"M 128.1818181818182 510 128.1818181818182 473.8238920766332\" stroke=\"blue\" stroke-width=\"2\"/><path d=\"M 119.0909090909091 473.8238920766332 128.1818181818182 473.8238920766332\" stroke=\"blue\" stroke-width=\"2\"/><path d=\"M 582.7272727272727 510 582.7272727272727 471.3732943071033\" stroke=\"blue\" stroke-width=\"2\"/><path d=\"M 591.8181818181819 510 591.8181818181819 471.3732943071033\" stroke=\"blue\" stroke-width=\"2\"/><path d=\"M 582.7272727272727 471.3732943071033 591.8181818181819 471.3732943071033\" stroke=\"blue\" stroke-width=\"2\"/><path d=\"M 946.3636363636365 510 946.3636363636365 471.07367734363663\" stroke=\"red\" stroke-width=\"2\"/><path d=\"M 955.4545454545455 510 955.4545454545455 471.07367734363663\" stroke=\"red\" stroke-width=\"2\"/><path d=\"M 946.3636363636365 471.07367734363663 955.4545454545455 471.07367734363663\" stroke=\"red\" stroke-width=\"2\"/><path d=\"M 800.909090909091 510 800.909090909091 469.31861109769784\" stroke=\"red\" stroke-width=\"2\"/><path d=\"M 810.0000000000001 510 810.0000000000001 469.31861109769784\" stroke=\"red\" stroke-width=\"2\"/><path d=\"M 800.909090909091 469.31861109769784 810.0000000000001 469.31861109769784\" stroke=\"red\" stroke-width=\"2\"/><path d=\"M 55.45454545454546 510 55.45454545454546 468.00624393339507\" stroke=\"blue\" stroke-width=\"2\"/><path d=\"M 64.54545454545455 510 64.54545454545455 468.00624393339507\" stroke=\"blue\" stroke-width=\"2\"/><path d=\"M 55.45454545454546 468.00624393339507 64.54545454545455 468.00624393339507\" stroke=\"blue\" stroke-width=\"2\"/><path d=\"M 28.181818181818183 510 28.181818181818183 464.9197506492955\" stroke=\"blue\" stroke-width=\"2\"/><path d=\"M 37.27272727272727 510 37.27272727272727 464.9197506492955\" stroke=\"blue\" stroke-width=\"2\"/><path d=\"M 28.181818181818183 464.9197506492955 37.27272727272727 464.9197506492955\" stroke=\"blue\" stroke-width=\"2\"/><path d=\"M 891.8181818181819 510 891.8181818181819 464.6571570188811\" stroke=\"red\" stroke-width=\"2\"/><path d=\"M 900.909090909091 510 900.909090909091 464.6571570188811\" stroke=\"red\" stroke-width=\"2\"/><path d=\"M 891.8181818181819 464.6571570188811 900.909090909091 464.6571570188811\" stroke=\"red\" stroke-width=\"2\"/><path d=\"M 155.45454545454547 510 155.45454545454547 460.91894800166676\" stroke=\"blue\" stroke-width=\"2\"/><path d=\"M 164.54545454545456 510 164.54545454545456 460.91894800166676\" stroke=\"blue\" stroke-width=\"2\"/><path d=\"M 155.45454545454547 460.91894800166676 164.54545454545456 460.91894800166676\" stroke=\"blue\" stroke-width=\"2\"/><path d=\"M 587.2727272727273 471.3732943071033 587.2727272727273 460.56838877341414\" stroke=\"blue\" stroke-width=\"2\"/><path d=\"M 600.909090909091 510 600.909090909091 460.56838877341414\" stroke=\"blue\" stroke-width=\"2\"/><path d=\"M 587.2727272727273 460.56838877341414 600.909090909091 460.56838877341414\" stroke=\"blue\" stroke-width=\"2\"/><path d=\"M 391.81818181818187 510 391.81818181818187 458.21278980657803\" stroke=\"blue\" stroke-width=\"2\"/><path d=\"M 405.4545454545455 485.8737715792222 405.4545454545455 458.21278980657803\" stroke=\"blue\" stroke-width=\"2\"/><path d=\"M 391.81818181818187 458.21278980657803 405.4545454545455 458.21278980657803\" stroke=\"blue\" stroke-width=\"2\"/><path d=\"M 919.0909090909091 510 919.0909090909091 456.7101615041986\" stroke=\"red\" stroke-width=\"2\"/><path d=\"M 928.1818181818182 510 928.1818181818182 456.7101615041986\" stroke=\"red\" stroke-width=\"2\"/><path d=\"M 919.0909090909091 456.7101615041986 928.1818181818182 456.7101615041986\" stroke=\"red\" stroke-width=\"2\"/><path d=\"M 528.1818181818182 510 528.1818181818182 455.7701469390545\" stroke=\"blue\" stroke-width=\"2\"/><path d=\"M 537.2727272727274 510 537.2727272727274 455.7701469390545\" stroke=\"blue\" stroke-width=\"2\"/><path d=\"M 528.1818181818182 455.7701469390545 537.2727272727274 455.7701469390545\" stroke=\"blue\" stroke-width=\"2\"/><path d=\"M 728.1818181818182 510 728.1818181818182 455.60373101981247\" stroke=\"blue\" stroke-width=\"2\"/><path d=\"M 737.2727272727274 510 737.2727272727274 455.60373101981247\" stroke=\"blue\" stroke-width=\"2\"/><path d=\"M 728.1818181818182 455.60373101981247 737.2727272727274 455.60373101981247\" stroke=\"blue\" stroke-width=\"2\"/><path d=\"M 805.4545454545455 469.31861109769784 805.4545454545455 449.85797416205844\" stroke=\"red\" stroke-width=\"2\"/><path d=\"M 819.0909090909091 510 819.0909090909091 449.85797416205844\" stroke=\"red\" stroke-width=\"2\"/><path d=\"M 805.4545454545455 449.85797416205844 819.0909090909091 449.85797416205844\" stroke=\"red\" stroke-width=\"2\"/><path d=\"M 282.72727272727275 510 282.72727272727275 449.69527581155353\" stroke=\"blue\" stroke-width=\"2\"/><path d=\"M 291.81818181818187 510 291.81818181818187 449.69527581155353\" stroke=\"blue\" stroke-width=\"2\"/><path d=\"M 282.72727272727275 449.69527581155353 291.81818181818187 449.69527581155353\" stroke=\"blue\" stroke-width=\"2\"/><path d=\"M 846.3636363636365 510 846.3636363636365 448.26668988625937\" stroke=\"red\" stroke-width=\"2\"/><path d=\"M 855.4545454545455 510 855.4545454545455 448.26668988625937\" stroke=\"red\" stroke-width=\"2\"/><path d=\"M 846.3636363636365 448.26668988625937 855.4545454545455 448.26668988625937\" stroke=\"red\" stroke-width=\"2\"/><path d=\"M 673.6363636363637 510 673.6363636363637 447.211177018826\" stroke=\"blue\" stroke-width=\"2\"/><path d=\"M 682.7272727272727 510 682.7272727272727 447.211177018826\" stroke=\"blue\" stroke-width=\"2\"/><path d=\"M 673.6363636363637 447.211177018826 682.7272727272727 447.211177018826\" stroke=\"blue\" stroke-width=\"2\"/><path d=\"M 419.0909090909091 510 419.0909090909091 442.5065215530892\" stroke=\"blue\" stroke-width=\"2\"/><path d=\"M 428.18181818181824 510 428.18181818181824 442.5065215530892\" stroke=\"blue\" stroke-width=\"2\"/><path d=\"M 419.0909090909091 442.5065215530892 428.18181818181824 442.5065215530892\" stroke=\"blue\" stroke-width=\"2\"/><path d=\"M 450.90909090909093 488.2057243466458 450.90909090909093 438.5025812475487\" stroke=\"blue\" stroke-width=\"2\"/><path d=\"M 464.54545454545456 510 464.54545454545456 438.5025812475487\" stroke=\"blue\" stroke-width=\"2\"/><path d=\"M 450.90909090909093 438.5025812475487 464.54545454545456 438.5025812475487\" stroke=\"blue\" stroke-width=\"2\"/><path d=\"M 228.1818181818182 510 228.1818181818182 436.7698168379703\" stroke=\"blue\" stroke-width=\"2\"/><path d=\"M 237.27272727272728 510 237.27272727272728 436.7698168379703\" stroke=\"blue\" stroke-width=\"2\"/><path d=\"M 228.1818181818182 436.7698168379703 237.27272727272728 436.7698168379703\" stroke=\"blue\" stroke-width=\"2\"/><path d=\"M 610.0 510 610.0 435.07412150004916\" stroke=\"blue\" stroke-width=\"2\"/><path d=\"M 619.0909090909091 510 619.0909090909091 435.07412150004916\" stroke=\"blue\" stroke-width=\"2\"/><path d=\"M 610.0 435.07412150004916 619.0909090909091 435.07412150004916\" stroke=\"blue\" stroke-width=\"2\"/><path d=\"M 778.1818181818182 475.0964934631975 778.1818181818182 434.593738221444\" stroke=\"blue\" stroke-width=\"2\"/><path d=\"M 791.8181818181819 510 791.8181818181819 434.593738221444\" stroke=\"blue\" stroke-width=\"2\"/><path d=\"M 778.1818181818182 434.593738221444 791.8181818181819 434.593738221444\" stroke=\"blue\" stroke-width=\"2\"/><path d=\"M 664.5454545454546 510 664.5454545454546 434.26457347122977\" stroke=\"blue\" stroke-width=\"2\"/><path d=\"M 678.1818181818182 447.211177018826 678.1818181818182 434.26457347122977\" stroke=\"blue\" stroke-width=\"2\"/><path d=\"M 664.5454545454546 434.26457347122977 678.1818181818182 434.26457347122977\" stroke=\"blue\" stroke-width=\"2\"/><path d=\"M 173.63636363636365 510 173.63636363636365 432.860014310376\" stroke=\"blue\" stroke-width=\"2\"/><path d=\"M 182.72727272727275 510 182.72727272727275 432.860014310376\" stroke=\"blue\" stroke-width=\"2\"/><path d=\"M 173.63636363636365 432.860014310376 182.72727272727275 432.860014310376\" stroke=\"blue\" stroke-width=\"2\"/><path d=\"M 141.8181818181818 492.5622056634425 141.8181818181818 432.0143789774456\" stroke=\"blue\" stroke-width=\"2\"/><path d=\"M 160.0 460.91894800166676 160.0 432.0143789774456\" stroke=\"blue\" stroke-width=\"2\"/><path d=\"M 141.8181818181818 432.0143789774456 160.0 432.0143789774456\" stroke=\"blue\" stroke-width=\"2\"/><path d=\"M 327.04545454545456 477.03343076020326 327.04545454545456 428.5476824246672\" stroke=\"blue\" stroke-width=\"2\"/><path d=\"M 360.0 489.2737631053899 360.0 428.5476824246672\" stroke=\"blue\" stroke-width=\"2\"/><path d=\"M 327.04545454545456 428.5476824246672 360.0 428.5476824246672\" stroke=\"blue\" stroke-width=\"2\"/><path d=\"M 882.7272727272727 510 882.7272727272727 425.22242162583393\" stroke=\"red\" stroke-width=\"2\"/><path d=\"M 896.3636363636365 464.6571570188811 896.3636363636365 425.22242162583393\" stroke=\"red\" stroke-width=\"2\"/><path d=\"M 882.7272727272727 425.22242162583393 896.3636363636365 425.22242162583393\" stroke=\"red\" stroke-width=\"2\"/><path d=\"M 937.2727272727274 510 937.2727272727274 424.25564355657855\" stroke=\"red\" stroke-width=\"2\"/><path d=\"M 950.909090909091 471.07367734363663 950.909090909091 424.25564355657855\" stroke=\"red\" stroke-width=\"2\"/><path d=\"M 937.2727272727274 424.25564355657855 950.909090909091 424.25564355657855\" stroke=\"red\" stroke-width=\"2\"/><path d=\"M 300.90909090909093 510 300.90909090909093 424.0658973829477\" stroke=\"blue\" stroke-width=\"2\"/><path d=\"M 310.0 510 310.0 424.0658973829477\" stroke=\"blue\" stroke-width=\"2\"/><path d=\"M 300.90909090909093 424.0658973829477 310.0 424.0658973829477\" stroke=\"blue\" stroke-width=\"2\"/><path d=\"M 691.8181818181819 510 691.8181818181819 422.79959863903844\" stroke=\"blue\" stroke-width=\"2\"/><path d=\"M 700.909090909091 510 700.909090909091 422.79959863903844\" stroke=\"blue\" stroke-width=\"2\"/><path d=\"M 691.8181818181819 422.79959863903844 700.909090909091 422.79959863903844\" stroke=\"blue\" stroke-width=\"2\"/><path d=\"M 46.36363636363637 510 46.36363636363637 422.0798643982034\" stroke=\"blue\" stroke-width=\"2\"/><path d=\"M 60.0 468.00624393339507 60.0 422.0798643982034\" stroke=\"blue\" stroke-width=\"2\"/><path d=\"M 46.36363636363637 422.0798643982034 60.0 422.0798643982034\" stroke=\"blue\" stroke-width=\"2\"/><path d=\"M 491.81818181818187 510 491.81818181818187 421.8290721741964\" stroke=\"blue\" stroke-width=\"2\"/><path d=\"M 505.4545454545455 485.065649587585 505.4545454545455 421.8290721741964\" stroke=\"blue\" stroke-width=\"2\"/><path d=\"M 491.81818181818187 421.8290721741964 505.4545454545455 421.8290721741964\" stroke=\"blue\" stroke-width=\"2\"/><path d=\"M 10.0 510 10.0 418.4308110872178\" stroke=\"blue\" stroke-width=\"2\"/><path d=\"M 19.090909090909093 510 19.090909090909093 418.4308110872178\" stroke=\"blue\" stroke-width=\"2\"/><path d=\"M 10.0 418.4308110872178 19.090909090909093 418.4308110872178\" stroke=\"blue\" stroke-width=\"2\"/><path d=\"M 264.54545454545456 510 264.54545454545456 418.2717170407511\" stroke=\"blue\" stroke-width=\"2\"/><path d=\"M 273.6363636363637 510 273.6363636363637 418.2717170407511\" stroke=\"blue\" stroke-width=\"2\"/><path d=\"M 264.54545454545456 418.2717170407511 273.6363636363637 418.2717170407511\" stroke=\"blue\" stroke-width=\"2\"/><path d=\"M 98.63636363636365 486.5818944824582 98.63636363636365 417.686520241599\" stroke=\"blue\" stroke-width=\"2\"/><path d=\"M 123.63636363636364 473.8238920766332 123.63636363636364 417.686520241599\" stroke=\"blue\" stroke-width=\"2\"/><path d=\"M 98.63636363636365 417.686520241599 123.63636363636364 417.686520241599\" stroke=\"blue\" stroke-width=\"2\"/><path d=\"M 560.0 493.33189949737084 560.0 417.13043971077445\" stroke=\"blue\" stroke-width=\"2\"/><path d=\"M 573.6363636363637 510 573.6363636363637 417.13043971077445\" stroke=\"blue\" stroke-width=\"2\"/><path d=\"M 560.0 417.13043971077445 573.6363636363637 417.13043971077445\" stroke=\"blue\" stroke-width=\"2\"/><path d=\"M 532.7272727272727 455.7701469390545 532.7272727272727 416.35040122270624\" stroke=\"blue\" stroke-width=\"2\"/><path d=\"M 546.3636363636364 510 546.3636363636364 416.35040122270624\" stroke=\"blue\" stroke-width=\"2\"/><path d=\"M 532.7272727272727 416.35040122270624 546.3636363636364 416.35040122270624\" stroke=\"blue\" stroke-width=\"2\"/><path d=\"M 828.1818181818182 510 828.1818181818182 414.8088283734014\" stroke=\"red\" stroke-width=\"2\"/><path d=\"M 837.2727272727274 510 837.2727272727274 414.8088283734014\" stroke=\"red\" stroke-width=\"2\"/><path d=\"M 828.1818181818182 414.8088283734014 837.2727272727274 414.8088283734014\" stroke=\"red\" stroke-width=\"2\"/><path d=\"M 973.6363636363637 510 973.6363636363637 413.4976789877595\" stroke=\"red\" stroke-width=\"2\"/><path d=\"M 982.7272727272729 510 982.7272727272729 413.4976789877595\" stroke=\"red\" stroke-width=\"2\"/><path d=\"M 973.6363636363637 413.4976789877595 982.7272727272729 413.4976789877595\" stroke=\"red\" stroke-width=\"2\"/><path d=\"M 287.2727272727273 449.69527581155353 287.2727272727273 410.7417726603571\" stroke=\"blue\" stroke-width=\"2\"/><path d=\"M 305.4545454545455 424.0658973829477 305.4545454545455 410.7417726603571\" stroke=\"blue\" stroke-width=\"2\"/><path d=\"M 287.2727272727273 410.7417726603571 305.4545454545455 410.7417726603571\" stroke=\"blue\" stroke-width=\"2\"/><path d=\"M 632.7272727272727 490.5473751104885 632.7272727272727 409.54126118033753\" stroke=\"blue\" stroke-width=\"2\"/><path d=\"M 646.3636363636364 510 646.3636363636364 409.54126118033753\" stroke=\"blue\" stroke-width=\"2\"/><path d=\"M 632.7272727272727 409.54126118033753 646.3636363636364 409.54126118033753\" stroke=\"blue\" stroke-width=\"2\"/><path d=\"M 53.18181818181819 422.0798643982034 53.18181818181819 408.4632235998652\" stroke=\"blue\" stroke-width=\"2\"/><path d=\"M 73.63636363636364 510 73.63636363636364 408.4632235998652\" stroke=\"blue\" stroke-width=\"2\"/><path d=\"M 53.18181818181819 408.4632235998652 73.63636363636364 408.4632235998652\" stroke=\"blue\" stroke-width=\"2\"/><path d=\"M 378.18181818181824 489.78692357357295 378.18181818181824 407.5015206227838\" stroke=\"blue\" stroke-width=\"2\"/><path d=\"M 398.6363636363637 458.21278980657803 398.6363636363637 407.5015206227838\" stroke=\"blue\" stroke-width=\"2\"/><path d=\"M 378.18181818181824 407.5015206227838 398.6363636363637 407.5015206227838\" stroke=\"blue\" stroke-width=\"2\"/><path d=\"M 178.1818181818182 432.860014310376 178.1818181818182 407.1610510352296\" stroke=\"blue\" stroke-width=\"2\"/><path d=\"M 191.81818181818184 510 191.81818181818184 407.1610510352296\" stroke=\"blue\" stroke-width=\"2\"/><path d=\"M 178.1818181818182 407.1610510352296 191.81818181818184 407.1610510352296\" stroke=\"blue\" stroke-width=\"2\"/><path d=\"M 710.0000000000001 510 710.0000000000001 397.3211558101525\" stroke=\"blue\" stroke-width=\"2\"/><path d=\"M 719.0909090909091 510 719.0909090909091 397.3211558101525\" stroke=\"blue\" stroke-width=\"2\"/><path d=\"M 710.0000000000001 397.3211558101525 719.0909090909091 397.3211558101525\" stroke=\"blue\" stroke-width=\"2\"/><path d=\"M 732.7272727272727 455.60373101981247 732.7272727272727 393.1551937666313\" stroke=\"blue\" stroke-width=\"2\"/><path d=\"M 746.3636363636364 510 746.3636363636364 393.1551937666313\" stroke=\"blue\" stroke-width=\"2\"/><path d=\"M 732.7272727272727 393.1551937666313 746.3636363636364 393.1551937666313\" stroke=\"blue\" stroke-width=\"2\"/><path d=\"M 923.6363636363637 456.7101615041986 923.6363636363637 391.57877730434876\" stroke=\"red\" stroke-width=\"2\"/><path d=\"M 944.0909090909092 424.25564355657855 944.0909090909092 391.57877730434876\" stroke=\"red\" stroke-width=\"2\"/><path d=\"M 923.6363636363637 391.57877730434876 944.0909090909092 391.57877730434876\" stroke=\"red\" stroke-width=\"2\"/><path d=\"M 498.6363636363637 421.8290721741964 498.6363636363637 387.728294446804\" stroke=\"blue\" stroke-width=\"2\"/><path d=\"M 519.0909090909091 510 519.0909090909091 387.728294446804\" stroke=\"blue\" stroke-width=\"2\"/><path d=\"M 498.6363636363637 387.728294446804 519.0909090909091 387.728294446804\" stroke=\"blue\" stroke-width=\"2\"/><path d=\"M 14.545454545454547 418.4308110872178 14.545454545454547 385.5758432737979\" stroke=\"blue\" stroke-width=\"2\"/><path d=\"M 32.72727272727273 464.9197506492955 32.72727272727273 385.5758432737979\" stroke=\"blue\" stroke-width=\"2\"/><path d=\"M 14.545454545454547 385.5758432737979 32.72727272727273 385.5758432737979\" stroke=\"blue\" stroke-width=\"2\"/><path d=\"M 889.5454545454546 425.22242162583393 889.5454545454546 385.03969020451285\" stroke=\"red\" stroke-width=\"2\"/><path d=\"M 910.0000000000001 510 910.0000000000001 385.03969020451285\" stroke=\"red\" stroke-width=\"2\"/><path d=\"M 889.5454545454546 385.03969020451285 910.0000000000001 385.03969020451285\" stroke=\"red\" stroke-width=\"2\"/><path d=\"M 473.6363636363637 510 473.6363636363637 383.71653492535137\" stroke=\"blue\" stroke-width=\"2\"/><path d=\"M 482.72727272727275 510 482.72727272727275 383.71653492535137\" stroke=\"blue\" stroke-width=\"2\"/><path d=\"M 473.6363636363637 383.71653492535137 482.72727272727275 383.71653492535137\" stroke=\"blue\" stroke-width=\"2\"/><path d=\"M 639.5454545454545 409.54126118033753 639.5454545454545 375.93085435314913\" stroke=\"blue\" stroke-width=\"2\"/><path d=\"M 655.4545454545455 510 655.4545454545455 375.93085435314913\" stroke=\"blue\" stroke-width=\"2\"/><path d=\"M 639.5454545454545 375.93085435314913 655.4545454545455 375.93085435314913\" stroke=\"blue\" stroke-width=\"2\"/><path d=\"M 832.7272727272727 414.8088283734014 832.7272727272727 375.1790290951069\" stroke=\"red\" stroke-width=\"2\"/><path d=\"M 850.909090909091 448.26668988625937 850.909090909091 375.1790290951069\" stroke=\"red\" stroke-width=\"2\"/><path d=\"M 832.7272727272727 375.1790290951069 850.909090909091 375.1790290951069\" stroke=\"red\" stroke-width=\"2\"/><path d=\"M 614.5454545454545 435.07412150004916 614.5454545454545 366.7320500646997\" stroke=\"blue\" stroke-width=\"2\"/><path d=\"M 647.5 375.93085435314913 647.5 366.7320500646997\" stroke=\"blue\" stroke-width=\"2\"/><path d=\"M 614.5454545454545 366.7320500646997 647.5 366.7320500646997\" stroke=\"blue\" stroke-width=\"2\"/><path d=\"M 423.6363636363637 442.5065215530892 423.6363636363637 363.1136860765065\" stroke=\"blue\" stroke-width=\"2\"/><path d=\"M 437.2727272727273 510 437.2727272727273 363.1136860765065\" stroke=\"blue\" stroke-width=\"2\"/><path d=\"M 423.6363636363637 363.1136860765065 437.2727272727273 363.1136860765065\" stroke=\"blue\" stroke-width=\"2\"/><path d=\"M 63.409090909090914 408.4632235998652 63.409090909090914 362.2333460921544\" stroke=\"blue\" stroke-width=\"2\"/><path d=\"M 82.72727272727273 510 82.72727272727273 362.2333460921544\" stroke=\"blue\" stroke-width=\"2\"/><path d=\"M 63.409090909090914 362.2333460921544 82.72727272727273 362.2333460921544\" stroke=\"blue\" stroke-width=\"2\"/><path d=\"M 246.36363636363637 510 246.36363636363637 361.08378392358793\" stroke=\"blue\" stroke-width=\"2\"/><path d=\"M 255.45454545454547 510 255.45454545454547 361.08378392358793\" stroke=\"blue\" stroke-width=\"2\"/><path d=\"M 246.36363636363637 361.08378392358793 255.45454545454547 361.08378392358793\" stroke=\"blue\" stroke-width=\"2\"/><path d=\"M 864.5454545454546 510 864.5454545454546 359.3977334372228\" stroke=\"red\" stroke-width=\"2\"/><path d=\"M 873.6363636363637 510 873.6363636363637 359.3977334372228\" stroke=\"red\" stroke-width=\"2\"/><path d=\"M 864.5454545454546 359.3977334372228 873.6363636363637 359.3977334372228\" stroke=\"red\" stroke-width=\"2\"/><path d=\"M 111.13636363636365 417.686520241599 111.13636363636365 352.82907151673584\" stroke=\"blue\" stroke-width=\"2\"/><path d=\"M 150.9090909090909 432.0143789774456 150.9090909090909 352.82907151673584\" stroke=\"blue\" stroke-width=\"2\"/><path d=\"M 111.13636363636365 352.82907151673584 150.9090909090909 352.82907151673584\" stroke=\"blue\" stroke-width=\"2\"/><path d=\"M 594.0909090909091 460.56838877341414 594.0909090909091 351.2418187173002\" stroke=\"blue\" stroke-width=\"2\"/><path d=\"M 631.0227272727273 366.7320500646997 631.0227272727273 351.2418187173002\" stroke=\"blue\" stroke-width=\"2\"/><path d=\"M 594.0909090909091 351.2418187173002 631.0227272727273 351.2418187173002\" stroke=\"blue\" stroke-width=\"2\"/><path d=\"M 899.7727272727274 385.03969020451285 899.7727272727274 348.9568979193908\" stroke=\"red\" stroke-width=\"2\"/><path d=\"M 933.8636363636365 391.57877730434876 933.8636363636365 348.9568979193908\" stroke=\"red\" stroke-width=\"2\"/><path d=\"M 899.7727272727274 348.9568979193908 933.8636363636365 348.9568979193908\" stroke=\"red\" stroke-width=\"2\"/><path d=\"M 343.52272727272725 428.5476824246672 343.52272727272725 335.2019753319629\" stroke=\"blue\" stroke-width=\"2\"/><path d=\"M 388.409090909091 407.5015206227838 388.409090909091 335.2019753319629\" stroke=\"blue\" stroke-width=\"2\"/><path d=\"M 343.52272727272725 335.2019753319629 388.409090909091 335.2019753319629\" stroke=\"blue\" stroke-width=\"2\"/><path d=\"M 760.0 486.76762077983074 760.0 334.8590083505132\" stroke=\"blue\" stroke-width=\"2\"/><path d=\"M 785.0 434.593738221444 785.0 334.8590083505132\" stroke=\"blue\" stroke-width=\"2\"/><path d=\"M 760.0 334.8590083505132 785.0 334.8590083505132\" stroke=\"blue\" stroke-width=\"2\"/><path d=\"M 841.8181818181819 375.1790290951069 841.8181818181819 333.86655285454526\" stroke=\"red\" stroke-width=\"2\"/><path d=\"M 869.0909090909092 359.3977334372228 869.0909090909092 333.86655285454526\" stroke=\"red\" stroke-width=\"2\"/><path d=\"M 841.8181818181819 333.86655285454526 869.0909090909092 333.86655285454526\" stroke=\"red\" stroke-width=\"2\"/><path d=\"M 250.90909090909093 361.08378392358793 250.90909090909093 332.7791846369187\" stroke=\"blue\" stroke-width=\"2\"/><path d=\"M 269.0909090909091 418.2717170407511 269.0909090909091 332.7791846369187\" stroke=\"blue\" stroke-width=\"2\"/><path d=\"M 250.90909090909093 332.7791846369187 269.0909090909091 332.7791846369187\" stroke=\"blue\" stroke-width=\"2\"/><path d=\"M 612.5568181818182 351.2418187173002 612.5568181818182 323.72463658455774\" stroke=\"blue\" stroke-width=\"2\"/><path d=\"M 671.3636363636365 434.26457347122977 671.3636363636365 323.72463658455774\" stroke=\"blue\" stroke-width=\"2\"/><path d=\"M 612.5568181818182 323.72463658455774 671.3636363636365 323.72463658455774\" stroke=\"blue\" stroke-width=\"2\"/><path d=\"M 539.5454545454545 416.35040122270624 539.5454545454545 318.1333595307482\" stroke=\"blue\" stroke-width=\"2\"/><path d=\"M 566.8181818181819 417.13043971077445 566.8181818181819 318.1333595307482\" stroke=\"blue\" stroke-width=\"2\"/><path d=\"M 539.5454545454545 318.1333595307482 566.8181818181819 318.1333595307482\" stroke=\"blue\" stroke-width=\"2\"/><path d=\"M 430.4545454545455 363.1136860765065 430.4545454545455 318.1114043245128\" stroke=\"blue\" stroke-width=\"2\"/><path d=\"M 457.72727272727275 438.5025812475487 457.72727272727275 318.1114043245128\" stroke=\"blue\" stroke-width=\"2\"/><path d=\"M 430.4545454545455 318.1114043245128 457.72727272727275 318.1114043245128\" stroke=\"blue\" stroke-width=\"2\"/><path d=\"M 207.72727272727275 484.40488985970285 207.72727272727275 315.98709970842685\" stroke=\"blue\" stroke-width=\"2\"/><path d=\"M 232.72727272727275 436.7698168379703 232.72727272727275 315.98709970842685\" stroke=\"blue\" stroke-width=\"2\"/><path d=\"M 207.72727272727275 315.98709970842685 232.72727272727275 315.98709970842685\" stroke=\"blue\" stroke-width=\"2\"/><path d=\"M 916.818181818182 348.9568979193908 916.818181818182 300.4622526360879\" stroke=\"red\" stroke-width=\"2\"/><path d=\"M 964.5454545454546 510 964.5454545454546 300.4622526360879\" stroke=\"red\" stroke-width=\"2\"/><path d=\"M 916.818181818182 300.4622526360879 964.5454545454546 300.4622526360879\" stroke=\"red\" stroke-width=\"2\"/><path d=\"M 296.3636363636364 410.7417726603571 296.3636363636364 299.80539785714876\" stroke=\"blue\" stroke-width=\"2\"/><path d=\"M 365.9659090909091 335.2019753319629 365.9659090909091 299.80539785714876\" stroke=\"blue\" stroke-width=\"2\"/><path d=\"M 296.3636363636364 299.80539785714876 365.9659090909091 299.80539785714876\" stroke=\"blue\" stroke-width=\"2\"/><path d=\"M 696.3636363636365 422.79959863903844 696.3636363636365 297.7962575436399\" stroke=\"blue\" stroke-width=\"2\"/><path d=\"M 714.5454545454546 397.3211558101525 714.5454545454546 297.7962575436399\" stroke=\"blue\" stroke-width=\"2\"/><path d=\"M 696.3636363636365 297.7962575436399 714.5454545454546 297.7962575436399\" stroke=\"blue\" stroke-width=\"2\"/><path d=\"M 739.5454545454545 393.1551937666313 739.5454545454545 291.42630408756156\" stroke=\"blue\" stroke-width=\"2\"/><path d=\"M 772.5 334.8590083505132 772.5 291.42630408756156\" stroke=\"blue\" stroke-width=\"2\"/><path d=\"M 739.5454545454545 291.42630408756156 772.5 291.42630408756156\" stroke=\"blue\" stroke-width=\"2\"/><path d=\"M 812.2727272727273 449.85797416205844 812.2727272727273 285.9549371760111\" stroke=\"red\" stroke-width=\"2\"/><path d=\"M 855.4545454545455 333.86655285454526 855.4545454545455 285.9549371760111\" stroke=\"red\" stroke-width=\"2\"/><path d=\"M 812.2727272727273 285.9549371760111 855.4545454545455 285.9549371760111\" stroke=\"red\" stroke-width=\"2\"/><path d=\"M 833.8636363636364 285.9549371760111 833.8636363636364 281.1887217591203\" stroke=\"red\" stroke-width=\"2\"/><path d=\"M 940.6818181818182 300.4622526360879 940.6818181818182 281.1887217591203\" stroke=\"red\" stroke-width=\"2\"/><path d=\"M 833.8636363636364 281.1887217591203 940.6818181818182 281.1887217591203\" stroke=\"red\" stroke-width=\"2\"/><path d=\"M 978.1818181818182 413.4976789877595 978.1818181818182 279.34428601617117\" stroke=\"red\" stroke-width=\"2\"/><path d=\"M 991.8181818181819 510 991.8181818181819 279.34428601617117\" stroke=\"red\" stroke-width=\"2\"/><path d=\"M 978.1818181818182 279.34428601617117 991.8181818181819 279.34428601617117\" stroke=\"red\" stroke-width=\"2\"/><path d=\"M 478.18181818181824 383.71653492535137 478.18181818181824 273.52858811320516\" stroke=\"blue\" stroke-width=\"2\"/><path d=\"M 508.8636363636364 387.728294446804 508.8636363636364 273.52858811320516\" stroke=\"blue\" stroke-width=\"2\"/><path d=\"M 478.18181818181824 273.52858811320516 508.8636363636364 273.52858811320516\" stroke=\"blue\" stroke-width=\"2\"/><path d=\"M 220.22727272727275 315.98709970842685 220.22727272727275 266.55153603142645\" stroke=\"blue\" stroke-width=\"2\"/><path d=\"M 260.0 332.7791846369187 260.0 266.55153603142645\" stroke=\"blue\" stroke-width=\"2\"/><path d=\"M 220.22727272727275 266.55153603142645 260.0 266.55153603142645\" stroke=\"blue\" stroke-width=\"2\"/><path d=\"M 641.9602272727274 323.72463658455774 641.9602272727274 255.5379988567269\" stroke=\"blue\" stroke-width=\"2\"/><path d=\"M 705.4545454545455 297.7962575436399 705.4545454545455 255.5379988567269\" stroke=\"blue\" stroke-width=\"2\"/><path d=\"M 641.9602272727274 255.5379988567269 705.4545454545455 255.5379988567269\" stroke=\"blue\" stroke-width=\"2\"/><path d=\"M 131.02272727272728 352.82907151673584 131.02272727272728 236.48788558920154\" stroke=\"blue\" stroke-width=\"2\"/><path d=\"M 185.0 407.1610510352296 185.0 236.48788558920154\" stroke=\"blue\" stroke-width=\"2\"/><path d=\"M 131.02272727272728 236.48788558920154 185.0 236.48788558920154\" stroke=\"blue\" stroke-width=\"2\"/><path d=\"M 985.0 279.34428601617117 985.0 233.77924449557008\" stroke=\"red\" stroke-width=\"2\"/><path d=\"M 1000.909090909091 510 1000.909090909091 233.77924449557008\" stroke=\"red\" stroke-width=\"2\"/><path d=\"M 985.0 233.77924449557008 1000.909090909091 233.77924449557008\" stroke=\"red\" stroke-width=\"2\"/><path d=\"M 444.0909090909091 318.1114043245128 444.0909090909091 229.21414325226505\" stroke=\"blue\" stroke-width=\"2\"/><path d=\"M 493.5227272727273 273.52858811320516 493.5227272727273 229.21414325226505\" stroke=\"blue\" stroke-width=\"2\"/><path d=\"M 444.0909090909091 229.21414325226505 493.5227272727273 229.21414325226505\" stroke=\"blue\" stroke-width=\"2\"/><path d=\"M 23.636363636363637 385.5758432737979 23.636363636363637 222.84320439045797\" stroke=\"blue\" stroke-width=\"2\"/><path d=\"M 73.06818181818183 362.2333460921544 73.06818181818183 222.84320439045797\" stroke=\"blue\" stroke-width=\"2\"/><path d=\"M 23.636363636363637 222.84320439045797 73.06818181818183 222.84320439045797\" stroke=\"blue\" stroke-width=\"2\"/><path d=\"M 240.11363636363637 266.55153603142645 240.11363636363637 218.98458807961794\" stroke=\"blue\" stroke-width=\"2\"/><path d=\"M 331.16477272727275 299.80539785714876 331.16477272727275 218.98458807961794\" stroke=\"blue\" stroke-width=\"2\"/><path d=\"M 240.11363636363637 218.98458807961794 331.16477272727275 218.98458807961794\" stroke=\"blue\" stroke-width=\"2\"/><path d=\"M 673.7073863636365 255.5379988567269 673.7073863636365 196.95150647243895\" stroke=\"blue\" stroke-width=\"2\"/><path d=\"M 756.0227272727273 291.42630408756156 756.0227272727273 196.95150647243895\" stroke=\"blue\" stroke-width=\"2\"/><path d=\"M 673.7073863636365 196.95150647243895 756.0227272727273 196.95150647243895\" stroke=\"blue\" stroke-width=\"2\"/><path d=\"M 887.2727272727273 281.1887217591203 887.2727272727273 168.54904920967397\" stroke=\"red\" stroke-width=\"2\"/><path d=\"M 992.9545454545455 233.77924449557008 992.9545454545455 168.54904920967397\" stroke=\"red\" stroke-width=\"2\"/><path d=\"M 887.2727272727273 168.54904920967397 992.9545454545455 168.54904920967397\" stroke=\"red\" stroke-width=\"2\"/><path d=\"M 468.80681818181824 229.21414325226505 468.80681818181824 167.06421185263645\" stroke=\"blue\" stroke-width=\"2\"/><path d=\"M 553.1818181818182 318.1333595307482 553.1818181818182 167.06421185263645\" stroke=\"blue\" stroke-width=\"2\"/><path d=\"M 468.80681818181824 167.06421185263645 553.1818181818182 167.06421185263645\" stroke=\"blue\" stroke-width=\"2\"/><path d=\"M 285.63920454545456 218.98458807961794 285.63920454545456 153.94794857417435\" stroke=\"blue\" stroke-width=\"2\"/><path d=\"M 510.99431818181824 167.06421185263645 510.99431818181824 153.94794857417435\" stroke=\"blue\" stroke-width=\"2\"/><path d=\"M 285.63920454545456 153.94794857417435 510.99431818181824 153.94794857417435\" stroke=\"blue\" stroke-width=\"2\"/><path d=\"M 48.352272727272734 222.84320439045797 48.352272727272734 134.21872854568397\" stroke=\"blue\" stroke-width=\"2\"/><path d=\"M 158.01136363636363 236.48788558920154 158.01136363636363 134.21872854568397\" stroke=\"blue\" stroke-width=\"2\"/><path d=\"M 48.352272727272734 134.21872854568397 158.01136363636363 134.21872854568397\" stroke=\"blue\" stroke-width=\"2\"/><path d=\"M 398.3167613636364 153.94794857417435 398.3167613636364 83.01786532115551\" stroke=\"blue\" stroke-width=\"2\"/><path d=\"M 714.8650568181819 196.95150647243895 714.8650568181819 83.01786532115551\" stroke=\"blue\" stroke-width=\"2\"/><path d=\"M 398.3167613636364 83.01786532115551 714.8650568181819 83.01786532115551\" stroke=\"blue\" stroke-width=\"2\"/><path d=\"M 103.18181818181819 134.21872854568397 103.18181818181819 32.75474763859876\" stroke=\"blue\" stroke-width=\"2\"/><path d=\"M 556.5909090909091 83.01786532115551 556.5909090909091 32.75474763859876\" stroke=\"blue\" stroke-width=\"2\"/><path d=\"M 103.18181818181819 32.75474763859876 556.5909090909091 32.75474763859876\" stroke=\"blue\" stroke-width=\"2\"/><path d=\"M 329.8863636363636 32.75474763859876 329.8863636363636 9.999999999999943\" stroke=\"black\" stroke-width=\"2\"/><path d=\"M 940.1136363636364 168.54904920967397 940.1136363636364 9.999999999999943\" stroke=\"black\" stroke-width=\"2\"/><path d=\"M 329.8863636363636 9.999999999999943 940.1136363636364 9.999999999999943\" stroke=\"black\" stroke-width=\"2\"/></svg>"
          },
          "metadata": {},
          "execution_count": 562
        }
      ]
    },
    {
      "cell_type": "markdown",
      "source": [
        "**Metrics**"
      ],
      "metadata": {
        "id": "S5GhYGvqD8TE"
      }
    },
    {
      "cell_type": "code",
      "source": [
        "nodelist = list(G_reduced.nodes)\n",
        "labels = list(cut_straight(dendrogram, n_clusters=2, return_dendrogram=False))\n",
        "\n",
        "community_dend = [[],[]]\n",
        "i = 0\n",
        "for node in nodelist:\n",
        "  community_dend[labels[i]].append(node)\n",
        "  i += 1\n",
        "\n",
        "_ = compute_metrics(G_reduced, community_dend)"
      ],
      "metadata": {
        "id": "NbGiUFpvF_s9",
        "colab": {
          "base_uri": "https://localhost:8080/"
        },
        "outputId": "7fe2b0a2-5d1b-4f7f-93d9-412f5c8aa9bc"
      },
      "execution_count": 563,
      "outputs": [
        {
          "output_type": "stream",
          "name": "stdout",
          "text": [
            "Coverage:  0.6619047619047619\n",
            "Performance:  0.5152627189324437\n",
            "Modularity:  0.09872719388313841\n"
          ]
        }
      ]
    },
    {
      "cell_type": "code",
      "source": [
        "image = svg_dendrogram(dendrogram, names, n_clusters=4, rotate=False,width=1000,height=500,filename='community_dendogram4_all_periods')\n",
        "SVG(image)"
      ],
      "metadata": {
        "colab": {
          "base_uri": "https://localhost:8080/",
          "height": 0
        },
        "id": "h_EYkUr_PEVy",
        "outputId": "f454d95a-98ac-4cc4-97a2-af67bfdbd3e7"
      },
      "execution_count": 564,
      "outputs": [
        {
          "output_type": "execute_result",
          "data": {
            "text/plain": [
              "<IPython.core.display.SVG object>"
            ],
            "image/svg+xml": "<svg height=\"597.0\" width=\"1020\" xmlns=\"http://www.w3.org/2000/svg\"><text font-size=\"12\" transform=\"rotate(60, 650.4545454545455, 515)\" x=\"650.4545454545455\" y=\"515\">china</text><text font-size=\"12\" transform=\"rotate(60, 641.3636363636364, 515)\" x=\"641.3636363636364\" y=\"515\">novel</text><text font-size=\"12\" transform=\"rotate(60, 614.0909090909091, 515)\" x=\"614.0909090909091\" y=\"515\">outbreak</text><text font-size=\"12\" transform=\"rotate(60, 159.54545454545456, 515)\" x=\"159.54545454545456\" y=\"515\">president</text><text font-size=\"12\" transform=\"rotate(60, 514.0909090909091, 515)\" x=\"514.0909090909091\" y=\"515\">global</text><text font-size=\"12\" transform=\"rotate(60, 150.45454545454547, 515)\" x=\"150.45454545454547\" y=\"515\">trump</text><text font-size=\"12\" transform=\"rotate(60, 250.45454545454547, 515)\" x=\"250.45454545454547\" y=\"515\">say</text><text font-size=\"12\" transform=\"rotate(60, 141.36363636363637, 515)\" x=\"141.36363636363637\" y=\"515\">house</text><text font-size=\"12\" transform=\"rotate(60, 741.3636363636364, 515)\" x=\"741.3636363636364\" y=\"515\">people</text><text font-size=\"12\" transform=\"rotate(60, 495.90909090909093, 515)\" x=\"495.90909090909093\" y=\"515\">world</text><text font-size=\"12\" transform=\"rotate(60, 659.5454545454546, 515)\" x=\"659.5454545454546\" y=\"515\">medical</text><text font-size=\"12\" transform=\"rotate(60, 177.72727272727275, 515)\" x=\"177.72727272727275\" y=\"515\">first</text><text font-size=\"12\" transform=\"rotate(60, 714.0909090909091, 515)\" x=\"714.0909090909091\" y=\"515\">virus</text><text font-size=\"12\" transform=\"rotate(60, 832.2727272727274, 515)\" x=\"832.2727272727274\" y=\"515\">case</text><text font-size=\"12\" transform=\"rotate(60, 123.18181818181819, 515)\" x=\"123.18181818181819\" y=\"515\">test</text><text font-size=\"12\" transform=\"rotate(60, 114.0909090909091, 515)\" x=\"114.0909090909091\" y=\"515\">positive</text><text font-size=\"12\" transform=\"rotate(60, 395.90909090909093, 515)\" x=\"395.90909090909093\" y=\"515\">data</text><text font-size=\"12\" transform=\"rotate(60, 450.4545454545455, 515)\" x=\"450.4545454545455\" y=\"515\">million</text><text font-size=\"12\" transform=\"rotate(60, 795.909090909091, 515)\" x=\"795.909090909091\" y=\"515\">death</text><text font-size=\"12\" transform=\"rotate(60, 477.72727272727275, 515)\" x=\"477.72727272727275\" y=\"515\">accord</text><text font-size=\"12\" transform=\"rotate(60, 868.6363636363637, 515)\" x=\"868.6363636363637\" y=\"515\">new</text><text font-size=\"12\" transform=\"rotate(60, 386.81818181818187, 515)\" x=\"386.81818181818187\" y=\"515\">show</text><text font-size=\"12\" transform=\"rotate(60, 405.00000000000006, 515)\" x=\"405.00000000000006\" y=\"515\">trial</text><text font-size=\"12\" transform=\"rotate(60, 77.72727272727273, 515)\" x=\"77.72727272727273\" y=\"515\">state</text><text font-size=\"12\" transform=\"rotate(60, 305.0, 515)\" x=\"305.0\" y=\"515\">make</text><text font-size=\"12\" transform=\"rotate(60, 559.5454545454546, 515)\" x=\"559.5454545454546\" y=\"515\">face</text><text font-size=\"12\" transform=\"rotate(60, 268.6363636363637, 515)\" x=\"268.6363636363637\" y=\"515\">expert</text><text font-size=\"12\" transform=\"rotate(60, 541.3636363636364, 515)\" x=\"541.3636363636364\" y=\"515\">pandemic</text><text font-size=\"12\" transform=\"rotate(60, 195.90909090909093, 515)\" x=\"195.90909090909093\" y=\"515\">disease</text><text font-size=\"12\" transform=\"rotate(60, 986.8181818181819, 515)\" x=\"986.8181818181819\" y=\"515\">take</text><text font-size=\"12\" transform=\"rotate(60, 486.81818181818187, 515)\" x=\"486.81818181818187\" y=\"515\">health</text><text font-size=\"12\" transform=\"rotate(60, 505.00000000000006, 515)\" x=\"505.00000000000006\" y=\"515\">organization</text><text font-size=\"12\" transform=\"rotate(60, 68.63636363636364, 515)\" x=\"68.63636363636364\" y=\"515\">announce</text><text font-size=\"12\" transform=\"rotate(60, 823.1818181818182, 515)\" x=\"823.1818181818182\" y=\"515\">confirm</text><text font-size=\"12\" transform=\"rotate(60, 105.00000000000001, 515)\" x=\"105.00000000000001\" y=\"515\">cruise</text><text font-size=\"12\" transform=\"rotate(60, 95.90909090909092, 515)\" x=\"95.90909090909092\" y=\"515\">ship</text><text font-size=\"12\" transform=\"rotate(60, 432.2727272727273, 515)\" x=\"432.2727272727273\" y=\"515\">country</text><text font-size=\"12\" transform=\"rotate(60, 586.8181818181819, 515)\" x=\"586.8181818181819\" y=\"515\">live</text><text font-size=\"12\" transform=\"rotate(60, 186.81818181818184, 515)\" x=\"186.81818181818184\" y=\"515\">since</text><text font-size=\"12\" transform=\"rotate(60, 595.909090909091, 515)\" x=\"595.909090909091\" y=\"515\">late</text><text font-size=\"12\" transform=\"rotate(60, 632.2727272727274, 515)\" x=\"632.2727272727274\" y=\"515\">hubei</text><text font-size=\"12\" transform=\"rotate(60, 623.1818181818182, 515)\" x=\"623.1818181818182\" y=\"515\">province</text><text font-size=\"12\" transform=\"rotate(60, 768.6363636363637, 515)\" x=\"768.6363636363637\" y=\"515\">hospital</text><text font-size=\"12\" transform=\"rotate(60, 668.6363636363637, 515)\" x=\"668.6363636363637\" y=\"515\">help</text><text font-size=\"12\" transform=\"rotate(60, 677.7272727272727, 515)\" x=\"677.7272727272727\" y=\"515\">fight</text><text font-size=\"12\" transform=\"rotate(60, 923.1818181818182, 515)\" x=\"923.1818181818182\" y=\"515\">risk</text><text font-size=\"12\" transform=\"rotate(60, 605.0, 515)\" x=\"605.0\" y=\"515\">amid</text><text font-size=\"12\" transform=\"rotate(60, 841.3636363636365, 515)\" x=\"841.3636363636365\" y=\"515\">number</text><text font-size=\"12\" transform=\"rotate(60, 995.909090909091, 515)\" x=\"995.909090909091\" y=\"515\">day</text><text font-size=\"12\" transform=\"rotate(60, 423.18181818181824, 515)\" x=\"423.18181818181824\" y=\"515\">minister</text><text font-size=\"12\" transform=\"rotate(60, 968.6363636363637, 515)\" x=\"968.6363636363637\" y=\"515\">include</text><text font-size=\"12\" transform=\"rotate(60, 550.4545454545455, 515)\" x=\"550.4545454545455\" y=\"515\">mask</text><text font-size=\"12\" transform=\"rotate(60, 223.1818181818182, 515)\" x=\"223.1818181818182\" y=\"515\">official</text><text font-size=\"12\" transform=\"rotate(60, 941.3636363636365, 515)\" x=\"941.3636363636365\" y=\"515\">daily</text><text font-size=\"12\" transform=\"rotate(60, 214.09090909090912, 515)\" x=\"214.09090909090912\" y=\"515\">control</text><text font-size=\"12\" transform=\"rotate(60, 23.181818181818183, 515)\" x=\"23.181818181818183\" y=\"515\">week</text><text font-size=\"12\" transform=\"rotate(60, 850.4545454545455, 515)\" x=\"850.4545454545455\" y=\"515\">total</text><text font-size=\"12\" transform=\"rotate(60, 286.81818181818187, 515)\" x=\"286.81818181818187\" y=\"515\">back</text><text font-size=\"12\" transform=\"rotate(60, 277.72727272727275, 515)\" x=\"277.72727272727275\" y=\"515\">work</text><text font-size=\"12\" transform=\"rotate(60, 977.7272727272729, 515)\" x=\"977.7272727272729\" y=\"515\">one</text><text font-size=\"12\" transform=\"rotate(60, 295.90909090909093, 515)\" x=\"295.90909090909093\" y=\"515\">get</text><text font-size=\"12\" transform=\"rotate(60, 468.6363636363637, 515)\" x=\"468.6363636363637\" y=\"515\">national</text><text font-size=\"12\" transform=\"rotate(60, 914.0909090909091, 515)\" x=\"914.0909090909091\" y=\"515\">high</text><text font-size=\"12\" transform=\"rotate(60, 350.4545454545455, 515)\" x=\"350.4545454545455\" y=\"515\">use</text><text font-size=\"12\" transform=\"rotate(60, 732.2727272727274, 515)\" x=\"732.2727272727274\" y=\"515\">die</text><text font-size=\"12\" transform=\"rotate(60, 686.8181818181819, 515)\" x=\"686.8181818181819\" y=\"515\">city</text><text font-size=\"12\" transform=\"rotate(60, 414.0909090909091, 515)\" x=\"414.0909090909091\" y=\"515\">second</text><text font-size=\"12\" transform=\"rotate(60, 532.2727272727274, 515)\" x=\"532.2727272727274\" y=\"515\">due</text><text font-size=\"12\" transform=\"rotate(60, 695.909090909091, 515)\" x=\"695.909090909091\" y=\"515\">authority</text><text font-size=\"12\" transform=\"rotate(60, 377.72727272727275, 515)\" x=\"377.72727272727275\" y=\"515\">find</text><text font-size=\"12\" transform=\"rotate(60, 241.36363636363637, 515)\" x=\"241.36363636363637\" y=\"515\">may</text><text font-size=\"12\" transform=\"rotate(60, 786.8181818181819, 515)\" x=\"786.8181818181819\" y=\"515\">infect</text><text font-size=\"12\" transform=\"rotate(60, 959.5454545454546, 515)\" x=\"959.5454545454546\" y=\"515\">see</text><text font-size=\"12\" transform=\"rotate(60, 777.7272727272727, 515)\" x=\"777.7272727272727\" y=\"515\">patient</text><text font-size=\"12\" transform=\"rotate(60, 705.0000000000001, 515)\" x=\"705.0000000000001\" y=\"515\">spread</text><text font-size=\"12\" transform=\"rotate(60, 750.4545454545455, 515)\" x=\"750.4545454545455\" y=\"515\">year</text><text font-size=\"12\" transform=\"rotate(60, 759.5454545454546, 515)\" x=\"759.5454545454546\" y=\"515\">old</text><text font-size=\"12\" transform=\"rotate(60, 859.5454545454546, 515)\" x=\"859.5454545454546\" y=\"515\">report</text><text font-size=\"12\" transform=\"rotate(60, 805.0000000000001, 515)\" x=\"805.0000000000001\" y=\"515\">toll</text><text font-size=\"12\" transform=\"rotate(60, 877.7272727272727, 515)\" x=\"877.7272727272727\" y=\"515\">infection</text><text font-size=\"12\" transform=\"rotate(60, 723.1818181818182, 515)\" x=\"723.1818181818182\" y=\"515\">doctor</text><text font-size=\"12\" transform=\"rotate(60, 523.1818181818182, 515)\" x=\"523.1818181818182\" y=\"515\">close</text><text font-size=\"12\" transform=\"rotate(60, 32.27272727272727, 515)\" x=\"32.27272727272727\" y=\"515\">last</text><text font-size=\"12\" transform=\"rotate(60, 259.54545454545456, 515)\" x=\"259.54545454545456\" y=\"515\">could</text><text font-size=\"12\" transform=\"rotate(60, 459.54545454545456, 515)\" x=\"459.54545454545456\" y=\"515\">receive</text><text font-size=\"12\" transform=\"rotate(60, 41.36363636363637, 515)\" x=\"41.36363636363637\" y=\"515\">government</text><text font-size=\"12\" transform=\"rotate(60, 86.81818181818183, 515)\" x=\"86.81818181818183\" y=\"515\">quarantine</text><text font-size=\"12\" transform=\"rotate(60, 232.27272727272728, 515)\" x=\"232.27272727272728\" y=\"515\">top</text><text font-size=\"12\" transform=\"rotate(60, 14.090909090909093, 515)\" x=\"14.090909090909093\" y=\"515\">month</text><text font-size=\"12\" transform=\"rotate(60, 5.0, 515)\" x=\"5.0\" y=\"515\">two</text><text font-size=\"12\" transform=\"rotate(60, 568.6363636363637, 515)\" x=\"568.6363636363637\" y=\"515\">public</text><text font-size=\"12\" transform=\"rotate(60, 359.54545454545456, 515)\" x=\"359.54545454545456\" y=\"515\">emergency</text><text font-size=\"12\" transform=\"rotate(60, 577.7272727272727, 515)\" x=\"577.7272727272727\" y=\"515\">follow</text><text font-size=\"12\" transform=\"rotate(60, 168.63636363636365, 515)\" x=\"168.63636363636365\" y=\"515\">time</text><text font-size=\"12\" transform=\"rotate(60, 905.0000000000001, 515)\" x=\"905.0000000000001\" y=\"515\">rise</text><text font-size=\"12\" transform=\"rotate(60, 59.54545454545455, 515)\" x=\"59.54545454545455\" y=\"515\">travel</text><text font-size=\"12\" transform=\"rotate(60, 50.45454545454546, 515)\" x=\"50.45454545454546\" y=\"515\">restriction</text><text font-size=\"12\" transform=\"rotate(60, 205.00000000000003, 515)\" x=\"205.00000000000003\" y=\"515\">center</text><text font-size=\"12\" transform=\"rotate(60, 368.6363636363637, 515)\" x=\"368.6363636363637\" y=\"515\">study</text><text font-size=\"12\" transform=\"rotate(60, 932.2727272727274, 515)\" x=\"932.2727272727274\" y=\"515\">hit</text><text font-size=\"12\" transform=\"rotate(60, 814.0909090909091, 515)\" x=\"814.0909090909091\" y=\"515\">brazil</text><text font-size=\"12\" transform=\"rotate(60, 950.4545454545455, 515)\" x=\"950.4545454545455\" y=\"515\">record</text><text font-size=\"12\" transform=\"rotate(60, 441.3636363636364, 515)\" x=\"441.3636363636364\" y=\"515\">dos</text><text font-size=\"12\" transform=\"rotate(60, 314.0909090909091, 515)\" x=\"314.0909090909091\" y=\"515\">shot</text><text font-size=\"12\" transform=\"rotate(60, 132.27272727272728, 515)\" x=\"132.27272727272728\" y=\"515\">white</text><text font-size=\"12\" transform=\"rotate(60, 895.909090909091, 515)\" x=\"895.909090909091\" y=\"515\">surge</text><text font-size=\"12\" transform=\"rotate(60, 886.8181818181819, 515)\" x=\"886.8181818181819\" y=\"515\">india</text><text font-size=\"12\" transform=\"rotate(60, 341.3636363636364, 515)\" x=\"341.3636363636364\" y=\"515\">blood</text><text font-size=\"12\" transform=\"rotate(60, 332.2727272727273, 515)\" x=\"332.2727272727273\" y=\"515\">clot</text><text font-size=\"12\" transform=\"rotate(60, 323.1818181818182, 515)\" x=\"323.1818181818182\" y=\"515\">johnson</text><path d=\"M 337.2727272727273 510 337.2727272727273 505.223654343176\" stroke=\"blue\" stroke-width=\"2\"/><path d=\"M 346.3636363636364 510 346.3636363636364 505.223654343176\" stroke=\"blue\" stroke-width=\"2\"/><path d=\"M 337.2727272727273 505.223654343176 346.3636363636364 505.223654343176\" stroke=\"blue\" stroke-width=\"2\"/><path d=\"M 100.90909090909092 510 100.90909090909092 504.9339043887741\" stroke=\"orange\" stroke-width=\"2\"/><path d=\"M 110.00000000000001 510 110.00000000000001 504.9339043887741\" stroke=\"orange\" stroke-width=\"2\"/><path d=\"M 100.90909090909092 504.9339043887741 110.00000000000001 504.9339043887741\" stroke=\"orange\" stroke-width=\"2\"/><path d=\"M 555.4545454545455 510 555.4545454545455 493.33189949737084\" stroke=\"blue\" stroke-width=\"2\"/><path d=\"M 564.5454545454546 510 564.5454545454546 493.33189949737084\" stroke=\"blue\" stroke-width=\"2\"/><path d=\"M 555.4545454545455 493.33189949737084 564.5454545454546 493.33189949737084\" stroke=\"blue\" stroke-width=\"2\"/><path d=\"M 137.27272727272728 510 137.27272727272728 492.5622056634425\" stroke=\"orange\" stroke-width=\"2\"/><path d=\"M 146.36363636363637 510 146.36363636363637 492.5622056634425\" stroke=\"orange\" stroke-width=\"2\"/><path d=\"M 137.27272727272728 492.5622056634425 146.36363636363637 492.5622056634425\" stroke=\"orange\" stroke-width=\"2\"/><path d=\"M 628.1818181818182 510 628.1818181818182 490.5473751104885\" stroke=\"red\" stroke-width=\"2\"/><path d=\"M 637.2727272727274 510 637.2727272727274 490.5473751104885\" stroke=\"red\" stroke-width=\"2\"/><path d=\"M 628.1818181818182 490.5473751104885 637.2727272727274 490.5473751104885\" stroke=\"red\" stroke-width=\"2\"/><path d=\"M 210.00000000000003 510 210.00000000000003 490.0998506770439\" stroke=\"blue\" stroke-width=\"2\"/><path d=\"M 219.09090909090912 510 219.09090909090912 490.0998506770439\" stroke=\"blue\" stroke-width=\"2\"/><path d=\"M 210.00000000000003 490.0998506770439 219.09090909090912 490.0998506770439\" stroke=\"blue\" stroke-width=\"2\"/><path d=\"M 373.6363636363637 510 373.6363636363637 489.78692357357295\" stroke=\"blue\" stroke-width=\"2\"/><path d=\"M 382.72727272727275 510 382.72727272727275 489.78692357357295\" stroke=\"blue\" stroke-width=\"2\"/><path d=\"M 373.6363636363637 489.78692357357295 382.72727272727275 489.78692357357295\" stroke=\"blue\" stroke-width=\"2\"/><path d=\"M 355.4545454545455 510 355.4545454545455 489.2737631053899\" stroke=\"blue\" stroke-width=\"2\"/><path d=\"M 364.54545454545456 510 364.54545454545456 489.2737631053899\" stroke=\"blue\" stroke-width=\"2\"/><path d=\"M 355.4545454545455 489.2737631053899 364.54545454545456 489.2737631053899\" stroke=\"blue\" stroke-width=\"2\"/><path d=\"M 446.3636363636364 510 446.3636363636364 488.2057243466458\" stroke=\"blue\" stroke-width=\"2\"/><path d=\"M 455.4545454545455 510 455.4545454545455 488.2057243466458\" stroke=\"blue\" stroke-width=\"2\"/><path d=\"M 446.3636363636364 488.2057243466458 455.4545454545455 488.2057243466458\" stroke=\"blue\" stroke-width=\"2\"/><path d=\"M 755.4545454545455 510 755.4545454545455 486.76762077983074\" stroke=\"red\" stroke-width=\"2\"/><path d=\"M 764.5454545454546 510 764.5454545454546 486.76762077983074\" stroke=\"red\" stroke-width=\"2\"/><path d=\"M 755.4545454545455 486.76762077983074 764.5454545454546 486.76762077983074\" stroke=\"red\" stroke-width=\"2\"/><path d=\"M 91.81818181818183 510 91.81818181818183 486.5818944824582\" stroke=\"orange\" stroke-width=\"2\"/><path d=\"M 105.45454545454547 504.9339043887741 105.45454545454547 486.5818944824582\" stroke=\"orange\" stroke-width=\"2\"/><path d=\"M 91.81818181818183 486.5818944824582 105.45454545454547 486.5818944824582\" stroke=\"orange\" stroke-width=\"2\"/><path d=\"M 400.90909090909093 510 400.90909090909093 485.8737715792222\" stroke=\"blue\" stroke-width=\"2\"/><path d=\"M 410.00000000000006 510 410.00000000000006 485.8737715792222\" stroke=\"blue\" stroke-width=\"2\"/><path d=\"M 400.90909090909093 485.8737715792222 410.00000000000006 485.8737715792222\" stroke=\"blue\" stroke-width=\"2\"/><path d=\"M 328.1818181818182 510 328.1818181818182 485.8400424342858\" stroke=\"blue\" stroke-width=\"2\"/><path d=\"M 341.81818181818187 505.223654343176 341.81818181818187 485.8400424342858\" stroke=\"blue\" stroke-width=\"2\"/><path d=\"M 328.1818181818182 485.8400424342858 341.81818181818187 485.8400424342858\" stroke=\"blue\" stroke-width=\"2\"/><path d=\"M 500.90909090909093 510 500.90909090909093 485.065649587585\" stroke=\"blue\" stroke-width=\"2\"/><path d=\"M 510.00000000000006 510 510.00000000000006 485.065649587585\" stroke=\"blue\" stroke-width=\"2\"/><path d=\"M 500.90909090909093 485.065649587585 510.00000000000006 485.065649587585\" stroke=\"blue\" stroke-width=\"2\"/><path d=\"M 200.90909090909093 510 200.90909090909093 484.40488985970285\" stroke=\"blue\" stroke-width=\"2\"/><path d=\"M 214.54545454545456 490.0998506770439 214.54545454545456 484.40488985970285\" stroke=\"blue\" stroke-width=\"2\"/><path d=\"M 200.90909090909093 484.40488985970285 214.54545454545456 484.40488985970285\" stroke=\"blue\" stroke-width=\"2\"/><path d=\"M 319.0909090909091 510 319.0909090909091 477.03343076020326\" stroke=\"blue\" stroke-width=\"2\"/><path d=\"M 335.0 485.8400424342858 335.0 477.03343076020326\" stroke=\"blue\" stroke-width=\"2\"/><path d=\"M 319.0909090909091 477.03343076020326 335.0 477.03343076020326\" stroke=\"blue\" stroke-width=\"2\"/><path d=\"M 773.6363636363637 510 773.6363636363637 475.0964934631975\" stroke=\"red\" stroke-width=\"2\"/><path d=\"M 782.7272727272727 510 782.7272727272727 475.0964934631975\" stroke=\"red\" stroke-width=\"2\"/><path d=\"M 773.6363636363637 475.0964934631975 782.7272727272727 475.0964934631975\" stroke=\"red\" stroke-width=\"2\"/><path d=\"M 119.0909090909091 510 119.0909090909091 473.8238920766332\" stroke=\"orange\" stroke-width=\"2\"/><path d=\"M 128.1818181818182 510 128.1818181818182 473.8238920766332\" stroke=\"orange\" stroke-width=\"2\"/><path d=\"M 119.0909090909091 473.8238920766332 128.1818181818182 473.8238920766332\" stroke=\"orange\" stroke-width=\"2\"/><path d=\"M 582.7272727272727 510 582.7272727272727 471.3732943071033\" stroke=\"red\" stroke-width=\"2\"/><path d=\"M 591.8181818181819 510 591.8181818181819 471.3732943071033\" stroke=\"red\" stroke-width=\"2\"/><path d=\"M 582.7272727272727 471.3732943071033 591.8181818181819 471.3732943071033\" stroke=\"red\" stroke-width=\"2\"/><path d=\"M 946.3636363636365 510 946.3636363636365 471.07367734363663\" stroke=\"green\" stroke-width=\"2\"/><path d=\"M 955.4545454545455 510 955.4545454545455 471.07367734363663\" stroke=\"green\" stroke-width=\"2\"/><path d=\"M 946.3636363636365 471.07367734363663 955.4545454545455 471.07367734363663\" stroke=\"green\" stroke-width=\"2\"/><path d=\"M 800.909090909091 510 800.909090909091 469.31861109769784\" stroke=\"green\" stroke-width=\"2\"/><path d=\"M 810.0000000000001 510 810.0000000000001 469.31861109769784\" stroke=\"green\" stroke-width=\"2\"/><path d=\"M 800.909090909091 469.31861109769784 810.0000000000001 469.31861109769784\" stroke=\"green\" stroke-width=\"2\"/><path d=\"M 55.45454545454546 510 55.45454545454546 468.00624393339507\" stroke=\"orange\" stroke-width=\"2\"/><path d=\"M 64.54545454545455 510 64.54545454545455 468.00624393339507\" stroke=\"orange\" stroke-width=\"2\"/><path d=\"M 55.45454545454546 468.00624393339507 64.54545454545455 468.00624393339507\" stroke=\"orange\" stroke-width=\"2\"/><path d=\"M 28.181818181818183 510 28.181818181818183 464.9197506492955\" stroke=\"orange\" stroke-width=\"2\"/><path d=\"M 37.27272727272727 510 37.27272727272727 464.9197506492955\" stroke=\"orange\" stroke-width=\"2\"/><path d=\"M 28.181818181818183 464.9197506492955 37.27272727272727 464.9197506492955\" stroke=\"orange\" stroke-width=\"2\"/><path d=\"M 891.8181818181819 510 891.8181818181819 464.6571570188811\" stroke=\"green\" stroke-width=\"2\"/><path d=\"M 900.909090909091 510 900.909090909091 464.6571570188811\" stroke=\"green\" stroke-width=\"2\"/><path d=\"M 891.8181818181819 464.6571570188811 900.909090909091 464.6571570188811\" stroke=\"green\" stroke-width=\"2\"/><path d=\"M 155.45454545454547 510 155.45454545454547 460.91894800166676\" stroke=\"orange\" stroke-width=\"2\"/><path d=\"M 164.54545454545456 510 164.54545454545456 460.91894800166676\" stroke=\"orange\" stroke-width=\"2\"/><path d=\"M 155.45454545454547 460.91894800166676 164.54545454545456 460.91894800166676\" stroke=\"orange\" stroke-width=\"2\"/><path d=\"M 587.2727272727273 471.3732943071033 587.2727272727273 460.56838877341414\" stroke=\"red\" stroke-width=\"2\"/><path d=\"M 600.909090909091 510 600.909090909091 460.56838877341414\" stroke=\"red\" stroke-width=\"2\"/><path d=\"M 587.2727272727273 460.56838877341414 600.909090909091 460.56838877341414\" stroke=\"red\" stroke-width=\"2\"/><path d=\"M 391.81818181818187 510 391.81818181818187 458.21278980657803\" stroke=\"blue\" stroke-width=\"2\"/><path d=\"M 405.4545454545455 485.8737715792222 405.4545454545455 458.21278980657803\" stroke=\"blue\" stroke-width=\"2\"/><path d=\"M 391.81818181818187 458.21278980657803 405.4545454545455 458.21278980657803\" stroke=\"blue\" stroke-width=\"2\"/><path d=\"M 919.0909090909091 510 919.0909090909091 456.7101615041986\" stroke=\"green\" stroke-width=\"2\"/><path d=\"M 928.1818181818182 510 928.1818181818182 456.7101615041986\" stroke=\"green\" stroke-width=\"2\"/><path d=\"M 919.0909090909091 456.7101615041986 928.1818181818182 456.7101615041986\" stroke=\"green\" stroke-width=\"2\"/><path d=\"M 528.1818181818182 510 528.1818181818182 455.7701469390545\" stroke=\"blue\" stroke-width=\"2\"/><path d=\"M 537.2727272727274 510 537.2727272727274 455.7701469390545\" stroke=\"blue\" stroke-width=\"2\"/><path d=\"M 528.1818181818182 455.7701469390545 537.2727272727274 455.7701469390545\" stroke=\"blue\" stroke-width=\"2\"/><path d=\"M 728.1818181818182 510 728.1818181818182 455.60373101981247\" stroke=\"red\" stroke-width=\"2\"/><path d=\"M 737.2727272727274 510 737.2727272727274 455.60373101981247\" stroke=\"red\" stroke-width=\"2\"/><path d=\"M 728.1818181818182 455.60373101981247 737.2727272727274 455.60373101981247\" stroke=\"red\" stroke-width=\"2\"/><path d=\"M 805.4545454545455 469.31861109769784 805.4545454545455 449.85797416205844\" stroke=\"green\" stroke-width=\"2\"/><path d=\"M 819.0909090909091 510 819.0909090909091 449.85797416205844\" stroke=\"green\" stroke-width=\"2\"/><path d=\"M 805.4545454545455 449.85797416205844 819.0909090909091 449.85797416205844\" stroke=\"green\" stroke-width=\"2\"/><path d=\"M 282.72727272727275 510 282.72727272727275 449.69527581155353\" stroke=\"blue\" stroke-width=\"2\"/><path d=\"M 291.81818181818187 510 291.81818181818187 449.69527581155353\" stroke=\"blue\" stroke-width=\"2\"/><path d=\"M 282.72727272727275 449.69527581155353 291.81818181818187 449.69527581155353\" stroke=\"blue\" stroke-width=\"2\"/><path d=\"M 846.3636363636365 510 846.3636363636365 448.26668988625937\" stroke=\"green\" stroke-width=\"2\"/><path d=\"M 855.4545454545455 510 855.4545454545455 448.26668988625937\" stroke=\"green\" stroke-width=\"2\"/><path d=\"M 846.3636363636365 448.26668988625937 855.4545454545455 448.26668988625937\" stroke=\"green\" stroke-width=\"2\"/><path d=\"M 673.6363636363637 510 673.6363636363637 447.211177018826\" stroke=\"red\" stroke-width=\"2\"/><path d=\"M 682.7272727272727 510 682.7272727272727 447.211177018826\" stroke=\"red\" stroke-width=\"2\"/><path d=\"M 673.6363636363637 447.211177018826 682.7272727272727 447.211177018826\" stroke=\"red\" stroke-width=\"2\"/><path d=\"M 419.0909090909091 510 419.0909090909091 442.5065215530892\" stroke=\"blue\" stroke-width=\"2\"/><path d=\"M 428.18181818181824 510 428.18181818181824 442.5065215530892\" stroke=\"blue\" stroke-width=\"2\"/><path d=\"M 419.0909090909091 442.5065215530892 428.18181818181824 442.5065215530892\" stroke=\"blue\" stroke-width=\"2\"/><path d=\"M 450.90909090909093 488.2057243466458 450.90909090909093 438.5025812475487\" stroke=\"blue\" stroke-width=\"2\"/><path d=\"M 464.54545454545456 510 464.54545454545456 438.5025812475487\" stroke=\"blue\" stroke-width=\"2\"/><path d=\"M 450.90909090909093 438.5025812475487 464.54545454545456 438.5025812475487\" stroke=\"blue\" stroke-width=\"2\"/><path d=\"M 228.1818181818182 510 228.1818181818182 436.7698168379703\" stroke=\"blue\" stroke-width=\"2\"/><path d=\"M 237.27272727272728 510 237.27272727272728 436.7698168379703\" stroke=\"blue\" stroke-width=\"2\"/><path d=\"M 228.1818181818182 436.7698168379703 237.27272727272728 436.7698168379703\" stroke=\"blue\" stroke-width=\"2\"/><path d=\"M 610.0 510 610.0 435.07412150004916\" stroke=\"red\" stroke-width=\"2\"/><path d=\"M 619.0909090909091 510 619.0909090909091 435.07412150004916\" stroke=\"red\" stroke-width=\"2\"/><path d=\"M 610.0 435.07412150004916 619.0909090909091 435.07412150004916\" stroke=\"red\" stroke-width=\"2\"/><path d=\"M 778.1818181818182 475.0964934631975 778.1818181818182 434.593738221444\" stroke=\"red\" stroke-width=\"2\"/><path d=\"M 791.8181818181819 510 791.8181818181819 434.593738221444\" stroke=\"red\" stroke-width=\"2\"/><path d=\"M 778.1818181818182 434.593738221444 791.8181818181819 434.593738221444\" stroke=\"red\" stroke-width=\"2\"/><path d=\"M 664.5454545454546 510 664.5454545454546 434.26457347122977\" stroke=\"red\" stroke-width=\"2\"/><path d=\"M 678.1818181818182 447.211177018826 678.1818181818182 434.26457347122977\" stroke=\"red\" stroke-width=\"2\"/><path d=\"M 664.5454545454546 434.26457347122977 678.1818181818182 434.26457347122977\" stroke=\"red\" stroke-width=\"2\"/><path d=\"M 173.63636363636365 510 173.63636363636365 432.860014310376\" stroke=\"orange\" stroke-width=\"2\"/><path d=\"M 182.72727272727275 510 182.72727272727275 432.860014310376\" stroke=\"orange\" stroke-width=\"2\"/><path d=\"M 173.63636363636365 432.860014310376 182.72727272727275 432.860014310376\" stroke=\"orange\" stroke-width=\"2\"/><path d=\"M 141.8181818181818 492.5622056634425 141.8181818181818 432.0143789774456\" stroke=\"orange\" stroke-width=\"2\"/><path d=\"M 160.0 460.91894800166676 160.0 432.0143789774456\" stroke=\"orange\" stroke-width=\"2\"/><path d=\"M 141.8181818181818 432.0143789774456 160.0 432.0143789774456\" stroke=\"orange\" stroke-width=\"2\"/><path d=\"M 327.04545454545456 477.03343076020326 327.04545454545456 428.5476824246672\" stroke=\"blue\" stroke-width=\"2\"/><path d=\"M 360.0 489.2737631053899 360.0 428.5476824246672\" stroke=\"blue\" stroke-width=\"2\"/><path d=\"M 327.04545454545456 428.5476824246672 360.0 428.5476824246672\" stroke=\"blue\" stroke-width=\"2\"/><path d=\"M 882.7272727272727 510 882.7272727272727 425.22242162583393\" stroke=\"green\" stroke-width=\"2\"/><path d=\"M 896.3636363636365 464.6571570188811 896.3636363636365 425.22242162583393\" stroke=\"green\" stroke-width=\"2\"/><path d=\"M 882.7272727272727 425.22242162583393 896.3636363636365 425.22242162583393\" stroke=\"green\" stroke-width=\"2\"/><path d=\"M 937.2727272727274 510 937.2727272727274 424.25564355657855\" stroke=\"green\" stroke-width=\"2\"/><path d=\"M 950.909090909091 471.07367734363663 950.909090909091 424.25564355657855\" stroke=\"green\" stroke-width=\"2\"/><path d=\"M 937.2727272727274 424.25564355657855 950.909090909091 424.25564355657855\" stroke=\"green\" stroke-width=\"2\"/><path d=\"M 300.90909090909093 510 300.90909090909093 424.0658973829477\" stroke=\"blue\" stroke-width=\"2\"/><path d=\"M 310.0 510 310.0 424.0658973829477\" stroke=\"blue\" stroke-width=\"2\"/><path d=\"M 300.90909090909093 424.0658973829477 310.0 424.0658973829477\" stroke=\"blue\" stroke-width=\"2\"/><path d=\"M 691.8181818181819 510 691.8181818181819 422.79959863903844\" stroke=\"red\" stroke-width=\"2\"/><path d=\"M 700.909090909091 510 700.909090909091 422.79959863903844\" stroke=\"red\" stroke-width=\"2\"/><path d=\"M 691.8181818181819 422.79959863903844 700.909090909091 422.79959863903844\" stroke=\"red\" stroke-width=\"2\"/><path d=\"M 46.36363636363637 510 46.36363636363637 422.0798643982034\" stroke=\"orange\" stroke-width=\"2\"/><path d=\"M 60.0 468.00624393339507 60.0 422.0798643982034\" stroke=\"orange\" stroke-width=\"2\"/><path d=\"M 46.36363636363637 422.0798643982034 60.0 422.0798643982034\" stroke=\"orange\" stroke-width=\"2\"/><path d=\"M 491.81818181818187 510 491.81818181818187 421.8290721741964\" stroke=\"blue\" stroke-width=\"2\"/><path d=\"M 505.4545454545455 485.065649587585 505.4545454545455 421.8290721741964\" stroke=\"blue\" stroke-width=\"2\"/><path d=\"M 491.81818181818187 421.8290721741964 505.4545454545455 421.8290721741964\" stroke=\"blue\" stroke-width=\"2\"/><path d=\"M 10.0 510 10.0 418.4308110872178\" stroke=\"orange\" stroke-width=\"2\"/><path d=\"M 19.090909090909093 510 19.090909090909093 418.4308110872178\" stroke=\"orange\" stroke-width=\"2\"/><path d=\"M 10.0 418.4308110872178 19.090909090909093 418.4308110872178\" stroke=\"orange\" stroke-width=\"2\"/><path d=\"M 264.54545454545456 510 264.54545454545456 418.2717170407511\" stroke=\"blue\" stroke-width=\"2\"/><path d=\"M 273.6363636363637 510 273.6363636363637 418.2717170407511\" stroke=\"blue\" stroke-width=\"2\"/><path d=\"M 264.54545454545456 418.2717170407511 273.6363636363637 418.2717170407511\" stroke=\"blue\" stroke-width=\"2\"/><path d=\"M 98.63636363636365 486.5818944824582 98.63636363636365 417.686520241599\" stroke=\"orange\" stroke-width=\"2\"/><path d=\"M 123.63636363636364 473.8238920766332 123.63636363636364 417.686520241599\" stroke=\"orange\" stroke-width=\"2\"/><path d=\"M 98.63636363636365 417.686520241599 123.63636363636364 417.686520241599\" stroke=\"orange\" stroke-width=\"2\"/><path d=\"M 560.0 493.33189949737084 560.0 417.13043971077445\" stroke=\"blue\" stroke-width=\"2\"/><path d=\"M 573.6363636363637 510 573.6363636363637 417.13043971077445\" stroke=\"blue\" stroke-width=\"2\"/><path d=\"M 560.0 417.13043971077445 573.6363636363637 417.13043971077445\" stroke=\"blue\" stroke-width=\"2\"/><path d=\"M 532.7272727272727 455.7701469390545 532.7272727272727 416.35040122270624\" stroke=\"blue\" stroke-width=\"2\"/><path d=\"M 546.3636363636364 510 546.3636363636364 416.35040122270624\" stroke=\"blue\" stroke-width=\"2\"/><path d=\"M 532.7272727272727 416.35040122270624 546.3636363636364 416.35040122270624\" stroke=\"blue\" stroke-width=\"2\"/><path d=\"M 828.1818181818182 510 828.1818181818182 414.8088283734014\" stroke=\"green\" stroke-width=\"2\"/><path d=\"M 837.2727272727274 510 837.2727272727274 414.8088283734014\" stroke=\"green\" stroke-width=\"2\"/><path d=\"M 828.1818181818182 414.8088283734014 837.2727272727274 414.8088283734014\" stroke=\"green\" stroke-width=\"2\"/><path d=\"M 973.6363636363637 510 973.6363636363637 413.4976789877595\" stroke=\"green\" stroke-width=\"2\"/><path d=\"M 982.7272727272729 510 982.7272727272729 413.4976789877595\" stroke=\"green\" stroke-width=\"2\"/><path d=\"M 973.6363636363637 413.4976789877595 982.7272727272729 413.4976789877595\" stroke=\"green\" stroke-width=\"2\"/><path d=\"M 287.2727272727273 449.69527581155353 287.2727272727273 410.7417726603571\" stroke=\"blue\" stroke-width=\"2\"/><path d=\"M 305.4545454545455 424.0658973829477 305.4545454545455 410.7417726603571\" stroke=\"blue\" stroke-width=\"2\"/><path d=\"M 287.2727272727273 410.7417726603571 305.4545454545455 410.7417726603571\" stroke=\"blue\" stroke-width=\"2\"/><path d=\"M 632.7272727272727 490.5473751104885 632.7272727272727 409.54126118033753\" stroke=\"red\" stroke-width=\"2\"/><path d=\"M 646.3636363636364 510 646.3636363636364 409.54126118033753\" stroke=\"red\" stroke-width=\"2\"/><path d=\"M 632.7272727272727 409.54126118033753 646.3636363636364 409.54126118033753\" stroke=\"red\" stroke-width=\"2\"/><path d=\"M 53.18181818181819 422.0798643982034 53.18181818181819 408.4632235998652\" stroke=\"orange\" stroke-width=\"2\"/><path d=\"M 73.63636363636364 510 73.63636363636364 408.4632235998652\" stroke=\"orange\" stroke-width=\"2\"/><path d=\"M 53.18181818181819 408.4632235998652 73.63636363636364 408.4632235998652\" stroke=\"orange\" stroke-width=\"2\"/><path d=\"M 378.18181818181824 489.78692357357295 378.18181818181824 407.5015206227838\" stroke=\"blue\" stroke-width=\"2\"/><path d=\"M 398.6363636363637 458.21278980657803 398.6363636363637 407.5015206227838\" stroke=\"blue\" stroke-width=\"2\"/><path d=\"M 378.18181818181824 407.5015206227838 398.6363636363637 407.5015206227838\" stroke=\"blue\" stroke-width=\"2\"/><path d=\"M 178.1818181818182 432.860014310376 178.1818181818182 407.1610510352296\" stroke=\"orange\" stroke-width=\"2\"/><path d=\"M 191.81818181818184 510 191.81818181818184 407.1610510352296\" stroke=\"orange\" stroke-width=\"2\"/><path d=\"M 178.1818181818182 407.1610510352296 191.81818181818184 407.1610510352296\" stroke=\"orange\" stroke-width=\"2\"/><path d=\"M 710.0000000000001 510 710.0000000000001 397.3211558101525\" stroke=\"red\" stroke-width=\"2\"/><path d=\"M 719.0909090909091 510 719.0909090909091 397.3211558101525\" stroke=\"red\" stroke-width=\"2\"/><path d=\"M 710.0000000000001 397.3211558101525 719.0909090909091 397.3211558101525\" stroke=\"red\" stroke-width=\"2\"/><path d=\"M 732.7272727272727 455.60373101981247 732.7272727272727 393.1551937666313\" stroke=\"red\" stroke-width=\"2\"/><path d=\"M 746.3636363636364 510 746.3636363636364 393.1551937666313\" stroke=\"red\" stroke-width=\"2\"/><path d=\"M 732.7272727272727 393.1551937666313 746.3636363636364 393.1551937666313\" stroke=\"red\" stroke-width=\"2\"/><path d=\"M 923.6363636363637 456.7101615041986 923.6363636363637 391.57877730434876\" stroke=\"green\" stroke-width=\"2\"/><path d=\"M 944.0909090909092 424.25564355657855 944.0909090909092 391.57877730434876\" stroke=\"green\" stroke-width=\"2\"/><path d=\"M 923.6363636363637 391.57877730434876 944.0909090909092 391.57877730434876\" stroke=\"green\" stroke-width=\"2\"/><path d=\"M 498.6363636363637 421.8290721741964 498.6363636363637 387.728294446804\" stroke=\"blue\" stroke-width=\"2\"/><path d=\"M 519.0909090909091 510 519.0909090909091 387.728294446804\" stroke=\"blue\" stroke-width=\"2\"/><path d=\"M 498.6363636363637 387.728294446804 519.0909090909091 387.728294446804\" stroke=\"blue\" stroke-width=\"2\"/><path d=\"M 14.545454545454547 418.4308110872178 14.545454545454547 385.5758432737979\" stroke=\"orange\" stroke-width=\"2\"/><path d=\"M 32.72727272727273 464.9197506492955 32.72727272727273 385.5758432737979\" stroke=\"orange\" stroke-width=\"2\"/><path d=\"M 14.545454545454547 385.5758432737979 32.72727272727273 385.5758432737979\" stroke=\"orange\" stroke-width=\"2\"/><path d=\"M 889.5454545454546 425.22242162583393 889.5454545454546 385.03969020451285\" stroke=\"green\" stroke-width=\"2\"/><path d=\"M 910.0000000000001 510 910.0000000000001 385.03969020451285\" stroke=\"green\" stroke-width=\"2\"/><path d=\"M 889.5454545454546 385.03969020451285 910.0000000000001 385.03969020451285\" stroke=\"green\" stroke-width=\"2\"/><path d=\"M 473.6363636363637 510 473.6363636363637 383.71653492535137\" stroke=\"blue\" stroke-width=\"2\"/><path d=\"M 482.72727272727275 510 482.72727272727275 383.71653492535137\" stroke=\"blue\" stroke-width=\"2\"/><path d=\"M 473.6363636363637 383.71653492535137 482.72727272727275 383.71653492535137\" stroke=\"blue\" stroke-width=\"2\"/><path d=\"M 639.5454545454545 409.54126118033753 639.5454545454545 375.93085435314913\" stroke=\"red\" stroke-width=\"2\"/><path d=\"M 655.4545454545455 510 655.4545454545455 375.93085435314913\" stroke=\"red\" stroke-width=\"2\"/><path d=\"M 639.5454545454545 375.93085435314913 655.4545454545455 375.93085435314913\" stroke=\"red\" stroke-width=\"2\"/><path d=\"M 832.7272727272727 414.8088283734014 832.7272727272727 375.1790290951069\" stroke=\"green\" stroke-width=\"2\"/><path d=\"M 850.909090909091 448.26668988625937 850.909090909091 375.1790290951069\" stroke=\"green\" stroke-width=\"2\"/><path d=\"M 832.7272727272727 375.1790290951069 850.909090909091 375.1790290951069\" stroke=\"green\" stroke-width=\"2\"/><path d=\"M 614.5454545454545 435.07412150004916 614.5454545454545 366.7320500646997\" stroke=\"red\" stroke-width=\"2\"/><path d=\"M 647.5 375.93085435314913 647.5 366.7320500646997\" stroke=\"red\" stroke-width=\"2\"/><path d=\"M 614.5454545454545 366.7320500646997 647.5 366.7320500646997\" stroke=\"red\" stroke-width=\"2\"/><path d=\"M 423.6363636363637 442.5065215530892 423.6363636363637 363.1136860765065\" stroke=\"blue\" stroke-width=\"2\"/><path d=\"M 437.2727272727273 510 437.2727272727273 363.1136860765065\" stroke=\"blue\" stroke-width=\"2\"/><path d=\"M 423.6363636363637 363.1136860765065 437.2727272727273 363.1136860765065\" stroke=\"blue\" stroke-width=\"2\"/><path d=\"M 63.409090909090914 408.4632235998652 63.409090909090914 362.2333460921544\" stroke=\"orange\" stroke-width=\"2\"/><path d=\"M 82.72727272727273 510 82.72727272727273 362.2333460921544\" stroke=\"orange\" stroke-width=\"2\"/><path d=\"M 63.409090909090914 362.2333460921544 82.72727272727273 362.2333460921544\" stroke=\"orange\" stroke-width=\"2\"/><path d=\"M 246.36363636363637 510 246.36363636363637 361.08378392358793\" stroke=\"blue\" stroke-width=\"2\"/><path d=\"M 255.45454545454547 510 255.45454545454547 361.08378392358793\" stroke=\"blue\" stroke-width=\"2\"/><path d=\"M 246.36363636363637 361.08378392358793 255.45454545454547 361.08378392358793\" stroke=\"blue\" stroke-width=\"2\"/><path d=\"M 864.5454545454546 510 864.5454545454546 359.3977334372228\" stroke=\"green\" stroke-width=\"2\"/><path d=\"M 873.6363636363637 510 873.6363636363637 359.3977334372228\" stroke=\"green\" stroke-width=\"2\"/><path d=\"M 864.5454545454546 359.3977334372228 873.6363636363637 359.3977334372228\" stroke=\"green\" stroke-width=\"2\"/><path d=\"M 111.13636363636365 417.686520241599 111.13636363636365 352.82907151673584\" stroke=\"orange\" stroke-width=\"2\"/><path d=\"M 150.9090909090909 432.0143789774456 150.9090909090909 352.82907151673584\" stroke=\"orange\" stroke-width=\"2\"/><path d=\"M 111.13636363636365 352.82907151673584 150.9090909090909 352.82907151673584\" stroke=\"orange\" stroke-width=\"2\"/><path d=\"M 594.0909090909091 460.56838877341414 594.0909090909091 351.2418187173002\" stroke=\"red\" stroke-width=\"2\"/><path d=\"M 631.0227272727273 366.7320500646997 631.0227272727273 351.2418187173002\" stroke=\"red\" stroke-width=\"2\"/><path d=\"M 594.0909090909091 351.2418187173002 631.0227272727273 351.2418187173002\" stroke=\"red\" stroke-width=\"2\"/><path d=\"M 899.7727272727274 385.03969020451285 899.7727272727274 348.9568979193908\" stroke=\"green\" stroke-width=\"2\"/><path d=\"M 933.8636363636365 391.57877730434876 933.8636363636365 348.9568979193908\" stroke=\"green\" stroke-width=\"2\"/><path d=\"M 899.7727272727274 348.9568979193908 933.8636363636365 348.9568979193908\" stroke=\"green\" stroke-width=\"2\"/><path d=\"M 343.52272727272725 428.5476824246672 343.52272727272725 335.2019753319629\" stroke=\"blue\" stroke-width=\"2\"/><path d=\"M 388.409090909091 407.5015206227838 388.409090909091 335.2019753319629\" stroke=\"blue\" stroke-width=\"2\"/><path d=\"M 343.52272727272725 335.2019753319629 388.409090909091 335.2019753319629\" stroke=\"blue\" stroke-width=\"2\"/><path d=\"M 760.0 486.76762077983074 760.0 334.8590083505132\" stroke=\"red\" stroke-width=\"2\"/><path d=\"M 785.0 434.593738221444 785.0 334.8590083505132\" stroke=\"red\" stroke-width=\"2\"/><path d=\"M 760.0 334.8590083505132 785.0 334.8590083505132\" stroke=\"red\" stroke-width=\"2\"/><path d=\"M 841.8181818181819 375.1790290951069 841.8181818181819 333.86655285454526\" stroke=\"green\" stroke-width=\"2\"/><path d=\"M 869.0909090909092 359.3977334372228 869.0909090909092 333.86655285454526\" stroke=\"green\" stroke-width=\"2\"/><path d=\"M 841.8181818181819 333.86655285454526 869.0909090909092 333.86655285454526\" stroke=\"green\" stroke-width=\"2\"/><path d=\"M 250.90909090909093 361.08378392358793 250.90909090909093 332.7791846369187\" stroke=\"blue\" stroke-width=\"2\"/><path d=\"M 269.0909090909091 418.2717170407511 269.0909090909091 332.7791846369187\" stroke=\"blue\" stroke-width=\"2\"/><path d=\"M 250.90909090909093 332.7791846369187 269.0909090909091 332.7791846369187\" stroke=\"blue\" stroke-width=\"2\"/><path d=\"M 612.5568181818182 351.2418187173002 612.5568181818182 323.72463658455774\" stroke=\"red\" stroke-width=\"2\"/><path d=\"M 671.3636363636365 434.26457347122977 671.3636363636365 323.72463658455774\" stroke=\"red\" stroke-width=\"2\"/><path d=\"M 612.5568181818182 323.72463658455774 671.3636363636365 323.72463658455774\" stroke=\"red\" stroke-width=\"2\"/><path d=\"M 539.5454545454545 416.35040122270624 539.5454545454545 318.1333595307482\" stroke=\"blue\" stroke-width=\"2\"/><path d=\"M 566.8181818181819 417.13043971077445 566.8181818181819 318.1333595307482\" stroke=\"blue\" stroke-width=\"2\"/><path d=\"M 539.5454545454545 318.1333595307482 566.8181818181819 318.1333595307482\" stroke=\"blue\" stroke-width=\"2\"/><path d=\"M 430.4545454545455 363.1136860765065 430.4545454545455 318.1114043245128\" stroke=\"blue\" stroke-width=\"2\"/><path d=\"M 457.72727272727275 438.5025812475487 457.72727272727275 318.1114043245128\" stroke=\"blue\" stroke-width=\"2\"/><path d=\"M 430.4545454545455 318.1114043245128 457.72727272727275 318.1114043245128\" stroke=\"blue\" stroke-width=\"2\"/><path d=\"M 207.72727272727275 484.40488985970285 207.72727272727275 315.98709970842685\" stroke=\"blue\" stroke-width=\"2\"/><path d=\"M 232.72727272727275 436.7698168379703 232.72727272727275 315.98709970842685\" stroke=\"blue\" stroke-width=\"2\"/><path d=\"M 207.72727272727275 315.98709970842685 232.72727272727275 315.98709970842685\" stroke=\"blue\" stroke-width=\"2\"/><path d=\"M 916.818181818182 348.9568979193908 916.818181818182 300.4622526360879\" stroke=\"green\" stroke-width=\"2\"/><path d=\"M 964.5454545454546 510 964.5454545454546 300.4622526360879\" stroke=\"green\" stroke-width=\"2\"/><path d=\"M 916.818181818182 300.4622526360879 964.5454545454546 300.4622526360879\" stroke=\"green\" stroke-width=\"2\"/><path d=\"M 296.3636363636364 410.7417726603571 296.3636363636364 299.80539785714876\" stroke=\"blue\" stroke-width=\"2\"/><path d=\"M 365.9659090909091 335.2019753319629 365.9659090909091 299.80539785714876\" stroke=\"blue\" stroke-width=\"2\"/><path d=\"M 296.3636363636364 299.80539785714876 365.9659090909091 299.80539785714876\" stroke=\"blue\" stroke-width=\"2\"/><path d=\"M 696.3636363636365 422.79959863903844 696.3636363636365 297.7962575436399\" stroke=\"red\" stroke-width=\"2\"/><path d=\"M 714.5454545454546 397.3211558101525 714.5454545454546 297.7962575436399\" stroke=\"red\" stroke-width=\"2\"/><path d=\"M 696.3636363636365 297.7962575436399 714.5454545454546 297.7962575436399\" stroke=\"red\" stroke-width=\"2\"/><path d=\"M 739.5454545454545 393.1551937666313 739.5454545454545 291.42630408756156\" stroke=\"red\" stroke-width=\"2\"/><path d=\"M 772.5 334.8590083505132 772.5 291.42630408756156\" stroke=\"red\" stroke-width=\"2\"/><path d=\"M 739.5454545454545 291.42630408756156 772.5 291.42630408756156\" stroke=\"red\" stroke-width=\"2\"/><path d=\"M 812.2727272727273 449.85797416205844 812.2727272727273 285.9549371760111\" stroke=\"green\" stroke-width=\"2\"/><path d=\"M 855.4545454545455 333.86655285454526 855.4545454545455 285.9549371760111\" stroke=\"green\" stroke-width=\"2\"/><path d=\"M 812.2727272727273 285.9549371760111 855.4545454545455 285.9549371760111\" stroke=\"green\" stroke-width=\"2\"/><path d=\"M 833.8636363636364 285.9549371760111 833.8636363636364 281.1887217591203\" stroke=\"green\" stroke-width=\"2\"/><path d=\"M 940.6818181818182 300.4622526360879 940.6818181818182 281.1887217591203\" stroke=\"green\" stroke-width=\"2\"/><path d=\"M 833.8636363636364 281.1887217591203 940.6818181818182 281.1887217591203\" stroke=\"green\" stroke-width=\"2\"/><path d=\"M 978.1818181818182 413.4976789877595 978.1818181818182 279.34428601617117\" stroke=\"green\" stroke-width=\"2\"/><path d=\"M 991.8181818181819 510 991.8181818181819 279.34428601617117\" stroke=\"green\" stroke-width=\"2\"/><path d=\"M 978.1818181818182 279.34428601617117 991.8181818181819 279.34428601617117\" stroke=\"green\" stroke-width=\"2\"/><path d=\"M 478.18181818181824 383.71653492535137 478.18181818181824 273.52858811320516\" stroke=\"blue\" stroke-width=\"2\"/><path d=\"M 508.8636363636364 387.728294446804 508.8636363636364 273.52858811320516\" stroke=\"blue\" stroke-width=\"2\"/><path d=\"M 478.18181818181824 273.52858811320516 508.8636363636364 273.52858811320516\" stroke=\"blue\" stroke-width=\"2\"/><path d=\"M 220.22727272727275 315.98709970842685 220.22727272727275 266.55153603142645\" stroke=\"blue\" stroke-width=\"2\"/><path d=\"M 260.0 332.7791846369187 260.0 266.55153603142645\" stroke=\"blue\" stroke-width=\"2\"/><path d=\"M 220.22727272727275 266.55153603142645 260.0 266.55153603142645\" stroke=\"blue\" stroke-width=\"2\"/><path d=\"M 641.9602272727274 323.72463658455774 641.9602272727274 255.5379988567269\" stroke=\"red\" stroke-width=\"2\"/><path d=\"M 705.4545454545455 297.7962575436399 705.4545454545455 255.5379988567269\" stroke=\"red\" stroke-width=\"2\"/><path d=\"M 641.9602272727274 255.5379988567269 705.4545454545455 255.5379988567269\" stroke=\"red\" stroke-width=\"2\"/><path d=\"M 131.02272727272728 352.82907151673584 131.02272727272728 236.48788558920154\" stroke=\"orange\" stroke-width=\"2\"/><path d=\"M 185.0 407.1610510352296 185.0 236.48788558920154\" stroke=\"orange\" stroke-width=\"2\"/><path d=\"M 131.02272727272728 236.48788558920154 185.0 236.48788558920154\" stroke=\"orange\" stroke-width=\"2\"/><path d=\"M 985.0 279.34428601617117 985.0 233.77924449557008\" stroke=\"green\" stroke-width=\"2\"/><path d=\"M 1000.909090909091 510 1000.909090909091 233.77924449557008\" stroke=\"green\" stroke-width=\"2\"/><path d=\"M 985.0 233.77924449557008 1000.909090909091 233.77924449557008\" stroke=\"green\" stroke-width=\"2\"/><path d=\"M 444.0909090909091 318.1114043245128 444.0909090909091 229.21414325226505\" stroke=\"blue\" stroke-width=\"2\"/><path d=\"M 493.5227272727273 273.52858811320516 493.5227272727273 229.21414325226505\" stroke=\"blue\" stroke-width=\"2\"/><path d=\"M 444.0909090909091 229.21414325226505 493.5227272727273 229.21414325226505\" stroke=\"blue\" stroke-width=\"2\"/><path d=\"M 23.636363636363637 385.5758432737979 23.636363636363637 222.84320439045797\" stroke=\"orange\" stroke-width=\"2\"/><path d=\"M 73.06818181818183 362.2333460921544 73.06818181818183 222.84320439045797\" stroke=\"orange\" stroke-width=\"2\"/><path d=\"M 23.636363636363637 222.84320439045797 73.06818181818183 222.84320439045797\" stroke=\"orange\" stroke-width=\"2\"/><path d=\"M 240.11363636363637 266.55153603142645 240.11363636363637 218.98458807961794\" stroke=\"blue\" stroke-width=\"2\"/><path d=\"M 331.16477272727275 299.80539785714876 331.16477272727275 218.98458807961794\" stroke=\"blue\" stroke-width=\"2\"/><path d=\"M 240.11363636363637 218.98458807961794 331.16477272727275 218.98458807961794\" stroke=\"blue\" stroke-width=\"2\"/><path d=\"M 673.7073863636365 255.5379988567269 673.7073863636365 196.95150647243895\" stroke=\"red\" stroke-width=\"2\"/><path d=\"M 756.0227272727273 291.42630408756156 756.0227272727273 196.95150647243895\" stroke=\"red\" stroke-width=\"2\"/><path d=\"M 673.7073863636365 196.95150647243895 756.0227272727273 196.95150647243895\" stroke=\"red\" stroke-width=\"2\"/><path d=\"M 887.2727272727273 281.1887217591203 887.2727272727273 168.54904920967397\" stroke=\"green\" stroke-width=\"2\"/><path d=\"M 992.9545454545455 233.77924449557008 992.9545454545455 168.54904920967397\" stroke=\"green\" stroke-width=\"2\"/><path d=\"M 887.2727272727273 168.54904920967397 992.9545454545455 168.54904920967397\" stroke=\"green\" stroke-width=\"2\"/><path d=\"M 468.80681818181824 229.21414325226505 468.80681818181824 167.06421185263645\" stroke=\"blue\" stroke-width=\"2\"/><path d=\"M 553.1818181818182 318.1333595307482 553.1818181818182 167.06421185263645\" stroke=\"blue\" stroke-width=\"2\"/><path d=\"M 468.80681818181824 167.06421185263645 553.1818181818182 167.06421185263645\" stroke=\"blue\" stroke-width=\"2\"/><path d=\"M 285.63920454545456 218.98458807961794 285.63920454545456 153.94794857417435\" stroke=\"blue\" stroke-width=\"2\"/><path d=\"M 510.99431818181824 167.06421185263645 510.99431818181824 153.94794857417435\" stroke=\"blue\" stroke-width=\"2\"/><path d=\"M 285.63920454545456 153.94794857417435 510.99431818181824 153.94794857417435\" stroke=\"blue\" stroke-width=\"2\"/><path d=\"M 48.352272727272734 222.84320439045797 48.352272727272734 134.21872854568397\" stroke=\"orange\" stroke-width=\"2\"/><path d=\"M 158.01136363636363 236.48788558920154 158.01136363636363 134.21872854568397\" stroke=\"orange\" stroke-width=\"2\"/><path d=\"M 48.352272727272734 134.21872854568397 158.01136363636363 134.21872854568397\" stroke=\"orange\" stroke-width=\"2\"/><path d=\"M 398.3167613636364 153.94794857417435 398.3167613636364 83.01786532115551\" stroke=\"black\" stroke-width=\"2\"/><path d=\"M 714.8650568181819 196.95150647243895 714.8650568181819 83.01786532115551\" stroke=\"black\" stroke-width=\"2\"/><path d=\"M 398.3167613636364 83.01786532115551 714.8650568181819 83.01786532115551\" stroke=\"black\" stroke-width=\"2\"/><path d=\"M 103.18181818181819 134.21872854568397 103.18181818181819 32.75474763859876\" stroke=\"black\" stroke-width=\"2\"/><path d=\"M 556.5909090909091 83.01786532115551 556.5909090909091 32.75474763859876\" stroke=\"black\" stroke-width=\"2\"/><path d=\"M 103.18181818181819 32.75474763859876 556.5909090909091 32.75474763859876\" stroke=\"black\" stroke-width=\"2\"/><path d=\"M 329.8863636363636 32.75474763859876 329.8863636363636 9.999999999999943\" stroke=\"black\" stroke-width=\"2\"/><path d=\"M 940.1136363636364 168.54904920967397 940.1136363636364 9.999999999999943\" stroke=\"black\" stroke-width=\"2\"/><path d=\"M 329.8863636363636 9.999999999999943 940.1136363636364 9.999999999999943\" stroke=\"black\" stroke-width=\"2\"/></svg>"
          },
          "metadata": {},
          "execution_count": 564
        }
      ]
    },
    {
      "cell_type": "markdown",
      "source": [
        "**Metrics**"
      ],
      "metadata": {
        "id": "UszBkakgHkq0"
      }
    },
    {
      "cell_type": "code",
      "source": [
        "nodelist = list(G_reduced.nodes)\n",
        "labels = list(cut_straight(dendrogram, n_clusters=4, return_dendrogram=False))\n",
        "\n",
        "community_dend = [[],[],[],[]]\n",
        "i = 0\n",
        "for node in nodelist:\n",
        "  community_dend[labels[i]].append(node)\n",
        "  i += 1\n",
        "\n",
        "_ = compute_metrics(G_reduced, community_dend)"
      ],
      "metadata": {
        "id": "TpNYzEESHkq0",
        "colab": {
          "base_uri": "https://localhost:8080/"
        },
        "outputId": "a1db6eb5-a29b-4785-f378-2efd8b08e560"
      },
      "execution_count": 565,
      "outputs": [
        {
          "output_type": "stream",
          "name": "stdout",
          "text": [
            "Coverage:  0.30505952380952384\n",
            "Performance:  0.5145954962468724\n",
            "Modularity:  0.15802924091687812\n"
          ]
        }
      ]
    },
    {
      "cell_type": "code",
      "source": [
        "image = svg_dendrogram(dendrogram, names, n_clusters=8, rotate=False,width=1000,height=500,filename='community_dendogram8_all_periods')\n",
        "SVG(image)"
      ],
      "metadata": {
        "colab": {
          "base_uri": "https://localhost:8080/",
          "height": 0
        },
        "id": "8QIK-7a6Q_JW",
        "outputId": "22f98191-4b94-4903-fff4-e39280f7a865"
      },
      "execution_count": 566,
      "outputs": [
        {
          "output_type": "execute_result",
          "data": {
            "text/plain": [
              "<IPython.core.display.SVG object>"
            ],
            "image/svg+xml": "<svg height=\"597.0\" width=\"1020\" xmlns=\"http://www.w3.org/2000/svg\"><text font-size=\"12\" transform=\"rotate(60, 650.4545454545455, 515)\" x=\"650.4545454545455\" y=\"515\">china</text><text font-size=\"12\" transform=\"rotate(60, 641.3636363636364, 515)\" x=\"641.3636363636364\" y=\"515\">novel</text><text font-size=\"12\" transform=\"rotate(60, 614.0909090909091, 515)\" x=\"614.0909090909091\" y=\"515\">outbreak</text><text font-size=\"12\" transform=\"rotate(60, 159.54545454545456, 515)\" x=\"159.54545454545456\" y=\"515\">president</text><text font-size=\"12\" transform=\"rotate(60, 514.0909090909091, 515)\" x=\"514.0909090909091\" y=\"515\">global</text><text font-size=\"12\" transform=\"rotate(60, 150.45454545454547, 515)\" x=\"150.45454545454547\" y=\"515\">trump</text><text font-size=\"12\" transform=\"rotate(60, 250.45454545454547, 515)\" x=\"250.45454545454547\" y=\"515\">say</text><text font-size=\"12\" transform=\"rotate(60, 141.36363636363637, 515)\" x=\"141.36363636363637\" y=\"515\">house</text><text font-size=\"12\" transform=\"rotate(60, 741.3636363636364, 515)\" x=\"741.3636363636364\" y=\"515\">people</text><text font-size=\"12\" transform=\"rotate(60, 495.90909090909093, 515)\" x=\"495.90909090909093\" y=\"515\">world</text><text font-size=\"12\" transform=\"rotate(60, 659.5454545454546, 515)\" x=\"659.5454545454546\" y=\"515\">medical</text><text font-size=\"12\" transform=\"rotate(60, 177.72727272727275, 515)\" x=\"177.72727272727275\" y=\"515\">first</text><text font-size=\"12\" transform=\"rotate(60, 714.0909090909091, 515)\" x=\"714.0909090909091\" y=\"515\">virus</text><text font-size=\"12\" transform=\"rotate(60, 832.2727272727274, 515)\" x=\"832.2727272727274\" y=\"515\">case</text><text font-size=\"12\" transform=\"rotate(60, 123.18181818181819, 515)\" x=\"123.18181818181819\" y=\"515\">test</text><text font-size=\"12\" transform=\"rotate(60, 114.0909090909091, 515)\" x=\"114.0909090909091\" y=\"515\">positive</text><text font-size=\"12\" transform=\"rotate(60, 395.90909090909093, 515)\" x=\"395.90909090909093\" y=\"515\">data</text><text font-size=\"12\" transform=\"rotate(60, 450.4545454545455, 515)\" x=\"450.4545454545455\" y=\"515\">million</text><text font-size=\"12\" transform=\"rotate(60, 795.909090909091, 515)\" x=\"795.909090909091\" y=\"515\">death</text><text font-size=\"12\" transform=\"rotate(60, 477.72727272727275, 515)\" x=\"477.72727272727275\" y=\"515\">accord</text><text font-size=\"12\" transform=\"rotate(60, 868.6363636363637, 515)\" x=\"868.6363636363637\" y=\"515\">new</text><text font-size=\"12\" transform=\"rotate(60, 386.81818181818187, 515)\" x=\"386.81818181818187\" y=\"515\">show</text><text font-size=\"12\" transform=\"rotate(60, 405.00000000000006, 515)\" x=\"405.00000000000006\" y=\"515\">trial</text><text font-size=\"12\" transform=\"rotate(60, 77.72727272727273, 515)\" x=\"77.72727272727273\" y=\"515\">state</text><text font-size=\"12\" transform=\"rotate(60, 305.0, 515)\" x=\"305.0\" y=\"515\">make</text><text font-size=\"12\" transform=\"rotate(60, 559.5454545454546, 515)\" x=\"559.5454545454546\" y=\"515\">face</text><text font-size=\"12\" transform=\"rotate(60, 268.6363636363637, 515)\" x=\"268.6363636363637\" y=\"515\">expert</text><text font-size=\"12\" transform=\"rotate(60, 541.3636363636364, 515)\" x=\"541.3636363636364\" y=\"515\">pandemic</text><text font-size=\"12\" transform=\"rotate(60, 195.90909090909093, 515)\" x=\"195.90909090909093\" y=\"515\">disease</text><text font-size=\"12\" transform=\"rotate(60, 986.8181818181819, 515)\" x=\"986.8181818181819\" y=\"515\">take</text><text font-size=\"12\" transform=\"rotate(60, 486.81818181818187, 515)\" x=\"486.81818181818187\" y=\"515\">health</text><text font-size=\"12\" transform=\"rotate(60, 505.00000000000006, 515)\" x=\"505.00000000000006\" y=\"515\">organization</text><text font-size=\"12\" transform=\"rotate(60, 68.63636363636364, 515)\" x=\"68.63636363636364\" y=\"515\">announce</text><text font-size=\"12\" transform=\"rotate(60, 823.1818181818182, 515)\" x=\"823.1818181818182\" y=\"515\">confirm</text><text font-size=\"12\" transform=\"rotate(60, 105.00000000000001, 515)\" x=\"105.00000000000001\" y=\"515\">cruise</text><text font-size=\"12\" transform=\"rotate(60, 95.90909090909092, 515)\" x=\"95.90909090909092\" y=\"515\">ship</text><text font-size=\"12\" transform=\"rotate(60, 432.2727272727273, 515)\" x=\"432.2727272727273\" y=\"515\">country</text><text font-size=\"12\" transform=\"rotate(60, 586.8181818181819, 515)\" x=\"586.8181818181819\" y=\"515\">live</text><text font-size=\"12\" transform=\"rotate(60, 186.81818181818184, 515)\" x=\"186.81818181818184\" y=\"515\">since</text><text font-size=\"12\" transform=\"rotate(60, 595.909090909091, 515)\" x=\"595.909090909091\" y=\"515\">late</text><text font-size=\"12\" transform=\"rotate(60, 632.2727272727274, 515)\" x=\"632.2727272727274\" y=\"515\">hubei</text><text font-size=\"12\" transform=\"rotate(60, 623.1818181818182, 515)\" x=\"623.1818181818182\" y=\"515\">province</text><text font-size=\"12\" transform=\"rotate(60, 768.6363636363637, 515)\" x=\"768.6363636363637\" y=\"515\">hospital</text><text font-size=\"12\" transform=\"rotate(60, 668.6363636363637, 515)\" x=\"668.6363636363637\" y=\"515\">help</text><text font-size=\"12\" transform=\"rotate(60, 677.7272727272727, 515)\" x=\"677.7272727272727\" y=\"515\">fight</text><text font-size=\"12\" transform=\"rotate(60, 923.1818181818182, 515)\" x=\"923.1818181818182\" y=\"515\">risk</text><text font-size=\"12\" transform=\"rotate(60, 605.0, 515)\" x=\"605.0\" y=\"515\">amid</text><text font-size=\"12\" transform=\"rotate(60, 841.3636363636365, 515)\" x=\"841.3636363636365\" y=\"515\">number</text><text font-size=\"12\" transform=\"rotate(60, 995.909090909091, 515)\" x=\"995.909090909091\" y=\"515\">day</text><text font-size=\"12\" transform=\"rotate(60, 423.18181818181824, 515)\" x=\"423.18181818181824\" y=\"515\">minister</text><text font-size=\"12\" transform=\"rotate(60, 968.6363636363637, 515)\" x=\"968.6363636363637\" y=\"515\">include</text><text font-size=\"12\" transform=\"rotate(60, 550.4545454545455, 515)\" x=\"550.4545454545455\" y=\"515\">mask</text><text font-size=\"12\" transform=\"rotate(60, 223.1818181818182, 515)\" x=\"223.1818181818182\" y=\"515\">official</text><text font-size=\"12\" transform=\"rotate(60, 941.3636363636365, 515)\" x=\"941.3636363636365\" y=\"515\">daily</text><text font-size=\"12\" transform=\"rotate(60, 214.09090909090912, 515)\" x=\"214.09090909090912\" y=\"515\">control</text><text font-size=\"12\" transform=\"rotate(60, 23.181818181818183, 515)\" x=\"23.181818181818183\" y=\"515\">week</text><text font-size=\"12\" transform=\"rotate(60, 850.4545454545455, 515)\" x=\"850.4545454545455\" y=\"515\">total</text><text font-size=\"12\" transform=\"rotate(60, 286.81818181818187, 515)\" x=\"286.81818181818187\" y=\"515\">back</text><text font-size=\"12\" transform=\"rotate(60, 277.72727272727275, 515)\" x=\"277.72727272727275\" y=\"515\">work</text><text font-size=\"12\" transform=\"rotate(60, 977.7272727272729, 515)\" x=\"977.7272727272729\" y=\"515\">one</text><text font-size=\"12\" transform=\"rotate(60, 295.90909090909093, 515)\" x=\"295.90909090909093\" y=\"515\">get</text><text font-size=\"12\" transform=\"rotate(60, 468.6363636363637, 515)\" x=\"468.6363636363637\" y=\"515\">national</text><text font-size=\"12\" transform=\"rotate(60, 914.0909090909091, 515)\" x=\"914.0909090909091\" y=\"515\">high</text><text font-size=\"12\" transform=\"rotate(60, 350.4545454545455, 515)\" x=\"350.4545454545455\" y=\"515\">use</text><text font-size=\"12\" transform=\"rotate(60, 732.2727272727274, 515)\" x=\"732.2727272727274\" y=\"515\">die</text><text font-size=\"12\" transform=\"rotate(60, 686.8181818181819, 515)\" x=\"686.8181818181819\" y=\"515\">city</text><text font-size=\"12\" transform=\"rotate(60, 414.0909090909091, 515)\" x=\"414.0909090909091\" y=\"515\">second</text><text font-size=\"12\" transform=\"rotate(60, 532.2727272727274, 515)\" x=\"532.2727272727274\" y=\"515\">due</text><text font-size=\"12\" transform=\"rotate(60, 695.909090909091, 515)\" x=\"695.909090909091\" y=\"515\">authority</text><text font-size=\"12\" transform=\"rotate(60, 377.72727272727275, 515)\" x=\"377.72727272727275\" y=\"515\">find</text><text font-size=\"12\" transform=\"rotate(60, 241.36363636363637, 515)\" x=\"241.36363636363637\" y=\"515\">may</text><text font-size=\"12\" transform=\"rotate(60, 786.8181818181819, 515)\" x=\"786.8181818181819\" y=\"515\">infect</text><text font-size=\"12\" transform=\"rotate(60, 959.5454545454546, 515)\" x=\"959.5454545454546\" y=\"515\">see</text><text font-size=\"12\" transform=\"rotate(60, 777.7272727272727, 515)\" x=\"777.7272727272727\" y=\"515\">patient</text><text font-size=\"12\" transform=\"rotate(60, 705.0000000000001, 515)\" x=\"705.0000000000001\" y=\"515\">spread</text><text font-size=\"12\" transform=\"rotate(60, 750.4545454545455, 515)\" x=\"750.4545454545455\" y=\"515\">year</text><text font-size=\"12\" transform=\"rotate(60, 759.5454545454546, 515)\" x=\"759.5454545454546\" y=\"515\">old</text><text font-size=\"12\" transform=\"rotate(60, 859.5454545454546, 515)\" x=\"859.5454545454546\" y=\"515\">report</text><text font-size=\"12\" transform=\"rotate(60, 805.0000000000001, 515)\" x=\"805.0000000000001\" y=\"515\">toll</text><text font-size=\"12\" transform=\"rotate(60, 877.7272727272727, 515)\" x=\"877.7272727272727\" y=\"515\">infection</text><text font-size=\"12\" transform=\"rotate(60, 723.1818181818182, 515)\" x=\"723.1818181818182\" y=\"515\">doctor</text><text font-size=\"12\" transform=\"rotate(60, 523.1818181818182, 515)\" x=\"523.1818181818182\" y=\"515\">close</text><text font-size=\"12\" transform=\"rotate(60, 32.27272727272727, 515)\" x=\"32.27272727272727\" y=\"515\">last</text><text font-size=\"12\" transform=\"rotate(60, 259.54545454545456, 515)\" x=\"259.54545454545456\" y=\"515\">could</text><text font-size=\"12\" transform=\"rotate(60, 459.54545454545456, 515)\" x=\"459.54545454545456\" y=\"515\">receive</text><text font-size=\"12\" transform=\"rotate(60, 41.36363636363637, 515)\" x=\"41.36363636363637\" y=\"515\">government</text><text font-size=\"12\" transform=\"rotate(60, 86.81818181818183, 515)\" x=\"86.81818181818183\" y=\"515\">quarantine</text><text font-size=\"12\" transform=\"rotate(60, 232.27272727272728, 515)\" x=\"232.27272727272728\" y=\"515\">top</text><text font-size=\"12\" transform=\"rotate(60, 14.090909090909093, 515)\" x=\"14.090909090909093\" y=\"515\">month</text><text font-size=\"12\" transform=\"rotate(60, 5.0, 515)\" x=\"5.0\" y=\"515\">two</text><text font-size=\"12\" transform=\"rotate(60, 568.6363636363637, 515)\" x=\"568.6363636363637\" y=\"515\">public</text><text font-size=\"12\" transform=\"rotate(60, 359.54545454545456, 515)\" x=\"359.54545454545456\" y=\"515\">emergency</text><text font-size=\"12\" transform=\"rotate(60, 577.7272727272727, 515)\" x=\"577.7272727272727\" y=\"515\">follow</text><text font-size=\"12\" transform=\"rotate(60, 168.63636363636365, 515)\" x=\"168.63636363636365\" y=\"515\">time</text><text font-size=\"12\" transform=\"rotate(60, 905.0000000000001, 515)\" x=\"905.0000000000001\" y=\"515\">rise</text><text font-size=\"12\" transform=\"rotate(60, 59.54545454545455, 515)\" x=\"59.54545454545455\" y=\"515\">travel</text><text font-size=\"12\" transform=\"rotate(60, 50.45454545454546, 515)\" x=\"50.45454545454546\" y=\"515\">restriction</text><text font-size=\"12\" transform=\"rotate(60, 205.00000000000003, 515)\" x=\"205.00000000000003\" y=\"515\">center</text><text font-size=\"12\" transform=\"rotate(60, 368.6363636363637, 515)\" x=\"368.6363636363637\" y=\"515\">study</text><text font-size=\"12\" transform=\"rotate(60, 932.2727272727274, 515)\" x=\"932.2727272727274\" y=\"515\">hit</text><text font-size=\"12\" transform=\"rotate(60, 814.0909090909091, 515)\" x=\"814.0909090909091\" y=\"515\">brazil</text><text font-size=\"12\" transform=\"rotate(60, 950.4545454545455, 515)\" x=\"950.4545454545455\" y=\"515\">record</text><text font-size=\"12\" transform=\"rotate(60, 441.3636363636364, 515)\" x=\"441.3636363636364\" y=\"515\">dos</text><text font-size=\"12\" transform=\"rotate(60, 314.0909090909091, 515)\" x=\"314.0909090909091\" y=\"515\">shot</text><text font-size=\"12\" transform=\"rotate(60, 132.27272727272728, 515)\" x=\"132.27272727272728\" y=\"515\">white</text><text font-size=\"12\" transform=\"rotate(60, 895.909090909091, 515)\" x=\"895.909090909091\" y=\"515\">surge</text><text font-size=\"12\" transform=\"rotate(60, 886.8181818181819, 515)\" x=\"886.8181818181819\" y=\"515\">india</text><text font-size=\"12\" transform=\"rotate(60, 341.3636363636364, 515)\" x=\"341.3636363636364\" y=\"515\">blood</text><text font-size=\"12\" transform=\"rotate(60, 332.2727272727273, 515)\" x=\"332.2727272727273\" y=\"515\">clot</text><text font-size=\"12\" transform=\"rotate(60, 323.1818181818182, 515)\" x=\"323.1818181818182\" y=\"515\">johnson</text><path d=\"M 337.2727272727273 510 337.2727272727273 505.223654343176\" stroke=\"blue\" stroke-width=\"2\"/><path d=\"M 346.3636363636364 510 346.3636363636364 505.223654343176\" stroke=\"blue\" stroke-width=\"2\"/><path d=\"M 337.2727272727273 505.223654343176 346.3636363636364 505.223654343176\" stroke=\"blue\" stroke-width=\"2\"/><path d=\"M 100.90909090909092 510 100.90909090909092 504.9339043887741\" stroke=\"orange\" stroke-width=\"2\"/><path d=\"M 110.00000000000001 510 110.00000000000001 504.9339043887741\" stroke=\"orange\" stroke-width=\"2\"/><path d=\"M 100.90909090909092 504.9339043887741 110.00000000000001 504.9339043887741\" stroke=\"orange\" stroke-width=\"2\"/><path d=\"M 555.4545454545455 510 555.4545454545455 493.33189949737084\" stroke=\"fuchsia\" stroke-width=\"2\"/><path d=\"M 564.5454545454546 510 564.5454545454546 493.33189949737084\" stroke=\"fuchsia\" stroke-width=\"2\"/><path d=\"M 555.4545454545455 493.33189949737084 564.5454545454546 493.33189949737084\" stroke=\"fuchsia\" stroke-width=\"2\"/><path d=\"M 137.27272727272728 510 137.27272727272728 492.5622056634425\" stroke=\"orange\" stroke-width=\"2\"/><path d=\"M 146.36363636363637 510 146.36363636363637 492.5622056634425\" stroke=\"orange\" stroke-width=\"2\"/><path d=\"M 137.27272727272728 492.5622056634425 146.36363636363637 492.5622056634425\" stroke=\"orange\" stroke-width=\"2\"/><path d=\"M 628.1818181818182 510 628.1818181818182 490.5473751104885\" stroke=\"red\" stroke-width=\"2\"/><path d=\"M 637.2727272727274 510 637.2727272727274 490.5473751104885\" stroke=\"red\" stroke-width=\"2\"/><path d=\"M 628.1818181818182 490.5473751104885 637.2727272727274 490.5473751104885\" stroke=\"red\" stroke-width=\"2\"/><path d=\"M 210.00000000000003 510 210.00000000000003 490.0998506770439\" stroke=\"blue\" stroke-width=\"2\"/><path d=\"M 219.09090909090912 510 219.09090909090912 490.0998506770439\" stroke=\"blue\" stroke-width=\"2\"/><path d=\"M 210.00000000000003 490.0998506770439 219.09090909090912 490.0998506770439\" stroke=\"blue\" stroke-width=\"2\"/><path d=\"M 373.6363636363637 510 373.6363636363637 489.78692357357295\" stroke=\"blue\" stroke-width=\"2\"/><path d=\"M 382.72727272727275 510 382.72727272727275 489.78692357357295\" stroke=\"blue\" stroke-width=\"2\"/><path d=\"M 373.6363636363637 489.78692357357295 382.72727272727275 489.78692357357295\" stroke=\"blue\" stroke-width=\"2\"/><path d=\"M 355.4545454545455 510 355.4545454545455 489.2737631053899\" stroke=\"blue\" stroke-width=\"2\"/><path d=\"M 364.54545454545456 510 364.54545454545456 489.2737631053899\" stroke=\"blue\" stroke-width=\"2\"/><path d=\"M 355.4545454545455 489.2737631053899 364.54545454545456 489.2737631053899\" stroke=\"blue\" stroke-width=\"2\"/><path d=\"M 446.3636363636364 510 446.3636363636364 488.2057243466458\" stroke=\"purple\" stroke-width=\"2\"/><path d=\"M 455.4545454545455 510 455.4545454545455 488.2057243466458\" stroke=\"purple\" stroke-width=\"2\"/><path d=\"M 446.3636363636364 488.2057243466458 455.4545454545455 488.2057243466458\" stroke=\"purple\" stroke-width=\"2\"/><path d=\"M 755.4545454545455 510 755.4545454545455 486.76762077983074\" stroke=\"red\" stroke-width=\"2\"/><path d=\"M 764.5454545454546 510 764.5454545454546 486.76762077983074\" stroke=\"red\" stroke-width=\"2\"/><path d=\"M 755.4545454545455 486.76762077983074 764.5454545454546 486.76762077983074\" stroke=\"red\" stroke-width=\"2\"/><path d=\"M 91.81818181818183 510 91.81818181818183 486.5818944824582\" stroke=\"orange\" stroke-width=\"2\"/><path d=\"M 105.45454545454547 504.9339043887741 105.45454545454547 486.5818944824582\" stroke=\"orange\" stroke-width=\"2\"/><path d=\"M 91.81818181818183 486.5818944824582 105.45454545454547 486.5818944824582\" stroke=\"orange\" stroke-width=\"2\"/><path d=\"M 400.90909090909093 510 400.90909090909093 485.8737715792222\" stroke=\"blue\" stroke-width=\"2\"/><path d=\"M 410.00000000000006 510 410.00000000000006 485.8737715792222\" stroke=\"blue\" stroke-width=\"2\"/><path d=\"M 400.90909090909093 485.8737715792222 410.00000000000006 485.8737715792222\" stroke=\"blue\" stroke-width=\"2\"/><path d=\"M 328.1818181818182 510 328.1818181818182 485.8400424342858\" stroke=\"blue\" stroke-width=\"2\"/><path d=\"M 341.81818181818187 505.223654343176 341.81818181818187 485.8400424342858\" stroke=\"blue\" stroke-width=\"2\"/><path d=\"M 328.1818181818182 485.8400424342858 341.81818181818187 485.8400424342858\" stroke=\"blue\" stroke-width=\"2\"/><path d=\"M 500.90909090909093 510 500.90909090909093 485.065649587585\" stroke=\"purple\" stroke-width=\"2\"/><path d=\"M 510.00000000000006 510 510.00000000000006 485.065649587585\" stroke=\"purple\" stroke-width=\"2\"/><path d=\"M 500.90909090909093 485.065649587585 510.00000000000006 485.065649587585\" stroke=\"purple\" stroke-width=\"2\"/><path d=\"M 200.90909090909093 510 200.90909090909093 484.40488985970285\" stroke=\"blue\" stroke-width=\"2\"/><path d=\"M 214.54545454545456 490.0998506770439 214.54545454545456 484.40488985970285\" stroke=\"blue\" stroke-width=\"2\"/><path d=\"M 200.90909090909093 484.40488985970285 214.54545454545456 484.40488985970285\" stroke=\"blue\" stroke-width=\"2\"/><path d=\"M 319.0909090909091 510 319.0909090909091 477.03343076020326\" stroke=\"blue\" stroke-width=\"2\"/><path d=\"M 335.0 485.8400424342858 335.0 477.03343076020326\" stroke=\"blue\" stroke-width=\"2\"/><path d=\"M 319.0909090909091 477.03343076020326 335.0 477.03343076020326\" stroke=\"blue\" stroke-width=\"2\"/><path d=\"M 773.6363636363637 510 773.6363636363637 475.0964934631975\" stroke=\"red\" stroke-width=\"2\"/><path d=\"M 782.7272727272727 510 782.7272727272727 475.0964934631975\" stroke=\"red\" stroke-width=\"2\"/><path d=\"M 773.6363636363637 475.0964934631975 782.7272727272727 475.0964934631975\" stroke=\"red\" stroke-width=\"2\"/><path d=\"M 119.0909090909091 510 119.0909090909091 473.8238920766332\" stroke=\"orange\" stroke-width=\"2\"/><path d=\"M 128.1818181818182 510 128.1818181818182 473.8238920766332\" stroke=\"orange\" stroke-width=\"2\"/><path d=\"M 119.0909090909091 473.8238920766332 128.1818181818182 473.8238920766332\" stroke=\"orange\" stroke-width=\"2\"/><path d=\"M 582.7272727272727 510 582.7272727272727 471.3732943071033\" stroke=\"red\" stroke-width=\"2\"/><path d=\"M 591.8181818181819 510 591.8181818181819 471.3732943071033\" stroke=\"red\" stroke-width=\"2\"/><path d=\"M 582.7272727272727 471.3732943071033 591.8181818181819 471.3732943071033\" stroke=\"red\" stroke-width=\"2\"/><path d=\"M 946.3636363636365 510 946.3636363636365 471.07367734363663\" stroke=\"green\" stroke-width=\"2\"/><path d=\"M 955.4545454545455 510 955.4545454545455 471.07367734363663\" stroke=\"green\" stroke-width=\"2\"/><path d=\"M 946.3636363636365 471.07367734363663 955.4545454545455 471.07367734363663\" stroke=\"green\" stroke-width=\"2\"/><path d=\"M 800.909090909091 510 800.909090909091 469.31861109769784\" stroke=\"green\" stroke-width=\"2\"/><path d=\"M 810.0000000000001 510 810.0000000000001 469.31861109769784\" stroke=\"green\" stroke-width=\"2\"/><path d=\"M 800.909090909091 469.31861109769784 810.0000000000001 469.31861109769784\" stroke=\"green\" stroke-width=\"2\"/><path d=\"M 55.45454545454546 510 55.45454545454546 468.00624393339507\" stroke=\"yellow\" stroke-width=\"2\"/><path d=\"M 64.54545454545455 510 64.54545454545455 468.00624393339507\" stroke=\"yellow\" stroke-width=\"2\"/><path d=\"M 55.45454545454546 468.00624393339507 64.54545454545455 468.00624393339507\" stroke=\"yellow\" stroke-width=\"2\"/><path d=\"M 28.181818181818183 510 28.181818181818183 464.9197506492955\" stroke=\"yellow\" stroke-width=\"2\"/><path d=\"M 37.27272727272727 510 37.27272727272727 464.9197506492955\" stroke=\"yellow\" stroke-width=\"2\"/><path d=\"M 28.181818181818183 464.9197506492955 37.27272727272727 464.9197506492955\" stroke=\"yellow\" stroke-width=\"2\"/><path d=\"M 891.8181818181819 510 891.8181818181819 464.6571570188811\" stroke=\"green\" stroke-width=\"2\"/><path d=\"M 900.909090909091 510 900.909090909091 464.6571570188811\" stroke=\"green\" stroke-width=\"2\"/><path d=\"M 891.8181818181819 464.6571570188811 900.909090909091 464.6571570188811\" stroke=\"green\" stroke-width=\"2\"/><path d=\"M 155.45454545454547 510 155.45454545454547 460.91894800166676\" stroke=\"orange\" stroke-width=\"2\"/><path d=\"M 164.54545454545456 510 164.54545454545456 460.91894800166676\" stroke=\"orange\" stroke-width=\"2\"/><path d=\"M 155.45454545454547 460.91894800166676 164.54545454545456 460.91894800166676\" stroke=\"orange\" stroke-width=\"2\"/><path d=\"M 587.2727272727273 471.3732943071033 587.2727272727273 460.56838877341414\" stroke=\"red\" stroke-width=\"2\"/><path d=\"M 600.909090909091 510 600.909090909091 460.56838877341414\" stroke=\"red\" stroke-width=\"2\"/><path d=\"M 587.2727272727273 460.56838877341414 600.909090909091 460.56838877341414\" stroke=\"red\" stroke-width=\"2\"/><path d=\"M 391.81818181818187 510 391.81818181818187 458.21278980657803\" stroke=\"blue\" stroke-width=\"2\"/><path d=\"M 405.4545454545455 485.8737715792222 405.4545454545455 458.21278980657803\" stroke=\"blue\" stroke-width=\"2\"/><path d=\"M 391.81818181818187 458.21278980657803 405.4545454545455 458.21278980657803\" stroke=\"blue\" stroke-width=\"2\"/><path d=\"M 919.0909090909091 510 919.0909090909091 456.7101615041986\" stroke=\"green\" stroke-width=\"2\"/><path d=\"M 928.1818181818182 510 928.1818181818182 456.7101615041986\" stroke=\"green\" stroke-width=\"2\"/><path d=\"M 919.0909090909091 456.7101615041986 928.1818181818182 456.7101615041986\" stroke=\"green\" stroke-width=\"2\"/><path d=\"M 528.1818181818182 510 528.1818181818182 455.7701469390545\" stroke=\"fuchsia\" stroke-width=\"2\"/><path d=\"M 537.2727272727274 510 537.2727272727274 455.7701469390545\" stroke=\"fuchsia\" stroke-width=\"2\"/><path d=\"M 528.1818181818182 455.7701469390545 537.2727272727274 455.7701469390545\" stroke=\"fuchsia\" stroke-width=\"2\"/><path d=\"M 728.1818181818182 510 728.1818181818182 455.60373101981247\" stroke=\"red\" stroke-width=\"2\"/><path d=\"M 737.2727272727274 510 737.2727272727274 455.60373101981247\" stroke=\"red\" stroke-width=\"2\"/><path d=\"M 728.1818181818182 455.60373101981247 737.2727272727274 455.60373101981247\" stroke=\"red\" stroke-width=\"2\"/><path d=\"M 805.4545454545455 469.31861109769784 805.4545454545455 449.85797416205844\" stroke=\"green\" stroke-width=\"2\"/><path d=\"M 819.0909090909091 510 819.0909090909091 449.85797416205844\" stroke=\"green\" stroke-width=\"2\"/><path d=\"M 805.4545454545455 449.85797416205844 819.0909090909091 449.85797416205844\" stroke=\"green\" stroke-width=\"2\"/><path d=\"M 282.72727272727275 510 282.72727272727275 449.69527581155353\" stroke=\"blue\" stroke-width=\"2\"/><path d=\"M 291.81818181818187 510 291.81818181818187 449.69527581155353\" stroke=\"blue\" stroke-width=\"2\"/><path d=\"M 282.72727272727275 449.69527581155353 291.81818181818187 449.69527581155353\" stroke=\"blue\" stroke-width=\"2\"/><path d=\"M 846.3636363636365 510 846.3636363636365 448.26668988625937\" stroke=\"green\" stroke-width=\"2\"/><path d=\"M 855.4545454545455 510 855.4545454545455 448.26668988625937\" stroke=\"green\" stroke-width=\"2\"/><path d=\"M 846.3636363636365 448.26668988625937 855.4545454545455 448.26668988625937\" stroke=\"green\" stroke-width=\"2\"/><path d=\"M 673.6363636363637 510 673.6363636363637 447.211177018826\" stroke=\"red\" stroke-width=\"2\"/><path d=\"M 682.7272727272727 510 682.7272727272727 447.211177018826\" stroke=\"red\" stroke-width=\"2\"/><path d=\"M 673.6363636363637 447.211177018826 682.7272727272727 447.211177018826\" stroke=\"red\" stroke-width=\"2\"/><path d=\"M 419.0909090909091 510 419.0909090909091 442.5065215530892\" stroke=\"purple\" stroke-width=\"2\"/><path d=\"M 428.18181818181824 510 428.18181818181824 442.5065215530892\" stroke=\"purple\" stroke-width=\"2\"/><path d=\"M 419.0909090909091 442.5065215530892 428.18181818181824 442.5065215530892\" stroke=\"purple\" stroke-width=\"2\"/><path d=\"M 450.90909090909093 488.2057243466458 450.90909090909093 438.5025812475487\" stroke=\"purple\" stroke-width=\"2\"/><path d=\"M 464.54545454545456 510 464.54545454545456 438.5025812475487\" stroke=\"purple\" stroke-width=\"2\"/><path d=\"M 450.90909090909093 438.5025812475487 464.54545454545456 438.5025812475487\" stroke=\"purple\" stroke-width=\"2\"/><path d=\"M 228.1818181818182 510 228.1818181818182 436.7698168379703\" stroke=\"blue\" stroke-width=\"2\"/><path d=\"M 237.27272727272728 510 237.27272727272728 436.7698168379703\" stroke=\"blue\" stroke-width=\"2\"/><path d=\"M 228.1818181818182 436.7698168379703 237.27272727272728 436.7698168379703\" stroke=\"blue\" stroke-width=\"2\"/><path d=\"M 610.0 510 610.0 435.07412150004916\" stroke=\"red\" stroke-width=\"2\"/><path d=\"M 619.0909090909091 510 619.0909090909091 435.07412150004916\" stroke=\"red\" stroke-width=\"2\"/><path d=\"M 610.0 435.07412150004916 619.0909090909091 435.07412150004916\" stroke=\"red\" stroke-width=\"2\"/><path d=\"M 778.1818181818182 475.0964934631975 778.1818181818182 434.593738221444\" stroke=\"red\" stroke-width=\"2\"/><path d=\"M 791.8181818181819 510 791.8181818181819 434.593738221444\" stroke=\"red\" stroke-width=\"2\"/><path d=\"M 778.1818181818182 434.593738221444 791.8181818181819 434.593738221444\" stroke=\"red\" stroke-width=\"2\"/><path d=\"M 664.5454545454546 510 664.5454545454546 434.26457347122977\" stroke=\"red\" stroke-width=\"2\"/><path d=\"M 678.1818181818182 447.211177018826 678.1818181818182 434.26457347122977\" stroke=\"red\" stroke-width=\"2\"/><path d=\"M 664.5454545454546 434.26457347122977 678.1818181818182 434.26457347122977\" stroke=\"red\" stroke-width=\"2\"/><path d=\"M 173.63636363636365 510 173.63636363636365 432.860014310376\" stroke=\"orange\" stroke-width=\"2\"/><path d=\"M 182.72727272727275 510 182.72727272727275 432.860014310376\" stroke=\"orange\" stroke-width=\"2\"/><path d=\"M 173.63636363636365 432.860014310376 182.72727272727275 432.860014310376\" stroke=\"orange\" stroke-width=\"2\"/><path d=\"M 141.8181818181818 492.5622056634425 141.8181818181818 432.0143789774456\" stroke=\"orange\" stroke-width=\"2\"/><path d=\"M 160.0 460.91894800166676 160.0 432.0143789774456\" stroke=\"orange\" stroke-width=\"2\"/><path d=\"M 141.8181818181818 432.0143789774456 160.0 432.0143789774456\" stroke=\"orange\" stroke-width=\"2\"/><path d=\"M 327.04545454545456 477.03343076020326 327.04545454545456 428.5476824246672\" stroke=\"blue\" stroke-width=\"2\"/><path d=\"M 360.0 489.2737631053899 360.0 428.5476824246672\" stroke=\"blue\" stroke-width=\"2\"/><path d=\"M 327.04545454545456 428.5476824246672 360.0 428.5476824246672\" stroke=\"blue\" stroke-width=\"2\"/><path d=\"M 882.7272727272727 510 882.7272727272727 425.22242162583393\" stroke=\"green\" stroke-width=\"2\"/><path d=\"M 896.3636363636365 464.6571570188811 896.3636363636365 425.22242162583393\" stroke=\"green\" stroke-width=\"2\"/><path d=\"M 882.7272727272727 425.22242162583393 896.3636363636365 425.22242162583393\" stroke=\"green\" stroke-width=\"2\"/><path d=\"M 937.2727272727274 510 937.2727272727274 424.25564355657855\" stroke=\"green\" stroke-width=\"2\"/><path d=\"M 950.909090909091 471.07367734363663 950.909090909091 424.25564355657855\" stroke=\"green\" stroke-width=\"2\"/><path d=\"M 937.2727272727274 424.25564355657855 950.909090909091 424.25564355657855\" stroke=\"green\" stroke-width=\"2\"/><path d=\"M 300.90909090909093 510 300.90909090909093 424.0658973829477\" stroke=\"blue\" stroke-width=\"2\"/><path d=\"M 310.0 510 310.0 424.0658973829477\" stroke=\"blue\" stroke-width=\"2\"/><path d=\"M 300.90909090909093 424.0658973829477 310.0 424.0658973829477\" stroke=\"blue\" stroke-width=\"2\"/><path d=\"M 691.8181818181819 510 691.8181818181819 422.79959863903844\" stroke=\"red\" stroke-width=\"2\"/><path d=\"M 700.909090909091 510 700.909090909091 422.79959863903844\" stroke=\"red\" stroke-width=\"2\"/><path d=\"M 691.8181818181819 422.79959863903844 700.909090909091 422.79959863903844\" stroke=\"red\" stroke-width=\"2\"/><path d=\"M 46.36363636363637 510 46.36363636363637 422.0798643982034\" stroke=\"yellow\" stroke-width=\"2\"/><path d=\"M 60.0 468.00624393339507 60.0 422.0798643982034\" stroke=\"yellow\" stroke-width=\"2\"/><path d=\"M 46.36363636363637 422.0798643982034 60.0 422.0798643982034\" stroke=\"yellow\" stroke-width=\"2\"/><path d=\"M 491.81818181818187 510 491.81818181818187 421.8290721741964\" stroke=\"purple\" stroke-width=\"2\"/><path d=\"M 505.4545454545455 485.065649587585 505.4545454545455 421.8290721741964\" stroke=\"purple\" stroke-width=\"2\"/><path d=\"M 491.81818181818187 421.8290721741964 505.4545454545455 421.8290721741964\" stroke=\"purple\" stroke-width=\"2\"/><path d=\"M 10.0 510 10.0 418.4308110872178\" stroke=\"yellow\" stroke-width=\"2\"/><path d=\"M 19.090909090909093 510 19.090909090909093 418.4308110872178\" stroke=\"yellow\" stroke-width=\"2\"/><path d=\"M 10.0 418.4308110872178 19.090909090909093 418.4308110872178\" stroke=\"yellow\" stroke-width=\"2\"/><path d=\"M 264.54545454545456 510 264.54545454545456 418.2717170407511\" stroke=\"blue\" stroke-width=\"2\"/><path d=\"M 273.6363636363637 510 273.6363636363637 418.2717170407511\" stroke=\"blue\" stroke-width=\"2\"/><path d=\"M 264.54545454545456 418.2717170407511 273.6363636363637 418.2717170407511\" stroke=\"blue\" stroke-width=\"2\"/><path d=\"M 98.63636363636365 486.5818944824582 98.63636363636365 417.686520241599\" stroke=\"orange\" stroke-width=\"2\"/><path d=\"M 123.63636363636364 473.8238920766332 123.63636363636364 417.686520241599\" stroke=\"orange\" stroke-width=\"2\"/><path d=\"M 98.63636363636365 417.686520241599 123.63636363636364 417.686520241599\" stroke=\"orange\" stroke-width=\"2\"/><path d=\"M 560.0 493.33189949737084 560.0 417.13043971077445\" stroke=\"fuchsia\" stroke-width=\"2\"/><path d=\"M 573.6363636363637 510 573.6363636363637 417.13043971077445\" stroke=\"fuchsia\" stroke-width=\"2\"/><path d=\"M 560.0 417.13043971077445 573.6363636363637 417.13043971077445\" stroke=\"fuchsia\" stroke-width=\"2\"/><path d=\"M 532.7272727272727 455.7701469390545 532.7272727272727 416.35040122270624\" stroke=\"fuchsia\" stroke-width=\"2\"/><path d=\"M 546.3636363636364 510 546.3636363636364 416.35040122270624\" stroke=\"fuchsia\" stroke-width=\"2\"/><path d=\"M 532.7272727272727 416.35040122270624 546.3636363636364 416.35040122270624\" stroke=\"fuchsia\" stroke-width=\"2\"/><path d=\"M 828.1818181818182 510 828.1818181818182 414.8088283734014\" stroke=\"green\" stroke-width=\"2\"/><path d=\"M 837.2727272727274 510 837.2727272727274 414.8088283734014\" stroke=\"green\" stroke-width=\"2\"/><path d=\"M 828.1818181818182 414.8088283734014 837.2727272727274 414.8088283734014\" stroke=\"green\" stroke-width=\"2\"/><path d=\"M 973.6363636363637 510 973.6363636363637 413.4976789877595\" stroke=\"olive\" stroke-width=\"2\"/><path d=\"M 982.7272727272729 510 982.7272727272729 413.4976789877595\" stroke=\"olive\" stroke-width=\"2\"/><path d=\"M 973.6363636363637 413.4976789877595 982.7272727272729 413.4976789877595\" stroke=\"olive\" stroke-width=\"2\"/><path d=\"M 287.2727272727273 449.69527581155353 287.2727272727273 410.7417726603571\" stroke=\"blue\" stroke-width=\"2\"/><path d=\"M 305.4545454545455 424.0658973829477 305.4545454545455 410.7417726603571\" stroke=\"blue\" stroke-width=\"2\"/><path d=\"M 287.2727272727273 410.7417726603571 305.4545454545455 410.7417726603571\" stroke=\"blue\" stroke-width=\"2\"/><path d=\"M 632.7272727272727 490.5473751104885 632.7272727272727 409.54126118033753\" stroke=\"red\" stroke-width=\"2\"/><path d=\"M 646.3636363636364 510 646.3636363636364 409.54126118033753\" stroke=\"red\" stroke-width=\"2\"/><path d=\"M 632.7272727272727 409.54126118033753 646.3636363636364 409.54126118033753\" stroke=\"red\" stroke-width=\"2\"/><path d=\"M 53.18181818181819 422.0798643982034 53.18181818181819 408.4632235998652\" stroke=\"yellow\" stroke-width=\"2\"/><path d=\"M 73.63636363636364 510 73.63636363636364 408.4632235998652\" stroke=\"yellow\" stroke-width=\"2\"/><path d=\"M 53.18181818181819 408.4632235998652 73.63636363636364 408.4632235998652\" stroke=\"yellow\" stroke-width=\"2\"/><path d=\"M 378.18181818181824 489.78692357357295 378.18181818181824 407.5015206227838\" stroke=\"blue\" stroke-width=\"2\"/><path d=\"M 398.6363636363637 458.21278980657803 398.6363636363637 407.5015206227838\" stroke=\"blue\" stroke-width=\"2\"/><path d=\"M 378.18181818181824 407.5015206227838 398.6363636363637 407.5015206227838\" stroke=\"blue\" stroke-width=\"2\"/><path d=\"M 178.1818181818182 432.860014310376 178.1818181818182 407.1610510352296\" stroke=\"orange\" stroke-width=\"2\"/><path d=\"M 191.81818181818184 510 191.81818181818184 407.1610510352296\" stroke=\"orange\" stroke-width=\"2\"/><path d=\"M 178.1818181818182 407.1610510352296 191.81818181818184 407.1610510352296\" stroke=\"orange\" stroke-width=\"2\"/><path d=\"M 710.0000000000001 510 710.0000000000001 397.3211558101525\" stroke=\"red\" stroke-width=\"2\"/><path d=\"M 719.0909090909091 510 719.0909090909091 397.3211558101525\" stroke=\"red\" stroke-width=\"2\"/><path d=\"M 710.0000000000001 397.3211558101525 719.0909090909091 397.3211558101525\" stroke=\"red\" stroke-width=\"2\"/><path d=\"M 732.7272727272727 455.60373101981247 732.7272727272727 393.1551937666313\" stroke=\"red\" stroke-width=\"2\"/><path d=\"M 746.3636363636364 510 746.3636363636364 393.1551937666313\" stroke=\"red\" stroke-width=\"2\"/><path d=\"M 732.7272727272727 393.1551937666313 746.3636363636364 393.1551937666313\" stroke=\"red\" stroke-width=\"2\"/><path d=\"M 923.6363636363637 456.7101615041986 923.6363636363637 391.57877730434876\" stroke=\"green\" stroke-width=\"2\"/><path d=\"M 944.0909090909092 424.25564355657855 944.0909090909092 391.57877730434876\" stroke=\"green\" stroke-width=\"2\"/><path d=\"M 923.6363636363637 391.57877730434876 944.0909090909092 391.57877730434876\" stroke=\"green\" stroke-width=\"2\"/><path d=\"M 498.6363636363637 421.8290721741964 498.6363636363637 387.728294446804\" stroke=\"purple\" stroke-width=\"2\"/><path d=\"M 519.0909090909091 510 519.0909090909091 387.728294446804\" stroke=\"purple\" stroke-width=\"2\"/><path d=\"M 498.6363636363637 387.728294446804 519.0909090909091 387.728294446804\" stroke=\"purple\" stroke-width=\"2\"/><path d=\"M 14.545454545454547 418.4308110872178 14.545454545454547 385.5758432737979\" stroke=\"yellow\" stroke-width=\"2\"/><path d=\"M 32.72727272727273 464.9197506492955 32.72727272727273 385.5758432737979\" stroke=\"yellow\" stroke-width=\"2\"/><path d=\"M 14.545454545454547 385.5758432737979 32.72727272727273 385.5758432737979\" stroke=\"yellow\" stroke-width=\"2\"/><path d=\"M 889.5454545454546 425.22242162583393 889.5454545454546 385.03969020451285\" stroke=\"green\" stroke-width=\"2\"/><path d=\"M 910.0000000000001 510 910.0000000000001 385.03969020451285\" stroke=\"green\" stroke-width=\"2\"/><path d=\"M 889.5454545454546 385.03969020451285 910.0000000000001 385.03969020451285\" stroke=\"green\" stroke-width=\"2\"/><path d=\"M 473.6363636363637 510 473.6363636363637 383.71653492535137\" stroke=\"purple\" stroke-width=\"2\"/><path d=\"M 482.72727272727275 510 482.72727272727275 383.71653492535137\" stroke=\"purple\" stroke-width=\"2\"/><path d=\"M 473.6363636363637 383.71653492535137 482.72727272727275 383.71653492535137\" stroke=\"purple\" stroke-width=\"2\"/><path d=\"M 639.5454545454545 409.54126118033753 639.5454545454545 375.93085435314913\" stroke=\"red\" stroke-width=\"2\"/><path d=\"M 655.4545454545455 510 655.4545454545455 375.93085435314913\" stroke=\"red\" stroke-width=\"2\"/><path d=\"M 639.5454545454545 375.93085435314913 655.4545454545455 375.93085435314913\" stroke=\"red\" stroke-width=\"2\"/><path d=\"M 832.7272727272727 414.8088283734014 832.7272727272727 375.1790290951069\" stroke=\"green\" stroke-width=\"2\"/><path d=\"M 850.909090909091 448.26668988625937 850.909090909091 375.1790290951069\" stroke=\"green\" stroke-width=\"2\"/><path d=\"M 832.7272727272727 375.1790290951069 850.909090909091 375.1790290951069\" stroke=\"green\" stroke-width=\"2\"/><path d=\"M 614.5454545454545 435.07412150004916 614.5454545454545 366.7320500646997\" stroke=\"red\" stroke-width=\"2\"/><path d=\"M 647.5 375.93085435314913 647.5 366.7320500646997\" stroke=\"red\" stroke-width=\"2\"/><path d=\"M 614.5454545454545 366.7320500646997 647.5 366.7320500646997\" stroke=\"red\" stroke-width=\"2\"/><path d=\"M 423.6363636363637 442.5065215530892 423.6363636363637 363.1136860765065\" stroke=\"purple\" stroke-width=\"2\"/><path d=\"M 437.2727272727273 510 437.2727272727273 363.1136860765065\" stroke=\"purple\" stroke-width=\"2\"/><path d=\"M 423.6363636363637 363.1136860765065 437.2727272727273 363.1136860765065\" stroke=\"purple\" stroke-width=\"2\"/><path d=\"M 63.409090909090914 408.4632235998652 63.409090909090914 362.2333460921544\" stroke=\"yellow\" stroke-width=\"2\"/><path d=\"M 82.72727272727273 510 82.72727272727273 362.2333460921544\" stroke=\"yellow\" stroke-width=\"2\"/><path d=\"M 63.409090909090914 362.2333460921544 82.72727272727273 362.2333460921544\" stroke=\"yellow\" stroke-width=\"2\"/><path d=\"M 246.36363636363637 510 246.36363636363637 361.08378392358793\" stroke=\"blue\" stroke-width=\"2\"/><path d=\"M 255.45454545454547 510 255.45454545454547 361.08378392358793\" stroke=\"blue\" stroke-width=\"2\"/><path d=\"M 246.36363636363637 361.08378392358793 255.45454545454547 361.08378392358793\" stroke=\"blue\" stroke-width=\"2\"/><path d=\"M 864.5454545454546 510 864.5454545454546 359.3977334372228\" stroke=\"green\" stroke-width=\"2\"/><path d=\"M 873.6363636363637 510 873.6363636363637 359.3977334372228\" stroke=\"green\" stroke-width=\"2\"/><path d=\"M 864.5454545454546 359.3977334372228 873.6363636363637 359.3977334372228\" stroke=\"green\" stroke-width=\"2\"/><path d=\"M 111.13636363636365 417.686520241599 111.13636363636365 352.82907151673584\" stroke=\"orange\" stroke-width=\"2\"/><path d=\"M 150.9090909090909 432.0143789774456 150.9090909090909 352.82907151673584\" stroke=\"orange\" stroke-width=\"2\"/><path d=\"M 111.13636363636365 352.82907151673584 150.9090909090909 352.82907151673584\" stroke=\"orange\" stroke-width=\"2\"/><path d=\"M 594.0909090909091 460.56838877341414 594.0909090909091 351.2418187173002\" stroke=\"red\" stroke-width=\"2\"/><path d=\"M 631.0227272727273 366.7320500646997 631.0227272727273 351.2418187173002\" stroke=\"red\" stroke-width=\"2\"/><path d=\"M 594.0909090909091 351.2418187173002 631.0227272727273 351.2418187173002\" stroke=\"red\" stroke-width=\"2\"/><path d=\"M 899.7727272727274 385.03969020451285 899.7727272727274 348.9568979193908\" stroke=\"green\" stroke-width=\"2\"/><path d=\"M 933.8636363636365 391.57877730434876 933.8636363636365 348.9568979193908\" stroke=\"green\" stroke-width=\"2\"/><path d=\"M 899.7727272727274 348.9568979193908 933.8636363636365 348.9568979193908\" stroke=\"green\" stroke-width=\"2\"/><path d=\"M 343.52272727272725 428.5476824246672 343.52272727272725 335.2019753319629\" stroke=\"blue\" stroke-width=\"2\"/><path d=\"M 388.409090909091 407.5015206227838 388.409090909091 335.2019753319629\" stroke=\"blue\" stroke-width=\"2\"/><path d=\"M 343.52272727272725 335.2019753319629 388.409090909091 335.2019753319629\" stroke=\"blue\" stroke-width=\"2\"/><path d=\"M 760.0 486.76762077983074 760.0 334.8590083505132\" stroke=\"red\" stroke-width=\"2\"/><path d=\"M 785.0 434.593738221444 785.0 334.8590083505132\" stroke=\"red\" stroke-width=\"2\"/><path d=\"M 760.0 334.8590083505132 785.0 334.8590083505132\" stroke=\"red\" stroke-width=\"2\"/><path d=\"M 841.8181818181819 375.1790290951069 841.8181818181819 333.86655285454526\" stroke=\"green\" stroke-width=\"2\"/><path d=\"M 869.0909090909092 359.3977334372228 869.0909090909092 333.86655285454526\" stroke=\"green\" stroke-width=\"2\"/><path d=\"M 841.8181818181819 333.86655285454526 869.0909090909092 333.86655285454526\" stroke=\"green\" stroke-width=\"2\"/><path d=\"M 250.90909090909093 361.08378392358793 250.90909090909093 332.7791846369187\" stroke=\"blue\" stroke-width=\"2\"/><path d=\"M 269.0909090909091 418.2717170407511 269.0909090909091 332.7791846369187\" stroke=\"blue\" stroke-width=\"2\"/><path d=\"M 250.90909090909093 332.7791846369187 269.0909090909091 332.7791846369187\" stroke=\"blue\" stroke-width=\"2\"/><path d=\"M 612.5568181818182 351.2418187173002 612.5568181818182 323.72463658455774\" stroke=\"red\" stroke-width=\"2\"/><path d=\"M 671.3636363636365 434.26457347122977 671.3636363636365 323.72463658455774\" stroke=\"red\" stroke-width=\"2\"/><path d=\"M 612.5568181818182 323.72463658455774 671.3636363636365 323.72463658455774\" stroke=\"red\" stroke-width=\"2\"/><path d=\"M 539.5454545454545 416.35040122270624 539.5454545454545 318.1333595307482\" stroke=\"fuchsia\" stroke-width=\"2\"/><path d=\"M 566.8181818181819 417.13043971077445 566.8181818181819 318.1333595307482\" stroke=\"fuchsia\" stroke-width=\"2\"/><path d=\"M 539.5454545454545 318.1333595307482 566.8181818181819 318.1333595307482\" stroke=\"fuchsia\" stroke-width=\"2\"/><path d=\"M 430.4545454545455 363.1136860765065 430.4545454545455 318.1114043245128\" stroke=\"purple\" stroke-width=\"2\"/><path d=\"M 457.72727272727275 438.5025812475487 457.72727272727275 318.1114043245128\" stroke=\"purple\" stroke-width=\"2\"/><path d=\"M 430.4545454545455 318.1114043245128 457.72727272727275 318.1114043245128\" stroke=\"purple\" stroke-width=\"2\"/><path d=\"M 207.72727272727275 484.40488985970285 207.72727272727275 315.98709970842685\" stroke=\"blue\" stroke-width=\"2\"/><path d=\"M 232.72727272727275 436.7698168379703 232.72727272727275 315.98709970842685\" stroke=\"blue\" stroke-width=\"2\"/><path d=\"M 207.72727272727275 315.98709970842685 232.72727272727275 315.98709970842685\" stroke=\"blue\" stroke-width=\"2\"/><path d=\"M 916.818181818182 348.9568979193908 916.818181818182 300.4622526360879\" stroke=\"green\" stroke-width=\"2\"/><path d=\"M 964.5454545454546 510 964.5454545454546 300.4622526360879\" stroke=\"green\" stroke-width=\"2\"/><path d=\"M 916.818181818182 300.4622526360879 964.5454545454546 300.4622526360879\" stroke=\"green\" stroke-width=\"2\"/><path d=\"M 296.3636363636364 410.7417726603571 296.3636363636364 299.80539785714876\" stroke=\"blue\" stroke-width=\"2\"/><path d=\"M 365.9659090909091 335.2019753319629 365.9659090909091 299.80539785714876\" stroke=\"blue\" stroke-width=\"2\"/><path d=\"M 296.3636363636364 299.80539785714876 365.9659090909091 299.80539785714876\" stroke=\"blue\" stroke-width=\"2\"/><path d=\"M 696.3636363636365 422.79959863903844 696.3636363636365 297.7962575436399\" stroke=\"red\" stroke-width=\"2\"/><path d=\"M 714.5454545454546 397.3211558101525 714.5454545454546 297.7962575436399\" stroke=\"red\" stroke-width=\"2\"/><path d=\"M 696.3636363636365 297.7962575436399 714.5454545454546 297.7962575436399\" stroke=\"red\" stroke-width=\"2\"/><path d=\"M 739.5454545454545 393.1551937666313 739.5454545454545 291.42630408756156\" stroke=\"red\" stroke-width=\"2\"/><path d=\"M 772.5 334.8590083505132 772.5 291.42630408756156\" stroke=\"red\" stroke-width=\"2\"/><path d=\"M 739.5454545454545 291.42630408756156 772.5 291.42630408756156\" stroke=\"red\" stroke-width=\"2\"/><path d=\"M 812.2727272727273 449.85797416205844 812.2727272727273 285.9549371760111\" stroke=\"green\" stroke-width=\"2\"/><path d=\"M 855.4545454545455 333.86655285454526 855.4545454545455 285.9549371760111\" stroke=\"green\" stroke-width=\"2\"/><path d=\"M 812.2727272727273 285.9549371760111 855.4545454545455 285.9549371760111\" stroke=\"green\" stroke-width=\"2\"/><path d=\"M 833.8636363636364 285.9549371760111 833.8636363636364 281.1887217591203\" stroke=\"green\" stroke-width=\"2\"/><path d=\"M 940.6818181818182 300.4622526360879 940.6818181818182 281.1887217591203\" stroke=\"green\" stroke-width=\"2\"/><path d=\"M 833.8636363636364 281.1887217591203 940.6818181818182 281.1887217591203\" stroke=\"green\" stroke-width=\"2\"/><path d=\"M 978.1818181818182 413.4976789877595 978.1818181818182 279.34428601617117\" stroke=\"olive\" stroke-width=\"2\"/><path d=\"M 991.8181818181819 510 991.8181818181819 279.34428601617117\" stroke=\"olive\" stroke-width=\"2\"/><path d=\"M 978.1818181818182 279.34428601617117 991.8181818181819 279.34428601617117\" stroke=\"olive\" stroke-width=\"2\"/><path d=\"M 478.18181818181824 383.71653492535137 478.18181818181824 273.52858811320516\" stroke=\"purple\" stroke-width=\"2\"/><path d=\"M 508.8636363636364 387.728294446804 508.8636363636364 273.52858811320516\" stroke=\"purple\" stroke-width=\"2\"/><path d=\"M 478.18181818181824 273.52858811320516 508.8636363636364 273.52858811320516\" stroke=\"purple\" stroke-width=\"2\"/><path d=\"M 220.22727272727275 315.98709970842685 220.22727272727275 266.55153603142645\" stroke=\"blue\" stroke-width=\"2\"/><path d=\"M 260.0 332.7791846369187 260.0 266.55153603142645\" stroke=\"blue\" stroke-width=\"2\"/><path d=\"M 220.22727272727275 266.55153603142645 260.0 266.55153603142645\" stroke=\"blue\" stroke-width=\"2\"/><path d=\"M 641.9602272727274 323.72463658455774 641.9602272727274 255.5379988567269\" stroke=\"red\" stroke-width=\"2\"/><path d=\"M 705.4545454545455 297.7962575436399 705.4545454545455 255.5379988567269\" stroke=\"red\" stroke-width=\"2\"/><path d=\"M 641.9602272727274 255.5379988567269 705.4545454545455 255.5379988567269\" stroke=\"red\" stroke-width=\"2\"/><path d=\"M 131.02272727272728 352.82907151673584 131.02272727272728 236.48788558920154\" stroke=\"orange\" stroke-width=\"2\"/><path d=\"M 185.0 407.1610510352296 185.0 236.48788558920154\" stroke=\"orange\" stroke-width=\"2\"/><path d=\"M 131.02272727272728 236.48788558920154 185.0 236.48788558920154\" stroke=\"orange\" stroke-width=\"2\"/><path d=\"M 985.0 279.34428601617117 985.0 233.77924449557008\" stroke=\"olive\" stroke-width=\"2\"/><path d=\"M 1000.909090909091 510 1000.909090909091 233.77924449557008\" stroke=\"olive\" stroke-width=\"2\"/><path d=\"M 985.0 233.77924449557008 1000.909090909091 233.77924449557008\" stroke=\"olive\" stroke-width=\"2\"/><path d=\"M 444.0909090909091 318.1114043245128 444.0909090909091 229.21414325226505\" stroke=\"purple\" stroke-width=\"2\"/><path d=\"M 493.5227272727273 273.52858811320516 493.5227272727273 229.21414325226505\" stroke=\"purple\" stroke-width=\"2\"/><path d=\"M 444.0909090909091 229.21414325226505 493.5227272727273 229.21414325226505\" stroke=\"purple\" stroke-width=\"2\"/><path d=\"M 23.636363636363637 385.5758432737979 23.636363636363637 222.84320439045797\" stroke=\"yellow\" stroke-width=\"2\"/><path d=\"M 73.06818181818183 362.2333460921544 73.06818181818183 222.84320439045797\" stroke=\"yellow\" stroke-width=\"2\"/><path d=\"M 23.636363636363637 222.84320439045797 73.06818181818183 222.84320439045797\" stroke=\"yellow\" stroke-width=\"2\"/><path d=\"M 240.11363636363637 266.55153603142645 240.11363636363637 218.98458807961794\" stroke=\"blue\" stroke-width=\"2\"/><path d=\"M 331.16477272727275 299.80539785714876 331.16477272727275 218.98458807961794\" stroke=\"blue\" stroke-width=\"2\"/><path d=\"M 240.11363636363637 218.98458807961794 331.16477272727275 218.98458807961794\" stroke=\"blue\" stroke-width=\"2\"/><path d=\"M 673.7073863636365 255.5379988567269 673.7073863636365 196.95150647243895\" stroke=\"red\" stroke-width=\"2\"/><path d=\"M 756.0227272727273 291.42630408756156 756.0227272727273 196.95150647243895\" stroke=\"red\" stroke-width=\"2\"/><path d=\"M 673.7073863636365 196.95150647243895 756.0227272727273 196.95150647243895\" stroke=\"red\" stroke-width=\"2\"/><path d=\"M 887.2727272727273 281.1887217591203 887.2727272727273 168.54904920967397\" stroke=\"black\" stroke-width=\"2\"/><path d=\"M 992.9545454545455 233.77924449557008 992.9545454545455 168.54904920967397\" stroke=\"black\" stroke-width=\"2\"/><path d=\"M 887.2727272727273 168.54904920967397 992.9545454545455 168.54904920967397\" stroke=\"black\" stroke-width=\"2\"/><path d=\"M 468.80681818181824 229.21414325226505 468.80681818181824 167.06421185263645\" stroke=\"black\" stroke-width=\"2\"/><path d=\"M 553.1818181818182 318.1333595307482 553.1818181818182 167.06421185263645\" stroke=\"black\" stroke-width=\"2\"/><path d=\"M 468.80681818181824 167.06421185263645 553.1818181818182 167.06421185263645\" stroke=\"black\" stroke-width=\"2\"/><path d=\"M 285.63920454545456 218.98458807961794 285.63920454545456 153.94794857417435\" stroke=\"black\" stroke-width=\"2\"/><path d=\"M 510.99431818181824 167.06421185263645 510.99431818181824 153.94794857417435\" stroke=\"black\" stroke-width=\"2\"/><path d=\"M 285.63920454545456 153.94794857417435 510.99431818181824 153.94794857417435\" stroke=\"black\" stroke-width=\"2\"/><path d=\"M 48.352272727272734 222.84320439045797 48.352272727272734 134.21872854568397\" stroke=\"black\" stroke-width=\"2\"/><path d=\"M 158.01136363636363 236.48788558920154 158.01136363636363 134.21872854568397\" stroke=\"black\" stroke-width=\"2\"/><path d=\"M 48.352272727272734 134.21872854568397 158.01136363636363 134.21872854568397\" stroke=\"black\" stroke-width=\"2\"/><path d=\"M 398.3167613636364 153.94794857417435 398.3167613636364 83.01786532115551\" stroke=\"black\" stroke-width=\"2\"/><path d=\"M 714.8650568181819 196.95150647243895 714.8650568181819 83.01786532115551\" stroke=\"black\" stroke-width=\"2\"/><path d=\"M 398.3167613636364 83.01786532115551 714.8650568181819 83.01786532115551\" stroke=\"black\" stroke-width=\"2\"/><path d=\"M 103.18181818181819 134.21872854568397 103.18181818181819 32.75474763859876\" stroke=\"black\" stroke-width=\"2\"/><path d=\"M 556.5909090909091 83.01786532115551 556.5909090909091 32.75474763859876\" stroke=\"black\" stroke-width=\"2\"/><path d=\"M 103.18181818181819 32.75474763859876 556.5909090909091 32.75474763859876\" stroke=\"black\" stroke-width=\"2\"/><path d=\"M 329.8863636363636 32.75474763859876 329.8863636363636 9.999999999999943\" stroke=\"black\" stroke-width=\"2\"/><path d=\"M 940.1136363636364 168.54904920967397 940.1136363636364 9.999999999999943\" stroke=\"black\" stroke-width=\"2\"/><path d=\"M 329.8863636363636 9.999999999999943 940.1136363636364 9.999999999999943\" stroke=\"black\" stroke-width=\"2\"/></svg>"
          },
          "metadata": {},
          "execution_count": 566
        }
      ]
    },
    {
      "cell_type": "markdown",
      "source": [
        "**Metrics**"
      ],
      "metadata": {
        "id": "andGgJ4OHw22"
      }
    },
    {
      "cell_type": "code",
      "source": [
        "nodelist = list(G_reduced.nodes)\n",
        "labels = list(cut_straight(dendrogram, n_clusters=8, return_dendrogram=False))\n",
        "\n",
        "community_dend = [[],[],[],[],[],[],[],[]]\n",
        "i = 0\n",
        "for node in nodelist:\n",
        "  community_dend[labels[i]].append(node)\n",
        "  i += 1\n",
        "\n",
        "_ = compute_metrics(G_reduced, community_dend)"
      ],
      "metadata": {
        "id": "6JgQEOV4Hw22",
        "colab": {
          "base_uri": "https://localhost:8080/"
        },
        "outputId": "7467bcbe-0ae1-4e95-f627-980086811ded"
      },
      "execution_count": 567,
      "outputs": [
        {
          "output_type": "stream",
          "name": "stdout",
          "text": [
            "Coverage:  0.1931547619047619\n",
            "Performance:  0.5039199332777314\n",
            "Modularity:  0.15260071516960144\n"
          ]
        }
      ]
    },
    {
      "cell_type": "markdown",
      "source": [
        "### Big clam"
      ],
      "metadata": {
        "id": "tlAtONwFKQIQ"
      }
    },
    {
      "cell_type": "code",
      "source": [
        "G_copy = G.copy()\n",
        "G_copy = nx.convert_node_labels_to_integers(G_copy, first_label=0, ordering='sorted')\n",
        "\n",
        "index_list = [index for index in range(G.number_of_nodes())]\n",
        "node_list = sorted([node for node in G.nodes()])\n",
        "\n",
        "clusters = big_clam(G_copy)\n",
        "communities = clusters.communities\n",
        "\n",
        "dictionary_bigClam = {}\n",
        "for idx in index_list:\n",
        "  dictionary_bigClam[idx] = node_list[idx]\n",
        "\n",
        "print('Number of communities:', len(communities))"
      ],
      "metadata": {
        "id": "ch10eKjZM9VN",
        "colab": {
          "base_uri": "https://localhost:8080/"
        },
        "outputId": "b66b88de-119c-42a7-be0d-5f348583781a"
      },
      "execution_count": 49,
      "outputs": [
        {
          "output_type": "stream",
          "name": "stdout",
          "text": [
            "Number of communities: 3\n"
          ]
        }
      ]
    },
    {
      "cell_type": "code",
      "source": [
        "bigClam_comm = [[],[],[]]\n",
        "for c in range(len(communities)):\n",
        "  for idx in range(len(communities[c])):\n",
        "    bigClam_comm[c].append(dictionary_bigClam[communities[c][idx]])\n",
        "\n",
        "print(bigClam_comm[0])\n",
        "print(bigClam_comm[1])\n",
        "print(bigClam_comm[2])"
      ],
      "metadata": {
        "id": "7-WZhg5VO5fB",
        "colab": {
          "base_uri": "https://localhost:8080/"
        },
        "outputId": "bd672939-730b-42cd-8c7d-79e10a05bf6d"
      },
      "execution_count": 50,
      "outputs": [
        {
          "output_type": "stream",
          "name": "stdout",
          "text": [
            "['accord', 'across', 'administration', 'adult', 'already', 'also', 'amid', 'among', 'announce', 'another', 'antibody', 'appear', 'approve', 'area', 'around', 'asian', 'australia', 'authority', 'back', 'bad', 'ban', 'battle', 'become', 'begin', 'big', 'blood', 'brazil', 'bring', 'business', 'california', 'call', 'capital', 'care', 'case', 'cause', 'center', 'central', 'change', 'chief', 'child', 'china', 'city', 'clinical', 'close', 'clot', 'come', 'commission', 'company', 'concern', 'confirm', 'confirmed', 'contain', 'continue', 'control', 'could', 'country', 'critical', 'cruise', 'curb', 'daily', 'data', 'day', 'death', 'decline', 'delay', 'develop', 'die', 'discharge', 'disease', 'doctor', 'dos', 'dose', 'drive', 'drug', 'due', 'early', 'economic', 'economy', 'effective', 'effort', 'emergency', 'employee', 'end', 'epidemic', 'even', 'exclusive', 'expect', 'expert', 'face', 'far', 'fauci', 'fear', 'fight', 'financial', 'find', 'first', 'flight', 'follow', 'four', 'get', 'give', 'global', 'government', 'health', 'help', 'high', 'hit', 'hold', 'home', 'hong', 'hospital', 'hour', 'house', 'hubei', 'include', 'increase', 'india', 'industry', 'infect', 'infection', 'institute', 'international', 'japan', 'johnson', 'know', 'large', 'last', 'late', 'launch', 'lead', 'leader', 'least', 'leave', 'level', 'limit', 'line', 'live', 'local', 'long', 'look', 'low', 'make', 'many', 'mask', 'may', 'measure', 'medical', 'member', 'million', 'minister', 'ministry', 'month', 'nation', 'national', 'nearly', 'need', 'new', 'novel', 'number', 'official', 'old', 'one', 'order', 'organization', 'outbreak', 'outside', 'pandemic', 'part', 'passenger', 'patient', 'pause', 'people', 'plan', 'positive', 'president', 'provide', 'province', 'public', 'push', 'put', 'quarantine', 'rate', 'receive', 'record', 'recover', 'recovery', 'remain', 'report', 'research', 'resident', 'response', 'restriction', 'result', 'return', 'rise', 'risk', 'say', 'season', 'second', 'see', 'set', 'ship', 'shot', 'show', 'since', 'six', 'soon', 'south', 'spread', 'start', 'state', 'still', 'study', 'supply', 'support', 'surge', 'symptom', 'take', 'test', 'third', 'thousand', 'three', 'time', 'toll', 'top', 'total', 'transmission', 'travel', 'treatment', 'trial', 'trump', 'two', 'united', 'university', 'update', 'use', 'vaccination', 'virus', 'warn', 'wave', 'way', 'week', 'white', 'work', 'worker', 'world', 'would', 'year', 'yet', 'york']\n",
            "['add', 'administer', 'adviser', 'affect', 'age', 'agency', 'ahead', 'aid', 'air', 'allow', 'almost', 'america', 'arrive', 'ask', 'avoid', 'bank', 'base', 'batch', 'behind', 'beijing', 'benefit', 'bill', 'billion', 'boost', 'break', 'breaking', 'british', 'build', 'canada', 'cancel', 'candidate', 'catch', 'challenge', 'citizen', 'claim', 'combat', 'committee', 'community', 'condition', 'conference', 'confidence', 'contact', 'contract', 'court', 'crisis', 'deadly', 'deal', 'debate', 'declare', 'deliver', 'demand', 'democratic', 'department', 'despite', 'development', 'diagnose', 'diagnosis', 'donate', 'drop', 'ease', 'effect', 'epicenter', 'evacuate', 'event', 'experience', 'experimental', 'export', 'express', 'extend', 'facility', 'family', 'federal', 'five', 'flu', 'food', 'force', 'foreign', 'former', 'france', 'free', 'french', 'full', 'fund', 'game', 'general', 'germany', 'good', 'governor', 'great', 'group', 'grow', 'growth', 'half', 'hand', 'hard', 'head', 'holiday', 'hope', 'human', 'hundred', 'illness', 'impact', 'infectious', 'information', 'issue', 'italy', 'job', 'joe', 'join', 'keep', 'korea', 'lady', 'less', 'life', 'likely', 'link', 'lose', 'loss', 'major', 'maker', 'man', 'march', 'mark', 'market', 'medicine', 'medium', 'meet', 'mike', 'military', 'move', 'much', 'negative', 'news', 'next', 'nominee', 'north', 'offer', 'office', 'open', 'party', 'pass', 'past', 'person', 'place', 'pneumonia', 'poll', 'population', 'possible', 'post', 'presidential', 'press', 'prevent', 'prevention', 'prime', 'problem', 'produce', 'production', 'protect', 'question', 'race', 'raise', 'rare', 'read', 'recent', 'region', 'regulator', 'release', 'relief', 'reopen', 'republican', 'researcher', 'restaurant', 'right', 'rule', 'russia', 'safe', 'safety', 'sale', 'school', 'scientist', 'secretary', 'seek', 'send', 'senior', 'service', 'seven', 'several', 'severe', 'share', 'shut', 'side', 'sign', 'slow', 'small', 'social', 'source', 'special', 'spike', 'staff', 'stage', 'stand', 'statement', 'step', 'stock', 'stop', 'story', 'street', 'strong', 'struggle', 'student', 'surpass', 'suspend', 'system', 'talk', 'team', 'tell', 'term', 'think', 'today', 'track', 'try', 'turn', 'tweet', 'urge', 'variant', 'vice', 'video', 'visit', 'volunteer', 'vote', 'want', 'war', 'watch', 'wear', 'well', 'whether', 'win', 'within', 'without', 'woman', 'worry', 'young']\n",
            "['africa', 'analysis', 'campaign', 'director', 'election', 'fall', 'kill', 'like', 'potential', 'reach', 'single', 'stay', 'treat', 'vaccinate']\n"
          ]
        }
      ]
    },
    {
      "cell_type": "code",
      "source": [
        "for node in G.nodes():\n",
        "  if node in bigClam_comm[0] and node in bigClam_comm[1]:\n",
        "    print(node + ' is present in communities 0 and 1')\n",
        "  if node in bigClam_comm[0] and node in bigClam_comm[2]:\n",
        "    print(node + ' is present in communities 0 and 2')\n",
        "  if node in bigClam_comm[1] and node in bigClam_comm[2]:\n",
        "    print(node + ' is present in communities 1 and 2')"
      ],
      "metadata": {
        "id": "XCQpfnKQSXJj"
      },
      "execution_count": 51,
      "outputs": []
    },
    {
      "cell_type": "markdown",
      "source": [
        "no overlapping"
      ],
      "metadata": {
        "id": "DNbAT_lwRMh8"
      }
    },
    {
      "cell_type": "code",
      "source": [
        "threshold = 0.001\n",
        "for i in range(len(bigClam_comm)):\n",
        "  sum_China, sum_USA, sum_China_USA = community_check(bigClam_comm[i], freq_dict_China, freq_dict_USA, G_China, G_USA, threshold)\n",
        "  print('Community: ', i)\n",
        "  print('China: ', round(100 * sum_China / len(bigClam_comm[i])),'%')\n",
        "  print('USA: ', round(100 * sum_USA / len(bigClam_comm[i])),'%')\n",
        "  print('China&USA: ', round(100 * sum_China_USA / len(bigClam_comm[i])),'%')\n",
        "  print()"
      ],
      "metadata": {
        "colab": {
          "base_uri": "https://localhost:8080/"
        },
        "id": "uzFuTcg_UqIP",
        "outputId": "e42e0d58-7c4e-45c5-fd5e-8b4fb5d4ce7d"
      },
      "execution_count": 52,
      "outputs": [
        {
          "output_type": "stream",
          "name": "stdout",
          "text": [
            "Community:  0\n",
            "China:  10 %\n",
            "USA:  2 %\n",
            "China&USA:  88 %\n",
            "\n",
            "Community:  1\n",
            "China:  4 %\n",
            "USA:  7 %\n",
            "China&USA:  89 %\n",
            "\n",
            "Community:  2\n",
            "China:  7 %\n",
            "USA:  0 %\n",
            "China&USA:  93 %\n",
            "\n"
          ]
        }
      ]
    },
    {
      "cell_type": "markdown",
      "source": [
        "**Metrics**"
      ],
      "metadata": {
        "id": "scZJqT98VvIR"
      }
    },
    {
      "cell_type": "code",
      "source": [
        "_ = compute_metrics(G, bigClam_comm)"
      ],
      "metadata": {
        "colab": {
          "base_uri": "https://localhost:8080/"
        },
        "outputId": "ad620a19-087a-448c-a4bc-0133b848364b",
        "id": "5Xy344fEVvIS"
      },
      "execution_count": 53,
      "outputs": [
        {
          "output_type": "stream",
          "name": "stdout",
          "text": [
            "Coverage:  0.6722436319202932\n",
            "Performance:  0.556122568778617\n",
            "Modularity:  -0.003273954949254273\n"
          ]
        }
      ]
    },
    {
      "cell_type": "markdown",
      "source": [
        "#### display"
      ],
      "metadata": {
        "id": "TK1lc-uPRVDt"
      }
    },
    {
      "cell_type": "code",
      "source": [
        "colors = list(G.nodes)\n",
        "i = 0\n",
        "dict_nodes = {}\n",
        "for node in colors:\n",
        "  if node in bigClam_comm[0]:\n",
        "    colors[i] = 'violet'\n",
        "    dict_nodes[node] = 0\n",
        "  if node in bigClam_comm[1]:\n",
        "    colors[i] = 'lightcoral'\n",
        "    dict_nodes[node] = 1\n",
        "  if node in bigClam_comm[2]:\n",
        "    colors[i] = 'lawngreen'\n",
        "    dict_nodes[node] = 2\n",
        "  i += 1"
      ],
      "metadata": {
        "id": "rhAZuGV-WKPg"
      },
      "execution_count": null,
      "outputs": []
    },
    {
      "cell_type": "code",
      "source": [
        "pos = community_layout(G, dict_nodes)\n",
        "fig = plt.figure(1, figsize=(200, 80), dpi=60)\n",
        "nx.draw_networkx(G, pos, node_color=colors, node_size=5000, with_labels=True,\n",
        "                 font_size =50,width=0.05)\n",
        "plt.show()"
      ],
      "metadata": {
        "id": "7AWslSCVVvIS"
      },
      "execution_count": null,
      "outputs": []
    },
    {
      "cell_type": "markdown",
      "source": [
        "## **JanFeb2020**"
      ],
      "metadata": {
        "id": "qzQPdJ67z6nU"
      }
    },
    {
      "cell_type": "markdown",
      "source": [
        "### Download data"
      ],
      "metadata": {
        "id": "eIsBQCO5z6nZ"
      }
    },
    {
      "cell_type": "code",
      "source": [
        "period = '_JanFeb2020'\n",
        "China = pd.read_csv('/content/China'+period+'.csv')\n",
        "USA = pd.read_csv('/content/USA'+period+'.csv',)\n",
        "\n",
        "edges = pd.read_csv('/content/edgelist_China_USA'+period+'.csv')\n",
        "edges_China = pd.read_csv('/content/edgelist_China'+period+'.csv')\n",
        "edges_USA = pd.read_csv('/content/edgelist_USA'+period+'.csv')\n",
        "\n",
        "text_China = extract_text(China)\n",
        "text_USA = extract_text(USA)\n",
        "\n",
        "freq_dict_China = frequency_dictionary(text_China)\n",
        "freq_dict_China = dict(sorted(freq_dict_China.items(), key=lambda item: item[1], reverse = True))   #order from more frequent to less frequent word\n",
        "\n",
        "freq_dict_USA = frequency_dictionary(text_USA)\n",
        "freq_dict_USA = dict(sorted(freq_dict_USA.items(), key=lambda item: item[1], reverse = True))   #order from more frequent to less frequent word\n",
        "\n",
        "net, net_df = network_from_edges(edges)\n",
        "net_China, _ = network_from_edges(edges_China)\n",
        "net_USA, _ = network_from_edges(edges_USA)\n",
        "\n",
        "G = get_graph(net)\n",
        "nodes = G.nodes()\n",
        "G_China = get_graph(net_China)\n",
        "G_USA = get_graph(net_USA)"
      ],
      "metadata": {
        "id": "vn3H1O0Zz6na"
      },
      "execution_count": 578,
      "outputs": []
    },
    {
      "cell_type": "code",
      "source": [
        "print('China&USA:')\n",
        "print('Nodes: ',len(G.nodes()))\n",
        "print('Edges: ',len(G.edges()))\n",
        "print('Is connected: ',nx.is_connected(G))\n",
        "print()\n",
        "print('China:')\n",
        "print('Words: ',len(freq_dict_China))\n",
        "print()\n",
        "print('USA:')\n",
        "print('Words: ',len(freq_dict_USA))"
      ],
      "metadata": {
        "outputId": "0be36120-6c57-412e-f41e-d7ddf80ba90c",
        "colab": {
          "base_uri": "https://localhost:8080/"
        },
        "id": "PG-MY5tEz6na"
      },
      "execution_count": 579,
      "outputs": [
        {
          "output_type": "stream",
          "name": "stdout",
          "text": [
            "China&USA:\n",
            "Nodes:  453\n",
            "Edges:  3271\n",
            "Is connected:  True\n",
            "\n",
            "China:\n",
            "Words:  10263\n",
            "\n",
            "USA:\n",
            "Words:  10601\n"
          ]
        }
      ]
    },
    {
      "cell_type": "code",
      "source": [
        "# Graph without search keys\n",
        "G_original = G.copy()\n",
        "G.remove_node('coronavirus')\n",
        "G.remove_node('covid')\n",
        "G.remove_node('vaccine')"
      ],
      "metadata": {
        "id": "S6fLZ24rRkfA"
      },
      "execution_count": 580,
      "outputs": []
    },
    {
      "cell_type": "code",
      "source": [
        "print('Is connected: ', nx.is_connected(G))"
      ],
      "metadata": {
        "colab": {
          "base_uri": "https://localhost:8080/"
        },
        "outputId": "56231510-4a9e-48ee-f063-da3d2ac90ffd",
        "id": "NE4MgN4SRkfB"
      },
      "execution_count": 581,
      "outputs": [
        {
          "output_type": "stream",
          "name": "stdout",
          "text": [
            "Is connected:  False\n"
          ]
        }
      ]
    },
    {
      "cell_type": "code",
      "source": [
        "for c in nx.connected_components(G):\n",
        "  print(c)"
      ],
      "metadata": {
        "colab": {
          "base_uri": "https://localhost:8080/"
        },
        "id": "2wanc35_RmTU",
        "outputId": "4011108c-89f0-4cea-ce85-ecae81344aab"
      },
      "execution_count": 582,
      "outputs": [
        {
          "output_type": "stream",
          "name": "stdout",
          "text": [
            "{'ask', 'record', 'urge', 'build', 'express', 'start', 'step', 'country', 'phone', 'look', 'protective', 'emergency', 'fear', 'much', 'due', 'asia', 'leave', 'rise', 'quarter', 'cause', 'clinical', 'stock', 'first', 'update', 'front', 'man', 'office', 'thailand', 'aid', 'dock', 'singapore', 'scientist', 'investor', 'south', 'community', 'related', 'medical', 'issue', 'miss', 'headline', 'combat', 'deal', 'trade', 'evacuee', 'already', 'send', 'mask', 'japan', 'fall', 'continue', 'symptom', 'official', 'quarantine', 'cut', 'concern', 'ensure', 'makeshift', 'become', 'top', 'prevention', 'flu', 'firm', 'human', 'police', 'race', 'diamond', 'president', 'also', 'way', 'critical', 'taiwan', 'allow', 'die', 'check', 'director', 'release', 'food', 'expect', 'france', 'close', 'child', 'work', 'hubei', 'include', 'amid', 'try', 'take', 'good', 'must', 'reporter', 'least', 'nearly', 'source', 'end', 'state', 'situation', 'join', 'isolation', 'result', 'measure', 'effort', 'staff', 'curb', 'japanese', 'world', 'family', 'pneumonia', 'help', 'meeting', 'possible', 'stop', 'xinhua', 'still', 'global', 'economy', 'confirm', 'facility', 'say', 'health', 'australian', 'major', 'low', 'team', 'resident', 'epidemic', 'old', 'pandemic', 'cancel', 'chief', 'growth', 'airport', 'test', 'return', 'get', 'like', 'treatment', 'general', 'remain', 'area', 'know', 'keep', 'wish', 'condition', 'trump', 'wash', 'part', 'military', 'mother', 'information', 'across', 'flight', 'brief', 'early', 'recovery', 'company', 'suspect', 'infectious', 'four', 'care', 'solidarity', 'strong', 'diagnose', 'asian', 'receive', 'large', 'thousand', 'together', 'billion', 'extend', 'hand', 'china', 'last', 'princess', 'long', 'ban', 'million', 'panic', 'raise', 'construction', 'follow', 'great', 'back', 'charter', 'story', 'avoid', 'line', 'cruise', 'donate', 'infection', 'pass', 'confidence', 'student', 'hospital', 'would', 'risk', 'lead', 'new', 'plane', 'death', 'away', 'drop', 'university', 'national', 'hong', 'video', 'find', 'fund', 'warn', 'holiday', 'people', 'aboard', 'week', 'hold', 'negative', 'apple', 'order', 'demand', 'region', 'one', 'bed', 'reach', 'contain', 'trial', 'fast', 'home', 'system', 'conference', 'kill', 'life', 'infected', 'positive', 'stay', 'read', 'impact', 'california', 'threat', 'beyond', 'jinping', 'shanghai', 'total', 'authority', 'research', 'head', 'travel', 'force', 'dollar', 'nine', 'see', 'recently', 'another', 'fight', 'contact', 'base', 'officer', 'prevent', 'increase', 'organization', 'medicine', 'five', 'central', 'protect', 'support', 'disease', 'case', 'social', 'east', 'suspend', 'two', 'hundred', 'market', 'production', 'set', 'level', 'minister', 'best', 'city', 'recover', 'late', 'contract', 'use', 'virus', 'animal', 'news', 'meet', 'baby', 'stand', 'respiratory', 'big', 'plan', 'doctor', 'data', 'far', 'grow', 'service', 'model', 'around', 'industry', 'give', 'drug', 'medium', 'visit', 'inside', 'hard', 'carry', 'year', 'government', 'strand', 'slow', 'arrive', 'response', 'face', 'call', 'many', 'number', 'second', 'place', 'spread', 'despite', 'announce', 'cure', 'street', 'korea', 'may', 'leader', 'declare', 'live', 'suspected', 'local', 'economic', 'novel', 'since', 'expert', 'month', 'deadly', 'medic', 'press', 'board', 'department', 'illness', 'report', 'watch', 'develop', 'daily', 'ship', 'public', 'australia', 'center', 'special', 'come', 'severe', 'leishenshan', 'wall', 'infect', 'province', 'researcher', 'outbreak', 'foreign', 'beijing', 'move', 'statement', 'party', 'control', 'study', 'transmission', 'accord', 'air', 'spreading', 'supply', 'newly', 'outside', 'passenger', 'discharge', 'toll', 'sell', 'globally', 'international', 'show', 'anti', 'woman', 'commission', 'bring', 'could', 'robot', 'restriction', 'epicenter', 'citizen', 'begin', 'affect', 'put', 'group', 'day', 'surgical', 'time', 'win', 'share', 'cough', 'dead', 'united', 'battle', 'macao', 'full', 'sale', 'wear', 'border', 'hit', 'six', 'treat', 'make', 'offer', 'yuan', 'ministry', 'worker', 'evacuate', 'business', 'among', 'wang', 'person', 'shortage', 'rate', 'tell', 'high', 'development', 'patient', 'talk', 'three', 'confirmed', 'temporarily', 'need', 'lunar', 'nurse'}\n",
            "{'turn'}\n",
            "{'currently'}\n",
            "{'question'}\n",
            "{'finally'}\n",
            "{'near'}\n",
            "{'well'}\n",
            "{'today'}\n",
            "{'appear'}\n",
            "{'provide'}\n",
            "{'dozen'}\n",
            "{'several'}\n",
            "{'whether'}\n",
            "{'potential'}\n",
            "{'run'}\n",
            "{'limit'}\n",
            "{'screen'}\n",
            "{'fly'}\n",
            "{'bank'}\n",
            "{'almost'}\n",
            "{'tokyo'}\n"
          ]
        }
      ]
    },
    {
      "cell_type": "code",
      "source": [
        "disconn_keys = []\n",
        "for c in nx.connected_components(G):\n",
        "  if len(c) == 1:\n",
        "    disconn_keys.append(list(c)[0])\n",
        "\n",
        "for key in disconn_keys:\n",
        "  G.remove_node(key)"
      ],
      "metadata": {
        "id": "GoRNNwXhV6U2"
      },
      "execution_count": 583,
      "outputs": []
    },
    {
      "cell_type": "code",
      "source": [
        "print('Is connected: ', nx.is_connected(G))"
      ],
      "metadata": {
        "colab": {
          "base_uri": "https://localhost:8080/"
        },
        "id": "8Ir_s2b3SPfz",
        "outputId": "dd6912ce-92c9-400c-f206-672a71347f46"
      },
      "execution_count": 584,
      "outputs": [
        {
          "output_type": "stream",
          "name": "stdout",
          "text": [
            "Is connected:  True\n"
          ]
        }
      ]
    },
    {
      "cell_type": "code",
      "source": [
        "def threshold(vector,threshold):\n",
        "\n",
        "  l = [(el,vector[el]) for el in vector if vector[el] >= threshold ]\n",
        "\n",
        "  return pd.DataFrame(l)\n",
        "\n",
        "def threshold_reverse(vector,threshold):\n",
        "\n",
        "  l = [(el,vector[el]) for el in vector if vector[el] < threshold ]\n",
        "\n",
        "  return pd.DataFrame(l)"
      ],
      "metadata": {
        "id": "ZBl-OijLRkfB"
      },
      "execution_count": 585,
      "outputs": []
    },
    {
      "cell_type": "code",
      "source": [
        "# PageRank for reducing the graph\n",
        "pr = nx.algorithms.pagerank(G, alpha = 1)\n",
        "pr = dict(sorted(pr.items(), key=lambda item: item[1],reverse = True))\n",
        "\n",
        "thr = 0.002\n",
        "len(threshold(pr,thr))"
      ],
      "metadata": {
        "outputId": "5ec2bd22-e04f-4529-c5aa-2849e9c49e77",
        "colab": {
          "base_uri": "https://localhost:8080/"
        },
        "id": "iOeAeyavWpoW"
      },
      "execution_count": 586,
      "outputs": [
        {
          "output_type": "execute_result",
          "data": {
            "text/plain": [
              "95"
            ]
          },
          "metadata": {},
          "execution_count": 586
        }
      ]
    },
    {
      "cell_type": "code",
      "source": [
        "G_reduced = G.copy()\n",
        "nodes_to_delete = list(threshold_reverse(pr,thr)[0])\n",
        "for n in nodes_to_delete:\n",
        "    G_reduced.remove_node(n)\n",
        "\n",
        "nx.is_connected(G_reduced)"
      ],
      "metadata": {
        "outputId": "bac96a1b-f7a3-4dca-b380-2cf48aebbea7",
        "colab": {
          "base_uri": "https://localhost:8080/"
        },
        "id": "runqDTxtWpoW"
      },
      "execution_count": 587,
      "outputs": [
        {
          "output_type": "execute_result",
          "data": {
            "text/plain": [
              "True"
            ]
          },
          "metadata": {},
          "execution_count": 587
        }
      ]
    },
    {
      "cell_type": "markdown",
      "source": [
        "### Bipartition\n",
        "Partition a graph into two blocks using the Kernighan–Lin algorithm."
      ],
      "metadata": {
        "id": "2k5ZA9xESq9U"
      }
    },
    {
      "cell_type": "code",
      "source": [
        "community_bipart = community.kernighan_lin_bisection(G,weight='weight')\n",
        "\n",
        "print(community_bipart[0])\n",
        "print(community_bipart[1])"
      ],
      "metadata": {
        "colab": {
          "base_uri": "https://localhost:8080/"
        },
        "outputId": "1f3988a0-32d5-47ac-b06e-8cde1793c16b",
        "id": "I2gvUPc3Sq9V"
      },
      "execution_count": 64,
      "outputs": [
        {
          "output_type": "stream",
          "name": "stdout",
          "text": [
            "{'street', 'korea', 'reach', 'ask', 'record', 'urge', 'facility', 'australian', 'major', 'trial', 'low', 'local', 'economic', 'fast', 'system', 'phone', 'look', 'life', 'protective', 'infected', 'much', 'stay', 'read', 'pandemic', 'asia', 'cancel', 'california', 'growth', 'medic', 'quarter', 'clinical', 'threat', 'airport', 'return', 'illness', 'shanghai', 'front', 'watch', 'develop', 'daily', 'office', 'australia', 'research', 'head', 'special', 'come', 'general', 'thailand', 'aid', 'remain', 'force', 'singapore', 'area', 'keep', 'dollar', 'severe', 'nine', 'wall', 'scientist', 'investor', 'recently', 'wish', 'researcher', 'south', 'community', 'condition', 'move', 'issue', 'miss', 'statement', 'contact', 'base', 'party', 'officer', 'headline', 'increase', 'deal', 'trade', 'trump', 'wash', 'evacuee', 'medicine', 'part', 'military', 'mother', 'air', 'five', 'protect', 'information', 'fall', 'recovery', 'newly', 'social', 'infectious', 'four', 'east', 'care', 'cut', 'hundred', 'ensure', 'production', 'set', 'strong', 'asian', 'diagnose', 'top', 'receive', 'large', 'thousand', 'flu', 'best', 'firm', 'police', 'sell', 'together', 'contract', 'billion', 'race', 'extend', 'anti', 'animal', 'woman', 'news', 'way', 'also', 'hand', 'meet', 'robot', 'restriction', 'last', 'critical', 'respiratory', 'big', 'allow', 'affect', 'data', 'long', 'group', 'put', 'plan', 'check', 'grow', 'ban', 'surgical', 'service', 'release', 'panic', 'raise', 'share', 'food', 'cough', 'industry', 'charter', 'full', 'story', 'give', 'sale', 'france', 'avoid', 'line', 'child', 'drug', 'wear', 'border', 'visit', 'pass', 'try', 'inside', 'must', 'good', 'student', 'six', 'hard', 'reporter', 'carry', 'would', 'nearly', 'offer', 'plane', 'yuan', 'source', 'away', 'university', 'business', 'among', 'situation', 'person', 'wang', 'shortage', 'join', 'fund', 'isolation', 'result', 'tell', 'strand', 'slow', 'arrive', 'aboard', 'talk', 'many', 'negative', 'family', 'temporarily', 'apple', 'stop', 'meeting', 'possible', 'xinhua', 'order', 'demand', 'place', 'still', 'nurse', 'despite', 'cure'}\n",
            "{'bed', 'global', 'economy', 'confirm', 'build', 'say', 'contain', 'health', 'leader', 'may', 'declare', 'live', 'express', 'start', 'suspected', 'step', 'team', 'novel', 'resident', 'home', 'country', 'epidemic', 'conference', 'kill', 'since', 'expert', 'positive', 'fear', 'emergency', 'old', 'due', 'impact', 'month', 'chief', 'deadly', 'press', 'leave', 'cause', 'board', 'rise', 'test', 'jinping', 'stock', 'first', 'department', 'get', 'report', 'like', 'update', 'total', 'man', 'authority', 'public', 'ship', 'center', 'treatment', 'travel', 'dock', 'know', 'leishenshan', 'see', 'infect', 'province', 'another', 'outbreak', 'related', 'foreign', 'beijing', 'fight', 'medical', 'control', 'prevent', 'combat', 'study', 'organization', 'transmission', 'accord', 'already', 'send', 'mask', 'japan', 'spreading', 'central', 'across', 'flight', 'support', 'brief', 'early', 'continue', 'disease', 'case', 'supply', 'symptom', 'company', 'suspect', 'outside', 'suspend', 'official', 'quarantine', 'concern', 'passenger', 'two', 'solidarity', 'market', 'level', 'makeshift', 'discharge', 'minister', 'toll', 'become', 'prevention', 'recover', 'city', 'late', 'human', 'globally', 'international', 'show', 'use', 'virus', 'diamond', 'commission', 'bring', 'president', 'could', 'china', 'epicenter', 'citizen', 'baby', 'taiwan', 'begin', 'stand', 'princess', 'doctor', 'day', 'die', 'director', 'far', 'time', 'million', 'win', 'model', 'dead', 'united', 'expect', 'construction', 'follow', 'great', 'back', 'around', 'macao', 'battle', 'close', 'cruise', 'work', 'include', 'hubei', 'amid', 'donate', 'infection', 'medium', 'confidence', 'take', 'hit', 'lunar', 'hospital', 'least', 'treat', 'make', 'risk', 'lead', 'new', 'death', 'end', 'drop', 'ministry', 'state', 'worker', 'evacuate', 'national', 'hong', 'year', 'video', 'find', 'government', 'warn', 'rate', 'holiday', 'people', 'measure', 'effort', 'staff', 'high', 'development', 'curb', 'face', 'patient', 'call', 'japanese', 'world', 'week', 'response', 'three', 'hold', 'confirmed', 'pneumonia', 'need', 'number', 'help', 'second', 'beyond', 'spread', 'region', 'one', 'announce'}\n"
          ]
        }
      ]
    },
    {
      "cell_type": "code",
      "source": [
        "threshold = 0.001\n",
        "sum_China_0, sum_USA_0, sum_China_USA_0 = community_check(community_bipart[0], freq_dict_China, freq_dict_USA, G_China, G_USA, threshold)\n",
        "sum_China_1, sum_USA_1, sum_China_USA_1 = community_check(community_bipart[1], freq_dict_China, freq_dict_USA, G_China, G_USA, threshold)\n",
        "\n",
        "print('First community:')\n",
        "print('China: ', round(100 * sum_China_0 / len(community_bipart[0])),'%')\n",
        "print('USA: ', round(100 * sum_USA_0 / len(community_bipart[0])),'%')\n",
        "print('China&USA: ', round(100 * sum_China_USA_0 / len(community_bipart[0])),'%')\n",
        "print()\n",
        "print('China: ', round(100 * sum_China_1 / len(community_bipart[1])),'%')\n",
        "print('USA: ', round(100 * sum_USA_1 / len(community_bipart[1])),'%')\n",
        "print('China&USA: ', round(100 * sum_China_USA_1 / len(community_bipart[1])),'%')"
      ],
      "metadata": {
        "colab": {
          "base_uri": "https://localhost:8080/"
        },
        "outputId": "d643eaaa-7a1a-4f64-e3a3-d99dfedb89d5",
        "id": "-44b1mk9Sq9V"
      },
      "execution_count": 65,
      "outputs": [
        {
          "output_type": "stream",
          "name": "stdout",
          "text": [
            "First community:\n",
            "China:  7 %\n",
            "USA:  13 %\n",
            "China&USA:  79 %\n",
            "\n",
            "China:  14 %\n",
            "USA:  11 %\n",
            "China&USA:  74 %\n"
          ]
        }
      ]
    },
    {
      "cell_type": "markdown",
      "source": [
        "**Metrics**"
      ],
      "metadata": {
        "id": "a3E1nXUCSq9V"
      }
    },
    {
      "cell_type": "code",
      "source": [
        "_ = compute_metrics(G, community_bipart)"
      ],
      "metadata": {
        "colab": {
          "base_uri": "https://localhost:8080/"
        },
        "outputId": "acdc0219-7967-4b78-a57a-95232019255e",
        "id": "xf07fnqfSq9V"
      },
      "execution_count": 66,
      "outputs": [
        {
          "output_type": "stream",
          "name": "stdout",
          "text": [
            "Coverage:  0.8364668322100035\n",
            "Performance:  0.5217325310348566\n",
            "Modularity:  0.004654394374712387\n"
          ]
        }
      ]
    },
    {
      "cell_type": "markdown",
      "source": [
        "### Modularity-based communities\n",
        "Find communities in G using greedy modularity maximization."
      ],
      "metadata": {
        "id": "7mjh9cojSq9V"
      }
    },
    {
      "cell_type": "code",
      "source": [
        "community_mod = community.greedy_modularity_communities(G, n_communities=2, weight='weight')\n",
        "\n",
        "community_mod_list = []\n",
        "for comm in community_mod:\n",
        " print(list(comm))\n",
        " community_mod_list.append(list(comm))"
      ],
      "metadata": {
        "colab": {
          "base_uri": "https://localhost:8080/"
        },
        "outputId": "3c15758b-3e01-4a99-8108-9689a92c9d32",
        "id": "O0QY4DN6Sq9W"
      },
      "execution_count": 67,
      "outputs": [
        {
          "output_type": "stream",
          "name": "stdout",
          "text": [
            "['street', 'ask', 'urge', 'economy', 'contain', 'may', 'leader', 'major', 'express', 'low', 'step', 'economic', 'fast', 'resident', 'system', 'home', 'country', 'epidemic', 'phone', 'life', 'since', 'much', 'read', 'stay', 'due', 'impact', 'asia', 'cancel', 'california', 'growth', 'quarter', 'deadly', 'jinping', 'stock', 'illness', 'department', 'get', 'like', 'update', 'shanghai', 'watch', 'develop', 'office', 'australia', 'head', 'come', 'travel', 'aid', 'remain', 'force', 'area', 'keep', 'dollar', 'wall', 'scientist', 'investor', 'recently', 'wish', 'outbreak', 'fight', 'move', 'issue', 'contact', 'base', 'party', 'prevent', 'combat', 'deal', 'trade', 'evacuee', 'wash', 'trump', 'part', 'send', 'air', 'mask', 'spreading', 'five', 'protect', 'information', 'across', 'flight', 'support', 'continue', 'supply', 'newly', 'company', 'social', 'east', 'suspend', 'cut', 'ensure', 'hundred', 'market', 'solidarity', 'level', 'asian', 'production', 'strong', 'top', 'large', 'thousand', 'flu', 'best', 'city', 'firm', 'late', 'sell', 'together', 'globally', 'contract', 'show', 'billion', 'extend', 'anti', 'animal', 'woman', 'news', 'hand', 'way', 'president', 'robot', 'meet', 'china', 'last', 'restriction', 'citizen', 'stand', 'begin', 'respiratory', 'big', 'plan', 'affect', 'long', 'group', 'far', 'grow', 'surgical', 'ban', 'service', 'million', 'win', 'raise', 'share', 'food', 'cough', 'united', 'follow', 'back', 'around', 'industry', 'battle', 'charter', 'story', 'full', 'sale', 'avoid', 'close', 'work', 'amid', 'wear', 'donate', 'border', 'medium', 'confidence', 'try', 'take', 'hit', 'good', 'student', 'hard', 'carry', 'least', 'nearly', 'make', 'offer', 'yuan', 'source', 'state', 'university', 'business', 'situation', 'video', 'shortage', 'join', 'fund', 'warn', 'rate', 'tell', 'slow', 'measure', 'effort', 'arrive', 'response', 'high', 'development', 'face', 'call', 'talk', 'curb', 'many', 'temporarily', 'help', 'apple', 'possible', 'stop', 'place', 'order', 'demand', 'beyond', 'spread', 'nurse', 'announce']\n",
            "['bed', 'receive', 'facility', 'build', 'recover', 'trial', 'live', 'start', 'race', 'use', 'local', 'team', 'novel', 'look', 'protective', 'infected', 'baby', 'makeshift', 'old', 'month', 'doctor', 'put', 'check', 'medic', 'clinical', 'time', 'model', 'expect', 'construction', 'give', 'child', 'treatment', 'special', 'research', 'drug', 'visit', 'severe', 'leishenshan', 'inside', 'see', 'hospital', 'reporter', 'researcher', 'community', 'treat', 'risk', 'beijing', 'medical', 'worker', 'year', 'wang', 'headline', 'isolation', 'holiday', 'medicine', 'staff', 'military', 'mother', 'patient', 'brief', 'recovery', 'symptom', 'care', 'xinhua', 'second', 'still', 'lunar', 'set', 'cure']\n",
            "['korea', 'toll', 'singapore', 'reach', 'record', 'infection', 'pass', 'nine', 'confirm', 'six', 'province', 'another', 'south', 'new', 'suspected', 'death', 'end', 'drop', 'condition', 'bring', 'miss', 'hubei', 'person', 'epicenter', 'critical', 'increase', 'taiwan', 'strand', 'data', 'day', 'die', 'rise', 'cause', 'airport', 'release', 'central', 'fall', 'return', 'three', 'first', 'dead', 'report', 'case', 'family', 'confirmed', 'suspect', 'pneumonia', 'man', 'outside', 'total', 'daily', 'four', 'number', 'macao', 'france', 'authority', 'region', 'include', 'one', 'thailand', 'discharge', 'diagnose']\n",
            "['minister', 'prevention', 'say', 'must', 'police', 'human', 'health', 'international', 'declare', 'would', 'foreign', 'ministry', 'commission', 'statement', 'national', 'could', 'officer', 'among', 'conference', 'control', 'expert', 'emergency', 'pandemic', 'organization', 'transmission', 'accord', 'center', 'chief', 'threat', 'director', 'press', 'world', 'panic', 'hold', 'early', 'disease', 'infectious', 'meeting', 'official', 'public', 'concern', 'general', 'global']\n",
            "['dock', 'become', 'know', 'australian', 'infect', 'plane', 'related', 'lead', 'virus', 'diamond', 'away', 'also', 'evacuate', 'hong', 'kill', 'find', 'government', 'cruise', 'positive', 'study', 'fear', 'princess', 'people', 'result', 'allow', 'already', 'leave', 'board', 'aboard', 'japan', 'japanese', 'week', 'test', 'negative', 'need', 'great', 'ship', 'quarantine', 'passenger', 'two', 'despite']\n",
            "['front', 'line']\n"
          ]
        }
      ]
    },
    {
      "cell_type": "code",
      "source": [
        "threshold = 0.001\n",
        "for i in range(len(community_mod_list)):\n",
        "  sum_China, sum_USA, sum_China_USA = community_check(community_mod_list[i], freq_dict_China, freq_dict_USA, G_China, G_USA, threshold)\n",
        "  print('Community: ', i)\n",
        "  print('China: ', round(100 * sum_China / len(community_mod_list[i])),'%')\n",
        "  print('USA: ', round(100 * sum_USA / len(community_mod_list[i])),'%')\n",
        "  print('China&USA: ', round(100 * sum_China_USA / len(community_mod_list[i])),'%')\n",
        "  print()"
      ],
      "metadata": {
        "colab": {
          "base_uri": "https://localhost:8080/"
        },
        "outputId": "2a2ddbcb-dc0a-4e9c-ec41-d4dbada6872d",
        "id": "fjXaTGeNSq9W"
      },
      "execution_count": 68,
      "outputs": [
        {
          "output_type": "stream",
          "name": "stdout",
          "text": [
            "Community:  0\n",
            "China:  8 %\n",
            "USA:  15 %\n",
            "China&USA:  77 %\n",
            "\n",
            "Community:  1\n",
            "China:  26 %\n",
            "USA:  1 %\n",
            "China&USA:  72 %\n",
            "\n",
            "Community:  2\n",
            "China:  15 %\n",
            "USA:  15 %\n",
            "China&USA:  69 %\n",
            "\n",
            "Community:  3\n",
            "China:  5 %\n",
            "USA:  2 %\n",
            "China&USA:  93 %\n",
            "\n",
            "Community:  4\n",
            "China:  5 %\n",
            "USA:  22 %\n",
            "China&USA:  71 %\n",
            "\n",
            "Community:  5\n",
            "China:  0 %\n",
            "USA:  0 %\n",
            "China&USA:  100 %\n",
            "\n"
          ]
        }
      ]
    },
    {
      "cell_type": "markdown",
      "source": [
        "**Metrics**"
      ],
      "metadata": {
        "id": "tGAefOe9Sq9W"
      }
    },
    {
      "cell_type": "code",
      "source": [
        "_ = compute_metrics(G, community_mod_list)"
      ],
      "metadata": {
        "colab": {
          "base_uri": "https://localhost:8080/"
        },
        "outputId": "7891be9b-6eb6-4cbb-c82f-1f5aa152d24f",
        "id": "_Sls75rLSq9W"
      },
      "execution_count": 69,
      "outputs": [
        {
          "output_type": "stream",
          "name": "stdout",
          "text": [
            "Coverage:  0.47321745299751683\n",
            "Performance:  0.6889467122025261\n",
            "Modularity:  0.2672778611512895\n"
          ]
        }
      ]
    },
    {
      "cell_type": "markdown",
      "source": [
        "#### display"
      ],
      "metadata": {
        "id": "JSqEV5SQSq9W"
      }
    },
    {
      "cell_type": "code",
      "source": [
        "colors = list(G.nodes)\n",
        "i = 0\n",
        "dict_nodes = {}\n",
        "for node in colors:\n",
        "  if node in community_mod_list[0]:\n",
        "    colors[i] = 'violet'\n",
        "    dict_nodes[node] = 0\n",
        "  if node in community_mod_list[1]:\n",
        "    colors[i] = 'lightcoral'\n",
        "    dict_nodes[node] = 1\n",
        "  if node in community_mod_list[2]:\n",
        "    colors[i] = 'lawngreen'\n",
        "    dict_nodes[node] = 2\n",
        "  if node in community_mod_list[3]:\n",
        "    colors[i] = 'cyan'\n",
        "    dict_nodes[node] = 3\n",
        "  if node in community_mod_list[4]:\n",
        "    colors[i] = 'dodgerblue'\n",
        "    dict_nodes[node] = 4\n",
        "  i += 1"
      ],
      "metadata": {
        "id": "eLIlOLPKSq9W"
      },
      "execution_count": null,
      "outputs": []
    },
    {
      "cell_type": "code",
      "source": [
        "pos = community_layout(G, dict_nodes)\n",
        "fig = plt.figure(1, figsize=(200, 80), dpi=60)\n",
        "nx.draw_networkx(G, pos, node_color=colors, node_size=5000, with_labels=True,\n",
        "                 font_size =50,width=0.05)\n",
        "plt.show()"
      ],
      "metadata": {
        "id": "TmfPkg_mSq9X"
      },
      "execution_count": null,
      "outputs": []
    },
    {
      "cell_type": "markdown",
      "source": [
        "### Louvain Community Detection\n",
        "Find the best partition of a graph using the Louvain Community Detection Algorithm."
      ],
      "metadata": {
        "id": "Kgn-UPSxSq9X"
      }
    },
    {
      "cell_type": "code",
      "source": [
        "community_louv = community_louvain.best_partition(G,weight='weight')\n",
        "\n",
        "max = np.max(list(community_louv.values()))\n",
        "community_louvain_list = []\n",
        "for i in range(max+1):\n",
        "  community_louvain_list.append([])\n",
        "for key in list(community_louv.keys()):\n",
        "  community_louvain_list[community_louv[key]].append(key)\n",
        "for i in range(max+1):\n",
        "  print(community_louvain_list[i])"
      ],
      "metadata": {
        "colab": {
          "base_uri": "https://localhost:8080/"
        },
        "outputId": "4106908e-ed6b-4f3f-c506-ec9f9d5586cc",
        "id": "wn1XIeAoSq9X"
      },
      "execution_count": 70,
      "outputs": [
        {
          "output_type": "stream",
          "name": "stdout",
          "text": [
            "['talk', 'china', 'novel', 'outbreak', 'university', 'medical', 'student', 'face', 'deal', 'medium', 'watch', 'make', 'take', 'hard', 'announce', 'team', 'expert', 'among', 'asia', 'state', 'information', 'office', 'worker', 'across', 'line', 'since', 'medic', 'arrive', 'support', 'local', 'help', 'fight', 'cut', 'firm', 'express', 'contain', 'epidemic', 'nearly', 'risk', 'ensure', 'supply', 'trump', 'try', 'share', 'effort', 'send', 'amid', 'offer', 'system', 'wang', 'mask', 'donate', 'show', 'australia', 'daily', 'begin', 'back', 'work', 'service', 'industry', 'combat', 'get', 'business', 'issue', 'plan', 'possible', 'high', 'raise', 'woman', 'measure', 'home', 'city', 'food', 'come', 'fund', 'battle', 'billion', 'dollar', 'win', 'meet', 'due', 'big', 'beijing', 'economy', 'fast', 'part', 'slow', 'many', 'aid', 'may', 'stand', 'infected', 'see', 'response', 'diagnose', 'much', 'yuan', 'company', 'production', 'president', 'solidarity', 'join', 'leader', 'recently', 'east', 'million', 'affect', 'growth', 'far', 'isolation', 'phone', 'call', 'scientist', 'respiratory', 'full', 'together', 'keep', 'citizen', 'ask', 'head', 'nurse', 'close', 'rate', 'long', 'last', 'impact', 'air', 'group', 'flu', 'top', 'economic', 'situation', 'major', 'video', 'grow', 'united', 'warn', 'stay', 'strong', 'mother', 'strand', 'tell', 'ban', 'flight', 'suspend', 'confidence', 'develop', 'low', 'travel', 'urge', 'good', 'social', 'large', 'trade', 'restriction', 'still', 'way', 'border', 'return', 'region', 'base', 'newly', 'read', 'news', 'place', 'resident', 'shortage', 'shanghai', 'anti', 'story', 'child', 'department', 'five', 'deadly', 'party', 'level', 'order', 'staff', 'source', 'demand', 'military', 'six', 'hit', 'area', 'cancel', 'illness', 'hundred', 'visit', 'sale', 'life', 'animal', 'sell', 'market', 'extend', 'hand', 'xinhua', 'like', 'wish', 'jinping', 'best', 'step', 'community', 'check', 'carry', 'apple', 'robot', 'force', 'thousand', 'remain', 'stock', 'move', 'avoid', 'temporarily', 'wall', 'evacuee', 'street', 'california', 'contact', 'surgical', 'wear', 'protect', 'police', 'researcher', 'research', 'charter', 'wash', 'protective', 'asian', 'headline', 'quarter', 'investor', 'contract', 'officer', 'cough', 'care', 'front']\n",
            "['world', 'disease', 'health', 'organization', 'international', 'prevention', 'chief', 'say', 'foreign', 'minister', 'official', 'hold', 'control', 'national', 'commission', 'transmission', 'global', 'accord', 'press', 'conference', 'ministry', 'concern', 'could', 'public', 'emergency', 'general', 'director', 'early', 'would', 'threat', 'center', 'declare', 'must', 'human', 'meeting', 'pandemic', 'infectious', 'statement', 'panic']\n",
            "['people', 'great', 'lead', 'cruise', 'ship', 'japan', 'country', 'virus', 'week', 'leave', 'find', 'infect', 'spread', 'also', 'evacuate', 'test', 'despite', 'need', 'become', 'stop', 'government', 'quarantine', 'hong', 'two', 'cause', 'curb', 'plane', 'least', 'positive', 'prevent', 'know', 'continue', 'passenger', 'kill', 'fear', 'japanese', 'globally', 'diamond', 'princess', 'board', 'study', 'related', 'dock', 'already', 'aboard', 'allow', 'away', 'result', 'australian', 'negative']\n",
            "['outside', 'confirm', 'case', 'central', 'epicenter', 'hubei', 'province', 'number', 'drop', 'day', 'include', 'critical', 'total', 'one', 'new', 'end', 'three', 'die', 'south', 'increase', 'miss', 'authority', 'pneumonia', 'death', 'confirmed', 'family', 'dead', 'discharge', 'first', 'report', 'suspected', 'toll', 'another', 'macao', 'taiwan', 'infection', 'bring', 'rise', 'man', 'pass', 'record', 'fall', 'france', 'person', 'release', 'reach', 'korea', 'airport', 'suspect', 'four', 'condition', 'data', 'nine', 'singapore', 'thailand']\n",
            "['hospital', 'drug', 'medicine', 'treatment', 'use', 'start', 'second', 'patient', 'inside', 'year', 'old', 'put', 'recover', 'reporter', 'doctor', 'makeshift', 'symptom', 'month', 'baby', 'cure', 'holiday', 'time', 'set', 'build', 'bed', 'special', 'race', 'treat', 'expect', 'model', 'trial', 'lunar', 'clinical', 'look', 'leishenshan', 'receive', 'construction', 'recovery', 'severe', 'facility']\n",
            "['live', 'brief', 'late', 'give', 'update', 'around', 'development', 'follow', 'beyond', 'spreading']\n"
          ]
        }
      ]
    },
    {
      "cell_type": "code",
      "source": [
        "threshold = 0.001\n",
        "for i in range(len(community_louvain_list)):\n",
        "  sum_China, sum_USA, sum_China_USA = community_check(community_louvain_list[i], freq_dict_China, freq_dict_USA, G_China, G_USA, threshold)\n",
        "  print('Community: ', i)\n",
        "  print('China: ', round(100 * sum_China / len(community_louvain_list[i])),'%')\n",
        "  print('USA: ', round(100 * sum_USA / len(community_louvain_list[i])),'%')\n",
        "  print('China&USA: ', round(100 * sum_China_USA / len(community_louvain_list[i])),'%')\n",
        "  print()"
      ],
      "metadata": {
        "colab": {
          "base_uri": "https://localhost:8080/"
        },
        "outputId": "af42a1ac-b3a3-449d-fb9b-2151eb150484",
        "id": "2cLJo2RQSq9X"
      },
      "execution_count": 71,
      "outputs": [
        {
          "output_type": "stream",
          "name": "stdout",
          "text": [
            "Community:  0\n",
            "China:  10 %\n",
            "USA:  12 %\n",
            "China&USA:  77 %\n",
            "\n",
            "Community:  1\n",
            "China:  5 %\n",
            "USA:  3 %\n",
            "China&USA:  92 %\n",
            "\n",
            "Community:  2\n",
            "China:  4 %\n",
            "USA:  22 %\n",
            "China&USA:  72 %\n",
            "\n",
            "Community:  3\n",
            "China:  16 %\n",
            "USA:  15 %\n",
            "China&USA:  69 %\n",
            "\n",
            "Community:  4\n",
            "China:  22 %\n",
            "USA:  2 %\n",
            "China&USA:  75 %\n",
            "\n",
            "Community:  5\n",
            "China:  10 %\n",
            "USA:  20 %\n",
            "China&USA:  70 %\n",
            "\n"
          ]
        }
      ]
    },
    {
      "cell_type": "markdown",
      "source": [
        "**Metrics**"
      ],
      "metadata": {
        "id": "y0dYHU4hSq9X"
      }
    },
    {
      "cell_type": "code",
      "source": [
        "_ = compute_metrics(G, community_louvain_list)"
      ],
      "metadata": {
        "colab": {
          "base_uri": "https://localhost:8080/"
        },
        "outputId": "b3e91299-2333-4dd0-e6c8-ec24d54f2419",
        "id": "KAoh6cZlSq9X"
      },
      "execution_count": 72,
      "outputs": [
        {
          "output_type": "stream",
          "name": "stdout",
          "text": [
            "Coverage:  0.48456899609790705\n",
            "Performance:  0.6520518241448474\n",
            "Modularity:  0.2695924737981779\n"
          ]
        }
      ]
    },
    {
      "cell_type": "markdown",
      "source": [
        "#### display"
      ],
      "metadata": {
        "id": "Xw5-_7D5Sq9X"
      }
    },
    {
      "cell_type": "code",
      "source": [
        "colors = list(community_louv.values())\n",
        "\n",
        "colors[:] = [x if x != 0 else 'violet' for x in colors]\n",
        "colors[:] = [x if x != 1 else 'dodgerblue' for x in colors]\n",
        "colors[:] = [x if x != 2 else 'lawngreen' for x in colors]\n",
        "colors[:] = [x if x != 3 else 'pink' for x in colors]\n",
        "colors[:] = [x if x != 4 else 'lightcoral' for x in colors]\n",
        "colors[:] = [x if x != 5 else 'cyan' for x in colors]"
      ],
      "metadata": {
        "id": "cP5yigQjSq9Y"
      },
      "execution_count": null,
      "outputs": []
    },
    {
      "cell_type": "code",
      "source": [
        "pos = community_layout(G, community_louv)\n",
        "fig = plt.figure(1, figsize=(200, 80), dpi=60)\n",
        "nx.draw_networkx(G, pos, node_color=colors, node_size=5000, with_labels=True,\n",
        "                 font_size =50,width=0.05)\n",
        "plt.show()"
      ],
      "metadata": {
        "id": "6y_ibg7GSq9Y"
      },
      "execution_count": null,
      "outputs": []
    },
    {
      "cell_type": "markdown",
      "source": [
        "### Dendogram"
      ],
      "metadata": {
        "id": "-8S5eQ6lSq9Y"
      }
    },
    {
      "cell_type": "code",
      "source": [
        "paris = Paris()\n",
        "adjacency = nx.convert_matrix.to_numpy_array(G_reduced, nodelist = list(G_reduced.nodes))\n",
        "dendrogram = paris.fit_transform(adjacency)\n",
        "\n",
        "names = list(G_reduced.nodes)\n",
        "image = svg_dendrogram(dendrogram, names, n_clusters=2, rotate=False,width=1000,height=500,filename='community_dendogram2'+period)\n",
        "SVG(image)"
      ],
      "metadata": {
        "colab": {
          "base_uri": "https://localhost:8080/",
          "height": 0
        },
        "outputId": "0b79a640-742b-402d-8d5a-ac9c06289269",
        "id": "AZm45jj9Sq9Y"
      },
      "execution_count": 588,
      "outputs": [
        {
          "output_type": "execute_result",
          "data": {
            "text/plain": [
              "<IPython.core.display.SVG object>"
            ],
            "image/svg+xml": "<svg height=\"597.0\" width=\"1020\" xmlns=\"http://www.w3.org/2000/svg\"><text font-size=\"12\" transform=\"rotate(60, 99.73684210526316, 515)\" x=\"99.73684210526316\" y=\"515\">china</text><text font-size=\"12\" transform=\"rotate(60, 373.42105263157896, 515)\" x=\"373.42105263157896\" y=\"515\">novel</text><text font-size=\"12\" transform=\"rotate(60, 120.78947368421053, 515)\" x=\"120.78947368421053\" y=\"515\">outbreak</text><text font-size=\"12\" transform=\"rotate(60, 5.0, 515)\" x=\"5.0\" y=\"515\">medical</text><text font-size=\"12\" transform=\"rotate(60, 531.3157894736843, 515)\" x=\"531.3157894736843\" y=\"515\">people</text><text font-size=\"12\" transform=\"rotate(60, 478.68421052631584, 515)\" x=\"478.68421052631584\" y=\"515\">world</text><text font-size=\"12\" transform=\"rotate(60, 320.7894736842105, 515)\" x=\"320.7894736842105\" y=\"515\">disease</text><text font-size=\"12\" transform=\"rotate(60, 278.68421052631584, 515)\" x=\"278.68421052631584\" y=\"515\">take</text><text font-size=\"12\" transform=\"rotate(60, 457.63157894736844, 515)\" x=\"457.63157894736844\" y=\"515\">health</text><text font-size=\"12\" transform=\"rotate(60, 468.15789473684214, 515)\" x=\"468.15789473684214\" y=\"515\">organization</text><text font-size=\"12\" transform=\"rotate(60, 299.7368421052632, 515)\" x=\"299.7368421052632\" y=\"515\">expert</text><text font-size=\"12\" transform=\"rotate(60, 994.4736842105264, 515)\" x=\"994.4736842105264\" y=\"515\">outside</text><text font-size=\"12\" transform=\"rotate(60, 720.7894736842106, 515)\" x=\"720.7894736842106\" y=\"515\">confirm</text><text font-size=\"12\" transform=\"rotate(60, 710.2631578947369, 515)\" x=\"710.2631578947369\" y=\"515\">case</text><text font-size=\"12\" transform=\"rotate(60, 615.5263157894738, 515)\" x=\"615.5263157894738\" y=\"515\">cruise</text><text font-size=\"12\" transform=\"rotate(60, 605.0, 515)\" x=\"605.0\" y=\"515\">ship</text><text font-size=\"12\" transform=\"rotate(60, 636.578947368421, 515)\" x=\"636.578947368421\" y=\"515\">japan</text><text font-size=\"12\" transform=\"rotate(60, 257.63157894736844, 515)\" x=\"257.63157894736844\" y=\"515\">country</text><text font-size=\"12\" transform=\"rotate(60, 183.94736842105266, 515)\" x=\"183.94736842105266\" y=\"515\">live</text><text font-size=\"12\" transform=\"rotate(60, 141.84210526315792, 515)\" x=\"141.84210526315792\" y=\"515\">state</text><text font-size=\"12\" transform=\"rotate(60, 341.8421052631579, 515)\" x=\"341.8421052631579\" y=\"515\">prevention</text><text font-size=\"12\" transform=\"rotate(60, 889.2105263157896, 515)\" x=\"889.2105263157896\" y=\"515\">central</text><text font-size=\"12\" transform=\"rotate(60, 899.7368421052632, 515)\" x=\"899.7368421052632\" y=\"515\">epicenter</text><text font-size=\"12\" transform=\"rotate(60, 194.47368421052633, 515)\" x=\"194.47368421052633\" y=\"515\">late</text><text font-size=\"12\" transform=\"rotate(60, 868.1578947368422, 515)\" x=\"868.1578947368422\" y=\"515\">hubei</text><text font-size=\"12\" transform=\"rotate(60, 878.6842105263158, 515)\" x=\"878.6842105263158\" y=\"515\">province</text><text font-size=\"12\" transform=\"rotate(60, 89.21052631578948, 515)\" x=\"89.21052631578948\" y=\"515\">support</text><text font-size=\"12\" transform=\"rotate(60, 920.7894736842106, 515)\" x=\"920.7894736842106\" y=\"515\">hospital</text><text font-size=\"12\" transform=\"rotate(60, 15.526315789473685, 515)\" x=\"15.526315789473685\" y=\"515\">help</text><text font-size=\"12\" transform=\"rotate(60, 68.15789473684211, 515)\" x=\"68.15789473684211\" y=\"515\">fight</text><text font-size=\"12\" transform=\"rotate(60, 236.57894736842107, 515)\" x=\"236.57894736842107\" y=\"515\">contain</text><text font-size=\"12\" transform=\"rotate(60, 47.10526315789474, 515)\" x=\"47.10526315789474\" y=\"515\">epidemic</text><text font-size=\"12\" transform=\"rotate(60, 268.15789473684214, 515)\" x=\"268.15789473684214\" y=\"515\">say</text><text font-size=\"12\" transform=\"rotate(60, 226.0526315789474, 515)\" x=\"226.0526315789474\" y=\"515\">effort</text><text font-size=\"12\" transform=\"rotate(60, 110.26315789473685, 515)\" x=\"110.26315789473685\" y=\"515\">amid</text><text font-size=\"12\" transform=\"rotate(60, 794.4736842105264, 515)\" x=\"794.4736842105264\" y=\"515\">number</text><text font-size=\"12\" transform=\"rotate(60, 415.5263157894737, 515)\" x=\"415.5263157894737\" y=\"515\">day</text><text font-size=\"12\" transform=\"rotate(60, 541.8421052631579, 515)\" x=\"541.8421052631579\" y=\"515\">virus</text><text font-size=\"12\" transform=\"rotate(60, 741.8421052631579, 515)\" x=\"741.8421052631579\" y=\"515\">include</text><text font-size=\"12\" transform=\"rotate(60, 36.578947368421055, 515)\" x=\"36.578947368421055\" y=\"515\">mask</text><text font-size=\"12\" transform=\"rotate(60, 78.6842105263158, 515)\" x=\"78.6842105263158\" y=\"515\">show</text><text font-size=\"12\" transform=\"rotate(60, 352.3684210526316, 515)\" x=\"352.3684210526316\" y=\"515\">official</text><text font-size=\"12\" transform=\"rotate(60, 331.3157894736842, 515)\" x=\"331.3157894736842\" y=\"515\">control</text><text font-size=\"12\" transform=\"rotate(60, 773.421052631579, 515)\" x=\"773.421052631579\" y=\"515\">total</text><text font-size=\"12\" transform=\"rotate(60, 678.6842105263158, 515)\" x=\"678.6842105263158\" y=\"515\">work</text><text font-size=\"12\" transform=\"rotate(60, 731.3157894736843, 515)\" x=\"731.3157894736843\" y=\"515\">one</text><text font-size=\"12\" transform=\"rotate(60, 394.47368421052636, 515)\" x=\"394.47368421052636\" y=\"515\">national</text><text font-size=\"12\" transform=\"rotate(60, 383.94736842105266, 515)\" x=\"383.94736842105266\" y=\"515\">commission</text><text font-size=\"12\" transform=\"rotate(60, 931.3157894736843, 515)\" x=\"931.3157894736843\" y=\"515\">treatment</text><text font-size=\"12\" transform=\"rotate(60, 173.42105263157896, 515)\" x=\"173.42105263157896\" y=\"515\">update</text><text font-size=\"12\" transform=\"rotate(60, 489.2105263157895, 515)\" x=\"489.2105263157895\" y=\"515\">around</text><text font-size=\"12\" transform=\"rotate(60, 815.5263157894738, 515)\" x=\"815.5263157894738\" y=\"515\">new</text><text font-size=\"12\" transform=\"rotate(60, 552.3684210526317, 515)\" x=\"552.3684210526317\" y=\"515\">die</text><text font-size=\"12\" transform=\"rotate(60, 289.2105263157895, 515)\" x=\"289.2105263157895\" y=\"515\">measure</text><text font-size=\"12\" transform=\"rotate(60, 910.2631578947369, 515)\" x=\"910.2631578947369\" y=\"515\">city</text><text font-size=\"12\" transform=\"rotate(60, 57.631578947368425, 515)\" x=\"57.631578947368425\" y=\"515\">battle</text><text font-size=\"12\" transform=\"rotate(60, 152.3684210526316, 515)\" x=\"152.3684210526316\" y=\"515\">due</text><text font-size=\"12\" transform=\"rotate(60, 215.5263157894737, 515)\" x=\"215.5263157894737\" y=\"515\">authority</text><text font-size=\"12\" transform=\"rotate(60, 362.8947368421053, 515)\" x=\"362.8947368421053\" y=\"515\">pneumonia</text><text font-size=\"12\" transform=\"rotate(60, 447.1052631578948, 515)\" x=\"447.1052631578948\" y=\"515\">global</text><text font-size=\"12\" transform=\"rotate(60, 405.0, 515)\" x=\"405.0\" y=\"515\">accord</text><text font-size=\"12\" transform=\"rotate(60, 857.6315789473684, 515)\" x=\"857.6315789473684\" y=\"515\">death</text><text font-size=\"12\" transform=\"rotate(60, 699.7368421052632, 515)\" x=\"699.7368421052632\" y=\"515\">confirmed</text><text font-size=\"12\" transform=\"rotate(60, 499.7368421052632, 515)\" x=\"499.7368421052632\" y=\"515\">infect</text><text font-size=\"12\" transform=\"rotate(60, 941.8421052631579, 515)\" x=\"941.8421052631579\" y=\"515\">patient</text><text font-size=\"12\" transform=\"rotate(60, 247.10526315789474, 515)\" x=\"247.10526315789474\" y=\"515\">spread</text><text font-size=\"12\" transform=\"rotate(60, 973.421052631579, 515)\" x=\"973.421052631579\" y=\"515\">year</text><text font-size=\"12\" transform=\"rotate(60, 962.8947368421053, 515)\" x=\"962.8947368421053\" y=\"515\">old</text><text font-size=\"12\" transform=\"rotate(60, 952.3684210526317, 515)\" x=\"952.3684210526317\" y=\"515\">discharge</text><text font-size=\"12\" transform=\"rotate(60, 983.9473684210527, 515)\" x=\"983.9473684210527\" y=\"515\">first</text><text font-size=\"12\" transform=\"rotate(60, 26.05263157894737, 515)\" x=\"26.05263157894737\" y=\"515\">million</text><text font-size=\"12\" transform=\"rotate(60, 826.0526315789474, 515)\" x=\"826.0526315789474\" y=\"515\">report</text><text font-size=\"12\" transform=\"rotate(60, 594.4736842105264, 515)\" x=\"594.4736842105264\" y=\"515\">evacuate</text><text font-size=\"12\" transform=\"rotate(60, 573.421052631579, 515)\" x=\"573.421052631579\" y=\"515\">test</text><text font-size=\"12\" transform=\"rotate(60, 836.5789473684212, 515)\" x=\"836.5789473684212\" y=\"515\">toll</text><text font-size=\"12\" transform=\"rotate(60, 752.3684210526317, 515)\" x=\"752.3684210526317\" y=\"515\">macao</text><text font-size=\"12\" transform=\"rotate(60, 762.8947368421053, 515)\" x=\"762.8947368421053\" y=\"515\">taiwan</text><text font-size=\"12\" transform=\"rotate(60, 805.0, 515)\" x=\"805.0\" y=\"515\">infection</text><text font-size=\"12\" transform=\"rotate(60, 562.8947368421053, 515)\" x=\"562.8947368421053\" y=\"515\">doctor</text><text font-size=\"12\" transform=\"rotate(60, 783.9473684210527, 515)\" x=\"783.9473684210527\" y=\"515\">bring</text><text font-size=\"12\" transform=\"rotate(60, 689.2105263157895, 515)\" x=\"689.2105263157895\" y=\"515\">government</text><text font-size=\"12\" transform=\"rotate(60, 647.1052631578948, 515)\" x=\"647.1052631578948\" y=\"515\">quarantine</text><text font-size=\"12\" transform=\"rotate(60, 668.1578947368422, 515)\" x=\"668.1578947368422\" y=\"515\">hong</text><text font-size=\"12\" transform=\"rotate(60, 657.6315789473684, 515)\" x=\"657.6315789473684\" y=\"515\">two</text><text font-size=\"12\" transform=\"rotate(60, 426.0526315789474, 515)\" x=\"426.0526315789474\" y=\"515\">public</text><text font-size=\"12\" transform=\"rotate(60, 436.5789473684211, 515)\" x=\"436.5789473684211\" y=\"515\">emergency</text><text font-size=\"12\" transform=\"rotate(60, 847.1052631578948, 515)\" x=\"847.1052631578948\" y=\"515\">rise</text><text font-size=\"12\" transform=\"rotate(60, 162.89473684210526, 515)\" x=\"162.89473684210526\" y=\"515\">flight</text><text font-size=\"12\" transform=\"rotate(60, 131.31578947368422, 515)\" x=\"131.31578947368422\" y=\"515\">travel</text><text font-size=\"12\" transform=\"rotate(60, 205.0, 515)\" x=\"205.0\" y=\"515\">beyond</text><text font-size=\"12\" transform=\"rotate(60, 520.7894736842105, 515)\" x=\"520.7894736842105\" y=\"515\">least</text><text font-size=\"12\" transform=\"rotate(60, 583.9473684210527, 515)\" x=\"583.9473684210527\" y=\"515\">positive</text><text font-size=\"12\" transform=\"rotate(60, 310.2631578947369, 515)\" x=\"310.2631578947369\" y=\"515\">center</text><text font-size=\"12\" transform=\"rotate(60, 626.0526315789474, 515)\" x=\"626.0526315789474\" y=\"515\">passenger</text><text font-size=\"12\" transform=\"rotate(60, 510.2631578947369, 515)\" x=\"510.2631578947369\" y=\"515\">kill</text><path d=\"M 31.05263157894737 510 31.05263157894737 501.5822571926114\" stroke=\"blue\" stroke-width=\"2\"/><path d=\"M 41.578947368421055 510 41.578947368421055 501.5822571926114\" stroke=\"blue\" stroke-width=\"2\"/><path d=\"M 31.05263157894737 501.5822571926114 41.578947368421055 501.5822571926114\" stroke=\"blue\" stroke-width=\"2\"/><path d=\"M 757.3684210526317 510 757.3684210526317 500.55673238761386\" stroke=\"red\" stroke-width=\"2\"/><path d=\"M 767.8947368421053 510 767.8947368421053 500.55673238761386\" stroke=\"red\" stroke-width=\"2\"/><path d=\"M 757.3684210526317 500.55673238761386 767.8947368421053 500.55673238761386\" stroke=\"red\" stroke-width=\"2\"/><path d=\"M 199.47368421052633 510 199.47368421052633 499.6553650804735\" stroke=\"blue\" stroke-width=\"2\"/><path d=\"M 210.0 510 210.0 499.6553650804735\" stroke=\"blue\" stroke-width=\"2\"/><path d=\"M 199.47368421052633 499.6553650804735 210.0 499.6553650804735\" stroke=\"blue\" stroke-width=\"2\"/><path d=\"M 336.3157894736842 510 336.3157894736842 499.3845021215724\" stroke=\"blue\" stroke-width=\"2\"/><path d=\"M 346.8421052631579 510 346.8421052631579 499.3845021215724\" stroke=\"blue\" stroke-width=\"2\"/><path d=\"M 336.3157894736842 499.3845021215724 346.8421052631579 499.3845021215724\" stroke=\"blue\" stroke-width=\"2\"/><path d=\"M 967.8947368421053 510 967.8947368421053 498.44990987074885\" stroke=\"red\" stroke-width=\"2\"/><path d=\"M 978.421052631579 510 978.421052631579 498.44990987074885\" stroke=\"red\" stroke-width=\"2\"/><path d=\"M 967.8947368421053 498.44990987074885 978.421052631579 498.44990987074885\" stroke=\"red\" stroke-width=\"2\"/><path d=\"M 431.0526315789474 510 431.0526315789474 498.12150067017564\" stroke=\"blue\" stroke-width=\"2\"/><path d=\"M 441.5789473684211 510 441.5789473684211 498.12150067017564\" stroke=\"blue\" stroke-width=\"2\"/><path d=\"M 431.0526315789474 498.12150067017564 441.5789473684211 498.12150067017564\" stroke=\"blue\" stroke-width=\"2\"/><path d=\"M 157.3684210526316 510 157.3684210526316 497.09202387564454\" stroke=\"blue\" stroke-width=\"2\"/><path d=\"M 167.89473684210526 510 167.89473684210526 497.09202387564454\" stroke=\"blue\" stroke-width=\"2\"/><path d=\"M 157.3684210526316 497.09202387564454 167.89473684210526 497.09202387564454\" stroke=\"blue\" stroke-width=\"2\"/><path d=\"M 578.421052631579 510 578.421052631579 496.6389385229691\" stroke=\"blue\" stroke-width=\"2\"/><path d=\"M 588.9473684210527 510 588.9473684210527 496.6389385229691\" stroke=\"blue\" stroke-width=\"2\"/><path d=\"M 578.421052631579 496.6389385229691 588.9473684210527 496.6389385229691\" stroke=\"blue\" stroke-width=\"2\"/><path d=\"M 283.68421052631584 510 283.68421052631584 496.083728525327\" stroke=\"blue\" stroke-width=\"2\"/><path d=\"M 294.2105263157895 510 294.2105263157895 496.083728525327\" stroke=\"blue\" stroke-width=\"2\"/><path d=\"M 283.68421052631584 496.083728525327 294.2105263157895 496.083728525327\" stroke=\"blue\" stroke-width=\"2\"/><path d=\"M 388.94736842105266 510 388.94736842105266 495.29228303516817\" stroke=\"blue\" stroke-width=\"2\"/><path d=\"M 399.47368421052636 510 399.47368421052636 495.29228303516817\" stroke=\"blue\" stroke-width=\"2\"/><path d=\"M 388.94736842105266 495.29228303516817 399.47368421052636 495.29228303516817\" stroke=\"blue\" stroke-width=\"2\"/><path d=\"M 20.526315789473685 510 20.526315789473685 494.37001771844535\" stroke=\"blue\" stroke-width=\"2\"/><path d=\"M 36.31578947368421 501.5822571926114 36.31578947368421 494.37001771844535\" stroke=\"blue\" stroke-width=\"2\"/><path d=\"M 20.526315789473685 494.37001771844535 36.31578947368421 494.37001771844535\" stroke=\"blue\" stroke-width=\"2\"/><path d=\"M 683.6842105263158 510 683.6842105263158 493.6359372397036\" stroke=\"blue\" stroke-width=\"2\"/><path d=\"M 694.2105263157895 510 694.2105263157895 493.6359372397036\" stroke=\"blue\" stroke-width=\"2\"/><path d=\"M 683.6842105263158 493.6359372397036 694.2105263157895 493.6359372397036\" stroke=\"blue\" stroke-width=\"2\"/><path d=\"M 473.15789473684214 510 473.15789473684214 493.2388237364575\" stroke=\"blue\" stroke-width=\"2\"/><path d=\"M 483.68421052631584 510 483.68421052631584 493.2388237364575\" stroke=\"blue\" stroke-width=\"2\"/><path d=\"M 473.15789473684214 493.2388237364575 483.68421052631584 493.2388237364575\" stroke=\"blue\" stroke-width=\"2\"/><path d=\"M 315.2631578947369 510 315.2631578947369 493.1516841921895\" stroke=\"blue\" stroke-width=\"2\"/><path d=\"M 325.7894736842105 510 325.7894736842105 493.1516841921895\" stroke=\"blue\" stroke-width=\"2\"/><path d=\"M 315.2631578947369 493.1516841921895 325.7894736842105 493.1516841921895\" stroke=\"blue\" stroke-width=\"2\"/><path d=\"M 557.3684210526317 510 557.3684210526317 493.0245922784266\" stroke=\"blue\" stroke-width=\"2\"/><path d=\"M 567.8947368421053 510 567.8947368421053 493.0245922784266\" stroke=\"blue\" stroke-width=\"2\"/><path d=\"M 557.3684210526317 493.0245922784266 567.8947368421053 493.0245922784266\" stroke=\"blue\" stroke-width=\"2\"/><path d=\"M 746.8421052631579 510 746.8421052631579 492.0942638072551\" stroke=\"red\" stroke-width=\"2\"/><path d=\"M 762.6315789473686 500.55673238761386 762.6315789473686 492.0942638072551\" stroke=\"red\" stroke-width=\"2\"/><path d=\"M 746.8421052631579 492.0942638072551 762.6315789473686 492.0942638072551\" stroke=\"red\" stroke-width=\"2\"/><path d=\"M 610.0 510 610.0 490.13964854968407\" stroke=\"blue\" stroke-width=\"2\"/><path d=\"M 620.5263157894738 510 620.5263157894738 490.13964854968407\" stroke=\"blue\" stroke-width=\"2\"/><path d=\"M 610.0 490.13964854968407 620.5263157894738 490.13964854968407\" stroke=\"blue\" stroke-width=\"2\"/><path d=\"M 515.2631578947369 510 515.2631578947369 489.88260813698196\" stroke=\"blue\" stroke-width=\"2\"/><path d=\"M 525.7894736842105 510 525.7894736842105 489.88260813698196\" stroke=\"blue\" stroke-width=\"2\"/><path d=\"M 515.2631578947369 489.88260813698196 525.7894736842105 489.88260813698196\" stroke=\"blue\" stroke-width=\"2\"/><path d=\"M 178.42105263157896 510 178.42105263157896 489.2150026945396\" stroke=\"blue\" stroke-width=\"2\"/><path d=\"M 188.94736842105266 510 188.94736842105266 489.2150026945396\" stroke=\"blue\" stroke-width=\"2\"/><path d=\"M 178.42105263157896 489.2150026945396 188.94736842105266 489.2150026945396\" stroke=\"blue\" stroke-width=\"2\"/><path d=\"M 841.5789473684212 510 841.5789473684212 487.97432338491257\" stroke=\"red\" stroke-width=\"2\"/><path d=\"M 852.1052631578948 510 852.1052631578948 487.97432338491257\" stroke=\"red\" stroke-width=\"2\"/><path d=\"M 841.5789473684212 487.97432338491257 852.1052631578948 487.97432338491257\" stroke=\"red\" stroke-width=\"2\"/><path d=\"M 83.6842105263158 510 83.6842105263158 487.27176724249847\" stroke=\"blue\" stroke-width=\"2\"/><path d=\"M 94.21052631578948 510 94.21052631578948 487.27176724249847\" stroke=\"blue\" stroke-width=\"2\"/><path d=\"M 83.6842105263158 487.27176724249847 94.21052631578948 487.27176724249847\" stroke=\"blue\" stroke-width=\"2\"/><path d=\"M 320.5263157894737 493.1516841921895 320.5263157894737 487.14117160507425\" stroke=\"blue\" stroke-width=\"2\"/><path d=\"M 341.57894736842104 499.3845021215724 341.57894736842104 487.14117160507425\" stroke=\"blue\" stroke-width=\"2\"/><path d=\"M 320.5263157894737 487.14117160507425 341.57894736842104 487.14117160507425\" stroke=\"blue\" stroke-width=\"2\"/><path d=\"M 615.2631578947369 490.13964854968407 615.2631578947369 485.3767496070997\" stroke=\"blue\" stroke-width=\"2\"/><path d=\"M 631.0526315789474 510 631.0526315789474 485.3767496070997\" stroke=\"blue\" stroke-width=\"2\"/><path d=\"M 615.2631578947369 485.3767496070997 631.0526315789474 485.3767496070997\" stroke=\"blue\" stroke-width=\"2\"/><path d=\"M 736.3157894736843 510 736.3157894736843 482.3923947540485\" stroke=\"red\" stroke-width=\"2\"/><path d=\"M 754.7368421052632 492.0942638072551 754.7368421052632 482.3923947540485\" stroke=\"red\" stroke-width=\"2\"/><path d=\"M 736.3157894736843 482.3923947540485 754.7368421052632 482.3923947540485\" stroke=\"red\" stroke-width=\"2\"/><path d=\"M 231.0526315789474 510 231.0526315789474 481.86396691869874\" stroke=\"blue\" stroke-width=\"2\"/><path d=\"M 241.57894736842107 510 241.57894736842107 481.86396691869874\" stroke=\"blue\" stroke-width=\"2\"/><path d=\"M 231.0526315789474 481.86396691869874 241.57894736842107 481.86396691869874\" stroke=\"blue\" stroke-width=\"2\"/><path d=\"M 136.31578947368422 510 136.31578947368422 480.05568961326\" stroke=\"blue\" stroke-width=\"2\"/><path d=\"M 146.84210526315792 510 146.84210526315792 480.05568961326\" stroke=\"blue\" stroke-width=\"2\"/><path d=\"M 136.31578947368422 480.05568961326 146.84210526315792 480.05568961326\" stroke=\"blue\" stroke-width=\"2\"/><path d=\"M 478.42105263157896 493.2388237364575 478.42105263157896 479.4122075485435\" stroke=\"blue\" stroke-width=\"2\"/><path d=\"M 494.2105263157895 510 494.2105263157895 479.4122075485435\" stroke=\"blue\" stroke-width=\"2\"/><path d=\"M 478.42105263157896 479.4122075485435 494.2105263157895 479.4122075485435\" stroke=\"blue\" stroke-width=\"2\"/><path d=\"M 623.1578947368421 485.3767496070997 623.1578947368421 479.33825300996483\" stroke=\"blue\" stroke-width=\"2\"/><path d=\"M 641.578947368421 510 641.578947368421 479.33825300996483\" stroke=\"blue\" stroke-width=\"2\"/><path d=\"M 623.1578947368421 479.33825300996483 641.578947368421 479.33825300996483\" stroke=\"blue\" stroke-width=\"2\"/><path d=\"M 925.7894736842106 510 925.7894736842106 476.83496690054704\" stroke=\"red\" stroke-width=\"2\"/><path d=\"M 936.3157894736843 510 936.3157894736843 476.83496690054704\" stroke=\"red\" stroke-width=\"2\"/><path d=\"M 925.7894736842106 476.83496690054704 936.3157894736843 476.83496690054704\" stroke=\"red\" stroke-width=\"2\"/><path d=\"M 583.6842105263158 496.6389385229691 583.6842105263158 476.29071084191935\" stroke=\"blue\" stroke-width=\"2\"/><path d=\"M 599.4736842105264 510 599.4736842105264 476.29071084191935\" stroke=\"blue\" stroke-width=\"2\"/><path d=\"M 583.6842105263158 476.29071084191935 599.4736842105264 476.29071084191935\" stroke=\"blue\" stroke-width=\"2\"/><path d=\"M 73.15789473684211 510 73.15789473684211 475.50211792558576\" stroke=\"blue\" stroke-width=\"2\"/><path d=\"M 88.94736842105263 487.27176724249847 88.94736842105263 475.50211792558576\" stroke=\"blue\" stroke-width=\"2\"/><path d=\"M 73.15789473684211 475.50211792558576 88.94736842105263 475.50211792558576\" stroke=\"blue\" stroke-width=\"2\"/><path d=\"M 436.3157894736843 498.12150067017564 436.3157894736843 475.09749120822363\" stroke=\"blue\" stroke-width=\"2\"/><path d=\"M 452.1052631578948 510 452.1052631578948 475.09749120822363\" stroke=\"blue\" stroke-width=\"2\"/><path d=\"M 436.3157894736843 475.09749120822363 452.1052631578948 475.09749120822363\" stroke=\"blue\" stroke-width=\"2\"/><path d=\"M 394.2105263157895 495.29228303516817 394.2105263157895 473.73285047404863\" stroke=\"blue\" stroke-width=\"2\"/><path d=\"M 410.0 510 410.0 473.73285047404863\" stroke=\"blue\" stroke-width=\"2\"/><path d=\"M 394.2105263157895 473.73285047404863 410.0 473.73285047404863\" stroke=\"blue\" stroke-width=\"2\"/><path d=\"M 288.94736842105266 496.083728525327 288.94736842105266 473.58979799249806\" stroke=\"blue\" stroke-width=\"2\"/><path d=\"M 304.7368421052632 510 304.7368421052632 473.58979799249806\" stroke=\"blue\" stroke-width=\"2\"/><path d=\"M 288.94736842105266 473.58979799249806 304.7368421052632 473.58979799249806\" stroke=\"blue\" stroke-width=\"2\"/><path d=\"M 778.421052631579 510 778.421052631579 470.8044232718549\" stroke=\"red\" stroke-width=\"2\"/><path d=\"M 788.9473684210527 510 788.9473684210527 470.8044232718549\" stroke=\"red\" stroke-width=\"2\"/><path d=\"M 778.421052631579 470.8044232718549 788.9473684210527 470.8044232718549\" stroke=\"red\" stroke-width=\"2\"/><path d=\"M 632.3684210526316 479.33825300996483 632.3684210526316 469.00230727740495\" stroke=\"blue\" stroke-width=\"2\"/><path d=\"M 652.1052631578948 510 652.1052631578948 469.00230727740495\" stroke=\"blue\" stroke-width=\"2\"/><path d=\"M 632.3684210526316 469.00230727740495 652.1052631578948 469.00230727740495\" stroke=\"blue\" stroke-width=\"2\"/><path d=\"M 931.0526315789475 476.83496690054704 931.0526315789475 468.67465359999875\" stroke=\"red\" stroke-width=\"2\"/><path d=\"M 946.8421052631579 510 946.8421052631579 468.67465359999875\" stroke=\"red\" stroke-width=\"2\"/><path d=\"M 931.0526315789475 468.67465359999875 946.8421052631579 468.67465359999875\" stroke=\"red\" stroke-width=\"2\"/><path d=\"M 141.57894736842107 480.05568961326 141.57894736842107 465.14496165734255\" stroke=\"blue\" stroke-width=\"2\"/><path d=\"M 162.63157894736844 497.09202387564454 162.63157894736844 465.14496165734255\" stroke=\"blue\" stroke-width=\"2\"/><path d=\"M 141.57894736842107 465.14496165734255 162.63157894736844 465.14496165734255\" stroke=\"blue\" stroke-width=\"2\"/><path d=\"M 504.7368421052632 510 504.7368421052632 464.93196871594216\" stroke=\"blue\" stroke-width=\"2\"/><path d=\"M 520.5263157894738 489.88260813698196 520.5263157894738 464.93196871594216\" stroke=\"blue\" stroke-width=\"2\"/><path d=\"M 504.7368421052632 464.93196871594216 520.5263157894738 464.93196871594216\" stroke=\"blue\" stroke-width=\"2\"/><path d=\"M 591.578947368421 476.29071084191935 591.578947368421 464.59371569680195\" stroke=\"blue\" stroke-width=\"2\"/><path d=\"M 642.2368421052631 469.00230727740495 642.2368421052631 464.59371569680195\" stroke=\"blue\" stroke-width=\"2\"/><path d=\"M 591.578947368421 464.59371569680195 642.2368421052631 464.59371569680195\" stroke=\"blue\" stroke-width=\"2\"/><path d=\"M 673.1578947368422 510 673.1578947368422 464.5511136904614\" stroke=\"blue\" stroke-width=\"2\"/><path d=\"M 688.9473684210527 493.6359372397036 688.9473684210527 464.5511136904614\" stroke=\"blue\" stroke-width=\"2\"/><path d=\"M 673.1578947368422 464.5511136904614 688.9473684210527 464.5511136904614\" stroke=\"blue\" stroke-width=\"2\"/><path d=\"M 10.0 510 10.0 464.0099161955072\" stroke=\"blue\" stroke-width=\"2\"/><path d=\"M 28.42105263157895 494.37001771844535 28.42105263157895 464.0099161955072\" stroke=\"blue\" stroke-width=\"2\"/><path d=\"M 10.0 464.0099161955072 28.42105263157895 464.0099161955072\" stroke=\"blue\" stroke-width=\"2\"/><path d=\"M 52.10526315789474 510 52.10526315789474 462.8363471310638\" stroke=\"blue\" stroke-width=\"2\"/><path d=\"M 62.631578947368425 510 62.631578947368425 462.8363471310638\" stroke=\"blue\" stroke-width=\"2\"/><path d=\"M 52.10526315789474 462.8363471310638 62.631578947368425 462.8363471310638\" stroke=\"blue\" stroke-width=\"2\"/><path d=\"M 894.2105263157896 510 894.2105263157896 462.5980004704985\" stroke=\"red\" stroke-width=\"2\"/><path d=\"M 904.7368421052632 510 904.7368421052632 462.5980004704985\" stroke=\"red\" stroke-width=\"2\"/><path d=\"M 894.2105263157896 462.5980004704985 904.7368421052632 462.5980004704985\" stroke=\"red\" stroke-width=\"2\"/><path d=\"M 183.6842105263158 489.2150026945396 183.6842105263158 462.40942951801725\" stroke=\"blue\" stroke-width=\"2\"/><path d=\"M 204.73684210526318 499.6553650804735 204.73684210526318 462.40942951801725\" stroke=\"blue\" stroke-width=\"2\"/><path d=\"M 183.6842105263158 462.40942951801725 204.73684210526318 462.40942951801725\" stroke=\"blue\" stroke-width=\"2\"/><path d=\"M 444.21052631578954 475.09749120822363 444.21052631578954 461.1322716313497\" stroke=\"blue\" stroke-width=\"2\"/><path d=\"M 462.63157894736844 510 462.63157894736844 461.1322716313497\" stroke=\"blue\" stroke-width=\"2\"/><path d=\"M 444.21052631578954 461.1322716313497 462.63157894736844 461.1322716313497\" stroke=\"blue\" stroke-width=\"2\"/><path d=\"M 873.1578947368422 510 873.1578947368422 457.9245508255602\" stroke=\"red\" stroke-width=\"2\"/><path d=\"M 883.6842105263158 510 883.6842105263158 457.9245508255602\" stroke=\"red\" stroke-width=\"2\"/><path d=\"M 873.1578947368422 457.9245508255602 883.6842105263158 457.9245508255602\" stroke=\"red\" stroke-width=\"2\"/><path d=\"M 988.9473684210527 510 988.9473684210527 457.1123662948341\" stroke=\"red\" stroke-width=\"2\"/><path d=\"M 999.4736842105264 510 999.4736842105264 457.1123662948341\" stroke=\"red\" stroke-width=\"2\"/><path d=\"M 988.9473684210527 457.1123662948341 999.4736842105264 457.1123662948341\" stroke=\"red\" stroke-width=\"2\"/><path d=\"M 115.26315789473685 510 115.26315789473685 456.3914285581393\" stroke=\"blue\" stroke-width=\"2\"/><path d=\"M 125.78947368421053 510 125.78947368421053 456.3914285581393\" stroke=\"blue\" stroke-width=\"2\"/><path d=\"M 115.26315789473685 456.3914285581393 125.78947368421053 456.3914285581393\" stroke=\"blue\" stroke-width=\"2\"/><path d=\"M 846.8421052631579 487.97432338491257 846.8421052631579 455.8991772113228\" stroke=\"red\" stroke-width=\"2\"/><path d=\"M 862.6315789473684 510 862.6315789473684 455.8991772113228\" stroke=\"red\" stroke-width=\"2\"/><path d=\"M 846.8421052631579 455.8991772113228 862.6315789473684 455.8991772113228\" stroke=\"red\" stroke-width=\"2\"/><path d=\"M 938.9473684210527 468.67465359999875 938.9473684210527 455.1515711578396\" stroke=\"red\" stroke-width=\"2\"/><path d=\"M 957.3684210526317 510 957.3684210526317 455.1515711578396\" stroke=\"red\" stroke-width=\"2\"/><path d=\"M 938.9473684210527 455.1515711578396 957.3684210526317 455.1515711578396\" stroke=\"red\" stroke-width=\"2\"/><path d=\"M 220.5263157894737 510 220.5263157894737 453.79197593630266\" stroke=\"blue\" stroke-width=\"2\"/><path d=\"M 236.31578947368422 481.86396691869874 236.31578947368422 453.79197593630266\" stroke=\"blue\" stroke-width=\"2\"/><path d=\"M 220.5263157894737 453.79197593630266 236.31578947368422 453.79197593630266\" stroke=\"blue\" stroke-width=\"2\"/><path d=\"M 453.42105263157896 461.1322716313497 453.42105263157896 451.21558088697697\" stroke=\"blue\" stroke-width=\"2\"/><path d=\"M 486.3157894736842 479.4122075485435 486.3157894736842 451.21558088697697\" stroke=\"blue\" stroke-width=\"2\"/><path d=\"M 453.42105263157896 451.21558088697697 486.3157894736842 451.21558088697697\" stroke=\"blue\" stroke-width=\"2\"/><path d=\"M 57.36842105263158 462.8363471310638 57.36842105263158 442.2326342419418\" stroke=\"blue\" stroke-width=\"2\"/><path d=\"M 81.05263157894737 475.50211792558576 81.05263157894737 442.2326342419418\" stroke=\"blue\" stroke-width=\"2\"/><path d=\"M 57.36842105263158 442.2326342419418 81.05263157894737 442.2326342419418\" stroke=\"blue\" stroke-width=\"2\"/><path d=\"M 512.6315789473684 464.93196871594216 512.6315789473684 439.3876594996894\" stroke=\"blue\" stroke-width=\"2\"/><path d=\"M 536.3157894736843 510 536.3157894736843 439.3876594996894\" stroke=\"blue\" stroke-width=\"2\"/><path d=\"M 512.6315789473684 439.3876594996894 536.3157894736843 439.3876594996894\" stroke=\"blue\" stroke-width=\"2\"/><path d=\"M 899.4736842105265 462.5980004704985 899.4736842105265 439.26103856767855\" stroke=\"red\" stroke-width=\"2\"/><path d=\"M 915.2631578947369 510 915.2631578947369 439.26103856767855\" stroke=\"red\" stroke-width=\"2\"/><path d=\"M 899.4736842105265 439.26103856767855 915.2631578947369 439.26103856767855\" stroke=\"red\" stroke-width=\"2\"/><path d=\"M 783.6842105263158 470.8044232718549 783.6842105263158 437.3653266933886\" stroke=\"red\" stroke-width=\"2\"/><path d=\"M 799.4736842105264 510 799.4736842105264 437.3653266933886\" stroke=\"red\" stroke-width=\"2\"/><path d=\"M 783.6842105263158 437.3653266933886 799.4736842105264 437.3653266933886\" stroke=\"red\" stroke-width=\"2\"/><path d=\"M 367.8947368421053 510 367.8947368421053 436.9281201297957\" stroke=\"blue\" stroke-width=\"2\"/><path d=\"M 378.42105263157896 510 378.42105263157896 436.9281201297957\" stroke=\"blue\" stroke-width=\"2\"/><path d=\"M 367.8947368421053 436.9281201297957 378.42105263157896 436.9281201297957\" stroke=\"blue\" stroke-width=\"2\"/><path d=\"M 704.7368421052632 510 704.7368421052632 426.10576682487226\" stroke=\"red\" stroke-width=\"2\"/><path d=\"M 715.2631578947369 510 715.2631578947369 426.10576682487226\" stroke=\"red\" stroke-width=\"2\"/><path d=\"M 704.7368421052632 426.10576682487226 715.2631578947369 426.10576682487226\" stroke=\"red\" stroke-width=\"2\"/><path d=\"M 973.1578947368421 498.44990987074885 973.1578947368421 414.6008672918846\" stroke=\"red\" stroke-width=\"2\"/><path d=\"M 994.2105263157896 457.1123662948341 994.2105263157896 414.6008672918846\" stroke=\"red\" stroke-width=\"2\"/><path d=\"M 973.1578947368421 414.6008672918846 994.2105263157896 414.6008672918846\" stroke=\"red\" stroke-width=\"2\"/><path d=\"M 228.42105263157896 453.79197593630266 228.42105263157896 411.83477586288274\" stroke=\"blue\" stroke-width=\"2\"/><path d=\"M 252.10526315789474 510 252.10526315789474 411.83477586288274\" stroke=\"blue\" stroke-width=\"2\"/><path d=\"M 228.42105263157896 411.83477586288274 252.10526315789474 411.83477586288274\" stroke=\"blue\" stroke-width=\"2\"/><path d=\"M 402.10526315789474 473.73285047404863 402.10526315789474 409.83303694063346\" stroke=\"blue\" stroke-width=\"2\"/><path d=\"M 420.5263157894737 510 420.5263157894737 409.83303694063346\" stroke=\"blue\" stroke-width=\"2\"/><path d=\"M 402.10526315789474 409.83303694063346 420.5263157894737 409.83303694063346\" stroke=\"blue\" stroke-width=\"2\"/><path d=\"M 546.8421052631579 510 546.8421052631579 409.5368430679017\" stroke=\"blue\" stroke-width=\"2\"/><path d=\"M 562.6315789473686 493.0245922784266 562.6315789473686 409.5368430679017\" stroke=\"blue\" stroke-width=\"2\"/><path d=\"M 546.8421052631579 409.5368430679017 562.6315789473686 409.5368430679017\" stroke=\"blue\" stroke-width=\"2\"/><path d=\"M 331.0526315789474 487.14117160507425 331.0526315789474 402.9486239263514\" stroke=\"blue\" stroke-width=\"2\"/><path d=\"M 357.3684210526316 510 357.3684210526316 402.9486239263514\" stroke=\"blue\" stroke-width=\"2\"/><path d=\"M 331.0526315789474 402.9486239263514 357.3684210526316 402.9486239263514\" stroke=\"blue\" stroke-width=\"2\"/><path d=\"M 273.15789473684214 510 273.15789473684214 399.03380595045064\" stroke=\"blue\" stroke-width=\"2\"/><path d=\"M 296.8421052631579 473.58979799249806 296.8421052631579 399.03380595045064\" stroke=\"blue\" stroke-width=\"2\"/><path d=\"M 273.15789473684214 399.03380595045064 296.8421052631579 399.03380595045064\" stroke=\"blue\" stroke-width=\"2\"/><path d=\"M 878.421052631579 457.9245508255602 878.421052631579 392.43253093416877\" stroke=\"red\" stroke-width=\"2\"/><path d=\"M 907.3684210526317 439.26103856767855 907.3684210526317 392.43253093416877\" stroke=\"red\" stroke-width=\"2\"/><path d=\"M 878.421052631579 392.43253093416877 907.3684210526317 392.43253093416877\" stroke=\"red\" stroke-width=\"2\"/><path d=\"M 810.0 510 810.0 386.8638689361187\" stroke=\"red\" stroke-width=\"2\"/><path d=\"M 820.5263157894738 510 820.5263157894738 386.8638689361187\" stroke=\"red\" stroke-width=\"2\"/><path d=\"M 810.0 386.8638689361187 820.5263157894738 386.8638689361187\" stroke=\"red\" stroke-width=\"2\"/><path d=\"M 710.0 426.10576682487226 710.0 385.2096418656475\" stroke=\"red\" stroke-width=\"2\"/><path d=\"M 725.7894736842106 510 725.7894736842106 385.2096418656475\" stroke=\"red\" stroke-width=\"2\"/><path d=\"M 710.0 385.2096418656475 725.7894736842106 385.2096418656475\" stroke=\"red\" stroke-width=\"2\"/><path d=\"M 19.210526315789473 464.0099161955072 19.210526315789473 384.47617286499656\" stroke=\"blue\" stroke-width=\"2\"/><path d=\"M 69.21052631578948 442.2326342419418 69.21052631578948 384.47617286499656\" stroke=\"blue\" stroke-width=\"2\"/><path d=\"M 19.210526315789473 384.47617286499656 69.21052631578948 384.47617286499656\" stroke=\"blue\" stroke-width=\"2\"/><path d=\"M 120.5263157894737 456.3914285581393 120.5263157894737 382.59715161813125\" stroke=\"blue\" stroke-width=\"2\"/><path d=\"M 152.10526315789474 465.14496165734255 152.10526315789474 382.59715161813125\" stroke=\"blue\" stroke-width=\"2\"/><path d=\"M 120.5263157894737 382.59715161813125 152.10526315789474 382.59715161813125\" stroke=\"blue\" stroke-width=\"2\"/><path d=\"M 616.9078947368421 464.59371569680195 616.9078947368421 380.38446543983724\" stroke=\"blue\" stroke-width=\"2\"/><path d=\"M 662.6315789473684 510 662.6315789473684 380.38446543983724\" stroke=\"blue\" stroke-width=\"2\"/><path d=\"M 616.9078947368421 380.38446543983724 662.6315789473684 380.38446543983724\" stroke=\"blue\" stroke-width=\"2\"/><path d=\"M 717.8947368421053 385.2096418656475 717.8947368421053 374.3929505996439\" stroke=\"red\" stroke-width=\"2\"/><path d=\"M 745.5263157894738 482.3923947540485 745.5263157894738 374.3929505996439\" stroke=\"red\" stroke-width=\"2\"/><path d=\"M 717.8947368421053 374.3929505996439 745.5263157894738 374.3929505996439\" stroke=\"red\" stroke-width=\"2\"/><path d=\"M 815.2631578947369 386.8638689361187 815.2631578947369 367.1637462382293\" stroke=\"red\" stroke-width=\"2\"/><path d=\"M 831.0526315789474 510 831.0526315789474 367.1637462382293\" stroke=\"red\" stroke-width=\"2\"/><path d=\"M 815.2631578947369 367.1637462382293 831.0526315789474 367.1637462382293\" stroke=\"red\" stroke-width=\"2\"/><path d=\"M 194.21052631578948 462.40942951801725 194.21052631578948 366.2563579473979\" stroke=\"blue\" stroke-width=\"2\"/><path d=\"M 240.26315789473685 411.83477586288274 240.26315789473685 366.2563579473979\" stroke=\"blue\" stroke-width=\"2\"/><path d=\"M 194.21052631578948 366.2563579473979 240.26315789473685 366.2563579473979\" stroke=\"blue\" stroke-width=\"2\"/><path d=\"M 731.7105263157896 374.3929505996439 731.7105263157896 359.83024298605136\" stroke=\"red\" stroke-width=\"2\"/><path d=\"M 791.578947368421 437.3653266933886 791.578947368421 359.83024298605136\" stroke=\"red\" stroke-width=\"2\"/><path d=\"M 731.7105263157896 359.83024298605136 791.578947368421 359.83024298605136\" stroke=\"red\" stroke-width=\"2\"/><path d=\"M 639.7697368421052 380.38446543983724 639.7697368421052 355.00373965668894\" stroke=\"blue\" stroke-width=\"2\"/><path d=\"M 681.0526315789475 464.5511136904614 681.0526315789475 355.00373965668894\" stroke=\"blue\" stroke-width=\"2\"/><path d=\"M 639.7697368421052 355.00373965668894 681.0526315789475 355.00373965668894\" stroke=\"blue\" stroke-width=\"2\"/><path d=\"M 285.0 399.03380595045064 285.0 353.44400081137576\" stroke=\"blue\" stroke-width=\"2\"/><path d=\"M 344.2105263157895 402.9486239263514 344.2105263157895 353.44400081137576\" stroke=\"blue\" stroke-width=\"2\"/><path d=\"M 285.0 353.44400081137576 344.2105263157895 353.44400081137576\" stroke=\"blue\" stroke-width=\"2\"/><path d=\"M 948.1578947368422 455.1515711578396 948.1578947368422 352.2770544924373\" stroke=\"red\" stroke-width=\"2\"/><path d=\"M 983.6842105263158 414.6008672918846 983.6842105263158 352.2770544924373\" stroke=\"red\" stroke-width=\"2\"/><path d=\"M 948.1578947368422 352.2770544924373 983.6842105263158 352.2770544924373\" stroke=\"red\" stroke-width=\"2\"/><path d=\"M 44.21052631578948 384.47617286499656 44.21052631578948 351.33572769958437\" stroke=\"blue\" stroke-width=\"2\"/><path d=\"M 104.73684210526316 510 104.73684210526316 351.33572769958437\" stroke=\"blue\" stroke-width=\"2\"/><path d=\"M 44.21052631578948 351.33572769958437 104.73684210526316 351.33572769958437\" stroke=\"blue\" stroke-width=\"2\"/><path d=\"M 823.1578947368421 367.1637462382293 823.1578947368421 335.15005402924817\" stroke=\"red\" stroke-width=\"2\"/><path d=\"M 854.7368421052631 455.8991772113228 854.7368421052631 335.15005402924817\" stroke=\"red\" stroke-width=\"2\"/><path d=\"M 823.1578947368421 335.15005402924817 854.7368421052631 335.15005402924817\" stroke=\"red\" stroke-width=\"2\"/><path d=\"M 524.4736842105264 439.3876594996894 524.4736842105264 310.5893218118745\" stroke=\"blue\" stroke-width=\"2\"/><path d=\"M 554.7368421052632 409.5368430679017 554.7368421052632 310.5893218118745\" stroke=\"blue\" stroke-width=\"2\"/><path d=\"M 524.4736842105264 310.5893218118745 554.7368421052632 310.5893218118745\" stroke=\"blue\" stroke-width=\"2\"/><path d=\"M 217.23684210526318 366.2563579473979 217.23684210526318 310.46042022809183\" stroke=\"blue\" stroke-width=\"2\"/><path d=\"M 262.63157894736844 510 262.63157894736844 310.46042022809183\" stroke=\"blue\" stroke-width=\"2\"/><path d=\"M 217.23684210526318 310.46042022809183 262.63157894736844 310.46042022809183\" stroke=\"blue\" stroke-width=\"2\"/><path d=\"M 761.6447368421053 359.83024298605136 761.6447368421053 307.1136430681387\" stroke=\"red\" stroke-width=\"2\"/><path d=\"M 838.9473684210526 335.15005402924817 838.9473684210526 307.1136430681387\" stroke=\"red\" stroke-width=\"2\"/><path d=\"M 761.6447368421053 307.1136430681387 838.9473684210526 307.1136430681387\" stroke=\"red\" stroke-width=\"2\"/><path d=\"M 74.47368421052633 351.33572769958437 74.47368421052633 299.0140587134612\" stroke=\"blue\" stroke-width=\"2\"/><path d=\"M 136.31578947368422 382.59715161813125 136.31578947368422 299.0140587134612\" stroke=\"blue\" stroke-width=\"2\"/><path d=\"M 74.47368421052633 299.0140587134612 136.31578947368422 299.0140587134612\" stroke=\"blue\" stroke-width=\"2\"/><path d=\"M 411.3157894736842 409.83303694063346 411.3157894736842 286.7462085632807\" stroke=\"blue\" stroke-width=\"2\"/><path d=\"M 469.86842105263156 451.21558088697697 469.86842105263156 286.7462085632807\" stroke=\"blue\" stroke-width=\"2\"/><path d=\"M 411.3157894736842 286.7462085632807 469.86842105263156 286.7462085632807\" stroke=\"blue\" stroke-width=\"2\"/><path d=\"M 314.60526315789474 353.44400081137576 314.60526315789474 282.9404532047072\" stroke=\"blue\" stroke-width=\"2\"/><path d=\"M 373.15789473684214 436.9281201297957 373.15789473684214 282.9404532047072\" stroke=\"blue\" stroke-width=\"2\"/><path d=\"M 314.60526315789474 282.9404532047072 373.15789473684214 282.9404532047072\" stroke=\"blue\" stroke-width=\"2\"/><path d=\"M 539.6052631578948 310.5893218118745 539.6052631578948 277.75093652345333\" stroke=\"blue\" stroke-width=\"2\"/><path d=\"M 660.4111842105264 355.00373965668894 660.4111842105264 277.75093652345333\" stroke=\"blue\" stroke-width=\"2\"/><path d=\"M 539.6052631578948 277.75093652345333 660.4111842105264 277.75093652345333\" stroke=\"blue\" stroke-width=\"2\"/><path d=\"M 105.39473684210527 299.0140587134612 105.39473684210527 254.00193182009585\" stroke=\"blue\" stroke-width=\"2\"/><path d=\"M 239.9342105263158 310.46042022809183 239.9342105263158 254.00193182009585\" stroke=\"blue\" stroke-width=\"2\"/><path d=\"M 105.39473684210527 254.00193182009585 239.9342105263158 254.00193182009585\" stroke=\"blue\" stroke-width=\"2\"/><path d=\"M 800.296052631579 307.1136430681387 800.296052631579 250.48601073913198\" stroke=\"red\" stroke-width=\"2\"/><path d=\"M 892.8947368421053 392.43253093416877 892.8947368421053 250.48601073913198\" stroke=\"red\" stroke-width=\"2\"/><path d=\"M 800.296052631579 250.48601073913198 892.8947368421053 250.48601073913198\" stroke=\"red\" stroke-width=\"2\"/><path d=\"M 172.66447368421055 254.00193182009585 172.66447368421055 231.19874923185142\" stroke=\"blue\" stroke-width=\"2\"/><path d=\"M 343.88157894736844 282.9404532047072 343.88157894736844 231.19874923185142\" stroke=\"blue\" stroke-width=\"2\"/><path d=\"M 172.66447368421055 231.19874923185142 343.88157894736844 231.19874923185142\" stroke=\"blue\" stroke-width=\"2\"/><path d=\"M 846.5953947368421 250.48601073913198 846.5953947368421 172.6887083475574\" stroke=\"red\" stroke-width=\"2\"/><path d=\"M 965.921052631579 352.2770544924373 965.921052631579 172.6887083475574\" stroke=\"red\" stroke-width=\"2\"/><path d=\"M 846.5953947368421 172.6887083475574 965.921052631579 172.6887083475574\" stroke=\"red\" stroke-width=\"2\"/><path d=\"M 258.2730263157895 231.19874923185142 258.2730263157895 168.141121246306\" stroke=\"blue\" stroke-width=\"2\"/><path d=\"M 440.5921052631579 286.7462085632807 440.5921052631579 168.141121246306\" stroke=\"blue\" stroke-width=\"2\"/><path d=\"M 258.2730263157895 168.141121246306 440.5921052631579 168.141121246306\" stroke=\"blue\" stroke-width=\"2\"/><path d=\"M 349.4325657894737 168.141121246306 349.4325657894737 43.764667561949636\" stroke=\"blue\" stroke-width=\"2\"/><path d=\"M 600.0082236842106 277.75093652345333 600.0082236842106 43.764667561949636\" stroke=\"blue\" stroke-width=\"2\"/><path d=\"M 349.4325657894737 43.764667561949636 600.0082236842106 43.764667561949636\" stroke=\"blue\" stroke-width=\"2\"/><path d=\"M 474.7203947368422 43.764667561949636 474.7203947368422 10.0\" stroke=\"black\" stroke-width=\"2\"/><path d=\"M 906.2582236842105 172.6887083475574 906.2582236842105 10.0\" stroke=\"black\" stroke-width=\"2\"/><path d=\"M 474.7203947368422 10.0 906.2582236842105 10.0\" stroke=\"black\" stroke-width=\"2\"/></svg>"
          },
          "metadata": {},
          "execution_count": 588
        }
      ]
    },
    {
      "cell_type": "markdown",
      "source": [
        "**Metrics**"
      ],
      "metadata": {
        "id": "23VRuRydSq9Y"
      }
    },
    {
      "cell_type": "code",
      "source": [
        "nodelist = list(G_reduced.nodes)\n",
        "labels = list(cut_straight(dendrogram, n_clusters=2, return_dendrogram=False))\n",
        "\n",
        "community_dend = [[],[]]\n",
        "i = 0\n",
        "for node in nodelist:\n",
        "  community_dend[labels[i]].append(node)\n",
        "  i += 1\n",
        "\n",
        "_ = compute_metrics(G_reduced, community_dend)"
      ],
      "metadata": {
        "colab": {
          "base_uri": "https://localhost:8080/"
        },
        "outputId": "9478d6d8-9c93-419d-c63c-464dccee8afb",
        "id": "n71RQtkcSq9Y"
      },
      "execution_count": 589,
      "outputs": [
        {
          "output_type": "stream",
          "name": "stdout",
          "text": [
            "Coverage:  0.6293706293706294\n",
            "Performance:  0.5115341545352744\n",
            "Modularity:  0.1601489332116329\n"
          ]
        }
      ]
    },
    {
      "cell_type": "code",
      "source": [
        "image = svg_dendrogram(dendrogram, names, n_clusters=4, rotate=False,width=1000,height=500,filename='community_dendogram4'+period)\n",
        "SVG(image)"
      ],
      "metadata": {
        "colab": {
          "base_uri": "https://localhost:8080/",
          "height": 0
        },
        "outputId": "e3021709-25df-42a1-c08e-cac48943f303",
        "id": "Ed7RWTDZSq9Z"
      },
      "execution_count": 590,
      "outputs": [
        {
          "output_type": "execute_result",
          "data": {
            "text/plain": [
              "<IPython.core.display.SVG object>"
            ],
            "image/svg+xml": "<svg height=\"597.0\" width=\"1020\" xmlns=\"http://www.w3.org/2000/svg\"><text font-size=\"12\" transform=\"rotate(60, 99.73684210526316, 515)\" x=\"99.73684210526316\" y=\"515\">china</text><text font-size=\"12\" transform=\"rotate(60, 373.42105263157896, 515)\" x=\"373.42105263157896\" y=\"515\">novel</text><text font-size=\"12\" transform=\"rotate(60, 120.78947368421053, 515)\" x=\"120.78947368421053\" y=\"515\">outbreak</text><text font-size=\"12\" transform=\"rotate(60, 5.0, 515)\" x=\"5.0\" y=\"515\">medical</text><text font-size=\"12\" transform=\"rotate(60, 531.3157894736843, 515)\" x=\"531.3157894736843\" y=\"515\">people</text><text font-size=\"12\" transform=\"rotate(60, 478.68421052631584, 515)\" x=\"478.68421052631584\" y=\"515\">world</text><text font-size=\"12\" transform=\"rotate(60, 320.7894736842105, 515)\" x=\"320.7894736842105\" y=\"515\">disease</text><text font-size=\"12\" transform=\"rotate(60, 278.68421052631584, 515)\" x=\"278.68421052631584\" y=\"515\">take</text><text font-size=\"12\" transform=\"rotate(60, 457.63157894736844, 515)\" x=\"457.63157894736844\" y=\"515\">health</text><text font-size=\"12\" transform=\"rotate(60, 468.15789473684214, 515)\" x=\"468.15789473684214\" y=\"515\">organization</text><text font-size=\"12\" transform=\"rotate(60, 299.7368421052632, 515)\" x=\"299.7368421052632\" y=\"515\">expert</text><text font-size=\"12\" transform=\"rotate(60, 994.4736842105264, 515)\" x=\"994.4736842105264\" y=\"515\">outside</text><text font-size=\"12\" transform=\"rotate(60, 720.7894736842106, 515)\" x=\"720.7894736842106\" y=\"515\">confirm</text><text font-size=\"12\" transform=\"rotate(60, 710.2631578947369, 515)\" x=\"710.2631578947369\" y=\"515\">case</text><text font-size=\"12\" transform=\"rotate(60, 615.5263157894738, 515)\" x=\"615.5263157894738\" y=\"515\">cruise</text><text font-size=\"12\" transform=\"rotate(60, 605.0, 515)\" x=\"605.0\" y=\"515\">ship</text><text font-size=\"12\" transform=\"rotate(60, 636.578947368421, 515)\" x=\"636.578947368421\" y=\"515\">japan</text><text font-size=\"12\" transform=\"rotate(60, 257.63157894736844, 515)\" x=\"257.63157894736844\" y=\"515\">country</text><text font-size=\"12\" transform=\"rotate(60, 183.94736842105266, 515)\" x=\"183.94736842105266\" y=\"515\">live</text><text font-size=\"12\" transform=\"rotate(60, 141.84210526315792, 515)\" x=\"141.84210526315792\" y=\"515\">state</text><text font-size=\"12\" transform=\"rotate(60, 341.8421052631579, 515)\" x=\"341.8421052631579\" y=\"515\">prevention</text><text font-size=\"12\" transform=\"rotate(60, 889.2105263157896, 515)\" x=\"889.2105263157896\" y=\"515\">central</text><text font-size=\"12\" transform=\"rotate(60, 899.7368421052632, 515)\" x=\"899.7368421052632\" y=\"515\">epicenter</text><text font-size=\"12\" transform=\"rotate(60, 194.47368421052633, 515)\" x=\"194.47368421052633\" y=\"515\">late</text><text font-size=\"12\" transform=\"rotate(60, 868.1578947368422, 515)\" x=\"868.1578947368422\" y=\"515\">hubei</text><text font-size=\"12\" transform=\"rotate(60, 878.6842105263158, 515)\" x=\"878.6842105263158\" y=\"515\">province</text><text font-size=\"12\" transform=\"rotate(60, 89.21052631578948, 515)\" x=\"89.21052631578948\" y=\"515\">support</text><text font-size=\"12\" transform=\"rotate(60, 920.7894736842106, 515)\" x=\"920.7894736842106\" y=\"515\">hospital</text><text font-size=\"12\" transform=\"rotate(60, 15.526315789473685, 515)\" x=\"15.526315789473685\" y=\"515\">help</text><text font-size=\"12\" transform=\"rotate(60, 68.15789473684211, 515)\" x=\"68.15789473684211\" y=\"515\">fight</text><text font-size=\"12\" transform=\"rotate(60, 236.57894736842107, 515)\" x=\"236.57894736842107\" y=\"515\">contain</text><text font-size=\"12\" transform=\"rotate(60, 47.10526315789474, 515)\" x=\"47.10526315789474\" y=\"515\">epidemic</text><text font-size=\"12\" transform=\"rotate(60, 268.15789473684214, 515)\" x=\"268.15789473684214\" y=\"515\">say</text><text font-size=\"12\" transform=\"rotate(60, 226.0526315789474, 515)\" x=\"226.0526315789474\" y=\"515\">effort</text><text font-size=\"12\" transform=\"rotate(60, 110.26315789473685, 515)\" x=\"110.26315789473685\" y=\"515\">amid</text><text font-size=\"12\" transform=\"rotate(60, 794.4736842105264, 515)\" x=\"794.4736842105264\" y=\"515\">number</text><text font-size=\"12\" transform=\"rotate(60, 415.5263157894737, 515)\" x=\"415.5263157894737\" y=\"515\">day</text><text font-size=\"12\" transform=\"rotate(60, 541.8421052631579, 515)\" x=\"541.8421052631579\" y=\"515\">virus</text><text font-size=\"12\" transform=\"rotate(60, 741.8421052631579, 515)\" x=\"741.8421052631579\" y=\"515\">include</text><text font-size=\"12\" transform=\"rotate(60, 36.578947368421055, 515)\" x=\"36.578947368421055\" y=\"515\">mask</text><text font-size=\"12\" transform=\"rotate(60, 78.6842105263158, 515)\" x=\"78.6842105263158\" y=\"515\">show</text><text font-size=\"12\" transform=\"rotate(60, 352.3684210526316, 515)\" x=\"352.3684210526316\" y=\"515\">official</text><text font-size=\"12\" transform=\"rotate(60, 331.3157894736842, 515)\" x=\"331.3157894736842\" y=\"515\">control</text><text font-size=\"12\" transform=\"rotate(60, 773.421052631579, 515)\" x=\"773.421052631579\" y=\"515\">total</text><text font-size=\"12\" transform=\"rotate(60, 678.6842105263158, 515)\" x=\"678.6842105263158\" y=\"515\">work</text><text font-size=\"12\" transform=\"rotate(60, 731.3157894736843, 515)\" x=\"731.3157894736843\" y=\"515\">one</text><text font-size=\"12\" transform=\"rotate(60, 394.47368421052636, 515)\" x=\"394.47368421052636\" y=\"515\">national</text><text font-size=\"12\" transform=\"rotate(60, 383.94736842105266, 515)\" x=\"383.94736842105266\" y=\"515\">commission</text><text font-size=\"12\" transform=\"rotate(60, 931.3157894736843, 515)\" x=\"931.3157894736843\" y=\"515\">treatment</text><text font-size=\"12\" transform=\"rotate(60, 173.42105263157896, 515)\" x=\"173.42105263157896\" y=\"515\">update</text><text font-size=\"12\" transform=\"rotate(60, 489.2105263157895, 515)\" x=\"489.2105263157895\" y=\"515\">around</text><text font-size=\"12\" transform=\"rotate(60, 815.5263157894738, 515)\" x=\"815.5263157894738\" y=\"515\">new</text><text font-size=\"12\" transform=\"rotate(60, 552.3684210526317, 515)\" x=\"552.3684210526317\" y=\"515\">die</text><text font-size=\"12\" transform=\"rotate(60, 289.2105263157895, 515)\" x=\"289.2105263157895\" y=\"515\">measure</text><text font-size=\"12\" transform=\"rotate(60, 910.2631578947369, 515)\" x=\"910.2631578947369\" y=\"515\">city</text><text font-size=\"12\" transform=\"rotate(60, 57.631578947368425, 515)\" x=\"57.631578947368425\" y=\"515\">battle</text><text font-size=\"12\" transform=\"rotate(60, 152.3684210526316, 515)\" x=\"152.3684210526316\" y=\"515\">due</text><text font-size=\"12\" transform=\"rotate(60, 215.5263157894737, 515)\" x=\"215.5263157894737\" y=\"515\">authority</text><text font-size=\"12\" transform=\"rotate(60, 362.8947368421053, 515)\" x=\"362.8947368421053\" y=\"515\">pneumonia</text><text font-size=\"12\" transform=\"rotate(60, 447.1052631578948, 515)\" x=\"447.1052631578948\" y=\"515\">global</text><text font-size=\"12\" transform=\"rotate(60, 405.0, 515)\" x=\"405.0\" y=\"515\">accord</text><text font-size=\"12\" transform=\"rotate(60, 857.6315789473684, 515)\" x=\"857.6315789473684\" y=\"515\">death</text><text font-size=\"12\" transform=\"rotate(60, 699.7368421052632, 515)\" x=\"699.7368421052632\" y=\"515\">confirmed</text><text font-size=\"12\" transform=\"rotate(60, 499.7368421052632, 515)\" x=\"499.7368421052632\" y=\"515\">infect</text><text font-size=\"12\" transform=\"rotate(60, 941.8421052631579, 515)\" x=\"941.8421052631579\" y=\"515\">patient</text><text font-size=\"12\" transform=\"rotate(60, 247.10526315789474, 515)\" x=\"247.10526315789474\" y=\"515\">spread</text><text font-size=\"12\" transform=\"rotate(60, 973.421052631579, 515)\" x=\"973.421052631579\" y=\"515\">year</text><text font-size=\"12\" transform=\"rotate(60, 962.8947368421053, 515)\" x=\"962.8947368421053\" y=\"515\">old</text><text font-size=\"12\" transform=\"rotate(60, 952.3684210526317, 515)\" x=\"952.3684210526317\" y=\"515\">discharge</text><text font-size=\"12\" transform=\"rotate(60, 983.9473684210527, 515)\" x=\"983.9473684210527\" y=\"515\">first</text><text font-size=\"12\" transform=\"rotate(60, 26.05263157894737, 515)\" x=\"26.05263157894737\" y=\"515\">million</text><text font-size=\"12\" transform=\"rotate(60, 826.0526315789474, 515)\" x=\"826.0526315789474\" y=\"515\">report</text><text font-size=\"12\" transform=\"rotate(60, 594.4736842105264, 515)\" x=\"594.4736842105264\" y=\"515\">evacuate</text><text font-size=\"12\" transform=\"rotate(60, 573.421052631579, 515)\" x=\"573.421052631579\" y=\"515\">test</text><text font-size=\"12\" transform=\"rotate(60, 836.5789473684212, 515)\" x=\"836.5789473684212\" y=\"515\">toll</text><text font-size=\"12\" transform=\"rotate(60, 752.3684210526317, 515)\" x=\"752.3684210526317\" y=\"515\">macao</text><text font-size=\"12\" transform=\"rotate(60, 762.8947368421053, 515)\" x=\"762.8947368421053\" y=\"515\">taiwan</text><text font-size=\"12\" transform=\"rotate(60, 805.0, 515)\" x=\"805.0\" y=\"515\">infection</text><text font-size=\"12\" transform=\"rotate(60, 562.8947368421053, 515)\" x=\"562.8947368421053\" y=\"515\">doctor</text><text font-size=\"12\" transform=\"rotate(60, 783.9473684210527, 515)\" x=\"783.9473684210527\" y=\"515\">bring</text><text font-size=\"12\" transform=\"rotate(60, 689.2105263157895, 515)\" x=\"689.2105263157895\" y=\"515\">government</text><text font-size=\"12\" transform=\"rotate(60, 647.1052631578948, 515)\" x=\"647.1052631578948\" y=\"515\">quarantine</text><text font-size=\"12\" transform=\"rotate(60, 668.1578947368422, 515)\" x=\"668.1578947368422\" y=\"515\">hong</text><text font-size=\"12\" transform=\"rotate(60, 657.6315789473684, 515)\" x=\"657.6315789473684\" y=\"515\">two</text><text font-size=\"12\" transform=\"rotate(60, 426.0526315789474, 515)\" x=\"426.0526315789474\" y=\"515\">public</text><text font-size=\"12\" transform=\"rotate(60, 436.5789473684211, 515)\" x=\"436.5789473684211\" y=\"515\">emergency</text><text font-size=\"12\" transform=\"rotate(60, 847.1052631578948, 515)\" x=\"847.1052631578948\" y=\"515\">rise</text><text font-size=\"12\" transform=\"rotate(60, 162.89473684210526, 515)\" x=\"162.89473684210526\" y=\"515\">flight</text><text font-size=\"12\" transform=\"rotate(60, 131.31578947368422, 515)\" x=\"131.31578947368422\" y=\"515\">travel</text><text font-size=\"12\" transform=\"rotate(60, 205.0, 515)\" x=\"205.0\" y=\"515\">beyond</text><text font-size=\"12\" transform=\"rotate(60, 520.7894736842105, 515)\" x=\"520.7894736842105\" y=\"515\">least</text><text font-size=\"12\" transform=\"rotate(60, 583.9473684210527, 515)\" x=\"583.9473684210527\" y=\"515\">positive</text><text font-size=\"12\" transform=\"rotate(60, 310.2631578947369, 515)\" x=\"310.2631578947369\" y=\"515\">center</text><text font-size=\"12\" transform=\"rotate(60, 626.0526315789474, 515)\" x=\"626.0526315789474\" y=\"515\">passenger</text><text font-size=\"12\" transform=\"rotate(60, 510.2631578947369, 515)\" x=\"510.2631578947369\" y=\"515\">kill</text><path d=\"M 31.05263157894737 510 31.05263157894737 501.5822571926114\" stroke=\"blue\" stroke-width=\"2\"/><path d=\"M 41.578947368421055 510 41.578947368421055 501.5822571926114\" stroke=\"blue\" stroke-width=\"2\"/><path d=\"M 31.05263157894737 501.5822571926114 41.578947368421055 501.5822571926114\" stroke=\"blue\" stroke-width=\"2\"/><path d=\"M 757.3684210526317 510 757.3684210526317 500.55673238761386\" stroke=\"red\" stroke-width=\"2\"/><path d=\"M 767.8947368421053 510 767.8947368421053 500.55673238761386\" stroke=\"red\" stroke-width=\"2\"/><path d=\"M 757.3684210526317 500.55673238761386 767.8947368421053 500.55673238761386\" stroke=\"red\" stroke-width=\"2\"/><path d=\"M 199.47368421052633 510 199.47368421052633 499.6553650804735\" stroke=\"blue\" stroke-width=\"2\"/><path d=\"M 210.0 510 210.0 499.6553650804735\" stroke=\"blue\" stroke-width=\"2\"/><path d=\"M 199.47368421052633 499.6553650804735 210.0 499.6553650804735\" stroke=\"blue\" stroke-width=\"2\"/><path d=\"M 336.3157894736842 510 336.3157894736842 499.3845021215724\" stroke=\"blue\" stroke-width=\"2\"/><path d=\"M 346.8421052631579 510 346.8421052631579 499.3845021215724\" stroke=\"blue\" stroke-width=\"2\"/><path d=\"M 336.3157894736842 499.3845021215724 346.8421052631579 499.3845021215724\" stroke=\"blue\" stroke-width=\"2\"/><path d=\"M 967.8947368421053 510 967.8947368421053 498.44990987074885\" stroke=\"red\" stroke-width=\"2\"/><path d=\"M 978.421052631579 510 978.421052631579 498.44990987074885\" stroke=\"red\" stroke-width=\"2\"/><path d=\"M 967.8947368421053 498.44990987074885 978.421052631579 498.44990987074885\" stroke=\"red\" stroke-width=\"2\"/><path d=\"M 431.0526315789474 510 431.0526315789474 498.12150067017564\" stroke=\"orange\" stroke-width=\"2\"/><path d=\"M 441.5789473684211 510 441.5789473684211 498.12150067017564\" stroke=\"orange\" stroke-width=\"2\"/><path d=\"M 431.0526315789474 498.12150067017564 441.5789473684211 498.12150067017564\" stroke=\"orange\" stroke-width=\"2\"/><path d=\"M 157.3684210526316 510 157.3684210526316 497.09202387564454\" stroke=\"blue\" stroke-width=\"2\"/><path d=\"M 167.89473684210526 510 167.89473684210526 497.09202387564454\" stroke=\"blue\" stroke-width=\"2\"/><path d=\"M 157.3684210526316 497.09202387564454 167.89473684210526 497.09202387564454\" stroke=\"blue\" stroke-width=\"2\"/><path d=\"M 578.421052631579 510 578.421052631579 496.6389385229691\" stroke=\"green\" stroke-width=\"2\"/><path d=\"M 588.9473684210527 510 588.9473684210527 496.6389385229691\" stroke=\"green\" stroke-width=\"2\"/><path d=\"M 578.421052631579 496.6389385229691 588.9473684210527 496.6389385229691\" stroke=\"green\" stroke-width=\"2\"/><path d=\"M 283.68421052631584 510 283.68421052631584 496.083728525327\" stroke=\"blue\" stroke-width=\"2\"/><path d=\"M 294.2105263157895 510 294.2105263157895 496.083728525327\" stroke=\"blue\" stroke-width=\"2\"/><path d=\"M 283.68421052631584 496.083728525327 294.2105263157895 496.083728525327\" stroke=\"blue\" stroke-width=\"2\"/><path d=\"M 388.94736842105266 510 388.94736842105266 495.29228303516817\" stroke=\"orange\" stroke-width=\"2\"/><path d=\"M 399.47368421052636 510 399.47368421052636 495.29228303516817\" stroke=\"orange\" stroke-width=\"2\"/><path d=\"M 388.94736842105266 495.29228303516817 399.47368421052636 495.29228303516817\" stroke=\"orange\" stroke-width=\"2\"/><path d=\"M 20.526315789473685 510 20.526315789473685 494.37001771844535\" stroke=\"blue\" stroke-width=\"2\"/><path d=\"M 36.31578947368421 501.5822571926114 36.31578947368421 494.37001771844535\" stroke=\"blue\" stroke-width=\"2\"/><path d=\"M 20.526315789473685 494.37001771844535 36.31578947368421 494.37001771844535\" stroke=\"blue\" stroke-width=\"2\"/><path d=\"M 683.6842105263158 510 683.6842105263158 493.6359372397036\" stroke=\"green\" stroke-width=\"2\"/><path d=\"M 694.2105263157895 510 694.2105263157895 493.6359372397036\" stroke=\"green\" stroke-width=\"2\"/><path d=\"M 683.6842105263158 493.6359372397036 694.2105263157895 493.6359372397036\" stroke=\"green\" stroke-width=\"2\"/><path d=\"M 473.15789473684214 510 473.15789473684214 493.2388237364575\" stroke=\"orange\" stroke-width=\"2\"/><path d=\"M 483.68421052631584 510 483.68421052631584 493.2388237364575\" stroke=\"orange\" stroke-width=\"2\"/><path d=\"M 473.15789473684214 493.2388237364575 483.68421052631584 493.2388237364575\" stroke=\"orange\" stroke-width=\"2\"/><path d=\"M 315.2631578947369 510 315.2631578947369 493.1516841921895\" stroke=\"blue\" stroke-width=\"2\"/><path d=\"M 325.7894736842105 510 325.7894736842105 493.1516841921895\" stroke=\"blue\" stroke-width=\"2\"/><path d=\"M 315.2631578947369 493.1516841921895 325.7894736842105 493.1516841921895\" stroke=\"blue\" stroke-width=\"2\"/><path d=\"M 557.3684210526317 510 557.3684210526317 493.0245922784266\" stroke=\"green\" stroke-width=\"2\"/><path d=\"M 567.8947368421053 510 567.8947368421053 493.0245922784266\" stroke=\"green\" stroke-width=\"2\"/><path d=\"M 557.3684210526317 493.0245922784266 567.8947368421053 493.0245922784266\" stroke=\"green\" stroke-width=\"2\"/><path d=\"M 746.8421052631579 510 746.8421052631579 492.0942638072551\" stroke=\"red\" stroke-width=\"2\"/><path d=\"M 762.6315789473686 500.55673238761386 762.6315789473686 492.0942638072551\" stroke=\"red\" stroke-width=\"2\"/><path d=\"M 746.8421052631579 492.0942638072551 762.6315789473686 492.0942638072551\" stroke=\"red\" stroke-width=\"2\"/><path d=\"M 610.0 510 610.0 490.13964854968407\" stroke=\"green\" stroke-width=\"2\"/><path d=\"M 620.5263157894738 510 620.5263157894738 490.13964854968407\" stroke=\"green\" stroke-width=\"2\"/><path d=\"M 610.0 490.13964854968407 620.5263157894738 490.13964854968407\" stroke=\"green\" stroke-width=\"2\"/><path d=\"M 515.2631578947369 510 515.2631578947369 489.88260813698196\" stroke=\"green\" stroke-width=\"2\"/><path d=\"M 525.7894736842105 510 525.7894736842105 489.88260813698196\" stroke=\"green\" stroke-width=\"2\"/><path d=\"M 515.2631578947369 489.88260813698196 525.7894736842105 489.88260813698196\" stroke=\"green\" stroke-width=\"2\"/><path d=\"M 178.42105263157896 510 178.42105263157896 489.2150026945396\" stroke=\"blue\" stroke-width=\"2\"/><path d=\"M 188.94736842105266 510 188.94736842105266 489.2150026945396\" stroke=\"blue\" stroke-width=\"2\"/><path d=\"M 178.42105263157896 489.2150026945396 188.94736842105266 489.2150026945396\" stroke=\"blue\" stroke-width=\"2\"/><path d=\"M 841.5789473684212 510 841.5789473684212 487.97432338491257\" stroke=\"red\" stroke-width=\"2\"/><path d=\"M 852.1052631578948 510 852.1052631578948 487.97432338491257\" stroke=\"red\" stroke-width=\"2\"/><path d=\"M 841.5789473684212 487.97432338491257 852.1052631578948 487.97432338491257\" stroke=\"red\" stroke-width=\"2\"/><path d=\"M 83.6842105263158 510 83.6842105263158 487.27176724249847\" stroke=\"blue\" stroke-width=\"2\"/><path d=\"M 94.21052631578948 510 94.21052631578948 487.27176724249847\" stroke=\"blue\" stroke-width=\"2\"/><path d=\"M 83.6842105263158 487.27176724249847 94.21052631578948 487.27176724249847\" stroke=\"blue\" stroke-width=\"2\"/><path d=\"M 320.5263157894737 493.1516841921895 320.5263157894737 487.14117160507425\" stroke=\"blue\" stroke-width=\"2\"/><path d=\"M 341.57894736842104 499.3845021215724 341.57894736842104 487.14117160507425\" stroke=\"blue\" stroke-width=\"2\"/><path d=\"M 320.5263157894737 487.14117160507425 341.57894736842104 487.14117160507425\" stroke=\"blue\" stroke-width=\"2\"/><path d=\"M 615.2631578947369 490.13964854968407 615.2631578947369 485.3767496070997\" stroke=\"green\" stroke-width=\"2\"/><path d=\"M 631.0526315789474 510 631.0526315789474 485.3767496070997\" stroke=\"green\" stroke-width=\"2\"/><path d=\"M 615.2631578947369 485.3767496070997 631.0526315789474 485.3767496070997\" stroke=\"green\" stroke-width=\"2\"/><path d=\"M 736.3157894736843 510 736.3157894736843 482.3923947540485\" stroke=\"red\" stroke-width=\"2\"/><path d=\"M 754.7368421052632 492.0942638072551 754.7368421052632 482.3923947540485\" stroke=\"red\" stroke-width=\"2\"/><path d=\"M 736.3157894736843 482.3923947540485 754.7368421052632 482.3923947540485\" stroke=\"red\" stroke-width=\"2\"/><path d=\"M 231.0526315789474 510 231.0526315789474 481.86396691869874\" stroke=\"blue\" stroke-width=\"2\"/><path d=\"M 241.57894736842107 510 241.57894736842107 481.86396691869874\" stroke=\"blue\" stroke-width=\"2\"/><path d=\"M 231.0526315789474 481.86396691869874 241.57894736842107 481.86396691869874\" stroke=\"blue\" stroke-width=\"2\"/><path d=\"M 136.31578947368422 510 136.31578947368422 480.05568961326\" stroke=\"blue\" stroke-width=\"2\"/><path d=\"M 146.84210526315792 510 146.84210526315792 480.05568961326\" stroke=\"blue\" stroke-width=\"2\"/><path d=\"M 136.31578947368422 480.05568961326 146.84210526315792 480.05568961326\" stroke=\"blue\" stroke-width=\"2\"/><path d=\"M 478.42105263157896 493.2388237364575 478.42105263157896 479.4122075485435\" stroke=\"orange\" stroke-width=\"2\"/><path d=\"M 494.2105263157895 510 494.2105263157895 479.4122075485435\" stroke=\"orange\" stroke-width=\"2\"/><path d=\"M 478.42105263157896 479.4122075485435 494.2105263157895 479.4122075485435\" stroke=\"orange\" stroke-width=\"2\"/><path d=\"M 623.1578947368421 485.3767496070997 623.1578947368421 479.33825300996483\" stroke=\"green\" stroke-width=\"2\"/><path d=\"M 641.578947368421 510 641.578947368421 479.33825300996483\" stroke=\"green\" stroke-width=\"2\"/><path d=\"M 623.1578947368421 479.33825300996483 641.578947368421 479.33825300996483\" stroke=\"green\" stroke-width=\"2\"/><path d=\"M 925.7894736842106 510 925.7894736842106 476.83496690054704\" stroke=\"red\" stroke-width=\"2\"/><path d=\"M 936.3157894736843 510 936.3157894736843 476.83496690054704\" stroke=\"red\" stroke-width=\"2\"/><path d=\"M 925.7894736842106 476.83496690054704 936.3157894736843 476.83496690054704\" stroke=\"red\" stroke-width=\"2\"/><path d=\"M 583.6842105263158 496.6389385229691 583.6842105263158 476.29071084191935\" stroke=\"green\" stroke-width=\"2\"/><path d=\"M 599.4736842105264 510 599.4736842105264 476.29071084191935\" stroke=\"green\" stroke-width=\"2\"/><path d=\"M 583.6842105263158 476.29071084191935 599.4736842105264 476.29071084191935\" stroke=\"green\" stroke-width=\"2\"/><path d=\"M 73.15789473684211 510 73.15789473684211 475.50211792558576\" stroke=\"blue\" stroke-width=\"2\"/><path d=\"M 88.94736842105263 487.27176724249847 88.94736842105263 475.50211792558576\" stroke=\"blue\" stroke-width=\"2\"/><path d=\"M 73.15789473684211 475.50211792558576 88.94736842105263 475.50211792558576\" stroke=\"blue\" stroke-width=\"2\"/><path d=\"M 436.3157894736843 498.12150067017564 436.3157894736843 475.09749120822363\" stroke=\"orange\" stroke-width=\"2\"/><path d=\"M 452.1052631578948 510 452.1052631578948 475.09749120822363\" stroke=\"orange\" stroke-width=\"2\"/><path d=\"M 436.3157894736843 475.09749120822363 452.1052631578948 475.09749120822363\" stroke=\"orange\" stroke-width=\"2\"/><path d=\"M 394.2105263157895 495.29228303516817 394.2105263157895 473.73285047404863\" stroke=\"orange\" stroke-width=\"2\"/><path d=\"M 410.0 510 410.0 473.73285047404863\" stroke=\"orange\" stroke-width=\"2\"/><path d=\"M 394.2105263157895 473.73285047404863 410.0 473.73285047404863\" stroke=\"orange\" stroke-width=\"2\"/><path d=\"M 288.94736842105266 496.083728525327 288.94736842105266 473.58979799249806\" stroke=\"blue\" stroke-width=\"2\"/><path d=\"M 304.7368421052632 510 304.7368421052632 473.58979799249806\" stroke=\"blue\" stroke-width=\"2\"/><path d=\"M 288.94736842105266 473.58979799249806 304.7368421052632 473.58979799249806\" stroke=\"blue\" stroke-width=\"2\"/><path d=\"M 778.421052631579 510 778.421052631579 470.8044232718549\" stroke=\"red\" stroke-width=\"2\"/><path d=\"M 788.9473684210527 510 788.9473684210527 470.8044232718549\" stroke=\"red\" stroke-width=\"2\"/><path d=\"M 778.421052631579 470.8044232718549 788.9473684210527 470.8044232718549\" stroke=\"red\" stroke-width=\"2\"/><path d=\"M 632.3684210526316 479.33825300996483 632.3684210526316 469.00230727740495\" stroke=\"green\" stroke-width=\"2\"/><path d=\"M 652.1052631578948 510 652.1052631578948 469.00230727740495\" stroke=\"green\" stroke-width=\"2\"/><path d=\"M 632.3684210526316 469.00230727740495 652.1052631578948 469.00230727740495\" stroke=\"green\" stroke-width=\"2\"/><path d=\"M 931.0526315789475 476.83496690054704 931.0526315789475 468.67465359999875\" stroke=\"red\" stroke-width=\"2\"/><path d=\"M 946.8421052631579 510 946.8421052631579 468.67465359999875\" stroke=\"red\" stroke-width=\"2\"/><path d=\"M 931.0526315789475 468.67465359999875 946.8421052631579 468.67465359999875\" stroke=\"red\" stroke-width=\"2\"/><path d=\"M 141.57894736842107 480.05568961326 141.57894736842107 465.14496165734255\" stroke=\"blue\" stroke-width=\"2\"/><path d=\"M 162.63157894736844 497.09202387564454 162.63157894736844 465.14496165734255\" stroke=\"blue\" stroke-width=\"2\"/><path d=\"M 141.57894736842107 465.14496165734255 162.63157894736844 465.14496165734255\" stroke=\"blue\" stroke-width=\"2\"/><path d=\"M 504.7368421052632 510 504.7368421052632 464.93196871594216\" stroke=\"green\" stroke-width=\"2\"/><path d=\"M 520.5263157894738 489.88260813698196 520.5263157894738 464.93196871594216\" stroke=\"green\" stroke-width=\"2\"/><path d=\"M 504.7368421052632 464.93196871594216 520.5263157894738 464.93196871594216\" stroke=\"green\" stroke-width=\"2\"/><path d=\"M 591.578947368421 476.29071084191935 591.578947368421 464.59371569680195\" stroke=\"green\" stroke-width=\"2\"/><path d=\"M 642.2368421052631 469.00230727740495 642.2368421052631 464.59371569680195\" stroke=\"green\" stroke-width=\"2\"/><path d=\"M 591.578947368421 464.59371569680195 642.2368421052631 464.59371569680195\" stroke=\"green\" stroke-width=\"2\"/><path d=\"M 673.1578947368422 510 673.1578947368422 464.5511136904614\" stroke=\"green\" stroke-width=\"2\"/><path d=\"M 688.9473684210527 493.6359372397036 688.9473684210527 464.5511136904614\" stroke=\"green\" stroke-width=\"2\"/><path d=\"M 673.1578947368422 464.5511136904614 688.9473684210527 464.5511136904614\" stroke=\"green\" stroke-width=\"2\"/><path d=\"M 10.0 510 10.0 464.0099161955072\" stroke=\"blue\" stroke-width=\"2\"/><path d=\"M 28.42105263157895 494.37001771844535 28.42105263157895 464.0099161955072\" stroke=\"blue\" stroke-width=\"2\"/><path d=\"M 10.0 464.0099161955072 28.42105263157895 464.0099161955072\" stroke=\"blue\" stroke-width=\"2\"/><path d=\"M 52.10526315789474 510 52.10526315789474 462.8363471310638\" stroke=\"blue\" stroke-width=\"2\"/><path d=\"M 62.631578947368425 510 62.631578947368425 462.8363471310638\" stroke=\"blue\" stroke-width=\"2\"/><path d=\"M 52.10526315789474 462.8363471310638 62.631578947368425 462.8363471310638\" stroke=\"blue\" stroke-width=\"2\"/><path d=\"M 894.2105263157896 510 894.2105263157896 462.5980004704985\" stroke=\"red\" stroke-width=\"2\"/><path d=\"M 904.7368421052632 510 904.7368421052632 462.5980004704985\" stroke=\"red\" stroke-width=\"2\"/><path d=\"M 894.2105263157896 462.5980004704985 904.7368421052632 462.5980004704985\" stroke=\"red\" stroke-width=\"2\"/><path d=\"M 183.6842105263158 489.2150026945396 183.6842105263158 462.40942951801725\" stroke=\"blue\" stroke-width=\"2\"/><path d=\"M 204.73684210526318 499.6553650804735 204.73684210526318 462.40942951801725\" stroke=\"blue\" stroke-width=\"2\"/><path d=\"M 183.6842105263158 462.40942951801725 204.73684210526318 462.40942951801725\" stroke=\"blue\" stroke-width=\"2\"/><path d=\"M 444.21052631578954 475.09749120822363 444.21052631578954 461.1322716313497\" stroke=\"orange\" stroke-width=\"2\"/><path d=\"M 462.63157894736844 510 462.63157894736844 461.1322716313497\" stroke=\"orange\" stroke-width=\"2\"/><path d=\"M 444.21052631578954 461.1322716313497 462.63157894736844 461.1322716313497\" stroke=\"orange\" stroke-width=\"2\"/><path d=\"M 873.1578947368422 510 873.1578947368422 457.9245508255602\" stroke=\"red\" stroke-width=\"2\"/><path d=\"M 883.6842105263158 510 883.6842105263158 457.9245508255602\" stroke=\"red\" stroke-width=\"2\"/><path d=\"M 873.1578947368422 457.9245508255602 883.6842105263158 457.9245508255602\" stroke=\"red\" stroke-width=\"2\"/><path d=\"M 988.9473684210527 510 988.9473684210527 457.1123662948341\" stroke=\"red\" stroke-width=\"2\"/><path d=\"M 999.4736842105264 510 999.4736842105264 457.1123662948341\" stroke=\"red\" stroke-width=\"2\"/><path d=\"M 988.9473684210527 457.1123662948341 999.4736842105264 457.1123662948341\" stroke=\"red\" stroke-width=\"2\"/><path d=\"M 115.26315789473685 510 115.26315789473685 456.3914285581393\" stroke=\"blue\" stroke-width=\"2\"/><path d=\"M 125.78947368421053 510 125.78947368421053 456.3914285581393\" stroke=\"blue\" stroke-width=\"2\"/><path d=\"M 115.26315789473685 456.3914285581393 125.78947368421053 456.3914285581393\" stroke=\"blue\" stroke-width=\"2\"/><path d=\"M 846.8421052631579 487.97432338491257 846.8421052631579 455.8991772113228\" stroke=\"red\" stroke-width=\"2\"/><path d=\"M 862.6315789473684 510 862.6315789473684 455.8991772113228\" stroke=\"red\" stroke-width=\"2\"/><path d=\"M 846.8421052631579 455.8991772113228 862.6315789473684 455.8991772113228\" stroke=\"red\" stroke-width=\"2\"/><path d=\"M 938.9473684210527 468.67465359999875 938.9473684210527 455.1515711578396\" stroke=\"red\" stroke-width=\"2\"/><path d=\"M 957.3684210526317 510 957.3684210526317 455.1515711578396\" stroke=\"red\" stroke-width=\"2\"/><path d=\"M 938.9473684210527 455.1515711578396 957.3684210526317 455.1515711578396\" stroke=\"red\" stroke-width=\"2\"/><path d=\"M 220.5263157894737 510 220.5263157894737 453.79197593630266\" stroke=\"blue\" stroke-width=\"2\"/><path d=\"M 236.31578947368422 481.86396691869874 236.31578947368422 453.79197593630266\" stroke=\"blue\" stroke-width=\"2\"/><path d=\"M 220.5263157894737 453.79197593630266 236.31578947368422 453.79197593630266\" stroke=\"blue\" stroke-width=\"2\"/><path d=\"M 453.42105263157896 461.1322716313497 453.42105263157896 451.21558088697697\" stroke=\"orange\" stroke-width=\"2\"/><path d=\"M 486.3157894736842 479.4122075485435 486.3157894736842 451.21558088697697\" stroke=\"orange\" stroke-width=\"2\"/><path d=\"M 453.42105263157896 451.21558088697697 486.3157894736842 451.21558088697697\" stroke=\"orange\" stroke-width=\"2\"/><path d=\"M 57.36842105263158 462.8363471310638 57.36842105263158 442.2326342419418\" stroke=\"blue\" stroke-width=\"2\"/><path d=\"M 81.05263157894737 475.50211792558576 81.05263157894737 442.2326342419418\" stroke=\"blue\" stroke-width=\"2\"/><path d=\"M 57.36842105263158 442.2326342419418 81.05263157894737 442.2326342419418\" stroke=\"blue\" stroke-width=\"2\"/><path d=\"M 512.6315789473684 464.93196871594216 512.6315789473684 439.3876594996894\" stroke=\"green\" stroke-width=\"2\"/><path d=\"M 536.3157894736843 510 536.3157894736843 439.3876594996894\" stroke=\"green\" stroke-width=\"2\"/><path d=\"M 512.6315789473684 439.3876594996894 536.3157894736843 439.3876594996894\" stroke=\"green\" stroke-width=\"2\"/><path d=\"M 899.4736842105265 462.5980004704985 899.4736842105265 439.26103856767855\" stroke=\"red\" stroke-width=\"2\"/><path d=\"M 915.2631578947369 510 915.2631578947369 439.26103856767855\" stroke=\"red\" stroke-width=\"2\"/><path d=\"M 899.4736842105265 439.26103856767855 915.2631578947369 439.26103856767855\" stroke=\"red\" stroke-width=\"2\"/><path d=\"M 783.6842105263158 470.8044232718549 783.6842105263158 437.3653266933886\" stroke=\"red\" stroke-width=\"2\"/><path d=\"M 799.4736842105264 510 799.4736842105264 437.3653266933886\" stroke=\"red\" stroke-width=\"2\"/><path d=\"M 783.6842105263158 437.3653266933886 799.4736842105264 437.3653266933886\" stroke=\"red\" stroke-width=\"2\"/><path d=\"M 367.8947368421053 510 367.8947368421053 436.9281201297957\" stroke=\"blue\" stroke-width=\"2\"/><path d=\"M 378.42105263157896 510 378.42105263157896 436.9281201297957\" stroke=\"blue\" stroke-width=\"2\"/><path d=\"M 367.8947368421053 436.9281201297957 378.42105263157896 436.9281201297957\" stroke=\"blue\" stroke-width=\"2\"/><path d=\"M 704.7368421052632 510 704.7368421052632 426.10576682487226\" stroke=\"red\" stroke-width=\"2\"/><path d=\"M 715.2631578947369 510 715.2631578947369 426.10576682487226\" stroke=\"red\" stroke-width=\"2\"/><path d=\"M 704.7368421052632 426.10576682487226 715.2631578947369 426.10576682487226\" stroke=\"red\" stroke-width=\"2\"/><path d=\"M 973.1578947368421 498.44990987074885 973.1578947368421 414.6008672918846\" stroke=\"red\" stroke-width=\"2\"/><path d=\"M 994.2105263157896 457.1123662948341 994.2105263157896 414.6008672918846\" stroke=\"red\" stroke-width=\"2\"/><path d=\"M 973.1578947368421 414.6008672918846 994.2105263157896 414.6008672918846\" stroke=\"red\" stroke-width=\"2\"/><path d=\"M 228.42105263157896 453.79197593630266 228.42105263157896 411.83477586288274\" stroke=\"blue\" stroke-width=\"2\"/><path d=\"M 252.10526315789474 510 252.10526315789474 411.83477586288274\" stroke=\"blue\" stroke-width=\"2\"/><path d=\"M 228.42105263157896 411.83477586288274 252.10526315789474 411.83477586288274\" stroke=\"blue\" stroke-width=\"2\"/><path d=\"M 402.10526315789474 473.73285047404863 402.10526315789474 409.83303694063346\" stroke=\"orange\" stroke-width=\"2\"/><path d=\"M 420.5263157894737 510 420.5263157894737 409.83303694063346\" stroke=\"orange\" stroke-width=\"2\"/><path d=\"M 402.10526315789474 409.83303694063346 420.5263157894737 409.83303694063346\" stroke=\"orange\" stroke-width=\"2\"/><path d=\"M 546.8421052631579 510 546.8421052631579 409.5368430679017\" stroke=\"green\" stroke-width=\"2\"/><path d=\"M 562.6315789473686 493.0245922784266 562.6315789473686 409.5368430679017\" stroke=\"green\" stroke-width=\"2\"/><path d=\"M 546.8421052631579 409.5368430679017 562.6315789473686 409.5368430679017\" stroke=\"green\" stroke-width=\"2\"/><path d=\"M 331.0526315789474 487.14117160507425 331.0526315789474 402.9486239263514\" stroke=\"blue\" stroke-width=\"2\"/><path d=\"M 357.3684210526316 510 357.3684210526316 402.9486239263514\" stroke=\"blue\" stroke-width=\"2\"/><path d=\"M 331.0526315789474 402.9486239263514 357.3684210526316 402.9486239263514\" stroke=\"blue\" stroke-width=\"2\"/><path d=\"M 273.15789473684214 510 273.15789473684214 399.03380595045064\" stroke=\"blue\" stroke-width=\"2\"/><path d=\"M 296.8421052631579 473.58979799249806 296.8421052631579 399.03380595045064\" stroke=\"blue\" stroke-width=\"2\"/><path d=\"M 273.15789473684214 399.03380595045064 296.8421052631579 399.03380595045064\" stroke=\"blue\" stroke-width=\"2\"/><path d=\"M 878.421052631579 457.9245508255602 878.421052631579 392.43253093416877\" stroke=\"red\" stroke-width=\"2\"/><path d=\"M 907.3684210526317 439.26103856767855 907.3684210526317 392.43253093416877\" stroke=\"red\" stroke-width=\"2\"/><path d=\"M 878.421052631579 392.43253093416877 907.3684210526317 392.43253093416877\" stroke=\"red\" stroke-width=\"2\"/><path d=\"M 810.0 510 810.0 386.8638689361187\" stroke=\"red\" stroke-width=\"2\"/><path d=\"M 820.5263157894738 510 820.5263157894738 386.8638689361187\" stroke=\"red\" stroke-width=\"2\"/><path d=\"M 810.0 386.8638689361187 820.5263157894738 386.8638689361187\" stroke=\"red\" stroke-width=\"2\"/><path d=\"M 710.0 426.10576682487226 710.0 385.2096418656475\" stroke=\"red\" stroke-width=\"2\"/><path d=\"M 725.7894736842106 510 725.7894736842106 385.2096418656475\" stroke=\"red\" stroke-width=\"2\"/><path d=\"M 710.0 385.2096418656475 725.7894736842106 385.2096418656475\" stroke=\"red\" stroke-width=\"2\"/><path d=\"M 19.210526315789473 464.0099161955072 19.210526315789473 384.47617286499656\" stroke=\"blue\" stroke-width=\"2\"/><path d=\"M 69.21052631578948 442.2326342419418 69.21052631578948 384.47617286499656\" stroke=\"blue\" stroke-width=\"2\"/><path d=\"M 19.210526315789473 384.47617286499656 69.21052631578948 384.47617286499656\" stroke=\"blue\" stroke-width=\"2\"/><path d=\"M 120.5263157894737 456.3914285581393 120.5263157894737 382.59715161813125\" stroke=\"blue\" stroke-width=\"2\"/><path d=\"M 152.10526315789474 465.14496165734255 152.10526315789474 382.59715161813125\" stroke=\"blue\" stroke-width=\"2\"/><path d=\"M 120.5263157894737 382.59715161813125 152.10526315789474 382.59715161813125\" stroke=\"blue\" stroke-width=\"2\"/><path d=\"M 616.9078947368421 464.59371569680195 616.9078947368421 380.38446543983724\" stroke=\"green\" stroke-width=\"2\"/><path d=\"M 662.6315789473684 510 662.6315789473684 380.38446543983724\" stroke=\"green\" stroke-width=\"2\"/><path d=\"M 616.9078947368421 380.38446543983724 662.6315789473684 380.38446543983724\" stroke=\"green\" stroke-width=\"2\"/><path d=\"M 717.8947368421053 385.2096418656475 717.8947368421053 374.3929505996439\" stroke=\"red\" stroke-width=\"2\"/><path d=\"M 745.5263157894738 482.3923947540485 745.5263157894738 374.3929505996439\" stroke=\"red\" stroke-width=\"2\"/><path d=\"M 717.8947368421053 374.3929505996439 745.5263157894738 374.3929505996439\" stroke=\"red\" stroke-width=\"2\"/><path d=\"M 815.2631578947369 386.8638689361187 815.2631578947369 367.1637462382293\" stroke=\"red\" stroke-width=\"2\"/><path d=\"M 831.0526315789474 510 831.0526315789474 367.1637462382293\" stroke=\"red\" stroke-width=\"2\"/><path d=\"M 815.2631578947369 367.1637462382293 831.0526315789474 367.1637462382293\" stroke=\"red\" stroke-width=\"2\"/><path d=\"M 194.21052631578948 462.40942951801725 194.21052631578948 366.2563579473979\" stroke=\"blue\" stroke-width=\"2\"/><path d=\"M 240.26315789473685 411.83477586288274 240.26315789473685 366.2563579473979\" stroke=\"blue\" stroke-width=\"2\"/><path d=\"M 194.21052631578948 366.2563579473979 240.26315789473685 366.2563579473979\" stroke=\"blue\" stroke-width=\"2\"/><path d=\"M 731.7105263157896 374.3929505996439 731.7105263157896 359.83024298605136\" stroke=\"red\" stroke-width=\"2\"/><path d=\"M 791.578947368421 437.3653266933886 791.578947368421 359.83024298605136\" stroke=\"red\" stroke-width=\"2\"/><path d=\"M 731.7105263157896 359.83024298605136 791.578947368421 359.83024298605136\" stroke=\"red\" stroke-width=\"2\"/><path d=\"M 639.7697368421052 380.38446543983724 639.7697368421052 355.00373965668894\" stroke=\"green\" stroke-width=\"2\"/><path d=\"M 681.0526315789475 464.5511136904614 681.0526315789475 355.00373965668894\" stroke=\"green\" stroke-width=\"2\"/><path d=\"M 639.7697368421052 355.00373965668894 681.0526315789475 355.00373965668894\" stroke=\"green\" stroke-width=\"2\"/><path d=\"M 285.0 399.03380595045064 285.0 353.44400081137576\" stroke=\"blue\" stroke-width=\"2\"/><path d=\"M 344.2105263157895 402.9486239263514 344.2105263157895 353.44400081137576\" stroke=\"blue\" stroke-width=\"2\"/><path d=\"M 285.0 353.44400081137576 344.2105263157895 353.44400081137576\" stroke=\"blue\" stroke-width=\"2\"/><path d=\"M 948.1578947368422 455.1515711578396 948.1578947368422 352.2770544924373\" stroke=\"red\" stroke-width=\"2\"/><path d=\"M 983.6842105263158 414.6008672918846 983.6842105263158 352.2770544924373\" stroke=\"red\" stroke-width=\"2\"/><path d=\"M 948.1578947368422 352.2770544924373 983.6842105263158 352.2770544924373\" stroke=\"red\" stroke-width=\"2\"/><path d=\"M 44.21052631578948 384.47617286499656 44.21052631578948 351.33572769958437\" stroke=\"blue\" stroke-width=\"2\"/><path d=\"M 104.73684210526316 510 104.73684210526316 351.33572769958437\" stroke=\"blue\" stroke-width=\"2\"/><path d=\"M 44.21052631578948 351.33572769958437 104.73684210526316 351.33572769958437\" stroke=\"blue\" stroke-width=\"2\"/><path d=\"M 823.1578947368421 367.1637462382293 823.1578947368421 335.15005402924817\" stroke=\"red\" stroke-width=\"2\"/><path d=\"M 854.7368421052631 455.8991772113228 854.7368421052631 335.15005402924817\" stroke=\"red\" stroke-width=\"2\"/><path d=\"M 823.1578947368421 335.15005402924817 854.7368421052631 335.15005402924817\" stroke=\"red\" stroke-width=\"2\"/><path d=\"M 524.4736842105264 439.3876594996894 524.4736842105264 310.5893218118745\" stroke=\"green\" stroke-width=\"2\"/><path d=\"M 554.7368421052632 409.5368430679017 554.7368421052632 310.5893218118745\" stroke=\"green\" stroke-width=\"2\"/><path d=\"M 524.4736842105264 310.5893218118745 554.7368421052632 310.5893218118745\" stroke=\"green\" stroke-width=\"2\"/><path d=\"M 217.23684210526318 366.2563579473979 217.23684210526318 310.46042022809183\" stroke=\"blue\" stroke-width=\"2\"/><path d=\"M 262.63157894736844 510 262.63157894736844 310.46042022809183\" stroke=\"blue\" stroke-width=\"2\"/><path d=\"M 217.23684210526318 310.46042022809183 262.63157894736844 310.46042022809183\" stroke=\"blue\" stroke-width=\"2\"/><path d=\"M 761.6447368421053 359.83024298605136 761.6447368421053 307.1136430681387\" stroke=\"red\" stroke-width=\"2\"/><path d=\"M 838.9473684210526 335.15005402924817 838.9473684210526 307.1136430681387\" stroke=\"red\" stroke-width=\"2\"/><path d=\"M 761.6447368421053 307.1136430681387 838.9473684210526 307.1136430681387\" stroke=\"red\" stroke-width=\"2\"/><path d=\"M 74.47368421052633 351.33572769958437 74.47368421052633 299.0140587134612\" stroke=\"blue\" stroke-width=\"2\"/><path d=\"M 136.31578947368422 382.59715161813125 136.31578947368422 299.0140587134612\" stroke=\"blue\" stroke-width=\"2\"/><path d=\"M 74.47368421052633 299.0140587134612 136.31578947368422 299.0140587134612\" stroke=\"blue\" stroke-width=\"2\"/><path d=\"M 411.3157894736842 409.83303694063346 411.3157894736842 286.7462085632807\" stroke=\"orange\" stroke-width=\"2\"/><path d=\"M 469.86842105263156 451.21558088697697 469.86842105263156 286.7462085632807\" stroke=\"orange\" stroke-width=\"2\"/><path d=\"M 411.3157894736842 286.7462085632807 469.86842105263156 286.7462085632807\" stroke=\"orange\" stroke-width=\"2\"/><path d=\"M 314.60526315789474 353.44400081137576 314.60526315789474 282.9404532047072\" stroke=\"blue\" stroke-width=\"2\"/><path d=\"M 373.15789473684214 436.9281201297957 373.15789473684214 282.9404532047072\" stroke=\"blue\" stroke-width=\"2\"/><path d=\"M 314.60526315789474 282.9404532047072 373.15789473684214 282.9404532047072\" stroke=\"blue\" stroke-width=\"2\"/><path d=\"M 539.6052631578948 310.5893218118745 539.6052631578948 277.75093652345333\" stroke=\"green\" stroke-width=\"2\"/><path d=\"M 660.4111842105264 355.00373965668894 660.4111842105264 277.75093652345333\" stroke=\"green\" stroke-width=\"2\"/><path d=\"M 539.6052631578948 277.75093652345333 660.4111842105264 277.75093652345333\" stroke=\"green\" stroke-width=\"2\"/><path d=\"M 105.39473684210527 299.0140587134612 105.39473684210527 254.00193182009585\" stroke=\"blue\" stroke-width=\"2\"/><path d=\"M 239.9342105263158 310.46042022809183 239.9342105263158 254.00193182009585\" stroke=\"blue\" stroke-width=\"2\"/><path d=\"M 105.39473684210527 254.00193182009585 239.9342105263158 254.00193182009585\" stroke=\"blue\" stroke-width=\"2\"/><path d=\"M 800.296052631579 307.1136430681387 800.296052631579 250.48601073913198\" stroke=\"red\" stroke-width=\"2\"/><path d=\"M 892.8947368421053 392.43253093416877 892.8947368421053 250.48601073913198\" stroke=\"red\" stroke-width=\"2\"/><path d=\"M 800.296052631579 250.48601073913198 892.8947368421053 250.48601073913198\" stroke=\"red\" stroke-width=\"2\"/><path d=\"M 172.66447368421055 254.00193182009585 172.66447368421055 231.19874923185142\" stroke=\"blue\" stroke-width=\"2\"/><path d=\"M 343.88157894736844 282.9404532047072 343.88157894736844 231.19874923185142\" stroke=\"blue\" stroke-width=\"2\"/><path d=\"M 172.66447368421055 231.19874923185142 343.88157894736844 231.19874923185142\" stroke=\"blue\" stroke-width=\"2\"/><path d=\"M 846.5953947368421 250.48601073913198 846.5953947368421 172.6887083475574\" stroke=\"red\" stroke-width=\"2\"/><path d=\"M 965.921052631579 352.2770544924373 965.921052631579 172.6887083475574\" stroke=\"red\" stroke-width=\"2\"/><path d=\"M 846.5953947368421 172.6887083475574 965.921052631579 172.6887083475574\" stroke=\"red\" stroke-width=\"2\"/><path d=\"M 258.2730263157895 231.19874923185142 258.2730263157895 168.141121246306\" stroke=\"black\" stroke-width=\"2\"/><path d=\"M 440.5921052631579 286.7462085632807 440.5921052631579 168.141121246306\" stroke=\"black\" stroke-width=\"2\"/><path d=\"M 258.2730263157895 168.141121246306 440.5921052631579 168.141121246306\" stroke=\"black\" stroke-width=\"2\"/><path d=\"M 349.4325657894737 168.141121246306 349.4325657894737 43.764667561949636\" stroke=\"black\" stroke-width=\"2\"/><path d=\"M 600.0082236842106 277.75093652345333 600.0082236842106 43.764667561949636\" stroke=\"black\" stroke-width=\"2\"/><path d=\"M 349.4325657894737 43.764667561949636 600.0082236842106 43.764667561949636\" stroke=\"black\" stroke-width=\"2\"/><path d=\"M 474.7203947368422 43.764667561949636 474.7203947368422 10.0\" stroke=\"black\" stroke-width=\"2\"/><path d=\"M 906.2582236842105 172.6887083475574 906.2582236842105 10.0\" stroke=\"black\" stroke-width=\"2\"/><path d=\"M 474.7203947368422 10.0 906.2582236842105 10.0\" stroke=\"black\" stroke-width=\"2\"/></svg>"
          },
          "metadata": {},
          "execution_count": 590
        }
      ]
    },
    {
      "cell_type": "markdown",
      "source": [
        "**Metrics**"
      ],
      "metadata": {
        "id": "OG5qPSlSSq9Z"
      }
    },
    {
      "cell_type": "code",
      "source": [
        "nodelist = list(G_reduced.nodes)\n",
        "labels = list(cut_straight(dendrogram, n_clusters=4, return_dendrogram=False))\n",
        "\n",
        "community_dend = [[],[],[],[]]\n",
        "i = 0\n",
        "for node in nodelist:\n",
        "  community_dend[labels[i]].append(node)\n",
        "  i += 1\n",
        "\n",
        "_ = compute_metrics(G_reduced, community_dend)"
      ],
      "metadata": {
        "colab": {
          "base_uri": "https://localhost:8080/"
        },
        "outputId": "ce617005-c45a-4531-eb9c-bc77923b31ba",
        "id": "IEofSHeNSq9Z"
      },
      "execution_count": 591,
      "outputs": [
        {
          "output_type": "stream",
          "name": "stdout",
          "text": [
            "Coverage:  0.4244755244755245\n",
            "Performance:  0.6689809630459127\n",
            "Modularity:  0.20176358887180185\n"
          ]
        }
      ]
    },
    {
      "cell_type": "code",
      "source": [
        "image = svg_dendrogram(dendrogram, names, n_clusters=8, rotate=False,width=1000,height=500,filename='community_dendogram8'+period)\n",
        "SVG(image)"
      ],
      "metadata": {
        "colab": {
          "base_uri": "https://localhost:8080/",
          "height": 0
        },
        "outputId": "525fe476-b171-4ee8-b626-4df1643e5e26",
        "id": "vJjLypKVSq9a"
      },
      "execution_count": 592,
      "outputs": [
        {
          "output_type": "execute_result",
          "data": {
            "text/plain": [
              "<IPython.core.display.SVG object>"
            ],
            "image/svg+xml": "<svg height=\"597.0\" width=\"1020\" xmlns=\"http://www.w3.org/2000/svg\"><text font-size=\"12\" transform=\"rotate(60, 99.73684210526316, 515)\" x=\"99.73684210526316\" y=\"515\">china</text><text font-size=\"12\" transform=\"rotate(60, 373.42105263157896, 515)\" x=\"373.42105263157896\" y=\"515\">novel</text><text font-size=\"12\" transform=\"rotate(60, 120.78947368421053, 515)\" x=\"120.78947368421053\" y=\"515\">outbreak</text><text font-size=\"12\" transform=\"rotate(60, 5.0, 515)\" x=\"5.0\" y=\"515\">medical</text><text font-size=\"12\" transform=\"rotate(60, 531.3157894736843, 515)\" x=\"531.3157894736843\" y=\"515\">people</text><text font-size=\"12\" transform=\"rotate(60, 478.68421052631584, 515)\" x=\"478.68421052631584\" y=\"515\">world</text><text font-size=\"12\" transform=\"rotate(60, 320.7894736842105, 515)\" x=\"320.7894736842105\" y=\"515\">disease</text><text font-size=\"12\" transform=\"rotate(60, 278.68421052631584, 515)\" x=\"278.68421052631584\" y=\"515\">take</text><text font-size=\"12\" transform=\"rotate(60, 457.63157894736844, 515)\" x=\"457.63157894736844\" y=\"515\">health</text><text font-size=\"12\" transform=\"rotate(60, 468.15789473684214, 515)\" x=\"468.15789473684214\" y=\"515\">organization</text><text font-size=\"12\" transform=\"rotate(60, 299.7368421052632, 515)\" x=\"299.7368421052632\" y=\"515\">expert</text><text font-size=\"12\" transform=\"rotate(60, 994.4736842105264, 515)\" x=\"994.4736842105264\" y=\"515\">outside</text><text font-size=\"12\" transform=\"rotate(60, 720.7894736842106, 515)\" x=\"720.7894736842106\" y=\"515\">confirm</text><text font-size=\"12\" transform=\"rotate(60, 710.2631578947369, 515)\" x=\"710.2631578947369\" y=\"515\">case</text><text font-size=\"12\" transform=\"rotate(60, 615.5263157894738, 515)\" x=\"615.5263157894738\" y=\"515\">cruise</text><text font-size=\"12\" transform=\"rotate(60, 605.0, 515)\" x=\"605.0\" y=\"515\">ship</text><text font-size=\"12\" transform=\"rotate(60, 636.578947368421, 515)\" x=\"636.578947368421\" y=\"515\">japan</text><text font-size=\"12\" transform=\"rotate(60, 257.63157894736844, 515)\" x=\"257.63157894736844\" y=\"515\">country</text><text font-size=\"12\" transform=\"rotate(60, 183.94736842105266, 515)\" x=\"183.94736842105266\" y=\"515\">live</text><text font-size=\"12\" transform=\"rotate(60, 141.84210526315792, 515)\" x=\"141.84210526315792\" y=\"515\">state</text><text font-size=\"12\" transform=\"rotate(60, 341.8421052631579, 515)\" x=\"341.8421052631579\" y=\"515\">prevention</text><text font-size=\"12\" transform=\"rotate(60, 889.2105263157896, 515)\" x=\"889.2105263157896\" y=\"515\">central</text><text font-size=\"12\" transform=\"rotate(60, 899.7368421052632, 515)\" x=\"899.7368421052632\" y=\"515\">epicenter</text><text font-size=\"12\" transform=\"rotate(60, 194.47368421052633, 515)\" x=\"194.47368421052633\" y=\"515\">late</text><text font-size=\"12\" transform=\"rotate(60, 868.1578947368422, 515)\" x=\"868.1578947368422\" y=\"515\">hubei</text><text font-size=\"12\" transform=\"rotate(60, 878.6842105263158, 515)\" x=\"878.6842105263158\" y=\"515\">province</text><text font-size=\"12\" transform=\"rotate(60, 89.21052631578948, 515)\" x=\"89.21052631578948\" y=\"515\">support</text><text font-size=\"12\" transform=\"rotate(60, 920.7894736842106, 515)\" x=\"920.7894736842106\" y=\"515\">hospital</text><text font-size=\"12\" transform=\"rotate(60, 15.526315789473685, 515)\" x=\"15.526315789473685\" y=\"515\">help</text><text font-size=\"12\" transform=\"rotate(60, 68.15789473684211, 515)\" x=\"68.15789473684211\" y=\"515\">fight</text><text font-size=\"12\" transform=\"rotate(60, 236.57894736842107, 515)\" x=\"236.57894736842107\" y=\"515\">contain</text><text font-size=\"12\" transform=\"rotate(60, 47.10526315789474, 515)\" x=\"47.10526315789474\" y=\"515\">epidemic</text><text font-size=\"12\" transform=\"rotate(60, 268.15789473684214, 515)\" x=\"268.15789473684214\" y=\"515\">say</text><text font-size=\"12\" transform=\"rotate(60, 226.0526315789474, 515)\" x=\"226.0526315789474\" y=\"515\">effort</text><text font-size=\"12\" transform=\"rotate(60, 110.26315789473685, 515)\" x=\"110.26315789473685\" y=\"515\">amid</text><text font-size=\"12\" transform=\"rotate(60, 794.4736842105264, 515)\" x=\"794.4736842105264\" y=\"515\">number</text><text font-size=\"12\" transform=\"rotate(60, 415.5263157894737, 515)\" x=\"415.5263157894737\" y=\"515\">day</text><text font-size=\"12\" transform=\"rotate(60, 541.8421052631579, 515)\" x=\"541.8421052631579\" y=\"515\">virus</text><text font-size=\"12\" transform=\"rotate(60, 741.8421052631579, 515)\" x=\"741.8421052631579\" y=\"515\">include</text><text font-size=\"12\" transform=\"rotate(60, 36.578947368421055, 515)\" x=\"36.578947368421055\" y=\"515\">mask</text><text font-size=\"12\" transform=\"rotate(60, 78.6842105263158, 515)\" x=\"78.6842105263158\" y=\"515\">show</text><text font-size=\"12\" transform=\"rotate(60, 352.3684210526316, 515)\" x=\"352.3684210526316\" y=\"515\">official</text><text font-size=\"12\" transform=\"rotate(60, 331.3157894736842, 515)\" x=\"331.3157894736842\" y=\"515\">control</text><text font-size=\"12\" transform=\"rotate(60, 773.421052631579, 515)\" x=\"773.421052631579\" y=\"515\">total</text><text font-size=\"12\" transform=\"rotate(60, 678.6842105263158, 515)\" x=\"678.6842105263158\" y=\"515\">work</text><text font-size=\"12\" transform=\"rotate(60, 731.3157894736843, 515)\" x=\"731.3157894736843\" y=\"515\">one</text><text font-size=\"12\" transform=\"rotate(60, 394.47368421052636, 515)\" x=\"394.47368421052636\" y=\"515\">national</text><text font-size=\"12\" transform=\"rotate(60, 383.94736842105266, 515)\" x=\"383.94736842105266\" y=\"515\">commission</text><text font-size=\"12\" transform=\"rotate(60, 931.3157894736843, 515)\" x=\"931.3157894736843\" y=\"515\">treatment</text><text font-size=\"12\" transform=\"rotate(60, 173.42105263157896, 515)\" x=\"173.42105263157896\" y=\"515\">update</text><text font-size=\"12\" transform=\"rotate(60, 489.2105263157895, 515)\" x=\"489.2105263157895\" y=\"515\">around</text><text font-size=\"12\" transform=\"rotate(60, 815.5263157894738, 515)\" x=\"815.5263157894738\" y=\"515\">new</text><text font-size=\"12\" transform=\"rotate(60, 552.3684210526317, 515)\" x=\"552.3684210526317\" y=\"515\">die</text><text font-size=\"12\" transform=\"rotate(60, 289.2105263157895, 515)\" x=\"289.2105263157895\" y=\"515\">measure</text><text font-size=\"12\" transform=\"rotate(60, 910.2631578947369, 515)\" x=\"910.2631578947369\" y=\"515\">city</text><text font-size=\"12\" transform=\"rotate(60, 57.631578947368425, 515)\" x=\"57.631578947368425\" y=\"515\">battle</text><text font-size=\"12\" transform=\"rotate(60, 152.3684210526316, 515)\" x=\"152.3684210526316\" y=\"515\">due</text><text font-size=\"12\" transform=\"rotate(60, 215.5263157894737, 515)\" x=\"215.5263157894737\" y=\"515\">authority</text><text font-size=\"12\" transform=\"rotate(60, 362.8947368421053, 515)\" x=\"362.8947368421053\" y=\"515\">pneumonia</text><text font-size=\"12\" transform=\"rotate(60, 447.1052631578948, 515)\" x=\"447.1052631578948\" y=\"515\">global</text><text font-size=\"12\" transform=\"rotate(60, 405.0, 515)\" x=\"405.0\" y=\"515\">accord</text><text font-size=\"12\" transform=\"rotate(60, 857.6315789473684, 515)\" x=\"857.6315789473684\" y=\"515\">death</text><text font-size=\"12\" transform=\"rotate(60, 699.7368421052632, 515)\" x=\"699.7368421052632\" y=\"515\">confirmed</text><text font-size=\"12\" transform=\"rotate(60, 499.7368421052632, 515)\" x=\"499.7368421052632\" y=\"515\">infect</text><text font-size=\"12\" transform=\"rotate(60, 941.8421052631579, 515)\" x=\"941.8421052631579\" y=\"515\">patient</text><text font-size=\"12\" transform=\"rotate(60, 247.10526315789474, 515)\" x=\"247.10526315789474\" y=\"515\">spread</text><text font-size=\"12\" transform=\"rotate(60, 973.421052631579, 515)\" x=\"973.421052631579\" y=\"515\">year</text><text font-size=\"12\" transform=\"rotate(60, 962.8947368421053, 515)\" x=\"962.8947368421053\" y=\"515\">old</text><text font-size=\"12\" transform=\"rotate(60, 952.3684210526317, 515)\" x=\"952.3684210526317\" y=\"515\">discharge</text><text font-size=\"12\" transform=\"rotate(60, 983.9473684210527, 515)\" x=\"983.9473684210527\" y=\"515\">first</text><text font-size=\"12\" transform=\"rotate(60, 26.05263157894737, 515)\" x=\"26.05263157894737\" y=\"515\">million</text><text font-size=\"12\" transform=\"rotate(60, 826.0526315789474, 515)\" x=\"826.0526315789474\" y=\"515\">report</text><text font-size=\"12\" transform=\"rotate(60, 594.4736842105264, 515)\" x=\"594.4736842105264\" y=\"515\">evacuate</text><text font-size=\"12\" transform=\"rotate(60, 573.421052631579, 515)\" x=\"573.421052631579\" y=\"515\">test</text><text font-size=\"12\" transform=\"rotate(60, 836.5789473684212, 515)\" x=\"836.5789473684212\" y=\"515\">toll</text><text font-size=\"12\" transform=\"rotate(60, 752.3684210526317, 515)\" x=\"752.3684210526317\" y=\"515\">macao</text><text font-size=\"12\" transform=\"rotate(60, 762.8947368421053, 515)\" x=\"762.8947368421053\" y=\"515\">taiwan</text><text font-size=\"12\" transform=\"rotate(60, 805.0, 515)\" x=\"805.0\" y=\"515\">infection</text><text font-size=\"12\" transform=\"rotate(60, 562.8947368421053, 515)\" x=\"562.8947368421053\" y=\"515\">doctor</text><text font-size=\"12\" transform=\"rotate(60, 783.9473684210527, 515)\" x=\"783.9473684210527\" y=\"515\">bring</text><text font-size=\"12\" transform=\"rotate(60, 689.2105263157895, 515)\" x=\"689.2105263157895\" y=\"515\">government</text><text font-size=\"12\" transform=\"rotate(60, 647.1052631578948, 515)\" x=\"647.1052631578948\" y=\"515\">quarantine</text><text font-size=\"12\" transform=\"rotate(60, 668.1578947368422, 515)\" x=\"668.1578947368422\" y=\"515\">hong</text><text font-size=\"12\" transform=\"rotate(60, 657.6315789473684, 515)\" x=\"657.6315789473684\" y=\"515\">two</text><text font-size=\"12\" transform=\"rotate(60, 426.0526315789474, 515)\" x=\"426.0526315789474\" y=\"515\">public</text><text font-size=\"12\" transform=\"rotate(60, 436.5789473684211, 515)\" x=\"436.5789473684211\" y=\"515\">emergency</text><text font-size=\"12\" transform=\"rotate(60, 847.1052631578948, 515)\" x=\"847.1052631578948\" y=\"515\">rise</text><text font-size=\"12\" transform=\"rotate(60, 162.89473684210526, 515)\" x=\"162.89473684210526\" y=\"515\">flight</text><text font-size=\"12\" transform=\"rotate(60, 131.31578947368422, 515)\" x=\"131.31578947368422\" y=\"515\">travel</text><text font-size=\"12\" transform=\"rotate(60, 205.0, 515)\" x=\"205.0\" y=\"515\">beyond</text><text font-size=\"12\" transform=\"rotate(60, 520.7894736842105, 515)\" x=\"520.7894736842105\" y=\"515\">least</text><text font-size=\"12\" transform=\"rotate(60, 583.9473684210527, 515)\" x=\"583.9473684210527\" y=\"515\">positive</text><text font-size=\"12\" transform=\"rotate(60, 310.2631578947369, 515)\" x=\"310.2631578947369\" y=\"515\">center</text><text font-size=\"12\" transform=\"rotate(60, 626.0526315789474, 515)\" x=\"626.0526315789474\" y=\"515\">passenger</text><text font-size=\"12\" transform=\"rotate(60, 510.2631578947369, 515)\" x=\"510.2631578947369\" y=\"515\">kill</text><path d=\"M 31.05263157894737 510 31.05263157894737 501.5822571926114\" stroke=\"green\" stroke-width=\"2\"/><path d=\"M 41.578947368421055 510 41.578947368421055 501.5822571926114\" stroke=\"green\" stroke-width=\"2\"/><path d=\"M 31.05263157894737 501.5822571926114 41.578947368421055 501.5822571926114\" stroke=\"green\" stroke-width=\"2\"/><path d=\"M 757.3684210526317 510 757.3684210526317 500.55673238761386\" stroke=\"red\" stroke-width=\"2\"/><path d=\"M 767.8947368421053 510 767.8947368421053 500.55673238761386\" stroke=\"red\" stroke-width=\"2\"/><path d=\"M 757.3684210526317 500.55673238761386 767.8947368421053 500.55673238761386\" stroke=\"red\" stroke-width=\"2\"/><path d=\"M 199.47368421052633 510 199.47368421052633 499.6553650804735\" stroke=\"yellow\" stroke-width=\"2\"/><path d=\"M 210.0 510 210.0 499.6553650804735\" stroke=\"yellow\" stroke-width=\"2\"/><path d=\"M 199.47368421052633 499.6553650804735 210.0 499.6553650804735\" stroke=\"yellow\" stroke-width=\"2\"/><path d=\"M 336.3157894736842 510 336.3157894736842 499.3845021215724\" stroke=\"purple\" stroke-width=\"2\"/><path d=\"M 346.8421052631579 510 346.8421052631579 499.3845021215724\" stroke=\"purple\" stroke-width=\"2\"/><path d=\"M 336.3157894736842 499.3845021215724 346.8421052631579 499.3845021215724\" stroke=\"purple\" stroke-width=\"2\"/><path d=\"M 967.8947368421053 510 967.8947368421053 498.44990987074885\" stroke=\"fuchsia\" stroke-width=\"2\"/><path d=\"M 978.421052631579 510 978.421052631579 498.44990987074885\" stroke=\"fuchsia\" stroke-width=\"2\"/><path d=\"M 967.8947368421053 498.44990987074885 978.421052631579 498.44990987074885\" stroke=\"fuchsia\" stroke-width=\"2\"/><path d=\"M 431.0526315789474 510 431.0526315789474 498.12150067017564\" stroke=\"orange\" stroke-width=\"2\"/><path d=\"M 441.5789473684211 510 441.5789473684211 498.12150067017564\" stroke=\"orange\" stroke-width=\"2\"/><path d=\"M 431.0526315789474 498.12150067017564 441.5789473684211 498.12150067017564\" stroke=\"orange\" stroke-width=\"2\"/><path d=\"M 157.3684210526316 510 157.3684210526316 497.09202387564454\" stroke=\"green\" stroke-width=\"2\"/><path d=\"M 167.89473684210526 510 167.89473684210526 497.09202387564454\" stroke=\"green\" stroke-width=\"2\"/><path d=\"M 157.3684210526316 497.09202387564454 167.89473684210526 497.09202387564454\" stroke=\"green\" stroke-width=\"2\"/><path d=\"M 578.421052631579 510 578.421052631579 496.6389385229691\" stroke=\"blue\" stroke-width=\"2\"/><path d=\"M 588.9473684210527 510 588.9473684210527 496.6389385229691\" stroke=\"blue\" stroke-width=\"2\"/><path d=\"M 578.421052631579 496.6389385229691 588.9473684210527 496.6389385229691\" stroke=\"blue\" stroke-width=\"2\"/><path d=\"M 283.68421052631584 510 283.68421052631584 496.083728525327\" stroke=\"purple\" stroke-width=\"2\"/><path d=\"M 294.2105263157895 510 294.2105263157895 496.083728525327\" stroke=\"purple\" stroke-width=\"2\"/><path d=\"M 283.68421052631584 496.083728525327 294.2105263157895 496.083728525327\" stroke=\"purple\" stroke-width=\"2\"/><path d=\"M 388.94736842105266 510 388.94736842105266 495.29228303516817\" stroke=\"orange\" stroke-width=\"2\"/><path d=\"M 399.47368421052636 510 399.47368421052636 495.29228303516817\" stroke=\"orange\" stroke-width=\"2\"/><path d=\"M 388.94736842105266 495.29228303516817 399.47368421052636 495.29228303516817\" stroke=\"orange\" stroke-width=\"2\"/><path d=\"M 20.526315789473685 510 20.526315789473685 494.37001771844535\" stroke=\"green\" stroke-width=\"2\"/><path d=\"M 36.31578947368421 501.5822571926114 36.31578947368421 494.37001771844535\" stroke=\"green\" stroke-width=\"2\"/><path d=\"M 20.526315789473685 494.37001771844535 36.31578947368421 494.37001771844535\" stroke=\"green\" stroke-width=\"2\"/><path d=\"M 683.6842105263158 510 683.6842105263158 493.6359372397036\" stroke=\"blue\" stroke-width=\"2\"/><path d=\"M 694.2105263157895 510 694.2105263157895 493.6359372397036\" stroke=\"blue\" stroke-width=\"2\"/><path d=\"M 683.6842105263158 493.6359372397036 694.2105263157895 493.6359372397036\" stroke=\"blue\" stroke-width=\"2\"/><path d=\"M 473.15789473684214 510 473.15789473684214 493.2388237364575\" stroke=\"orange\" stroke-width=\"2\"/><path d=\"M 483.68421052631584 510 483.68421052631584 493.2388237364575\" stroke=\"orange\" stroke-width=\"2\"/><path d=\"M 473.15789473684214 493.2388237364575 483.68421052631584 493.2388237364575\" stroke=\"orange\" stroke-width=\"2\"/><path d=\"M 315.2631578947369 510 315.2631578947369 493.1516841921895\" stroke=\"purple\" stroke-width=\"2\"/><path d=\"M 325.7894736842105 510 325.7894736842105 493.1516841921895\" stroke=\"purple\" stroke-width=\"2\"/><path d=\"M 315.2631578947369 493.1516841921895 325.7894736842105 493.1516841921895\" stroke=\"purple\" stroke-width=\"2\"/><path d=\"M 557.3684210526317 510 557.3684210526317 493.0245922784266\" stroke=\"blue\" stroke-width=\"2\"/><path d=\"M 567.8947368421053 510 567.8947368421053 493.0245922784266\" stroke=\"blue\" stroke-width=\"2\"/><path d=\"M 557.3684210526317 493.0245922784266 567.8947368421053 493.0245922784266\" stroke=\"blue\" stroke-width=\"2\"/><path d=\"M 746.8421052631579 510 746.8421052631579 492.0942638072551\" stroke=\"red\" stroke-width=\"2\"/><path d=\"M 762.6315789473686 500.55673238761386 762.6315789473686 492.0942638072551\" stroke=\"red\" stroke-width=\"2\"/><path d=\"M 746.8421052631579 492.0942638072551 762.6315789473686 492.0942638072551\" stroke=\"red\" stroke-width=\"2\"/><path d=\"M 610.0 510 610.0 490.13964854968407\" stroke=\"blue\" stroke-width=\"2\"/><path d=\"M 620.5263157894738 510 620.5263157894738 490.13964854968407\" stroke=\"blue\" stroke-width=\"2\"/><path d=\"M 610.0 490.13964854968407 620.5263157894738 490.13964854968407\" stroke=\"blue\" stroke-width=\"2\"/><path d=\"M 515.2631578947369 510 515.2631578947369 489.88260813698196\" stroke=\"blue\" stroke-width=\"2\"/><path d=\"M 525.7894736842105 510 525.7894736842105 489.88260813698196\" stroke=\"blue\" stroke-width=\"2\"/><path d=\"M 515.2631578947369 489.88260813698196 525.7894736842105 489.88260813698196\" stroke=\"blue\" stroke-width=\"2\"/><path d=\"M 178.42105263157896 510 178.42105263157896 489.2150026945396\" stroke=\"yellow\" stroke-width=\"2\"/><path d=\"M 188.94736842105266 510 188.94736842105266 489.2150026945396\" stroke=\"yellow\" stroke-width=\"2\"/><path d=\"M 178.42105263157896 489.2150026945396 188.94736842105266 489.2150026945396\" stroke=\"yellow\" stroke-width=\"2\"/><path d=\"M 841.5789473684212 510 841.5789473684212 487.97432338491257\" stroke=\"red\" stroke-width=\"2\"/><path d=\"M 852.1052631578948 510 852.1052631578948 487.97432338491257\" stroke=\"red\" stroke-width=\"2\"/><path d=\"M 841.5789473684212 487.97432338491257 852.1052631578948 487.97432338491257\" stroke=\"red\" stroke-width=\"2\"/><path d=\"M 83.6842105263158 510 83.6842105263158 487.27176724249847\" stroke=\"green\" stroke-width=\"2\"/><path d=\"M 94.21052631578948 510 94.21052631578948 487.27176724249847\" stroke=\"green\" stroke-width=\"2\"/><path d=\"M 83.6842105263158 487.27176724249847 94.21052631578948 487.27176724249847\" stroke=\"green\" stroke-width=\"2\"/><path d=\"M 320.5263157894737 493.1516841921895 320.5263157894737 487.14117160507425\" stroke=\"purple\" stroke-width=\"2\"/><path d=\"M 341.57894736842104 499.3845021215724 341.57894736842104 487.14117160507425\" stroke=\"purple\" stroke-width=\"2\"/><path d=\"M 320.5263157894737 487.14117160507425 341.57894736842104 487.14117160507425\" stroke=\"purple\" stroke-width=\"2\"/><path d=\"M 615.2631578947369 490.13964854968407 615.2631578947369 485.3767496070997\" stroke=\"blue\" stroke-width=\"2\"/><path d=\"M 631.0526315789474 510 631.0526315789474 485.3767496070997\" stroke=\"blue\" stroke-width=\"2\"/><path d=\"M 615.2631578947369 485.3767496070997 631.0526315789474 485.3767496070997\" stroke=\"blue\" stroke-width=\"2\"/><path d=\"M 736.3157894736843 510 736.3157894736843 482.3923947540485\" stroke=\"red\" stroke-width=\"2\"/><path d=\"M 754.7368421052632 492.0942638072551 754.7368421052632 482.3923947540485\" stroke=\"red\" stroke-width=\"2\"/><path d=\"M 736.3157894736843 482.3923947540485 754.7368421052632 482.3923947540485\" stroke=\"red\" stroke-width=\"2\"/><path d=\"M 231.0526315789474 510 231.0526315789474 481.86396691869874\" stroke=\"yellow\" stroke-width=\"2\"/><path d=\"M 241.57894736842107 510 241.57894736842107 481.86396691869874\" stroke=\"yellow\" stroke-width=\"2\"/><path d=\"M 231.0526315789474 481.86396691869874 241.57894736842107 481.86396691869874\" stroke=\"yellow\" stroke-width=\"2\"/><path d=\"M 136.31578947368422 510 136.31578947368422 480.05568961326\" stroke=\"green\" stroke-width=\"2\"/><path d=\"M 146.84210526315792 510 146.84210526315792 480.05568961326\" stroke=\"green\" stroke-width=\"2\"/><path d=\"M 136.31578947368422 480.05568961326 146.84210526315792 480.05568961326\" stroke=\"green\" stroke-width=\"2\"/><path d=\"M 478.42105263157896 493.2388237364575 478.42105263157896 479.4122075485435\" stroke=\"orange\" stroke-width=\"2\"/><path d=\"M 494.2105263157895 510 494.2105263157895 479.4122075485435\" stroke=\"orange\" stroke-width=\"2\"/><path d=\"M 478.42105263157896 479.4122075485435 494.2105263157895 479.4122075485435\" stroke=\"orange\" stroke-width=\"2\"/><path d=\"M 623.1578947368421 485.3767496070997 623.1578947368421 479.33825300996483\" stroke=\"blue\" stroke-width=\"2\"/><path d=\"M 641.578947368421 510 641.578947368421 479.33825300996483\" stroke=\"blue\" stroke-width=\"2\"/><path d=\"M 623.1578947368421 479.33825300996483 641.578947368421 479.33825300996483\" stroke=\"blue\" stroke-width=\"2\"/><path d=\"M 925.7894736842106 510 925.7894736842106 476.83496690054704\" stroke=\"fuchsia\" stroke-width=\"2\"/><path d=\"M 936.3157894736843 510 936.3157894736843 476.83496690054704\" stroke=\"fuchsia\" stroke-width=\"2\"/><path d=\"M 925.7894736842106 476.83496690054704 936.3157894736843 476.83496690054704\" stroke=\"fuchsia\" stroke-width=\"2\"/><path d=\"M 583.6842105263158 496.6389385229691 583.6842105263158 476.29071084191935\" stroke=\"blue\" stroke-width=\"2\"/><path d=\"M 599.4736842105264 510 599.4736842105264 476.29071084191935\" stroke=\"blue\" stroke-width=\"2\"/><path d=\"M 583.6842105263158 476.29071084191935 599.4736842105264 476.29071084191935\" stroke=\"blue\" stroke-width=\"2\"/><path d=\"M 73.15789473684211 510 73.15789473684211 475.50211792558576\" stroke=\"green\" stroke-width=\"2\"/><path d=\"M 88.94736842105263 487.27176724249847 88.94736842105263 475.50211792558576\" stroke=\"green\" stroke-width=\"2\"/><path d=\"M 73.15789473684211 475.50211792558576 88.94736842105263 475.50211792558576\" stroke=\"green\" stroke-width=\"2\"/><path d=\"M 436.3157894736843 498.12150067017564 436.3157894736843 475.09749120822363\" stroke=\"orange\" stroke-width=\"2\"/><path d=\"M 452.1052631578948 510 452.1052631578948 475.09749120822363\" stroke=\"orange\" stroke-width=\"2\"/><path d=\"M 436.3157894736843 475.09749120822363 452.1052631578948 475.09749120822363\" stroke=\"orange\" stroke-width=\"2\"/><path d=\"M 394.2105263157895 495.29228303516817 394.2105263157895 473.73285047404863\" stroke=\"orange\" stroke-width=\"2\"/><path d=\"M 410.0 510 410.0 473.73285047404863\" stroke=\"orange\" stroke-width=\"2\"/><path d=\"M 394.2105263157895 473.73285047404863 410.0 473.73285047404863\" stroke=\"orange\" stroke-width=\"2\"/><path d=\"M 288.94736842105266 496.083728525327 288.94736842105266 473.58979799249806\" stroke=\"purple\" stroke-width=\"2\"/><path d=\"M 304.7368421052632 510 304.7368421052632 473.58979799249806\" stroke=\"purple\" stroke-width=\"2\"/><path d=\"M 288.94736842105266 473.58979799249806 304.7368421052632 473.58979799249806\" stroke=\"purple\" stroke-width=\"2\"/><path d=\"M 778.421052631579 510 778.421052631579 470.8044232718549\" stroke=\"red\" stroke-width=\"2\"/><path d=\"M 788.9473684210527 510 788.9473684210527 470.8044232718549\" stroke=\"red\" stroke-width=\"2\"/><path d=\"M 778.421052631579 470.8044232718549 788.9473684210527 470.8044232718549\" stroke=\"red\" stroke-width=\"2\"/><path d=\"M 632.3684210526316 479.33825300996483 632.3684210526316 469.00230727740495\" stroke=\"blue\" stroke-width=\"2\"/><path d=\"M 652.1052631578948 510 652.1052631578948 469.00230727740495\" stroke=\"blue\" stroke-width=\"2\"/><path d=\"M 632.3684210526316 469.00230727740495 652.1052631578948 469.00230727740495\" stroke=\"blue\" stroke-width=\"2\"/><path d=\"M 931.0526315789475 476.83496690054704 931.0526315789475 468.67465359999875\" stroke=\"fuchsia\" stroke-width=\"2\"/><path d=\"M 946.8421052631579 510 946.8421052631579 468.67465359999875\" stroke=\"fuchsia\" stroke-width=\"2\"/><path d=\"M 931.0526315789475 468.67465359999875 946.8421052631579 468.67465359999875\" stroke=\"fuchsia\" stroke-width=\"2\"/><path d=\"M 141.57894736842107 480.05568961326 141.57894736842107 465.14496165734255\" stroke=\"green\" stroke-width=\"2\"/><path d=\"M 162.63157894736844 497.09202387564454 162.63157894736844 465.14496165734255\" stroke=\"green\" stroke-width=\"2\"/><path d=\"M 141.57894736842107 465.14496165734255 162.63157894736844 465.14496165734255\" stroke=\"green\" stroke-width=\"2\"/><path d=\"M 504.7368421052632 510 504.7368421052632 464.93196871594216\" stroke=\"blue\" stroke-width=\"2\"/><path d=\"M 520.5263157894738 489.88260813698196 520.5263157894738 464.93196871594216\" stroke=\"blue\" stroke-width=\"2\"/><path d=\"M 504.7368421052632 464.93196871594216 520.5263157894738 464.93196871594216\" stroke=\"blue\" stroke-width=\"2\"/><path d=\"M 591.578947368421 476.29071084191935 591.578947368421 464.59371569680195\" stroke=\"blue\" stroke-width=\"2\"/><path d=\"M 642.2368421052631 469.00230727740495 642.2368421052631 464.59371569680195\" stroke=\"blue\" stroke-width=\"2\"/><path d=\"M 591.578947368421 464.59371569680195 642.2368421052631 464.59371569680195\" stroke=\"blue\" stroke-width=\"2\"/><path d=\"M 673.1578947368422 510 673.1578947368422 464.5511136904614\" stroke=\"blue\" stroke-width=\"2\"/><path d=\"M 688.9473684210527 493.6359372397036 688.9473684210527 464.5511136904614\" stroke=\"blue\" stroke-width=\"2\"/><path d=\"M 673.1578947368422 464.5511136904614 688.9473684210527 464.5511136904614\" stroke=\"blue\" stroke-width=\"2\"/><path d=\"M 10.0 510 10.0 464.0099161955072\" stroke=\"green\" stroke-width=\"2\"/><path d=\"M 28.42105263157895 494.37001771844535 28.42105263157895 464.0099161955072\" stroke=\"green\" stroke-width=\"2\"/><path d=\"M 10.0 464.0099161955072 28.42105263157895 464.0099161955072\" stroke=\"green\" stroke-width=\"2\"/><path d=\"M 52.10526315789474 510 52.10526315789474 462.8363471310638\" stroke=\"green\" stroke-width=\"2\"/><path d=\"M 62.631578947368425 510 62.631578947368425 462.8363471310638\" stroke=\"green\" stroke-width=\"2\"/><path d=\"M 52.10526315789474 462.8363471310638 62.631578947368425 462.8363471310638\" stroke=\"green\" stroke-width=\"2\"/><path d=\"M 894.2105263157896 510 894.2105263157896 462.5980004704985\" stroke=\"olive\" stroke-width=\"2\"/><path d=\"M 904.7368421052632 510 904.7368421052632 462.5980004704985\" stroke=\"olive\" stroke-width=\"2\"/><path d=\"M 894.2105263157896 462.5980004704985 904.7368421052632 462.5980004704985\" stroke=\"olive\" stroke-width=\"2\"/><path d=\"M 183.6842105263158 489.2150026945396 183.6842105263158 462.40942951801725\" stroke=\"yellow\" stroke-width=\"2\"/><path d=\"M 204.73684210526318 499.6553650804735 204.73684210526318 462.40942951801725\" stroke=\"yellow\" stroke-width=\"2\"/><path d=\"M 183.6842105263158 462.40942951801725 204.73684210526318 462.40942951801725\" stroke=\"yellow\" stroke-width=\"2\"/><path d=\"M 444.21052631578954 475.09749120822363 444.21052631578954 461.1322716313497\" stroke=\"orange\" stroke-width=\"2\"/><path d=\"M 462.63157894736844 510 462.63157894736844 461.1322716313497\" stroke=\"orange\" stroke-width=\"2\"/><path d=\"M 444.21052631578954 461.1322716313497 462.63157894736844 461.1322716313497\" stroke=\"orange\" stroke-width=\"2\"/><path d=\"M 873.1578947368422 510 873.1578947368422 457.9245508255602\" stroke=\"olive\" stroke-width=\"2\"/><path d=\"M 883.6842105263158 510 883.6842105263158 457.9245508255602\" stroke=\"olive\" stroke-width=\"2\"/><path d=\"M 873.1578947368422 457.9245508255602 883.6842105263158 457.9245508255602\" stroke=\"olive\" stroke-width=\"2\"/><path d=\"M 988.9473684210527 510 988.9473684210527 457.1123662948341\" stroke=\"fuchsia\" stroke-width=\"2\"/><path d=\"M 999.4736842105264 510 999.4736842105264 457.1123662948341\" stroke=\"fuchsia\" stroke-width=\"2\"/><path d=\"M 988.9473684210527 457.1123662948341 999.4736842105264 457.1123662948341\" stroke=\"fuchsia\" stroke-width=\"2\"/><path d=\"M 115.26315789473685 510 115.26315789473685 456.3914285581393\" stroke=\"green\" stroke-width=\"2\"/><path d=\"M 125.78947368421053 510 125.78947368421053 456.3914285581393\" stroke=\"green\" stroke-width=\"2\"/><path d=\"M 115.26315789473685 456.3914285581393 125.78947368421053 456.3914285581393\" stroke=\"green\" stroke-width=\"2\"/><path d=\"M 846.8421052631579 487.97432338491257 846.8421052631579 455.8991772113228\" stroke=\"red\" stroke-width=\"2\"/><path d=\"M 862.6315789473684 510 862.6315789473684 455.8991772113228\" stroke=\"red\" stroke-width=\"2\"/><path d=\"M 846.8421052631579 455.8991772113228 862.6315789473684 455.8991772113228\" stroke=\"red\" stroke-width=\"2\"/><path d=\"M 938.9473684210527 468.67465359999875 938.9473684210527 455.1515711578396\" stroke=\"fuchsia\" stroke-width=\"2\"/><path d=\"M 957.3684210526317 510 957.3684210526317 455.1515711578396\" stroke=\"fuchsia\" stroke-width=\"2\"/><path d=\"M 938.9473684210527 455.1515711578396 957.3684210526317 455.1515711578396\" stroke=\"fuchsia\" stroke-width=\"2\"/><path d=\"M 220.5263157894737 510 220.5263157894737 453.79197593630266\" stroke=\"yellow\" stroke-width=\"2\"/><path d=\"M 236.31578947368422 481.86396691869874 236.31578947368422 453.79197593630266\" stroke=\"yellow\" stroke-width=\"2\"/><path d=\"M 220.5263157894737 453.79197593630266 236.31578947368422 453.79197593630266\" stroke=\"yellow\" stroke-width=\"2\"/><path d=\"M 453.42105263157896 461.1322716313497 453.42105263157896 451.21558088697697\" stroke=\"orange\" stroke-width=\"2\"/><path d=\"M 486.3157894736842 479.4122075485435 486.3157894736842 451.21558088697697\" stroke=\"orange\" stroke-width=\"2\"/><path d=\"M 453.42105263157896 451.21558088697697 486.3157894736842 451.21558088697697\" stroke=\"orange\" stroke-width=\"2\"/><path d=\"M 57.36842105263158 462.8363471310638 57.36842105263158 442.2326342419418\" stroke=\"green\" stroke-width=\"2\"/><path d=\"M 81.05263157894737 475.50211792558576 81.05263157894737 442.2326342419418\" stroke=\"green\" stroke-width=\"2\"/><path d=\"M 57.36842105263158 442.2326342419418 81.05263157894737 442.2326342419418\" stroke=\"green\" stroke-width=\"2\"/><path d=\"M 512.6315789473684 464.93196871594216 512.6315789473684 439.3876594996894\" stroke=\"blue\" stroke-width=\"2\"/><path d=\"M 536.3157894736843 510 536.3157894736843 439.3876594996894\" stroke=\"blue\" stroke-width=\"2\"/><path d=\"M 512.6315789473684 439.3876594996894 536.3157894736843 439.3876594996894\" stroke=\"blue\" stroke-width=\"2\"/><path d=\"M 899.4736842105265 462.5980004704985 899.4736842105265 439.26103856767855\" stroke=\"olive\" stroke-width=\"2\"/><path d=\"M 915.2631578947369 510 915.2631578947369 439.26103856767855\" stroke=\"olive\" stroke-width=\"2\"/><path d=\"M 899.4736842105265 439.26103856767855 915.2631578947369 439.26103856767855\" stroke=\"olive\" stroke-width=\"2\"/><path d=\"M 783.6842105263158 470.8044232718549 783.6842105263158 437.3653266933886\" stroke=\"red\" stroke-width=\"2\"/><path d=\"M 799.4736842105264 510 799.4736842105264 437.3653266933886\" stroke=\"red\" stroke-width=\"2\"/><path d=\"M 783.6842105263158 437.3653266933886 799.4736842105264 437.3653266933886\" stroke=\"red\" stroke-width=\"2\"/><path d=\"M 367.8947368421053 510 367.8947368421053 436.9281201297957\" stroke=\"purple\" stroke-width=\"2\"/><path d=\"M 378.42105263157896 510 378.42105263157896 436.9281201297957\" stroke=\"purple\" stroke-width=\"2\"/><path d=\"M 367.8947368421053 436.9281201297957 378.42105263157896 436.9281201297957\" stroke=\"purple\" stroke-width=\"2\"/><path d=\"M 704.7368421052632 510 704.7368421052632 426.10576682487226\" stroke=\"red\" stroke-width=\"2\"/><path d=\"M 715.2631578947369 510 715.2631578947369 426.10576682487226\" stroke=\"red\" stroke-width=\"2\"/><path d=\"M 704.7368421052632 426.10576682487226 715.2631578947369 426.10576682487226\" stroke=\"red\" stroke-width=\"2\"/><path d=\"M 973.1578947368421 498.44990987074885 973.1578947368421 414.6008672918846\" stroke=\"fuchsia\" stroke-width=\"2\"/><path d=\"M 994.2105263157896 457.1123662948341 994.2105263157896 414.6008672918846\" stroke=\"fuchsia\" stroke-width=\"2\"/><path d=\"M 973.1578947368421 414.6008672918846 994.2105263157896 414.6008672918846\" stroke=\"fuchsia\" stroke-width=\"2\"/><path d=\"M 228.42105263157896 453.79197593630266 228.42105263157896 411.83477586288274\" stroke=\"yellow\" stroke-width=\"2\"/><path d=\"M 252.10526315789474 510 252.10526315789474 411.83477586288274\" stroke=\"yellow\" stroke-width=\"2\"/><path d=\"M 228.42105263157896 411.83477586288274 252.10526315789474 411.83477586288274\" stroke=\"yellow\" stroke-width=\"2\"/><path d=\"M 402.10526315789474 473.73285047404863 402.10526315789474 409.83303694063346\" stroke=\"orange\" stroke-width=\"2\"/><path d=\"M 420.5263157894737 510 420.5263157894737 409.83303694063346\" stroke=\"orange\" stroke-width=\"2\"/><path d=\"M 402.10526315789474 409.83303694063346 420.5263157894737 409.83303694063346\" stroke=\"orange\" stroke-width=\"2\"/><path d=\"M 546.8421052631579 510 546.8421052631579 409.5368430679017\" stroke=\"blue\" stroke-width=\"2\"/><path d=\"M 562.6315789473686 493.0245922784266 562.6315789473686 409.5368430679017\" stroke=\"blue\" stroke-width=\"2\"/><path d=\"M 546.8421052631579 409.5368430679017 562.6315789473686 409.5368430679017\" stroke=\"blue\" stroke-width=\"2\"/><path d=\"M 331.0526315789474 487.14117160507425 331.0526315789474 402.9486239263514\" stroke=\"purple\" stroke-width=\"2\"/><path d=\"M 357.3684210526316 510 357.3684210526316 402.9486239263514\" stroke=\"purple\" stroke-width=\"2\"/><path d=\"M 331.0526315789474 402.9486239263514 357.3684210526316 402.9486239263514\" stroke=\"purple\" stroke-width=\"2\"/><path d=\"M 273.15789473684214 510 273.15789473684214 399.03380595045064\" stroke=\"purple\" stroke-width=\"2\"/><path d=\"M 296.8421052631579 473.58979799249806 296.8421052631579 399.03380595045064\" stroke=\"purple\" stroke-width=\"2\"/><path d=\"M 273.15789473684214 399.03380595045064 296.8421052631579 399.03380595045064\" stroke=\"purple\" stroke-width=\"2\"/><path d=\"M 878.421052631579 457.9245508255602 878.421052631579 392.43253093416877\" stroke=\"olive\" stroke-width=\"2\"/><path d=\"M 907.3684210526317 439.26103856767855 907.3684210526317 392.43253093416877\" stroke=\"olive\" stroke-width=\"2\"/><path d=\"M 878.421052631579 392.43253093416877 907.3684210526317 392.43253093416877\" stroke=\"olive\" stroke-width=\"2\"/><path d=\"M 810.0 510 810.0 386.8638689361187\" stroke=\"red\" stroke-width=\"2\"/><path d=\"M 820.5263157894738 510 820.5263157894738 386.8638689361187\" stroke=\"red\" stroke-width=\"2\"/><path d=\"M 810.0 386.8638689361187 820.5263157894738 386.8638689361187\" stroke=\"red\" stroke-width=\"2\"/><path d=\"M 710.0 426.10576682487226 710.0 385.2096418656475\" stroke=\"red\" stroke-width=\"2\"/><path d=\"M 725.7894736842106 510 725.7894736842106 385.2096418656475\" stroke=\"red\" stroke-width=\"2\"/><path d=\"M 710.0 385.2096418656475 725.7894736842106 385.2096418656475\" stroke=\"red\" stroke-width=\"2\"/><path d=\"M 19.210526315789473 464.0099161955072 19.210526315789473 384.47617286499656\" stroke=\"green\" stroke-width=\"2\"/><path d=\"M 69.21052631578948 442.2326342419418 69.21052631578948 384.47617286499656\" stroke=\"green\" stroke-width=\"2\"/><path d=\"M 19.210526315789473 384.47617286499656 69.21052631578948 384.47617286499656\" stroke=\"green\" stroke-width=\"2\"/><path d=\"M 120.5263157894737 456.3914285581393 120.5263157894737 382.59715161813125\" stroke=\"green\" stroke-width=\"2\"/><path d=\"M 152.10526315789474 465.14496165734255 152.10526315789474 382.59715161813125\" stroke=\"green\" stroke-width=\"2\"/><path d=\"M 120.5263157894737 382.59715161813125 152.10526315789474 382.59715161813125\" stroke=\"green\" stroke-width=\"2\"/><path d=\"M 616.9078947368421 464.59371569680195 616.9078947368421 380.38446543983724\" stroke=\"blue\" stroke-width=\"2\"/><path d=\"M 662.6315789473684 510 662.6315789473684 380.38446543983724\" stroke=\"blue\" stroke-width=\"2\"/><path d=\"M 616.9078947368421 380.38446543983724 662.6315789473684 380.38446543983724\" stroke=\"blue\" stroke-width=\"2\"/><path d=\"M 717.8947368421053 385.2096418656475 717.8947368421053 374.3929505996439\" stroke=\"red\" stroke-width=\"2\"/><path d=\"M 745.5263157894738 482.3923947540485 745.5263157894738 374.3929505996439\" stroke=\"red\" stroke-width=\"2\"/><path d=\"M 717.8947368421053 374.3929505996439 745.5263157894738 374.3929505996439\" stroke=\"red\" stroke-width=\"2\"/><path d=\"M 815.2631578947369 386.8638689361187 815.2631578947369 367.1637462382293\" stroke=\"red\" stroke-width=\"2\"/><path d=\"M 831.0526315789474 510 831.0526315789474 367.1637462382293\" stroke=\"red\" stroke-width=\"2\"/><path d=\"M 815.2631578947369 367.1637462382293 831.0526315789474 367.1637462382293\" stroke=\"red\" stroke-width=\"2\"/><path d=\"M 194.21052631578948 462.40942951801725 194.21052631578948 366.2563579473979\" stroke=\"yellow\" stroke-width=\"2\"/><path d=\"M 240.26315789473685 411.83477586288274 240.26315789473685 366.2563579473979\" stroke=\"yellow\" stroke-width=\"2\"/><path d=\"M 194.21052631578948 366.2563579473979 240.26315789473685 366.2563579473979\" stroke=\"yellow\" stroke-width=\"2\"/><path d=\"M 731.7105263157896 374.3929505996439 731.7105263157896 359.83024298605136\" stroke=\"red\" stroke-width=\"2\"/><path d=\"M 791.578947368421 437.3653266933886 791.578947368421 359.83024298605136\" stroke=\"red\" stroke-width=\"2\"/><path d=\"M 731.7105263157896 359.83024298605136 791.578947368421 359.83024298605136\" stroke=\"red\" stroke-width=\"2\"/><path d=\"M 639.7697368421052 380.38446543983724 639.7697368421052 355.00373965668894\" stroke=\"blue\" stroke-width=\"2\"/><path d=\"M 681.0526315789475 464.5511136904614 681.0526315789475 355.00373965668894\" stroke=\"blue\" stroke-width=\"2\"/><path d=\"M 639.7697368421052 355.00373965668894 681.0526315789475 355.00373965668894\" stroke=\"blue\" stroke-width=\"2\"/><path d=\"M 285.0 399.03380595045064 285.0 353.44400081137576\" stroke=\"purple\" stroke-width=\"2\"/><path d=\"M 344.2105263157895 402.9486239263514 344.2105263157895 353.44400081137576\" stroke=\"purple\" stroke-width=\"2\"/><path d=\"M 285.0 353.44400081137576 344.2105263157895 353.44400081137576\" stroke=\"purple\" stroke-width=\"2\"/><path d=\"M 948.1578947368422 455.1515711578396 948.1578947368422 352.2770544924373\" stroke=\"fuchsia\" stroke-width=\"2\"/><path d=\"M 983.6842105263158 414.6008672918846 983.6842105263158 352.2770544924373\" stroke=\"fuchsia\" stroke-width=\"2\"/><path d=\"M 948.1578947368422 352.2770544924373 983.6842105263158 352.2770544924373\" stroke=\"fuchsia\" stroke-width=\"2\"/><path d=\"M 44.21052631578948 384.47617286499656 44.21052631578948 351.33572769958437\" stroke=\"green\" stroke-width=\"2\"/><path d=\"M 104.73684210526316 510 104.73684210526316 351.33572769958437\" stroke=\"green\" stroke-width=\"2\"/><path d=\"M 44.21052631578948 351.33572769958437 104.73684210526316 351.33572769958437\" stroke=\"green\" stroke-width=\"2\"/><path d=\"M 823.1578947368421 367.1637462382293 823.1578947368421 335.15005402924817\" stroke=\"red\" stroke-width=\"2\"/><path d=\"M 854.7368421052631 455.8991772113228 854.7368421052631 335.15005402924817\" stroke=\"red\" stroke-width=\"2\"/><path d=\"M 823.1578947368421 335.15005402924817 854.7368421052631 335.15005402924817\" stroke=\"red\" stroke-width=\"2\"/><path d=\"M 524.4736842105264 439.3876594996894 524.4736842105264 310.5893218118745\" stroke=\"blue\" stroke-width=\"2\"/><path d=\"M 554.7368421052632 409.5368430679017 554.7368421052632 310.5893218118745\" stroke=\"blue\" stroke-width=\"2\"/><path d=\"M 524.4736842105264 310.5893218118745 554.7368421052632 310.5893218118745\" stroke=\"blue\" stroke-width=\"2\"/><path d=\"M 217.23684210526318 366.2563579473979 217.23684210526318 310.46042022809183\" stroke=\"yellow\" stroke-width=\"2\"/><path d=\"M 262.63157894736844 510 262.63157894736844 310.46042022809183\" stroke=\"yellow\" stroke-width=\"2\"/><path d=\"M 217.23684210526318 310.46042022809183 262.63157894736844 310.46042022809183\" stroke=\"yellow\" stroke-width=\"2\"/><path d=\"M 761.6447368421053 359.83024298605136 761.6447368421053 307.1136430681387\" stroke=\"red\" stroke-width=\"2\"/><path d=\"M 838.9473684210526 335.15005402924817 838.9473684210526 307.1136430681387\" stroke=\"red\" stroke-width=\"2\"/><path d=\"M 761.6447368421053 307.1136430681387 838.9473684210526 307.1136430681387\" stroke=\"red\" stroke-width=\"2\"/><path d=\"M 74.47368421052633 351.33572769958437 74.47368421052633 299.0140587134612\" stroke=\"green\" stroke-width=\"2\"/><path d=\"M 136.31578947368422 382.59715161813125 136.31578947368422 299.0140587134612\" stroke=\"green\" stroke-width=\"2\"/><path d=\"M 74.47368421052633 299.0140587134612 136.31578947368422 299.0140587134612\" stroke=\"green\" stroke-width=\"2\"/><path d=\"M 411.3157894736842 409.83303694063346 411.3157894736842 286.7462085632807\" stroke=\"orange\" stroke-width=\"2\"/><path d=\"M 469.86842105263156 451.21558088697697 469.86842105263156 286.7462085632807\" stroke=\"orange\" stroke-width=\"2\"/><path d=\"M 411.3157894736842 286.7462085632807 469.86842105263156 286.7462085632807\" stroke=\"orange\" stroke-width=\"2\"/><path d=\"M 314.60526315789474 353.44400081137576 314.60526315789474 282.9404532047072\" stroke=\"purple\" stroke-width=\"2\"/><path d=\"M 373.15789473684214 436.9281201297957 373.15789473684214 282.9404532047072\" stroke=\"purple\" stroke-width=\"2\"/><path d=\"M 314.60526315789474 282.9404532047072 373.15789473684214 282.9404532047072\" stroke=\"purple\" stroke-width=\"2\"/><path d=\"M 539.6052631578948 310.5893218118745 539.6052631578948 277.75093652345333\" stroke=\"blue\" stroke-width=\"2\"/><path d=\"M 660.4111842105264 355.00373965668894 660.4111842105264 277.75093652345333\" stroke=\"blue\" stroke-width=\"2\"/><path d=\"M 539.6052631578948 277.75093652345333 660.4111842105264 277.75093652345333\" stroke=\"blue\" stroke-width=\"2\"/><path d=\"M 105.39473684210527 299.0140587134612 105.39473684210527 254.00193182009585\" stroke=\"black\" stroke-width=\"2\"/><path d=\"M 239.9342105263158 310.46042022809183 239.9342105263158 254.00193182009585\" stroke=\"black\" stroke-width=\"2\"/><path d=\"M 105.39473684210527 254.00193182009585 239.9342105263158 254.00193182009585\" stroke=\"black\" stroke-width=\"2\"/><path d=\"M 800.296052631579 307.1136430681387 800.296052631579 250.48601073913198\" stroke=\"black\" stroke-width=\"2\"/><path d=\"M 892.8947368421053 392.43253093416877 892.8947368421053 250.48601073913198\" stroke=\"black\" stroke-width=\"2\"/><path d=\"M 800.296052631579 250.48601073913198 892.8947368421053 250.48601073913198\" stroke=\"black\" stroke-width=\"2\"/><path d=\"M 172.66447368421055 254.00193182009585 172.66447368421055 231.19874923185142\" stroke=\"black\" stroke-width=\"2\"/><path d=\"M 343.88157894736844 282.9404532047072 343.88157894736844 231.19874923185142\" stroke=\"black\" stroke-width=\"2\"/><path d=\"M 172.66447368421055 231.19874923185142 343.88157894736844 231.19874923185142\" stroke=\"black\" stroke-width=\"2\"/><path d=\"M 846.5953947368421 250.48601073913198 846.5953947368421 172.6887083475574\" stroke=\"black\" stroke-width=\"2\"/><path d=\"M 965.921052631579 352.2770544924373 965.921052631579 172.6887083475574\" stroke=\"black\" stroke-width=\"2\"/><path d=\"M 846.5953947368421 172.6887083475574 965.921052631579 172.6887083475574\" stroke=\"black\" stroke-width=\"2\"/><path d=\"M 258.2730263157895 231.19874923185142 258.2730263157895 168.141121246306\" stroke=\"black\" stroke-width=\"2\"/><path d=\"M 440.5921052631579 286.7462085632807 440.5921052631579 168.141121246306\" stroke=\"black\" stroke-width=\"2\"/><path d=\"M 258.2730263157895 168.141121246306 440.5921052631579 168.141121246306\" stroke=\"black\" stroke-width=\"2\"/><path d=\"M 349.4325657894737 168.141121246306 349.4325657894737 43.764667561949636\" stroke=\"black\" stroke-width=\"2\"/><path d=\"M 600.0082236842106 277.75093652345333 600.0082236842106 43.764667561949636\" stroke=\"black\" stroke-width=\"2\"/><path d=\"M 349.4325657894737 43.764667561949636 600.0082236842106 43.764667561949636\" stroke=\"black\" stroke-width=\"2\"/><path d=\"M 474.7203947368422 43.764667561949636 474.7203947368422 10.0\" stroke=\"black\" stroke-width=\"2\"/><path d=\"M 906.2582236842105 172.6887083475574 906.2582236842105 10.0\" stroke=\"black\" stroke-width=\"2\"/><path d=\"M 474.7203947368422 10.0 906.2582236842105 10.0\" stroke=\"black\" stroke-width=\"2\"/></svg>"
          },
          "metadata": {},
          "execution_count": 592
        }
      ]
    },
    {
      "cell_type": "markdown",
      "source": [
        "**Metrics**"
      ],
      "metadata": {
        "id": "KPrX2TWDSq9a"
      }
    },
    {
      "cell_type": "code",
      "source": [
        "nodelist = list(G_reduced.nodes)\n",
        "labels = list(cut_straight(dendrogram, n_clusters=8, return_dendrogram=False))\n",
        "\n",
        "community_dend = [[],[],[],[],[],[],[],[]]\n",
        "i = 0\n",
        "for node in nodelist:\n",
        "  community_dend[labels[i]].append(node)\n",
        "  i += 1\n",
        "\n",
        "_ = compute_metrics(G_reduced, community_dend)"
      ],
      "metadata": {
        "colab": {
          "base_uri": "https://localhost:8080/"
        },
        "outputId": "8b55cc7e-a806-4011-c842-cceccbd2be26",
        "id": "hFJQFd7MSq9a"
      },
      "execution_count": 593,
      "outputs": [
        {
          "output_type": "stream",
          "name": "stdout",
          "text": [
            "Coverage:  0.24895104895104894\n",
            "Performance:  0.7059350503919373\n",
            "Modularity:  0.17513355098491284\n"
          ]
        }
      ]
    },
    {
      "cell_type": "markdown",
      "source": [
        "### Big clam"
      ],
      "metadata": {
        "id": "KJnMPQ24Sq9a"
      }
    },
    {
      "cell_type": "code",
      "source": [
        "G_copy = G.copy()\n",
        "G_copy = nx.convert_node_labels_to_integers(G_copy, first_label=0, ordering='sorted')\n",
        "\n",
        "index_list = [index for index in range(G.number_of_nodes())]\n",
        "node_list = sorted([node for node in G.nodes()])\n",
        "\n",
        "clusters = big_clam(G_copy)\n",
        "communities = clusters.communities\n",
        "\n",
        "dictionary_bigClam = {}\n",
        "for idx in index_list:\n",
        "  dictionary_bigClam[idx] = node_list[idx]\n",
        "\n",
        "print('Number of communities:', len(communities))"
      ],
      "metadata": {
        "colab": {
          "base_uri": "https://localhost:8080/"
        },
        "outputId": "75a25a88-a14c-4d38-b201-1feee4565264",
        "id": "dVB6WWPySq9a"
      },
      "execution_count": 79,
      "outputs": [
        {
          "output_type": "stream",
          "name": "stdout",
          "text": [
            "Number of communities: 3\n"
          ]
        }
      ]
    },
    {
      "cell_type": "code",
      "source": [
        "bigClam_comm = [[],[],[]]\n",
        "for c in range(len(communities)):\n",
        "  for idx in range(len(communities[c])):\n",
        "    bigClam_comm[c].append(dictionary_bigClam[communities[c][idx]])\n",
        "\n",
        "print(bigClam_comm[0])\n",
        "print(bigClam_comm[1])\n",
        "print(bigClam_comm[2])"
      ],
      "metadata": {
        "colab": {
          "base_uri": "https://localhost:8080/"
        },
        "outputId": "b23d9386-a83a-445f-da8c-90dfba6cd2ff",
        "id": "JuCbSSMbSq9a"
      },
      "execution_count": 80,
      "outputs": [
        {
          "output_type": "stream",
          "name": "stdout",
          "text": [
            "['aboard', 'across', 'aid', 'air', 'allow', 'already', 'also', 'amid', 'among', 'animal', 'announce', 'another', 'apple', 'around', 'avoid', 'away', 'back', 'ban', 'base', 'battle', 'become', 'bed', 'beijing', 'best', 'beyond', 'big', 'billion', 'board', 'brief', 'build', 'business', 'california', 'call', 'cancel', 'care', 'carry', 'cause', 'central', 'check', 'chief', 'child', 'citizen', 'clinical', 'combat', 'commission', 'community', 'company', 'concern', 'condition', 'conference', 'confidence', 'contact', 'continue', 'critical', 'curb', 'cure', 'cut', 'daily', 'data', 'dead', 'deadly', 'declare', 'demand', 'department', 'despite', 'development', 'diagnose', 'diamond', 'die', 'director', 'dock', 'doctor', 'dollar', 'donate', 'drop', 'due', 'early', 'east', 'economic', 'economy', 'emergency', 'end', 'epicenter', 'evacuate', 'evacuee', 'expect', 'expert', 'express', 'face', 'facility', 'fall', 'family', 'far', 'fast', 'fear', 'find', 'five', 'flight', 'flu', 'follow', 'food', 'force', 'foreign', 'france', 'full', 'general', 'get', 'give', 'globally', 'government', 'great', 'grow', 'hand', 'hard', 'high', 'hit', 'hold', 'holiday', 'home', 'human', 'illness', 'impact', 'include', 'increase', 'infected', 'inside', 'international', 'isolation', 'japanese', 'jinping', 'keep', 'kill', 'know', 'korea', 'large', 'last', 'lead', 'leader', 'least', 'leave', 'level', 'life', 'like', 'line', 'local', 'long', 'look', 'lunar', 'macao', 'major', 'make', 'makeshift', 'man', 'many', 'market', 'mask', 'may', 'measure', 'medic', 'medicine', 'medium', 'meet', 'meeting', 'military', 'minister', 'ministry', 'miss', 'model', 'mother', 'must', 'nearly', 'need', 'negative', 'newly', 'nurse', 'offer', 'organization', 'pandemic', 'part', 'pass', 'person', 'phone', 'plane', 'pneumonia', 'police', 'positive', 'president', 'press', 'prevent', 'prevention', 'princess', 'production', 'protect', 'public', 'put', 'race', 'raise', 'rate', 'reach', 'read', 'receive', 'recently', 'record', 'recover', 'recovery', 'related', 'release', 'remain', 'reporter', 'resident', 'respiratory', 'response', 'restriction', 'result', 'return', 'rise', 'risk', 'robot', 'sale', 'second', 'see', 'send', 'service', 'set', 'severe', 'share', 'shortage', 'show', 'since', 'singapore', 'six', 'social', 'solidarity', 'source', 'special', 'spreading', 'staff', 'stand', 'start', 'statement', 'stay', 'step', 'still', 'stock', 'stop', 'strand', 'street', 'strong', 'student', 'supply', 'suspect', 'suspected', 'symptom', 'taiwan', 'talk', 'team', 'tell', 'temporarily', 'thousand', 'threat', 'three', 'time', 'together', 'top', 'trade', 'treat', 'treatment', 'trial', 'trump', 'united', 'university', 'urge', 'use', 'video', 'visit', 'wall', 'wang', 'warn', 'wash', 'wear', 'week', 'win', 'wish', 'woman', 'work', 'would', 'xinhua', 'yuan']\n",
            "['accord', 'affect', 'airport', 'anti', 'area', 'arrive', 'asia', 'asian', 'ask', 'australia', 'australian', 'authority', 'baby', 'begin', 'border', 'bring', 'case', 'charter', 'china', 'city', 'close', 'come', 'confirm', 'confirmed', 'construction', 'contain', 'contract', 'control', 'cough', 'could', 'country', 'cruise', 'day', 'deal', 'death', 'develop', 'discharge', 'drug', 'ensure', 'epidemic', 'extend', 'fight', 'firm', 'first', 'four', 'front', 'fund', 'global', 'good', 'group', 'growth', 'head', 'headline', 'health', 'hong', 'hospital', 'hubei', 'hundred', 'industry', 'infect', 'infection', 'infectious', 'information', 'investor', 'issue', 'japan', 'join', 'late', 'leishenshan', 'live', 'low', 'medical', 'million', 'move', 'much', 'national', 'new', 'news', 'nine', 'novel', 'number', 'office', 'officer', 'official', 'one', 'order', 'outbreak', 'panic', 'party', 'passenger', 'patient', 'people', 'place', 'plan', 'possible', 'protective', 'province', 'quarantine', 'quarter', 'region', 'report', 'research', 'researcher', 'say', 'scientist', 'sell', 'shanghai', 'ship', 'situation', 'slow', 'south', 'spread', 'state', 'story', 'study', 'surgical', 'suspend', 'system', 'take', 'test', 'thailand', 'toll', 'total', 'transmission', 'travel', 'try', 'two', 'update', 'virus', 'watch', 'way', 'worker', 'world', 'year']\n",
            "['center', 'disease', 'effort', 'help', 'month', 'old', 'outside', 'support']\n"
          ]
        }
      ]
    },
    {
      "cell_type": "code",
      "source": [
        "for node in G.nodes():\n",
        "  if node in bigClam_comm[0] and node in bigClam_comm[1]:\n",
        "    print(node + ' is present in communities 0 and 1')\n",
        "  if node in bigClam_comm[0] and node in bigClam_comm[2]:\n",
        "    print(node + ' is present in communities 0 and 2')\n",
        "  if node in bigClam_comm[1] and node in bigClam_comm[2]:\n",
        "    print(node + ' is present in communities 1 and 2')"
      ],
      "metadata": {
        "id": "PLaCd5N_Sq9b"
      },
      "execution_count": 81,
      "outputs": []
    },
    {
      "cell_type": "markdown",
      "source": [
        "no overlapping"
      ],
      "metadata": {
        "id": "3f2NQVZiSq9b"
      }
    },
    {
      "cell_type": "code",
      "source": [
        "threshold = 0.001\n",
        "for i in range(len(bigClam_comm)):\n",
        "  sum_China, sum_USA, sum_China_USA = community_check(bigClam_comm[i], freq_dict_China, freq_dict_USA, G_China, G_USA, threshold)\n",
        "  print('Community: ', i)\n",
        "  print('China: ', round(100 * sum_China / len(bigClam_comm[i])),'%')\n",
        "  print('USA: ', round(100 * sum_USA / len(bigClam_comm[i])),'%')\n",
        "  print('China&USA: ', round(100 * sum_China_USA / len(bigClam_comm[i])),'%')\n",
        "  print()"
      ],
      "metadata": {
        "colab": {
          "base_uri": "https://localhost:8080/"
        },
        "outputId": "98520444-6dee-4465-f817-cbcc21c722de",
        "id": "mXny_JveSq9b"
      },
      "execution_count": 82,
      "outputs": [
        {
          "output_type": "stream",
          "name": "stdout",
          "text": [
            "Community:  0\n",
            "China:  9 %\n",
            "USA:  10 %\n",
            "China&USA:  80 %\n",
            "\n",
            "Community:  1\n",
            "China:  13 %\n",
            "USA:  16 %\n",
            "China&USA:  70 %\n",
            "\n",
            "Community:  2\n",
            "China:  25 %\n",
            "USA:  0 %\n",
            "China&USA:  75 %\n",
            "\n"
          ]
        }
      ]
    },
    {
      "cell_type": "markdown",
      "source": [
        "**Metrics**"
      ],
      "metadata": {
        "id": "Vduwd523Sq9b"
      }
    },
    {
      "cell_type": "code",
      "source": [
        "_ = compute_metrics(G, bigClam_comm)"
      ],
      "metadata": {
        "colab": {
          "base_uri": "https://localhost:8080/"
        },
        "outputId": "2d733caa-3083-4d02-d1e3-a568506682e6",
        "id": "QnqnRIkYSq9b"
      },
      "execution_count": 83,
      "outputs": [
        {
          "output_type": "stream",
          "name": "stdout",
          "text": [
            "Coverage:  0.41858815182688897\n",
            "Performance:  0.4500352360817477\n",
            "Modularity:  -0.04560932539559829\n"
          ]
        }
      ]
    },
    {
      "cell_type": "markdown",
      "source": [
        "#### display"
      ],
      "metadata": {
        "id": "v9MSlp0vSq9c"
      }
    },
    {
      "cell_type": "code",
      "source": [
        "colors = list(G.nodes)\n",
        "i = 0\n",
        "dict_nodes = {}\n",
        "for node in colors:\n",
        "  if node in bigClam_comm[0]:\n",
        "    colors[i] = 'violet'\n",
        "    dict_nodes[node] = 0\n",
        "  if node in bigClam_comm[1]:\n",
        "    colors[i] = 'lightcoral'\n",
        "    dict_nodes[node] = 1\n",
        "  if node in bigClam_comm[2]:\n",
        "    colors[i] = 'lawngreen'\n",
        "    dict_nodes[node] = 2\n",
        "  i += 1"
      ],
      "metadata": {
        "id": "PSWPg4SBSq9c"
      },
      "execution_count": null,
      "outputs": []
    },
    {
      "cell_type": "code",
      "source": [
        "pos = community_layout(G, dict_nodes)\n",
        "fig = plt.figure(1, figsize=(200, 80), dpi=60)\n",
        "nx.draw_networkx(G, pos, node_color=colors, node_size=5000, with_labels=True,\n",
        "                 font_size =50,width=0.05)\n",
        "plt.show()"
      ],
      "metadata": {
        "id": "Ea0lks0tSq9c"
      },
      "execution_count": null,
      "outputs": []
    },
    {
      "cell_type": "markdown",
      "source": [
        "## **SeptOct2020**"
      ],
      "metadata": {
        "id": "eY80GTUR6IhS"
      }
    },
    {
      "cell_type": "markdown",
      "source": [
        "### Download data"
      ],
      "metadata": {
        "id": "CwYziqkfTbCk"
      }
    },
    {
      "cell_type": "code",
      "source": [
        "period = '_SeptOct2020'\n",
        "China = pd.read_csv('/content/China'+period+'.csv')\n",
        "USA = pd.read_csv('/content/USA'+period+'.csv',)\n",
        "\n",
        "edges = pd.read_csv('/content/edgelist_China_USA'+period+'.csv')\n",
        "edges_China = pd.read_csv('/content/edgelist_China'+period+'.csv')\n",
        "edges_USA = pd.read_csv('/content/edgelist_USA'+period+'.csv')\n",
        "\n",
        "text_China = extract_text(China)\n",
        "text_USA = extract_text(USA)\n",
        "\n",
        "freq_dict_China = frequency_dictionary(text_China)\n",
        "freq_dict_China = dict(sorted(freq_dict_China.items(), key=lambda item: item[1], reverse = True))   #order from more frequent to less frequent word\n",
        "\n",
        "freq_dict_USA = frequency_dictionary(text_USA)\n",
        "freq_dict_USA = dict(sorted(freq_dict_USA.items(), key=lambda item: item[1], reverse = True))   #order from more frequent to less frequent word\n",
        "\n",
        "net, net_df = network_from_edges(edges)\n",
        "net_China, _ = network_from_edges(edges_China)\n",
        "net_USA, _ = network_from_edges(edges_USA)\n",
        "\n",
        "G = get_graph(net)\n",
        "nodes = G.nodes()\n",
        "G_China = get_graph(net_China)\n",
        "G_USA = get_graph(net_USA)"
      ],
      "metadata": {
        "id": "kgOVsE4TTbCl"
      },
      "execution_count": 604,
      "outputs": []
    },
    {
      "cell_type": "code",
      "source": [
        "print('China&USA:')\n",
        "print('Nodes: ',len(G.nodes()))\n",
        "print('Edges: ',len(G.edges()))\n",
        "print('Is connected: ',nx.is_connected(G))\n",
        "print()\n",
        "print('China:')\n",
        "print('Words: ',len(freq_dict_China))\n",
        "print()\n",
        "print('USA:')\n",
        "print('Words: ',len(freq_dict_USA))"
      ],
      "metadata": {
        "outputId": "a111c7e9-47a7-45c3-8832-f06204585982",
        "colab": {
          "base_uri": "https://localhost:8080/"
        },
        "id": "13JWvumVTbCl"
      },
      "execution_count": 605,
      "outputs": [
        {
          "output_type": "stream",
          "name": "stdout",
          "text": [
            "China&USA:\n",
            "Nodes:  507\n",
            "Edges:  5778\n",
            "Is connected:  True\n",
            "\n",
            "China:\n",
            "Words:  6223\n",
            "\n",
            "USA:\n",
            "Words:  19469\n"
          ]
        }
      ]
    },
    {
      "cell_type": "code",
      "source": [
        "# Graph without search keys\n",
        "G_original = G.copy()\n",
        "G.remove_node('coronavirus')\n",
        "G.remove_node('covid')\n",
        "G.remove_node('vaccine')"
      ],
      "metadata": {
        "id": "6z6Eog6cTbCl"
      },
      "execution_count": 606,
      "outputs": []
    },
    {
      "cell_type": "code",
      "source": [
        "print('Is connected: ', nx.is_connected(G))"
      ],
      "metadata": {
        "colab": {
          "base_uri": "https://localhost:8080/"
        },
        "outputId": "0f048505-7d02-4196-b57e-8c8314a7491f",
        "id": "0TLC1s3NTbCl"
      },
      "execution_count": 607,
      "outputs": [
        {
          "output_type": "stream",
          "name": "stdout",
          "text": [
            "Is connected:  False\n"
          ]
        }
      ]
    },
    {
      "cell_type": "code",
      "source": [
        "for c in nx.connected_components(G):\n",
        "  print(c)"
      ],
      "metadata": {
        "colab": {
          "base_uri": "https://localhost:8080/"
        },
        "outputId": "18ef4a5d-f365-42b2-ac35-c60571b2675e",
        "id": "PloCdo1mTbCl"
      },
      "execution_count": 608,
      "outputs": [
        {
          "output_type": "stream",
          "name": "stdout",
          "text": [
            "{'jersey', 'record', 'ask', 'wave', 'urge', 'single', 'happen', 'start', 'message', 'country', 'look', 'expose', 'young', 'rally', 'much', 'emergency', 'fear', 'brazil', 'due', 'rise', 'surpass', 'leave', 'cause', 'clinical', 'stock', 'authorization', 'serious', 'first', 'update', 'relief', 'even', 'office', 'aid', 'turn', 'effect', 'maker', 'scientist', 'job', 'employee', 'south', 'seek', 'medical', 'issue', 'sign', 'deal', 'already', 'send', 'mask', 'fauci', 'fall', 'right', 'candidate', 'continue', 'symptom', 'mark', 'court', 'winter', 'official', 'quarantine', 'review', 'supporter', 'concern', 'previous', 'become', 'top', 'prevention', 'flu', 'firm', 'joe', 'package', 'race', 'wife', 'register', 'president', 'also', 'way', 'half', 'clear', 'allow', 'die', 'director', 'struggle', 'release', 'dose', 'food', 'stage', 'expect', 'france', 'close', 'child', 'work', 'include', 'school', 'amid', 'try', 'take', 'good', 'speaker', 'nancy', 'least', 'nearly', 'democrat', 'immune', 'source', 'end', 'state', 'safe', 'campaign', 'white', 'compare', 'trail', 'season', 'join', 'nation', 'result', 'measure', 'adult', 'effort', 'staff', 'curb', 'world', 'potential', 'family', 'help', 'tweet', 'stop', 'possible', 'think', 'still', 'global', 'exclusive', 'economy', 'confirm', 'facility', 'immunity', 'say', 'health', 'gathering', 'major', 'low', 'secretary', 'team', 'resident', 'epidemic', 'real', 'senate', 'old', 'pandemic', 'appear', 'prime', 'house', 'chief', 'reopen', 'bar', 'twitter', 'test', 'return', 'get', 'like', 'republican', 'treatment', 'sen', 'general', 'remain', 'know', 'keep', 'qingdao', 'bank', 'shut', 'reed', 'condition', 'night', 'seven', 'boost', 'trump', 'part', 'experience', 'military', 'across', 'flight', 'add', 'early', 'recovery', 'company', 'four', 'care', 'strong', 'decline', 'receive', 'large', 'thousand', 'survive', 'walter', 'event', 'billion', 'breaking', 'china', 'open', 'last', 'long', 'lady', 'tally', 'million', 'raise', 'restaurant', 'political', 'town', 'follow', 'back', 'vice', 'available', 'avoid', 'morning', 'infection', 'without', 'pass', 'boom', 'student', 'hospital', 'would', 'new', 'lead', 'risk', 'death', 'university', 'national', 'video', 'find', 'resurgence', 'spike', 'fund', 'warn', 'holiday', 'physician', 'people', 'administration', 'effective', 'week', 'hold', 'negative', 'want', 'order', 'demand', 'region', 'one', 'reach', 'past', 'small', 'volunteer', 'contain', 'kamala', 'approval', 'trial', 'surge', 'well', 'home', 'system', 'worry', 'kill', 'life', 'next', 'positive', 'stay', 'might', 'impact', 'several', 'yet', 'total', 'feel', 'authority', 'research', 'head', 'recent', 'travel', 'diagnosis', 'force', 'task', 'nine', 'russia', 'stimulus', 'ahead', 'see', 'activity', 'another', 'york', 'fight', 'push', 'contact', 'base', 'member', 'india', 'election', 'prevent', 'increase', 'hick', 'age', 'congress', 'financial', 'organization', 'enough', 'within', 'five', 'protect', 'future', 'support', 'disease', 'case', 'bill', 'social', 'trend', 'two', 'market', 'level', 'set', 'minister', 'city', 'recover', 'late', 'question', 'contract', 'voter', 'use', 'virus', 'news', 'italy', 'british', 'impose', 'meet', 'federal', 'catch', 'free', 'big', 'plan', 'doctor', 'data', 'delay', 'far', 'senator', 'around', 'industry', 'give', 'change', 'drug', 'protest', 'medium', 'former', 'hard', 'french', 'trillion', 'safety', 'nationwide', 'year', 'approve', 'government', 'claim', 'almost', 'debate', 'slow', 'shot', 'handling', 'poll', 'response', 'face', 'call', 'lose', 'many', 'aide', 'crisis', 'experimental', 'number', 'johnson', 'second', 'place', 'spread', 'despite', 'announce', 'pause', 'korea', 'may', 'leader', 'live', 'post', 'vulnerable', 'likely', 'local', 'economic', 'novel', 'term', 'whether', 'pay', 'since', 'expert', 'month', 'side', 'rule', 'soon', 'milestone', 'press', 'illness', 'play', 'report', 'democratic', 'watch', 'develop', 'daily', 'public', 'australia', 'center', 'come', 'severe', 'ease', 'germany', 'penny', 'infect', 'adviser', 'researcher', 'outbreak', 'player', 'nominee', 'hope', 'vote', 'move', 'statement', 'america', 'party', 'reduce', 'control', 'supreme', 'north', 'study', 'accord', 'transmission', 'air', 'protocol', 'governor', 'supply', 'outside', 'plastic', 'mayor', 'toll', 'produce', 'provide', 'war', 'challenge', 'international', 'show', 'self', 'woman', 'commission', 'bring', 'could', 'restriction', 'begin', 'game', 'third', 'less', 'climate', 'put', 'group', 'day', 'analysis', 'time', 'win', 'share', 'antibody', 'africa', 'united', 'senior', 'battle', 'institute', 'bad', 'wear', 'amy', 'hit', 'today', 'six', 'hour', 'treat', 'make', 'offer', 'ministry', 'worker', 'business', 'mike', 'among', 'person', 'participant', 'rate', 'tell', 'coverage', 'high', 'development', 'patient', 'talk', 'promise', 'presidential', 'three', 'loss', 'benefit', 'need'}\n",
            "{'street'}\n",
            "{'service'}\n",
            "{'full'}\n",
            "{'story'}\n"
          ]
        }
      ]
    },
    {
      "cell_type": "code",
      "source": [
        "disconn_keys = []\n",
        "for c in nx.connected_components(G):\n",
        "  if len(c) == 1:\n",
        "    disconn_keys.append(list(c)[0])\n",
        "\n",
        "for key in disconn_keys:\n",
        "  G.remove_node(key)"
      ],
      "metadata": {
        "id": "dGRhCQ7JTbCl"
      },
      "execution_count": 609,
      "outputs": []
    },
    {
      "cell_type": "code",
      "source": [
        "print('Is connected: ', nx.is_connected(G))"
      ],
      "metadata": {
        "colab": {
          "base_uri": "https://localhost:8080/"
        },
        "outputId": "3cffdb3b-31c5-41ec-f293-e4422fc202cd",
        "id": "Y6wSkVqzTbCl"
      },
      "execution_count": 610,
      "outputs": [
        {
          "output_type": "stream",
          "name": "stdout",
          "text": [
            "Is connected:  True\n"
          ]
        }
      ]
    },
    {
      "cell_type": "code",
      "source": [
        "def threshold(vector,threshold):\n",
        "\n",
        "  l = [(el,vector[el]) for el in vector if vector[el] >= threshold ]\n",
        "\n",
        "  return pd.DataFrame(l)\n",
        "\n",
        "def threshold_reverse(vector,threshold):\n",
        "\n",
        "  l = [(el,vector[el]) for el in vector if vector[el] < threshold ]\n",
        "\n",
        "  return pd.DataFrame(l)"
      ],
      "metadata": {
        "id": "Gd3XGDOzTbCl"
      },
      "execution_count": 611,
      "outputs": []
    },
    {
      "cell_type": "code",
      "source": [
        "# PageRank for reducing the graph\n",
        "pr = nx.algorithms.pagerank(G, alpha = 1)\n",
        "pr = dict(sorted(pr.items(), key=lambda item: item[1],reverse = True))\n",
        "\n",
        "thr = 0.002\n",
        "len(threshold(pr,thr))"
      ],
      "metadata": {
        "outputId": "66cadce0-8242-4db4-c72a-bb3c450455b0",
        "colab": {
          "base_uri": "https://localhost:8080/"
        },
        "id": "QjMqizUWTbCm"
      },
      "execution_count": 612,
      "outputs": [
        {
          "output_type": "execute_result",
          "data": {
            "text/plain": [
              "93"
            ]
          },
          "metadata": {},
          "execution_count": 612
        }
      ]
    },
    {
      "cell_type": "code",
      "source": [
        "G_reduced = G.copy()\n",
        "nodes_to_delete = list(threshold_reverse(pr,thr)[0])\n",
        "for n in nodes_to_delete:\n",
        "    G_reduced.remove_node(n)\n",
        "\n",
        "nx.is_connected(G_reduced)"
      ],
      "metadata": {
        "outputId": "2bfa54a3-3ef7-41b2-f550-6ba2c91481b9",
        "colab": {
          "base_uri": "https://localhost:8080/"
        },
        "id": "WL9TU4j7TbCm"
      },
      "execution_count": 613,
      "outputs": [
        {
          "output_type": "execute_result",
          "data": {
            "text/plain": [
              "True"
            ]
          },
          "metadata": {},
          "execution_count": 613
        }
      ]
    },
    {
      "cell_type": "markdown",
      "source": [
        "### Bipartition\n",
        "Partition a graph into two blocks using the Kernighan–Lin algorithm."
      ],
      "metadata": {
        "id": "He6bBhJYTbCm"
      }
    },
    {
      "cell_type": "code",
      "source": [
        "community_bipart = community.kernighan_lin_bisection(G,weight='weight')\n",
        "\n",
        "print(community_bipart[0])\n",
        "print(community_bipart[1])"
      ],
      "metadata": {
        "colab": {
          "base_uri": "https://localhost:8080/"
        },
        "outputId": "2380c6cf-8ed5-41e3-8265-97bd7d065936",
        "id": "v7S3qINkTbCm"
      },
      "execution_count": 94,
      "outputs": [
        {
          "output_type": "stream",
          "name": "stdout",
          "text": [
            "{'korea', 'past', 'record', 'exclusive', 'wave', 'economy', 'confirm', 'volunteer', 'immunity', 'single', 'contain', 'health', 'may', 'gathering', 'major', 'trial', 'live', 'low', 'vulnerable', 'surge', 'start', 'local', 'resident', 'novel', 'home', 'worry', 'country', 'term', 'epidemic', 'look', 'pay', 'kill', 'life', 'real', 'young', 'since', 'expert', 'old', 'due', 'pandemic', 'impact', 'appear', 'side', 'brazil', 'prime', 'month', 'might', 'soon', 'milestone', 'rise', 'surpass', 'reopen', 'clinical', 'cause', 'bar', 'serious', 'illness', 'get', 'report', 'update', 'total', 'watch', 'daily', 'authority', 'australia', 'research', 'head', 'recent', 'force', 'keep', 'ease', 'nine', 'effect', 'maker', 'russia', 'scientist', 'qingdao', 'germany', 'see', 'bank', 'infect', 'job', 'shut', 'researcher', 'south', 'another', 'outbreak', 'york', 'issue', 'seven', 'sign', 'india', 'boost', 'increase', 'north', 'study', 'financial', 'organization', 'accord', 'already', 'part', 'within', 'five', 'protect', 'across', 'future', 'fall', 'candidate', 'early', 'case', 'governor', 'company', 'winter', 'plastic', 'mayor', 'review', 'previous', 'two', 'trend', 'level', 'set', 'strong', 'minister', 'toll', 'produce', 'large', 'thousand', 'flu', 'city', 'survive', 'war', 'late', 'challenge', 'firm', 'show', 'billion', 'race', 'virus', 'register', 'bring', 'italy', 'british', 'impose', 'could', 'open', 'restriction', 'last', 'china', 'half', 'federal', 'catch', 'clear', 'big', 'allow', 'data', 'climate', 'long', 'day', 'die', 'struggle', 'far', 'tally', 'million', 'time', 'dose', 'restaurant', 'africa', 'united', 'expect', 'follow', 'around', 'battle', 'industry', 'france', 'institute', 'close', 'child', 'change', 'work', 'bad', 'school', 'amid', 'protest', 'infection', 'boom', 'pass', 'hit', 'student', 'six', 'hard', 'french', 'hour', 'nearly', 'make', 'immune', 'new', 'lead', 'death', 'nationwide', 'ministry', 'state', 'university', 'worker', 'business', 'safe', 'national', 'year', 'among', 'compare', 'government', 'find', 'resurgence', 'season', 'participant', 'spike', 'join', 'warn', 'holiday', 'rate', 'nation', 'people', 'almost', 'coverage', 'slow', 'adult', 'effective', 'measure', 'effort', 'shot', 'response', 'high', 'curb', 'world', 'week', 'many', 'potential', 'benefit', 'family', 'want', 'number', 'help', 'johnson', 'second', 'demand', 'order', 'spread', 'region', 'one', 'global', 'pause'}\n",
            "{'jersey', 'reach', 'ask', 'urge', 'small', 'facility', 'say', 'happen', 'kamala', 'approval', 'leader', 'secretary', 'post', 'likely', 'message', 'economic', 'well', 'team', 'system', 'whether', 'expose', 'senate', 'rally', 'next', 'positive', 'emergency', 'much', 'stay', 'fear', 'rule', 'house', 'chief', 'leave', 'press', 'twitter', 'test', 'stock', 'authorization', 'return', 'first', 'several', 'play', 'democratic', 'like', 'yet', 'relief', 'even', 'feel', 'republican', 'develop', 'office', 'public', 'center', 'sen', 'treatment', 'come', 'general', 'diagnosis', 'aid', 'remain', 'travel', 'know', 'task', 'severe', 'turn', 'stimulus', 'ahead', 'penny', 'activity', 'employee', 'adviser', 'reed', 'player', 'seek', 'fight', 'hope', 'vote', 'nominee', 'move', 'condition', 'night', 'medical', 'statement', 'member', 'contact', 'america', 'reduce', 'party', 'base', 'push', 'election', 'control', 'supreme', 'prevent', 'hick', 'age', 'deal', 'congress', 'trump', 'transmission', 'enough', 'experience', 'send', 'military', 'air', 'mask', 'fauci', 'support', 'right', 'flight', 'protocol', 'add', 'continue', 'recovery', 'mark', 'disease', 'bill', 'supply', 'symptom', 'outside', 'court', 'social', 'four', 'official', 'care', 'supporter', 'quarantine', 'concern', 'market', 'decline', 'become', 'top', 'receive', 'prevention', 'recover', 'provide', 'question', 'walter', 'international', 'voter', 'contract', 'joe', 'self', 'event', 'use', 'package', 'wife', 'woman', 'commission', 'news', 'also', 'way', 'president', 'breaking', 'meet', 'free', 'begin', 'game', 'third', 'less', 'plan', 'doctor', 'put', 'lady', 'group', 'analysis', 'delay', 'director', 'release', 'win', 'raise', 'share', 'senator', 'stage', 'antibody', 'food', 'town', 'political', 'senior', 'back', 'vice', 'available', 'give', 'avoid', 'include', 'drug', 'wear', 'morning', 'medium', 'without', 'try', 'take', 'amy', 'good', 'former', 'today', 'hospital', 'speaker', 'nancy', 'would', 'treat', 'least', 'democrat', 'offer', 'risk', 'trillion', 'safety', 'source', 'end', 'mike', 'campaign', 'white', 'approve', 'person', 'video', 'trail', 'fund', 'claim', 'physician', 'administration', 'tell', 'result', 'debate', 'poll', 'handling', 'staff', 'development', 'patient', 'face', 'call', 'talk', 'lose', 'promise', 'three', 'presidential', 'loss', 'hold', 'aide', 'negative', 'crisis', 'experimental', 'need', 'tweet', 'think', 'stop', 'possible', 'place', 'still', 'despite', 'announce'}\n"
          ]
        }
      ]
    },
    {
      "cell_type": "code",
      "source": [
        "threshold = 0.001\n",
        "sum_China_0, sum_USA_0, sum_China_USA_0 = community_check(community_bipart[0], freq_dict_China, freq_dict_USA, G_China, G_USA, threshold)\n",
        "sum_China_1, sum_USA_1, sum_China_USA_1 = community_check(community_bipart[1], freq_dict_China, freq_dict_USA, G_China, G_USA, threshold)\n",
        "\n",
        "print('First community:')\n",
        "print('China: ', round(100 * sum_China_0 / len(community_bipart[0])),'%')\n",
        "print('USA: ', round(100 * sum_USA_0 / len(community_bipart[0])),'%')\n",
        "print('China&USA: ', round(100 * sum_China_USA_0 / len(community_bipart[0])),'%')\n",
        "print()\n",
        "print('China: ', round(100 * sum_China_1 / len(community_bipart[1])),'%')\n",
        "print('USA: ', round(100 * sum_USA_1 / len(community_bipart[1])),'%')\n",
        "print('China&USA: ', round(100 * sum_China_USA_1 / len(community_bipart[1])),'%')"
      ],
      "metadata": {
        "colab": {
          "base_uri": "https://localhost:8080/"
        },
        "outputId": "81e52118-9d4a-4b54-c9d8-cacea79371db",
        "id": "PpTpJ3ZfTbCm"
      },
      "execution_count": 95,
      "outputs": [
        {
          "output_type": "stream",
          "name": "stdout",
          "text": [
            "First community:\n",
            "China:  8 %\n",
            "USA:  12 %\n",
            "China&USA:  80 %\n",
            "\n",
            "China:  3 %\n",
            "USA:  19 %\n",
            "China&USA:  78 %\n"
          ]
        }
      ]
    },
    {
      "cell_type": "markdown",
      "source": [
        "**Metrics**"
      ],
      "metadata": {
        "id": "gQtN9RJiTbCm"
      }
    },
    {
      "cell_type": "code",
      "source": [
        "_ = compute_metrics(G, community_bipart)"
      ],
      "metadata": {
        "colab": {
          "base_uri": "https://localhost:8080/"
        },
        "outputId": "cfc0b5bb-cc6e-4c83-e954-e0527059ae82",
        "id": "5EvVxfZ7TbCm"
      },
      "execution_count": 96,
      "outputs": [
        {
          "output_type": "stream",
          "name": "stdout",
          "text": [
            "Coverage:  0.7233811386353759\n",
            "Performance:  0.5174829659318637\n",
            "Modularity:  0.2634417280019071\n"
          ]
        }
      ]
    },
    {
      "cell_type": "markdown",
      "source": [
        "### Modularity-based communities\n",
        "Find communities in G using greedy modularity maximization."
      ],
      "metadata": {
        "id": "0_n1EaUDTbCm"
      }
    },
    {
      "cell_type": "code",
      "source": [
        "community_mod = community.greedy_modularity_communities(G, n_communities=2, weight='weight')\n",
        "\n",
        "community_mod_list = []\n",
        "for comm in community_mod:\n",
        " print(list(comm))\n",
        " community_mod_list.append(list(comm))"
      ],
      "metadata": {
        "colab": {
          "base_uri": "https://localhost:8080/"
        },
        "outputId": "3cf7aa7c-1b3d-4200-cde2-d3c9a1276c15",
        "id": "Ja2R8TucTbCm"
      },
      "execution_count": 97,
      "outputs": [
        {
          "output_type": "stream",
          "name": "stdout",
          "text": [
            "['jersey', 'ask', 'small', 'say', 'happen', 'leader', 'kamala', 'secretary', 'post', 'likely', 'message', 'team', 'well', 'system', 'whether', 'expose', 'senate', 'rally', 'next', 'positive', 'much', 'stay', 'rule', 'house', 'chief', 'leave', 'press', 'twitter', 'test', 'stock', 'return', 'first', 'several', 'play', 'like', 'democratic', 'even', 'feel', 'republican', 'office', 'public', 'center', 'sen', 'treatment', 'travel', 'general', 'come', 'diagnosis', 'remain', 'know', 'turn', 'ahead', 'penny', 'activity', 'employee', 'adviser', 'reed', 'player', 'fight', 'nominee', 'vote', 'hope', 'night', 'move', 'medical', 'condition', 'statement', 'push', 'member', 'party', 'base', 'reduce', 'contact', 'election', 'supreme', 'hick', 'trump', 'experience', 'send', 'military', 'air', 'mask', 'fauci', 'flight', 'right', 'protocol', 'add', 'continue', 'recovery', 'mark', 'symptom', 'supply', 'outside', 'court', 'four', 'official', 'care', 'supporter', 'quarantine', 'become', 'top', 'receive', 'recover', 'provide', 'question', 'walter', 'international', 'voter', 'contract', 'event', 'self', 'joe', 'wife', 'woman', 'commission', 'also', 'way', 'president', 'breaking', 'meet', 'free', 'begin', 'game', 'less', 'plan', 'doctor', 'put', 'group', 'lady', 'analysis', 'delay', 'director', 'release', 'win', 'raise', 'share', 'political', 'senator', 'town', 'senior', 'back', 'vice', 'avoid', 'give', 'include', 'wear', 'morning', 'without', 'try', 'take', 'amy', 'good', 'former', 'hospital', 'least', 'would', 'treat', 'source', 'mike', 'campaign', 'white', 'person', 'video', 'trail', 'claim', 'physician', 'administration', 'tell', 'debate', 'poll', 'handling', 'staff', 'development', 'face', 'call', 'week', 'aide', 'three', 'presidential', 'loss', 'hold', 'negative', 'crisis', 'need', 'tweet', 'possible', 'stop', 'think', 'still', 'despite', 'announce']\n",
            "['past', 'record', 'wave', 'facility', 'confirm', 'single', 'health', 'gathering', 'major', 'low', 'vulnerable', 'surge', 'start', 'local', 'resident', 'novel', 'home', 'worry', 'country', 'epidemic', 'kill', 'life', 'real', 'since', 'expert', 'might', 'brazil', 'month', 'prime', 'milestone', 'rise', 'reopen', 'surpass', 'report', 'yet', 'total', 'daily', 'authority', 'australia', 'recent', 'research', 'ease', 'nine', 'russia', 'qingdao', 'germany', 'see', 'another', 'outbreak', 'york', 'seven', 'india', 'boost', 'increase', 'organization', 'accord', 'five', 'protect', 'across', 'fall', 'support', 'case', 'governor', 'social', 'winter', 'plastic', 'mayor', 'review', 'previous', 'trend', 'two', 'level', 'set', 'decline', 'minister', 'toll', 'large', 'city', 'firm', 'war', 'register', 'bring', 'italy', 'british', 'impose', 'could', 'open', 'china', 'last', 'restriction', 'half', 'federal', 'third', 'big', 'allow', 'long', 'day', 'die', 'far', 'tally', 'time', 'million', 'united', 'around', 'industry', 'france', 'institute', 'bad', 'school', 'amid', 'protest', 'infection', 'medium', 'pass', 'hit', 'student', 'today', 'six', 'hard', 'french', 'hour', 'nearly', 'offer', 'new', 'death', 'nationwide', 'ministry', 'state', 'university', 'business', 'national', 'compare', 'find', 'government', 'resurgence', 'join', 'spike', 'warn', 'holiday', 'rate', 'nation', 'people', 'almost', 'measure', 'slow', 'effective', 'effort', 'high', 'curb', 'world', 'family', 'number', 'second', 'spread', 'region', 'one', 'global']\n",
            "['produce', 'exclusive', 'immunity', 'volunteer', 'survive', 'late', 'challenge', 'may', 'approval', 'show', 'trial', 'use', 'virus', 'news', 'pay', 'young', 'catch', 'emergency', 'clear', 'old', 'due', 'appear', 'side', 'data', 'soon', 'clinical', 'authorization', 'dose', 'serious', 'food', 'stage', 'antibody', 'illness', 'get', 'update', 'follow', 'watch', 'develop', 'available', 'work', 'drug', 'effect', 'scientist', 'infect', 'researcher', 'make', 'immune', 'safety', 'safe', 'sign', 'approve', 'participant', 'study', 'financial', 'result', 'coverage', 'enough', 'part', 'adult', 'response', 'patient', 'promise', 'candidate', 'potential', 'early', 'company', 'experimental', 'johnson', 'want', 'concern', 'strong', 'pause']\n",
            "['korea', 'force', 'prevention', 'boom', 'keep', 'urge', 'task', 'economy', 'maker', 'thousand', 'flu', 'contain', 'bank', 'job', 'shut', 'live', 'south', 'billion', 'lead', 'race', 'seek', 'economic', 'end', 'issue', 'america', 'year', 'among', 'look', 'control', 'prevent', 'season', 'north', 'fear', 'pandemic', 'impact', 'climate', 'already', 'within', 'shot', 'struggle', 'cause', 'lose', 'many', 'future', 'africa', 'expect', 'disease', 'battle', 'help', 'order', 'demand', 'child', 'change', 'head']\n",
            "['congress', 'reach', 'bill', 'trillion', 'term', 'relief', 'stimulus', 'talk', 'speaker', 'nancy', 'fund', 'democrat', 'deal', 'aid', 'package']\n",
            "['transmission', 'benefit', 'severe', 'worker', 'market', 'age', 'risk']\n",
            "['close', 'bar', 'place', 'restaurant']\n"
          ]
        }
      ]
    },
    {
      "cell_type": "code",
      "source": [
        "threshold = 0.001\n",
        "for i in range(len(community_mod_list)):\n",
        "  sum_China, sum_USA, sum_China_USA = community_check(community_mod_list[i], freq_dict_China, freq_dict_USA, G_China, G_USA, threshold)\n",
        "  print('Community: ', i)\n",
        "  print('China: ', round(100 * sum_China / len(community_mod_list[i])),'%')\n",
        "  print('USA: ', round(100 * sum_USA / len(community_mod_list[i])),'%')\n",
        "  print('China&USA: ', round(100 * sum_China_USA / len(community_mod_list[i])),'%')\n",
        "  print()"
      ],
      "metadata": {
        "colab": {
          "base_uri": "https://localhost:8080/"
        },
        "outputId": "28c3f52e-1246-4baa-fc3a-cd6c313ecb99",
        "id": "mF4L2AQXTbCn"
      },
      "execution_count": 98,
      "outputs": [
        {
          "output_type": "stream",
          "name": "stdout",
          "text": [
            "Community:  0\n",
            "China:  3 %\n",
            "USA:  19 %\n",
            "China&USA:  77 %\n",
            "\n",
            "Community:  1\n",
            "China:  12 %\n",
            "USA:  7 %\n",
            "China&USA:  81 %\n",
            "\n",
            "Community:  2\n",
            "China:  1 %\n",
            "USA:  18 %\n",
            "China&USA:  81 %\n",
            "\n",
            "Community:  3\n",
            "China:  2 %\n",
            "USA:  20 %\n",
            "China&USA:  78 %\n",
            "\n",
            "Community:  4\n",
            "China:  0 %\n",
            "USA:  40 %\n",
            "China&USA:  60 %\n",
            "\n",
            "Community:  5\n",
            "China:  0 %\n",
            "USA:  29 %\n",
            "China&USA:  71 %\n",
            "\n",
            "Community:  6\n",
            "China:  0 %\n",
            "USA:  0 %\n",
            "China&USA:  100 %\n",
            "\n"
          ]
        }
      ]
    },
    {
      "cell_type": "markdown",
      "source": [
        "**Metrics**"
      ],
      "metadata": {
        "id": "J0SW_82hTbCn"
      }
    },
    {
      "cell_type": "code",
      "source": [
        "_ = compute_metrics(G, community_mod_list)"
      ],
      "metadata": {
        "colab": {
          "base_uri": "https://localhost:8080/"
        },
        "outputId": "ad079810-af38-4f64-b860-e212cfb0143f",
        "id": "lJ7HYLxKTbCn"
      },
      "execution_count": 99,
      "outputs": [
        {
          "output_type": "stream",
          "name": "stdout",
          "text": [
            "Coverage:  0.5760538896132117\n",
            "Performance:  0.7289779559118237\n",
            "Modularity:  0.3008924129312971\n"
          ]
        }
      ]
    },
    {
      "cell_type": "markdown",
      "source": [
        "#### display"
      ],
      "metadata": {
        "id": "kSW-9pxITbCn"
      }
    },
    {
      "cell_type": "code",
      "source": [
        "colors = list(G.nodes)\n",
        "i = 0\n",
        "dict_nodes = {}\n",
        "for node in colors:\n",
        "  if node in community_mod_list[0]:\n",
        "    colors[i] = 'violet'\n",
        "    dict_nodes[node] = 0\n",
        "  if node in community_mod_list[1]:\n",
        "    colors[i] = 'lightcoral'\n",
        "    dict_nodes[node] = 1\n",
        "  if node in community_mod_list[2]:\n",
        "    colors[i] = 'lawngreen'\n",
        "    dict_nodes[node] = 2\n",
        "  if node in community_mod_list[3]:\n",
        "    colors[i] = 'cyan'\n",
        "    dict_nodes[node] = 3\n",
        "  if node in community_mod_list[4]:\n",
        "    colors[i] = 'dodgerblue'\n",
        "    dict_nodes[node] = 4\n",
        "  i += 1"
      ],
      "metadata": {
        "id": "GMY0tmK1TbCn"
      },
      "execution_count": 100,
      "outputs": []
    },
    {
      "cell_type": "code",
      "source": [
        "pos = community_layout(G, dict_nodes)\n",
        "fig = plt.figure(1, figsize=(200, 80), dpi=60)\n",
        "nx.draw_networkx(G, pos, node_color=colors, node_size=5000, with_labels=True,\n",
        "                 font_size =50,width=0.05)\n",
        "plt.show()"
      ],
      "metadata": {
        "id": "_PWiWINcTbCn"
      },
      "execution_count": null,
      "outputs": []
    },
    {
      "cell_type": "markdown",
      "source": [
        "### Louvain Community Detection\n",
        "Find the best partition of a graph using the Louvain Community Detection Algorithm."
      ],
      "metadata": {
        "id": "sMK1On2KTbCn"
      }
    },
    {
      "cell_type": "code",
      "source": [
        "community_louv = community_louvain.best_partition(G,weight='weight')\n",
        "\n",
        "max = np.max(list(community_louv.values()))\n",
        "community_louvain_list = []\n",
        "for i in range(max+1):\n",
        "  community_louvain_list.append([])\n",
        "for key in list(community_louv.keys()):\n",
        "  community_louvain_list[community_louv[key]].append(key)\n",
        "for i in range(max+1):\n",
        "  print(community_louvain_list[i])"
      ],
      "metadata": {
        "colab": {
          "base_uri": "https://localhost:8080/"
        },
        "outputId": "b1feb768-2ca5-4ea8-84bf-70ec4dd7d892",
        "id": "2phJsS78TbCn"
      },
      "execution_count": 102,
      "outputs": [
        {
          "output_type": "stream",
          "name": "stdout",
          "text": [
            "['daily', 'case', 'infection', 'high', 'since', 'number', 'new', 'hit', 'record', 'italy', 'week', 'report', 'health', 'time', 'increase', 'death', 'month', 'country', 'rise', 'france', 'see', 'expert', 'surpass', 'million', 'toll', 'confirm', 'one', 'resurgence', 'accord', 'ministry', 'register', 'national', 'student', 'university', 'local', 'across', 'global', 'pass', 'surge', 'close', 'government', 'bring', 'total', 'tally', 'india', 'brazil', 'winter', 'milestone', 'outbreak', 'spread', 'measure', 'past', 'hour', 'city', 'china', 'day', 'state', 'single', 'set', 'york', 'russia', 'qingdao', 'last', 'united', 'fall', 'germany', 'start', 'spike', 'authority', 'six', 'school', 'region', 'gathering', 'restriction', 'seven', 'nine', 'nation', 'nationwide', 'compare', 'large', 'nearly', 'bar', 'rate', 'australia', 'low', 'impose', 'french', 'level', 'ease', 'another', 'warn', 'half', 'curb', 'research', 'trend', 'slow', 'federal', 'medium', 'join', 'business', 'mayor', 'hard', 'place', 'holiday', 'restaurant', 'protest', 'governor', 'allow', 'institute', 'facility', 'epidemic', 'previous', 'open', 'reopen', 'effective', 'boost', 'real', 'review']\n",
            "['mark', 'test', 'first', 'top', 'take', 'commission', 'announce', 'positive', 'raise', 'continue', 'official', 'public', 'push', 'back', 'face', 'begin', 'four', 'president', 'trump', 'include', 'severe', 'also', 'travel', 'hospital', 'remain', 'three', 'decline', 'five', 'come', 'without', 'doctor', 'fear', 'care', 'analysis', 'call', 'despite', 'ahead', 'handling', 'crisis', 'fight', 'hope', 'give', 'person', 'leader', 'diagnosis', 'quarantine', 'contact', 'twitter', 'tweet', 'claim', 'post', 'white', 'house', 'least', 'stay', 'contract', 'less', 'leave', 'walter', 'reed', 'medical', 'return', 'risk', 'employee', 'stop', 'wife', 'senior', 'member', 'democratic', 'presidential', 'joe', 'negative', 'stock', 'lady', 'send', 'recovery', 'support', 'still', 'way', 'free', 'breaking', 'experience', 'hold', 'sen', 'kamala', 'campaign', 'night', 'chief', 'player', 'whether', 'video', 'military', 'director', 'international', 'republican', 'mike', 'staff', 'vice', 'penny', 'nominee', 'debate', 'mask', 'treatment', 'press', 'secretary', 'tell', 'team', 'system', 'congress', 'message', 'supporter', 'symptom', 'wear', 'amy', 'supreme', 'court', 'age', 'election', 'event', 'release', 'well', 'market', 'provide', 'economic', 'activity', 'administration', 'senate', 'town', 'adviser', 'win', 'result', 'small', 'ask', 'poll', 'put', 'third', 'vote', 'question', 'rally', 'delay', 'air', 'aide', 'urge', 'trail', 'several', 'senator', 'former', 'hick', 'morning', 'woman', 'self', 'office', 'treat', 'good', 'statement', 'promise', 'physician', 'voter', 'meet', 'outside', 'jersey', 'condition', 'flight', 'game', 'supply', 'feel']\n",
            "['around', 'say', 'pandemic', 'many', 'among', 'today', 'people', 'amid', 'africa', 'center', 'disease', 'control', 'world', 'could', 'lead', 'organization', 'may', 'die', 'big', 'bad', 'child', 'live', 'force', 'south', 'cause', 'korea', 'worker', 'expect', 'end', 'year', 'development', 'task', 'add', 'next', 'become', 'issue', 'recent', 'novel', 'rule', 'source', 'much', 'possible', 'try', 'approve', 'reduce', 'order', 'life', 'struggle', 'yet', 'kill', 'economy', 'impact', 'long', 'major', 'season', 'contain', 'transmission', 'loss', 'offer', 'family', 'america', 'recover', 'think', 'happen', 'even', 'prevent', 'race', 'war', 'lose', 'group', 'seek', 'firm', 'help', 'would', 'look', 'fauci', 'like', 'know', 'plastic', 'effort', 'thousand', 'already', 'change', 'protect', 'battle', 'need', 'billion', 'term', 'political', 'plan', 'turn', 'vulnerable', 'general', 'flu', 'enough', 'bank', 'social', 'job', 'within', 'exclusive', 'north', 'likely', 'share', 'play', 'avoid', 'prevention', 'right', 'expose', 'climate', 'head', 'shut', 'move', 'might', 'industry', 'base', 'party', 'future', 'available', 'soon', 'protocol', 'shot', 'benefit', 'boom', 'maker']\n",
            "['get', 'sign', 'concern', 'emergency', 'data', 'late', 'follow', 'second', 'wave', 'patient', 'show', 'far', 'two', 'virus', 'minister', 'part', 'update', 'use', 'almost', 'produce', 'prime', 'immunity', 'study', 'researcher', 'find', 'potential', 'drug', 'response', 'side', 'illness', 'immune', 'worry', 'infect', 'home', 'news', 'make', 'work', 'due', 'survive', 'candidate', 'clinical', 'trial', 'challenge', 'keep', 'resident', 'british', 'johnson', 'old', 'early', 'watch', 'company', 'stage', 'food', 'strong', 'coverage', 'participant', 'scientist', 'young', 'experimental', 'volunteer', 'safe', 'receive', 'develop', 'want', 'demand', 'clear', 'antibody', 'appear', 'catch', 'safety', 'adult', 'pause', 'effect', 'dose', 'approval', 'pay', 'authorization', 'serious', 'financial']\n",
            "['reach', 'deal', 'bill', 'trillion', 'relief', 'democrat', 'fund', 'speaker', 'nancy', 'aid', 'package', 'stimulus', 'talk']\n"
          ]
        }
      ]
    },
    {
      "cell_type": "code",
      "source": [
        "threshold = 0.001\n",
        "for i in range(len(community_louvain_list)):\n",
        "  sum_China, sum_USA, sum_China_USA = community_check(community_louvain_list[i], freq_dict_China, freq_dict_USA, G_China, G_USA, threshold)\n",
        "  print('Community: ', i)\n",
        "  print('China: ', round(100 * sum_China / len(community_louvain_list[i])),'%')\n",
        "  print('USA: ', round(100 * sum_USA / len(community_louvain_list[i])),'%')\n",
        "  print('China&USA: ', round(100 * sum_China_USA / len(community_louvain_list[i])),'%')\n",
        "  print()"
      ],
      "metadata": {
        "colab": {
          "base_uri": "https://localhost:8080/"
        },
        "outputId": "cd78c995-f948-4d44-a498-23fe8e96660f",
        "id": "FTiNtP-7TbCn"
      },
      "execution_count": 103,
      "outputs": [
        {
          "output_type": "stream",
          "name": "stdout",
          "text": [
            "Community:  0\n",
            "China:  14 %\n",
            "USA:  7 %\n",
            "China&USA:  79 %\n",
            "\n",
            "Community:  1\n",
            "China:  4 %\n",
            "USA:  19 %\n",
            "China&USA:  77 %\n",
            "\n",
            "Community:  2\n",
            "China:  2 %\n",
            "USA:  18 %\n",
            "China&USA:  81 %\n",
            "\n",
            "Community:  3\n",
            "China:  3 %\n",
            "USA:  16 %\n",
            "China&USA:  81 %\n",
            "\n",
            "Community:  4\n",
            "China:  0 %\n",
            "USA:  31 %\n",
            "China&USA:  69 %\n",
            "\n"
          ]
        }
      ]
    },
    {
      "cell_type": "markdown",
      "source": [
        "**Metrics**"
      ],
      "metadata": {
        "id": "lbhs1S24TbCo"
      }
    },
    {
      "cell_type": "code",
      "source": [
        "_ = compute_metrics(G, community_louvain_list)"
      ],
      "metadata": {
        "colab": {
          "base_uri": "https://localhost:8080/"
        },
        "outputId": "47671390-33cb-42ec-9ab4-98de1982e1e0",
        "id": "q-l2MjzzTbCo"
      },
      "execution_count": 104,
      "outputs": [
        {
          "output_type": "stream",
          "name": "stdout",
          "text": [
            "Coverage:  0.5236853541938288\n",
            "Performance:  0.7501803607214429\n",
            "Modularity:  0.29796753092768163\n"
          ]
        }
      ]
    },
    {
      "cell_type": "markdown",
      "source": [
        "#### display"
      ],
      "metadata": {
        "id": "1PLn87-uTbCo"
      }
    },
    {
      "cell_type": "code",
      "source": [
        "colors = list(community_louv.values())\n",
        "\n",
        "colors[:] = [x if x != 0 else 'violet' for x in colors]\n",
        "colors[:] = [x if x != 1 else 'dodgerblue' for x in colors]\n",
        "colors[:] = [x if x != 2 else 'lawngreen' for x in colors]\n",
        "colors[:] = [x if x != 3 else 'pink' for x in colors]\n",
        "colors[:] = [x if x != 4 else 'lightcoral' for x in colors]\n",
        "colors[:] = [x if x != 5 else 'cyan' for x in colors]"
      ],
      "metadata": {
        "id": "ce4sos_rTbCo"
      },
      "execution_count": null,
      "outputs": []
    },
    {
      "cell_type": "code",
      "source": [
        "pos = community_layout(G, community_louv)\n",
        "fig = plt.figure(1, figsize=(200, 80), dpi=60)\n",
        "nx.draw_networkx(G, pos, node_color=colors, node_size=5000, with_labels=True,\n",
        "                 font_size =50,width=0.05)\n",
        "plt.show()"
      ],
      "metadata": {
        "id": "vYCYgMAbTbCo"
      },
      "execution_count": null,
      "outputs": []
    },
    {
      "cell_type": "markdown",
      "source": [
        "### Dendogram"
      ],
      "metadata": {
        "id": "6Jm2lCNNhRfv"
      }
    },
    {
      "cell_type": "code",
      "source": [
        "paris = Paris()\n",
        "adjacency = nx.convert_matrix.to_numpy_array(G_reduced, nodelist = list(G_reduced.nodes))\n",
        "dendrogram = paris.fit_transform(adjacency)\n",
        "\n",
        "names = list(G_reduced.nodes)\n",
        "image = svg_dendrogram(dendrogram, names, n_clusters=2, rotate=False,width=1000,height=500,filename='community_dendogram2'+period)\n",
        "SVG(image)"
      ],
      "metadata": {
        "colab": {
          "base_uri": "https://localhost:8080/",
          "height": 0
        },
        "outputId": "c4606632-1558-4621-948b-18d7c13e24f3",
        "id": "FJD5WfsUhRfv"
      },
      "execution_count": 614,
      "outputs": [
        {
          "output_type": "execute_result",
          "data": {
            "text/plain": [
              "<IPython.core.display.SVG object>"
            ],
            "image/svg+xml": "<svg height=\"597.0\" width=\"1020\" xmlns=\"http://www.w3.org/2000/svg\"><text font-size=\"12\" transform=\"rotate(60, 445.8602150537634, 515)\" x=\"445.8602150537634\" y=\"515\">daily</text><text font-size=\"12\" transform=\"rotate(60, 488.87096774193543, 515)\" x=\"488.87096774193543\" y=\"515\">case</text><text font-size=\"12\" transform=\"rotate(60, 392.09677419354836, 515)\" x=\"392.09677419354836\" y=\"515\">infection</text><text font-size=\"12\" transform=\"rotate(60, 521.1290322580645, 515)\" x=\"521.1290322580645\" y=\"515\">high</text><text font-size=\"12\" transform=\"rotate(60, 940.4838709677418, 515)\" x=\"940.4838709677418\" y=\"515\">since</text><text font-size=\"12\" transform=\"rotate(60, 531.8817204301075, 515)\" x=\"531.8817204301075\" y=\"515\">number</text><text font-size=\"12\" transform=\"rotate(60, 564.1397849462365, 515)\" x=\"564.1397849462365\" y=\"515\">new</text><text font-size=\"12\" transform=\"rotate(60, 456.6129032258064, 515)\" x=\"456.6129032258064\" y=\"515\">hit</text><text font-size=\"12\" transform=\"rotate(60, 435.1075268817204, 515)\" x=\"435.1075268817204\" y=\"515\">record</text><text font-size=\"12\" transform=\"rotate(60, 187.79569892473117, 515)\" x=\"187.79569892473117\" y=\"515\">week</text><text font-size=\"12\" transform=\"rotate(60, 499.62365591397844, 515)\" x=\"499.62365591397844\" y=\"515\">report</text><text font-size=\"12\" transform=\"rotate(60, 983.4946236559139, 515)\" x=\"983.4946236559139\" y=\"515\">test</text><text font-size=\"12\" transform=\"rotate(60, 349.0860215053763, 515)\" x=\"349.0860215053763\" y=\"515\">health</text><text font-size=\"12\" transform=\"rotate(60, 897.4731182795698, 515)\" x=\"897.4731182795698\" y=\"515\">first</text><text font-size=\"12\" transform=\"rotate(60, 918.9784946236558, 515)\" x=\"918.9784946236558\" y=\"515\">time</text><text font-size=\"12\" transform=\"rotate(60, 295.3225806451613, 515)\" x=\"295.3225806451613\" y=\"515\">death</text><text font-size=\"12\" transform=\"rotate(60, 617.9032258064516, 515)\" x=\"617.9032258064516\" y=\"515\">say</text><text font-size=\"12\" transform=\"rotate(60, 101.77419354838709, 515)\" x=\"101.77419354838709\" y=\"515\">month</text><text font-size=\"12\" transform=\"rotate(60, 370.59139784946234, 515)\" x=\"370.59139784946234\" y=\"515\">country</text><text font-size=\"12\" transform=\"rotate(60, 467.3655913978494, 515)\" x=\"467.3655913978494\" y=\"515\">rise</text><text font-size=\"12\" transform=\"rotate(60, 166.29032258064515, 515)\" x=\"166.29032258064515\" y=\"515\">get</text><text font-size=\"12\" transform=\"rotate(60, 951.2365591397848, 515)\" x=\"951.2365591397848\" y=\"515\">top</text><text font-size=\"12\" transform=\"rotate(60, 134.03225806451613, 515)\" x=\"134.03225806451613\" y=\"515\">see</text><text font-size=\"12\" transform=\"rotate(60, 402.84946236559136, 515)\" x=\"402.84946236559136\" y=\"515\">expert</text><text font-size=\"12\" transform=\"rotate(60, 273.81720430107526, 515)\" x=\"273.81720430107526\" y=\"515\">million</text><text font-size=\"12\" transform=\"rotate(60, 639.4086021505376, 515)\" x=\"639.4086021505376\" y=\"515\">pandemic</text><text font-size=\"12\" transform=\"rotate(60, 682.4193548387096, 515)\" x=\"682.4193548387096\" y=\"515\">take</text><text font-size=\"12\" transform=\"rotate(60, 478.1182795698924, 515)\" x=\"478.1182795698924\" y=\"515\">confirm</text><text font-size=\"12\" transform=\"rotate(60, 80.26881720430107, 515)\" x=\"80.26881720430107\" y=\"515\">one</text><text font-size=\"12\" transform=\"rotate(60, 198.54838709677418, 515)\" x=\"198.54838709677418\" y=\"515\">accord</text><text font-size=\"12\" transform=\"rotate(60, 929.7311827956988, 515)\" x=\"929.7311827956988\" y=\"515\">announce</text><text font-size=\"12\" transform=\"rotate(60, 69.51612903225806, 515)\" x=\"69.51612903225806\" y=\"515\">data</text><text font-size=\"12\" transform=\"rotate(60, 284.5698924731183, 515)\" x=\"284.5698924731183\" y=\"515\">global</text><text font-size=\"12\" transform=\"rotate(60, 112.5268817204301, 515)\" x=\"112.5268817204301\" y=\"515\">follow</text><text font-size=\"12\" transform=\"rotate(60, 241.5591397849462, 515)\" x=\"241.5591397849462\" y=\"515\">people</text><text font-size=\"12\" transform=\"rotate(60, 994.2473118279569, 515)\" x=\"994.2473118279569\" y=\"515\">positive</text><text font-size=\"12\" transform=\"rotate(60, 123.27956989247309, 515)\" x=\"123.27956989247309\" y=\"515\">second</text><text font-size=\"12\" transform=\"rotate(60, 413.6021505376344, 515)\" x=\"413.6021505376344\" y=\"515\">surge</text><text font-size=\"12\" transform=\"rotate(60, 972.7419354838709, 515)\" x=\"972.7419354838709\" y=\"515\">official</text><text font-size=\"12\" transform=\"rotate(60, 338.3333333333333, 515)\" x=\"338.3333333333333\" y=\"515\">government</text><text font-size=\"12\" transform=\"rotate(60, 26.50537634408602, 515)\" x=\"26.50537634408602\" y=\"515\">show</text><text font-size=\"12\" transform=\"rotate(60, 209.3010752688172, 515)\" x=\"209.3010752688172\" y=\"515\">center</text><text font-size=\"12\" transform=\"rotate(60, 220.0537634408602, 515)\" x=\"220.0537634408602\" y=\"515\">disease</text><text font-size=\"12\" transform=\"rotate(60, 306.0752688172043, 515)\" x=\"306.0752688172043\" y=\"515\">world</text><text font-size=\"12\" transform=\"rotate(60, 650.1612903225806, 515)\" x=\"650.1612903225806\" y=\"515\">could</text><text font-size=\"12\" transform=\"rotate(60, 714.6774193548387, 515)\" x=\"714.6774193548387\" y=\"515\">public</text><text font-size=\"12\" transform=\"rotate(60, 381.34408602150535, 515)\" x=\"381.34408602150535\" y=\"515\">outbreak</text><text font-size=\"12\" transform=\"rotate(60, 607.1505376344086, 515)\" x=\"607.1505376344086\" y=\"515\">spread</text><text font-size=\"12\" transform=\"rotate(60, 693.1720430107526, 515)\" x=\"693.1720430107526\" y=\"515\">hour</text><text font-size=\"12\" transform=\"rotate(60, 542.6344086021505, 515)\" x=\"542.6344086021505\" y=\"515\">city</text><text font-size=\"12\" transform=\"rotate(60, 585.6451612903226, 515)\" x=\"585.6451612903226\" y=\"515\">china</text><text font-size=\"12\" transform=\"rotate(60, 144.78494623655914, 515)\" x=\"144.78494623655914\" y=\"515\">back</text><text font-size=\"12\" transform=\"rotate(60, 574.8924731182796, 515)\" x=\"574.8924731182796\" y=\"515\">day</text><text font-size=\"12\" transform=\"rotate(60, 424.3548387096774, 515)\" x=\"424.3548387096774\" y=\"515\">state</text><text font-size=\"12\" transform=\"rotate(60, 875.9677419354838, 515)\" x=\"875.9677419354838\" y=\"515\">president</text><text font-size=\"12\" transform=\"rotate(60, 865.2150537634408, 515)\" x=\"865.2150537634408\" y=\"515\">trump</text><text font-size=\"12\" transform=\"rotate(60, 553.3870967741935, 515)\" x=\"553.3870967741935\" y=\"515\">york</text><text font-size=\"12\" transform=\"rotate(60, 177.04301075268816, 515)\" x=\"177.04301075268816\" y=\"515\">last</text><text font-size=\"12\" transform=\"rotate(60, 91.02150537634408, 515)\" x=\"91.02150537634408\" y=\"515\">two</text><text font-size=\"12\" transform=\"rotate(60, 596.3978494623656, 515)\" x=\"596.3978494623656\" y=\"515\">virus</text><text font-size=\"12\" transform=\"rotate(60, 316.8279569892473, 515)\" x=\"316.8279569892473\" y=\"515\">minister</text><text font-size=\"12\" transform=\"rotate(60, 327.5806451612903, 515)\" x=\"327.5806451612903\" y=\"515\">restriction</text><text font-size=\"12\" transform=\"rotate(60, 263.06451612903226, 515)\" x=\"263.06451612903226\" y=\"515\">may</text><text font-size=\"12\" transform=\"rotate(60, 746.9354838709677, 515)\" x=\"746.9354838709677\" y=\"515\">hospital</text><text font-size=\"12\" transform=\"rotate(60, 252.3118279569892, 515)\" x=\"252.3118279569892\" y=\"515\">die</text><text font-size=\"12\" transform=\"rotate(60, 725.4301075268817, 515)\" x=\"725.4301075268817\" y=\"515\">doctor</text><text font-size=\"12\" transform=\"rotate(60, 908.2258064516128, 515)\" x=\"908.2258064516128\" y=\"515\">year</text><text font-size=\"12\" transform=\"rotate(60, 15.752688172043008, 515)\" x=\"15.752688172043008\" y=\"515\">study</text><text font-size=\"12\" transform=\"rotate(60, 961.9892473118279, 515)\" x=\"961.9892473118279\" y=\"515\">quarantine</text><text font-size=\"12\" transform=\"rotate(60, 757.6881720430107, 515)\" x=\"757.6881720430107\" y=\"515\">white</text><text font-size=\"12\" transform=\"rotate(60, 768.4408602150537, 515)\" x=\"768.4408602150537\" y=\"515\">house</text><text font-size=\"12\" transform=\"rotate(60, 155.53763440860214, 515)\" x=\"155.53763440860214\" y=\"515\">make</text><text font-size=\"12\" transform=\"rotate(60, 230.8064516129032, 515)\" x=\"230.8064516129032\" y=\"515\">medical</text><text font-size=\"12\" transform=\"rotate(60, 736.1827956989247, 515)\" x=\"736.1827956989247\" y=\"515\">return</text><text font-size=\"12\" transform=\"rotate(60, 510.3763440860214, 515)\" x=\"510.3763440860214\" y=\"515\">risk</text><text font-size=\"12\" transform=\"rotate(60, 5.0, 515)\" x=\"5.0\" y=\"515\">work</text><text font-size=\"12\" transform=\"rotate(60, 822.2043010752687, 515)\" x=\"822.2043010752687\" y=\"515\">democratic</text><text font-size=\"12\" transform=\"rotate(60, 789.9462365591397, 515)\" x=\"789.9462365591397\" y=\"515\">presidential</text><text font-size=\"12\" transform=\"rotate(60, 832.9569892473118, 515)\" x=\"832.9569892473118\" y=\"515\">joe</text><text font-size=\"12\" transform=\"rotate(60, 854.4623655913978, 515)\" x=\"854.4623655913978\" y=\"515\">negative</text><text font-size=\"12\" transform=\"rotate(60, 886.7204301075268, 515)\" x=\"886.7204301075268\" y=\"515\">lady</text><text font-size=\"12\" transform=\"rotate(60, 37.25806451612903, 515)\" x=\"37.25806451612903\" y=\"515\">clinical</text><text font-size=\"12\" transform=\"rotate(60, 48.01075268817204, 515)\" x=\"48.01075268817204\" y=\"515\">trial</text><text font-size=\"12\" transform=\"rotate(60, 843.7096774193548, 515)\" x=\"843.7096774193548\" y=\"515\">campaign</text><text font-size=\"12\" transform=\"rotate(60, 58.76344086021505, 515)\" x=\"58.76344086021505\" y=\"515\">johnson</text><text font-size=\"12\" transform=\"rotate(60, 671.6666666666666, 515)\" x=\"671.6666666666666\" y=\"515\">relief</text><text font-size=\"12\" transform=\"rotate(60, 800.6989247311827, 515)\" x=\"800.6989247311827\" y=\"515\">vice</text><text font-size=\"12\" transform=\"rotate(60, 811.4516129032257, 515)\" x=\"811.4516129032257\" y=\"515\">nominee</text><text font-size=\"12\" transform=\"rotate(60, 779.1935483870967, 515)\" x=\"779.1935483870967\" y=\"515\">debate</text><text font-size=\"12\" transform=\"rotate(60, 703.9247311827957, 515)\" x=\"703.9247311827957\" y=\"515\">mask</text><text font-size=\"12\" transform=\"rotate(60, 660.9139784946236, 515)\" x=\"660.9139784946236\" y=\"515\">election</text><text font-size=\"12\" transform=\"rotate(60, 359.83870967741933, 515)\" x=\"359.83870967741933\" y=\"515\">help</text><text font-size=\"12\" transform=\"rotate(60, 628.6559139784946, 515)\" x=\"628.6559139784946\" y=\"515\">plan</text><path d=\"M 214.3010752688172 510 214.3010752688172 502.67024858479533\" stroke=\"blue\" stroke-width=\"2\"/><path d=\"M 225.0537634408602 510 225.0537634408602 502.67024858479533\" stroke=\"blue\" stroke-width=\"2\"/><path d=\"M 214.3010752688172 502.67024858479533 225.0537634408602 502.67024858479533\" stroke=\"blue\" stroke-width=\"2\"/><path d=\"M 42.25806451612903 510 42.25806451612903 501.97964690629567\" stroke=\"blue\" stroke-width=\"2\"/><path d=\"M 53.01075268817204 510 53.01075268817204 501.97964690629567\" stroke=\"blue\" stroke-width=\"2\"/><path d=\"M 42.25806451612903 501.97964690629567 53.01075268817204 501.97964690629567\" stroke=\"blue\" stroke-width=\"2\"/><path d=\"M 816.4516129032257 510 816.4516129032257 498.3343878903324\" stroke=\"red\" stroke-width=\"2\"/><path d=\"M 827.2043010752687 510 827.2043010752687 498.3343878903324\" stroke=\"red\" stroke-width=\"2\"/><path d=\"M 816.4516129032257 498.3343878903324 827.2043010752687 498.3343878903324\" stroke=\"red\" stroke-width=\"2\"/><path d=\"M 47.634408602150536 501.97964690629567 47.634408602150536 497.6680901445474\" stroke=\"blue\" stroke-width=\"2\"/><path d=\"M 63.76344086021505 510 63.76344086021505 497.6680901445474\" stroke=\"blue\" stroke-width=\"2\"/><path d=\"M 47.634408602150536 497.6680901445474 63.76344086021505 497.6680901445474\" stroke=\"blue\" stroke-width=\"2\"/><path d=\"M 547.6344086021505 510 547.6344086021505 496.7831140686176\" stroke=\"blue\" stroke-width=\"2\"/><path d=\"M 558.3870967741935 510 558.3870967741935 496.7831140686176\" stroke=\"blue\" stroke-width=\"2\"/><path d=\"M 547.6344086021505 496.7831140686176 558.3870967741935 496.7831140686176\" stroke=\"blue\" stroke-width=\"2\"/><path d=\"M 665.9139784946236 510 665.9139784946236 496.4791007560173\" stroke=\"red\" stroke-width=\"2\"/><path d=\"M 676.6666666666666 510 676.6666666666666 496.4791007560173\" stroke=\"red\" stroke-width=\"2\"/><path d=\"M 665.9139784946236 496.4791007560173 676.6666666666666 496.4791007560173\" stroke=\"red\" stroke-width=\"2\"/><path d=\"M 794.9462365591397 510 794.9462365591397 496.0496816405969\" stroke=\"red\" stroke-width=\"2\"/><path d=\"M 805.6989247311827 510 805.6989247311827 496.0496816405969\" stroke=\"red\" stroke-width=\"2\"/><path d=\"M 794.9462365591397 496.0496816405969 805.6989247311827 496.0496816405969\" stroke=\"red\" stroke-width=\"2\"/><path d=\"M 784.1935483870967 510 784.1935483870967 495.1280598591336\" stroke=\"red\" stroke-width=\"2\"/><path d=\"M 800.3225806451612 496.0496816405969 800.3225806451612 495.1280598591336\" stroke=\"red\" stroke-width=\"2\"/><path d=\"M 784.1935483870967 495.1280598591336 800.3225806451612 495.1280598591336\" stroke=\"red\" stroke-width=\"2\"/><path d=\"M 20.75268817204301 510 20.75268817204301 494.45756164937484\" stroke=\"blue\" stroke-width=\"2\"/><path d=\"M 31.50537634408602 510 31.50537634408602 494.45756164937484\" stroke=\"blue\" stroke-width=\"2\"/><path d=\"M 20.75268817204301 494.45756164937484 31.50537634408602 494.45756164937484\" stroke=\"blue\" stroke-width=\"2\"/><path d=\"M 219.6774193548387 502.67024858479533 219.6774193548387 493.9478128388084\" stroke=\"blue\" stroke-width=\"2\"/><path d=\"M 235.8064516129032 510 235.8064516129032 493.9478128388084\" stroke=\"blue\" stroke-width=\"2\"/><path d=\"M 219.6774193548387 493.9478128388084 235.8064516129032 493.9478128388084\" stroke=\"blue\" stroke-width=\"2\"/><path d=\"M 821.8279569892472 498.3343878903324 821.8279569892472 491.1023159804196\" stroke=\"red\" stroke-width=\"2\"/><path d=\"M 837.9569892473118 510 837.9569892473118 491.1023159804196\" stroke=\"red\" stroke-width=\"2\"/><path d=\"M 821.8279569892472 491.1023159804196 837.9569892473118 491.1023159804196\" stroke=\"red\" stroke-width=\"2\"/><path d=\"M 246.5591397849462 510 246.5591397849462 487.33072299908036\" stroke=\"blue\" stroke-width=\"2\"/><path d=\"M 257.3118279569892 510 257.3118279569892 487.33072299908036\" stroke=\"blue\" stroke-width=\"2\"/><path d=\"M 246.5591397849462 487.33072299908036 257.3118279569892 487.33072299908036\" stroke=\"blue\" stroke-width=\"2\"/><path d=\"M 10.0 510 10.0 486.616378942339\" stroke=\"blue\" stroke-width=\"2\"/><path d=\"M 26.129032258064512 494.45756164937484 26.129032258064512 486.616378942339\" stroke=\"blue\" stroke-width=\"2\"/><path d=\"M 10.0 486.616378942339 26.129032258064512 486.616378942339\" stroke=\"blue\" stroke-width=\"2\"/><path d=\"M 321.8279569892473 510 321.8279569892473 485.85924591971263\" stroke=\"blue\" stroke-width=\"2\"/><path d=\"M 332.5806451612903 510 332.5806451612903 485.85924591971263\" stroke=\"blue\" stroke-width=\"2\"/><path d=\"M 321.8279569892473 485.85924591971263 332.5806451612903 485.85924591971263\" stroke=\"blue\" stroke-width=\"2\"/><path d=\"M 327.2043010752688 485.85924591971263 327.2043010752688 483.13412514410345\" stroke=\"blue\" stroke-width=\"2\"/><path d=\"M 343.3333333333333 510 343.3333333333333 483.13412514410345\" stroke=\"blue\" stroke-width=\"2\"/><path d=\"M 327.2043010752688 483.13412514410345 343.3333333333333 483.13412514410345\" stroke=\"blue\" stroke-width=\"2\"/><path d=\"M 55.69892473118279 497.6680901445474 55.69892473118279 482.79831439814063\" stroke=\"blue\" stroke-width=\"2\"/><path d=\"M 74.51612903225806 510 74.51612903225806 482.79831439814063\" stroke=\"blue\" stroke-width=\"2\"/><path d=\"M 55.69892473118279 482.79831439814063 74.51612903225806 482.79831439814063\" stroke=\"blue\" stroke-width=\"2\"/><path d=\"M 515.3763440860214 510 515.3763440860214 482.3543534482394\" stroke=\"blue\" stroke-width=\"2\"/><path d=\"M 526.1290322580645 510 526.1290322580645 482.3543534482394\" stroke=\"blue\" stroke-width=\"2\"/><path d=\"M 515.3763440860214 482.3543534482394 526.1290322580645 482.3543534482394\" stroke=\"blue\" stroke-width=\"2\"/><path d=\"M 792.258064516129 495.1280598591336 792.258064516129 482.34951397729094\" stroke=\"red\" stroke-width=\"2\"/><path d=\"M 829.8924731182794 491.1023159804196 829.8924731182794 482.34951397729094\" stroke=\"red\" stroke-width=\"2\"/><path d=\"M 792.258064516129 482.34951397729094 829.8924731182794 482.34951397729094\" stroke=\"red\" stroke-width=\"2\"/><path d=\"M 730.4301075268817 510 730.4301075268817 482.30176074692605\" stroke=\"red\" stroke-width=\"2\"/><path d=\"M 741.1827956989247 510 741.1827956989247 482.30176074692605\" stroke=\"red\" stroke-width=\"2\"/><path d=\"M 730.4301075268817 482.30176074692605 741.1827956989247 482.30176074692605\" stroke=\"red\" stroke-width=\"2\"/><path d=\"M 440.1075268817204 510 440.1075268817204 481.39052571804035\" stroke=\"blue\" stroke-width=\"2\"/><path d=\"M 450.8602150537634 510 450.8602150537634 481.39052571804035\" stroke=\"blue\" stroke-width=\"2\"/><path d=\"M 440.1075268817204 481.39052571804035 450.8602150537634 481.39052571804035\" stroke=\"blue\" stroke-width=\"2\"/><path d=\"M 708.9247311827957 510 708.9247311827957 479.475031273826\" stroke=\"red\" stroke-width=\"2\"/><path d=\"M 719.6774193548387 510 719.6774193548387 479.475031273826\" stroke=\"red\" stroke-width=\"2\"/><path d=\"M 708.9247311827957 479.475031273826 719.6774193548387 479.475031273826\" stroke=\"red\" stroke-width=\"2\"/><path d=\"M 956.2365591397848 510 956.2365591397848 479.33042511183373\" stroke=\"red\" stroke-width=\"2\"/><path d=\"M 966.9892473118279 510 966.9892473118279 479.33042511183373\" stroke=\"red\" stroke-width=\"2\"/><path d=\"M 956.2365591397848 479.33042511183373 966.9892473118279 479.33042511183373\" stroke=\"red\" stroke-width=\"2\"/><path d=\"M 182.04301075268816 510 182.04301075268816 478.96968028099263\" stroke=\"blue\" stroke-width=\"2\"/><path d=\"M 192.79569892473117 510 192.79569892473117 478.96968028099263\" stroke=\"blue\" stroke-width=\"2\"/><path d=\"M 182.04301075268816 478.96968028099263 192.79569892473117 478.96968028099263\" stroke=\"blue\" stroke-width=\"2\"/><path d=\"M 472.3655913978494 510 472.3655913978494 476.5973825249274\" stroke=\"blue\" stroke-width=\"2\"/><path d=\"M 483.1182795698924 510 483.1182795698924 476.5973825249274\" stroke=\"blue\" stroke-width=\"2\"/><path d=\"M 472.3655913978494 476.5973825249274 483.1182795698924 476.5973825249274\" stroke=\"blue\" stroke-width=\"2\"/><path d=\"M 762.6881720430107 510 762.6881720430107 476.36082986775324\" stroke=\"red\" stroke-width=\"2\"/><path d=\"M 773.4408602150537 510 773.4408602150537 476.36082986775324\" stroke=\"red\" stroke-width=\"2\"/><path d=\"M 762.6881720430107 476.36082986775324 773.4408602150537 476.36082986775324\" stroke=\"red\" stroke-width=\"2\"/><path d=\"M 891.7204301075268 510 891.7204301075268 474.91739511421713\" stroke=\"red\" stroke-width=\"2\"/><path d=\"M 902.4731182795698 510 902.4731182795698 474.91739511421713\" stroke=\"red\" stroke-width=\"2\"/><path d=\"M 891.7204301075268 474.91739511421713 902.4731182795698 474.91739511421713\" stroke=\"red\" stroke-width=\"2\"/><path d=\"M 407.84946236559136 510 407.84946236559136 474.28999504847974\" stroke=\"blue\" stroke-width=\"2\"/><path d=\"M 418.6021505376344 510 418.6021505376344 474.28999504847974\" stroke=\"blue\" stroke-width=\"2\"/><path d=\"M 407.84946236559136 474.28999504847974 418.6021505376344 474.28999504847974\" stroke=\"blue\" stroke-width=\"2\"/><path d=\"M 848.7096774193548 510 848.7096774193548 474.1389819216227\" stroke=\"red\" stroke-width=\"2\"/><path d=\"M 859.4623655913978 510 859.4623655913978 474.1389819216227\" stroke=\"red\" stroke-width=\"2\"/><path d=\"M 848.7096774193548 474.1389819216227 859.4623655913978 474.1389819216227\" stroke=\"red\" stroke-width=\"2\"/><path d=\"M 375.59139784946234 510 375.59139784946234 473.7406097818244\" stroke=\"blue\" stroke-width=\"2\"/><path d=\"M 386.34408602150535 510 386.34408602150535 473.7406097818244\" stroke=\"blue\" stroke-width=\"2\"/><path d=\"M 375.59139784946234 473.7406097818244 386.34408602150535 473.7406097818244\" stroke=\"blue\" stroke-width=\"2\"/><path d=\"M 601.3978494623656 510 601.3978494623656 473.14875844331266\" stroke=\"red\" stroke-width=\"2\"/><path d=\"M 612.1505376344086 510 612.1505376344086 473.14875844331266\" stroke=\"red\" stroke-width=\"2\"/><path d=\"M 601.3978494623656 473.14875844331266 612.1505376344086 473.14875844331266\" stroke=\"red\" stroke-width=\"2\"/><path d=\"M 278.81720430107526 510 278.81720430107526 472.7333383329884\" stroke=\"blue\" stroke-width=\"2\"/><path d=\"M 289.5698924731183 510 289.5698924731183 472.7333383329884\" stroke=\"blue\" stroke-width=\"2\"/><path d=\"M 278.81720430107526 472.7333383329884 289.5698924731183 472.7333383329884\" stroke=\"blue\" stroke-width=\"2\"/><path d=\"M 735.8064516129032 482.30176074692605 735.8064516129032 472.239907714262\" stroke=\"red\" stroke-width=\"2\"/><path d=\"M 751.9354838709677 510 751.9354838709677 472.239907714262\" stroke=\"red\" stroke-width=\"2\"/><path d=\"M 735.8064516129032 472.239907714262 751.9354838709677 472.239907714262\" stroke=\"red\" stroke-width=\"2\"/><path d=\"M 961.6129032258063 479.33042511183373 961.6129032258063 470.375824937462\" stroke=\"red\" stroke-width=\"2\"/><path d=\"M 977.7419354838709 510 977.7419354838709 470.375824937462\" stroke=\"red\" stroke-width=\"2\"/><path d=\"M 961.6129032258063 470.375824937462 977.7419354838709 470.375824937462\" stroke=\"red\" stroke-width=\"2\"/><path d=\"M 913.2258064516128 510 913.2258064516128 468.8410513863139\" stroke=\"red\" stroke-width=\"2\"/><path d=\"M 923.9784946236558 510 923.9784946236558 468.8410513863139\" stroke=\"red\" stroke-width=\"2\"/><path d=\"M 913.2258064516128 468.8410513863139 923.9784946236558 468.8410513863139\" stroke=\"red\" stroke-width=\"2\"/><path d=\"M 364.83870967741933 510 364.83870967741933 463.026458968162\" stroke=\"blue\" stroke-width=\"2\"/><path d=\"M 380.96774193548384 473.7406097818244 380.96774193548384 463.026458968162\" stroke=\"blue\" stroke-width=\"2\"/><path d=\"M 364.83870967741933 463.026458968162 380.96774193548384 463.026458968162\" stroke=\"blue\" stroke-width=\"2\"/><path d=\"M 117.5268817204301 510 117.5268817204301 461.44709342866685\" stroke=\"blue\" stroke-width=\"2\"/><path d=\"M 128.2795698924731 510 128.2795698924731 461.44709342866685\" stroke=\"blue\" stroke-width=\"2\"/><path d=\"M 117.5268817204301 461.44709342866685 128.2795698924731 461.44709342866685\" stroke=\"blue\" stroke-width=\"2\"/><path d=\"M 553.010752688172 496.7831140686176 553.010752688172 461.3834490154976\" stroke=\"blue\" stroke-width=\"2\"/><path d=\"M 569.1397849462365 510 569.1397849462365 461.3834490154976\" stroke=\"blue\" stroke-width=\"2\"/><path d=\"M 553.010752688172 461.3834490154976 569.1397849462365 461.3834490154976\" stroke=\"blue\" stroke-width=\"2\"/><path d=\"M 18.064516129032256 486.616378942339 18.064516129032256 461.3494279454119\" stroke=\"blue\" stroke-width=\"2\"/><path d=\"M 65.10752688172043 482.79831439814063 65.10752688172043 461.3494279454119\" stroke=\"blue\" stroke-width=\"2\"/><path d=\"M 18.064516129032256 461.3494279454119 65.10752688172043 461.3494279454119\" stroke=\"blue\" stroke-width=\"2\"/><path d=\"M 811.0752688172042 482.34951397729094 811.0752688172042 459.1301274481262\" stroke=\"red\" stroke-width=\"2\"/><path d=\"M 854.0860215053763 474.1389819216227 854.0860215053763 459.1301274481262\" stroke=\"red\" stroke-width=\"2\"/><path d=\"M 811.0752688172042 459.1301274481262 854.0860215053763 459.1301274481262\" stroke=\"red\" stroke-width=\"2\"/><path d=\"M 96.02150537634408 510 96.02150537634408 458.94763328299365\" stroke=\"blue\" stroke-width=\"2\"/><path d=\"M 106.77419354838709 510 106.77419354838709 458.94763328299365\" stroke=\"blue\" stroke-width=\"2\"/><path d=\"M 96.02150537634408 458.94763328299365 106.77419354838709 458.94763328299365\" stroke=\"blue\" stroke-width=\"2\"/><path d=\"M 284.19354838709677 472.7333383329884 284.19354838709677 458.7434569671141\" stroke=\"blue\" stroke-width=\"2\"/><path d=\"M 300.3225806451613 510 300.3225806451613 458.7434569671141\" stroke=\"blue\" stroke-width=\"2\"/><path d=\"M 284.19354838709677 458.7434569671141 300.3225806451613 458.7434569671141\" stroke=\"blue\" stroke-width=\"2\"/><path d=\"M 445.4838709677419 481.39052571804035 445.4838709677419 454.64579558513526\" stroke=\"blue\" stroke-width=\"2\"/><path d=\"M 461.6129032258064 510 461.6129032258064 454.64579558513526\" stroke=\"blue\" stroke-width=\"2\"/><path d=\"M 445.4838709677419 454.64579558513526 461.6129032258064 454.64579558513526\" stroke=\"blue\" stroke-width=\"2\"/><path d=\"M 477.7419354838709 476.5973825249274 477.7419354838709 452.74909715089063\" stroke=\"blue\" stroke-width=\"2\"/><path d=\"M 493.87096774193543 510 493.87096774193543 452.74909715089063\" stroke=\"blue\" stroke-width=\"2\"/><path d=\"M 477.7419354838709 452.74909715089063 493.87096774193543 452.74909715089063\" stroke=\"blue\" stroke-width=\"2\"/><path d=\"M 988.4946236559139 510 988.4946236559139 451.59907156176655\" stroke=\"red\" stroke-width=\"2\"/><path d=\"M 999.2473118279569 510 999.2473118279569 451.59907156176655\" stroke=\"red\" stroke-width=\"2\"/><path d=\"M 988.4946236559139 451.59907156176655 999.2473118279569 451.59907156176655\" stroke=\"red\" stroke-width=\"2\"/><path d=\"M 655.1612903225806 510 655.1612903225806 450.8753705995942\" stroke=\"red\" stroke-width=\"2\"/><path d=\"M 671.2903225806451 496.4791007560173 671.2903225806451 450.8753705995942\" stroke=\"red\" stroke-width=\"2\"/><path d=\"M 655.1612903225806 450.8753705995942 671.2903225806451 450.8753705995942\" stroke=\"red\" stroke-width=\"2\"/><path d=\"M 149.78494623655914 510 149.78494623655914 447.9488627598259\" stroke=\"blue\" stroke-width=\"2\"/><path d=\"M 160.53763440860214 510 160.53763440860214 447.9488627598259\" stroke=\"blue\" stroke-width=\"2\"/><path d=\"M 149.78494623655914 447.9488627598259 160.53763440860214 447.9488627598259\" stroke=\"blue\" stroke-width=\"2\"/><path d=\"M 122.90322580645159 461.44709342866685 122.90322580645159 446.75078340006047\" stroke=\"blue\" stroke-width=\"2\"/><path d=\"M 139.03225806451613 510 139.03225806451613 446.75078340006047\" stroke=\"blue\" stroke-width=\"2\"/><path d=\"M 122.90322580645159 446.75078340006047 139.03225806451613 446.75078340006047\" stroke=\"blue\" stroke-width=\"2\"/><path d=\"M 520.752688172043 482.3543534482394 520.752688172043 445.0249063116844\" stroke=\"blue\" stroke-width=\"2\"/><path d=\"M 536.8817204301075 510 536.8817204301075 445.0249063116844\" stroke=\"blue\" stroke-width=\"2\"/><path d=\"M 520.752688172043 445.0249063116844 536.8817204301075 445.0249063116844\" stroke=\"blue\" stroke-width=\"2\"/><path d=\"M 155.16129032258064 447.9488627598259 155.16129032258064 442.8816165342317\" stroke=\"blue\" stroke-width=\"2\"/><path d=\"M 171.29032258064515 510 171.29032258064515 442.8816165342317\" stroke=\"blue\" stroke-width=\"2\"/><path d=\"M 155.16129032258064 442.8816165342317 171.29032258064515 442.8816165342317\" stroke=\"blue\" stroke-width=\"2\"/><path d=\"M 372.9032258064516 463.026458968162 372.9032258064516 440.8913003651934\" stroke=\"blue\" stroke-width=\"2\"/><path d=\"M 397.09677419354836 510 397.09677419354836 440.8913003651934\" stroke=\"blue\" stroke-width=\"2\"/><path d=\"M 372.9032258064516 440.8913003651934 397.09677419354836 440.8913003651934\" stroke=\"blue\" stroke-width=\"2\"/><path d=\"M 579.8924731182796 510 579.8924731182796 438.12719699743684\" stroke=\"blue\" stroke-width=\"2\"/><path d=\"M 590.6451612903226 510 590.6451612903226 438.12719699743684\" stroke=\"blue\" stroke-width=\"2\"/><path d=\"M 579.8924731182796 438.12719699743684 590.6451612903226 438.12719699743684\" stroke=\"blue\" stroke-width=\"2\"/><path d=\"M 413.22580645161287 474.28999504847974 413.22580645161287 437.0376372914086\" stroke=\"blue\" stroke-width=\"2\"/><path d=\"M 429.3548387096774 510 429.3548387096774 437.0376372914086\" stroke=\"blue\" stroke-width=\"2\"/><path d=\"M 413.22580645161287 437.0376372914086 429.3548387096774 437.0376372914086\" stroke=\"blue\" stroke-width=\"2\"/><path d=\"M 292.258064516129 458.7434569671141 292.258064516129 435.157427649055\" stroke=\"blue\" stroke-width=\"2\"/><path d=\"M 311.0752688172043 510 311.0752688172043 435.157427649055\" stroke=\"blue\" stroke-width=\"2\"/><path d=\"M 292.258064516129 435.157427649055 311.0752688172043 435.157427649055\" stroke=\"blue\" stroke-width=\"2\"/><path d=\"M 687.4193548387096 510 687.4193548387096 432.50276390951734\" stroke=\"red\" stroke-width=\"2\"/><path d=\"M 698.1720430107526 510 698.1720430107526 432.50276390951734\" stroke=\"red\" stroke-width=\"2\"/><path d=\"M 687.4193548387096 432.50276390951734 698.1720430107526 432.50276390951734\" stroke=\"red\" stroke-width=\"2\"/><path d=\"M 714.3010752688172 479.475031273826 714.3010752688172 431.5470190528176\" stroke=\"red\" stroke-width=\"2\"/><path d=\"M 743.8709677419354 472.239907714262 743.8709677419354 431.5470190528176\" stroke=\"red\" stroke-width=\"2\"/><path d=\"M 714.3010752688172 431.5470190528176 743.8709677419354 431.5470190528176\" stroke=\"red\" stroke-width=\"2\"/><path d=\"M 335.26881720430106 483.13412514410345 335.26881720430106 428.9004866558539\" stroke=\"blue\" stroke-width=\"2\"/><path d=\"M 354.0860215053763 510 354.0860215053763 428.9004866558539\" stroke=\"blue\" stroke-width=\"2\"/><path d=\"M 335.26881720430106 428.9004866558539 354.0860215053763 428.9004866558539\" stroke=\"blue\" stroke-width=\"2\"/><path d=\"M 453.54838709677415 454.64579558513526 453.54838709677415 426.7610758212059\" stroke=\"blue\" stroke-width=\"2\"/><path d=\"M 485.8064516129032 452.74909715089063 485.8064516129032 426.7610758212059\" stroke=\"blue\" stroke-width=\"2\"/><path d=\"M 453.54838709677415 426.7610758212059 485.8064516129032 426.7610758212059\" stroke=\"blue\" stroke-width=\"2\"/><path d=\"M 934.7311827956988 510 934.7311827956988 422.08230973638155\" stroke=\"red\" stroke-width=\"2\"/><path d=\"M 945.4838709677418 510 945.4838709677418 422.08230973638155\" stroke=\"red\" stroke-width=\"2\"/><path d=\"M 934.7311827956988 422.08230973638155 945.4838709677418 422.08230973638155\" stroke=\"red\" stroke-width=\"2\"/><path d=\"M 251.9354838709677 487.33072299908036 251.9354838709677 420.0139276159762\" stroke=\"blue\" stroke-width=\"2\"/><path d=\"M 268.06451612903226 510 268.06451612903226 420.0139276159762\" stroke=\"blue\" stroke-width=\"2\"/><path d=\"M 251.9354838709677 420.0139276159762 268.06451612903226 420.0139276159762\" stroke=\"blue\" stroke-width=\"2\"/><path d=\"M 633.6559139784946 510 633.6559139784946 415.76476665671004\" stroke=\"red\" stroke-width=\"2\"/><path d=\"M 644.4086021505376 510 644.4086021505376 415.76476665671004\" stroke=\"red\" stroke-width=\"2\"/><path d=\"M 633.6559139784946 415.76476665671004 644.4086021505376 415.76476665671004\" stroke=\"red\" stroke-width=\"2\"/><path d=\"M 870.2150537634408 510 870.2150537634408 414.7678625794017\" stroke=\"red\" stroke-width=\"2\"/><path d=\"M 880.9677419354838 510 880.9677419354838 414.7678625794017\" stroke=\"red\" stroke-width=\"2\"/><path d=\"M 870.2150537634408 414.7678625794017 880.9677419354838 414.7678625794017\" stroke=\"red\" stroke-width=\"2\"/><path d=\"M 130.96774193548384 446.75078340006047 130.96774193548384 414.1684965017297\" stroke=\"blue\" stroke-width=\"2\"/><path d=\"M 163.2258064516129 442.8816165342317 163.2258064516129 414.1684965017297\" stroke=\"blue\" stroke-width=\"2\"/><path d=\"M 130.96774193548384 414.1684965017297 163.2258064516129 414.1684965017297\" stroke=\"blue\" stroke-width=\"2\"/><path d=\"M 469.67741935483866 426.7610758212059 469.67741935483866 413.9292373375987\" stroke=\"blue\" stroke-width=\"2\"/><path d=\"M 504.62365591397844 510 504.62365591397844 413.9292373375987\" stroke=\"blue\" stroke-width=\"2\"/><path d=\"M 469.67741935483866 413.9292373375987 504.62365591397844 413.9292373375987\" stroke=\"blue\" stroke-width=\"2\"/><path d=\"M 729.0860215053763 431.5470190528176 729.0860215053763 412.51782057205617\" stroke=\"red\" stroke-width=\"2\"/><path d=\"M 768.0645161290322 476.36082986775324 768.0645161290322 412.51782057205617\" stroke=\"red\" stroke-width=\"2\"/><path d=\"M 729.0860215053763 412.51782057205617 768.0645161290322 412.51782057205617\" stroke=\"red\" stroke-width=\"2\"/><path d=\"M 897.0967741935483 474.91739511421713 897.0967741935483 412.4526127568978\" stroke=\"red\" stroke-width=\"2\"/><path d=\"M 918.6021505376343 468.8410513863139 918.6021505376343 412.4526127568978\" stroke=\"red\" stroke-width=\"2\"/><path d=\"M 897.0967741935483 412.4526127568978 918.6021505376343 412.4526127568978\" stroke=\"red\" stroke-width=\"2\"/><path d=\"M 969.6774193548385 470.375824937462 969.6774193548385 409.16447999926027\" stroke=\"red\" stroke-width=\"2\"/><path d=\"M 993.8709677419354 451.59907156176655 993.8709677419354 409.16447999926027\" stroke=\"red\" stroke-width=\"2\"/><path d=\"M 969.6774193548385 409.16447999926027 993.8709677419354 409.16447999926027\" stroke=\"red\" stroke-width=\"2\"/><path d=\"M 101.39784946236558 458.94763328299365 101.39784946236558 406.0765562272253\" stroke=\"blue\" stroke-width=\"2\"/><path d=\"M 147.09677419354836 414.1684965017297 147.09677419354836 406.0765562272253\" stroke=\"blue\" stroke-width=\"2\"/><path d=\"M 101.39784946236558 406.0765562272253 147.09677419354836 406.0765562272253\" stroke=\"blue\" stroke-width=\"2\"/><path d=\"M 260.0 420.0139276159762 260.0 396.08396147792536\" stroke=\"blue\" stroke-width=\"2\"/><path d=\"M 301.66666666666663 435.157427649055 301.66666666666663 396.08396147792536\" stroke=\"blue\" stroke-width=\"2\"/><path d=\"M 260.0 396.08396147792536 301.66666666666663 396.08396147792536\" stroke=\"blue\" stroke-width=\"2\"/><path d=\"M 832.5806451612902 459.1301274481262 832.5806451612902 395.53254957777466\" stroke=\"red\" stroke-width=\"2\"/><path d=\"M 875.5913978494623 414.7678625794017 875.5913978494623 395.53254957777466\" stroke=\"red\" stroke-width=\"2\"/><path d=\"M 832.5806451612902 395.53254957777466 875.5913978494623 395.53254957777466\" stroke=\"red\" stroke-width=\"2\"/><path d=\"M 203.54838709677418 510 203.54838709677418 394.96504384476196\" stroke=\"blue\" stroke-width=\"2\"/><path d=\"M 227.74193548387095 493.9478128388084 227.74193548387095 394.96504384476196\" stroke=\"blue\" stroke-width=\"2\"/><path d=\"M 203.54838709677418 394.96504384476196 227.74193548387095 394.96504384476196\" stroke=\"blue\" stroke-width=\"2\"/><path d=\"M 41.586021505376344 461.3494279454119 41.586021505376344 392.3973380053214\" stroke=\"blue\" stroke-width=\"2\"/><path d=\"M 85.26881720430107 510 85.26881720430107 392.3973380053214\" stroke=\"blue\" stroke-width=\"2\"/><path d=\"M 41.586021505376344 392.3973380053214 85.26881720430107 392.3973380053214\" stroke=\"blue\" stroke-width=\"2\"/><path d=\"M 487.1505376344086 413.9292373375987 487.1505376344086 386.2254540042962\" stroke=\"blue\" stroke-width=\"2\"/><path d=\"M 528.8172043010752 445.0249063116844 528.8172043010752 386.2254540042962\" stroke=\"blue\" stroke-width=\"2\"/><path d=\"M 487.1505376344086 386.2254540042962 528.8172043010752 386.2254540042962\" stroke=\"blue\" stroke-width=\"2\"/><path d=\"M 639.0322580645161 415.76476665671004 639.0322580645161 384.4522580055747\" stroke=\"red\" stroke-width=\"2\"/><path d=\"M 663.2258064516129 450.8753705995942 663.2258064516129 384.4522580055747\" stroke=\"red\" stroke-width=\"2\"/><path d=\"M 639.0322580645161 384.4522580055747 663.2258064516129 384.4522580055747\" stroke=\"red\" stroke-width=\"2\"/><path d=\"M 507.9838709677419 386.2254540042962 507.9838709677419 376.50021339194575\" stroke=\"blue\" stroke-width=\"2\"/><path d=\"M 561.0752688172042 461.3834490154976 561.0752688172042 376.50021339194575\" stroke=\"blue\" stroke-width=\"2\"/><path d=\"M 507.9838709677419 376.50021339194575 561.0752688172042 376.50021339194575\" stroke=\"blue\" stroke-width=\"2\"/><path d=\"M 907.8494623655913 412.4526127568978 907.8494623655913 371.7420515996822\" stroke=\"red\" stroke-width=\"2\"/><path d=\"M 940.1075268817203 422.08230973638155 940.1075268817203 371.7420515996822\" stroke=\"red\" stroke-width=\"2\"/><path d=\"M 907.8494623655913 371.7420515996822 940.1075268817203 371.7420515996822\" stroke=\"red\" stroke-width=\"2\"/><path d=\"M 344.67741935483866 428.9004866558539 344.67741935483866 367.5605582858856\" stroke=\"blue\" stroke-width=\"2\"/><path d=\"M 385.0 440.8913003651934 385.0 367.5605582858856\" stroke=\"blue\" stroke-width=\"2\"/><path d=\"M 344.67741935483866 367.5605582858856 385.0 367.5605582858856\" stroke=\"blue\" stroke-width=\"2\"/><path d=\"M 421.2903225806451 437.0376372914086 421.2903225806451 365.0752285300446\" stroke=\"blue\" stroke-width=\"2\"/><path d=\"M 534.5295698924731 376.50021339194575 534.5295698924731 365.0752285300446\" stroke=\"blue\" stroke-width=\"2\"/><path d=\"M 421.2903225806451 365.0752285300446 534.5295698924731 365.0752285300446\" stroke=\"blue\" stroke-width=\"2\"/><path d=\"M 63.427419354838705 392.3973380053214 63.427419354838705 358.3113755286913\" stroke=\"blue\" stroke-width=\"2\"/><path d=\"M 124.24731182795696 406.0765562272253 124.24731182795696 358.3113755286913\" stroke=\"blue\" stroke-width=\"2\"/><path d=\"M 63.427419354838705 358.3113755286913 124.24731182795696 358.3113755286913\" stroke=\"blue\" stroke-width=\"2\"/><path d=\"M 215.64516129032256 394.96504384476196 215.64516129032256 358.13092789367863\" stroke=\"blue\" stroke-width=\"2\"/><path d=\"M 280.8333333333333 396.08396147792536 280.8333333333333 358.13092789367863\" stroke=\"blue\" stroke-width=\"2\"/><path d=\"M 215.64516129032256 358.13092789367863 280.8333333333333 358.13092789367863\" stroke=\"blue\" stroke-width=\"2\"/><path d=\"M 748.5752688172042 412.51782057205617 748.5752688172042 341.059845404351\" stroke=\"red\" stroke-width=\"2\"/><path d=\"M 854.0860215053763 395.53254957777466 854.0860215053763 341.059845404351\" stroke=\"red\" stroke-width=\"2\"/><path d=\"M 748.5752688172042 341.059845404351 854.0860215053763 341.059845404351\" stroke=\"red\" stroke-width=\"2\"/><path d=\"M 606.7741935483871 473.14875844331266 606.7741935483871 336.025759156503\" stroke=\"red\" stroke-width=\"2\"/><path d=\"M 622.9032258064516 510 622.9032258064516 336.025759156503\" stroke=\"red\" stroke-width=\"2\"/><path d=\"M 606.7741935483871 336.025759156503 622.9032258064516 336.025759156503\" stroke=\"red\" stroke-width=\"2\"/><path d=\"M 477.9099462365591 365.0752285300446 477.9099462365591 332.0728728938334\" stroke=\"blue\" stroke-width=\"2\"/><path d=\"M 585.2688172043011 438.12719699743684 585.2688172043011 332.0728728938334\" stroke=\"blue\" stroke-width=\"2\"/><path d=\"M 477.9099462365591 332.0728728938334 585.2688172043011 332.0728728938334\" stroke=\"blue\" stroke-width=\"2\"/><path d=\"M 923.9784946236558 371.7420515996822 923.9784946236558 320.7946052156694\" stroke=\"red\" stroke-width=\"2\"/><path d=\"M 981.774193548387 409.16447999926027 981.774193548387 320.7946052156694\" stroke=\"red\" stroke-width=\"2\"/><path d=\"M 923.9784946236558 320.7946052156694 981.774193548387 320.7946052156694\" stroke=\"red\" stroke-width=\"2\"/><path d=\"M 614.8387096774193 336.025759156503 614.8387096774193 318.811969912069\" stroke=\"red\" stroke-width=\"2\"/><path d=\"M 651.1290322580645 384.4522580055747 651.1290322580645 318.811969912069\" stroke=\"red\" stroke-width=\"2\"/><path d=\"M 614.8387096774193 318.811969912069 651.1290322580645 318.811969912069\" stroke=\"red\" stroke-width=\"2\"/><path d=\"M 364.83870967741933 367.5605582858856 364.83870967741933 309.0911394691875\" stroke=\"blue\" stroke-width=\"2\"/><path d=\"M 531.5893817204301 332.0728728938334 531.5893817204301 309.0911394691875\" stroke=\"blue\" stroke-width=\"2\"/><path d=\"M 364.83870967741933 309.0911394691875 531.5893817204301 309.0911394691875\" stroke=\"blue\" stroke-width=\"2\"/><path d=\"M 632.983870967742 318.811969912069 632.983870967742 305.99349061207266\" stroke=\"red\" stroke-width=\"2\"/><path d=\"M 692.7956989247311 432.50276390951734 692.7956989247311 305.99349061207266\" stroke=\"red\" stroke-width=\"2\"/><path d=\"M 632.983870967742 305.99349061207266 692.7956989247311 305.99349061207266\" stroke=\"red\" stroke-width=\"2\"/><path d=\"M 801.3306451612902 341.059845404351 801.3306451612902 289.91277673889397\" stroke=\"red\" stroke-width=\"2\"/><path d=\"M 952.8763440860214 320.7946052156694 952.8763440860214 289.91277673889397\" stroke=\"red\" stroke-width=\"2\"/><path d=\"M 801.3306451612902 289.91277673889397 952.8763440860214 289.91277673889397\" stroke=\"red\" stroke-width=\"2\"/><path d=\"M 248.23924731182794 358.13092789367863 248.23924731182794 259.85607314001413\" stroke=\"blue\" stroke-width=\"2\"/><path d=\"M 448.2140456989247 309.0911394691875 448.2140456989247 259.85607314001413\" stroke=\"blue\" stroke-width=\"2\"/><path d=\"M 248.23924731182794 259.85607314001413 448.2140456989247 259.85607314001413\" stroke=\"blue\" stroke-width=\"2\"/><path d=\"M 662.8897849462365 305.99349061207266 662.8897849462365 257.99717164688343\" stroke=\"red\" stroke-width=\"2\"/><path d=\"M 877.1034946236558 289.91277673889397 877.1034946236558 257.99717164688343\" stroke=\"red\" stroke-width=\"2\"/><path d=\"M 662.8897849462365 257.99717164688343 877.1034946236558 257.99717164688343\" stroke=\"red\" stroke-width=\"2\"/><path d=\"M 93.83736559139783 358.3113755286913 93.83736559139783 247.72040961401927\" stroke=\"blue\" stroke-width=\"2\"/><path d=\"M 187.41935483870967 478.96968028099263 187.41935483870967 247.72040961401927\" stroke=\"blue\" stroke-width=\"2\"/><path d=\"M 93.83736559139783 247.72040961401927 187.41935483870967 247.72040961401927\" stroke=\"blue\" stroke-width=\"2\"/><path d=\"M 140.62836021505376 247.72040961401927 140.62836021505376 189.60450718977359\" stroke=\"blue\" stroke-width=\"2\"/><path d=\"M 348.2266465053763 259.85607314001413 348.2266465053763 189.60450718977359\" stroke=\"blue\" stroke-width=\"2\"/><path d=\"M 140.62836021505376 189.60450718977359 348.2266465053763 189.60450718977359\" stroke=\"blue\" stroke-width=\"2\"/><path d=\"M 244.42750336021504 189.60450718977359 244.42750336021504 10.0\" stroke=\"black\" stroke-width=\"2\"/><path d=\"M 769.9966397849462 257.99717164688343 769.9966397849462 10.0\" stroke=\"black\" stroke-width=\"2\"/><path d=\"M 244.42750336021504 10.0 769.9966397849462 10.0\" stroke=\"black\" stroke-width=\"2\"/></svg>"
          },
          "metadata": {},
          "execution_count": 614
        }
      ]
    },
    {
      "cell_type": "markdown",
      "source": [
        "**Metrics**"
      ],
      "metadata": {
        "id": "N-3ZAGYhhRfv"
      }
    },
    {
      "cell_type": "code",
      "source": [
        "nodelist = list(G_reduced.nodes)\n",
        "labels = list(cut_straight(dendrogram, n_clusters=2, return_dendrogram=False))\n",
        "\n",
        "community_dend = [[],[]]\n",
        "i = 0\n",
        "for node in nodelist:\n",
        "  community_dend[labels[i]].append(node)\n",
        "  i += 1\n",
        "\n",
        "_ = compute_metrics(G_reduced, community_dend)"
      ],
      "metadata": {
        "colab": {
          "base_uri": "https://localhost:8080/"
        },
        "outputId": "26632f9b-caea-402e-a288-c81110c43c00",
        "id": "9tSniA6ChRfv"
      },
      "execution_count": 615,
      "outputs": [
        {
          "output_type": "stream",
          "name": "stdout",
          "text": [
            "Coverage:  0.6247594611930725\n",
            "Performance:  0.5794763908368397\n",
            "Modularity:  0.2191017852287217\n"
          ]
        }
      ]
    },
    {
      "cell_type": "code",
      "source": [
        "image = svg_dendrogram(dendrogram, names, n_clusters=4, rotate=False,width=1000,height=500,filename='community_dendogram4'+period)\n",
        "SVG(image)"
      ],
      "metadata": {
        "colab": {
          "base_uri": "https://localhost:8080/",
          "height": 0
        },
        "outputId": "692e3662-a176-4daa-a25a-d41a64cfe528",
        "id": "4thDPCF4hRfv"
      },
      "execution_count": 616,
      "outputs": [
        {
          "output_type": "execute_result",
          "data": {
            "text/plain": [
              "<IPython.core.display.SVG object>"
            ],
            "image/svg+xml": "<svg height=\"597.0\" width=\"1020\" xmlns=\"http://www.w3.org/2000/svg\"><text font-size=\"12\" transform=\"rotate(60, 445.8602150537634, 515)\" x=\"445.8602150537634\" y=\"515\">daily</text><text font-size=\"12\" transform=\"rotate(60, 488.87096774193543, 515)\" x=\"488.87096774193543\" y=\"515\">case</text><text font-size=\"12\" transform=\"rotate(60, 392.09677419354836, 515)\" x=\"392.09677419354836\" y=\"515\">infection</text><text font-size=\"12\" transform=\"rotate(60, 521.1290322580645, 515)\" x=\"521.1290322580645\" y=\"515\">high</text><text font-size=\"12\" transform=\"rotate(60, 940.4838709677418, 515)\" x=\"940.4838709677418\" y=\"515\">since</text><text font-size=\"12\" transform=\"rotate(60, 531.8817204301075, 515)\" x=\"531.8817204301075\" y=\"515\">number</text><text font-size=\"12\" transform=\"rotate(60, 564.1397849462365, 515)\" x=\"564.1397849462365\" y=\"515\">new</text><text font-size=\"12\" transform=\"rotate(60, 456.6129032258064, 515)\" x=\"456.6129032258064\" y=\"515\">hit</text><text font-size=\"12\" transform=\"rotate(60, 435.1075268817204, 515)\" x=\"435.1075268817204\" y=\"515\">record</text><text font-size=\"12\" transform=\"rotate(60, 187.79569892473117, 515)\" x=\"187.79569892473117\" y=\"515\">week</text><text font-size=\"12\" transform=\"rotate(60, 499.62365591397844, 515)\" x=\"499.62365591397844\" y=\"515\">report</text><text font-size=\"12\" transform=\"rotate(60, 983.4946236559139, 515)\" x=\"983.4946236559139\" y=\"515\">test</text><text font-size=\"12\" transform=\"rotate(60, 349.0860215053763, 515)\" x=\"349.0860215053763\" y=\"515\">health</text><text font-size=\"12\" transform=\"rotate(60, 897.4731182795698, 515)\" x=\"897.4731182795698\" y=\"515\">first</text><text font-size=\"12\" transform=\"rotate(60, 918.9784946236558, 515)\" x=\"918.9784946236558\" y=\"515\">time</text><text font-size=\"12\" transform=\"rotate(60, 295.3225806451613, 515)\" x=\"295.3225806451613\" y=\"515\">death</text><text font-size=\"12\" transform=\"rotate(60, 617.9032258064516, 515)\" x=\"617.9032258064516\" y=\"515\">say</text><text font-size=\"12\" transform=\"rotate(60, 101.77419354838709, 515)\" x=\"101.77419354838709\" y=\"515\">month</text><text font-size=\"12\" transform=\"rotate(60, 370.59139784946234, 515)\" x=\"370.59139784946234\" y=\"515\">country</text><text font-size=\"12\" transform=\"rotate(60, 467.3655913978494, 515)\" x=\"467.3655913978494\" y=\"515\">rise</text><text font-size=\"12\" transform=\"rotate(60, 166.29032258064515, 515)\" x=\"166.29032258064515\" y=\"515\">get</text><text font-size=\"12\" transform=\"rotate(60, 951.2365591397848, 515)\" x=\"951.2365591397848\" y=\"515\">top</text><text font-size=\"12\" transform=\"rotate(60, 134.03225806451613, 515)\" x=\"134.03225806451613\" y=\"515\">see</text><text font-size=\"12\" transform=\"rotate(60, 402.84946236559136, 515)\" x=\"402.84946236559136\" y=\"515\">expert</text><text font-size=\"12\" transform=\"rotate(60, 273.81720430107526, 515)\" x=\"273.81720430107526\" y=\"515\">million</text><text font-size=\"12\" transform=\"rotate(60, 639.4086021505376, 515)\" x=\"639.4086021505376\" y=\"515\">pandemic</text><text font-size=\"12\" transform=\"rotate(60, 682.4193548387096, 515)\" x=\"682.4193548387096\" y=\"515\">take</text><text font-size=\"12\" transform=\"rotate(60, 478.1182795698924, 515)\" x=\"478.1182795698924\" y=\"515\">confirm</text><text font-size=\"12\" transform=\"rotate(60, 80.26881720430107, 515)\" x=\"80.26881720430107\" y=\"515\">one</text><text font-size=\"12\" transform=\"rotate(60, 198.54838709677418, 515)\" x=\"198.54838709677418\" y=\"515\">accord</text><text font-size=\"12\" transform=\"rotate(60, 929.7311827956988, 515)\" x=\"929.7311827956988\" y=\"515\">announce</text><text font-size=\"12\" transform=\"rotate(60, 69.51612903225806, 515)\" x=\"69.51612903225806\" y=\"515\">data</text><text font-size=\"12\" transform=\"rotate(60, 284.5698924731183, 515)\" x=\"284.5698924731183\" y=\"515\">global</text><text font-size=\"12\" transform=\"rotate(60, 112.5268817204301, 515)\" x=\"112.5268817204301\" y=\"515\">follow</text><text font-size=\"12\" transform=\"rotate(60, 241.5591397849462, 515)\" x=\"241.5591397849462\" y=\"515\">people</text><text font-size=\"12\" transform=\"rotate(60, 994.2473118279569, 515)\" x=\"994.2473118279569\" y=\"515\">positive</text><text font-size=\"12\" transform=\"rotate(60, 123.27956989247309, 515)\" x=\"123.27956989247309\" y=\"515\">second</text><text font-size=\"12\" transform=\"rotate(60, 413.6021505376344, 515)\" x=\"413.6021505376344\" y=\"515\">surge</text><text font-size=\"12\" transform=\"rotate(60, 972.7419354838709, 515)\" x=\"972.7419354838709\" y=\"515\">official</text><text font-size=\"12\" transform=\"rotate(60, 338.3333333333333, 515)\" x=\"338.3333333333333\" y=\"515\">government</text><text font-size=\"12\" transform=\"rotate(60, 26.50537634408602, 515)\" x=\"26.50537634408602\" y=\"515\">show</text><text font-size=\"12\" transform=\"rotate(60, 209.3010752688172, 515)\" x=\"209.3010752688172\" y=\"515\">center</text><text font-size=\"12\" transform=\"rotate(60, 220.0537634408602, 515)\" x=\"220.0537634408602\" y=\"515\">disease</text><text font-size=\"12\" transform=\"rotate(60, 306.0752688172043, 515)\" x=\"306.0752688172043\" y=\"515\">world</text><text font-size=\"12\" transform=\"rotate(60, 650.1612903225806, 515)\" x=\"650.1612903225806\" y=\"515\">could</text><text font-size=\"12\" transform=\"rotate(60, 714.6774193548387, 515)\" x=\"714.6774193548387\" y=\"515\">public</text><text font-size=\"12\" transform=\"rotate(60, 381.34408602150535, 515)\" x=\"381.34408602150535\" y=\"515\">outbreak</text><text font-size=\"12\" transform=\"rotate(60, 607.1505376344086, 515)\" x=\"607.1505376344086\" y=\"515\">spread</text><text font-size=\"12\" transform=\"rotate(60, 693.1720430107526, 515)\" x=\"693.1720430107526\" y=\"515\">hour</text><text font-size=\"12\" transform=\"rotate(60, 542.6344086021505, 515)\" x=\"542.6344086021505\" y=\"515\">city</text><text font-size=\"12\" transform=\"rotate(60, 585.6451612903226, 515)\" x=\"585.6451612903226\" y=\"515\">china</text><text font-size=\"12\" transform=\"rotate(60, 144.78494623655914, 515)\" x=\"144.78494623655914\" y=\"515\">back</text><text font-size=\"12\" transform=\"rotate(60, 574.8924731182796, 515)\" x=\"574.8924731182796\" y=\"515\">day</text><text font-size=\"12\" transform=\"rotate(60, 424.3548387096774, 515)\" x=\"424.3548387096774\" y=\"515\">state</text><text font-size=\"12\" transform=\"rotate(60, 875.9677419354838, 515)\" x=\"875.9677419354838\" y=\"515\">president</text><text font-size=\"12\" transform=\"rotate(60, 865.2150537634408, 515)\" x=\"865.2150537634408\" y=\"515\">trump</text><text font-size=\"12\" transform=\"rotate(60, 553.3870967741935, 515)\" x=\"553.3870967741935\" y=\"515\">york</text><text font-size=\"12\" transform=\"rotate(60, 177.04301075268816, 515)\" x=\"177.04301075268816\" y=\"515\">last</text><text font-size=\"12\" transform=\"rotate(60, 91.02150537634408, 515)\" x=\"91.02150537634408\" y=\"515\">two</text><text font-size=\"12\" transform=\"rotate(60, 596.3978494623656, 515)\" x=\"596.3978494623656\" y=\"515\">virus</text><text font-size=\"12\" transform=\"rotate(60, 316.8279569892473, 515)\" x=\"316.8279569892473\" y=\"515\">minister</text><text font-size=\"12\" transform=\"rotate(60, 327.5806451612903, 515)\" x=\"327.5806451612903\" y=\"515\">restriction</text><text font-size=\"12\" transform=\"rotate(60, 263.06451612903226, 515)\" x=\"263.06451612903226\" y=\"515\">may</text><text font-size=\"12\" transform=\"rotate(60, 746.9354838709677, 515)\" x=\"746.9354838709677\" y=\"515\">hospital</text><text font-size=\"12\" transform=\"rotate(60, 252.3118279569892, 515)\" x=\"252.3118279569892\" y=\"515\">die</text><text font-size=\"12\" transform=\"rotate(60, 725.4301075268817, 515)\" x=\"725.4301075268817\" y=\"515\">doctor</text><text font-size=\"12\" transform=\"rotate(60, 908.2258064516128, 515)\" x=\"908.2258064516128\" y=\"515\">year</text><text font-size=\"12\" transform=\"rotate(60, 15.752688172043008, 515)\" x=\"15.752688172043008\" y=\"515\">study</text><text font-size=\"12\" transform=\"rotate(60, 961.9892473118279, 515)\" x=\"961.9892473118279\" y=\"515\">quarantine</text><text font-size=\"12\" transform=\"rotate(60, 757.6881720430107, 515)\" x=\"757.6881720430107\" y=\"515\">white</text><text font-size=\"12\" transform=\"rotate(60, 768.4408602150537, 515)\" x=\"768.4408602150537\" y=\"515\">house</text><text font-size=\"12\" transform=\"rotate(60, 155.53763440860214, 515)\" x=\"155.53763440860214\" y=\"515\">make</text><text font-size=\"12\" transform=\"rotate(60, 230.8064516129032, 515)\" x=\"230.8064516129032\" y=\"515\">medical</text><text font-size=\"12\" transform=\"rotate(60, 736.1827956989247, 515)\" x=\"736.1827956989247\" y=\"515\">return</text><text font-size=\"12\" transform=\"rotate(60, 510.3763440860214, 515)\" x=\"510.3763440860214\" y=\"515\">risk</text><text font-size=\"12\" transform=\"rotate(60, 5.0, 515)\" x=\"5.0\" y=\"515\">work</text><text font-size=\"12\" transform=\"rotate(60, 822.2043010752687, 515)\" x=\"822.2043010752687\" y=\"515\">democratic</text><text font-size=\"12\" transform=\"rotate(60, 789.9462365591397, 515)\" x=\"789.9462365591397\" y=\"515\">presidential</text><text font-size=\"12\" transform=\"rotate(60, 832.9569892473118, 515)\" x=\"832.9569892473118\" y=\"515\">joe</text><text font-size=\"12\" transform=\"rotate(60, 854.4623655913978, 515)\" x=\"854.4623655913978\" y=\"515\">negative</text><text font-size=\"12\" transform=\"rotate(60, 886.7204301075268, 515)\" x=\"886.7204301075268\" y=\"515\">lady</text><text font-size=\"12\" transform=\"rotate(60, 37.25806451612903, 515)\" x=\"37.25806451612903\" y=\"515\">clinical</text><text font-size=\"12\" transform=\"rotate(60, 48.01075268817204, 515)\" x=\"48.01075268817204\" y=\"515\">trial</text><text font-size=\"12\" transform=\"rotate(60, 843.7096774193548, 515)\" x=\"843.7096774193548\" y=\"515\">campaign</text><text font-size=\"12\" transform=\"rotate(60, 58.76344086021505, 515)\" x=\"58.76344086021505\" y=\"515\">johnson</text><text font-size=\"12\" transform=\"rotate(60, 671.6666666666666, 515)\" x=\"671.6666666666666\" y=\"515\">relief</text><text font-size=\"12\" transform=\"rotate(60, 800.6989247311827, 515)\" x=\"800.6989247311827\" y=\"515\">vice</text><text font-size=\"12\" transform=\"rotate(60, 811.4516129032257, 515)\" x=\"811.4516129032257\" y=\"515\">nominee</text><text font-size=\"12\" transform=\"rotate(60, 779.1935483870967, 515)\" x=\"779.1935483870967\" y=\"515\">debate</text><text font-size=\"12\" transform=\"rotate(60, 703.9247311827957, 515)\" x=\"703.9247311827957\" y=\"515\">mask</text><text font-size=\"12\" transform=\"rotate(60, 660.9139784946236, 515)\" x=\"660.9139784946236\" y=\"515\">election</text><text font-size=\"12\" transform=\"rotate(60, 359.83870967741933, 515)\" x=\"359.83870967741933\" y=\"515\">help</text><text font-size=\"12\" transform=\"rotate(60, 628.6559139784946, 515)\" x=\"628.6559139784946\" y=\"515\">plan</text><path d=\"M 214.3010752688172 510 214.3010752688172 502.67024858479533\" stroke=\"red\" stroke-width=\"2\"/><path d=\"M 225.0537634408602 510 225.0537634408602 502.67024858479533\" stroke=\"red\" stroke-width=\"2\"/><path d=\"M 214.3010752688172 502.67024858479533 225.0537634408602 502.67024858479533\" stroke=\"red\" stroke-width=\"2\"/><path d=\"M 42.25806451612903 510 42.25806451612903 501.97964690629567\" stroke=\"green\" stroke-width=\"2\"/><path d=\"M 53.01075268817204 510 53.01075268817204 501.97964690629567\" stroke=\"green\" stroke-width=\"2\"/><path d=\"M 42.25806451612903 501.97964690629567 53.01075268817204 501.97964690629567\" stroke=\"green\" stroke-width=\"2\"/><path d=\"M 816.4516129032257 510 816.4516129032257 498.3343878903324\" stroke=\"blue\" stroke-width=\"2\"/><path d=\"M 827.2043010752687 510 827.2043010752687 498.3343878903324\" stroke=\"blue\" stroke-width=\"2\"/><path d=\"M 816.4516129032257 498.3343878903324 827.2043010752687 498.3343878903324\" stroke=\"blue\" stroke-width=\"2\"/><path d=\"M 47.634408602150536 501.97964690629567 47.634408602150536 497.6680901445474\" stroke=\"green\" stroke-width=\"2\"/><path d=\"M 63.76344086021505 510 63.76344086021505 497.6680901445474\" stroke=\"green\" stroke-width=\"2\"/><path d=\"M 47.634408602150536 497.6680901445474 63.76344086021505 497.6680901445474\" stroke=\"green\" stroke-width=\"2\"/><path d=\"M 547.6344086021505 510 547.6344086021505 496.7831140686176\" stroke=\"red\" stroke-width=\"2\"/><path d=\"M 558.3870967741935 510 558.3870967741935 496.7831140686176\" stroke=\"red\" stroke-width=\"2\"/><path d=\"M 547.6344086021505 496.7831140686176 558.3870967741935 496.7831140686176\" stroke=\"red\" stroke-width=\"2\"/><path d=\"M 665.9139784946236 510 665.9139784946236 496.4791007560173\" stroke=\"blue\" stroke-width=\"2\"/><path d=\"M 676.6666666666666 510 676.6666666666666 496.4791007560173\" stroke=\"blue\" stroke-width=\"2\"/><path d=\"M 665.9139784946236 496.4791007560173 676.6666666666666 496.4791007560173\" stroke=\"blue\" stroke-width=\"2\"/><path d=\"M 794.9462365591397 510 794.9462365591397 496.0496816405969\" stroke=\"blue\" stroke-width=\"2\"/><path d=\"M 805.6989247311827 510 805.6989247311827 496.0496816405969\" stroke=\"blue\" stroke-width=\"2\"/><path d=\"M 794.9462365591397 496.0496816405969 805.6989247311827 496.0496816405969\" stroke=\"blue\" stroke-width=\"2\"/><path d=\"M 784.1935483870967 510 784.1935483870967 495.1280598591336\" stroke=\"blue\" stroke-width=\"2\"/><path d=\"M 800.3225806451612 496.0496816405969 800.3225806451612 495.1280598591336\" stroke=\"blue\" stroke-width=\"2\"/><path d=\"M 784.1935483870967 495.1280598591336 800.3225806451612 495.1280598591336\" stroke=\"blue\" stroke-width=\"2\"/><path d=\"M 20.75268817204301 510 20.75268817204301 494.45756164937484\" stroke=\"green\" stroke-width=\"2\"/><path d=\"M 31.50537634408602 510 31.50537634408602 494.45756164937484\" stroke=\"green\" stroke-width=\"2\"/><path d=\"M 20.75268817204301 494.45756164937484 31.50537634408602 494.45756164937484\" stroke=\"green\" stroke-width=\"2\"/><path d=\"M 219.6774193548387 502.67024858479533 219.6774193548387 493.9478128388084\" stroke=\"red\" stroke-width=\"2\"/><path d=\"M 235.8064516129032 510 235.8064516129032 493.9478128388084\" stroke=\"red\" stroke-width=\"2\"/><path d=\"M 219.6774193548387 493.9478128388084 235.8064516129032 493.9478128388084\" stroke=\"red\" stroke-width=\"2\"/><path d=\"M 821.8279569892472 498.3343878903324 821.8279569892472 491.1023159804196\" stroke=\"blue\" stroke-width=\"2\"/><path d=\"M 837.9569892473118 510 837.9569892473118 491.1023159804196\" stroke=\"blue\" stroke-width=\"2\"/><path d=\"M 821.8279569892472 491.1023159804196 837.9569892473118 491.1023159804196\" stroke=\"blue\" stroke-width=\"2\"/><path d=\"M 246.5591397849462 510 246.5591397849462 487.33072299908036\" stroke=\"red\" stroke-width=\"2\"/><path d=\"M 257.3118279569892 510 257.3118279569892 487.33072299908036\" stroke=\"red\" stroke-width=\"2\"/><path d=\"M 246.5591397849462 487.33072299908036 257.3118279569892 487.33072299908036\" stroke=\"red\" stroke-width=\"2\"/><path d=\"M 10.0 510 10.0 486.616378942339\" stroke=\"green\" stroke-width=\"2\"/><path d=\"M 26.129032258064512 494.45756164937484 26.129032258064512 486.616378942339\" stroke=\"green\" stroke-width=\"2\"/><path d=\"M 10.0 486.616378942339 26.129032258064512 486.616378942339\" stroke=\"green\" stroke-width=\"2\"/><path d=\"M 321.8279569892473 510 321.8279569892473 485.85924591971263\" stroke=\"red\" stroke-width=\"2\"/><path d=\"M 332.5806451612903 510 332.5806451612903 485.85924591971263\" stroke=\"red\" stroke-width=\"2\"/><path d=\"M 321.8279569892473 485.85924591971263 332.5806451612903 485.85924591971263\" stroke=\"red\" stroke-width=\"2\"/><path d=\"M 327.2043010752688 485.85924591971263 327.2043010752688 483.13412514410345\" stroke=\"red\" stroke-width=\"2\"/><path d=\"M 343.3333333333333 510 343.3333333333333 483.13412514410345\" stroke=\"red\" stroke-width=\"2\"/><path d=\"M 327.2043010752688 483.13412514410345 343.3333333333333 483.13412514410345\" stroke=\"red\" stroke-width=\"2\"/><path d=\"M 55.69892473118279 497.6680901445474 55.69892473118279 482.79831439814063\" stroke=\"green\" stroke-width=\"2\"/><path d=\"M 74.51612903225806 510 74.51612903225806 482.79831439814063\" stroke=\"green\" stroke-width=\"2\"/><path d=\"M 55.69892473118279 482.79831439814063 74.51612903225806 482.79831439814063\" stroke=\"green\" stroke-width=\"2\"/><path d=\"M 515.3763440860214 510 515.3763440860214 482.3543534482394\" stroke=\"red\" stroke-width=\"2\"/><path d=\"M 526.1290322580645 510 526.1290322580645 482.3543534482394\" stroke=\"red\" stroke-width=\"2\"/><path d=\"M 515.3763440860214 482.3543534482394 526.1290322580645 482.3543534482394\" stroke=\"red\" stroke-width=\"2\"/><path d=\"M 792.258064516129 495.1280598591336 792.258064516129 482.34951397729094\" stroke=\"blue\" stroke-width=\"2\"/><path d=\"M 829.8924731182794 491.1023159804196 829.8924731182794 482.34951397729094\" stroke=\"blue\" stroke-width=\"2\"/><path d=\"M 792.258064516129 482.34951397729094 829.8924731182794 482.34951397729094\" stroke=\"blue\" stroke-width=\"2\"/><path d=\"M 730.4301075268817 510 730.4301075268817 482.30176074692605\" stroke=\"blue\" stroke-width=\"2\"/><path d=\"M 741.1827956989247 510 741.1827956989247 482.30176074692605\" stroke=\"blue\" stroke-width=\"2\"/><path d=\"M 730.4301075268817 482.30176074692605 741.1827956989247 482.30176074692605\" stroke=\"blue\" stroke-width=\"2\"/><path d=\"M 440.1075268817204 510 440.1075268817204 481.39052571804035\" stroke=\"red\" stroke-width=\"2\"/><path d=\"M 450.8602150537634 510 450.8602150537634 481.39052571804035\" stroke=\"red\" stroke-width=\"2\"/><path d=\"M 440.1075268817204 481.39052571804035 450.8602150537634 481.39052571804035\" stroke=\"red\" stroke-width=\"2\"/><path d=\"M 708.9247311827957 510 708.9247311827957 479.475031273826\" stroke=\"blue\" stroke-width=\"2\"/><path d=\"M 719.6774193548387 510 719.6774193548387 479.475031273826\" stroke=\"blue\" stroke-width=\"2\"/><path d=\"M 708.9247311827957 479.475031273826 719.6774193548387 479.475031273826\" stroke=\"blue\" stroke-width=\"2\"/><path d=\"M 956.2365591397848 510 956.2365591397848 479.33042511183373\" stroke=\"blue\" stroke-width=\"2\"/><path d=\"M 966.9892473118279 510 966.9892473118279 479.33042511183373\" stroke=\"blue\" stroke-width=\"2\"/><path d=\"M 956.2365591397848 479.33042511183373 966.9892473118279 479.33042511183373\" stroke=\"blue\" stroke-width=\"2\"/><path d=\"M 182.04301075268816 510 182.04301075268816 478.96968028099263\" stroke=\"orange\" stroke-width=\"2\"/><path d=\"M 192.79569892473117 510 192.79569892473117 478.96968028099263\" stroke=\"orange\" stroke-width=\"2\"/><path d=\"M 182.04301075268816 478.96968028099263 192.79569892473117 478.96968028099263\" stroke=\"orange\" stroke-width=\"2\"/><path d=\"M 472.3655913978494 510 472.3655913978494 476.5973825249274\" stroke=\"red\" stroke-width=\"2\"/><path d=\"M 483.1182795698924 510 483.1182795698924 476.5973825249274\" stroke=\"red\" stroke-width=\"2\"/><path d=\"M 472.3655913978494 476.5973825249274 483.1182795698924 476.5973825249274\" stroke=\"red\" stroke-width=\"2\"/><path d=\"M 762.6881720430107 510 762.6881720430107 476.36082986775324\" stroke=\"blue\" stroke-width=\"2\"/><path d=\"M 773.4408602150537 510 773.4408602150537 476.36082986775324\" stroke=\"blue\" stroke-width=\"2\"/><path d=\"M 762.6881720430107 476.36082986775324 773.4408602150537 476.36082986775324\" stroke=\"blue\" stroke-width=\"2\"/><path d=\"M 891.7204301075268 510 891.7204301075268 474.91739511421713\" stroke=\"blue\" stroke-width=\"2\"/><path d=\"M 902.4731182795698 510 902.4731182795698 474.91739511421713\" stroke=\"blue\" stroke-width=\"2\"/><path d=\"M 891.7204301075268 474.91739511421713 902.4731182795698 474.91739511421713\" stroke=\"blue\" stroke-width=\"2\"/><path d=\"M 407.84946236559136 510 407.84946236559136 474.28999504847974\" stroke=\"red\" stroke-width=\"2\"/><path d=\"M 418.6021505376344 510 418.6021505376344 474.28999504847974\" stroke=\"red\" stroke-width=\"2\"/><path d=\"M 407.84946236559136 474.28999504847974 418.6021505376344 474.28999504847974\" stroke=\"red\" stroke-width=\"2\"/><path d=\"M 848.7096774193548 510 848.7096774193548 474.1389819216227\" stroke=\"blue\" stroke-width=\"2\"/><path d=\"M 859.4623655913978 510 859.4623655913978 474.1389819216227\" stroke=\"blue\" stroke-width=\"2\"/><path d=\"M 848.7096774193548 474.1389819216227 859.4623655913978 474.1389819216227\" stroke=\"blue\" stroke-width=\"2\"/><path d=\"M 375.59139784946234 510 375.59139784946234 473.7406097818244\" stroke=\"red\" stroke-width=\"2\"/><path d=\"M 386.34408602150535 510 386.34408602150535 473.7406097818244\" stroke=\"red\" stroke-width=\"2\"/><path d=\"M 375.59139784946234 473.7406097818244 386.34408602150535 473.7406097818244\" stroke=\"red\" stroke-width=\"2\"/><path d=\"M 601.3978494623656 510 601.3978494623656 473.14875844331266\" stroke=\"blue\" stroke-width=\"2\"/><path d=\"M 612.1505376344086 510 612.1505376344086 473.14875844331266\" stroke=\"blue\" stroke-width=\"2\"/><path d=\"M 601.3978494623656 473.14875844331266 612.1505376344086 473.14875844331266\" stroke=\"blue\" stroke-width=\"2\"/><path d=\"M 278.81720430107526 510 278.81720430107526 472.7333383329884\" stroke=\"red\" stroke-width=\"2\"/><path d=\"M 289.5698924731183 510 289.5698924731183 472.7333383329884\" stroke=\"red\" stroke-width=\"2\"/><path d=\"M 278.81720430107526 472.7333383329884 289.5698924731183 472.7333383329884\" stroke=\"red\" stroke-width=\"2\"/><path d=\"M 735.8064516129032 482.30176074692605 735.8064516129032 472.239907714262\" stroke=\"blue\" stroke-width=\"2\"/><path d=\"M 751.9354838709677 510 751.9354838709677 472.239907714262\" stroke=\"blue\" stroke-width=\"2\"/><path d=\"M 735.8064516129032 472.239907714262 751.9354838709677 472.239907714262\" stroke=\"blue\" stroke-width=\"2\"/><path d=\"M 961.6129032258063 479.33042511183373 961.6129032258063 470.375824937462\" stroke=\"blue\" stroke-width=\"2\"/><path d=\"M 977.7419354838709 510 977.7419354838709 470.375824937462\" stroke=\"blue\" stroke-width=\"2\"/><path d=\"M 961.6129032258063 470.375824937462 977.7419354838709 470.375824937462\" stroke=\"blue\" stroke-width=\"2\"/><path d=\"M 913.2258064516128 510 913.2258064516128 468.8410513863139\" stroke=\"blue\" stroke-width=\"2\"/><path d=\"M 923.9784946236558 510 923.9784946236558 468.8410513863139\" stroke=\"blue\" stroke-width=\"2\"/><path d=\"M 913.2258064516128 468.8410513863139 923.9784946236558 468.8410513863139\" stroke=\"blue\" stroke-width=\"2\"/><path d=\"M 364.83870967741933 510 364.83870967741933 463.026458968162\" stroke=\"red\" stroke-width=\"2\"/><path d=\"M 380.96774193548384 473.7406097818244 380.96774193548384 463.026458968162\" stroke=\"red\" stroke-width=\"2\"/><path d=\"M 364.83870967741933 463.026458968162 380.96774193548384 463.026458968162\" stroke=\"red\" stroke-width=\"2\"/><path d=\"M 117.5268817204301 510 117.5268817204301 461.44709342866685\" stroke=\"green\" stroke-width=\"2\"/><path d=\"M 128.2795698924731 510 128.2795698924731 461.44709342866685\" stroke=\"green\" stroke-width=\"2\"/><path d=\"M 117.5268817204301 461.44709342866685 128.2795698924731 461.44709342866685\" stroke=\"green\" stroke-width=\"2\"/><path d=\"M 553.010752688172 496.7831140686176 553.010752688172 461.3834490154976\" stroke=\"red\" stroke-width=\"2\"/><path d=\"M 569.1397849462365 510 569.1397849462365 461.3834490154976\" stroke=\"red\" stroke-width=\"2\"/><path d=\"M 553.010752688172 461.3834490154976 569.1397849462365 461.3834490154976\" stroke=\"red\" stroke-width=\"2\"/><path d=\"M 18.064516129032256 486.616378942339 18.064516129032256 461.3494279454119\" stroke=\"green\" stroke-width=\"2\"/><path d=\"M 65.10752688172043 482.79831439814063 65.10752688172043 461.3494279454119\" stroke=\"green\" stroke-width=\"2\"/><path d=\"M 18.064516129032256 461.3494279454119 65.10752688172043 461.3494279454119\" stroke=\"green\" stroke-width=\"2\"/><path d=\"M 811.0752688172042 482.34951397729094 811.0752688172042 459.1301274481262\" stroke=\"blue\" stroke-width=\"2\"/><path d=\"M 854.0860215053763 474.1389819216227 854.0860215053763 459.1301274481262\" stroke=\"blue\" stroke-width=\"2\"/><path d=\"M 811.0752688172042 459.1301274481262 854.0860215053763 459.1301274481262\" stroke=\"blue\" stroke-width=\"2\"/><path d=\"M 96.02150537634408 510 96.02150537634408 458.94763328299365\" stroke=\"green\" stroke-width=\"2\"/><path d=\"M 106.77419354838709 510 106.77419354838709 458.94763328299365\" stroke=\"green\" stroke-width=\"2\"/><path d=\"M 96.02150537634408 458.94763328299365 106.77419354838709 458.94763328299365\" stroke=\"green\" stroke-width=\"2\"/><path d=\"M 284.19354838709677 472.7333383329884 284.19354838709677 458.7434569671141\" stroke=\"red\" stroke-width=\"2\"/><path d=\"M 300.3225806451613 510 300.3225806451613 458.7434569671141\" stroke=\"red\" stroke-width=\"2\"/><path d=\"M 284.19354838709677 458.7434569671141 300.3225806451613 458.7434569671141\" stroke=\"red\" stroke-width=\"2\"/><path d=\"M 445.4838709677419 481.39052571804035 445.4838709677419 454.64579558513526\" stroke=\"red\" stroke-width=\"2\"/><path d=\"M 461.6129032258064 510 461.6129032258064 454.64579558513526\" stroke=\"red\" stroke-width=\"2\"/><path d=\"M 445.4838709677419 454.64579558513526 461.6129032258064 454.64579558513526\" stroke=\"red\" stroke-width=\"2\"/><path d=\"M 477.7419354838709 476.5973825249274 477.7419354838709 452.74909715089063\" stroke=\"red\" stroke-width=\"2\"/><path d=\"M 493.87096774193543 510 493.87096774193543 452.74909715089063\" stroke=\"red\" stroke-width=\"2\"/><path d=\"M 477.7419354838709 452.74909715089063 493.87096774193543 452.74909715089063\" stroke=\"red\" stroke-width=\"2\"/><path d=\"M 988.4946236559139 510 988.4946236559139 451.59907156176655\" stroke=\"blue\" stroke-width=\"2\"/><path d=\"M 999.2473118279569 510 999.2473118279569 451.59907156176655\" stroke=\"blue\" stroke-width=\"2\"/><path d=\"M 988.4946236559139 451.59907156176655 999.2473118279569 451.59907156176655\" stroke=\"blue\" stroke-width=\"2\"/><path d=\"M 655.1612903225806 510 655.1612903225806 450.8753705995942\" stroke=\"blue\" stroke-width=\"2\"/><path d=\"M 671.2903225806451 496.4791007560173 671.2903225806451 450.8753705995942\" stroke=\"blue\" stroke-width=\"2\"/><path d=\"M 655.1612903225806 450.8753705995942 671.2903225806451 450.8753705995942\" stroke=\"blue\" stroke-width=\"2\"/><path d=\"M 149.78494623655914 510 149.78494623655914 447.9488627598259\" stroke=\"green\" stroke-width=\"2\"/><path d=\"M 160.53763440860214 510 160.53763440860214 447.9488627598259\" stroke=\"green\" stroke-width=\"2\"/><path d=\"M 149.78494623655914 447.9488627598259 160.53763440860214 447.9488627598259\" stroke=\"green\" stroke-width=\"2\"/><path d=\"M 122.90322580645159 461.44709342866685 122.90322580645159 446.75078340006047\" stroke=\"green\" stroke-width=\"2\"/><path d=\"M 139.03225806451613 510 139.03225806451613 446.75078340006047\" stroke=\"green\" stroke-width=\"2\"/><path d=\"M 122.90322580645159 446.75078340006047 139.03225806451613 446.75078340006047\" stroke=\"green\" stroke-width=\"2\"/><path d=\"M 520.752688172043 482.3543534482394 520.752688172043 445.0249063116844\" stroke=\"red\" stroke-width=\"2\"/><path d=\"M 536.8817204301075 510 536.8817204301075 445.0249063116844\" stroke=\"red\" stroke-width=\"2\"/><path d=\"M 520.752688172043 445.0249063116844 536.8817204301075 445.0249063116844\" stroke=\"red\" stroke-width=\"2\"/><path d=\"M 155.16129032258064 447.9488627598259 155.16129032258064 442.8816165342317\" stroke=\"green\" stroke-width=\"2\"/><path d=\"M 171.29032258064515 510 171.29032258064515 442.8816165342317\" stroke=\"green\" stroke-width=\"2\"/><path d=\"M 155.16129032258064 442.8816165342317 171.29032258064515 442.8816165342317\" stroke=\"green\" stroke-width=\"2\"/><path d=\"M 372.9032258064516 463.026458968162 372.9032258064516 440.8913003651934\" stroke=\"red\" stroke-width=\"2\"/><path d=\"M 397.09677419354836 510 397.09677419354836 440.8913003651934\" stroke=\"red\" stroke-width=\"2\"/><path d=\"M 372.9032258064516 440.8913003651934 397.09677419354836 440.8913003651934\" stroke=\"red\" stroke-width=\"2\"/><path d=\"M 579.8924731182796 510 579.8924731182796 438.12719699743684\" stroke=\"red\" stroke-width=\"2\"/><path d=\"M 590.6451612903226 510 590.6451612903226 438.12719699743684\" stroke=\"red\" stroke-width=\"2\"/><path d=\"M 579.8924731182796 438.12719699743684 590.6451612903226 438.12719699743684\" stroke=\"red\" stroke-width=\"2\"/><path d=\"M 413.22580645161287 474.28999504847974 413.22580645161287 437.0376372914086\" stroke=\"red\" stroke-width=\"2\"/><path d=\"M 429.3548387096774 510 429.3548387096774 437.0376372914086\" stroke=\"red\" stroke-width=\"2\"/><path d=\"M 413.22580645161287 437.0376372914086 429.3548387096774 437.0376372914086\" stroke=\"red\" stroke-width=\"2\"/><path d=\"M 292.258064516129 458.7434569671141 292.258064516129 435.157427649055\" stroke=\"red\" stroke-width=\"2\"/><path d=\"M 311.0752688172043 510 311.0752688172043 435.157427649055\" stroke=\"red\" stroke-width=\"2\"/><path d=\"M 292.258064516129 435.157427649055 311.0752688172043 435.157427649055\" stroke=\"red\" stroke-width=\"2\"/><path d=\"M 687.4193548387096 510 687.4193548387096 432.50276390951734\" stroke=\"blue\" stroke-width=\"2\"/><path d=\"M 698.1720430107526 510 698.1720430107526 432.50276390951734\" stroke=\"blue\" stroke-width=\"2\"/><path d=\"M 687.4193548387096 432.50276390951734 698.1720430107526 432.50276390951734\" stroke=\"blue\" stroke-width=\"2\"/><path d=\"M 714.3010752688172 479.475031273826 714.3010752688172 431.5470190528176\" stroke=\"blue\" stroke-width=\"2\"/><path d=\"M 743.8709677419354 472.239907714262 743.8709677419354 431.5470190528176\" stroke=\"blue\" stroke-width=\"2\"/><path d=\"M 714.3010752688172 431.5470190528176 743.8709677419354 431.5470190528176\" stroke=\"blue\" stroke-width=\"2\"/><path d=\"M 335.26881720430106 483.13412514410345 335.26881720430106 428.9004866558539\" stroke=\"red\" stroke-width=\"2\"/><path d=\"M 354.0860215053763 510 354.0860215053763 428.9004866558539\" stroke=\"red\" stroke-width=\"2\"/><path d=\"M 335.26881720430106 428.9004866558539 354.0860215053763 428.9004866558539\" stroke=\"red\" stroke-width=\"2\"/><path d=\"M 453.54838709677415 454.64579558513526 453.54838709677415 426.7610758212059\" stroke=\"red\" stroke-width=\"2\"/><path d=\"M 485.8064516129032 452.74909715089063 485.8064516129032 426.7610758212059\" stroke=\"red\" stroke-width=\"2\"/><path d=\"M 453.54838709677415 426.7610758212059 485.8064516129032 426.7610758212059\" stroke=\"red\" stroke-width=\"2\"/><path d=\"M 934.7311827956988 510 934.7311827956988 422.08230973638155\" stroke=\"blue\" stroke-width=\"2\"/><path d=\"M 945.4838709677418 510 945.4838709677418 422.08230973638155\" stroke=\"blue\" stroke-width=\"2\"/><path d=\"M 934.7311827956988 422.08230973638155 945.4838709677418 422.08230973638155\" stroke=\"blue\" stroke-width=\"2\"/><path d=\"M 251.9354838709677 487.33072299908036 251.9354838709677 420.0139276159762\" stroke=\"red\" stroke-width=\"2\"/><path d=\"M 268.06451612903226 510 268.06451612903226 420.0139276159762\" stroke=\"red\" stroke-width=\"2\"/><path d=\"M 251.9354838709677 420.0139276159762 268.06451612903226 420.0139276159762\" stroke=\"red\" stroke-width=\"2\"/><path d=\"M 633.6559139784946 510 633.6559139784946 415.76476665671004\" stroke=\"blue\" stroke-width=\"2\"/><path d=\"M 644.4086021505376 510 644.4086021505376 415.76476665671004\" stroke=\"blue\" stroke-width=\"2\"/><path d=\"M 633.6559139784946 415.76476665671004 644.4086021505376 415.76476665671004\" stroke=\"blue\" stroke-width=\"2\"/><path d=\"M 870.2150537634408 510 870.2150537634408 414.7678625794017\" stroke=\"blue\" stroke-width=\"2\"/><path d=\"M 880.9677419354838 510 880.9677419354838 414.7678625794017\" stroke=\"blue\" stroke-width=\"2\"/><path d=\"M 870.2150537634408 414.7678625794017 880.9677419354838 414.7678625794017\" stroke=\"blue\" stroke-width=\"2\"/><path d=\"M 130.96774193548384 446.75078340006047 130.96774193548384 414.1684965017297\" stroke=\"green\" stroke-width=\"2\"/><path d=\"M 163.2258064516129 442.8816165342317 163.2258064516129 414.1684965017297\" stroke=\"green\" stroke-width=\"2\"/><path d=\"M 130.96774193548384 414.1684965017297 163.2258064516129 414.1684965017297\" stroke=\"green\" stroke-width=\"2\"/><path d=\"M 469.67741935483866 426.7610758212059 469.67741935483866 413.9292373375987\" stroke=\"red\" stroke-width=\"2\"/><path d=\"M 504.62365591397844 510 504.62365591397844 413.9292373375987\" stroke=\"red\" stroke-width=\"2\"/><path d=\"M 469.67741935483866 413.9292373375987 504.62365591397844 413.9292373375987\" stroke=\"red\" stroke-width=\"2\"/><path d=\"M 729.0860215053763 431.5470190528176 729.0860215053763 412.51782057205617\" stroke=\"blue\" stroke-width=\"2\"/><path d=\"M 768.0645161290322 476.36082986775324 768.0645161290322 412.51782057205617\" stroke=\"blue\" stroke-width=\"2\"/><path d=\"M 729.0860215053763 412.51782057205617 768.0645161290322 412.51782057205617\" stroke=\"blue\" stroke-width=\"2\"/><path d=\"M 897.0967741935483 474.91739511421713 897.0967741935483 412.4526127568978\" stroke=\"blue\" stroke-width=\"2\"/><path d=\"M 918.6021505376343 468.8410513863139 918.6021505376343 412.4526127568978\" stroke=\"blue\" stroke-width=\"2\"/><path d=\"M 897.0967741935483 412.4526127568978 918.6021505376343 412.4526127568978\" stroke=\"blue\" stroke-width=\"2\"/><path d=\"M 969.6774193548385 470.375824937462 969.6774193548385 409.16447999926027\" stroke=\"blue\" stroke-width=\"2\"/><path d=\"M 993.8709677419354 451.59907156176655 993.8709677419354 409.16447999926027\" stroke=\"blue\" stroke-width=\"2\"/><path d=\"M 969.6774193548385 409.16447999926027 993.8709677419354 409.16447999926027\" stroke=\"blue\" stroke-width=\"2\"/><path d=\"M 101.39784946236558 458.94763328299365 101.39784946236558 406.0765562272253\" stroke=\"green\" stroke-width=\"2\"/><path d=\"M 147.09677419354836 414.1684965017297 147.09677419354836 406.0765562272253\" stroke=\"green\" stroke-width=\"2\"/><path d=\"M 101.39784946236558 406.0765562272253 147.09677419354836 406.0765562272253\" stroke=\"green\" stroke-width=\"2\"/><path d=\"M 260.0 420.0139276159762 260.0 396.08396147792536\" stroke=\"red\" stroke-width=\"2\"/><path d=\"M 301.66666666666663 435.157427649055 301.66666666666663 396.08396147792536\" stroke=\"red\" stroke-width=\"2\"/><path d=\"M 260.0 396.08396147792536 301.66666666666663 396.08396147792536\" stroke=\"red\" stroke-width=\"2\"/><path d=\"M 832.5806451612902 459.1301274481262 832.5806451612902 395.53254957777466\" stroke=\"blue\" stroke-width=\"2\"/><path d=\"M 875.5913978494623 414.7678625794017 875.5913978494623 395.53254957777466\" stroke=\"blue\" stroke-width=\"2\"/><path d=\"M 832.5806451612902 395.53254957777466 875.5913978494623 395.53254957777466\" stroke=\"blue\" stroke-width=\"2\"/><path d=\"M 203.54838709677418 510 203.54838709677418 394.96504384476196\" stroke=\"red\" stroke-width=\"2\"/><path d=\"M 227.74193548387095 493.9478128388084 227.74193548387095 394.96504384476196\" stroke=\"red\" stroke-width=\"2\"/><path d=\"M 203.54838709677418 394.96504384476196 227.74193548387095 394.96504384476196\" stroke=\"red\" stroke-width=\"2\"/><path d=\"M 41.586021505376344 461.3494279454119 41.586021505376344 392.3973380053214\" stroke=\"green\" stroke-width=\"2\"/><path d=\"M 85.26881720430107 510 85.26881720430107 392.3973380053214\" stroke=\"green\" stroke-width=\"2\"/><path d=\"M 41.586021505376344 392.3973380053214 85.26881720430107 392.3973380053214\" stroke=\"green\" stroke-width=\"2\"/><path d=\"M 487.1505376344086 413.9292373375987 487.1505376344086 386.2254540042962\" stroke=\"red\" stroke-width=\"2\"/><path d=\"M 528.8172043010752 445.0249063116844 528.8172043010752 386.2254540042962\" stroke=\"red\" stroke-width=\"2\"/><path d=\"M 487.1505376344086 386.2254540042962 528.8172043010752 386.2254540042962\" stroke=\"red\" stroke-width=\"2\"/><path d=\"M 639.0322580645161 415.76476665671004 639.0322580645161 384.4522580055747\" stroke=\"blue\" stroke-width=\"2\"/><path d=\"M 663.2258064516129 450.8753705995942 663.2258064516129 384.4522580055747\" stroke=\"blue\" stroke-width=\"2\"/><path d=\"M 639.0322580645161 384.4522580055747 663.2258064516129 384.4522580055747\" stroke=\"blue\" stroke-width=\"2\"/><path d=\"M 507.9838709677419 386.2254540042962 507.9838709677419 376.50021339194575\" stroke=\"red\" stroke-width=\"2\"/><path d=\"M 561.0752688172042 461.3834490154976 561.0752688172042 376.50021339194575\" stroke=\"red\" stroke-width=\"2\"/><path d=\"M 507.9838709677419 376.50021339194575 561.0752688172042 376.50021339194575\" stroke=\"red\" stroke-width=\"2\"/><path d=\"M 907.8494623655913 412.4526127568978 907.8494623655913 371.7420515996822\" stroke=\"blue\" stroke-width=\"2\"/><path d=\"M 940.1075268817203 422.08230973638155 940.1075268817203 371.7420515996822\" stroke=\"blue\" stroke-width=\"2\"/><path d=\"M 907.8494623655913 371.7420515996822 940.1075268817203 371.7420515996822\" stroke=\"blue\" stroke-width=\"2\"/><path d=\"M 344.67741935483866 428.9004866558539 344.67741935483866 367.5605582858856\" stroke=\"red\" stroke-width=\"2\"/><path d=\"M 385.0 440.8913003651934 385.0 367.5605582858856\" stroke=\"red\" stroke-width=\"2\"/><path d=\"M 344.67741935483866 367.5605582858856 385.0 367.5605582858856\" stroke=\"red\" stroke-width=\"2\"/><path d=\"M 421.2903225806451 437.0376372914086 421.2903225806451 365.0752285300446\" stroke=\"red\" stroke-width=\"2\"/><path d=\"M 534.5295698924731 376.50021339194575 534.5295698924731 365.0752285300446\" stroke=\"red\" stroke-width=\"2\"/><path d=\"M 421.2903225806451 365.0752285300446 534.5295698924731 365.0752285300446\" stroke=\"red\" stroke-width=\"2\"/><path d=\"M 63.427419354838705 392.3973380053214 63.427419354838705 358.3113755286913\" stroke=\"green\" stroke-width=\"2\"/><path d=\"M 124.24731182795696 406.0765562272253 124.24731182795696 358.3113755286913\" stroke=\"green\" stroke-width=\"2\"/><path d=\"M 63.427419354838705 358.3113755286913 124.24731182795696 358.3113755286913\" stroke=\"green\" stroke-width=\"2\"/><path d=\"M 215.64516129032256 394.96504384476196 215.64516129032256 358.13092789367863\" stroke=\"red\" stroke-width=\"2\"/><path d=\"M 280.8333333333333 396.08396147792536 280.8333333333333 358.13092789367863\" stroke=\"red\" stroke-width=\"2\"/><path d=\"M 215.64516129032256 358.13092789367863 280.8333333333333 358.13092789367863\" stroke=\"red\" stroke-width=\"2\"/><path d=\"M 748.5752688172042 412.51782057205617 748.5752688172042 341.059845404351\" stroke=\"blue\" stroke-width=\"2\"/><path d=\"M 854.0860215053763 395.53254957777466 854.0860215053763 341.059845404351\" stroke=\"blue\" stroke-width=\"2\"/><path d=\"M 748.5752688172042 341.059845404351 854.0860215053763 341.059845404351\" stroke=\"blue\" stroke-width=\"2\"/><path d=\"M 606.7741935483871 473.14875844331266 606.7741935483871 336.025759156503\" stroke=\"blue\" stroke-width=\"2\"/><path d=\"M 622.9032258064516 510 622.9032258064516 336.025759156503\" stroke=\"blue\" stroke-width=\"2\"/><path d=\"M 606.7741935483871 336.025759156503 622.9032258064516 336.025759156503\" stroke=\"blue\" stroke-width=\"2\"/><path d=\"M 477.9099462365591 365.0752285300446 477.9099462365591 332.0728728938334\" stroke=\"red\" stroke-width=\"2\"/><path d=\"M 585.2688172043011 438.12719699743684 585.2688172043011 332.0728728938334\" stroke=\"red\" stroke-width=\"2\"/><path d=\"M 477.9099462365591 332.0728728938334 585.2688172043011 332.0728728938334\" stroke=\"red\" stroke-width=\"2\"/><path d=\"M 923.9784946236558 371.7420515996822 923.9784946236558 320.7946052156694\" stroke=\"blue\" stroke-width=\"2\"/><path d=\"M 981.774193548387 409.16447999926027 981.774193548387 320.7946052156694\" stroke=\"blue\" stroke-width=\"2\"/><path d=\"M 923.9784946236558 320.7946052156694 981.774193548387 320.7946052156694\" stroke=\"blue\" stroke-width=\"2\"/><path d=\"M 614.8387096774193 336.025759156503 614.8387096774193 318.811969912069\" stroke=\"blue\" stroke-width=\"2\"/><path d=\"M 651.1290322580645 384.4522580055747 651.1290322580645 318.811969912069\" stroke=\"blue\" stroke-width=\"2\"/><path d=\"M 614.8387096774193 318.811969912069 651.1290322580645 318.811969912069\" stroke=\"blue\" stroke-width=\"2\"/><path d=\"M 364.83870967741933 367.5605582858856 364.83870967741933 309.0911394691875\" stroke=\"red\" stroke-width=\"2\"/><path d=\"M 531.5893817204301 332.0728728938334 531.5893817204301 309.0911394691875\" stroke=\"red\" stroke-width=\"2\"/><path d=\"M 364.83870967741933 309.0911394691875 531.5893817204301 309.0911394691875\" stroke=\"red\" stroke-width=\"2\"/><path d=\"M 632.983870967742 318.811969912069 632.983870967742 305.99349061207266\" stroke=\"blue\" stroke-width=\"2\"/><path d=\"M 692.7956989247311 432.50276390951734 692.7956989247311 305.99349061207266\" stroke=\"blue\" stroke-width=\"2\"/><path d=\"M 632.983870967742 305.99349061207266 692.7956989247311 305.99349061207266\" stroke=\"blue\" stroke-width=\"2\"/><path d=\"M 801.3306451612902 341.059845404351 801.3306451612902 289.91277673889397\" stroke=\"blue\" stroke-width=\"2\"/><path d=\"M 952.8763440860214 320.7946052156694 952.8763440860214 289.91277673889397\" stroke=\"blue\" stroke-width=\"2\"/><path d=\"M 801.3306451612902 289.91277673889397 952.8763440860214 289.91277673889397\" stroke=\"blue\" stroke-width=\"2\"/><path d=\"M 248.23924731182794 358.13092789367863 248.23924731182794 259.85607314001413\" stroke=\"red\" stroke-width=\"2\"/><path d=\"M 448.2140456989247 309.0911394691875 448.2140456989247 259.85607314001413\" stroke=\"red\" stroke-width=\"2\"/><path d=\"M 248.23924731182794 259.85607314001413 448.2140456989247 259.85607314001413\" stroke=\"red\" stroke-width=\"2\"/><path d=\"M 662.8897849462365 305.99349061207266 662.8897849462365 257.99717164688343\" stroke=\"blue\" stroke-width=\"2\"/><path d=\"M 877.1034946236558 289.91277673889397 877.1034946236558 257.99717164688343\" stroke=\"blue\" stroke-width=\"2\"/><path d=\"M 662.8897849462365 257.99717164688343 877.1034946236558 257.99717164688343\" stroke=\"blue\" stroke-width=\"2\"/><path d=\"M 93.83736559139783 358.3113755286913 93.83736559139783 247.72040961401927\" stroke=\"black\" stroke-width=\"2\"/><path d=\"M 187.41935483870967 478.96968028099263 187.41935483870967 247.72040961401927\" stroke=\"black\" stroke-width=\"2\"/><path d=\"M 93.83736559139783 247.72040961401927 187.41935483870967 247.72040961401927\" stroke=\"black\" stroke-width=\"2\"/><path d=\"M 140.62836021505376 247.72040961401927 140.62836021505376 189.60450718977359\" stroke=\"black\" stroke-width=\"2\"/><path d=\"M 348.2266465053763 259.85607314001413 348.2266465053763 189.60450718977359\" stroke=\"black\" stroke-width=\"2\"/><path d=\"M 140.62836021505376 189.60450718977359 348.2266465053763 189.60450718977359\" stroke=\"black\" stroke-width=\"2\"/><path d=\"M 244.42750336021504 189.60450718977359 244.42750336021504 10.0\" stroke=\"black\" stroke-width=\"2\"/><path d=\"M 769.9966397849462 257.99717164688343 769.9966397849462 10.0\" stroke=\"black\" stroke-width=\"2\"/><path d=\"M 244.42750336021504 10.0 769.9966397849462 10.0\" stroke=\"black\" stroke-width=\"2\"/></svg>"
          },
          "metadata": {},
          "execution_count": 616
        }
      ]
    },
    {
      "cell_type": "markdown",
      "source": [
        "**Metrics**"
      ],
      "metadata": {
        "id": "GVHGTKP1hRfv"
      }
    },
    {
      "cell_type": "code",
      "source": [
        "nodelist = list(G_reduced.nodes)\n",
        "labels = list(cut_straight(dendrogram, n_clusters=4, return_dendrogram=False))\n",
        "\n",
        "community_dend = [[],[],[],[]]\n",
        "i = 0\n",
        "for node in nodelist:\n",
        "  community_dend[labels[i]].append(node)\n",
        "  i += 1\n",
        "\n",
        "_ = compute_metrics(G_reduced, community_dend)"
      ],
      "metadata": {
        "colab": {
          "base_uri": "https://localhost:8080/"
        },
        "outputId": "6cef61b0-0c2e-419b-8927-c3ae11dbeb42",
        "id": "scDABtf4hRfv"
      },
      "execution_count": 617,
      "outputs": [
        {
          "output_type": "stream",
          "name": "stdout",
          "text": [
            "Coverage:  0.4836433611289288\n",
            "Performance:  0.6397849462365591\n",
            "Modularity:  0.23037344914931737\n"
          ]
        }
      ]
    },
    {
      "cell_type": "code",
      "source": [
        "image = svg_dendrogram(dendrogram, names, n_clusters=8, rotate=False,width=1000,height=500,filename='community_dendogram8'+period)\n",
        "SVG(image)"
      ],
      "metadata": {
        "colab": {
          "base_uri": "https://localhost:8080/",
          "height": 0
        },
        "outputId": "f2760718-b6a8-42d5-edae-809e542b6403",
        "id": "N1jQaheshRfw"
      },
      "execution_count": 618,
      "outputs": [
        {
          "output_type": "execute_result",
          "data": {
            "text/plain": [
              "<IPython.core.display.SVG object>"
            ],
            "image/svg+xml": "<svg height=\"597.0\" width=\"1020\" xmlns=\"http://www.w3.org/2000/svg\"><text font-size=\"12\" transform=\"rotate(60, 445.8602150537634, 515)\" x=\"445.8602150537634\" y=\"515\">daily</text><text font-size=\"12\" transform=\"rotate(60, 488.87096774193543, 515)\" x=\"488.87096774193543\" y=\"515\">case</text><text font-size=\"12\" transform=\"rotate(60, 392.09677419354836, 515)\" x=\"392.09677419354836\" y=\"515\">infection</text><text font-size=\"12\" transform=\"rotate(60, 521.1290322580645, 515)\" x=\"521.1290322580645\" y=\"515\">high</text><text font-size=\"12\" transform=\"rotate(60, 940.4838709677418, 515)\" x=\"940.4838709677418\" y=\"515\">since</text><text font-size=\"12\" transform=\"rotate(60, 531.8817204301075, 515)\" x=\"531.8817204301075\" y=\"515\">number</text><text font-size=\"12\" transform=\"rotate(60, 564.1397849462365, 515)\" x=\"564.1397849462365\" y=\"515\">new</text><text font-size=\"12\" transform=\"rotate(60, 456.6129032258064, 515)\" x=\"456.6129032258064\" y=\"515\">hit</text><text font-size=\"12\" transform=\"rotate(60, 435.1075268817204, 515)\" x=\"435.1075268817204\" y=\"515\">record</text><text font-size=\"12\" transform=\"rotate(60, 187.79569892473117, 515)\" x=\"187.79569892473117\" y=\"515\">week</text><text font-size=\"12\" transform=\"rotate(60, 499.62365591397844, 515)\" x=\"499.62365591397844\" y=\"515\">report</text><text font-size=\"12\" transform=\"rotate(60, 983.4946236559139, 515)\" x=\"983.4946236559139\" y=\"515\">test</text><text font-size=\"12\" transform=\"rotate(60, 349.0860215053763, 515)\" x=\"349.0860215053763\" y=\"515\">health</text><text font-size=\"12\" transform=\"rotate(60, 897.4731182795698, 515)\" x=\"897.4731182795698\" y=\"515\">first</text><text font-size=\"12\" transform=\"rotate(60, 918.9784946236558, 515)\" x=\"918.9784946236558\" y=\"515\">time</text><text font-size=\"12\" transform=\"rotate(60, 295.3225806451613, 515)\" x=\"295.3225806451613\" y=\"515\">death</text><text font-size=\"12\" transform=\"rotate(60, 617.9032258064516, 515)\" x=\"617.9032258064516\" y=\"515\">say</text><text font-size=\"12\" transform=\"rotate(60, 101.77419354838709, 515)\" x=\"101.77419354838709\" y=\"515\">month</text><text font-size=\"12\" transform=\"rotate(60, 370.59139784946234, 515)\" x=\"370.59139784946234\" y=\"515\">country</text><text font-size=\"12\" transform=\"rotate(60, 467.3655913978494, 515)\" x=\"467.3655913978494\" y=\"515\">rise</text><text font-size=\"12\" transform=\"rotate(60, 166.29032258064515, 515)\" x=\"166.29032258064515\" y=\"515\">get</text><text font-size=\"12\" transform=\"rotate(60, 951.2365591397848, 515)\" x=\"951.2365591397848\" y=\"515\">top</text><text font-size=\"12\" transform=\"rotate(60, 134.03225806451613, 515)\" x=\"134.03225806451613\" y=\"515\">see</text><text font-size=\"12\" transform=\"rotate(60, 402.84946236559136, 515)\" x=\"402.84946236559136\" y=\"515\">expert</text><text font-size=\"12\" transform=\"rotate(60, 273.81720430107526, 515)\" x=\"273.81720430107526\" y=\"515\">million</text><text font-size=\"12\" transform=\"rotate(60, 639.4086021505376, 515)\" x=\"639.4086021505376\" y=\"515\">pandemic</text><text font-size=\"12\" transform=\"rotate(60, 682.4193548387096, 515)\" x=\"682.4193548387096\" y=\"515\">take</text><text font-size=\"12\" transform=\"rotate(60, 478.1182795698924, 515)\" x=\"478.1182795698924\" y=\"515\">confirm</text><text font-size=\"12\" transform=\"rotate(60, 80.26881720430107, 515)\" x=\"80.26881720430107\" y=\"515\">one</text><text font-size=\"12\" transform=\"rotate(60, 198.54838709677418, 515)\" x=\"198.54838709677418\" y=\"515\">accord</text><text font-size=\"12\" transform=\"rotate(60, 929.7311827956988, 515)\" x=\"929.7311827956988\" y=\"515\">announce</text><text font-size=\"12\" transform=\"rotate(60, 69.51612903225806, 515)\" x=\"69.51612903225806\" y=\"515\">data</text><text font-size=\"12\" transform=\"rotate(60, 284.5698924731183, 515)\" x=\"284.5698924731183\" y=\"515\">global</text><text font-size=\"12\" transform=\"rotate(60, 112.5268817204301, 515)\" x=\"112.5268817204301\" y=\"515\">follow</text><text font-size=\"12\" transform=\"rotate(60, 241.5591397849462, 515)\" x=\"241.5591397849462\" y=\"515\">people</text><text font-size=\"12\" transform=\"rotate(60, 994.2473118279569, 515)\" x=\"994.2473118279569\" y=\"515\">positive</text><text font-size=\"12\" transform=\"rotate(60, 123.27956989247309, 515)\" x=\"123.27956989247309\" y=\"515\">second</text><text font-size=\"12\" transform=\"rotate(60, 413.6021505376344, 515)\" x=\"413.6021505376344\" y=\"515\">surge</text><text font-size=\"12\" transform=\"rotate(60, 972.7419354838709, 515)\" x=\"972.7419354838709\" y=\"515\">official</text><text font-size=\"12\" transform=\"rotate(60, 338.3333333333333, 515)\" x=\"338.3333333333333\" y=\"515\">government</text><text font-size=\"12\" transform=\"rotate(60, 26.50537634408602, 515)\" x=\"26.50537634408602\" y=\"515\">show</text><text font-size=\"12\" transform=\"rotate(60, 209.3010752688172, 515)\" x=\"209.3010752688172\" y=\"515\">center</text><text font-size=\"12\" transform=\"rotate(60, 220.0537634408602, 515)\" x=\"220.0537634408602\" y=\"515\">disease</text><text font-size=\"12\" transform=\"rotate(60, 306.0752688172043, 515)\" x=\"306.0752688172043\" y=\"515\">world</text><text font-size=\"12\" transform=\"rotate(60, 650.1612903225806, 515)\" x=\"650.1612903225806\" y=\"515\">could</text><text font-size=\"12\" transform=\"rotate(60, 714.6774193548387, 515)\" x=\"714.6774193548387\" y=\"515\">public</text><text font-size=\"12\" transform=\"rotate(60, 381.34408602150535, 515)\" x=\"381.34408602150535\" y=\"515\">outbreak</text><text font-size=\"12\" transform=\"rotate(60, 607.1505376344086, 515)\" x=\"607.1505376344086\" y=\"515\">spread</text><text font-size=\"12\" transform=\"rotate(60, 693.1720430107526, 515)\" x=\"693.1720430107526\" y=\"515\">hour</text><text font-size=\"12\" transform=\"rotate(60, 542.6344086021505, 515)\" x=\"542.6344086021505\" y=\"515\">city</text><text font-size=\"12\" transform=\"rotate(60, 585.6451612903226, 515)\" x=\"585.6451612903226\" y=\"515\">china</text><text font-size=\"12\" transform=\"rotate(60, 144.78494623655914, 515)\" x=\"144.78494623655914\" y=\"515\">back</text><text font-size=\"12\" transform=\"rotate(60, 574.8924731182796, 515)\" x=\"574.8924731182796\" y=\"515\">day</text><text font-size=\"12\" transform=\"rotate(60, 424.3548387096774, 515)\" x=\"424.3548387096774\" y=\"515\">state</text><text font-size=\"12\" transform=\"rotate(60, 875.9677419354838, 515)\" x=\"875.9677419354838\" y=\"515\">president</text><text font-size=\"12\" transform=\"rotate(60, 865.2150537634408, 515)\" x=\"865.2150537634408\" y=\"515\">trump</text><text font-size=\"12\" transform=\"rotate(60, 553.3870967741935, 515)\" x=\"553.3870967741935\" y=\"515\">york</text><text font-size=\"12\" transform=\"rotate(60, 177.04301075268816, 515)\" x=\"177.04301075268816\" y=\"515\">last</text><text font-size=\"12\" transform=\"rotate(60, 91.02150537634408, 515)\" x=\"91.02150537634408\" y=\"515\">two</text><text font-size=\"12\" transform=\"rotate(60, 596.3978494623656, 515)\" x=\"596.3978494623656\" y=\"515\">virus</text><text font-size=\"12\" transform=\"rotate(60, 316.8279569892473, 515)\" x=\"316.8279569892473\" y=\"515\">minister</text><text font-size=\"12\" transform=\"rotate(60, 327.5806451612903, 515)\" x=\"327.5806451612903\" y=\"515\">restriction</text><text font-size=\"12\" transform=\"rotate(60, 263.06451612903226, 515)\" x=\"263.06451612903226\" y=\"515\">may</text><text font-size=\"12\" transform=\"rotate(60, 746.9354838709677, 515)\" x=\"746.9354838709677\" y=\"515\">hospital</text><text font-size=\"12\" transform=\"rotate(60, 252.3118279569892, 515)\" x=\"252.3118279569892\" y=\"515\">die</text><text font-size=\"12\" transform=\"rotate(60, 725.4301075268817, 515)\" x=\"725.4301075268817\" y=\"515\">doctor</text><text font-size=\"12\" transform=\"rotate(60, 908.2258064516128, 515)\" x=\"908.2258064516128\" y=\"515\">year</text><text font-size=\"12\" transform=\"rotate(60, 15.752688172043008, 515)\" x=\"15.752688172043008\" y=\"515\">study</text><text font-size=\"12\" transform=\"rotate(60, 961.9892473118279, 515)\" x=\"961.9892473118279\" y=\"515\">quarantine</text><text font-size=\"12\" transform=\"rotate(60, 757.6881720430107, 515)\" x=\"757.6881720430107\" y=\"515\">white</text><text font-size=\"12\" transform=\"rotate(60, 768.4408602150537, 515)\" x=\"768.4408602150537\" y=\"515\">house</text><text font-size=\"12\" transform=\"rotate(60, 155.53763440860214, 515)\" x=\"155.53763440860214\" y=\"515\">make</text><text font-size=\"12\" transform=\"rotate(60, 230.8064516129032, 515)\" x=\"230.8064516129032\" y=\"515\">medical</text><text font-size=\"12\" transform=\"rotate(60, 736.1827956989247, 515)\" x=\"736.1827956989247\" y=\"515\">return</text><text font-size=\"12\" transform=\"rotate(60, 510.3763440860214, 515)\" x=\"510.3763440860214\" y=\"515\">risk</text><text font-size=\"12\" transform=\"rotate(60, 5.0, 515)\" x=\"5.0\" y=\"515\">work</text><text font-size=\"12\" transform=\"rotate(60, 822.2043010752687, 515)\" x=\"822.2043010752687\" y=\"515\">democratic</text><text font-size=\"12\" transform=\"rotate(60, 789.9462365591397, 515)\" x=\"789.9462365591397\" y=\"515\">presidential</text><text font-size=\"12\" transform=\"rotate(60, 832.9569892473118, 515)\" x=\"832.9569892473118\" y=\"515\">joe</text><text font-size=\"12\" transform=\"rotate(60, 854.4623655913978, 515)\" x=\"854.4623655913978\" y=\"515\">negative</text><text font-size=\"12\" transform=\"rotate(60, 886.7204301075268, 515)\" x=\"886.7204301075268\" y=\"515\">lady</text><text font-size=\"12\" transform=\"rotate(60, 37.25806451612903, 515)\" x=\"37.25806451612903\" y=\"515\">clinical</text><text font-size=\"12\" transform=\"rotate(60, 48.01075268817204, 515)\" x=\"48.01075268817204\" y=\"515\">trial</text><text font-size=\"12\" transform=\"rotate(60, 843.7096774193548, 515)\" x=\"843.7096774193548\" y=\"515\">campaign</text><text font-size=\"12\" transform=\"rotate(60, 58.76344086021505, 515)\" x=\"58.76344086021505\" y=\"515\">johnson</text><text font-size=\"12\" transform=\"rotate(60, 671.6666666666666, 515)\" x=\"671.6666666666666\" y=\"515\">relief</text><text font-size=\"12\" transform=\"rotate(60, 800.6989247311827, 515)\" x=\"800.6989247311827\" y=\"515\">vice</text><text font-size=\"12\" transform=\"rotate(60, 811.4516129032257, 515)\" x=\"811.4516129032257\" y=\"515\">nominee</text><text font-size=\"12\" transform=\"rotate(60, 779.1935483870967, 515)\" x=\"779.1935483870967\" y=\"515\">debate</text><text font-size=\"12\" transform=\"rotate(60, 703.9247311827957, 515)\" x=\"703.9247311827957\" y=\"515\">mask</text><text font-size=\"12\" transform=\"rotate(60, 660.9139784946236, 515)\" x=\"660.9139784946236\" y=\"515\">election</text><text font-size=\"12\" transform=\"rotate(60, 359.83870967741933, 515)\" x=\"359.83870967741933\" y=\"515\">help</text><text font-size=\"12\" transform=\"rotate(60, 628.6559139784946, 515)\" x=\"628.6559139784946\" y=\"515\">plan</text><path d=\"M 214.3010752688172 510 214.3010752688172 502.67024858479533\" stroke=\"orange\" stroke-width=\"2\"/><path d=\"M 225.0537634408602 510 225.0537634408602 502.67024858479533\" stroke=\"orange\" stroke-width=\"2\"/><path d=\"M 214.3010752688172 502.67024858479533 225.0537634408602 502.67024858479533\" stroke=\"orange\" stroke-width=\"2\"/><path d=\"M 42.25806451612903 510 42.25806451612903 501.97964690629567\" stroke=\"green\" stroke-width=\"2\"/><path d=\"M 53.01075268817204 510 53.01075268817204 501.97964690629567\" stroke=\"green\" stroke-width=\"2\"/><path d=\"M 42.25806451612903 501.97964690629567 53.01075268817204 501.97964690629567\" stroke=\"green\" stroke-width=\"2\"/><path d=\"M 816.4516129032257 510 816.4516129032257 498.3343878903324\" stroke=\"red\" stroke-width=\"2\"/><path d=\"M 827.2043010752687 510 827.2043010752687 498.3343878903324\" stroke=\"red\" stroke-width=\"2\"/><path d=\"M 816.4516129032257 498.3343878903324 827.2043010752687 498.3343878903324\" stroke=\"red\" stroke-width=\"2\"/><path d=\"M 47.634408602150536 501.97964690629567 47.634408602150536 497.6680901445474\" stroke=\"green\" stroke-width=\"2\"/><path d=\"M 63.76344086021505 510 63.76344086021505 497.6680901445474\" stroke=\"green\" stroke-width=\"2\"/><path d=\"M 47.634408602150536 497.6680901445474 63.76344086021505 497.6680901445474\" stroke=\"green\" stroke-width=\"2\"/><path d=\"M 547.6344086021505 510 547.6344086021505 496.7831140686176\" stroke=\"blue\" stroke-width=\"2\"/><path d=\"M 558.3870967741935 510 558.3870967741935 496.7831140686176\" stroke=\"blue\" stroke-width=\"2\"/><path d=\"M 547.6344086021505 496.7831140686176 558.3870967741935 496.7831140686176\" stroke=\"blue\" stroke-width=\"2\"/><path d=\"M 665.9139784946236 510 665.9139784946236 496.4791007560173\" stroke=\"yellow\" stroke-width=\"2\"/><path d=\"M 676.6666666666666 510 676.6666666666666 496.4791007560173\" stroke=\"yellow\" stroke-width=\"2\"/><path d=\"M 665.9139784946236 496.4791007560173 676.6666666666666 496.4791007560173\" stroke=\"yellow\" stroke-width=\"2\"/><path d=\"M 794.9462365591397 510 794.9462365591397 496.0496816405969\" stroke=\"red\" stroke-width=\"2\"/><path d=\"M 805.6989247311827 510 805.6989247311827 496.0496816405969\" stroke=\"red\" stroke-width=\"2\"/><path d=\"M 794.9462365591397 496.0496816405969 805.6989247311827 496.0496816405969\" stroke=\"red\" stroke-width=\"2\"/><path d=\"M 784.1935483870967 510 784.1935483870967 495.1280598591336\" stroke=\"red\" stroke-width=\"2\"/><path d=\"M 800.3225806451612 496.0496816405969 800.3225806451612 495.1280598591336\" stroke=\"red\" stroke-width=\"2\"/><path d=\"M 784.1935483870967 495.1280598591336 800.3225806451612 495.1280598591336\" stroke=\"red\" stroke-width=\"2\"/><path d=\"M 20.75268817204301 510 20.75268817204301 494.45756164937484\" stroke=\"green\" stroke-width=\"2\"/><path d=\"M 31.50537634408602 510 31.50537634408602 494.45756164937484\" stroke=\"green\" stroke-width=\"2\"/><path d=\"M 20.75268817204301 494.45756164937484 31.50537634408602 494.45756164937484\" stroke=\"green\" stroke-width=\"2\"/><path d=\"M 219.6774193548387 502.67024858479533 219.6774193548387 493.9478128388084\" stroke=\"orange\" stroke-width=\"2\"/><path d=\"M 235.8064516129032 510 235.8064516129032 493.9478128388084\" stroke=\"orange\" stroke-width=\"2\"/><path d=\"M 219.6774193548387 493.9478128388084 235.8064516129032 493.9478128388084\" stroke=\"orange\" stroke-width=\"2\"/><path d=\"M 821.8279569892472 498.3343878903324 821.8279569892472 491.1023159804196\" stroke=\"red\" stroke-width=\"2\"/><path d=\"M 837.9569892473118 510 837.9569892473118 491.1023159804196\" stroke=\"red\" stroke-width=\"2\"/><path d=\"M 821.8279569892472 491.1023159804196 837.9569892473118 491.1023159804196\" stroke=\"red\" stroke-width=\"2\"/><path d=\"M 246.5591397849462 510 246.5591397849462 487.33072299908036\" stroke=\"orange\" stroke-width=\"2\"/><path d=\"M 257.3118279569892 510 257.3118279569892 487.33072299908036\" stroke=\"orange\" stroke-width=\"2\"/><path d=\"M 246.5591397849462 487.33072299908036 257.3118279569892 487.33072299908036\" stroke=\"orange\" stroke-width=\"2\"/><path d=\"M 10.0 510 10.0 486.616378942339\" stroke=\"green\" stroke-width=\"2\"/><path d=\"M 26.129032258064512 494.45756164937484 26.129032258064512 486.616378942339\" stroke=\"green\" stroke-width=\"2\"/><path d=\"M 10.0 486.616378942339 26.129032258064512 486.616378942339\" stroke=\"green\" stroke-width=\"2\"/><path d=\"M 321.8279569892473 510 321.8279569892473 485.85924591971263\" stroke=\"blue\" stroke-width=\"2\"/><path d=\"M 332.5806451612903 510 332.5806451612903 485.85924591971263\" stroke=\"blue\" stroke-width=\"2\"/><path d=\"M 321.8279569892473 485.85924591971263 332.5806451612903 485.85924591971263\" stroke=\"blue\" stroke-width=\"2\"/><path d=\"M 327.2043010752688 485.85924591971263 327.2043010752688 483.13412514410345\" stroke=\"blue\" stroke-width=\"2\"/><path d=\"M 343.3333333333333 510 343.3333333333333 483.13412514410345\" stroke=\"blue\" stroke-width=\"2\"/><path d=\"M 327.2043010752688 483.13412514410345 343.3333333333333 483.13412514410345\" stroke=\"blue\" stroke-width=\"2\"/><path d=\"M 55.69892473118279 497.6680901445474 55.69892473118279 482.79831439814063\" stroke=\"green\" stroke-width=\"2\"/><path d=\"M 74.51612903225806 510 74.51612903225806 482.79831439814063\" stroke=\"green\" stroke-width=\"2\"/><path d=\"M 55.69892473118279 482.79831439814063 74.51612903225806 482.79831439814063\" stroke=\"green\" stroke-width=\"2\"/><path d=\"M 515.3763440860214 510 515.3763440860214 482.3543534482394\" stroke=\"blue\" stroke-width=\"2\"/><path d=\"M 526.1290322580645 510 526.1290322580645 482.3543534482394\" stroke=\"blue\" stroke-width=\"2\"/><path d=\"M 515.3763440860214 482.3543534482394 526.1290322580645 482.3543534482394\" stroke=\"blue\" stroke-width=\"2\"/><path d=\"M 792.258064516129 495.1280598591336 792.258064516129 482.34951397729094\" stroke=\"red\" stroke-width=\"2\"/><path d=\"M 829.8924731182794 491.1023159804196 829.8924731182794 482.34951397729094\" stroke=\"red\" stroke-width=\"2\"/><path d=\"M 792.258064516129 482.34951397729094 829.8924731182794 482.34951397729094\" stroke=\"red\" stroke-width=\"2\"/><path d=\"M 730.4301075268817 510 730.4301075268817 482.30176074692605\" stroke=\"red\" stroke-width=\"2\"/><path d=\"M 741.1827956989247 510 741.1827956989247 482.30176074692605\" stroke=\"red\" stroke-width=\"2\"/><path d=\"M 730.4301075268817 482.30176074692605 741.1827956989247 482.30176074692605\" stroke=\"red\" stroke-width=\"2\"/><path d=\"M 440.1075268817204 510 440.1075268817204 481.39052571804035\" stroke=\"blue\" stroke-width=\"2\"/><path d=\"M 450.8602150537634 510 450.8602150537634 481.39052571804035\" stroke=\"blue\" stroke-width=\"2\"/><path d=\"M 440.1075268817204 481.39052571804035 450.8602150537634 481.39052571804035\" stroke=\"blue\" stroke-width=\"2\"/><path d=\"M 708.9247311827957 510 708.9247311827957 479.475031273826\" stroke=\"red\" stroke-width=\"2\"/><path d=\"M 719.6774193548387 510 719.6774193548387 479.475031273826\" stroke=\"red\" stroke-width=\"2\"/><path d=\"M 708.9247311827957 479.475031273826 719.6774193548387 479.475031273826\" stroke=\"red\" stroke-width=\"2\"/><path d=\"M 956.2365591397848 510 956.2365591397848 479.33042511183373\" stroke=\"purple\" stroke-width=\"2\"/><path d=\"M 966.9892473118279 510 966.9892473118279 479.33042511183373\" stroke=\"purple\" stroke-width=\"2\"/><path d=\"M 956.2365591397848 479.33042511183373 966.9892473118279 479.33042511183373\" stroke=\"purple\" stroke-width=\"2\"/><path d=\"M 182.04301075268816 510 182.04301075268816 478.96968028099263\" stroke=\"fuchsia\" stroke-width=\"2\"/><path d=\"M 192.79569892473117 510 192.79569892473117 478.96968028099263\" stroke=\"fuchsia\" stroke-width=\"2\"/><path d=\"M 182.04301075268816 478.96968028099263 192.79569892473117 478.96968028099263\" stroke=\"fuchsia\" stroke-width=\"2\"/><path d=\"M 472.3655913978494 510 472.3655913978494 476.5973825249274\" stroke=\"blue\" stroke-width=\"2\"/><path d=\"M 483.1182795698924 510 483.1182795698924 476.5973825249274\" stroke=\"blue\" stroke-width=\"2\"/><path d=\"M 472.3655913978494 476.5973825249274 483.1182795698924 476.5973825249274\" stroke=\"blue\" stroke-width=\"2\"/><path d=\"M 762.6881720430107 510 762.6881720430107 476.36082986775324\" stroke=\"red\" stroke-width=\"2\"/><path d=\"M 773.4408602150537 510 773.4408602150537 476.36082986775324\" stroke=\"red\" stroke-width=\"2\"/><path d=\"M 762.6881720430107 476.36082986775324 773.4408602150537 476.36082986775324\" stroke=\"red\" stroke-width=\"2\"/><path d=\"M 891.7204301075268 510 891.7204301075268 474.91739511421713\" stroke=\"purple\" stroke-width=\"2\"/><path d=\"M 902.4731182795698 510 902.4731182795698 474.91739511421713\" stroke=\"purple\" stroke-width=\"2\"/><path d=\"M 891.7204301075268 474.91739511421713 902.4731182795698 474.91739511421713\" stroke=\"purple\" stroke-width=\"2\"/><path d=\"M 407.84946236559136 510 407.84946236559136 474.28999504847974\" stroke=\"blue\" stroke-width=\"2\"/><path d=\"M 418.6021505376344 510 418.6021505376344 474.28999504847974\" stroke=\"blue\" stroke-width=\"2\"/><path d=\"M 407.84946236559136 474.28999504847974 418.6021505376344 474.28999504847974\" stroke=\"blue\" stroke-width=\"2\"/><path d=\"M 848.7096774193548 510 848.7096774193548 474.1389819216227\" stroke=\"red\" stroke-width=\"2\"/><path d=\"M 859.4623655913978 510 859.4623655913978 474.1389819216227\" stroke=\"red\" stroke-width=\"2\"/><path d=\"M 848.7096774193548 474.1389819216227 859.4623655913978 474.1389819216227\" stroke=\"red\" stroke-width=\"2\"/><path d=\"M 375.59139784946234 510 375.59139784946234 473.7406097818244\" stroke=\"blue\" stroke-width=\"2\"/><path d=\"M 386.34408602150535 510 386.34408602150535 473.7406097818244\" stroke=\"blue\" stroke-width=\"2\"/><path d=\"M 375.59139784946234 473.7406097818244 386.34408602150535 473.7406097818244\" stroke=\"blue\" stroke-width=\"2\"/><path d=\"M 601.3978494623656 510 601.3978494623656 473.14875844331266\" stroke=\"yellow\" stroke-width=\"2\"/><path d=\"M 612.1505376344086 510 612.1505376344086 473.14875844331266\" stroke=\"yellow\" stroke-width=\"2\"/><path d=\"M 601.3978494623656 473.14875844331266 612.1505376344086 473.14875844331266\" stroke=\"yellow\" stroke-width=\"2\"/><path d=\"M 278.81720430107526 510 278.81720430107526 472.7333383329884\" stroke=\"orange\" stroke-width=\"2\"/><path d=\"M 289.5698924731183 510 289.5698924731183 472.7333383329884\" stroke=\"orange\" stroke-width=\"2\"/><path d=\"M 278.81720430107526 472.7333383329884 289.5698924731183 472.7333383329884\" stroke=\"orange\" stroke-width=\"2\"/><path d=\"M 735.8064516129032 482.30176074692605 735.8064516129032 472.239907714262\" stroke=\"red\" stroke-width=\"2\"/><path d=\"M 751.9354838709677 510 751.9354838709677 472.239907714262\" stroke=\"red\" stroke-width=\"2\"/><path d=\"M 735.8064516129032 472.239907714262 751.9354838709677 472.239907714262\" stroke=\"red\" stroke-width=\"2\"/><path d=\"M 961.6129032258063 479.33042511183373 961.6129032258063 470.375824937462\" stroke=\"purple\" stroke-width=\"2\"/><path d=\"M 977.7419354838709 510 977.7419354838709 470.375824937462\" stroke=\"purple\" stroke-width=\"2\"/><path d=\"M 961.6129032258063 470.375824937462 977.7419354838709 470.375824937462\" stroke=\"purple\" stroke-width=\"2\"/><path d=\"M 913.2258064516128 510 913.2258064516128 468.8410513863139\" stroke=\"purple\" stroke-width=\"2\"/><path d=\"M 923.9784946236558 510 923.9784946236558 468.8410513863139\" stroke=\"purple\" stroke-width=\"2\"/><path d=\"M 913.2258064516128 468.8410513863139 923.9784946236558 468.8410513863139\" stroke=\"purple\" stroke-width=\"2\"/><path d=\"M 364.83870967741933 510 364.83870967741933 463.026458968162\" stroke=\"blue\" stroke-width=\"2\"/><path d=\"M 380.96774193548384 473.7406097818244 380.96774193548384 463.026458968162\" stroke=\"blue\" stroke-width=\"2\"/><path d=\"M 364.83870967741933 463.026458968162 380.96774193548384 463.026458968162\" stroke=\"blue\" stroke-width=\"2\"/><path d=\"M 117.5268817204301 510 117.5268817204301 461.44709342866685\" stroke=\"green\" stroke-width=\"2\"/><path d=\"M 128.2795698924731 510 128.2795698924731 461.44709342866685\" stroke=\"green\" stroke-width=\"2\"/><path d=\"M 117.5268817204301 461.44709342866685 128.2795698924731 461.44709342866685\" stroke=\"green\" stroke-width=\"2\"/><path d=\"M 553.010752688172 496.7831140686176 553.010752688172 461.3834490154976\" stroke=\"blue\" stroke-width=\"2\"/><path d=\"M 569.1397849462365 510 569.1397849462365 461.3834490154976\" stroke=\"blue\" stroke-width=\"2\"/><path d=\"M 553.010752688172 461.3834490154976 569.1397849462365 461.3834490154976\" stroke=\"blue\" stroke-width=\"2\"/><path d=\"M 18.064516129032256 486.616378942339 18.064516129032256 461.3494279454119\" stroke=\"green\" stroke-width=\"2\"/><path d=\"M 65.10752688172043 482.79831439814063 65.10752688172043 461.3494279454119\" stroke=\"green\" stroke-width=\"2\"/><path d=\"M 18.064516129032256 461.3494279454119 65.10752688172043 461.3494279454119\" stroke=\"green\" stroke-width=\"2\"/><path d=\"M 811.0752688172042 482.34951397729094 811.0752688172042 459.1301274481262\" stroke=\"red\" stroke-width=\"2\"/><path d=\"M 854.0860215053763 474.1389819216227 854.0860215053763 459.1301274481262\" stroke=\"red\" stroke-width=\"2\"/><path d=\"M 811.0752688172042 459.1301274481262 854.0860215053763 459.1301274481262\" stroke=\"red\" stroke-width=\"2\"/><path d=\"M 96.02150537634408 510 96.02150537634408 458.94763328299365\" stroke=\"green\" stroke-width=\"2\"/><path d=\"M 106.77419354838709 510 106.77419354838709 458.94763328299365\" stroke=\"green\" stroke-width=\"2\"/><path d=\"M 96.02150537634408 458.94763328299365 106.77419354838709 458.94763328299365\" stroke=\"green\" stroke-width=\"2\"/><path d=\"M 284.19354838709677 472.7333383329884 284.19354838709677 458.7434569671141\" stroke=\"orange\" stroke-width=\"2\"/><path d=\"M 300.3225806451613 510 300.3225806451613 458.7434569671141\" stroke=\"orange\" stroke-width=\"2\"/><path d=\"M 284.19354838709677 458.7434569671141 300.3225806451613 458.7434569671141\" stroke=\"orange\" stroke-width=\"2\"/><path d=\"M 445.4838709677419 481.39052571804035 445.4838709677419 454.64579558513526\" stroke=\"blue\" stroke-width=\"2\"/><path d=\"M 461.6129032258064 510 461.6129032258064 454.64579558513526\" stroke=\"blue\" stroke-width=\"2\"/><path d=\"M 445.4838709677419 454.64579558513526 461.6129032258064 454.64579558513526\" stroke=\"blue\" stroke-width=\"2\"/><path d=\"M 477.7419354838709 476.5973825249274 477.7419354838709 452.74909715089063\" stroke=\"blue\" stroke-width=\"2\"/><path d=\"M 493.87096774193543 510 493.87096774193543 452.74909715089063\" stroke=\"blue\" stroke-width=\"2\"/><path d=\"M 477.7419354838709 452.74909715089063 493.87096774193543 452.74909715089063\" stroke=\"blue\" stroke-width=\"2\"/><path d=\"M 988.4946236559139 510 988.4946236559139 451.59907156176655\" stroke=\"purple\" stroke-width=\"2\"/><path d=\"M 999.2473118279569 510 999.2473118279569 451.59907156176655\" stroke=\"purple\" stroke-width=\"2\"/><path d=\"M 988.4946236559139 451.59907156176655 999.2473118279569 451.59907156176655\" stroke=\"purple\" stroke-width=\"2\"/><path d=\"M 655.1612903225806 510 655.1612903225806 450.8753705995942\" stroke=\"yellow\" stroke-width=\"2\"/><path d=\"M 671.2903225806451 496.4791007560173 671.2903225806451 450.8753705995942\" stroke=\"yellow\" stroke-width=\"2\"/><path d=\"M 655.1612903225806 450.8753705995942 671.2903225806451 450.8753705995942\" stroke=\"yellow\" stroke-width=\"2\"/><path d=\"M 149.78494623655914 510 149.78494623655914 447.9488627598259\" stroke=\"green\" stroke-width=\"2\"/><path d=\"M 160.53763440860214 510 160.53763440860214 447.9488627598259\" stroke=\"green\" stroke-width=\"2\"/><path d=\"M 149.78494623655914 447.9488627598259 160.53763440860214 447.9488627598259\" stroke=\"green\" stroke-width=\"2\"/><path d=\"M 122.90322580645159 461.44709342866685 122.90322580645159 446.75078340006047\" stroke=\"green\" stroke-width=\"2\"/><path d=\"M 139.03225806451613 510 139.03225806451613 446.75078340006047\" stroke=\"green\" stroke-width=\"2\"/><path d=\"M 122.90322580645159 446.75078340006047 139.03225806451613 446.75078340006047\" stroke=\"green\" stroke-width=\"2\"/><path d=\"M 520.752688172043 482.3543534482394 520.752688172043 445.0249063116844\" stroke=\"blue\" stroke-width=\"2\"/><path d=\"M 536.8817204301075 510 536.8817204301075 445.0249063116844\" stroke=\"blue\" stroke-width=\"2\"/><path d=\"M 520.752688172043 445.0249063116844 536.8817204301075 445.0249063116844\" stroke=\"blue\" stroke-width=\"2\"/><path d=\"M 155.16129032258064 447.9488627598259 155.16129032258064 442.8816165342317\" stroke=\"green\" stroke-width=\"2\"/><path d=\"M 171.29032258064515 510 171.29032258064515 442.8816165342317\" stroke=\"green\" stroke-width=\"2\"/><path d=\"M 155.16129032258064 442.8816165342317 171.29032258064515 442.8816165342317\" stroke=\"green\" stroke-width=\"2\"/><path d=\"M 372.9032258064516 463.026458968162 372.9032258064516 440.8913003651934\" stroke=\"blue\" stroke-width=\"2\"/><path d=\"M 397.09677419354836 510 397.09677419354836 440.8913003651934\" stroke=\"blue\" stroke-width=\"2\"/><path d=\"M 372.9032258064516 440.8913003651934 397.09677419354836 440.8913003651934\" stroke=\"blue\" stroke-width=\"2\"/><path d=\"M 579.8924731182796 510 579.8924731182796 438.12719699743684\" stroke=\"blue\" stroke-width=\"2\"/><path d=\"M 590.6451612903226 510 590.6451612903226 438.12719699743684\" stroke=\"blue\" stroke-width=\"2\"/><path d=\"M 579.8924731182796 438.12719699743684 590.6451612903226 438.12719699743684\" stroke=\"blue\" stroke-width=\"2\"/><path d=\"M 413.22580645161287 474.28999504847974 413.22580645161287 437.0376372914086\" stroke=\"blue\" stroke-width=\"2\"/><path d=\"M 429.3548387096774 510 429.3548387096774 437.0376372914086\" stroke=\"blue\" stroke-width=\"2\"/><path d=\"M 413.22580645161287 437.0376372914086 429.3548387096774 437.0376372914086\" stroke=\"blue\" stroke-width=\"2\"/><path d=\"M 292.258064516129 458.7434569671141 292.258064516129 435.157427649055\" stroke=\"orange\" stroke-width=\"2\"/><path d=\"M 311.0752688172043 510 311.0752688172043 435.157427649055\" stroke=\"orange\" stroke-width=\"2\"/><path d=\"M 292.258064516129 435.157427649055 311.0752688172043 435.157427649055\" stroke=\"orange\" stroke-width=\"2\"/><path d=\"M 687.4193548387096 510 687.4193548387096 432.50276390951734\" stroke=\"olive\" stroke-width=\"2\"/><path d=\"M 698.1720430107526 510 698.1720430107526 432.50276390951734\" stroke=\"olive\" stroke-width=\"2\"/><path d=\"M 687.4193548387096 432.50276390951734 698.1720430107526 432.50276390951734\" stroke=\"olive\" stroke-width=\"2\"/><path d=\"M 714.3010752688172 479.475031273826 714.3010752688172 431.5470190528176\" stroke=\"red\" stroke-width=\"2\"/><path d=\"M 743.8709677419354 472.239907714262 743.8709677419354 431.5470190528176\" stroke=\"red\" stroke-width=\"2\"/><path d=\"M 714.3010752688172 431.5470190528176 743.8709677419354 431.5470190528176\" stroke=\"red\" stroke-width=\"2\"/><path d=\"M 335.26881720430106 483.13412514410345 335.26881720430106 428.9004866558539\" stroke=\"blue\" stroke-width=\"2\"/><path d=\"M 354.0860215053763 510 354.0860215053763 428.9004866558539\" stroke=\"blue\" stroke-width=\"2\"/><path d=\"M 335.26881720430106 428.9004866558539 354.0860215053763 428.9004866558539\" stroke=\"blue\" stroke-width=\"2\"/><path d=\"M 453.54838709677415 454.64579558513526 453.54838709677415 426.7610758212059\" stroke=\"blue\" stroke-width=\"2\"/><path d=\"M 485.8064516129032 452.74909715089063 485.8064516129032 426.7610758212059\" stroke=\"blue\" stroke-width=\"2\"/><path d=\"M 453.54838709677415 426.7610758212059 485.8064516129032 426.7610758212059\" stroke=\"blue\" stroke-width=\"2\"/><path d=\"M 934.7311827956988 510 934.7311827956988 422.08230973638155\" stroke=\"purple\" stroke-width=\"2\"/><path d=\"M 945.4838709677418 510 945.4838709677418 422.08230973638155\" stroke=\"purple\" stroke-width=\"2\"/><path d=\"M 934.7311827956988 422.08230973638155 945.4838709677418 422.08230973638155\" stroke=\"purple\" stroke-width=\"2\"/><path d=\"M 251.9354838709677 487.33072299908036 251.9354838709677 420.0139276159762\" stroke=\"orange\" stroke-width=\"2\"/><path d=\"M 268.06451612903226 510 268.06451612903226 420.0139276159762\" stroke=\"orange\" stroke-width=\"2\"/><path d=\"M 251.9354838709677 420.0139276159762 268.06451612903226 420.0139276159762\" stroke=\"orange\" stroke-width=\"2\"/><path d=\"M 633.6559139784946 510 633.6559139784946 415.76476665671004\" stroke=\"yellow\" stroke-width=\"2\"/><path d=\"M 644.4086021505376 510 644.4086021505376 415.76476665671004\" stroke=\"yellow\" stroke-width=\"2\"/><path d=\"M 633.6559139784946 415.76476665671004 644.4086021505376 415.76476665671004\" stroke=\"yellow\" stroke-width=\"2\"/><path d=\"M 870.2150537634408 510 870.2150537634408 414.7678625794017\" stroke=\"red\" stroke-width=\"2\"/><path d=\"M 880.9677419354838 510 880.9677419354838 414.7678625794017\" stroke=\"red\" stroke-width=\"2\"/><path d=\"M 870.2150537634408 414.7678625794017 880.9677419354838 414.7678625794017\" stroke=\"red\" stroke-width=\"2\"/><path d=\"M 130.96774193548384 446.75078340006047 130.96774193548384 414.1684965017297\" stroke=\"green\" stroke-width=\"2\"/><path d=\"M 163.2258064516129 442.8816165342317 163.2258064516129 414.1684965017297\" stroke=\"green\" stroke-width=\"2\"/><path d=\"M 130.96774193548384 414.1684965017297 163.2258064516129 414.1684965017297\" stroke=\"green\" stroke-width=\"2\"/><path d=\"M 469.67741935483866 426.7610758212059 469.67741935483866 413.9292373375987\" stroke=\"blue\" stroke-width=\"2\"/><path d=\"M 504.62365591397844 510 504.62365591397844 413.9292373375987\" stroke=\"blue\" stroke-width=\"2\"/><path d=\"M 469.67741935483866 413.9292373375987 504.62365591397844 413.9292373375987\" stroke=\"blue\" stroke-width=\"2\"/><path d=\"M 729.0860215053763 431.5470190528176 729.0860215053763 412.51782057205617\" stroke=\"red\" stroke-width=\"2\"/><path d=\"M 768.0645161290322 476.36082986775324 768.0645161290322 412.51782057205617\" stroke=\"red\" stroke-width=\"2\"/><path d=\"M 729.0860215053763 412.51782057205617 768.0645161290322 412.51782057205617\" stroke=\"red\" stroke-width=\"2\"/><path d=\"M 897.0967741935483 474.91739511421713 897.0967741935483 412.4526127568978\" stroke=\"purple\" stroke-width=\"2\"/><path d=\"M 918.6021505376343 468.8410513863139 918.6021505376343 412.4526127568978\" stroke=\"purple\" stroke-width=\"2\"/><path d=\"M 897.0967741935483 412.4526127568978 918.6021505376343 412.4526127568978\" stroke=\"purple\" stroke-width=\"2\"/><path d=\"M 969.6774193548385 470.375824937462 969.6774193548385 409.16447999926027\" stroke=\"purple\" stroke-width=\"2\"/><path d=\"M 993.8709677419354 451.59907156176655 993.8709677419354 409.16447999926027\" stroke=\"purple\" stroke-width=\"2\"/><path d=\"M 969.6774193548385 409.16447999926027 993.8709677419354 409.16447999926027\" stroke=\"purple\" stroke-width=\"2\"/><path d=\"M 101.39784946236558 458.94763328299365 101.39784946236558 406.0765562272253\" stroke=\"green\" stroke-width=\"2\"/><path d=\"M 147.09677419354836 414.1684965017297 147.09677419354836 406.0765562272253\" stroke=\"green\" stroke-width=\"2\"/><path d=\"M 101.39784946236558 406.0765562272253 147.09677419354836 406.0765562272253\" stroke=\"green\" stroke-width=\"2\"/><path d=\"M 260.0 420.0139276159762 260.0 396.08396147792536\" stroke=\"orange\" stroke-width=\"2\"/><path d=\"M 301.66666666666663 435.157427649055 301.66666666666663 396.08396147792536\" stroke=\"orange\" stroke-width=\"2\"/><path d=\"M 260.0 396.08396147792536 301.66666666666663 396.08396147792536\" stroke=\"orange\" stroke-width=\"2\"/><path d=\"M 832.5806451612902 459.1301274481262 832.5806451612902 395.53254957777466\" stroke=\"red\" stroke-width=\"2\"/><path d=\"M 875.5913978494623 414.7678625794017 875.5913978494623 395.53254957777466\" stroke=\"red\" stroke-width=\"2\"/><path d=\"M 832.5806451612902 395.53254957777466 875.5913978494623 395.53254957777466\" stroke=\"red\" stroke-width=\"2\"/><path d=\"M 203.54838709677418 510 203.54838709677418 394.96504384476196\" stroke=\"orange\" stroke-width=\"2\"/><path d=\"M 227.74193548387095 493.9478128388084 227.74193548387095 394.96504384476196\" stroke=\"orange\" stroke-width=\"2\"/><path d=\"M 203.54838709677418 394.96504384476196 227.74193548387095 394.96504384476196\" stroke=\"orange\" stroke-width=\"2\"/><path d=\"M 41.586021505376344 461.3494279454119 41.586021505376344 392.3973380053214\" stroke=\"green\" stroke-width=\"2\"/><path d=\"M 85.26881720430107 510 85.26881720430107 392.3973380053214\" stroke=\"green\" stroke-width=\"2\"/><path d=\"M 41.586021505376344 392.3973380053214 85.26881720430107 392.3973380053214\" stroke=\"green\" stroke-width=\"2\"/><path d=\"M 487.1505376344086 413.9292373375987 487.1505376344086 386.2254540042962\" stroke=\"blue\" stroke-width=\"2\"/><path d=\"M 528.8172043010752 445.0249063116844 528.8172043010752 386.2254540042962\" stroke=\"blue\" stroke-width=\"2\"/><path d=\"M 487.1505376344086 386.2254540042962 528.8172043010752 386.2254540042962\" stroke=\"blue\" stroke-width=\"2\"/><path d=\"M 639.0322580645161 415.76476665671004 639.0322580645161 384.4522580055747\" stroke=\"yellow\" stroke-width=\"2\"/><path d=\"M 663.2258064516129 450.8753705995942 663.2258064516129 384.4522580055747\" stroke=\"yellow\" stroke-width=\"2\"/><path d=\"M 639.0322580645161 384.4522580055747 663.2258064516129 384.4522580055747\" stroke=\"yellow\" stroke-width=\"2\"/><path d=\"M 507.9838709677419 386.2254540042962 507.9838709677419 376.50021339194575\" stroke=\"blue\" stroke-width=\"2\"/><path d=\"M 561.0752688172042 461.3834490154976 561.0752688172042 376.50021339194575\" stroke=\"blue\" stroke-width=\"2\"/><path d=\"M 507.9838709677419 376.50021339194575 561.0752688172042 376.50021339194575\" stroke=\"blue\" stroke-width=\"2\"/><path d=\"M 907.8494623655913 412.4526127568978 907.8494623655913 371.7420515996822\" stroke=\"purple\" stroke-width=\"2\"/><path d=\"M 940.1075268817203 422.08230973638155 940.1075268817203 371.7420515996822\" stroke=\"purple\" stroke-width=\"2\"/><path d=\"M 907.8494623655913 371.7420515996822 940.1075268817203 371.7420515996822\" stroke=\"purple\" stroke-width=\"2\"/><path d=\"M 344.67741935483866 428.9004866558539 344.67741935483866 367.5605582858856\" stroke=\"blue\" stroke-width=\"2\"/><path d=\"M 385.0 440.8913003651934 385.0 367.5605582858856\" stroke=\"blue\" stroke-width=\"2\"/><path d=\"M 344.67741935483866 367.5605582858856 385.0 367.5605582858856\" stroke=\"blue\" stroke-width=\"2\"/><path d=\"M 421.2903225806451 437.0376372914086 421.2903225806451 365.0752285300446\" stroke=\"blue\" stroke-width=\"2\"/><path d=\"M 534.5295698924731 376.50021339194575 534.5295698924731 365.0752285300446\" stroke=\"blue\" stroke-width=\"2\"/><path d=\"M 421.2903225806451 365.0752285300446 534.5295698924731 365.0752285300446\" stroke=\"blue\" stroke-width=\"2\"/><path d=\"M 63.427419354838705 392.3973380053214 63.427419354838705 358.3113755286913\" stroke=\"green\" stroke-width=\"2\"/><path d=\"M 124.24731182795696 406.0765562272253 124.24731182795696 358.3113755286913\" stroke=\"green\" stroke-width=\"2\"/><path d=\"M 63.427419354838705 358.3113755286913 124.24731182795696 358.3113755286913\" stroke=\"green\" stroke-width=\"2\"/><path d=\"M 215.64516129032256 394.96504384476196 215.64516129032256 358.13092789367863\" stroke=\"orange\" stroke-width=\"2\"/><path d=\"M 280.8333333333333 396.08396147792536 280.8333333333333 358.13092789367863\" stroke=\"orange\" stroke-width=\"2\"/><path d=\"M 215.64516129032256 358.13092789367863 280.8333333333333 358.13092789367863\" stroke=\"orange\" stroke-width=\"2\"/><path d=\"M 748.5752688172042 412.51782057205617 748.5752688172042 341.059845404351\" stroke=\"red\" stroke-width=\"2\"/><path d=\"M 854.0860215053763 395.53254957777466 854.0860215053763 341.059845404351\" stroke=\"red\" stroke-width=\"2\"/><path d=\"M 748.5752688172042 341.059845404351 854.0860215053763 341.059845404351\" stroke=\"red\" stroke-width=\"2\"/><path d=\"M 606.7741935483871 473.14875844331266 606.7741935483871 336.025759156503\" stroke=\"yellow\" stroke-width=\"2\"/><path d=\"M 622.9032258064516 510 622.9032258064516 336.025759156503\" stroke=\"yellow\" stroke-width=\"2\"/><path d=\"M 606.7741935483871 336.025759156503 622.9032258064516 336.025759156503\" stroke=\"yellow\" stroke-width=\"2\"/><path d=\"M 477.9099462365591 365.0752285300446 477.9099462365591 332.0728728938334\" stroke=\"blue\" stroke-width=\"2\"/><path d=\"M 585.2688172043011 438.12719699743684 585.2688172043011 332.0728728938334\" stroke=\"blue\" stroke-width=\"2\"/><path d=\"M 477.9099462365591 332.0728728938334 585.2688172043011 332.0728728938334\" stroke=\"blue\" stroke-width=\"2\"/><path d=\"M 923.9784946236558 371.7420515996822 923.9784946236558 320.7946052156694\" stroke=\"purple\" stroke-width=\"2\"/><path d=\"M 981.774193548387 409.16447999926027 981.774193548387 320.7946052156694\" stroke=\"purple\" stroke-width=\"2\"/><path d=\"M 923.9784946236558 320.7946052156694 981.774193548387 320.7946052156694\" stroke=\"purple\" stroke-width=\"2\"/><path d=\"M 614.8387096774193 336.025759156503 614.8387096774193 318.811969912069\" stroke=\"yellow\" stroke-width=\"2\"/><path d=\"M 651.1290322580645 384.4522580055747 651.1290322580645 318.811969912069\" stroke=\"yellow\" stroke-width=\"2\"/><path d=\"M 614.8387096774193 318.811969912069 651.1290322580645 318.811969912069\" stroke=\"yellow\" stroke-width=\"2\"/><path d=\"M 364.83870967741933 367.5605582858856 364.83870967741933 309.0911394691875\" stroke=\"blue\" stroke-width=\"2\"/><path d=\"M 531.5893817204301 332.0728728938334 531.5893817204301 309.0911394691875\" stroke=\"blue\" stroke-width=\"2\"/><path d=\"M 364.83870967741933 309.0911394691875 531.5893817204301 309.0911394691875\" stroke=\"blue\" stroke-width=\"2\"/><path d=\"M 632.983870967742 318.811969912069 632.983870967742 305.99349061207266\" stroke=\"black\" stroke-width=\"2\"/><path d=\"M 692.7956989247311 432.50276390951734 692.7956989247311 305.99349061207266\" stroke=\"black\" stroke-width=\"2\"/><path d=\"M 632.983870967742 305.99349061207266 692.7956989247311 305.99349061207266\" stroke=\"black\" stroke-width=\"2\"/><path d=\"M 801.3306451612902 341.059845404351 801.3306451612902 289.91277673889397\" stroke=\"black\" stroke-width=\"2\"/><path d=\"M 952.8763440860214 320.7946052156694 952.8763440860214 289.91277673889397\" stroke=\"black\" stroke-width=\"2\"/><path d=\"M 801.3306451612902 289.91277673889397 952.8763440860214 289.91277673889397\" stroke=\"black\" stroke-width=\"2\"/><path d=\"M 248.23924731182794 358.13092789367863 248.23924731182794 259.85607314001413\" stroke=\"black\" stroke-width=\"2\"/><path d=\"M 448.2140456989247 309.0911394691875 448.2140456989247 259.85607314001413\" stroke=\"black\" stroke-width=\"2\"/><path d=\"M 248.23924731182794 259.85607314001413 448.2140456989247 259.85607314001413\" stroke=\"black\" stroke-width=\"2\"/><path d=\"M 662.8897849462365 305.99349061207266 662.8897849462365 257.99717164688343\" stroke=\"black\" stroke-width=\"2\"/><path d=\"M 877.1034946236558 289.91277673889397 877.1034946236558 257.99717164688343\" stroke=\"black\" stroke-width=\"2\"/><path d=\"M 662.8897849462365 257.99717164688343 877.1034946236558 257.99717164688343\" stroke=\"black\" stroke-width=\"2\"/><path d=\"M 93.83736559139783 358.3113755286913 93.83736559139783 247.72040961401927\" stroke=\"black\" stroke-width=\"2\"/><path d=\"M 187.41935483870967 478.96968028099263 187.41935483870967 247.72040961401927\" stroke=\"black\" stroke-width=\"2\"/><path d=\"M 93.83736559139783 247.72040961401927 187.41935483870967 247.72040961401927\" stroke=\"black\" stroke-width=\"2\"/><path d=\"M 140.62836021505376 247.72040961401927 140.62836021505376 189.60450718977359\" stroke=\"black\" stroke-width=\"2\"/><path d=\"M 348.2266465053763 259.85607314001413 348.2266465053763 189.60450718977359\" stroke=\"black\" stroke-width=\"2\"/><path d=\"M 140.62836021505376 189.60450718977359 348.2266465053763 189.60450718977359\" stroke=\"black\" stroke-width=\"2\"/><path d=\"M 244.42750336021504 189.60450718977359 244.42750336021504 10.0\" stroke=\"black\" stroke-width=\"2\"/><path d=\"M 769.9966397849462 257.99717164688343 769.9966397849462 10.0\" stroke=\"black\" stroke-width=\"2\"/><path d=\"M 244.42750336021504 10.0 769.9966397849462 10.0\" stroke=\"black\" stroke-width=\"2\"/></svg>"
          },
          "metadata": {},
          "execution_count": 618
        }
      ]
    },
    {
      "cell_type": "markdown",
      "source": [
        "**Metrics**"
      ],
      "metadata": {
        "id": "Mozj02oMhRfw"
      }
    },
    {
      "cell_type": "code",
      "source": [
        "nodelist = list(G_reduced.nodes)\n",
        "labels = list(cut_straight(dendrogram, n_clusters=8, return_dendrogram=False))\n",
        "\n",
        "community_dend = [[],[],[],[],[],[],[],[]]\n",
        "i = 0\n",
        "for node in nodelist:\n",
        "  community_dend[labels[i]].append(node)\n",
        "  i += 1\n",
        "\n",
        "_ = compute_metrics(G_reduced, community_dend)"
      ],
      "metadata": {
        "colab": {
          "base_uri": "https://localhost:8080/"
        },
        "outputId": "28c23280-0438-4485-b0b9-7851ed035bcc",
        "id": "fBqpvfUlhRfw"
      },
      "execution_count": 619,
      "outputs": [
        {
          "output_type": "stream",
          "name": "stdout",
          "text": [
            "Coverage:  0.2835150737652341\n",
            "Performance:  0.6736792893875643\n",
            "Modularity:  0.19499273510864562\n"
          ]
        }
      ]
    },
    {
      "cell_type": "markdown",
      "source": [
        "### Big clam"
      ],
      "metadata": {
        "id": "MNPh3eAoTbCp"
      }
    },
    {
      "cell_type": "code",
      "source": [
        "G_copy = G.copy()\n",
        "G_copy = nx.convert_node_labels_to_integers(G_copy, first_label=0, ordering='sorted')\n",
        "\n",
        "index_list = [index for index in range(G.number_of_nodes())]\n",
        "node_list = sorted([node for node in G.nodes()])\n",
        "\n",
        "clusters = big_clam(G_copy)\n",
        "communities = clusters.communities\n",
        "\n",
        "dictionary_bigClam = {}\n",
        "for idx in index_list:\n",
        "  dictionary_bigClam[idx] = node_list[idx]\n",
        "\n",
        "print('Number of communities:', len(communities))"
      ],
      "metadata": {
        "colab": {
          "base_uri": "https://localhost:8080/"
        },
        "outputId": "f95858b6-b274-480b-b475-d1dae1fd84eb",
        "id": "caWu2ytqTbCp"
      },
      "execution_count": 111,
      "outputs": [
        {
          "output_type": "stream",
          "name": "stdout",
          "text": [
            "Number of communities: 3\n"
          ]
        }
      ]
    },
    {
      "cell_type": "code",
      "source": [
        "bigClam_comm = [[],[],[]]\n",
        "for c in range(len(communities)):\n",
        "  for idx in range(len(communities[c])):\n",
        "    bigClam_comm[c].append(dictionary_bigClam[communities[c][idx]])\n",
        "\n",
        "print(bigClam_comm[0])\n",
        "print(bigClam_comm[1])\n",
        "print(bigClam_comm[2])"
      ],
      "metadata": {
        "colab": {
          "base_uri": "https://localhost:8080/"
        },
        "outputId": "88b47522-a086-442c-8902-f9d81572ddd7",
        "id": "TeJ6-qQ_TbCp"
      },
      "execution_count": 112,
      "outputs": [
        {
          "output_type": "stream",
          "name": "stdout",
          "text": [
            "['across', 'activity', 'add', 'administration', 'adult', 'africa', 'ahead', 'aid', 'aide', 'allow', 'almost', 'already', 'also', 'america', 'amid', 'among', 'amy', 'announce', 'another', 'antibody', 'appear', 'approval', 'approve', 'around', 'ask', 'australia', 'authority', 'available', 'bank', 'bar', 'battle', 'become', 'begin', 'benefit', 'big', 'bill', 'billion', 'boom', 'boost', 'breaking', 'bring', 'british', 'business', 'call', 'campaign', 'candidate', 'care', 'catch', 'cause', 'center', 'challenge', 'change', 'chief', 'child', 'claim', 'clear', 'climate', 'clinical', 'close', 'come', 'company', 'compare', 'concern', 'condition', 'confirm', 'contact', 'continue', 'control', 'court', 'crisis', 'curb', 'deal', 'debate', 'delay', 'democrat', 'democratic', 'despite', 'develop', 'development', 'diagnosis', 'die', 'director', 'disease', 'doctor', 'dose', 'drug', 'due', 'early', 'ease', 'economic', 'economy', 'effort', 'election', 'emergency', 'employee', 'enough', 'epidemic', 'event', 'expect', 'experience', 'experimental', 'expose', 'face', 'fall', 'far', 'fauci', 'fear', 'federal', 'feel', 'financial', 'firm', 'five', 'flu', 'food', 'force', 'former', 'four', 'france', 'free', 'fund', 'future', 'game', 'gathering', 'general', 'germany', 'give', 'governor', 'group', 'handling', 'head', 'help', 'hick', 'holiday', 'home', 'hope', 'hour', 'immune', 'immunity', 'impose', 'include', 'increase', 'india', 'industry', 'infect', 'institute', 'issue', 'italy', 'jersey', 'job', 'joe', 'join', 'kamala', 'keep', 'know', 'korea', 'lady', 'late', 'least', 'leave', 'less', 'level', 'like', 'local', 'long', 'look', 'lose', 'loss', 'major', 'many', 'mark', 'market', 'mayor', 'measure', 'medical', 'medium', 'meet', 'member', 'message', 'might', 'milestone', 'military', 'minister', 'ministry', 'morning', 'move', 'nancy', 'nation', 'national', 'nationwide', 'nearly', 'need', 'negative', 'news', 'next', 'night', 'nine', 'nominee', 'north', 'novel', 'office', 'order', 'organization', 'outside', 'package', 'part', 'participant', 'party', 'pass', 'past', 'patient', 'pay', 'penny', 'person', 'physician', 'place', 'plan', 'plastic', 'play', 'poll', 'possible', 'potential', 'presidential', 'press', 'prevent', 'prime', 'produce', 'protest', 'protocol', 'push', 'put', 'qingdao', 'quarantine', 'question', 'race', 'raise', 'rally', 'rate', 'reach', 'real', 'receive', 'recent', 'recovery', 'reduce', 'reed', 'region', 'register', 'release', 'relief', 'remain', 'republican', 'researcher', 'resident', 'response', 'restaurant', 'result', 'return', 'review', 'right', 'risk', 'rule', 'russia', 'safe', 'safety', 'school', 'scientist', 'secretary', 'seek', 'sen', 'senate', 'send', 'senior', 'serious', 'set', 'seven', 'several', 'share', 'shot', 'shut', 'side', 'sign', 'single', 'six', 'slow', 'small', 'soon', 'source', 'south', 'speaker', 'spike', 'staff', 'stage', 'start', 'statement', 'stay', 'still', 'stimulus', 'stock', 'stop', 'struggle', 'student', 'supply', 'supreme', 'surpass', 'survive', 'symptom', 'talk', 'tally', 'team', 'tell', 'term', 'think', 'third', 'thousand', 'three', 'today', 'toll', 'total', 'town', 'trail', 'transmission', 'travel', 'treat', 'treatment', 'trend', 'trillion', 'try', 'turn', 'tweet', 'twitter', 'university', 'urge', 'use', 'vice', 'volunteer', 'vote', 'voter', 'vulnerable', 'walter', 'want', 'war', 'warn', 'watch', 'wave', 'way', 'wear', 'wife', 'win', 'winter', 'without', 'woman', 'worker', 'worry', 'would', 'yet', 'york', 'young']\n",
            "['accord', 'adviser', 'age', 'air', 'analysis', 'authorization', 'avoid', 'back', 'bad', 'base', 'brazil', 'case', 'china', 'city', 'commission', 'congress', 'contain', 'contract', 'could', 'country', 'coverage', 'data', 'day', 'death', 'decline', 'demand', 'effect', 'effective', 'end', 'even', 'exclusive', 'facility', 'family', 'fight', 'find', 'first', 'flight', 'follow', 'french', 'get', 'global', 'good', 'half', 'happen', 'hard', 'health', 'high', 'hit', 'hold', 'hospital', 'house', 'illness', 'impact', 'infection', 'international', 'johnson', 'kill', 'large', 'last', 'lead', 'leader', 'life', 'likely', 'live', 'low', 'make', 'maker', 'mask', 'may', 'mike', 'million', 'month', 'much', 'new', 'number', 'offer', 'official', 'old', 'one', 'open', 'outbreak', 'pandemic', 'pause', 'people', 'player', 'political', 'positive', 'post', 'president', 'prevention', 'previous', 'promise', 'protect', 'provide', 'public', 'record', 'recover', 'reopen', 'report', 'research', 'restriction', 'resurgence', 'rise', 'say', 'season', 'second', 'see', 'self', 'senator', 'severe', 'show', 'since', 'social', 'spread', 'state', 'strong', 'study', 'support', 'supporter', 'surge', 'system', 'take', 'task', 'test', 'time', 'top', 'trial', 'trump', 'two', 'united', 'update', 'video', 'virus', 'week', 'well', 'whether', 'white', 'within', 'world', 'year']\n",
            "['daily', 'expert', 'government', 'work']\n"
          ]
        }
      ]
    },
    {
      "cell_type": "code",
      "source": [
        "for node in G.nodes():\n",
        "  if node in bigClam_comm[0] and node in bigClam_comm[1]:\n",
        "    print(node + ' is present in communities 0 and 1')\n",
        "  if node in bigClam_comm[0] and node in bigClam_comm[2]:\n",
        "    print(node + ' is present in communities 0 and 2')\n",
        "  if node in bigClam_comm[1] and node in bigClam_comm[2]:\n",
        "    print(node + ' is present in communities 1 and 2')"
      ],
      "metadata": {
        "id": "07n1ilFnTbCp"
      },
      "execution_count": 113,
      "outputs": []
    },
    {
      "cell_type": "markdown",
      "source": [
        "no overlapping"
      ],
      "metadata": {
        "id": "e6lnh4FBTbCp"
      }
    },
    {
      "cell_type": "code",
      "source": [
        "threshold = 0.001\n",
        "for i in range(len(bigClam_comm)):\n",
        "  sum_China, sum_USA, sum_China_USA = community_check(bigClam_comm[i], freq_dict_China, freq_dict_USA, G_China, G_USA, threshold)\n",
        "  print('Community: ', i)\n",
        "  print('China: ', round(100 * sum_China / len(bigClam_comm[i])),'%')\n",
        "  print('USA: ', round(100 * sum_USA / len(bigClam_comm[i])),'%')\n",
        "  print('China&USA: ', round(100 * sum_China_USA / len(bigClam_comm[i])),'%')\n",
        "  print()"
      ],
      "metadata": {
        "colab": {
          "base_uri": "https://localhost:8080/"
        },
        "outputId": "2a09d972-4476-48e8-c0d3-38e2784e0692",
        "id": "gGQqLfokTbCq"
      },
      "execution_count": 114,
      "outputs": [
        {
          "output_type": "stream",
          "name": "stdout",
          "text": [
            "Community:  0\n",
            "China:  4 %\n",
            "USA:  19 %\n",
            "China&USA:  77 %\n",
            "\n",
            "Community:  1\n",
            "China:  8 %\n",
            "USA:  9 %\n",
            "China&USA:  82 %\n",
            "\n",
            "Community:  2\n",
            "China:  0 %\n",
            "USA:  0 %\n",
            "China&USA:  100 %\n",
            "\n"
          ]
        }
      ]
    },
    {
      "cell_type": "markdown",
      "source": [
        "**Metrics**"
      ],
      "metadata": {
        "id": "4Du_04SfTbCq"
      }
    },
    {
      "cell_type": "code",
      "source": [
        "_ = compute_metrics(G, bigClam_comm)"
      ],
      "metadata": {
        "colab": {
          "base_uri": "https://localhost:8080/"
        },
        "outputId": "b65482b2-ea57-4541-89d2-793eca94fc2c",
        "id": "t86LZDE5TbCq"
      },
      "execution_count": 115,
      "outputs": [
        {
          "output_type": "stream",
          "name": "stdout",
          "text": [
            "Coverage:  0.4330725771403737\n",
            "Performance:  0.41048496993987976\n",
            "Modularity:  -0.03922693139648818\n"
          ]
        }
      ]
    },
    {
      "cell_type": "markdown",
      "source": [
        "#### display"
      ],
      "metadata": {
        "id": "a32LvbuJTbCq"
      }
    },
    {
      "cell_type": "code",
      "source": [
        "colors = list(G.nodes)\n",
        "i = 0\n",
        "dict_nodes = {}\n",
        "for node in colors:\n",
        "  if node in bigClam_comm[0]:\n",
        "    colors[i] = 'violet'\n",
        "    dict_nodes[node] = 0\n",
        "  if node in bigClam_comm[1]:\n",
        "    colors[i] = 'lightcoral'\n",
        "    dict_nodes[node] = 1\n",
        "  if node in bigClam_comm[2]:\n",
        "    colors[i] = 'lawngreen'\n",
        "    dict_nodes[node] = 2\n",
        "  i += 1"
      ],
      "metadata": {
        "id": "Bvu9kftGTbCq"
      },
      "execution_count": 116,
      "outputs": []
    },
    {
      "cell_type": "code",
      "source": [
        "pos = community_layout(G, dict_nodes)\n",
        "fig = plt.figure(1, figsize=(200, 80), dpi=60)\n",
        "nx.draw_networkx(G, pos, node_color=colors, node_size=5000, with_labels=True,\n",
        "                 font_size =50,width=0.05)\n",
        "plt.show()"
      ],
      "metadata": {
        "id": "zEN5bWDpTbCq"
      },
      "execution_count": null,
      "outputs": []
    },
    {
      "cell_type": "markdown",
      "source": [
        "## **MarchApril2021**"
      ],
      "metadata": {
        "id": "2rDk-p1U-6E-"
      }
    },
    {
      "cell_type": "markdown",
      "source": [
        "### Download data"
      ],
      "metadata": {
        "id": "PfQlRNTUUKPH"
      }
    },
    {
      "cell_type": "code",
      "source": [
        "period = '_MarchApril2021'\n",
        "China = pd.read_csv('/content/China'+period+'.csv')\n",
        "USA = pd.read_csv('/content/USA'+period+'.csv',)\n",
        "\n",
        "edges = pd.read_csv('/content/edgelist_China_USA'+period+'.csv')\n",
        "edges_China = pd.read_csv('/content/edgelist_China'+period+'.csv')\n",
        "edges_USA = pd.read_csv('/content/edgelist_USA'+period+'.csv')\n",
        "\n",
        "text_China = extract_text(China)\n",
        "text_USA = extract_text(USA)\n",
        "\n",
        "freq_dict_China = frequency_dictionary(text_China)\n",
        "freq_dict_China = dict(sorted(freq_dict_China.items(), key=lambda item: item[1], reverse = True))   #order from more frequent to less frequent word\n",
        "\n",
        "freq_dict_USA = frequency_dictionary(text_USA)\n",
        "freq_dict_USA = dict(sorted(freq_dict_USA.items(), key=lambda item: item[1], reverse = True))   #order from more frequent to less frequent word\n",
        "\n",
        "net, net_df = network_from_edges(edges)\n",
        "net_China, _ = network_from_edges(edges_China)\n",
        "net_USA, _ = network_from_edges(edges_USA)\n",
        "\n",
        "G = get_graph(net)\n",
        "nodes = G.nodes()\n",
        "G_China = get_graph(net_China)\n",
        "G_USA = get_graph(net_USA)"
      ],
      "metadata": {
        "id": "LsULlAGvUKPI"
      },
      "execution_count": 630,
      "outputs": []
    },
    {
      "cell_type": "code",
      "source": [
        "print('China&USA:')\n",
        "print('Nodes: ',len(G.nodes()))\n",
        "print('Edges: ',len(G.edges()))\n",
        "print('Is connected: ',nx.is_connected(G))\n",
        "print()\n",
        "print('China:')\n",
        "print('Words: ',len(freq_dict_China))\n",
        "print()\n",
        "print('USA:')\n",
        "print('Words: ',len(freq_dict_USA))"
      ],
      "metadata": {
        "outputId": "527ed152-9436-4c4c-a102-f7ae05ef6baa",
        "colab": {
          "base_uri": "https://localhost:8080/"
        },
        "id": "MzC6-4zoUKPI"
      },
      "execution_count": 631,
      "outputs": [
        {
          "output_type": "stream",
          "name": "stdout",
          "text": [
            "China&USA:\n",
            "Nodes:  499\n",
            "Edges:  3051\n",
            "Is connected:  True\n",
            "\n",
            "China:\n",
            "Words:  5858\n",
            "\n",
            "USA:\n",
            "Words:  12540\n"
          ]
        }
      ]
    },
    {
      "cell_type": "code",
      "source": [
        "# Graph without search keys\n",
        "G_original = G.copy()\n",
        "G.remove_node('coronavirus')\n",
        "G.remove_node('covid')\n",
        "G.remove_node('vaccine')"
      ],
      "metadata": {
        "id": "y7-Q14PNUKPI"
      },
      "execution_count": 632,
      "outputs": []
    },
    {
      "cell_type": "code",
      "source": [
        "print('Is connected: ', nx.is_connected(G))"
      ],
      "metadata": {
        "colab": {
          "base_uri": "https://localhost:8080/"
        },
        "outputId": "3c3a138a-2e4e-4eae-e51f-bb404af9f0d1",
        "id": "k_e1A2p-UKPI"
      },
      "execution_count": 633,
      "outputs": [
        {
          "output_type": "stream",
          "name": "stdout",
          "text": [
            "Is connected:  False\n"
          ]
        }
      ]
    },
    {
      "cell_type": "code",
      "source": [
        "for c in nx.connected_components(G):\n",
        "  print(c)"
      ],
      "metadata": {
        "colab": {
          "base_uri": "https://localhost:8080/"
        },
        "outputId": "ce37b98c-1202-4942-bf43-249422160a4e",
        "id": "KkehTG4CUKPI"
      },
      "execution_count": 634,
      "outputs": [
        {
          "output_type": "stream",
          "name": "stdout",
          "text": [
            "{'record', 'ask', 'mass', 'wave', 'urge', 'single', 'launch', 'fourth', 'start', 'country', 'look', 'young', 'emergency', 'much', 'fear', 'brazil', 'due', 'rise', 'surpass', 'cause', 'clinical', 'authorization', 'first', 'detect', 'update', 'even', 'office', 'thailand', 'effect', 'maker', 'scientist', 'south', 'speak', 'seek', 'medical', 'issue', 'shipment', 'sign', 'union', 'deal', 'send', 'intensive', 'mask', 'fauci', 'japan', 'fall', 'right', 'continue', 'mark', 'official', 'review', 'committee', 'concern', 'reason', 'block', 'become', 'top', 'prevention', 'outweigh', 'joe', 'register', 'way', 'president', 'suffer', 'half', 'link', 'allow', 'director', 'release', 'forward', 'dose', 'expect', 'program', 'france', 'close', 'child', 'work', 'include', 'school', 'amid', 'take', 'must', 'least', 'nearly', 'source', 'end', 'state', 'agency', 'safe', 'campaign', 'white', 'join', 'nation', 'result', 'forecast', 'adult', 'jab', 'effort', 'overseas', 'efficacy', 'world', 'potential', 'help', 'march', 'possible', 'stop', 'facebook', 'still', 'global', 'exclusive', 'delivery', 'economy', 'confirm', 'say', 'eligible', 'health', 'major', 'low', 'secretary', 'vaccination', 'team', 'inoculation', 'old', 'pandemic', 'prime', 'passport', 'house', 'chief', 'growth', 'reopen', 'test', 'hop', 'black', 'get', 'like', 'remain', 'know', 'population', 'seven', 'boost', 'trump', 'part', 'regulator', 'information', 'across', 'add', 'early', 'company', 'infectious', 'care', 'require', 'decline', 'fully', 'receive', 'large', 'recommend', 'brain', 'event', 'billion', 'breaking', 'china', 'last', 'open', 'long', 'ban', 'million', 'follow', 'back', 'african', 'donate', 'infection', 'without', 'pass', 'student', 'hospital', 'would', 'risk', 'new', 'lead', 'death', 'double', 'university', 'national', 'origin', 'find', 'clot', 'spike', 'fund', 'warn', 'people', 'administration', 'effective', 'michigan', 'week', 'want', 'vaccinate', 'order', 'one', 'reach', 'approval', 'trial', 'surge', 'chile', 'well', 'home', 'life', 'next', 'positive', 'impact', 'threat', 'executive', 'several', 'total', 'authority', 'research', 'travel', 'russia', 'see', 'dos', 'another', 'york', 'expand', 'fight', 'variant', 'base', 'india', 'prevent', 'increase', 'age', 'misinformation', 'organization', 'medicine', 'within', 'investigation', 'five', 'protect', 'limit', 'disease', 'case', 'social', 'resume', 'canada', 'suspend', 'break', 'two', 'level', 'set', 'minister', 'tokyo', 'city', 'site', 'late', 'contract', 'protection', 'use', 'virus', 'animal', 'news', 'british', 'meet', 'federal', 'free', 'big', 'plan', 'doctor', 'data', 'delay', 'extra', 'far', 'service', 'deliver', 'around', 'give', 'change', 'drug', 'medium', 'batch', 'former', 'hard', 'french', 'safety', 'year', 'approve', 'government', 'hospitalization', 'drive', 'slow', 'shot', 'arrive', 'response', 'face', 'call', 'lose', 'many', 'crisis', 'number', 'johnson', 'second', 'spread', 'announce', 'pause', 'korea', 'symptomatic', 'may', 'leader', 'live', 'likely', 'local', 'economic', 'since', 'expert', 'consider', 'month', 'side', 'soon', 'illness', 'administer', 'report', 'watch', 'develop', 'daily', 'public', 'australia', 'center', 'special', 'come', 'rare', 'severe', 'ease', 'germany', 'province', 'researcher', 'foreign', 'hope', 'control', 'decide', 'study', 'accord', 'air', 'ever', 'decision', 'track', 'governor', 'supply', 'export', 'toll', 'produce', 'threaten', 'yunnan', 'war', 'international', 'show', 'woman', 'commission', 'bring', 'could', 'strain', 'restriction', 'begin', 'game', 'third', 'blood', 'group', 'target', 'day', 'analysis', 'time', 'win', 'share', 'antibody', 'africa', 'united', 'senior', 'cite', 'every', 'institute', 'bad', 'hit', 'investigate', 'six', 'hour', 'make', 'offer', 'goal', 'ministry', 'average', 'worker', 'among', 'person', 'rate', 'coverage', 'high', 'patient', 'problem', 'three', 'benefit', 'need', 'disorder'}\n",
            "{'america'}\n",
            "{'claim'}\n",
            "{'lift'}\n",
            "{'business'}\n",
            "{'head'}\n",
            "{'support'}\n",
            "{'asian'}\n",
            "{'die'}\n",
            "{'full'}\n",
            "{'talk'}\n",
            "{'return'}\n",
            "{'gathering'}\n",
            "{'leave'}\n",
            "{'question'}\n",
            "{'community'}\n",
            "{'place'}\n",
            "{'inoculate'}\n",
            "{'capital'}\n",
            "{'roll'}\n",
            "{'grow'}\n",
            "{'thousand'}\n",
            "{'impose'}\n",
            "{'despite'}\n",
            "{'ahead'}\n",
            "{'quarter'}\n",
            "{'border'}\n",
            "{'general'}\n",
            "{'recent'}\n",
            "{'area'}\n",
            "{'california'}\n",
            "{'hold'}\n",
            "{'immunization'}\n",
            "{'family'}\n",
            "{'visit'}\n",
            "{'crowd'}\n",
            "{'less'}\n",
            "{'ship'}\n",
            "{'recover'}\n",
            "{'push'}\n",
            "{'strong'}\n",
            "{'behind'}\n",
            "{'keep'}\n",
            "{'today'}\n",
            "{'resident'}\n",
            "{'affect'}\n",
            "{'move'}\n",
            "{'fresh'}\n",
            "{'region'}\n",
            "{'struggle'}\n",
            "{'easter'}\n",
            "{'rule'}\n",
            "{'longer'}\n",
            "{'system'}\n",
            "{'symptom'}\n",
            "{'curb'}\n",
            "{'anti'}\n",
            "{'think'}\n",
            "{'four'}\n",
            "{'experience'}\n",
            "{'production'}\n",
            "{'measure'}\n",
            "{'provide'}\n",
            "{'pay'}\n",
            "{'also'}\n",
            "{'similar'}\n",
            "{'military'}\n",
            "{'step'}\n",
            "{'spring'}\n",
            "{'food'}\n",
            "{'past'}\n",
            "{'hong'}\n",
            "{'yet'}\n",
            "{'raise'}\n",
            "{'good'}\n",
            "{'member'}\n",
            "{'extend'}\n",
            "{'relief'}\n",
            "{'human'}\n",
            "{'beijing'}\n",
            "{'beach'}\n",
            "{'massive'}\n",
            "{'worry'}\n",
            "{'challenge'}\n",
            "{'access'}\n",
            "{'outbreak'}\n",
            "{'great'}\n",
            "{'demand'}\n",
            "{'drop'}\n",
            "{'battle'}\n",
            "{'line'}\n",
            "{'story'}\n",
            "{'street'}\n",
            "{'small'}\n",
            "{'put'}\n",
            "{'whether'}\n",
            "{'write'}\n",
            "{'tell'}\n",
            "{'race'}\n"
          ]
        }
      ]
    },
    {
      "cell_type": "code",
      "source": [
        "disconn_keys = []\n",
        "for c in nx.connected_components(G):\n",
        "  if len(c) == 1:\n",
        "    disconn_keys.append(list(c)[0])\n",
        "\n",
        "for key in disconn_keys:\n",
        "  G.remove_node(key)"
      ],
      "metadata": {
        "id": "wIjOXSDuXg-J"
      },
      "execution_count": 635,
      "outputs": []
    },
    {
      "cell_type": "code",
      "source": [
        "print('Is connected: ', nx.is_connected(G))"
      ],
      "metadata": {
        "colab": {
          "base_uri": "https://localhost:8080/"
        },
        "outputId": "c6b62b4a-1f26-4446-f1c7-2332451e3a2d",
        "id": "bQBXWlnSUKPI"
      },
      "execution_count": 636,
      "outputs": [
        {
          "output_type": "stream",
          "name": "stdout",
          "text": [
            "Is connected:  True\n"
          ]
        }
      ]
    },
    {
      "cell_type": "code",
      "source": [
        "def threshold(vector,threshold):\n",
        "\n",
        "  l = [(el,vector[el]) for el in vector if vector[el] >= threshold ]\n",
        "\n",
        "  return pd.DataFrame(l)\n",
        "\n",
        "def threshold_reverse(vector,threshold):\n",
        "\n",
        "  l = [(el,vector[el]) for el in vector if vector[el] < threshold ]\n",
        "\n",
        "  return pd.DataFrame(l)"
      ],
      "metadata": {
        "id": "H5zLJ3IyUKPI"
      },
      "execution_count": 637,
      "outputs": []
    },
    {
      "cell_type": "code",
      "source": [
        "# PageRank for reducing the graph\n",
        "pr = nx.algorithms.pagerank(G, alpha = 1)\n",
        "pr = dict(sorted(pr.items(), key=lambda item: item[1],reverse = True))\n",
        "\n",
        "thr = 0.002\n",
        "len(threshold(pr,thr))"
      ],
      "metadata": {
        "outputId": "d007557f-8d5c-4db9-bb03-1fee3e585697",
        "colab": {
          "base_uri": "https://localhost:8080/"
        },
        "id": "xPoHbfz0UKPI"
      },
      "execution_count": 638,
      "outputs": [
        {
          "output_type": "execute_result",
          "data": {
            "text/plain": [
              "100"
            ]
          },
          "metadata": {},
          "execution_count": 638
        }
      ]
    },
    {
      "cell_type": "code",
      "source": [
        "G_reduced = G.copy()\n",
        "nodes_to_delete = list(threshold_reverse(pr,thr)[0])\n",
        "for n in nodes_to_delete:\n",
        "    G_reduced.remove_node(n)\n",
        "\n",
        "nx.is_connected(G_reduced)"
      ],
      "metadata": {
        "outputId": "cb632c44-f6e6-4f66-d47b-7ad1476e1cdf",
        "colab": {
          "base_uri": "https://localhost:8080/"
        },
        "id": "oiBFTlDPUKPJ"
      },
      "execution_count": 639,
      "outputs": [
        {
          "output_type": "execute_result",
          "data": {
            "text/plain": [
              "True"
            ]
          },
          "metadata": {},
          "execution_count": 639
        }
      ]
    },
    {
      "cell_type": "markdown",
      "source": [
        "### Bipartition\n",
        "Partition a graph into two blocks using the Kernighan–Lin algorithm."
      ],
      "metadata": {
        "id": "Q8ouCWI4UKPJ"
      }
    },
    {
      "cell_type": "code",
      "source": [
        "community_bipart = community.kernighan_lin_bisection(G,weight='weight')\n",
        "\n",
        "print(community_bipart[0])\n",
        "print(community_bipart[1])"
      ],
      "metadata": {
        "colab": {
          "base_uri": "https://localhost:8080/"
        },
        "outputId": "8ed00b79-7158-48c1-eec9-494aa3e04279",
        "id": "3kvc7WaaUKPJ"
      },
      "execution_count": 149,
      "outputs": [
        {
          "output_type": "stream",
          "name": "stdout",
          "text": [
            "{'record', 'symptomatic', 'mass', 'wave', 'economy', 'launch', 'leader', 'approval', 'major', 'live', 'fourth', 'low', 'trial', 'chile', 'likely', 'surge', 'secretary', 'local', 'team', 'well', 'home', 'inoculation', 'look', 'life', 'since', 'positive', 'fear', 'much', 'brazil', 'month', 'passport', 'house', 'rise', 'threat', 'reopen', 'clinical', 'surpass', 'test', 'hop', 'black', 'detect', 'illness', 'several', 'report', 'like', 'update', 'total', 'watch', 'daily', 'center', 'research', 'special', 'remain', 'severe', 'ease', 'maker', 'see', 'province', 'another', 'researcher', 'york', 'seek', 'speak', 'hope', 'variant', 'medical', 'issue', 'seven', 'sign', 'base', 'india', 'control', 'prevent', 'boost', 'increase', 'study', 'deal', 'misinformation', 'part', 'investigation', 'within', 'intensive', 'air', 'fauci', 'japan', 'five', 'ever', 'information', 'decision', 'protect', 'limit', 'right', 'add', 'early', 'mark', 'disease', 'case', 'governor', 'social', 'care', 'break', 'reason', 'export', 'block', 'level', 'decline', 'toll', 'prevention', 'threaten', 'tokyo', 'yunnan', 'large', 'city', 'war', 'late', 'contract', 'show', 'protection', 'event', 'virus', 'news', 'bring', 'strain', 'open', 'restriction', 'last', 'suffer', 'begin', 'game', 'third', 'big', 'allow', 'doctor', 'data', 'long', 'group', 'analysis', 'extra', 'ban', 'service', 'forward', 'time', 'win', 'release', 'share', 'antibody', 'africa', 'united', 'cite', 'france', 'every', 'institute', 'change', 'bad', 'amid', 'infection', 'medium', 'pass', 'hit', 'hospital', 'hard', 'french', 'hour', 'nearly', 'offer', 'new', 'lead', 'death', 'double', 'average', 'state', 'worker', 'origin', 'white', 'join', 'spike', 'warn', 'hospitalization', 'rate', 'result', 'slow', 'coverage', 'effective', 'michigan', 'high', 'patient', 'overseas', 'face', 'response', 'efficacy', 'lose', 'three', 'potential', 'number', 'want', 'facebook', 'order', 'spread', 'disorder'}\n",
            "{'korea', 'reach', 'ask', 'global', 'exclusive', 'delivery', 'urge', 'confirm', 'single', 'say', 'eligible', 'health', 'may', 'start', 'vaccination', 'economic', 'country', 'young', 'next', 'expert', 'consider', 'emergency', 'old', 'due', 'pandemic', 'impact', 'side', 'prime', 'soon', 'chief', 'growth', 'cause', 'executive', 'authorization', 'first', 'administer', 'get', 'even', 'develop', 'public', 'authority', 'office', 'australia', 'travel', 'come', 'thailand', 'rare', 'know', 'effect', 'russia', 'scientist', 'germany', 'dos', 'population', 'south', 'foreign', 'expand', 'fight', 'shipment', 'decide', 'union', 'age', 'organization', 'accord', 'trump', 'medicine', 'regulator', 'send', 'mask', 'across', 'fall', 'continue', 'track', 'supply', 'company', 'infectious', 'resume', 'canada', 'official', 'suspend', 'review', 'require', 'concern', 'committee', 'two', 'set', 'minister', 'become', 'fully', 'receive', 'top', 'produce', 'outweigh', 'site', 'recommend', 'brain', 'international', 'joe', 'billion', 'use', 'animal', 'woman', 'register', 'commission', 'way', 'president', 'british', 'breaking', 'could', 'meet', 'china', 'half', 'link', 'free', 'federal', 'blood', 'plan', 'target', 'day', 'delay', 'director', 'far', 'million', 'dose', 'expect', 'deliver', 'senior', 'program', 'follow', 'around', 'back', 'give', 'close', 'african', 'child', 'work', 'include', 'school', 'drug', 'donate', 'without', 'batch', 'take', 'investigate', 'must', 'student', 'former', 'six', 'least', 'would', 'make', 'risk', 'goal', 'safety', 'source', 'end', 'ministry', 'agency', 'university', 'national', 'safe', 'year', 'campaign', 'among', 'person', 'approve', 'government', 'find', 'clot', 'fund', 'nation', 'drive', 'people', 'administration', 'forecast', 'adult', 'jab', 'effort', 'arrive', 'shot', 'problem', 'call', 'world', 'week', 'many', 'benefit', 'crisis', 'need', 'johnson', 'help', 'march', 'vaccinate', 'possible', 'stop', 'second', 'still', 'one', 'announce', 'pause'}\n"
          ]
        }
      ]
    },
    {
      "cell_type": "code",
      "source": [
        "threshold = 0.001\n",
        "sum_China_0, sum_USA_0, sum_China_USA_0 = community_check(community_bipart[0], freq_dict_China, freq_dict_USA, G_China, G_USA, threshold)\n",
        "sum_China_1, sum_USA_1, sum_China_USA_1 = community_check(community_bipart[1], freq_dict_China, freq_dict_USA, G_China, G_USA, threshold)\n",
        "\n",
        "print('First community:')\n",
        "print('China: ', round(100 * sum_China_0 / len(community_bipart[0])),'%')\n",
        "print('USA: ', round(100 * sum_USA_0 / len(community_bipart[0])),'%')\n",
        "print('China&USA: ', round(100 * sum_China_USA_0 / len(community_bipart[0])),'%')\n",
        "print()\n",
        "print('China: ', round(100 * sum_China_1 / len(community_bipart[1])),'%')\n",
        "print('USA: ', round(100 * sum_USA_1 / len(community_bipart[1])),'%')\n",
        "print('China&USA: ', round(100 * sum_China_USA_1 / len(community_bipart[1])),'%')"
      ],
      "metadata": {
        "colab": {
          "base_uri": "https://localhost:8080/"
        },
        "outputId": "1adc8955-746d-4126-d309-a243785f8f8f",
        "id": "zDP6HMgPUKPJ"
      },
      "execution_count": 150,
      "outputs": [
        {
          "output_type": "stream",
          "name": "stdout",
          "text": [
            "First community:\n",
            "China:  6 %\n",
            "USA:  17 %\n",
            "China&USA:  76 %\n",
            "\n",
            "China:  10 %\n",
            "USA:  13 %\n",
            "China&USA:  77 %\n"
          ]
        }
      ]
    },
    {
      "cell_type": "markdown",
      "source": [
        "**Metrics**"
      ],
      "metadata": {
        "id": "_8JNkElVUKPJ"
      }
    },
    {
      "cell_type": "code",
      "source": [
        "_ = compute_metrics(G, community_bipart)"
      ],
      "metadata": {
        "colab": {
          "base_uri": "https://localhost:8080/"
        },
        "outputId": "a004fe9f-4482-4311-cbf0-515ccee35337",
        "id": "zInOs2Y_UKPJ"
      },
      "execution_count": 151,
      "outputs": [
        {
          "output_type": "stream",
          "name": "stdout",
          "text": [
            "Coverage:  0.729106628242075\n",
            "Performance:  0.5133349366479754\n",
            "Modularity:  0.206713731945885\n"
          ]
        }
      ]
    },
    {
      "cell_type": "markdown",
      "source": [
        "### Modularity-based communities\n",
        "Find communities in G using greedy modularity maximization."
      ],
      "metadata": {
        "id": "R4RV2EHRUKPJ"
      }
    },
    {
      "cell_type": "code",
      "source": [
        "community_mod = community.greedy_modularity_communities(G, n_communities=2, weight='weight')\n",
        "\n",
        "community_mod_list = []\n",
        "for comm in community_mod:\n",
        " print(list(comm))\n",
        " community_mod_list.append(list(comm))"
      ],
      "metadata": {
        "colab": {
          "base_uri": "https://localhost:8080/"
        },
        "outputId": "2142a965-938f-47d4-c9a2-29a8b713887b",
        "id": "Uh5wlup_UKPJ"
      },
      "execution_count": 152,
      "outputs": [
        {
          "output_type": "stream",
          "name": "stdout",
          "text": [
            "['ask', 'top', 'exclusive', 'delivery', 'economy', 'confirm', 'outweigh', 'say', 'recommend', 'may', 'approval', 'brain', 'contract', 'protection', 'secretary', 'low', 'concern', 'likely', 'use', 'well', 'woman', 'british', 'breaking', 'meet', 'open', 'link', 'federal', 'next', 'begin', 'consider', 'emergency', 'blood', 'big', 'due', 'allow', 'plan', 'impact', 'side', 'target', 'delay', 'soon', 'chief', 'threat', 'director', 'cause', 'hop', 'executive', 'win', 'authorization', 'share', 'expect', 'senior', 'deliver', 'follow', 'even', 'back', 'develop', 'give', 'australia', 'disorder', 'drug', 'remain', 'rare', 'know', 'effect', 'maker', 'scientist', 'investigate', 'must', 'germany', 'six', 'researcher', 'risk', 'lead', 'seek', 'expand', 'safety', 'source', 'medical', 'agency', 'safe', 'approve', 'find', 'decide', 'clot', 'union', 'increase', 'age', 'slow', 'part', 'medicine', 'regulator', 'investigation', 'within', 'shot', 'call', 'problem', 'protect', 'decision', 'many', 'limit', 'add', 'early', 'benefit', 'track', 'supply', 'need', 'resume', 'want', 'infectious', 'johnson', 'suspend', 'stop', 'possible', 'review', 'still', 'committee', 'level', 'pause']\n",
            "['minister', 'reach', 'produce', 'fully', 'mass', 'become', 'receive', 'urge', 'site', 'eligible', 'late', 'launch', 'health', 'joe', 'billion', 'start', 'vaccination', 'inoculation', 'register', 'animal', 'commission', 'country', 'way', 'president', 'young', 'china', 'half', 'free', 'long', 'prime', 'extra', 'far', 'service', 'million', 'dose', 'first', 'black', 'detect', 'several', 'administer', 'get', 'like', 'program', 'around', 'public', 'authority', 'office', 'travel', 'come', 'donate', 'without', 'batch', 'russia', 'take', 'dos', 'population', 'least', 'would', 'make', 'foreign', 'goal', 'fight', 'end', 'ministry', 'worker', 'shipment', 'national', 'campaign', 'boost', 'deal', 'drive', 'people', 'organization', 'accord', 'adult', 'jab', 'effort', 'arrive', 'send', 'mask', 'world', 'week', 'across', 'continue', 'march', 'canada', 'vaccinate', 'official', 'second', 'two', 'one', 'announce', 'decline']\n",
            "['toll', 'record', 'wave', 'yunnan', 'city', 'single', 'major', 'event', 'fourth', 'surge', 'local', 'economic', 'virus', 'home', 'news', 'bring', 'could', 'strain', 'life', 'last', 'restriction', 'since', 'expert', 'fear', 'third', 'old', 'brazil', 'pandemic', 'month', 'day', 'rise', 'reopen', 'surpass', 'release', 'time', 'cite', 'united', 'report', 'update', 'total', 'daily', 'every', 'institute', 'close', 'change', 'work', 'bad', 'school', 'amid', 'infection', 'pass', 'ease', 'hit', 'see', 'hard', 'province', 'hour', 'nearly', 'another', 'new', 'york', 'death', 'double', 'variant', 'average', 'state', 'seven', 'year', 'india', 'spike', 'warn', 'rate', 'nation', 'coverage', 'michigan', 'high', 'overseas', 'ever', 'five', 'three', 'mark', 'case', 'number', 'help', 'spread', 'block', 'set']\n",
            "['korea', 'result', 'prevention', 'data', 'symptomatic', 'severe', 'effective', 'large', 'analysis', 'efficacy', 'clinical', 'information', 'show', 'south', 'trial', 'chile', 'illness', 'africa', 'disease', 'company', 'base', 'suffer', 'african', 'control', 'center', 'prevent', 'hospitalization', 'study']\n",
            "['administration', 'trump', 'doctor', 'house', 'war', 'air', 'former', 'response', 'leader', 'fauci', 'live', 'offer', 'antibody', 'speak', 'team', 'join', 'white', 'break', 'special', 'include']\n",
            "['group', 'governor', 'threaten', 'issue', 'university', 'passport', 'sign', 'among', 'student', 'face', 'person', 'government', 'order', 'ban', 'require', 'export', 'fall', 'thailand']\n",
            "['forecast', 'crisis', 'watch', 'origin', 'growth', 'international', 'fund', 'global']\n",
            "['potential', 'hope', 'forward', 'right', 'reason', 'much', 'look']\n",
            "['france', 'care', 'patient', 'hospital', 'french', 'intensive']\n",
            "['lose', 'child', 'research', 'test', 'positive']\n",
            "['facebook', 'social', 'misinformation', 'medium']\n",
            "['japan', 'game', 'tokyo']\n"
          ]
        }
      ]
    },
    {
      "cell_type": "code",
      "source": [
        "threshold = 0.001\n",
        "for i in range(len(community_mod_list)):\n",
        "  sum_China, sum_USA, sum_China_USA = community_check(community_mod_list[i], freq_dict_China, freq_dict_USA, G_China, G_USA, threshold)\n",
        "  print('Community: ', i)\n",
        "  print('China: ', round(100 * sum_China / len(community_mod_list[i])),'%')\n",
        "  print('USA: ', round(100 * sum_USA / len(community_mod_list[i])),'%')\n",
        "  print('China&USA: ', round(100 * sum_China_USA / len(community_mod_list[i])),'%')\n",
        "  print()"
      ],
      "metadata": {
        "colab": {
          "base_uri": "https://localhost:8080/"
        },
        "outputId": "eff88f75-ccbd-46a7-be3d-c14c2082f84f",
        "id": "xzYDknlJUKPJ"
      },
      "execution_count": 153,
      "outputs": [
        {
          "output_type": "stream",
          "name": "stdout",
          "text": [
            "Community:  0\n",
            "China:  3 %\n",
            "USA:  22 %\n",
            "China&USA:  75 %\n",
            "\n",
            "Community:  1\n",
            "China:  14 %\n",
            "USA:  5 %\n",
            "China&USA:  80 %\n",
            "\n",
            "Community:  2\n",
            "China:  9 %\n",
            "USA:  6 %\n",
            "China&USA:  85 %\n",
            "\n",
            "Community:  3\n",
            "China:  18 %\n",
            "USA:  18 %\n",
            "China&USA:  64 %\n",
            "\n",
            "Community:  4\n",
            "China:  0 %\n",
            "USA:  20 %\n",
            "China&USA:  80 %\n",
            "\n",
            "Community:  5\n",
            "China:  0 %\n",
            "USA:  28 %\n",
            "China&USA:  72 %\n",
            "\n",
            "Community:  6\n",
            "China:  12 %\n",
            "USA:  12 %\n",
            "China&USA:  75 %\n",
            "\n",
            "Community:  7\n",
            "China:  0 %\n",
            "USA:  0 %\n",
            "China&USA:  100 %\n",
            "\n",
            "Community:  8\n",
            "China:  0 %\n",
            "USA:  33 %\n",
            "China&USA:  67 %\n",
            "\n",
            "Community:  9\n",
            "China:  0 %\n",
            "USA:  40 %\n",
            "China&USA:  60 %\n",
            "\n",
            "Community:  10\n",
            "China:  0 %\n",
            "USA:  50 %\n",
            "China&USA:  50 %\n",
            "\n",
            "Community:  11\n",
            "China:  0 %\n",
            "USA:  100 %\n",
            "China&USA:  0 %\n",
            "\n"
          ]
        }
      ]
    },
    {
      "cell_type": "markdown",
      "source": [
        "**Metrics**"
      ],
      "metadata": {
        "id": "8l07tvlTUKPJ"
      }
    },
    {
      "cell_type": "code",
      "source": [
        "_ = compute_metrics(G, community_mod_list)"
      ],
      "metadata": {
        "colab": {
          "base_uri": "https://localhost:8080/"
        },
        "outputId": "778637d3-ee83-4b95-c6c1-a42f636a4df5",
        "id": "HUB42Uo0UKPJ"
      },
      "execution_count": 154,
      "outputs": [
        {
          "output_type": "stream",
          "name": "stdout",
          "text": [
            "Coverage:  0.5768491834774255\n",
            "Performance:  0.8035011328683721\n",
            "Modularity:  0.3496867074999233\n"
          ]
        }
      ]
    },
    {
      "cell_type": "markdown",
      "source": [
        "#### display"
      ],
      "metadata": {
        "id": "2n8pT2ESUKPK"
      }
    },
    {
      "cell_type": "code",
      "source": [
        "colors = list(G.nodes)\n",
        "i = 0\n",
        "dict_nodes = {}\n",
        "for node in colors:\n",
        "  if node in community_mod_list[0]:\n",
        "    colors[i] = 'violet'\n",
        "    dict_nodes[node] = 0\n",
        "  if node in community_mod_list[1]:\n",
        "    colors[i] = 'lightcoral'\n",
        "    dict_nodes[node] = 1\n",
        "  if node in community_mod_list[2]:\n",
        "    colors[i] = 'lawngreen'\n",
        "    dict_nodes[node] = 2\n",
        "  if node in community_mod_list[3]:\n",
        "    colors[i] = 'cyan'\n",
        "    dict_nodes[node] = 3\n",
        "  if node in community_mod_list[4]:\n",
        "    colors[i] = 'dodgerblue'\n",
        "    dict_nodes[node] = 4\n",
        "  i += 1"
      ],
      "metadata": {
        "id": "thTgVy5vUKPK"
      },
      "execution_count": 155,
      "outputs": []
    },
    {
      "cell_type": "code",
      "source": [
        "pos = community_layout(G, dict_nodes)\n",
        "fig = plt.figure(1, figsize=(200, 80), dpi=60)\n",
        "nx.draw_networkx(G, pos, node_color=colors, node_size=5000, with_labels=True,\n",
        "                 font_size =50,width=0.05)\n",
        "plt.show()"
      ],
      "metadata": {
        "id": "h1vTGUEgUKPK"
      },
      "execution_count": null,
      "outputs": []
    },
    {
      "cell_type": "markdown",
      "source": [
        "### Louvain Community Detection\n",
        "Find the best partition of a graph using the Louvain Community Detection Algorithm."
      ],
      "metadata": {
        "id": "r46XwFYzUKPK"
      }
    },
    {
      "cell_type": "code",
      "source": [
        "community_louv = community_louvain.best_partition(G,weight='weight')\n",
        "\n",
        "max = np.max(list(community_louv.values()))\n",
        "community_louvain_list = []\n",
        "for i in range(max+1):\n",
        "  community_louvain_list.append([])\n",
        "for key in list(community_louv.keys()):\n",
        "  community_louvain_list[community_louv[key]].append(key)\n",
        "for i in range(max+1):\n",
        "  print(community_louvain_list[i])"
      ],
      "metadata": {
        "colab": {
          "base_uri": "https://localhost:8080/"
        },
        "outputId": "da97ea08-5c85-4340-c78b-812dfa6a5ad6",
        "id": "iK8TP0rUUKPK"
      },
      "execution_count": 156,
      "outputs": [
        {
          "output_type": "stream",
          "name": "stdout",
          "text": [
            "['low', 'say', 'expert', 'could', 'top', 'disease', 'lose', 'child', 'even', 'data', 'would', 'result', 'follow', 'increase', 'africa', 'hospitalization', 'control', 'large', 'tokyo', 'test', 'positive', 'british', 'show', 'base', 'hop', 'director', 'part', 'deliver', 'center', 'prevention', 'need', 'open', 'clinical', 'trial', 'company', 'allow', 'game', 'much', 'share', 'economy', 'japan', 'prevent', 'begin', 'big', 'win', 'medical', 'supply', 'look', 'secretary', 'right', 'delay', 'chile', 'chief', 'lead', 'young', 'may', 'still', 'hope', 'slow', 'threat', 'release', 'add', 'effective', 'well', 'safe', 'level', 'efficacy', 'remain', 'approval', 'research', 'potential', 'early', 'reason', 'within', 'information', 'symptomatic', 'illness', 'executive', 'scientist', 'severe', 'protect', 'likely', 'know', 'researcher', 'exclusive', 'investigation', 'want', 'breaking', 'protection', 'delivery', 'source', 'infectious', 'forward', 'must']\n",
            "['one', 'country', 'second', 'people', 'million', 'first', 'year', 'national', 'time', 'black', 'receive', 'least', 'dose', 'dos', 'adult', 'population', 'get', 'vaccinate', 'announce', 'jab', 'administer', 'like', 'continue', 'extra', 'take', 'effort', 'make', 'vaccination', 'inoculation', 'across', 'china', 'office', 'march', 'mass', 'two', 'site', 'long', 'become', 'end', 'donate', 'batch', 'arrive', 'canada', 'urge', 'half', 'several', 'prime', 'minister', 'late', 'work', 'foreign', 'shipment', 'president', 'boost', 'drive', 'thailand', 'without', 'billion', 'university', 'old', 'expect', 'detect', 'start', 'travel', 'produce', 'consider', 'commission', 'require', 'student', 'joe', 'eligible', 'way', 'campaign', 'home', 'launch', 'mask', 'back', 'goal', 'fully', 'among', 'deal', 'free', 'send', 'plan', 'program', 'come', 'target', 'fall', 'australia', 'person']\n",
            "['care', 'france', 'patient', 'hospital', 'french', 'intensive']\n",
            "['pandemic', 'response', 'close', 'life', 'team', 'school', 'join', 'leader', 'fight', 'reopen', 'help', 'special', 'hard', 'antibody', 'live', 'include', 'local', 'doctor', 'house', 'white', 'former', 'trump', 'administration', 'offer', 'break', 'change', 'speak', 'air', 'soon', 'war', 'fauci']\n",
            "['health', 'world', 'global', 'ministry', 'far', 'around', 'public', 'call', 'reach', 'authority', 'organization', 'warn', 'official', 'watch', 'register', 'fund', 'economic', 'international', 'crisis', 'worker', 'senior', 'russia', 'animal', 'service', 'growth', 'forecast']\n",
            "['government', 'passport', 'ban', 'group', 'face', 'governor', 'order', 'sign', 'threaten', 'issue', 'export']\n",
            "['death', 'toll', 'surpass', 'mark', 'third', 'rise', 'new', 'wave', 'virus', 'brazil', 'number', 'report', 'case', 'month', 'record', 'daily', 'high', 'surge', 'variant', 'last', 'pass', 'hit', 'hour', 'bad', 'day', 'bring', 'accord', 'total', 'set', 'see', 'nation', 'state', 'city', 'week', 'restriction', 'many', 'amid', 'infection', 'rate', 'south', 'india', 'michigan', 'average', 'every', 'spread', 'spike', 'news', 'three', 'since', 'study', 'event', 'province', 'five', 'overseas', 'ease', 'major', 'nearly', 'institute', 'african', 'double', 'united', 'strain', 'york', 'seven', 'fear', 'yunnan', 'ever', 'single', 'origin', 'decline', 'another', 'cite', 'update', 'union', 'fourth', 'next', 'block', 'suffer', 'korea', 'analysis', 'coverage']\n",
            "['facebook', 'social', 'medium', 'misinformation']\n",
            "['find', 'risk', 'shot', 'give', 'drug', 'develop', 'use', 'approve', 'age', 'concern', 'impact', 'seek', 'germany', 'stop', 'side', 'confirm', 'ask', 'recommend', 'limit', 'review', 'blood', 'clot', 'emergency', 'authorization', 'contract', 'woman', 'federal', 'benefit', 'outweigh', 'rare', 'effect', 'safety', 'link', 'medicine', 'agency', 'possible', 'regulator', 'brain', 'due', 'committee', 'johnson', 'maker', 'six', 'investigate', 'expand', 'decide', 'resume', 'suspend', 'track', 'disorder', 'problem', 'cause', 'meet', 'pause', 'decision']\n"
          ]
        }
      ]
    },
    {
      "cell_type": "code",
      "source": [
        "threshold = 0.001\n",
        "for i in range(len(community_louvain_list)):\n",
        "  sum_China, sum_USA, sum_China_USA = community_check(community_louvain_list[i], freq_dict_China, freq_dict_USA, G_China, G_USA, threshold)\n",
        "  print('Community: ', i)\n",
        "  print('China: ', round(100 * sum_China / len(community_louvain_list[i])),'%')\n",
        "  print('USA: ', round(100 * sum_USA / len(community_louvain_list[i])),'%')\n",
        "  print('China&USA: ', round(100 * sum_China_USA / len(community_louvain_list[i])),'%')\n",
        "  print()"
      ],
      "metadata": {
        "colab": {
          "base_uri": "https://localhost:8080/"
        },
        "outputId": "fde42c3b-77f0-4034-9452-4cd013c73d57",
        "id": "7oENkAWYUKPK"
      },
      "execution_count": 157,
      "outputs": [
        {
          "output_type": "stream",
          "name": "stdout",
          "text": [
            "Community:  0\n",
            "China:  3 %\n",
            "USA:  21 %\n",
            "China&USA:  76 %\n",
            "\n",
            "Community:  1\n",
            "China:  9 %\n",
            "USA:  10 %\n",
            "China&USA:  80 %\n",
            "\n",
            "Community:  2\n",
            "China:  0 %\n",
            "USA:  33 %\n",
            "China&USA:  67 %\n",
            "\n",
            "Community:  3\n",
            "China:  0 %\n",
            "USA:  13 %\n",
            "China&USA:  87 %\n",
            "\n",
            "Community:  4\n",
            "China:  19 %\n",
            "USA:  8 %\n",
            "China&USA:  73 %\n",
            "\n",
            "Community:  5\n",
            "China:  0 %\n",
            "USA:  27 %\n",
            "China&USA:  73 %\n",
            "\n",
            "Community:  6\n",
            "China:  14 %\n",
            "USA:  11 %\n",
            "China&USA:  75 %\n",
            "\n",
            "Community:  7\n",
            "China:  0 %\n",
            "USA:  50 %\n",
            "China&USA:  50 %\n",
            "\n",
            "Community:  8\n",
            "China:  7 %\n",
            "USA:  16 %\n",
            "China&USA:  76 %\n",
            "\n"
          ]
        }
      ]
    },
    {
      "cell_type": "markdown",
      "source": [
        "**Metrics**"
      ],
      "metadata": {
        "id": "4wXsm6rYUKPK"
      }
    },
    {
      "cell_type": "code",
      "source": [
        "_ = compute_metrics(G, community_louvain_list)"
      ],
      "metadata": {
        "colab": {
          "base_uri": "https://localhost:8080/"
        },
        "outputId": "4ea89645-afe6-4995-c799-541147901334",
        "id": "ebIf3uxoUKPK"
      },
      "execution_count": 158,
      "outputs": [
        {
          "output_type": "stream",
          "name": "stdout",
          "text": [
            "Coverage:  0.5278578290105668\n",
            "Performance:  0.8246775438907383\n",
            "Modularity:  0.3564179894791457\n"
          ]
        }
      ]
    },
    {
      "cell_type": "markdown",
      "source": [
        "#### display"
      ],
      "metadata": {
        "id": "xxAIanXqUKPK"
      }
    },
    {
      "cell_type": "code",
      "source": [
        "colors = list(community_louv.values())\n",
        "\n",
        "colors[:] = [x if x != 0 else 'violet' for x in colors]\n",
        "colors[:] = [x if x != 1 else 'dodgerblue' for x in colors]\n",
        "colors[:] = [x if x != 2 else 'lawngreen' for x in colors]\n",
        "colors[:] = [x if x != 3 else 'pink' for x in colors]\n",
        "colors[:] = [x if x != 4 else 'lightcoral' for x in colors]\n",
        "colors[:] = [x if x != 5 else 'cyan' for x in colors]"
      ],
      "metadata": {
        "id": "WuXqPWlvUKPK"
      },
      "execution_count": null,
      "outputs": []
    },
    {
      "cell_type": "code",
      "source": [
        "pos = community_layout(G, community_louv)\n",
        "fig = plt.figure(1, figsize=(200, 80), dpi=60)\n",
        "nx.draw_networkx(G, pos, node_color=colors, node_size=5000, with_labels=True,\n",
        "                 font_size =50,width=0.05)\n",
        "plt.show()"
      ],
      "metadata": {
        "id": "Y8uiVMqlUKPK"
      },
      "execution_count": null,
      "outputs": []
    },
    {
      "cell_type": "markdown",
      "source": [
        "### Dendogram"
      ],
      "metadata": {
        "id": "9uW_vrL9hbxA"
      }
    },
    {
      "cell_type": "code",
      "source": [
        "paris = Paris()\n",
        "adjacency = nx.convert_matrix.to_numpy_array(G_reduced, nodelist = list(G_reduced.nodes))\n",
        "dendrogram = paris.fit_transform(adjacency)\n",
        "\n",
        "names = list(G_reduced.nodes)\n",
        "image = svg_dendrogram(dendrogram, names, n_clusters=2, rotate=False,width=1000,height=500,filename='community_dendogram2'+period)\n",
        "SVG(image)"
      ],
      "metadata": {
        "colab": {
          "base_uri": "https://localhost:8080/",
          "height": 0
        },
        "outputId": "b7d520fb-f837-41e7-84e9-1965dfd032ef",
        "id": "kednaeqchbxB"
      },
      "execution_count": 640,
      "outputs": [
        {
          "output_type": "execute_result",
          "data": {
            "text/plain": [
              "<IPython.core.display.SVG object>"
            ],
            "image/svg+xml": "<svg height=\"597.0\" width=\"1020\" xmlns=\"http://www.w3.org/2000/svg\"><text font-size=\"12\" transform=\"rotate(60, 215.0, 515)\" x=\"215.0\" y=\"515\">death</text><text font-size=\"12\" transform=\"rotate(60, 485.0, 515)\" x=\"485.0\" y=\"515\">one</text><text font-size=\"12\" transform=\"rotate(60, 295.0, 515)\" x=\"295.0\" y=\"515\">country</text><text font-size=\"12\" transform=\"rotate(60, 355.0, 515)\" x=\"355.0\" y=\"515\">health</text><text font-size=\"12\" transform=\"rotate(60, 375.0, 515)\" x=\"375.0\" y=\"515\">world</text><text font-size=\"12\" transform=\"rotate(60, 145.0, 515)\" x=\"145.0\" y=\"515\">rise</text><text font-size=\"12\" transform=\"rotate(60, 115.0, 515)\" x=\"115.0\" y=\"515\">new</text><text font-size=\"12\" transform=\"rotate(60, 185.0, 515)\" x=\"185.0\" y=\"515\">wave</text><text font-size=\"12\" transform=\"rotate(60, 285.0, 515)\" x=\"285.0\" y=\"515\">virus</text><text font-size=\"12\" transform=\"rotate(60, 205.0, 515)\" x=\"205.0\" y=\"515\">brazil</text><text font-size=\"12\" transform=\"rotate(60, 455.0, 515)\" x=\"455.0\" y=\"515\">second</text><text font-size=\"12\" transform=\"rotate(60, 135.0, 515)\" x=\"135.0\" y=\"515\">number</text><text font-size=\"12\" transform=\"rotate(60, 155.0, 515)\" x=\"155.0\" y=\"515\">report</text><text font-size=\"12\" transform=\"rotate(60, 305.0, 515)\" x=\"305.0\" y=\"515\">global</text><text font-size=\"12\" transform=\"rotate(60, 125.0, 515)\" x=\"125.0\" y=\"515\">case</text><text font-size=\"12\" transform=\"rotate(60, 25.0, 515)\" x=\"25.0\" y=\"515\">month</text><text font-size=\"12\" transform=\"rotate(60, 65.0, 515)\" x=\"65.0\" y=\"515\">record</text><text font-size=\"12\" transform=\"rotate(60, 55.0, 515)\" x=\"55.0\" y=\"515\">daily</text><text font-size=\"12\" transform=\"rotate(60, 235.0, 515)\" x=\"235.0\" y=\"515\">find</text><text font-size=\"12\" transform=\"rotate(60, 45.0, 515)\" x=\"45.0\" y=\"515\">high</text><text font-size=\"12\" transform=\"rotate(60, 95.0, 515)\" x=\"95.0\" y=\"515\">surge</text><text font-size=\"12\" transform=\"rotate(60, 845.0, 515)\" x=\"845.0\" y=\"515\">people</text><text font-size=\"12\" transform=\"rotate(60, 995.0, 515)\" x=\"995.0\" y=\"515\">say</text><text font-size=\"12\" transform=\"rotate(60, 415.0, 515)\" x=\"415.0\" y=\"515\">million</text><text font-size=\"12\" transform=\"rotate(60, 735.0, 515)\" x=\"735.0\" y=\"515\">expert</text><text font-size=\"12\" transform=\"rotate(60, 525.0, 515)\" x=\"525.0\" y=\"515\">first</text><text font-size=\"12\" transform=\"rotate(60, 265.0, 515)\" x=\"265.0\" y=\"515\">variant</text><text font-size=\"12\" transform=\"rotate(60, 325.0, 515)\" x=\"325.0\" y=\"515\">pandemic</text><text font-size=\"12\" transform=\"rotate(60, 335.0, 515)\" x=\"335.0\" y=\"515\">year</text><text font-size=\"12\" transform=\"rotate(60, 195.0, 515)\" x=\"195.0\" y=\"515\">could</text><text font-size=\"12\" transform=\"rotate(60, 275.0, 515)\" x=\"275.0\" y=\"515\">hit</text><text font-size=\"12\" transform=\"rotate(60, 745.0, 515)\" x=\"745.0\" y=\"515\">top</text><text font-size=\"12\" transform=\"rotate(60, 605.0, 515)\" x=\"605.0\" y=\"515\">day</text><text font-size=\"12\" transform=\"rotate(60, 425.0, 515)\" x=\"425.0\" y=\"515\">national</text><text font-size=\"12\" transform=\"rotate(60, 175.0, 515)\" x=\"175.0\" y=\"515\">accord</text><text font-size=\"12\" transform=\"rotate(60, 965.0, 515)\" x=\"965.0\" y=\"515\">disease</text><text font-size=\"12\" transform=\"rotate(60, 695.0, 515)\" x=\"695.0\" y=\"515\">risk</text><text font-size=\"12\" transform=\"rotate(60, 345.0, 515)\" x=\"345.0\" y=\"515\">see</text><text font-size=\"12\" transform=\"rotate(60, 165.0, 515)\" x=\"165.0\" y=\"515\">state</text><text font-size=\"12\" transform=\"rotate(60, 905.0, 515)\" x=\"905.0\" y=\"515\">response</text><text font-size=\"12\" transform=\"rotate(60, 835.0, 515)\" x=\"835.0\" y=\"515\">child</text><text font-size=\"12\" transform=\"rotate(60, 515.0, 515)\" x=\"515.0\" y=\"515\">receive</text><text font-size=\"12\" transform=\"rotate(60, 475.0, 515)\" x=\"475.0\" y=\"515\">least</text><text font-size=\"12\" transform=\"rotate(60, 505.0, 515)\" x=\"505.0\" y=\"515\">dose</text><text font-size=\"12\" transform=\"rotate(60, 395.0, 515)\" x=\"395.0\" y=\"515\">dos</text><text font-size=\"12\" transform=\"rotate(60, 545.0, 515)\" x=\"545.0\" y=\"515\">adult</text><text font-size=\"12\" transform=\"rotate(60, 855.0, 515)\" x=\"855.0\" y=\"515\">shot</text><text font-size=\"12\" transform=\"rotate(60, 465.0, 515)\" x=\"465.0\" y=\"515\">population</text><text font-size=\"12\" transform=\"rotate(60, 565.0, 515)\" x=\"565.0\" y=\"515\">get</text><text font-size=\"12\" transform=\"rotate(60, 595.0, 515)\" x=\"595.0\" y=\"515\">vaccinate</text><text font-size=\"12\" transform=\"rotate(60, 15.0, 515)\" x=\"15.0\" y=\"515\">week</text><text font-size=\"12\" transform=\"rotate(60, 765.0, 515)\" x=\"765.0\" y=\"515\">government</text><text font-size=\"12\" transform=\"rotate(60, 405.0, 515)\" x=\"405.0\" y=\"515\">administer</text><text font-size=\"12\" transform=\"rotate(60, 935.0, 515)\" x=\"935.0\" y=\"515\">data</text><text font-size=\"12\" transform=\"rotate(60, 495.0, 515)\" x=\"495.0\" y=\"515\">develop</text><text font-size=\"12\" transform=\"rotate(60, 615.0, 515)\" x=\"615.0\" y=\"515\">take</text><text font-size=\"12\" transform=\"rotate(60, 85.0, 515)\" x=\"85.0\" y=\"515\">amid</text><text font-size=\"12\" transform=\"rotate(60, 575.0, 515)\" x=\"575.0\" y=\"515\">make</text><text font-size=\"12\" transform=\"rotate(60, 805.0, 515)\" x=\"805.0\" y=\"515\">use</text><text font-size=\"12\" transform=\"rotate(60, 105.0, 515)\" x=\"105.0\" y=\"515\">infection</text><text font-size=\"12\" transform=\"rotate(60, 555.0, 515)\" x=\"555.0\" y=\"515\">vaccination</text><text font-size=\"12\" transform=\"rotate(60, 825.0, 515)\" x=\"825.0\" y=\"515\">age</text><text font-size=\"12\" transform=\"rotate(60, 385.0, 515)\" x=\"385.0\" y=\"515\">organization</text><text font-size=\"12\" transform=\"rotate(60, 245.0, 515)\" x=\"245.0\" y=\"515\">africa</text><text font-size=\"12\" transform=\"rotate(60, 435.0, 515)\" x=\"435.0\" y=\"515\">china</text><text font-size=\"12\" transform=\"rotate(60, 5.0, 515)\" x=\"5.0\" y=\"515\">two</text><text font-size=\"12\" transform=\"rotate(60, 755.0, 515)\" x=\"755.0\" y=\"515\">official</text><text font-size=\"12\" transform=\"rotate(60, 945.0, 515)\" x=\"945.0\" y=\"515\">show</text><text font-size=\"12\" transform=\"rotate(60, 255.0, 515)\" x=\"255.0\" y=\"515\">south</text><text font-size=\"12\" transform=\"rotate(60, 445.0, 515)\" x=\"445.0\" y=\"515\">batch</text><text font-size=\"12\" transform=\"rotate(60, 75.0, 515)\" x=\"75.0\" y=\"515\">india</text><text font-size=\"12\" transform=\"rotate(60, 365.0, 515)\" x=\"365.0\" y=\"515\">minister</text><text font-size=\"12\" transform=\"rotate(60, 635.0, 515)\" x=\"635.0\" y=\"515\">side</text><text font-size=\"12\" transform=\"rotate(60, 865.0, 515)\" x=\"865.0\" y=\"515\">need</text><text font-size=\"12\" transform=\"rotate(60, 225.0, 515)\" x=\"225.0\" y=\"515\">study</text><text font-size=\"12\" transform=\"rotate(60, 775.0, 515)\" x=\"775.0\" y=\"515\">recommend</text><text font-size=\"12\" transform=\"rotate(60, 975.0, 515)\" x=\"975.0\" y=\"515\">trial</text><text font-size=\"12\" transform=\"rotate(60, 535.0, 515)\" x=\"535.0\" y=\"515\">president</text><text font-size=\"12\" transform=\"rotate(60, 715.0, 515)\" x=\"715.0\" y=\"515\">blood</text><text font-size=\"12\" transform=\"rotate(60, 705.0, 515)\" x=\"705.0\" y=\"515\">clot</text><text font-size=\"12\" transform=\"rotate(60, 815.0, 515)\" x=\"815.0\" y=\"515\">emergency</text><text font-size=\"12\" transform=\"rotate(60, 585.0, 515)\" x=\"585.0\" y=\"515\">university</text><text font-size=\"12\" transform=\"rotate(60, 655.0, 515)\" x=\"655.0\" y=\"515\">rare</text><text font-size=\"12\" transform=\"rotate(60, 645.0, 515)\" x=\"645.0\" y=\"515\">effect</text><text font-size=\"12\" transform=\"rotate(60, 665.0, 515)\" x=\"665.0\" y=\"515\">link</text><text font-size=\"12\" transform=\"rotate(60, 685.0, 515)\" x=\"685.0\" y=\"515\">medicine</text><text font-size=\"12\" transform=\"rotate(60, 675.0, 515)\" x=\"675.0\" y=\"515\">agency</text><text font-size=\"12\" transform=\"rotate(60, 625.0, 515)\" x=\"625.0\" y=\"515\">possible</text><text font-size=\"12\" transform=\"rotate(60, 725.0, 515)\" x=\"725.0\" y=\"515\">regulator</text><text font-size=\"12\" transform=\"rotate(60, 315.0, 515)\" x=\"315.0\" y=\"515\">due</text><text font-size=\"12\" transform=\"rotate(60, 875.0, 515)\" x=\"875.0\" y=\"515\">may</text><text font-size=\"12\" transform=\"rotate(60, 795.0, 515)\" x=\"795.0\" y=\"515\">johnson</text><text font-size=\"12\" transform=\"rotate(60, 985.0, 515)\" x=\"985.0\" y=\"515\">effective</text><text font-size=\"12\" transform=\"rotate(60, 955.0, 515)\" x=\"955.0\" y=\"515\">efficacy</text><text font-size=\"12\" transform=\"rotate(60, 35.0, 515)\" x=\"35.0\" y=\"515\">six</text><text font-size=\"12\" transform=\"rotate(60, 895.0, 515)\" x=\"895.0\" y=\"515\">house</text><text font-size=\"12\" transform=\"rotate(60, 885.0, 515)\" x=\"885.0\" y=\"515\">white</text><text font-size=\"12\" transform=\"rotate(60, 925.0, 515)\" x=\"925.0\" y=\"515\">war</text><text font-size=\"12\" transform=\"rotate(60, 785.0, 515)\" x=\"785.0\" y=\"515\">pause</text><text font-size=\"12\" transform=\"rotate(60, 915.0, 515)\" x=\"915.0\" y=\"515\">fauci</text><path d=\"M 890.0 510 890.0 507.49664171225453\" stroke=\"red\" stroke-width=\"2\"/><path d=\"M 900.0 510 900.0 507.49664171225453\" stroke=\"red\" stroke-width=\"2\"/><path d=\"M 890.0 507.49664171225453 900.0 507.49664171225453\" stroke=\"red\" stroke-width=\"2\"/><path d=\"M 250.0 510 250.0 506.3006898158096\" stroke=\"blue\" stroke-width=\"2\"/><path d=\"M 260.0 510 260.0 506.3006898158096\" stroke=\"blue\" stroke-width=\"2\"/><path d=\"M 250.0 506.3006898158096 260.0 506.3006898158096\" stroke=\"blue\" stroke-width=\"2\"/><path d=\"M 640.0 510 640.0 505.893374480424\" stroke=\"red\" stroke-width=\"2\"/><path d=\"M 650.0 510 650.0 505.893374480424\" stroke=\"red\" stroke-width=\"2\"/><path d=\"M 640.0 505.893374480424 650.0 505.893374480424\" stroke=\"red\" stroke-width=\"2\"/><path d=\"M 920.0 510 920.0 505.7969171403207\" stroke=\"red\" stroke-width=\"2\"/><path d=\"M 930.0 510 930.0 505.7969171403207\" stroke=\"red\" stroke-width=\"2\"/><path d=\"M 920.0 505.7969171403207 930.0 505.7969171403207\" stroke=\"red\" stroke-width=\"2\"/><path d=\"M 580.0 510 580.0 504.2347138727319\" stroke=\"blue\" stroke-width=\"2\"/><path d=\"M 590.0 510 590.0 504.2347138727319\" stroke=\"blue\" stroke-width=\"2\"/><path d=\"M 580.0 504.2347138727319 590.0 504.2347138727319\" stroke=\"blue\" stroke-width=\"2\"/><path d=\"M 960.0 510 960.0 503.71312142237946\" stroke=\"red\" stroke-width=\"2\"/><path d=\"M 970.0 510 970.0 503.71312142237946\" stroke=\"red\" stroke-width=\"2\"/><path d=\"M 960.0 503.71312142237946 970.0 503.71312142237946\" stroke=\"red\" stroke-width=\"2\"/><path d=\"M 895.0 507.49664171225453 895.0 503.6453738993279\" stroke=\"red\" stroke-width=\"2\"/><path d=\"M 910.0 510 910.0 503.6453738993279\" stroke=\"red\" stroke-width=\"2\"/><path d=\"M 895.0 503.6453738993279 910.0 503.6453738993279\" stroke=\"red\" stroke-width=\"2\"/><path d=\"M 380.0 510 380.0 500.95896772550464\" stroke=\"blue\" stroke-width=\"2\"/><path d=\"M 390.0 510 390.0 500.95896772550464\" stroke=\"blue\" stroke-width=\"2\"/><path d=\"M 380.0 500.95896772550464 390.0 500.95896772550464\" stroke=\"blue\" stroke-width=\"2\"/><path d=\"M 830.0 510 830.0 500.8810505394723\" stroke=\"red\" stroke-width=\"2\"/><path d=\"M 840.0 510 840.0 500.8810505394723\" stroke=\"red\" stroke-width=\"2\"/><path d=\"M 830.0 500.8810505394723 840.0 500.8810505394723\" stroke=\"red\" stroke-width=\"2\"/><path d=\"M 680.0 510 680.0 500.37325838239855\" stroke=\"red\" stroke-width=\"2\"/><path d=\"M 690.0 510 690.0 500.37325838239855\" stroke=\"red\" stroke-width=\"2\"/><path d=\"M 680.0 500.37325838239855 690.0 500.37325838239855\" stroke=\"red\" stroke-width=\"2\"/><path d=\"M 870.0 510 870.0 499.6610532569112\" stroke=\"red\" stroke-width=\"2\"/><path d=\"M 880.0 510 880.0 499.6610532569112\" stroke=\"red\" stroke-width=\"2\"/><path d=\"M 870.0 499.6610532569112 880.0 499.6610532569112\" stroke=\"red\" stroke-width=\"2\"/><path d=\"M 980.0 510 980.0 498.1550061438104\" stroke=\"red\" stroke-width=\"2\"/><path d=\"M 990.0 510 990.0 498.1550061438104\" stroke=\"red\" stroke-width=\"2\"/><path d=\"M 980.0 498.1550061438104 990.0 498.1550061438104\" stroke=\"red\" stroke-width=\"2\"/><path d=\"M 810.0 510 810.0 498.1229822433435\" stroke=\"red\" stroke-width=\"2\"/><path d=\"M 820.0 510 820.0 498.1229822433435\" stroke=\"red\" stroke-width=\"2\"/><path d=\"M 810.0 498.1229822433435 820.0 498.1229822433435\" stroke=\"red\" stroke-width=\"2\"/><path d=\"M 190.0 510 190.0 496.3776804058257\" stroke=\"blue\" stroke-width=\"2\"/><path d=\"M 200.0 510 200.0 496.3776804058257\" stroke=\"blue\" stroke-width=\"2\"/><path d=\"M 190.0 496.3776804058257 200.0 496.3776804058257\" stroke=\"blue\" stroke-width=\"2\"/><path d=\"M 902.5 503.6453738993279 902.5 496.30581893256726\" stroke=\"red\" stroke-width=\"2\"/><path d=\"M 925.0 505.7969171403207 925.0 496.30581893256726\" stroke=\"red\" stroke-width=\"2\"/><path d=\"M 902.5 496.30581893256726 925.0 496.30581893256726\" stroke=\"red\" stroke-width=\"2\"/><path d=\"M 630.0 510 630.0 496.08920659626426\" stroke=\"red\" stroke-width=\"2\"/><path d=\"M 645.0 505.893374480424 645.0 496.08920659626426\" stroke=\"red\" stroke-width=\"2\"/><path d=\"M 630.0 496.08920659626426 645.0 496.08920659626426\" stroke=\"red\" stroke-width=\"2\"/><path d=\"M 230.0 510 230.0 495.86102314216004\" stroke=\"blue\" stroke-width=\"2\"/><path d=\"M 240.0 510 240.0 495.86102314216004\" stroke=\"blue\" stroke-width=\"2\"/><path d=\"M 230.0 495.86102314216004 240.0 495.86102314216004\" stroke=\"blue\" stroke-width=\"2\"/><path d=\"M 940.0 510 940.0 495.31003484521045\" stroke=\"red\" stroke-width=\"2\"/><path d=\"M 950.0 510 950.0 495.31003484521045\" stroke=\"red\" stroke-width=\"2\"/><path d=\"M 940.0 495.31003484521045 950.0 495.31003484521045\" stroke=\"red\" stroke-width=\"2\"/><path d=\"M 280.0 510 280.0 494.13408880486304\" stroke=\"blue\" stroke-width=\"2\"/><path d=\"M 290.0 510 290.0 494.13408880486304\" stroke=\"blue\" stroke-width=\"2\"/><path d=\"M 280.0 494.13408880486304 290.0 494.13408880486304\" stroke=\"blue\" stroke-width=\"2\"/><path d=\"M 30.0 510 30.0 494.06853053411885\" stroke=\"blue\" stroke-width=\"2\"/><path d=\"M 40.0 510 40.0 494.06853053411885\" stroke=\"blue\" stroke-width=\"2\"/><path d=\"M 30.0 494.06853053411885 40.0 494.06853053411885\" stroke=\"blue\" stroke-width=\"2\"/><path d=\"M 470.0 510 470.0 493.9480907105765\" stroke=\"blue\" stroke-width=\"2\"/><path d=\"M 480.0 510 480.0 493.9480907105765\" stroke=\"blue\" stroke-width=\"2\"/><path d=\"M 470.0 493.9480907105765 480.0 493.9480907105765\" stroke=\"blue\" stroke-width=\"2\"/><path d=\"M 310.0 510 310.0 492.66737453996586\" stroke=\"blue\" stroke-width=\"2\"/><path d=\"M 320.0 510 320.0 492.66737453996586\" stroke=\"blue\" stroke-width=\"2\"/><path d=\"M 310.0 492.66737453996586 320.0 492.66737453996586\" stroke=\"blue\" stroke-width=\"2\"/><path d=\"M 90.0 510 90.0 491.37882495326727\" stroke=\"blue\" stroke-width=\"2\"/><path d=\"M 100.0 510 100.0 491.37882495326727\" stroke=\"blue\" stroke-width=\"2\"/><path d=\"M 90.0 491.37882495326727 100.0 491.37882495326727\" stroke=\"blue\" stroke-width=\"2\"/><path d=\"M 780.0 510 780.0 490.60960279600863\" stroke=\"red\" stroke-width=\"2\"/><path d=\"M 790.0 510 790.0 490.60960279600863\" stroke=\"red\" stroke-width=\"2\"/><path d=\"M 780.0 490.60960279600863 790.0 490.60960279600863\" stroke=\"red\" stroke-width=\"2\"/><path d=\"M 450.0 510 450.0 489.13892345959124\" stroke=\"blue\" stroke-width=\"2\"/><path d=\"M 460.0 510 460.0 489.13892345959124\" stroke=\"blue\" stroke-width=\"2\"/><path d=\"M 450.0 489.13892345959124 460.0 489.13892345959124\" stroke=\"blue\" stroke-width=\"2\"/><path d=\"M 400.0 510 400.0 488.6805847097132\" stroke=\"blue\" stroke-width=\"2\"/><path d=\"M 410.0 510 410.0 488.6805847097132\" stroke=\"blue\" stroke-width=\"2\"/><path d=\"M 400.0 488.6805847097132 410.0 488.6805847097132\" stroke=\"blue\" stroke-width=\"2\"/><path d=\"M 945.0 495.31003484521045 945.0 488.1500049345011\" stroke=\"red\" stroke-width=\"2\"/><path d=\"M 965.0 503.71312142237946 965.0 488.1500049345011\" stroke=\"red\" stroke-width=\"2\"/><path d=\"M 945.0 488.1500049345011 965.0 488.1500049345011\" stroke=\"red\" stroke-width=\"2\"/><path d=\"M 585.0 504.2347138727319 585.0 486.58392070164865\" stroke=\"blue\" stroke-width=\"2\"/><path d=\"M 600.0 510 600.0 486.58392070164865\" stroke=\"blue\" stroke-width=\"2\"/><path d=\"M 585.0 486.58392070164865 600.0 486.58392070164865\" stroke=\"blue\" stroke-width=\"2\"/><path d=\"M 955.0 488.1500049345011 955.0 486.2958948669565\" stroke=\"red\" stroke-width=\"2\"/><path d=\"M 985.0 498.1550061438104 985.0 486.2958948669565\" stroke=\"red\" stroke-width=\"2\"/><path d=\"M 955.0 486.2958948669565 985.0 486.2958948669565\" stroke=\"red\" stroke-width=\"2\"/><path d=\"M 255.0 506.3006898158096 255.0 485.91391635534876\" stroke=\"blue\" stroke-width=\"2\"/><path d=\"M 270.0 510 270.0 485.91391635534876\" stroke=\"blue\" stroke-width=\"2\"/><path d=\"M 255.0 485.91391635534876 270.0 485.91391635534876\" stroke=\"blue\" stroke-width=\"2\"/><path d=\"M 760.0 510 760.0 484.8710319456701\" stroke=\"red\" stroke-width=\"2\"/><path d=\"M 770.0 510 770.0 484.8710319456701\" stroke=\"red\" stroke-width=\"2\"/><path d=\"M 760.0 484.8710319456701 770.0 484.8710319456701\" stroke=\"red\" stroke-width=\"2\"/><path d=\"M 670.0 510 670.0 484.69114750582565\" stroke=\"red\" stroke-width=\"2\"/><path d=\"M 685.0 500.37325838239855 685.0 484.69114750582565\" stroke=\"red\" stroke-width=\"2\"/><path d=\"M 670.0 484.69114750582565 685.0 484.69114750582565\" stroke=\"red\" stroke-width=\"2\"/><path d=\"M 740.0 510 740.0 483.7972876390656\" stroke=\"red\" stroke-width=\"2\"/><path d=\"M 750.0 510 750.0 483.7972876390656\" stroke=\"red\" stroke-width=\"2\"/><path d=\"M 740.0 483.7972876390656 750.0 483.7972876390656\" stroke=\"red\" stroke-width=\"2\"/><path d=\"M 475.0 493.9480907105765 475.0 482.51175121994214\" stroke=\"blue\" stroke-width=\"2\"/><path d=\"M 490.0 510 490.0 482.51175121994214\" stroke=\"blue\" stroke-width=\"2\"/><path d=\"M 475.0 482.51175121994214 490.0 482.51175121994214\" stroke=\"blue\" stroke-width=\"2\"/><path d=\"M 10.0 510 10.0 482.19222998636945\" stroke=\"blue\" stroke-width=\"2\"/><path d=\"M 20.0 510 20.0 482.19222998636945\" stroke=\"blue\" stroke-width=\"2\"/><path d=\"M 10.0 482.19222998636945 20.0 482.19222998636945\" stroke=\"blue\" stroke-width=\"2\"/><path d=\"M 340.0 510 340.0 479.46459713295314\" stroke=\"blue\" stroke-width=\"2\"/><path d=\"M 350.0 510 350.0 479.46459713295314\" stroke=\"blue\" stroke-width=\"2\"/><path d=\"M 340.0 479.46459713295314 350.0 479.46459713295314\" stroke=\"blue\" stroke-width=\"2\"/><path d=\"M 500.0 510 500.0 478.36180410234556\" stroke=\"blue\" stroke-width=\"2\"/><path d=\"M 510.0 510 510.0 478.36180410234556\" stroke=\"blue\" stroke-width=\"2\"/><path d=\"M 500.0 478.36180410234556 510.0 478.36180410234556\" stroke=\"blue\" stroke-width=\"2\"/><path d=\"M 60.0 510 60.0 477.44229823712413\" stroke=\"blue\" stroke-width=\"2\"/><path d=\"M 70.0 510 70.0 477.44229823712413\" stroke=\"blue\" stroke-width=\"2\"/><path d=\"M 60.0 477.44229823712413 70.0 477.44229823712413\" stroke=\"blue\" stroke-width=\"2\"/><path d=\"M 315.0 492.66737453996586 315.0 476.2766349837297\" stroke=\"blue\" stroke-width=\"2\"/><path d=\"M 330.0 510 330.0 476.2766349837297\" stroke=\"blue\" stroke-width=\"2\"/><path d=\"M 315.0 476.2766349837297 330.0 476.2766349837297\" stroke=\"blue\" stroke-width=\"2\"/><path d=\"M 210.0 510 210.0 475.689506230605\" stroke=\"blue\" stroke-width=\"2\"/><path d=\"M 220.0 510 220.0 475.689506230605\" stroke=\"blue\" stroke-width=\"2\"/><path d=\"M 210.0 475.689506230605 220.0 475.689506230605\" stroke=\"blue\" stroke-width=\"2\"/><path d=\"M 637.5 496.08920659626426 637.5 475.35984779679495\" stroke=\"red\" stroke-width=\"2\"/><path d=\"M 660.0 510 660.0 475.35984779679495\" stroke=\"red\" stroke-width=\"2\"/><path d=\"M 637.5 475.35984779679495 660.0 475.35984779679495\" stroke=\"red\" stroke-width=\"2\"/><path d=\"M 405.0 488.6805847097132 405.0 474.88040277904275\" stroke=\"blue\" stroke-width=\"2\"/><path d=\"M 420.0 510 420.0 474.88040277904275\" stroke=\"blue\" stroke-width=\"2\"/><path d=\"M 405.0 474.88040277904275 420.0 474.88040277904275\" stroke=\"blue\" stroke-width=\"2\"/><path d=\"M 140.0 510 140.0 474.4848353038294\" stroke=\"blue\" stroke-width=\"2\"/><path d=\"M 150.0 510 150.0 474.4848353038294\" stroke=\"blue\" stroke-width=\"2\"/><path d=\"M 140.0 474.4848353038294 150.0 474.4848353038294\" stroke=\"blue\" stroke-width=\"2\"/><path d=\"M 570.0 510 570.0 474.0343998536539\" stroke=\"blue\" stroke-width=\"2\"/><path d=\"M 592.5 486.58392070164865 592.5 474.0343998536539\" stroke=\"blue\" stroke-width=\"2\"/><path d=\"M 570.0 474.0343998536539 592.5 474.0343998536539\" stroke=\"blue\" stroke-width=\"2\"/><path d=\"M 80.0 510 80.0 473.058374594646\" stroke=\"blue\" stroke-width=\"2\"/><path d=\"M 95.0 491.37882495326727 95.0 473.058374594646\" stroke=\"blue\" stroke-width=\"2\"/><path d=\"M 80.0 473.058374594646 95.0 473.058374594646\" stroke=\"blue\" stroke-width=\"2\"/><path d=\"M 677.5 484.69114750582565 677.5 472.3671988997942\" stroke=\"red\" stroke-width=\"2\"/><path d=\"M 700.0 510 700.0 472.3671988997942\" stroke=\"red\" stroke-width=\"2\"/><path d=\"M 677.5 472.3671988997942 700.0 472.3671988997942\" stroke=\"red\" stroke-width=\"2\"/><path d=\"M 505.0 478.36180410234556 505.0 472.18770948492636\" stroke=\"blue\" stroke-width=\"2\"/><path d=\"M 520.0 510 520.0 472.18770948492636\" stroke=\"blue\" stroke-width=\"2\"/><path d=\"M 505.0 472.18770948492636 520.0 472.18770948492636\" stroke=\"blue\" stroke-width=\"2\"/><path d=\"M 785.0 490.60960279600863 785.0 472.18037830959275\" stroke=\"red\" stroke-width=\"2\"/><path d=\"M 800.0 510 800.0 472.18037830959275\" stroke=\"red\" stroke-width=\"2\"/><path d=\"M 785.0 472.18037830959275 800.0 472.18037830959275\" stroke=\"red\" stroke-width=\"2\"/><path d=\"M 540.0 510 540.0 471.74031151425527\" stroke=\"blue\" stroke-width=\"2\"/><path d=\"M 550.0 510 550.0 471.74031151425527\" stroke=\"blue\" stroke-width=\"2\"/><path d=\"M 540.0 471.74031151425527 550.0 471.74031151425527\" stroke=\"blue\" stroke-width=\"2\"/><path d=\"M 815.0 498.1229822433435 815.0 470.8589038369608\" stroke=\"red\" stroke-width=\"2\"/><path d=\"M 835.0 500.8810505394723 835.0 470.8589038369608\" stroke=\"red\" stroke-width=\"2\"/><path d=\"M 815.0 470.8589038369608 835.0 470.8589038369608\" stroke=\"red\" stroke-width=\"2\"/><path d=\"M 710.0 510 710.0 470.11778463519096\" stroke=\"red\" stroke-width=\"2\"/><path d=\"M 720.0 510 720.0 470.11778463519096\" stroke=\"red\" stroke-width=\"2\"/><path d=\"M 710.0 470.11778463519096 720.0 470.11778463519096\" stroke=\"red\" stroke-width=\"2\"/><path d=\"M 87.5 473.058374594646 87.5 468.3974571777421\" stroke=\"blue\" stroke-width=\"2\"/><path d=\"M 110.0 510 110.0 468.3974571777421\" stroke=\"blue\" stroke-width=\"2\"/><path d=\"M 87.5 468.3974571777421 110.0 468.3974571777421\" stroke=\"blue\" stroke-width=\"2\"/><path d=\"M 235.0 495.86102314216004 235.0 466.1386091304902\" stroke=\"blue\" stroke-width=\"2\"/><path d=\"M 262.5 485.91391635534876 262.5 466.1386091304902\" stroke=\"blue\" stroke-width=\"2\"/><path d=\"M 235.0 466.1386091304902 262.5 466.1386091304902\" stroke=\"blue\" stroke-width=\"2\"/><path d=\"M 50.0 510 50.0 464.96637256373907\" stroke=\"blue\" stroke-width=\"2\"/><path d=\"M 65.0 477.44229823712413 65.0 464.96637256373907\" stroke=\"blue\" stroke-width=\"2\"/><path d=\"M 50.0 464.96637256373907 65.0 464.96637256373907\" stroke=\"blue\" stroke-width=\"2\"/><path d=\"M 430.0 510 430.0 463.7901944056177\" stroke=\"blue\" stroke-width=\"2\"/><path d=\"M 440.0 510 440.0 463.7901944056177\" stroke=\"blue\" stroke-width=\"2\"/><path d=\"M 430.0 463.7901944056177 440.0 463.7901944056177\" stroke=\"blue\" stroke-width=\"2\"/><path d=\"M 610.0 510 610.0 462.79248241151504\" stroke=\"blue\" stroke-width=\"2\"/><path d=\"M 620.0 510 620.0 462.79248241151504\" stroke=\"blue\" stroke-width=\"2\"/><path d=\"M 610.0 462.79248241151504 620.0 462.79248241151504\" stroke=\"blue\" stroke-width=\"2\"/><path d=\"M 688.75 472.3671988997942 688.75 461.3256182835179\" stroke=\"red\" stroke-width=\"2\"/><path d=\"M 715.0 470.11778463519096 715.0 461.3256182835179\" stroke=\"red\" stroke-width=\"2\"/><path d=\"M 688.75 461.3256182835179 715.0 461.3256182835179\" stroke=\"red\" stroke-width=\"2\"/><path d=\"M 860.0 510 860.0 461.01821552360394\" stroke=\"red\" stroke-width=\"2\"/><path d=\"M 875.0 499.6610532569112 875.0 461.01821552360394\" stroke=\"red\" stroke-width=\"2\"/><path d=\"M 860.0 461.01821552360394 875.0 461.01821552360394\" stroke=\"red\" stroke-width=\"2\"/><path d=\"M 360.0 510 360.0 457.6867003838561\" stroke=\"blue\" stroke-width=\"2\"/><path d=\"M 370.0 510 370.0 457.6867003838561\" stroke=\"blue\" stroke-width=\"2\"/><path d=\"M 360.0 457.6867003838561 370.0 457.6867003838561\" stroke=\"blue\" stroke-width=\"2\"/><path d=\"M 648.75 475.35984779679495 648.75 452.5765494406627\" stroke=\"red\" stroke-width=\"2\"/><path d=\"M 701.875 461.3256182835179 701.875 452.5765494406627\" stroke=\"red\" stroke-width=\"2\"/><path d=\"M 648.75 452.5765494406627 701.875 452.5765494406627\" stroke=\"red\" stroke-width=\"2\"/><path d=\"M 482.5 482.51175121994214 482.5 451.7890915717144\" stroke=\"blue\" stroke-width=\"2\"/><path d=\"M 512.5 472.18770948492636 512.5 451.7890915717144\" stroke=\"blue\" stroke-width=\"2\"/><path d=\"M 482.5 451.7890915717144 512.5 451.7890915717144\" stroke=\"blue\" stroke-width=\"2\"/><path d=\"M 322.5 476.2766349837297 322.5 450.25298126977026\" stroke=\"blue\" stroke-width=\"2\"/><path d=\"M 345.0 479.46459713295314 345.0 450.25298126977026\" stroke=\"blue\" stroke-width=\"2\"/><path d=\"M 322.5 450.25298126977026 345.0 450.25298126977026\" stroke=\"blue\" stroke-width=\"2\"/><path d=\"M 435.0 463.7901944056177 435.0 449.4915113562063\" stroke=\"blue\" stroke-width=\"2\"/><path d=\"M 455.0 489.13892345959124 455.0 449.4915113562063\" stroke=\"blue\" stroke-width=\"2\"/><path d=\"M 435.0 449.4915113562063 455.0 449.4915113562063\" stroke=\"blue\" stroke-width=\"2\"/><path d=\"M 675.3125 452.5765494406627 675.3125 449.3692621760205\" stroke=\"red\" stroke-width=\"2\"/><path d=\"M 730.0 510 730.0 449.3692621760205\" stroke=\"red\" stroke-width=\"2\"/><path d=\"M 675.3125 449.3692621760205 730.0 449.3692621760205\" stroke=\"red\" stroke-width=\"2\"/><path d=\"M 195.0 496.3776804058257 195.0 448.64240153509365\" stroke=\"blue\" stroke-width=\"2\"/><path d=\"M 215.0 475.689506230605 215.0 448.64240153509365\" stroke=\"blue\" stroke-width=\"2\"/><path d=\"M 195.0 448.64240153509365 215.0 448.64240153509365\" stroke=\"blue\" stroke-width=\"2\"/><path d=\"M 365.0 457.6867003838561 365.0 448.42825155728093\" stroke=\"blue\" stroke-width=\"2\"/><path d=\"M 385.0 500.95896772550464 385.0 448.42825155728093\" stroke=\"blue\" stroke-width=\"2\"/><path d=\"M 365.0 448.42825155728093 385.0 448.42825155728093\" stroke=\"blue\" stroke-width=\"2\"/><path d=\"M 130.0 510 130.0 448.41675349505095\" stroke=\"blue\" stroke-width=\"2\"/><path d=\"M 145.0 474.4848353038294 145.0 448.41675349505095\" stroke=\"blue\" stroke-width=\"2\"/><path d=\"M 130.0 448.41675349505095 145.0 448.41675349505095\" stroke=\"blue\" stroke-width=\"2\"/><path d=\"M 57.5 464.96637256373907 57.5 438.66951562746846\" stroke=\"blue\" stroke-width=\"2\"/><path d=\"M 98.75 468.3974571777421 98.75 438.66951562746846\" stroke=\"blue\" stroke-width=\"2\"/><path d=\"M 57.5 438.66951562746846 98.75 438.66951562746846\" stroke=\"blue\" stroke-width=\"2\"/><path d=\"M 545.0 471.74031151425527 545.0 437.7852933999277\" stroke=\"blue\" stroke-width=\"2\"/><path d=\"M 560.0 510 560.0 437.7852933999277\" stroke=\"blue\" stroke-width=\"2\"/><path d=\"M 545.0 437.7852933999277 560.0 437.7852933999277\" stroke=\"blue\" stroke-width=\"2\"/><path d=\"M 285.0 494.13408880486304 285.0 427.5005454283224\" stroke=\"blue\" stroke-width=\"2\"/><path d=\"M 300.0 510 300.0 427.5005454283224\" stroke=\"blue\" stroke-width=\"2\"/><path d=\"M 285.0 427.5005454283224 300.0 427.5005454283224\" stroke=\"blue\" stroke-width=\"2\"/><path d=\"M 745.0 483.7972876390656 745.0 423.7360895764687\" stroke=\"red\" stroke-width=\"2\"/><path d=\"M 765.0 484.8710319456701 765.0 423.7360895764687\" stroke=\"red\" stroke-width=\"2\"/><path d=\"M 745.0 423.7360895764687 765.0 423.7360895764687\" stroke=\"red\" stroke-width=\"2\"/><path d=\"M 78.125 438.66951562746846 78.125 419.2472189151099\" stroke=\"blue\" stroke-width=\"2\"/><path d=\"M 120.0 510 120.0 419.2472189151099\" stroke=\"blue\" stroke-width=\"2\"/><path d=\"M 78.125 419.2472189151099 120.0 419.2472189151099\" stroke=\"blue\" stroke-width=\"2\"/><path d=\"M 867.5 461.01821552360394 867.5 416.04571286142357\" stroke=\"red\" stroke-width=\"2\"/><path d=\"M 913.75 496.30581893256726 913.75 416.04571286142357\" stroke=\"red\" stroke-width=\"2\"/><path d=\"M 867.5 416.04571286142357 913.75 416.04571286142357\" stroke=\"red\" stroke-width=\"2\"/><path d=\"M 552.5 437.7852933999277 552.5 414.77231796608964\" stroke=\"blue\" stroke-width=\"2\"/><path d=\"M 581.25 474.0343998536539 581.25 414.77231796608964\" stroke=\"blue\" stroke-width=\"2\"/><path d=\"M 552.5 414.77231796608964 581.25 414.77231796608964\" stroke=\"blue\" stroke-width=\"2\"/><path d=\"M 497.5 451.7890915717144 497.5 409.53160156182605\" stroke=\"blue\" stroke-width=\"2\"/><path d=\"M 530.0 510 530.0 409.53160156182605\" stroke=\"blue\" stroke-width=\"2\"/><path d=\"M 497.5 409.53160156182605 530.0 409.53160156182605\" stroke=\"blue\" stroke-width=\"2\"/><path d=\"M 99.0625 419.2472189151099 99.0625 406.81141122410355\" stroke=\"blue\" stroke-width=\"2\"/><path d=\"M 137.5 448.41675349505095 137.5 406.81141122410355\" stroke=\"blue\" stroke-width=\"2\"/><path d=\"M 99.0625 406.81141122410355 137.5 406.81141122410355\" stroke=\"blue\" stroke-width=\"2\"/><path d=\"M 825.0 470.8589038369608 825.0 406.22924078692233\" stroke=\"red\" stroke-width=\"2\"/><path d=\"M 850.0 510 850.0 406.22924078692233\" stroke=\"red\" stroke-width=\"2\"/><path d=\"M 825.0 406.22924078692233 850.0 406.22924078692233\" stroke=\"red\" stroke-width=\"2\"/><path d=\"M 755.0 423.7360895764687 755.0 402.29902568515365\" stroke=\"red\" stroke-width=\"2\"/><path d=\"M 792.5 472.18037830959275 792.5 402.29902568515365\" stroke=\"red\" stroke-width=\"2\"/><path d=\"M 755.0 402.29902568515365 792.5 402.29902568515365\" stroke=\"red\" stroke-width=\"2\"/><path d=\"M 170.0 510 170.0 397.5269349215739\" stroke=\"blue\" stroke-width=\"2\"/><path d=\"M 180.0 510 180.0 397.5269349215739\" stroke=\"blue\" stroke-width=\"2\"/><path d=\"M 170.0 397.5269349215739 180.0 397.5269349215739\" stroke=\"blue\" stroke-width=\"2\"/><path d=\"M 970.0 486.2958948669565 970.0 395.55655559386986\" stroke=\"red\" stroke-width=\"2\"/><path d=\"M 1000.0 510 1000.0 395.55655559386986\" stroke=\"red\" stroke-width=\"2\"/><path d=\"M 970.0 395.55655559386986 1000.0 395.55655559386986\" stroke=\"red\" stroke-width=\"2\"/><path d=\"M 412.5 474.88040277904275 412.5 393.44217637459406\" stroke=\"blue\" stroke-width=\"2\"/><path d=\"M 445.0 449.4915113562063 445.0 393.44217637459406\" stroke=\"blue\" stroke-width=\"2\"/><path d=\"M 412.5 393.44217637459406 445.0 393.44217637459406\" stroke=\"blue\" stroke-width=\"2\"/><path d=\"M 566.875 414.77231796608964 566.875 388.8905023316155\" stroke=\"blue\" stroke-width=\"2\"/><path d=\"M 615.0 462.79248241151504 615.0 388.8905023316155\" stroke=\"blue\" stroke-width=\"2\"/><path d=\"M 566.875 388.8905023316155 615.0 388.8905023316155\" stroke=\"blue\" stroke-width=\"2\"/><path d=\"M 15.0 482.19222998636945 15.0 388.85363158981113\" stroke=\"blue\" stroke-width=\"2\"/><path d=\"M 35.0 494.06853053411885 35.0 388.85363158981113\" stroke=\"blue\" stroke-width=\"2\"/><path d=\"M 15.0 388.85363158981113 35.0 388.85363158981113\" stroke=\"blue\" stroke-width=\"2\"/><path d=\"M 118.28125 406.81141122410355 118.28125 384.4534636849065\" stroke=\"blue\" stroke-width=\"2\"/><path d=\"M 160.0 510 160.0 384.4534636849065\" stroke=\"blue\" stroke-width=\"2\"/><path d=\"M 118.28125 384.4534636849065 160.0 384.4534636849065\" stroke=\"blue\" stroke-width=\"2\"/><path d=\"M 205.0 448.64240153509365 205.0 369.79365784789115\" stroke=\"blue\" stroke-width=\"2\"/><path d=\"M 248.75 466.1386091304902 248.75 369.79365784789115\" stroke=\"blue\" stroke-width=\"2\"/><path d=\"M 205.0 369.79365784789115 248.75 369.79365784789115\" stroke=\"blue\" stroke-width=\"2\"/><path d=\"M 513.75 409.53160156182605 513.75 360.48274134108124\" stroke=\"blue\" stroke-width=\"2\"/><path d=\"M 590.9375 388.8905023316155 590.9375 360.48274134108124\" stroke=\"blue\" stroke-width=\"2\"/><path d=\"M 513.75 360.48274134108124 590.9375 360.48274134108124\" stroke=\"blue\" stroke-width=\"2\"/><path d=\"M 226.875 369.79365784789115 226.875 343.9381433246142\" stroke=\"blue\" stroke-width=\"2\"/><path d=\"M 292.5 427.5005454283224 292.5 343.9381433246142\" stroke=\"blue\" stroke-width=\"2\"/><path d=\"M 226.875 343.9381433246142 292.5 343.9381433246142\" stroke=\"blue\" stroke-width=\"2\"/><path d=\"M 333.75 450.25298126977026 333.75 336.8077094854465\" stroke=\"blue\" stroke-width=\"2\"/><path d=\"M 375.0 448.42825155728093 375.0 336.8077094854465\" stroke=\"blue\" stroke-width=\"2\"/><path d=\"M 333.75 336.8077094854465 375.0 336.8077094854465\" stroke=\"blue\" stroke-width=\"2\"/><path d=\"M 890.625 416.04571286142357 890.625 333.178105097328\" stroke=\"red\" stroke-width=\"2\"/><path d=\"M 985.0 395.55655559386986 985.0 333.178105097328\" stroke=\"red\" stroke-width=\"2\"/><path d=\"M 890.625 333.178105097328 985.0 333.178105097328\" stroke=\"red\" stroke-width=\"2\"/><path d=\"M 702.65625 449.3692621760205 702.65625 329.5892750694662\" stroke=\"red\" stroke-width=\"2\"/><path d=\"M 773.75 402.29902568515365 773.75 329.5892750694662\" stroke=\"red\" stroke-width=\"2\"/><path d=\"M 702.65625 329.5892750694662 773.75 329.5892750694662\" stroke=\"red\" stroke-width=\"2\"/><path d=\"M 25.0 388.85363158981113 25.0 318.34272723426943\" stroke=\"blue\" stroke-width=\"2\"/><path d=\"M 139.140625 384.4534636849065 139.140625 318.34272723426943\" stroke=\"blue\" stroke-width=\"2\"/><path d=\"M 25.0 318.34272723426943 139.140625 318.34272723426943\" stroke=\"blue\" stroke-width=\"2\"/><path d=\"M 428.75 393.44217637459406 428.75 316.7744385296705\" stroke=\"blue\" stroke-width=\"2\"/><path d=\"M 552.34375 360.48274134108124 552.34375 316.7744385296705\" stroke=\"blue\" stroke-width=\"2\"/><path d=\"M 428.75 316.7744385296705 552.34375 316.7744385296705\" stroke=\"blue\" stroke-width=\"2\"/><path d=\"M 82.0703125 318.34272723426943 82.0703125 310.44215934135\" stroke=\"blue\" stroke-width=\"2\"/><path d=\"M 175.0 397.5269349215739 175.0 310.44215934135\" stroke=\"blue\" stroke-width=\"2\"/><path d=\"M 82.0703125 310.44215934135 175.0 310.44215934135\" stroke=\"blue\" stroke-width=\"2\"/><path d=\"M 128.53515625 310.44215934135 128.53515625 282.81416271249725\" stroke=\"blue\" stroke-width=\"2\"/><path d=\"M 259.6875 343.9381433246142 259.6875 282.81416271249725\" stroke=\"blue\" stroke-width=\"2\"/><path d=\"M 128.53515625 282.81416271249725 259.6875 282.81416271249725\" stroke=\"blue\" stroke-width=\"2\"/><path d=\"M 738.203125 329.5892750694662 738.203125 260.09755026376774\" stroke=\"red\" stroke-width=\"2\"/><path d=\"M 837.5 406.22924078692233 837.5 260.09755026376774\" stroke=\"red\" stroke-width=\"2\"/><path d=\"M 738.203125 260.09755026376774 837.5 260.09755026376774\" stroke=\"red\" stroke-width=\"2\"/><path d=\"M 787.8515625 260.09755026376774 787.8515625 226.22070144081346\" stroke=\"red\" stroke-width=\"2\"/><path d=\"M 937.8125 333.178105097328 937.8125 226.22070144081346\" stroke=\"red\" stroke-width=\"2\"/><path d=\"M 787.8515625 226.22070144081346 937.8125 226.22070144081346\" stroke=\"red\" stroke-width=\"2\"/><path d=\"M 194.111328125 282.81416271249725 194.111328125 207.33243159388257\" stroke=\"blue\" stroke-width=\"2\"/><path d=\"M 354.375 336.8077094854465 354.375 207.33243159388257\" stroke=\"blue\" stroke-width=\"2\"/><path d=\"M 194.111328125 207.33243159388257 354.375 207.33243159388257\" stroke=\"blue\" stroke-width=\"2\"/><path d=\"M 274.2431640625 207.33243159388257 274.2431640625 93.57154711095137\" stroke=\"blue\" stroke-width=\"2\"/><path d=\"M 490.546875 316.7744385296705 490.546875 93.57154711095137\" stroke=\"blue\" stroke-width=\"2\"/><path d=\"M 274.2431640625 93.57154711095137 490.546875 93.57154711095137\" stroke=\"blue\" stroke-width=\"2\"/><path d=\"M 382.39501953125 93.57154711095137 382.39501953125 10.0\" stroke=\"black\" stroke-width=\"2\"/><path d=\"M 862.83203125 226.22070144081346 862.83203125 10.0\" stroke=\"black\" stroke-width=\"2\"/><path d=\"M 382.39501953125 10.0 862.83203125 10.0\" stroke=\"black\" stroke-width=\"2\"/></svg>"
          },
          "metadata": {},
          "execution_count": 640
        }
      ]
    },
    {
      "cell_type": "markdown",
      "source": [
        "**Metrics**"
      ],
      "metadata": {
        "id": "7B2Kz3dahbxB"
      }
    },
    {
      "cell_type": "code",
      "source": [
        "nodelist = list(G_reduced.nodes)\n",
        "labels = list(cut_straight(dendrogram, n_clusters=2, return_dendrogram=False))\n",
        "\n",
        "community_dend = [[],[]]\n",
        "i = 0\n",
        "for node in nodelist:\n",
        "  community_dend[labels[i]].append(node)\n",
        "  i += 1\n",
        "\n",
        "_ = compute_metrics(G_reduced, community_dend)"
      ],
      "metadata": {
        "colab": {
          "base_uri": "https://localhost:8080/"
        },
        "outputId": "9ccb56e1-4881-47d7-ef8e-b660ad6012fe",
        "id": "pO-R_0TyhbxB"
      },
      "execution_count": 641,
      "outputs": [
        {
          "output_type": "stream",
          "name": "stdout",
          "text": [
            "Coverage:  0.7105022831050228\n",
            "Performance:  0.5690909090909091\n",
            "Modularity:  0.19927116863975616\n"
          ]
        }
      ]
    },
    {
      "cell_type": "code",
      "source": [
        "image = svg_dendrogram(dendrogram, names, n_clusters=4, rotate=False,width=1000,height=500,filename='community_dendogram4'+period)\n",
        "SVG(image)"
      ],
      "metadata": {
        "colab": {
          "base_uri": "https://localhost:8080/",
          "height": 0
        },
        "outputId": "0e0b2b4a-9e5b-4c02-eeb9-0898b198e49e",
        "id": "eDgTcn-dhbxB"
      },
      "execution_count": 642,
      "outputs": [
        {
          "output_type": "execute_result",
          "data": {
            "text/plain": [
              "<IPython.core.display.SVG object>"
            ],
            "image/svg+xml": "<svg height=\"597.0\" width=\"1020\" xmlns=\"http://www.w3.org/2000/svg\"><text font-size=\"12\" transform=\"rotate(60, 215.0, 515)\" x=\"215.0\" y=\"515\">death</text><text font-size=\"12\" transform=\"rotate(60, 485.0, 515)\" x=\"485.0\" y=\"515\">one</text><text font-size=\"12\" transform=\"rotate(60, 295.0, 515)\" x=\"295.0\" y=\"515\">country</text><text font-size=\"12\" transform=\"rotate(60, 355.0, 515)\" x=\"355.0\" y=\"515\">health</text><text font-size=\"12\" transform=\"rotate(60, 375.0, 515)\" x=\"375.0\" y=\"515\">world</text><text font-size=\"12\" transform=\"rotate(60, 145.0, 515)\" x=\"145.0\" y=\"515\">rise</text><text font-size=\"12\" transform=\"rotate(60, 115.0, 515)\" x=\"115.0\" y=\"515\">new</text><text font-size=\"12\" transform=\"rotate(60, 185.0, 515)\" x=\"185.0\" y=\"515\">wave</text><text font-size=\"12\" transform=\"rotate(60, 285.0, 515)\" x=\"285.0\" y=\"515\">virus</text><text font-size=\"12\" transform=\"rotate(60, 205.0, 515)\" x=\"205.0\" y=\"515\">brazil</text><text font-size=\"12\" transform=\"rotate(60, 455.0, 515)\" x=\"455.0\" y=\"515\">second</text><text font-size=\"12\" transform=\"rotate(60, 135.0, 515)\" x=\"135.0\" y=\"515\">number</text><text font-size=\"12\" transform=\"rotate(60, 155.0, 515)\" x=\"155.0\" y=\"515\">report</text><text font-size=\"12\" transform=\"rotate(60, 305.0, 515)\" x=\"305.0\" y=\"515\">global</text><text font-size=\"12\" transform=\"rotate(60, 125.0, 515)\" x=\"125.0\" y=\"515\">case</text><text font-size=\"12\" transform=\"rotate(60, 25.0, 515)\" x=\"25.0\" y=\"515\">month</text><text font-size=\"12\" transform=\"rotate(60, 65.0, 515)\" x=\"65.0\" y=\"515\">record</text><text font-size=\"12\" transform=\"rotate(60, 55.0, 515)\" x=\"55.0\" y=\"515\">daily</text><text font-size=\"12\" transform=\"rotate(60, 235.0, 515)\" x=\"235.0\" y=\"515\">find</text><text font-size=\"12\" transform=\"rotate(60, 45.0, 515)\" x=\"45.0\" y=\"515\">high</text><text font-size=\"12\" transform=\"rotate(60, 95.0, 515)\" x=\"95.0\" y=\"515\">surge</text><text font-size=\"12\" transform=\"rotate(60, 845.0, 515)\" x=\"845.0\" y=\"515\">people</text><text font-size=\"12\" transform=\"rotate(60, 995.0, 515)\" x=\"995.0\" y=\"515\">say</text><text font-size=\"12\" transform=\"rotate(60, 415.0, 515)\" x=\"415.0\" y=\"515\">million</text><text font-size=\"12\" transform=\"rotate(60, 735.0, 515)\" x=\"735.0\" y=\"515\">expert</text><text font-size=\"12\" transform=\"rotate(60, 525.0, 515)\" x=\"525.0\" y=\"515\">first</text><text font-size=\"12\" transform=\"rotate(60, 265.0, 515)\" x=\"265.0\" y=\"515\">variant</text><text font-size=\"12\" transform=\"rotate(60, 325.0, 515)\" x=\"325.0\" y=\"515\">pandemic</text><text font-size=\"12\" transform=\"rotate(60, 335.0, 515)\" x=\"335.0\" y=\"515\">year</text><text font-size=\"12\" transform=\"rotate(60, 195.0, 515)\" x=\"195.0\" y=\"515\">could</text><text font-size=\"12\" transform=\"rotate(60, 275.0, 515)\" x=\"275.0\" y=\"515\">hit</text><text font-size=\"12\" transform=\"rotate(60, 745.0, 515)\" x=\"745.0\" y=\"515\">top</text><text font-size=\"12\" transform=\"rotate(60, 605.0, 515)\" x=\"605.0\" y=\"515\">day</text><text font-size=\"12\" transform=\"rotate(60, 425.0, 515)\" x=\"425.0\" y=\"515\">national</text><text font-size=\"12\" transform=\"rotate(60, 175.0, 515)\" x=\"175.0\" y=\"515\">accord</text><text font-size=\"12\" transform=\"rotate(60, 965.0, 515)\" x=\"965.0\" y=\"515\">disease</text><text font-size=\"12\" transform=\"rotate(60, 695.0, 515)\" x=\"695.0\" y=\"515\">risk</text><text font-size=\"12\" transform=\"rotate(60, 345.0, 515)\" x=\"345.0\" y=\"515\">see</text><text font-size=\"12\" transform=\"rotate(60, 165.0, 515)\" x=\"165.0\" y=\"515\">state</text><text font-size=\"12\" transform=\"rotate(60, 905.0, 515)\" x=\"905.0\" y=\"515\">response</text><text font-size=\"12\" transform=\"rotate(60, 835.0, 515)\" x=\"835.0\" y=\"515\">child</text><text font-size=\"12\" transform=\"rotate(60, 515.0, 515)\" x=\"515.0\" y=\"515\">receive</text><text font-size=\"12\" transform=\"rotate(60, 475.0, 515)\" x=\"475.0\" y=\"515\">least</text><text font-size=\"12\" transform=\"rotate(60, 505.0, 515)\" x=\"505.0\" y=\"515\">dose</text><text font-size=\"12\" transform=\"rotate(60, 395.0, 515)\" x=\"395.0\" y=\"515\">dos</text><text font-size=\"12\" transform=\"rotate(60, 545.0, 515)\" x=\"545.0\" y=\"515\">adult</text><text font-size=\"12\" transform=\"rotate(60, 855.0, 515)\" x=\"855.0\" y=\"515\">shot</text><text font-size=\"12\" transform=\"rotate(60, 465.0, 515)\" x=\"465.0\" y=\"515\">population</text><text font-size=\"12\" transform=\"rotate(60, 565.0, 515)\" x=\"565.0\" y=\"515\">get</text><text font-size=\"12\" transform=\"rotate(60, 595.0, 515)\" x=\"595.0\" y=\"515\">vaccinate</text><text font-size=\"12\" transform=\"rotate(60, 15.0, 515)\" x=\"15.0\" y=\"515\">week</text><text font-size=\"12\" transform=\"rotate(60, 765.0, 515)\" x=\"765.0\" y=\"515\">government</text><text font-size=\"12\" transform=\"rotate(60, 405.0, 515)\" x=\"405.0\" y=\"515\">administer</text><text font-size=\"12\" transform=\"rotate(60, 935.0, 515)\" x=\"935.0\" y=\"515\">data</text><text font-size=\"12\" transform=\"rotate(60, 495.0, 515)\" x=\"495.0\" y=\"515\">develop</text><text font-size=\"12\" transform=\"rotate(60, 615.0, 515)\" x=\"615.0\" y=\"515\">take</text><text font-size=\"12\" transform=\"rotate(60, 85.0, 515)\" x=\"85.0\" y=\"515\">amid</text><text font-size=\"12\" transform=\"rotate(60, 575.0, 515)\" x=\"575.0\" y=\"515\">make</text><text font-size=\"12\" transform=\"rotate(60, 805.0, 515)\" x=\"805.0\" y=\"515\">use</text><text font-size=\"12\" transform=\"rotate(60, 105.0, 515)\" x=\"105.0\" y=\"515\">infection</text><text font-size=\"12\" transform=\"rotate(60, 555.0, 515)\" x=\"555.0\" y=\"515\">vaccination</text><text font-size=\"12\" transform=\"rotate(60, 825.0, 515)\" x=\"825.0\" y=\"515\">age</text><text font-size=\"12\" transform=\"rotate(60, 385.0, 515)\" x=\"385.0\" y=\"515\">organization</text><text font-size=\"12\" transform=\"rotate(60, 245.0, 515)\" x=\"245.0\" y=\"515\">africa</text><text font-size=\"12\" transform=\"rotate(60, 435.0, 515)\" x=\"435.0\" y=\"515\">china</text><text font-size=\"12\" transform=\"rotate(60, 5.0, 515)\" x=\"5.0\" y=\"515\">two</text><text font-size=\"12\" transform=\"rotate(60, 755.0, 515)\" x=\"755.0\" y=\"515\">official</text><text font-size=\"12\" transform=\"rotate(60, 945.0, 515)\" x=\"945.0\" y=\"515\">show</text><text font-size=\"12\" transform=\"rotate(60, 255.0, 515)\" x=\"255.0\" y=\"515\">south</text><text font-size=\"12\" transform=\"rotate(60, 445.0, 515)\" x=\"445.0\" y=\"515\">batch</text><text font-size=\"12\" transform=\"rotate(60, 75.0, 515)\" x=\"75.0\" y=\"515\">india</text><text font-size=\"12\" transform=\"rotate(60, 365.0, 515)\" x=\"365.0\" y=\"515\">minister</text><text font-size=\"12\" transform=\"rotate(60, 635.0, 515)\" x=\"635.0\" y=\"515\">side</text><text font-size=\"12\" transform=\"rotate(60, 865.0, 515)\" x=\"865.0\" y=\"515\">need</text><text font-size=\"12\" transform=\"rotate(60, 225.0, 515)\" x=\"225.0\" y=\"515\">study</text><text font-size=\"12\" transform=\"rotate(60, 775.0, 515)\" x=\"775.0\" y=\"515\">recommend</text><text font-size=\"12\" transform=\"rotate(60, 975.0, 515)\" x=\"975.0\" y=\"515\">trial</text><text font-size=\"12\" transform=\"rotate(60, 535.0, 515)\" x=\"535.0\" y=\"515\">president</text><text font-size=\"12\" transform=\"rotate(60, 715.0, 515)\" x=\"715.0\" y=\"515\">blood</text><text font-size=\"12\" transform=\"rotate(60, 705.0, 515)\" x=\"705.0\" y=\"515\">clot</text><text font-size=\"12\" transform=\"rotate(60, 815.0, 515)\" x=\"815.0\" y=\"515\">emergency</text><text font-size=\"12\" transform=\"rotate(60, 585.0, 515)\" x=\"585.0\" y=\"515\">university</text><text font-size=\"12\" transform=\"rotate(60, 655.0, 515)\" x=\"655.0\" y=\"515\">rare</text><text font-size=\"12\" transform=\"rotate(60, 645.0, 515)\" x=\"645.0\" y=\"515\">effect</text><text font-size=\"12\" transform=\"rotate(60, 665.0, 515)\" x=\"665.0\" y=\"515\">link</text><text font-size=\"12\" transform=\"rotate(60, 685.0, 515)\" x=\"685.0\" y=\"515\">medicine</text><text font-size=\"12\" transform=\"rotate(60, 675.0, 515)\" x=\"675.0\" y=\"515\">agency</text><text font-size=\"12\" transform=\"rotate(60, 625.0, 515)\" x=\"625.0\" y=\"515\">possible</text><text font-size=\"12\" transform=\"rotate(60, 725.0, 515)\" x=\"725.0\" y=\"515\">regulator</text><text font-size=\"12\" transform=\"rotate(60, 315.0, 515)\" x=\"315.0\" y=\"515\">due</text><text font-size=\"12\" transform=\"rotate(60, 875.0, 515)\" x=\"875.0\" y=\"515\">may</text><text font-size=\"12\" transform=\"rotate(60, 795.0, 515)\" x=\"795.0\" y=\"515\">johnson</text><text font-size=\"12\" transform=\"rotate(60, 985.0, 515)\" x=\"985.0\" y=\"515\">effective</text><text font-size=\"12\" transform=\"rotate(60, 955.0, 515)\" x=\"955.0\" y=\"515\">efficacy</text><text font-size=\"12\" transform=\"rotate(60, 35.0, 515)\" x=\"35.0\" y=\"515\">six</text><text font-size=\"12\" transform=\"rotate(60, 895.0, 515)\" x=\"895.0\" y=\"515\">house</text><text font-size=\"12\" transform=\"rotate(60, 885.0, 515)\" x=\"885.0\" y=\"515\">white</text><text font-size=\"12\" transform=\"rotate(60, 925.0, 515)\" x=\"925.0\" y=\"515\">war</text><text font-size=\"12\" transform=\"rotate(60, 785.0, 515)\" x=\"785.0\" y=\"515\">pause</text><text font-size=\"12\" transform=\"rotate(60, 915.0, 515)\" x=\"915.0\" y=\"515\">fauci</text><path d=\"M 890.0 510 890.0 507.49664171225453\" stroke=\"blue\" stroke-width=\"2\"/><path d=\"M 900.0 510 900.0 507.49664171225453\" stroke=\"blue\" stroke-width=\"2\"/><path d=\"M 890.0 507.49664171225453 900.0 507.49664171225453\" stroke=\"blue\" stroke-width=\"2\"/><path d=\"M 250.0 510 250.0 506.3006898158096\" stroke=\"red\" stroke-width=\"2\"/><path d=\"M 260.0 510 260.0 506.3006898158096\" stroke=\"red\" stroke-width=\"2\"/><path d=\"M 250.0 506.3006898158096 260.0 506.3006898158096\" stroke=\"red\" stroke-width=\"2\"/><path d=\"M 640.0 510 640.0 505.893374480424\" stroke=\"blue\" stroke-width=\"2\"/><path d=\"M 650.0 510 650.0 505.893374480424\" stroke=\"blue\" stroke-width=\"2\"/><path d=\"M 640.0 505.893374480424 650.0 505.893374480424\" stroke=\"blue\" stroke-width=\"2\"/><path d=\"M 920.0 510 920.0 505.7969171403207\" stroke=\"blue\" stroke-width=\"2\"/><path d=\"M 930.0 510 930.0 505.7969171403207\" stroke=\"blue\" stroke-width=\"2\"/><path d=\"M 920.0 505.7969171403207 930.0 505.7969171403207\" stroke=\"blue\" stroke-width=\"2\"/><path d=\"M 580.0 510 580.0 504.2347138727319\" stroke=\"green\" stroke-width=\"2\"/><path d=\"M 590.0 510 590.0 504.2347138727319\" stroke=\"green\" stroke-width=\"2\"/><path d=\"M 580.0 504.2347138727319 590.0 504.2347138727319\" stroke=\"green\" stroke-width=\"2\"/><path d=\"M 960.0 510 960.0 503.71312142237946\" stroke=\"blue\" stroke-width=\"2\"/><path d=\"M 970.0 510 970.0 503.71312142237946\" stroke=\"blue\" stroke-width=\"2\"/><path d=\"M 960.0 503.71312142237946 970.0 503.71312142237946\" stroke=\"blue\" stroke-width=\"2\"/><path d=\"M 895.0 507.49664171225453 895.0 503.6453738993279\" stroke=\"blue\" stroke-width=\"2\"/><path d=\"M 910.0 510 910.0 503.6453738993279\" stroke=\"blue\" stroke-width=\"2\"/><path d=\"M 895.0 503.6453738993279 910.0 503.6453738993279\" stroke=\"blue\" stroke-width=\"2\"/><path d=\"M 380.0 510 380.0 500.95896772550464\" stroke=\"orange\" stroke-width=\"2\"/><path d=\"M 390.0 510 390.0 500.95896772550464\" stroke=\"orange\" stroke-width=\"2\"/><path d=\"M 380.0 500.95896772550464 390.0 500.95896772550464\" stroke=\"orange\" stroke-width=\"2\"/><path d=\"M 830.0 510 830.0 500.8810505394723\" stroke=\"blue\" stroke-width=\"2\"/><path d=\"M 840.0 510 840.0 500.8810505394723\" stroke=\"blue\" stroke-width=\"2\"/><path d=\"M 830.0 500.8810505394723 840.0 500.8810505394723\" stroke=\"blue\" stroke-width=\"2\"/><path d=\"M 680.0 510 680.0 500.37325838239855\" stroke=\"blue\" stroke-width=\"2\"/><path d=\"M 690.0 510 690.0 500.37325838239855\" stroke=\"blue\" stroke-width=\"2\"/><path d=\"M 680.0 500.37325838239855 690.0 500.37325838239855\" stroke=\"blue\" stroke-width=\"2\"/><path d=\"M 870.0 510 870.0 499.6610532569112\" stroke=\"blue\" stroke-width=\"2\"/><path d=\"M 880.0 510 880.0 499.6610532569112\" stroke=\"blue\" stroke-width=\"2\"/><path d=\"M 870.0 499.6610532569112 880.0 499.6610532569112\" stroke=\"blue\" stroke-width=\"2\"/><path d=\"M 980.0 510 980.0 498.1550061438104\" stroke=\"blue\" stroke-width=\"2\"/><path d=\"M 990.0 510 990.0 498.1550061438104\" stroke=\"blue\" stroke-width=\"2\"/><path d=\"M 980.0 498.1550061438104 990.0 498.1550061438104\" stroke=\"blue\" stroke-width=\"2\"/><path d=\"M 810.0 510 810.0 498.1229822433435\" stroke=\"blue\" stroke-width=\"2\"/><path d=\"M 820.0 510 820.0 498.1229822433435\" stroke=\"blue\" stroke-width=\"2\"/><path d=\"M 810.0 498.1229822433435 820.0 498.1229822433435\" stroke=\"blue\" stroke-width=\"2\"/><path d=\"M 190.0 510 190.0 496.3776804058257\" stroke=\"red\" stroke-width=\"2\"/><path d=\"M 200.0 510 200.0 496.3776804058257\" stroke=\"red\" stroke-width=\"2\"/><path d=\"M 190.0 496.3776804058257 200.0 496.3776804058257\" stroke=\"red\" stroke-width=\"2\"/><path d=\"M 902.5 503.6453738993279 902.5 496.30581893256726\" stroke=\"blue\" stroke-width=\"2\"/><path d=\"M 925.0 505.7969171403207 925.0 496.30581893256726\" stroke=\"blue\" stroke-width=\"2\"/><path d=\"M 902.5 496.30581893256726 925.0 496.30581893256726\" stroke=\"blue\" stroke-width=\"2\"/><path d=\"M 630.0 510 630.0 496.08920659626426\" stroke=\"blue\" stroke-width=\"2\"/><path d=\"M 645.0 505.893374480424 645.0 496.08920659626426\" stroke=\"blue\" stroke-width=\"2\"/><path d=\"M 630.0 496.08920659626426 645.0 496.08920659626426\" stroke=\"blue\" stroke-width=\"2\"/><path d=\"M 230.0 510 230.0 495.86102314216004\" stroke=\"red\" stroke-width=\"2\"/><path d=\"M 240.0 510 240.0 495.86102314216004\" stroke=\"red\" stroke-width=\"2\"/><path d=\"M 230.0 495.86102314216004 240.0 495.86102314216004\" stroke=\"red\" stroke-width=\"2\"/><path d=\"M 940.0 510 940.0 495.31003484521045\" stroke=\"blue\" stroke-width=\"2\"/><path d=\"M 950.0 510 950.0 495.31003484521045\" stroke=\"blue\" stroke-width=\"2\"/><path d=\"M 940.0 495.31003484521045 950.0 495.31003484521045\" stroke=\"blue\" stroke-width=\"2\"/><path d=\"M 280.0 510 280.0 494.13408880486304\" stroke=\"red\" stroke-width=\"2\"/><path d=\"M 290.0 510 290.0 494.13408880486304\" stroke=\"red\" stroke-width=\"2\"/><path d=\"M 280.0 494.13408880486304 290.0 494.13408880486304\" stroke=\"red\" stroke-width=\"2\"/><path d=\"M 30.0 510 30.0 494.06853053411885\" stroke=\"red\" stroke-width=\"2\"/><path d=\"M 40.0 510 40.0 494.06853053411885\" stroke=\"red\" stroke-width=\"2\"/><path d=\"M 30.0 494.06853053411885 40.0 494.06853053411885\" stroke=\"red\" stroke-width=\"2\"/><path d=\"M 470.0 510 470.0 493.9480907105765\" stroke=\"green\" stroke-width=\"2\"/><path d=\"M 480.0 510 480.0 493.9480907105765\" stroke=\"green\" stroke-width=\"2\"/><path d=\"M 470.0 493.9480907105765 480.0 493.9480907105765\" stroke=\"green\" stroke-width=\"2\"/><path d=\"M 310.0 510 310.0 492.66737453996586\" stroke=\"orange\" stroke-width=\"2\"/><path d=\"M 320.0 510 320.0 492.66737453996586\" stroke=\"orange\" stroke-width=\"2\"/><path d=\"M 310.0 492.66737453996586 320.0 492.66737453996586\" stroke=\"orange\" stroke-width=\"2\"/><path d=\"M 90.0 510 90.0 491.37882495326727\" stroke=\"red\" stroke-width=\"2\"/><path d=\"M 100.0 510 100.0 491.37882495326727\" stroke=\"red\" stroke-width=\"2\"/><path d=\"M 90.0 491.37882495326727 100.0 491.37882495326727\" stroke=\"red\" stroke-width=\"2\"/><path d=\"M 780.0 510 780.0 490.60960279600863\" stroke=\"blue\" stroke-width=\"2\"/><path d=\"M 790.0 510 790.0 490.60960279600863\" stroke=\"blue\" stroke-width=\"2\"/><path d=\"M 780.0 490.60960279600863 790.0 490.60960279600863\" stroke=\"blue\" stroke-width=\"2\"/><path d=\"M 450.0 510 450.0 489.13892345959124\" stroke=\"green\" stroke-width=\"2\"/><path d=\"M 460.0 510 460.0 489.13892345959124\" stroke=\"green\" stroke-width=\"2\"/><path d=\"M 450.0 489.13892345959124 460.0 489.13892345959124\" stroke=\"green\" stroke-width=\"2\"/><path d=\"M 400.0 510 400.0 488.6805847097132\" stroke=\"green\" stroke-width=\"2\"/><path d=\"M 410.0 510 410.0 488.6805847097132\" stroke=\"green\" stroke-width=\"2\"/><path d=\"M 400.0 488.6805847097132 410.0 488.6805847097132\" stroke=\"green\" stroke-width=\"2\"/><path d=\"M 945.0 495.31003484521045 945.0 488.1500049345011\" stroke=\"blue\" stroke-width=\"2\"/><path d=\"M 965.0 503.71312142237946 965.0 488.1500049345011\" stroke=\"blue\" stroke-width=\"2\"/><path d=\"M 945.0 488.1500049345011 965.0 488.1500049345011\" stroke=\"blue\" stroke-width=\"2\"/><path d=\"M 585.0 504.2347138727319 585.0 486.58392070164865\" stroke=\"green\" stroke-width=\"2\"/><path d=\"M 600.0 510 600.0 486.58392070164865\" stroke=\"green\" stroke-width=\"2\"/><path d=\"M 585.0 486.58392070164865 600.0 486.58392070164865\" stroke=\"green\" stroke-width=\"2\"/><path d=\"M 955.0 488.1500049345011 955.0 486.2958948669565\" stroke=\"blue\" stroke-width=\"2\"/><path d=\"M 985.0 498.1550061438104 985.0 486.2958948669565\" stroke=\"blue\" stroke-width=\"2\"/><path d=\"M 955.0 486.2958948669565 985.0 486.2958948669565\" stroke=\"blue\" stroke-width=\"2\"/><path d=\"M 255.0 506.3006898158096 255.0 485.91391635534876\" stroke=\"red\" stroke-width=\"2\"/><path d=\"M 270.0 510 270.0 485.91391635534876\" stroke=\"red\" stroke-width=\"2\"/><path d=\"M 255.0 485.91391635534876 270.0 485.91391635534876\" stroke=\"red\" stroke-width=\"2\"/><path d=\"M 760.0 510 760.0 484.8710319456701\" stroke=\"blue\" stroke-width=\"2\"/><path d=\"M 770.0 510 770.0 484.8710319456701\" stroke=\"blue\" stroke-width=\"2\"/><path d=\"M 760.0 484.8710319456701 770.0 484.8710319456701\" stroke=\"blue\" stroke-width=\"2\"/><path d=\"M 670.0 510 670.0 484.69114750582565\" stroke=\"blue\" stroke-width=\"2\"/><path d=\"M 685.0 500.37325838239855 685.0 484.69114750582565\" stroke=\"blue\" stroke-width=\"2\"/><path d=\"M 670.0 484.69114750582565 685.0 484.69114750582565\" stroke=\"blue\" stroke-width=\"2\"/><path d=\"M 740.0 510 740.0 483.7972876390656\" stroke=\"blue\" stroke-width=\"2\"/><path d=\"M 750.0 510 750.0 483.7972876390656\" stroke=\"blue\" stroke-width=\"2\"/><path d=\"M 740.0 483.7972876390656 750.0 483.7972876390656\" stroke=\"blue\" stroke-width=\"2\"/><path d=\"M 475.0 493.9480907105765 475.0 482.51175121994214\" stroke=\"green\" stroke-width=\"2\"/><path d=\"M 490.0 510 490.0 482.51175121994214\" stroke=\"green\" stroke-width=\"2\"/><path d=\"M 475.0 482.51175121994214 490.0 482.51175121994214\" stroke=\"green\" stroke-width=\"2\"/><path d=\"M 10.0 510 10.0 482.19222998636945\" stroke=\"red\" stroke-width=\"2\"/><path d=\"M 20.0 510 20.0 482.19222998636945\" stroke=\"red\" stroke-width=\"2\"/><path d=\"M 10.0 482.19222998636945 20.0 482.19222998636945\" stroke=\"red\" stroke-width=\"2\"/><path d=\"M 340.0 510 340.0 479.46459713295314\" stroke=\"orange\" stroke-width=\"2\"/><path d=\"M 350.0 510 350.0 479.46459713295314\" stroke=\"orange\" stroke-width=\"2\"/><path d=\"M 340.0 479.46459713295314 350.0 479.46459713295314\" stroke=\"orange\" stroke-width=\"2\"/><path d=\"M 500.0 510 500.0 478.36180410234556\" stroke=\"green\" stroke-width=\"2\"/><path d=\"M 510.0 510 510.0 478.36180410234556\" stroke=\"green\" stroke-width=\"2\"/><path d=\"M 500.0 478.36180410234556 510.0 478.36180410234556\" stroke=\"green\" stroke-width=\"2\"/><path d=\"M 60.0 510 60.0 477.44229823712413\" stroke=\"red\" stroke-width=\"2\"/><path d=\"M 70.0 510 70.0 477.44229823712413\" stroke=\"red\" stroke-width=\"2\"/><path d=\"M 60.0 477.44229823712413 70.0 477.44229823712413\" stroke=\"red\" stroke-width=\"2\"/><path d=\"M 315.0 492.66737453996586 315.0 476.2766349837297\" stroke=\"orange\" stroke-width=\"2\"/><path d=\"M 330.0 510 330.0 476.2766349837297\" stroke=\"orange\" stroke-width=\"2\"/><path d=\"M 315.0 476.2766349837297 330.0 476.2766349837297\" stroke=\"orange\" stroke-width=\"2\"/><path d=\"M 210.0 510 210.0 475.689506230605\" stroke=\"red\" stroke-width=\"2\"/><path d=\"M 220.0 510 220.0 475.689506230605\" stroke=\"red\" stroke-width=\"2\"/><path d=\"M 210.0 475.689506230605 220.0 475.689506230605\" stroke=\"red\" stroke-width=\"2\"/><path d=\"M 637.5 496.08920659626426 637.5 475.35984779679495\" stroke=\"blue\" stroke-width=\"2\"/><path d=\"M 660.0 510 660.0 475.35984779679495\" stroke=\"blue\" stroke-width=\"2\"/><path d=\"M 637.5 475.35984779679495 660.0 475.35984779679495\" stroke=\"blue\" stroke-width=\"2\"/><path d=\"M 405.0 488.6805847097132 405.0 474.88040277904275\" stroke=\"green\" stroke-width=\"2\"/><path d=\"M 420.0 510 420.0 474.88040277904275\" stroke=\"green\" stroke-width=\"2\"/><path d=\"M 405.0 474.88040277904275 420.0 474.88040277904275\" stroke=\"green\" stroke-width=\"2\"/><path d=\"M 140.0 510 140.0 474.4848353038294\" stroke=\"red\" stroke-width=\"2\"/><path d=\"M 150.0 510 150.0 474.4848353038294\" stroke=\"red\" stroke-width=\"2\"/><path d=\"M 140.0 474.4848353038294 150.0 474.4848353038294\" stroke=\"red\" stroke-width=\"2\"/><path d=\"M 570.0 510 570.0 474.0343998536539\" stroke=\"green\" stroke-width=\"2\"/><path d=\"M 592.5 486.58392070164865 592.5 474.0343998536539\" stroke=\"green\" stroke-width=\"2\"/><path d=\"M 570.0 474.0343998536539 592.5 474.0343998536539\" stroke=\"green\" stroke-width=\"2\"/><path d=\"M 80.0 510 80.0 473.058374594646\" stroke=\"red\" stroke-width=\"2\"/><path d=\"M 95.0 491.37882495326727 95.0 473.058374594646\" stroke=\"red\" stroke-width=\"2\"/><path d=\"M 80.0 473.058374594646 95.0 473.058374594646\" stroke=\"red\" stroke-width=\"2\"/><path d=\"M 677.5 484.69114750582565 677.5 472.3671988997942\" stroke=\"blue\" stroke-width=\"2\"/><path d=\"M 700.0 510 700.0 472.3671988997942\" stroke=\"blue\" stroke-width=\"2\"/><path d=\"M 677.5 472.3671988997942 700.0 472.3671988997942\" stroke=\"blue\" stroke-width=\"2\"/><path d=\"M 505.0 478.36180410234556 505.0 472.18770948492636\" stroke=\"green\" stroke-width=\"2\"/><path d=\"M 520.0 510 520.0 472.18770948492636\" stroke=\"green\" stroke-width=\"2\"/><path d=\"M 505.0 472.18770948492636 520.0 472.18770948492636\" stroke=\"green\" stroke-width=\"2\"/><path d=\"M 785.0 490.60960279600863 785.0 472.18037830959275\" stroke=\"blue\" stroke-width=\"2\"/><path d=\"M 800.0 510 800.0 472.18037830959275\" stroke=\"blue\" stroke-width=\"2\"/><path d=\"M 785.0 472.18037830959275 800.0 472.18037830959275\" stroke=\"blue\" stroke-width=\"2\"/><path d=\"M 540.0 510 540.0 471.74031151425527\" stroke=\"green\" stroke-width=\"2\"/><path d=\"M 550.0 510 550.0 471.74031151425527\" stroke=\"green\" stroke-width=\"2\"/><path d=\"M 540.0 471.74031151425527 550.0 471.74031151425527\" stroke=\"green\" stroke-width=\"2\"/><path d=\"M 815.0 498.1229822433435 815.0 470.8589038369608\" stroke=\"blue\" stroke-width=\"2\"/><path d=\"M 835.0 500.8810505394723 835.0 470.8589038369608\" stroke=\"blue\" stroke-width=\"2\"/><path d=\"M 815.0 470.8589038369608 835.0 470.8589038369608\" stroke=\"blue\" stroke-width=\"2\"/><path d=\"M 710.0 510 710.0 470.11778463519096\" stroke=\"blue\" stroke-width=\"2\"/><path d=\"M 720.0 510 720.0 470.11778463519096\" stroke=\"blue\" stroke-width=\"2\"/><path d=\"M 710.0 470.11778463519096 720.0 470.11778463519096\" stroke=\"blue\" stroke-width=\"2\"/><path d=\"M 87.5 473.058374594646 87.5 468.3974571777421\" stroke=\"red\" stroke-width=\"2\"/><path d=\"M 110.0 510 110.0 468.3974571777421\" stroke=\"red\" stroke-width=\"2\"/><path d=\"M 87.5 468.3974571777421 110.0 468.3974571777421\" stroke=\"red\" stroke-width=\"2\"/><path d=\"M 235.0 495.86102314216004 235.0 466.1386091304902\" stroke=\"red\" stroke-width=\"2\"/><path d=\"M 262.5 485.91391635534876 262.5 466.1386091304902\" stroke=\"red\" stroke-width=\"2\"/><path d=\"M 235.0 466.1386091304902 262.5 466.1386091304902\" stroke=\"red\" stroke-width=\"2\"/><path d=\"M 50.0 510 50.0 464.96637256373907\" stroke=\"red\" stroke-width=\"2\"/><path d=\"M 65.0 477.44229823712413 65.0 464.96637256373907\" stroke=\"red\" stroke-width=\"2\"/><path d=\"M 50.0 464.96637256373907 65.0 464.96637256373907\" stroke=\"red\" stroke-width=\"2\"/><path d=\"M 430.0 510 430.0 463.7901944056177\" stroke=\"green\" stroke-width=\"2\"/><path d=\"M 440.0 510 440.0 463.7901944056177\" stroke=\"green\" stroke-width=\"2\"/><path d=\"M 430.0 463.7901944056177 440.0 463.7901944056177\" stroke=\"green\" stroke-width=\"2\"/><path d=\"M 610.0 510 610.0 462.79248241151504\" stroke=\"green\" stroke-width=\"2\"/><path d=\"M 620.0 510 620.0 462.79248241151504\" stroke=\"green\" stroke-width=\"2\"/><path d=\"M 610.0 462.79248241151504 620.0 462.79248241151504\" stroke=\"green\" stroke-width=\"2\"/><path d=\"M 688.75 472.3671988997942 688.75 461.3256182835179\" stroke=\"blue\" stroke-width=\"2\"/><path d=\"M 715.0 470.11778463519096 715.0 461.3256182835179\" stroke=\"blue\" stroke-width=\"2\"/><path d=\"M 688.75 461.3256182835179 715.0 461.3256182835179\" stroke=\"blue\" stroke-width=\"2\"/><path d=\"M 860.0 510 860.0 461.01821552360394\" stroke=\"blue\" stroke-width=\"2\"/><path d=\"M 875.0 499.6610532569112 875.0 461.01821552360394\" stroke=\"blue\" stroke-width=\"2\"/><path d=\"M 860.0 461.01821552360394 875.0 461.01821552360394\" stroke=\"blue\" stroke-width=\"2\"/><path d=\"M 360.0 510 360.0 457.6867003838561\" stroke=\"orange\" stroke-width=\"2\"/><path d=\"M 370.0 510 370.0 457.6867003838561\" stroke=\"orange\" stroke-width=\"2\"/><path d=\"M 360.0 457.6867003838561 370.0 457.6867003838561\" stroke=\"orange\" stroke-width=\"2\"/><path d=\"M 648.75 475.35984779679495 648.75 452.5765494406627\" stroke=\"blue\" stroke-width=\"2\"/><path d=\"M 701.875 461.3256182835179 701.875 452.5765494406627\" stroke=\"blue\" stroke-width=\"2\"/><path d=\"M 648.75 452.5765494406627 701.875 452.5765494406627\" stroke=\"blue\" stroke-width=\"2\"/><path d=\"M 482.5 482.51175121994214 482.5 451.7890915717144\" stroke=\"green\" stroke-width=\"2\"/><path d=\"M 512.5 472.18770948492636 512.5 451.7890915717144\" stroke=\"green\" stroke-width=\"2\"/><path d=\"M 482.5 451.7890915717144 512.5 451.7890915717144\" stroke=\"green\" stroke-width=\"2\"/><path d=\"M 322.5 476.2766349837297 322.5 450.25298126977026\" stroke=\"orange\" stroke-width=\"2\"/><path d=\"M 345.0 479.46459713295314 345.0 450.25298126977026\" stroke=\"orange\" stroke-width=\"2\"/><path d=\"M 322.5 450.25298126977026 345.0 450.25298126977026\" stroke=\"orange\" stroke-width=\"2\"/><path d=\"M 435.0 463.7901944056177 435.0 449.4915113562063\" stroke=\"green\" stroke-width=\"2\"/><path d=\"M 455.0 489.13892345959124 455.0 449.4915113562063\" stroke=\"green\" stroke-width=\"2\"/><path d=\"M 435.0 449.4915113562063 455.0 449.4915113562063\" stroke=\"green\" stroke-width=\"2\"/><path d=\"M 675.3125 452.5765494406627 675.3125 449.3692621760205\" stroke=\"blue\" stroke-width=\"2\"/><path d=\"M 730.0 510 730.0 449.3692621760205\" stroke=\"blue\" stroke-width=\"2\"/><path d=\"M 675.3125 449.3692621760205 730.0 449.3692621760205\" stroke=\"blue\" stroke-width=\"2\"/><path d=\"M 195.0 496.3776804058257 195.0 448.64240153509365\" stroke=\"red\" stroke-width=\"2\"/><path d=\"M 215.0 475.689506230605 215.0 448.64240153509365\" stroke=\"red\" stroke-width=\"2\"/><path d=\"M 195.0 448.64240153509365 215.0 448.64240153509365\" stroke=\"red\" stroke-width=\"2\"/><path d=\"M 365.0 457.6867003838561 365.0 448.42825155728093\" stroke=\"orange\" stroke-width=\"2\"/><path d=\"M 385.0 500.95896772550464 385.0 448.42825155728093\" stroke=\"orange\" stroke-width=\"2\"/><path d=\"M 365.0 448.42825155728093 385.0 448.42825155728093\" stroke=\"orange\" stroke-width=\"2\"/><path d=\"M 130.0 510 130.0 448.41675349505095\" stroke=\"red\" stroke-width=\"2\"/><path d=\"M 145.0 474.4848353038294 145.0 448.41675349505095\" stroke=\"red\" stroke-width=\"2\"/><path d=\"M 130.0 448.41675349505095 145.0 448.41675349505095\" stroke=\"red\" stroke-width=\"2\"/><path d=\"M 57.5 464.96637256373907 57.5 438.66951562746846\" stroke=\"red\" stroke-width=\"2\"/><path d=\"M 98.75 468.3974571777421 98.75 438.66951562746846\" stroke=\"red\" stroke-width=\"2\"/><path d=\"M 57.5 438.66951562746846 98.75 438.66951562746846\" stroke=\"red\" stroke-width=\"2\"/><path d=\"M 545.0 471.74031151425527 545.0 437.7852933999277\" stroke=\"green\" stroke-width=\"2\"/><path d=\"M 560.0 510 560.0 437.7852933999277\" stroke=\"green\" stroke-width=\"2\"/><path d=\"M 545.0 437.7852933999277 560.0 437.7852933999277\" stroke=\"green\" stroke-width=\"2\"/><path d=\"M 285.0 494.13408880486304 285.0 427.5005454283224\" stroke=\"red\" stroke-width=\"2\"/><path d=\"M 300.0 510 300.0 427.5005454283224\" stroke=\"red\" stroke-width=\"2\"/><path d=\"M 285.0 427.5005454283224 300.0 427.5005454283224\" stroke=\"red\" stroke-width=\"2\"/><path d=\"M 745.0 483.7972876390656 745.0 423.7360895764687\" stroke=\"blue\" stroke-width=\"2\"/><path d=\"M 765.0 484.8710319456701 765.0 423.7360895764687\" stroke=\"blue\" stroke-width=\"2\"/><path d=\"M 745.0 423.7360895764687 765.0 423.7360895764687\" stroke=\"blue\" stroke-width=\"2\"/><path d=\"M 78.125 438.66951562746846 78.125 419.2472189151099\" stroke=\"red\" stroke-width=\"2\"/><path d=\"M 120.0 510 120.0 419.2472189151099\" stroke=\"red\" stroke-width=\"2\"/><path d=\"M 78.125 419.2472189151099 120.0 419.2472189151099\" stroke=\"red\" stroke-width=\"2\"/><path d=\"M 867.5 461.01821552360394 867.5 416.04571286142357\" stroke=\"blue\" stroke-width=\"2\"/><path d=\"M 913.75 496.30581893256726 913.75 416.04571286142357\" stroke=\"blue\" stroke-width=\"2\"/><path d=\"M 867.5 416.04571286142357 913.75 416.04571286142357\" stroke=\"blue\" stroke-width=\"2\"/><path d=\"M 552.5 437.7852933999277 552.5 414.77231796608964\" stroke=\"green\" stroke-width=\"2\"/><path d=\"M 581.25 474.0343998536539 581.25 414.77231796608964\" stroke=\"green\" stroke-width=\"2\"/><path d=\"M 552.5 414.77231796608964 581.25 414.77231796608964\" stroke=\"green\" stroke-width=\"2\"/><path d=\"M 497.5 451.7890915717144 497.5 409.53160156182605\" stroke=\"green\" stroke-width=\"2\"/><path d=\"M 530.0 510 530.0 409.53160156182605\" stroke=\"green\" stroke-width=\"2\"/><path d=\"M 497.5 409.53160156182605 530.0 409.53160156182605\" stroke=\"green\" stroke-width=\"2\"/><path d=\"M 99.0625 419.2472189151099 99.0625 406.81141122410355\" stroke=\"red\" stroke-width=\"2\"/><path d=\"M 137.5 448.41675349505095 137.5 406.81141122410355\" stroke=\"red\" stroke-width=\"2\"/><path d=\"M 99.0625 406.81141122410355 137.5 406.81141122410355\" stroke=\"red\" stroke-width=\"2\"/><path d=\"M 825.0 470.8589038369608 825.0 406.22924078692233\" stroke=\"blue\" stroke-width=\"2\"/><path d=\"M 850.0 510 850.0 406.22924078692233\" stroke=\"blue\" stroke-width=\"2\"/><path d=\"M 825.0 406.22924078692233 850.0 406.22924078692233\" stroke=\"blue\" stroke-width=\"2\"/><path d=\"M 755.0 423.7360895764687 755.0 402.29902568515365\" stroke=\"blue\" stroke-width=\"2\"/><path d=\"M 792.5 472.18037830959275 792.5 402.29902568515365\" stroke=\"blue\" stroke-width=\"2\"/><path d=\"M 755.0 402.29902568515365 792.5 402.29902568515365\" stroke=\"blue\" stroke-width=\"2\"/><path d=\"M 170.0 510 170.0 397.5269349215739\" stroke=\"red\" stroke-width=\"2\"/><path d=\"M 180.0 510 180.0 397.5269349215739\" stroke=\"red\" stroke-width=\"2\"/><path d=\"M 170.0 397.5269349215739 180.0 397.5269349215739\" stroke=\"red\" stroke-width=\"2\"/><path d=\"M 970.0 486.2958948669565 970.0 395.55655559386986\" stroke=\"blue\" stroke-width=\"2\"/><path d=\"M 1000.0 510 1000.0 395.55655559386986\" stroke=\"blue\" stroke-width=\"2\"/><path d=\"M 970.0 395.55655559386986 1000.0 395.55655559386986\" stroke=\"blue\" stroke-width=\"2\"/><path d=\"M 412.5 474.88040277904275 412.5 393.44217637459406\" stroke=\"green\" stroke-width=\"2\"/><path d=\"M 445.0 449.4915113562063 445.0 393.44217637459406\" stroke=\"green\" stroke-width=\"2\"/><path d=\"M 412.5 393.44217637459406 445.0 393.44217637459406\" stroke=\"green\" stroke-width=\"2\"/><path d=\"M 566.875 414.77231796608964 566.875 388.8905023316155\" stroke=\"green\" stroke-width=\"2\"/><path d=\"M 615.0 462.79248241151504 615.0 388.8905023316155\" stroke=\"green\" stroke-width=\"2\"/><path d=\"M 566.875 388.8905023316155 615.0 388.8905023316155\" stroke=\"green\" stroke-width=\"2\"/><path d=\"M 15.0 482.19222998636945 15.0 388.85363158981113\" stroke=\"red\" stroke-width=\"2\"/><path d=\"M 35.0 494.06853053411885 35.0 388.85363158981113\" stroke=\"red\" stroke-width=\"2\"/><path d=\"M 15.0 388.85363158981113 35.0 388.85363158981113\" stroke=\"red\" stroke-width=\"2\"/><path d=\"M 118.28125 406.81141122410355 118.28125 384.4534636849065\" stroke=\"red\" stroke-width=\"2\"/><path d=\"M 160.0 510 160.0 384.4534636849065\" stroke=\"red\" stroke-width=\"2\"/><path d=\"M 118.28125 384.4534636849065 160.0 384.4534636849065\" stroke=\"red\" stroke-width=\"2\"/><path d=\"M 205.0 448.64240153509365 205.0 369.79365784789115\" stroke=\"red\" stroke-width=\"2\"/><path d=\"M 248.75 466.1386091304902 248.75 369.79365784789115\" stroke=\"red\" stroke-width=\"2\"/><path d=\"M 205.0 369.79365784789115 248.75 369.79365784789115\" stroke=\"red\" stroke-width=\"2\"/><path d=\"M 513.75 409.53160156182605 513.75 360.48274134108124\" stroke=\"green\" stroke-width=\"2\"/><path d=\"M 590.9375 388.8905023316155 590.9375 360.48274134108124\" stroke=\"green\" stroke-width=\"2\"/><path d=\"M 513.75 360.48274134108124 590.9375 360.48274134108124\" stroke=\"green\" stroke-width=\"2\"/><path d=\"M 226.875 369.79365784789115 226.875 343.9381433246142\" stroke=\"red\" stroke-width=\"2\"/><path d=\"M 292.5 427.5005454283224 292.5 343.9381433246142\" stroke=\"red\" stroke-width=\"2\"/><path d=\"M 226.875 343.9381433246142 292.5 343.9381433246142\" stroke=\"red\" stroke-width=\"2\"/><path d=\"M 333.75 450.25298126977026 333.75 336.8077094854465\" stroke=\"orange\" stroke-width=\"2\"/><path d=\"M 375.0 448.42825155728093 375.0 336.8077094854465\" stroke=\"orange\" stroke-width=\"2\"/><path d=\"M 333.75 336.8077094854465 375.0 336.8077094854465\" stroke=\"orange\" stroke-width=\"2\"/><path d=\"M 890.625 416.04571286142357 890.625 333.178105097328\" stroke=\"blue\" stroke-width=\"2\"/><path d=\"M 985.0 395.55655559386986 985.0 333.178105097328\" stroke=\"blue\" stroke-width=\"2\"/><path d=\"M 890.625 333.178105097328 985.0 333.178105097328\" stroke=\"blue\" stroke-width=\"2\"/><path d=\"M 702.65625 449.3692621760205 702.65625 329.5892750694662\" stroke=\"blue\" stroke-width=\"2\"/><path d=\"M 773.75 402.29902568515365 773.75 329.5892750694662\" stroke=\"blue\" stroke-width=\"2\"/><path d=\"M 702.65625 329.5892750694662 773.75 329.5892750694662\" stroke=\"blue\" stroke-width=\"2\"/><path d=\"M 25.0 388.85363158981113 25.0 318.34272723426943\" stroke=\"red\" stroke-width=\"2\"/><path d=\"M 139.140625 384.4534636849065 139.140625 318.34272723426943\" stroke=\"red\" stroke-width=\"2\"/><path d=\"M 25.0 318.34272723426943 139.140625 318.34272723426943\" stroke=\"red\" stroke-width=\"2\"/><path d=\"M 428.75 393.44217637459406 428.75 316.7744385296705\" stroke=\"green\" stroke-width=\"2\"/><path d=\"M 552.34375 360.48274134108124 552.34375 316.7744385296705\" stroke=\"green\" stroke-width=\"2\"/><path d=\"M 428.75 316.7744385296705 552.34375 316.7744385296705\" stroke=\"green\" stroke-width=\"2\"/><path d=\"M 82.0703125 318.34272723426943 82.0703125 310.44215934135\" stroke=\"red\" stroke-width=\"2\"/><path d=\"M 175.0 397.5269349215739 175.0 310.44215934135\" stroke=\"red\" stroke-width=\"2\"/><path d=\"M 82.0703125 310.44215934135 175.0 310.44215934135\" stroke=\"red\" stroke-width=\"2\"/><path d=\"M 128.53515625 310.44215934135 128.53515625 282.81416271249725\" stroke=\"red\" stroke-width=\"2\"/><path d=\"M 259.6875 343.9381433246142 259.6875 282.81416271249725\" stroke=\"red\" stroke-width=\"2\"/><path d=\"M 128.53515625 282.81416271249725 259.6875 282.81416271249725\" stroke=\"red\" stroke-width=\"2\"/><path d=\"M 738.203125 329.5892750694662 738.203125 260.09755026376774\" stroke=\"blue\" stroke-width=\"2\"/><path d=\"M 837.5 406.22924078692233 837.5 260.09755026376774\" stroke=\"blue\" stroke-width=\"2\"/><path d=\"M 738.203125 260.09755026376774 837.5 260.09755026376774\" stroke=\"blue\" stroke-width=\"2\"/><path d=\"M 787.8515625 260.09755026376774 787.8515625 226.22070144081346\" stroke=\"blue\" stroke-width=\"2\"/><path d=\"M 937.8125 333.178105097328 937.8125 226.22070144081346\" stroke=\"blue\" stroke-width=\"2\"/><path d=\"M 787.8515625 226.22070144081346 937.8125 226.22070144081346\" stroke=\"blue\" stroke-width=\"2\"/><path d=\"M 194.111328125 282.81416271249725 194.111328125 207.33243159388257\" stroke=\"black\" stroke-width=\"2\"/><path d=\"M 354.375 336.8077094854465 354.375 207.33243159388257\" stroke=\"black\" stroke-width=\"2\"/><path d=\"M 194.111328125 207.33243159388257 354.375 207.33243159388257\" stroke=\"black\" stroke-width=\"2\"/><path d=\"M 274.2431640625 207.33243159388257 274.2431640625 93.57154711095137\" stroke=\"black\" stroke-width=\"2\"/><path d=\"M 490.546875 316.7744385296705 490.546875 93.57154711095137\" stroke=\"black\" stroke-width=\"2\"/><path d=\"M 274.2431640625 93.57154711095137 490.546875 93.57154711095137\" stroke=\"black\" stroke-width=\"2\"/><path d=\"M 382.39501953125 93.57154711095137 382.39501953125 10.0\" stroke=\"black\" stroke-width=\"2\"/><path d=\"M 862.83203125 226.22070144081346 862.83203125 10.0\" stroke=\"black\" stroke-width=\"2\"/><path d=\"M 382.39501953125 10.0 862.83203125 10.0\" stroke=\"black\" stroke-width=\"2\"/></svg>"
          },
          "metadata": {},
          "execution_count": 642
        }
      ]
    },
    {
      "cell_type": "markdown",
      "source": [
        "**Metrics**"
      ],
      "metadata": {
        "id": "Z9VPAhlChbxB"
      }
    },
    {
      "cell_type": "code",
      "source": [
        "nodelist = list(G_reduced.nodes)\n",
        "labels = list(cut_straight(dendrogram, n_clusters=4, return_dendrogram=False))\n",
        "\n",
        "community_dend = [[],[],[],[]]\n",
        "i = 0\n",
        "for node in nodelist:\n",
        "  community_dend[labels[i]].append(node)\n",
        "  i += 1\n",
        "\n",
        "_ = compute_metrics(G_reduced, community_dend)"
      ],
      "metadata": {
        "colab": {
          "base_uri": "https://localhost:8080/"
        },
        "outputId": "a87bd318-1d62-43a3-a2b9-a1c58210a95c",
        "id": "oUVJHIe5hbxC"
      },
      "execution_count": 643,
      "outputs": [
        {
          "output_type": "stream",
          "name": "stdout",
          "text": [
            "Coverage:  0.4785388127853881\n",
            "Performance:  0.7022222222222222\n",
            "Modularity:  0.26175800961136225\n"
          ]
        }
      ]
    },
    {
      "cell_type": "code",
      "source": [
        "image = svg_dendrogram(dendrogram, names, n_clusters=8, rotate=False,width=1000,height=500,filename='community_dendogram8'+period)\n",
        "SVG(image)"
      ],
      "metadata": {
        "colab": {
          "base_uri": "https://localhost:8080/",
          "height": 0
        },
        "outputId": "d18370db-1b21-4b78-cbe5-d176696081a9",
        "id": "nqWQ0WVqhbxC"
      },
      "execution_count": 644,
      "outputs": [
        {
          "output_type": "execute_result",
          "data": {
            "text/plain": [
              "<IPython.core.display.SVG object>"
            ],
            "image/svg+xml": "<svg height=\"597.0\" width=\"1020\" xmlns=\"http://www.w3.org/2000/svg\"><text font-size=\"12\" transform=\"rotate(60, 215.0, 515)\" x=\"215.0\" y=\"515\">death</text><text font-size=\"12\" transform=\"rotate(60, 485.0, 515)\" x=\"485.0\" y=\"515\">one</text><text font-size=\"12\" transform=\"rotate(60, 295.0, 515)\" x=\"295.0\" y=\"515\">country</text><text font-size=\"12\" transform=\"rotate(60, 355.0, 515)\" x=\"355.0\" y=\"515\">health</text><text font-size=\"12\" transform=\"rotate(60, 375.0, 515)\" x=\"375.0\" y=\"515\">world</text><text font-size=\"12\" transform=\"rotate(60, 145.0, 515)\" x=\"145.0\" y=\"515\">rise</text><text font-size=\"12\" transform=\"rotate(60, 115.0, 515)\" x=\"115.0\" y=\"515\">new</text><text font-size=\"12\" transform=\"rotate(60, 185.0, 515)\" x=\"185.0\" y=\"515\">wave</text><text font-size=\"12\" transform=\"rotate(60, 285.0, 515)\" x=\"285.0\" y=\"515\">virus</text><text font-size=\"12\" transform=\"rotate(60, 205.0, 515)\" x=\"205.0\" y=\"515\">brazil</text><text font-size=\"12\" transform=\"rotate(60, 455.0, 515)\" x=\"455.0\" y=\"515\">second</text><text font-size=\"12\" transform=\"rotate(60, 135.0, 515)\" x=\"135.0\" y=\"515\">number</text><text font-size=\"12\" transform=\"rotate(60, 155.0, 515)\" x=\"155.0\" y=\"515\">report</text><text font-size=\"12\" transform=\"rotate(60, 305.0, 515)\" x=\"305.0\" y=\"515\">global</text><text font-size=\"12\" transform=\"rotate(60, 125.0, 515)\" x=\"125.0\" y=\"515\">case</text><text font-size=\"12\" transform=\"rotate(60, 25.0, 515)\" x=\"25.0\" y=\"515\">month</text><text font-size=\"12\" transform=\"rotate(60, 65.0, 515)\" x=\"65.0\" y=\"515\">record</text><text font-size=\"12\" transform=\"rotate(60, 55.0, 515)\" x=\"55.0\" y=\"515\">daily</text><text font-size=\"12\" transform=\"rotate(60, 235.0, 515)\" x=\"235.0\" y=\"515\">find</text><text font-size=\"12\" transform=\"rotate(60, 45.0, 515)\" x=\"45.0\" y=\"515\">high</text><text font-size=\"12\" transform=\"rotate(60, 95.0, 515)\" x=\"95.0\" y=\"515\">surge</text><text font-size=\"12\" transform=\"rotate(60, 845.0, 515)\" x=\"845.0\" y=\"515\">people</text><text font-size=\"12\" transform=\"rotate(60, 995.0, 515)\" x=\"995.0\" y=\"515\">say</text><text font-size=\"12\" transform=\"rotate(60, 415.0, 515)\" x=\"415.0\" y=\"515\">million</text><text font-size=\"12\" transform=\"rotate(60, 735.0, 515)\" x=\"735.0\" y=\"515\">expert</text><text font-size=\"12\" transform=\"rotate(60, 525.0, 515)\" x=\"525.0\" y=\"515\">first</text><text font-size=\"12\" transform=\"rotate(60, 265.0, 515)\" x=\"265.0\" y=\"515\">variant</text><text font-size=\"12\" transform=\"rotate(60, 325.0, 515)\" x=\"325.0\" y=\"515\">pandemic</text><text font-size=\"12\" transform=\"rotate(60, 335.0, 515)\" x=\"335.0\" y=\"515\">year</text><text font-size=\"12\" transform=\"rotate(60, 195.0, 515)\" x=\"195.0\" y=\"515\">could</text><text font-size=\"12\" transform=\"rotate(60, 275.0, 515)\" x=\"275.0\" y=\"515\">hit</text><text font-size=\"12\" transform=\"rotate(60, 745.0, 515)\" x=\"745.0\" y=\"515\">top</text><text font-size=\"12\" transform=\"rotate(60, 605.0, 515)\" x=\"605.0\" y=\"515\">day</text><text font-size=\"12\" transform=\"rotate(60, 425.0, 515)\" x=\"425.0\" y=\"515\">national</text><text font-size=\"12\" transform=\"rotate(60, 175.0, 515)\" x=\"175.0\" y=\"515\">accord</text><text font-size=\"12\" transform=\"rotate(60, 965.0, 515)\" x=\"965.0\" y=\"515\">disease</text><text font-size=\"12\" transform=\"rotate(60, 695.0, 515)\" x=\"695.0\" y=\"515\">risk</text><text font-size=\"12\" transform=\"rotate(60, 345.0, 515)\" x=\"345.0\" y=\"515\">see</text><text font-size=\"12\" transform=\"rotate(60, 165.0, 515)\" x=\"165.0\" y=\"515\">state</text><text font-size=\"12\" transform=\"rotate(60, 905.0, 515)\" x=\"905.0\" y=\"515\">response</text><text font-size=\"12\" transform=\"rotate(60, 835.0, 515)\" x=\"835.0\" y=\"515\">child</text><text font-size=\"12\" transform=\"rotate(60, 515.0, 515)\" x=\"515.0\" y=\"515\">receive</text><text font-size=\"12\" transform=\"rotate(60, 475.0, 515)\" x=\"475.0\" y=\"515\">least</text><text font-size=\"12\" transform=\"rotate(60, 505.0, 515)\" x=\"505.0\" y=\"515\">dose</text><text font-size=\"12\" transform=\"rotate(60, 395.0, 515)\" x=\"395.0\" y=\"515\">dos</text><text font-size=\"12\" transform=\"rotate(60, 545.0, 515)\" x=\"545.0\" y=\"515\">adult</text><text font-size=\"12\" transform=\"rotate(60, 855.0, 515)\" x=\"855.0\" y=\"515\">shot</text><text font-size=\"12\" transform=\"rotate(60, 465.0, 515)\" x=\"465.0\" y=\"515\">population</text><text font-size=\"12\" transform=\"rotate(60, 565.0, 515)\" x=\"565.0\" y=\"515\">get</text><text font-size=\"12\" transform=\"rotate(60, 595.0, 515)\" x=\"595.0\" y=\"515\">vaccinate</text><text font-size=\"12\" transform=\"rotate(60, 15.0, 515)\" x=\"15.0\" y=\"515\">week</text><text font-size=\"12\" transform=\"rotate(60, 765.0, 515)\" x=\"765.0\" y=\"515\">government</text><text font-size=\"12\" transform=\"rotate(60, 405.0, 515)\" x=\"405.0\" y=\"515\">administer</text><text font-size=\"12\" transform=\"rotate(60, 935.0, 515)\" x=\"935.0\" y=\"515\">data</text><text font-size=\"12\" transform=\"rotate(60, 495.0, 515)\" x=\"495.0\" y=\"515\">develop</text><text font-size=\"12\" transform=\"rotate(60, 615.0, 515)\" x=\"615.0\" y=\"515\">take</text><text font-size=\"12\" transform=\"rotate(60, 85.0, 515)\" x=\"85.0\" y=\"515\">amid</text><text font-size=\"12\" transform=\"rotate(60, 575.0, 515)\" x=\"575.0\" y=\"515\">make</text><text font-size=\"12\" transform=\"rotate(60, 805.0, 515)\" x=\"805.0\" y=\"515\">use</text><text font-size=\"12\" transform=\"rotate(60, 105.0, 515)\" x=\"105.0\" y=\"515\">infection</text><text font-size=\"12\" transform=\"rotate(60, 555.0, 515)\" x=\"555.0\" y=\"515\">vaccination</text><text font-size=\"12\" transform=\"rotate(60, 825.0, 515)\" x=\"825.0\" y=\"515\">age</text><text font-size=\"12\" transform=\"rotate(60, 385.0, 515)\" x=\"385.0\" y=\"515\">organization</text><text font-size=\"12\" transform=\"rotate(60, 245.0, 515)\" x=\"245.0\" y=\"515\">africa</text><text font-size=\"12\" transform=\"rotate(60, 435.0, 515)\" x=\"435.0\" y=\"515\">china</text><text font-size=\"12\" transform=\"rotate(60, 5.0, 515)\" x=\"5.0\" y=\"515\">two</text><text font-size=\"12\" transform=\"rotate(60, 755.0, 515)\" x=\"755.0\" y=\"515\">official</text><text font-size=\"12\" transform=\"rotate(60, 945.0, 515)\" x=\"945.0\" y=\"515\">show</text><text font-size=\"12\" transform=\"rotate(60, 255.0, 515)\" x=\"255.0\" y=\"515\">south</text><text font-size=\"12\" transform=\"rotate(60, 445.0, 515)\" x=\"445.0\" y=\"515\">batch</text><text font-size=\"12\" transform=\"rotate(60, 75.0, 515)\" x=\"75.0\" y=\"515\">india</text><text font-size=\"12\" transform=\"rotate(60, 365.0, 515)\" x=\"365.0\" y=\"515\">minister</text><text font-size=\"12\" transform=\"rotate(60, 635.0, 515)\" x=\"635.0\" y=\"515\">side</text><text font-size=\"12\" transform=\"rotate(60, 865.0, 515)\" x=\"865.0\" y=\"515\">need</text><text font-size=\"12\" transform=\"rotate(60, 225.0, 515)\" x=\"225.0\" y=\"515\">study</text><text font-size=\"12\" transform=\"rotate(60, 775.0, 515)\" x=\"775.0\" y=\"515\">recommend</text><text font-size=\"12\" transform=\"rotate(60, 975.0, 515)\" x=\"975.0\" y=\"515\">trial</text><text font-size=\"12\" transform=\"rotate(60, 535.0, 515)\" x=\"535.0\" y=\"515\">president</text><text font-size=\"12\" transform=\"rotate(60, 715.0, 515)\" x=\"715.0\" y=\"515\">blood</text><text font-size=\"12\" transform=\"rotate(60, 705.0, 515)\" x=\"705.0\" y=\"515\">clot</text><text font-size=\"12\" transform=\"rotate(60, 815.0, 515)\" x=\"815.0\" y=\"515\">emergency</text><text font-size=\"12\" transform=\"rotate(60, 585.0, 515)\" x=\"585.0\" y=\"515\">university</text><text font-size=\"12\" transform=\"rotate(60, 655.0, 515)\" x=\"655.0\" y=\"515\">rare</text><text font-size=\"12\" transform=\"rotate(60, 645.0, 515)\" x=\"645.0\" y=\"515\">effect</text><text font-size=\"12\" transform=\"rotate(60, 665.0, 515)\" x=\"665.0\" y=\"515\">link</text><text font-size=\"12\" transform=\"rotate(60, 685.0, 515)\" x=\"685.0\" y=\"515\">medicine</text><text font-size=\"12\" transform=\"rotate(60, 675.0, 515)\" x=\"675.0\" y=\"515\">agency</text><text font-size=\"12\" transform=\"rotate(60, 625.0, 515)\" x=\"625.0\" y=\"515\">possible</text><text font-size=\"12\" transform=\"rotate(60, 725.0, 515)\" x=\"725.0\" y=\"515\">regulator</text><text font-size=\"12\" transform=\"rotate(60, 315.0, 515)\" x=\"315.0\" y=\"515\">due</text><text font-size=\"12\" transform=\"rotate(60, 875.0, 515)\" x=\"875.0\" y=\"515\">may</text><text font-size=\"12\" transform=\"rotate(60, 795.0, 515)\" x=\"795.0\" y=\"515\">johnson</text><text font-size=\"12\" transform=\"rotate(60, 985.0, 515)\" x=\"985.0\" y=\"515\">effective</text><text font-size=\"12\" transform=\"rotate(60, 955.0, 515)\" x=\"955.0\" y=\"515\">efficacy</text><text font-size=\"12\" transform=\"rotate(60, 35.0, 515)\" x=\"35.0\" y=\"515\">six</text><text font-size=\"12\" transform=\"rotate(60, 895.0, 515)\" x=\"895.0\" y=\"515\">house</text><text font-size=\"12\" transform=\"rotate(60, 885.0, 515)\" x=\"885.0\" y=\"515\">white</text><text font-size=\"12\" transform=\"rotate(60, 925.0, 515)\" x=\"925.0\" y=\"515\">war</text><text font-size=\"12\" transform=\"rotate(60, 785.0, 515)\" x=\"785.0\" y=\"515\">pause</text><text font-size=\"12\" transform=\"rotate(60, 915.0, 515)\" x=\"915.0\" y=\"515\">fauci</text><path d=\"M 890.0 510 890.0 507.49664171225453\" stroke=\"orange\" stroke-width=\"2\"/><path d=\"M 900.0 510 900.0 507.49664171225453\" stroke=\"orange\" stroke-width=\"2\"/><path d=\"M 890.0 507.49664171225453 900.0 507.49664171225453\" stroke=\"orange\" stroke-width=\"2\"/><path d=\"M 250.0 510 250.0 506.3006898158096\" stroke=\"purple\" stroke-width=\"2\"/><path d=\"M 260.0 510 260.0 506.3006898158096\" stroke=\"purple\" stroke-width=\"2\"/><path d=\"M 250.0 506.3006898158096 260.0 506.3006898158096\" stroke=\"purple\" stroke-width=\"2\"/><path d=\"M 640.0 510 640.0 505.893374480424\" stroke=\"red\" stroke-width=\"2\"/><path d=\"M 650.0 510 650.0 505.893374480424\" stroke=\"red\" stroke-width=\"2\"/><path d=\"M 640.0 505.893374480424 650.0 505.893374480424\" stroke=\"red\" stroke-width=\"2\"/><path d=\"M 920.0 510 920.0 505.7969171403207\" stroke=\"orange\" stroke-width=\"2\"/><path d=\"M 930.0 510 930.0 505.7969171403207\" stroke=\"orange\" stroke-width=\"2\"/><path d=\"M 920.0 505.7969171403207 930.0 505.7969171403207\" stroke=\"orange\" stroke-width=\"2\"/><path d=\"M 580.0 510 580.0 504.2347138727319\" stroke=\"blue\" stroke-width=\"2\"/><path d=\"M 590.0 510 590.0 504.2347138727319\" stroke=\"blue\" stroke-width=\"2\"/><path d=\"M 580.0 504.2347138727319 590.0 504.2347138727319\" stroke=\"blue\" stroke-width=\"2\"/><path d=\"M 960.0 510 960.0 503.71312142237946\" stroke=\"orange\" stroke-width=\"2\"/><path d=\"M 970.0 510 970.0 503.71312142237946\" stroke=\"orange\" stroke-width=\"2\"/><path d=\"M 960.0 503.71312142237946 970.0 503.71312142237946\" stroke=\"orange\" stroke-width=\"2\"/><path d=\"M 895.0 507.49664171225453 895.0 503.6453738993279\" stroke=\"orange\" stroke-width=\"2\"/><path d=\"M 910.0 510 910.0 503.6453738993279\" stroke=\"orange\" stroke-width=\"2\"/><path d=\"M 895.0 503.6453738993279 910.0 503.6453738993279\" stroke=\"orange\" stroke-width=\"2\"/><path d=\"M 380.0 510 380.0 500.95896772550464\" stroke=\"yellow\" stroke-width=\"2\"/><path d=\"M 390.0 510 390.0 500.95896772550464\" stroke=\"yellow\" stroke-width=\"2\"/><path d=\"M 380.0 500.95896772550464 390.0 500.95896772550464\" stroke=\"yellow\" stroke-width=\"2\"/><path d=\"M 830.0 510 830.0 500.8810505394723\" stroke=\"fuchsia\" stroke-width=\"2\"/><path d=\"M 840.0 510 840.0 500.8810505394723\" stroke=\"fuchsia\" stroke-width=\"2\"/><path d=\"M 830.0 500.8810505394723 840.0 500.8810505394723\" stroke=\"fuchsia\" stroke-width=\"2\"/><path d=\"M 680.0 510 680.0 500.37325838239855\" stroke=\"red\" stroke-width=\"2\"/><path d=\"M 690.0 510 690.0 500.37325838239855\" stroke=\"red\" stroke-width=\"2\"/><path d=\"M 680.0 500.37325838239855 690.0 500.37325838239855\" stroke=\"red\" stroke-width=\"2\"/><path d=\"M 870.0 510 870.0 499.6610532569112\" stroke=\"orange\" stroke-width=\"2\"/><path d=\"M 880.0 510 880.0 499.6610532569112\" stroke=\"orange\" stroke-width=\"2\"/><path d=\"M 870.0 499.6610532569112 880.0 499.6610532569112\" stroke=\"orange\" stroke-width=\"2\"/><path d=\"M 980.0 510 980.0 498.1550061438104\" stroke=\"orange\" stroke-width=\"2\"/><path d=\"M 990.0 510 990.0 498.1550061438104\" stroke=\"orange\" stroke-width=\"2\"/><path d=\"M 980.0 498.1550061438104 990.0 498.1550061438104\" stroke=\"orange\" stroke-width=\"2\"/><path d=\"M 810.0 510 810.0 498.1229822433435\" stroke=\"fuchsia\" stroke-width=\"2\"/><path d=\"M 820.0 510 820.0 498.1229822433435\" stroke=\"fuchsia\" stroke-width=\"2\"/><path d=\"M 810.0 498.1229822433435 820.0 498.1229822433435\" stroke=\"fuchsia\" stroke-width=\"2\"/><path d=\"M 190.0 510 190.0 496.3776804058257\" stroke=\"purple\" stroke-width=\"2\"/><path d=\"M 200.0 510 200.0 496.3776804058257\" stroke=\"purple\" stroke-width=\"2\"/><path d=\"M 190.0 496.3776804058257 200.0 496.3776804058257\" stroke=\"purple\" stroke-width=\"2\"/><path d=\"M 902.5 503.6453738993279 902.5 496.30581893256726\" stroke=\"orange\" stroke-width=\"2\"/><path d=\"M 925.0 505.7969171403207 925.0 496.30581893256726\" stroke=\"orange\" stroke-width=\"2\"/><path d=\"M 902.5 496.30581893256726 925.0 496.30581893256726\" stroke=\"orange\" stroke-width=\"2\"/><path d=\"M 630.0 510 630.0 496.08920659626426\" stroke=\"red\" stroke-width=\"2\"/><path d=\"M 645.0 505.893374480424 645.0 496.08920659626426\" stroke=\"red\" stroke-width=\"2\"/><path d=\"M 630.0 496.08920659626426 645.0 496.08920659626426\" stroke=\"red\" stroke-width=\"2\"/><path d=\"M 230.0 510 230.0 495.86102314216004\" stroke=\"purple\" stroke-width=\"2\"/><path d=\"M 240.0 510 240.0 495.86102314216004\" stroke=\"purple\" stroke-width=\"2\"/><path d=\"M 230.0 495.86102314216004 240.0 495.86102314216004\" stroke=\"purple\" stroke-width=\"2\"/><path d=\"M 940.0 510 940.0 495.31003484521045\" stroke=\"orange\" stroke-width=\"2\"/><path d=\"M 950.0 510 950.0 495.31003484521045\" stroke=\"orange\" stroke-width=\"2\"/><path d=\"M 940.0 495.31003484521045 950.0 495.31003484521045\" stroke=\"orange\" stroke-width=\"2\"/><path d=\"M 280.0 510 280.0 494.13408880486304\" stroke=\"purple\" stroke-width=\"2\"/><path d=\"M 290.0 510 290.0 494.13408880486304\" stroke=\"purple\" stroke-width=\"2\"/><path d=\"M 280.0 494.13408880486304 290.0 494.13408880486304\" stroke=\"purple\" stroke-width=\"2\"/><path d=\"M 30.0 510 30.0 494.06853053411885\" stroke=\"green\" stroke-width=\"2\"/><path d=\"M 40.0 510 40.0 494.06853053411885\" stroke=\"green\" stroke-width=\"2\"/><path d=\"M 30.0 494.06853053411885 40.0 494.06853053411885\" stroke=\"green\" stroke-width=\"2\"/><path d=\"M 470.0 510 470.0 493.9480907105765\" stroke=\"blue\" stroke-width=\"2\"/><path d=\"M 480.0 510 480.0 493.9480907105765\" stroke=\"blue\" stroke-width=\"2\"/><path d=\"M 470.0 493.9480907105765 480.0 493.9480907105765\" stroke=\"blue\" stroke-width=\"2\"/><path d=\"M 310.0 510 310.0 492.66737453996586\" stroke=\"yellow\" stroke-width=\"2\"/><path d=\"M 320.0 510 320.0 492.66737453996586\" stroke=\"yellow\" stroke-width=\"2\"/><path d=\"M 310.0 492.66737453996586 320.0 492.66737453996586\" stroke=\"yellow\" stroke-width=\"2\"/><path d=\"M 90.0 510 90.0 491.37882495326727\" stroke=\"green\" stroke-width=\"2\"/><path d=\"M 100.0 510 100.0 491.37882495326727\" stroke=\"green\" stroke-width=\"2\"/><path d=\"M 90.0 491.37882495326727 100.0 491.37882495326727\" stroke=\"green\" stroke-width=\"2\"/><path d=\"M 780.0 510 780.0 490.60960279600863\" stroke=\"red\" stroke-width=\"2\"/><path d=\"M 790.0 510 790.0 490.60960279600863\" stroke=\"red\" stroke-width=\"2\"/><path d=\"M 780.0 490.60960279600863 790.0 490.60960279600863\" stroke=\"red\" stroke-width=\"2\"/><path d=\"M 450.0 510 450.0 489.13892345959124\" stroke=\"blue\" stroke-width=\"2\"/><path d=\"M 460.0 510 460.0 489.13892345959124\" stroke=\"blue\" stroke-width=\"2\"/><path d=\"M 450.0 489.13892345959124 460.0 489.13892345959124\" stroke=\"blue\" stroke-width=\"2\"/><path d=\"M 400.0 510 400.0 488.6805847097132\" stroke=\"blue\" stroke-width=\"2\"/><path d=\"M 410.0 510 410.0 488.6805847097132\" stroke=\"blue\" stroke-width=\"2\"/><path d=\"M 400.0 488.6805847097132 410.0 488.6805847097132\" stroke=\"blue\" stroke-width=\"2\"/><path d=\"M 945.0 495.31003484521045 945.0 488.1500049345011\" stroke=\"orange\" stroke-width=\"2\"/><path d=\"M 965.0 503.71312142237946 965.0 488.1500049345011\" stroke=\"orange\" stroke-width=\"2\"/><path d=\"M 945.0 488.1500049345011 965.0 488.1500049345011\" stroke=\"orange\" stroke-width=\"2\"/><path d=\"M 585.0 504.2347138727319 585.0 486.58392070164865\" stroke=\"blue\" stroke-width=\"2\"/><path d=\"M 600.0 510 600.0 486.58392070164865\" stroke=\"blue\" stroke-width=\"2\"/><path d=\"M 585.0 486.58392070164865 600.0 486.58392070164865\" stroke=\"blue\" stroke-width=\"2\"/><path d=\"M 955.0 488.1500049345011 955.0 486.2958948669565\" stroke=\"orange\" stroke-width=\"2\"/><path d=\"M 985.0 498.1550061438104 985.0 486.2958948669565\" stroke=\"orange\" stroke-width=\"2\"/><path d=\"M 955.0 486.2958948669565 985.0 486.2958948669565\" stroke=\"orange\" stroke-width=\"2\"/><path d=\"M 255.0 506.3006898158096 255.0 485.91391635534876\" stroke=\"purple\" stroke-width=\"2\"/><path d=\"M 270.0 510 270.0 485.91391635534876\" stroke=\"purple\" stroke-width=\"2\"/><path d=\"M 255.0 485.91391635534876 270.0 485.91391635534876\" stroke=\"purple\" stroke-width=\"2\"/><path d=\"M 760.0 510 760.0 484.8710319456701\" stroke=\"red\" stroke-width=\"2\"/><path d=\"M 770.0 510 770.0 484.8710319456701\" stroke=\"red\" stroke-width=\"2\"/><path d=\"M 760.0 484.8710319456701 770.0 484.8710319456701\" stroke=\"red\" stroke-width=\"2\"/><path d=\"M 670.0 510 670.0 484.69114750582565\" stroke=\"red\" stroke-width=\"2\"/><path d=\"M 685.0 500.37325838239855 685.0 484.69114750582565\" stroke=\"red\" stroke-width=\"2\"/><path d=\"M 670.0 484.69114750582565 685.0 484.69114750582565\" stroke=\"red\" stroke-width=\"2\"/><path d=\"M 740.0 510 740.0 483.7972876390656\" stroke=\"red\" stroke-width=\"2\"/><path d=\"M 750.0 510 750.0 483.7972876390656\" stroke=\"red\" stroke-width=\"2\"/><path d=\"M 740.0 483.7972876390656 750.0 483.7972876390656\" stroke=\"red\" stroke-width=\"2\"/><path d=\"M 475.0 493.9480907105765 475.0 482.51175121994214\" stroke=\"blue\" stroke-width=\"2\"/><path d=\"M 490.0 510 490.0 482.51175121994214\" stroke=\"blue\" stroke-width=\"2\"/><path d=\"M 475.0 482.51175121994214 490.0 482.51175121994214\" stroke=\"blue\" stroke-width=\"2\"/><path d=\"M 10.0 510 10.0 482.19222998636945\" stroke=\"green\" stroke-width=\"2\"/><path d=\"M 20.0 510 20.0 482.19222998636945\" stroke=\"green\" stroke-width=\"2\"/><path d=\"M 10.0 482.19222998636945 20.0 482.19222998636945\" stroke=\"green\" stroke-width=\"2\"/><path d=\"M 340.0 510 340.0 479.46459713295314\" stroke=\"yellow\" stroke-width=\"2\"/><path d=\"M 350.0 510 350.0 479.46459713295314\" stroke=\"yellow\" stroke-width=\"2\"/><path d=\"M 340.0 479.46459713295314 350.0 479.46459713295314\" stroke=\"yellow\" stroke-width=\"2\"/><path d=\"M 500.0 510 500.0 478.36180410234556\" stroke=\"blue\" stroke-width=\"2\"/><path d=\"M 510.0 510 510.0 478.36180410234556\" stroke=\"blue\" stroke-width=\"2\"/><path d=\"M 500.0 478.36180410234556 510.0 478.36180410234556\" stroke=\"blue\" stroke-width=\"2\"/><path d=\"M 60.0 510 60.0 477.44229823712413\" stroke=\"green\" stroke-width=\"2\"/><path d=\"M 70.0 510 70.0 477.44229823712413\" stroke=\"green\" stroke-width=\"2\"/><path d=\"M 60.0 477.44229823712413 70.0 477.44229823712413\" stroke=\"green\" stroke-width=\"2\"/><path d=\"M 315.0 492.66737453996586 315.0 476.2766349837297\" stroke=\"yellow\" stroke-width=\"2\"/><path d=\"M 330.0 510 330.0 476.2766349837297\" stroke=\"yellow\" stroke-width=\"2\"/><path d=\"M 315.0 476.2766349837297 330.0 476.2766349837297\" stroke=\"yellow\" stroke-width=\"2\"/><path d=\"M 210.0 510 210.0 475.689506230605\" stroke=\"purple\" stroke-width=\"2\"/><path d=\"M 220.0 510 220.0 475.689506230605\" stroke=\"purple\" stroke-width=\"2\"/><path d=\"M 210.0 475.689506230605 220.0 475.689506230605\" stroke=\"purple\" stroke-width=\"2\"/><path d=\"M 637.5 496.08920659626426 637.5 475.35984779679495\" stroke=\"red\" stroke-width=\"2\"/><path d=\"M 660.0 510 660.0 475.35984779679495\" stroke=\"red\" stroke-width=\"2\"/><path d=\"M 637.5 475.35984779679495 660.0 475.35984779679495\" stroke=\"red\" stroke-width=\"2\"/><path d=\"M 405.0 488.6805847097132 405.0 474.88040277904275\" stroke=\"blue\" stroke-width=\"2\"/><path d=\"M 420.0 510 420.0 474.88040277904275\" stroke=\"blue\" stroke-width=\"2\"/><path d=\"M 405.0 474.88040277904275 420.0 474.88040277904275\" stroke=\"blue\" stroke-width=\"2\"/><path d=\"M 140.0 510 140.0 474.4848353038294\" stroke=\"green\" stroke-width=\"2\"/><path d=\"M 150.0 510 150.0 474.4848353038294\" stroke=\"green\" stroke-width=\"2\"/><path d=\"M 140.0 474.4848353038294 150.0 474.4848353038294\" stroke=\"green\" stroke-width=\"2\"/><path d=\"M 570.0 510 570.0 474.0343998536539\" stroke=\"blue\" stroke-width=\"2\"/><path d=\"M 592.5 486.58392070164865 592.5 474.0343998536539\" stroke=\"blue\" stroke-width=\"2\"/><path d=\"M 570.0 474.0343998536539 592.5 474.0343998536539\" stroke=\"blue\" stroke-width=\"2\"/><path d=\"M 80.0 510 80.0 473.058374594646\" stroke=\"green\" stroke-width=\"2\"/><path d=\"M 95.0 491.37882495326727 95.0 473.058374594646\" stroke=\"green\" stroke-width=\"2\"/><path d=\"M 80.0 473.058374594646 95.0 473.058374594646\" stroke=\"green\" stroke-width=\"2\"/><path d=\"M 677.5 484.69114750582565 677.5 472.3671988997942\" stroke=\"red\" stroke-width=\"2\"/><path d=\"M 700.0 510 700.0 472.3671988997942\" stroke=\"red\" stroke-width=\"2\"/><path d=\"M 677.5 472.3671988997942 700.0 472.3671988997942\" stroke=\"red\" stroke-width=\"2\"/><path d=\"M 505.0 478.36180410234556 505.0 472.18770948492636\" stroke=\"blue\" stroke-width=\"2\"/><path d=\"M 520.0 510 520.0 472.18770948492636\" stroke=\"blue\" stroke-width=\"2\"/><path d=\"M 505.0 472.18770948492636 520.0 472.18770948492636\" stroke=\"blue\" stroke-width=\"2\"/><path d=\"M 785.0 490.60960279600863 785.0 472.18037830959275\" stroke=\"red\" stroke-width=\"2\"/><path d=\"M 800.0 510 800.0 472.18037830959275\" stroke=\"red\" stroke-width=\"2\"/><path d=\"M 785.0 472.18037830959275 800.0 472.18037830959275\" stroke=\"red\" stroke-width=\"2\"/><path d=\"M 540.0 510 540.0 471.74031151425527\" stroke=\"blue\" stroke-width=\"2\"/><path d=\"M 550.0 510 550.0 471.74031151425527\" stroke=\"blue\" stroke-width=\"2\"/><path d=\"M 540.0 471.74031151425527 550.0 471.74031151425527\" stroke=\"blue\" stroke-width=\"2\"/><path d=\"M 815.0 498.1229822433435 815.0 470.8589038369608\" stroke=\"fuchsia\" stroke-width=\"2\"/><path d=\"M 835.0 500.8810505394723 835.0 470.8589038369608\" stroke=\"fuchsia\" stroke-width=\"2\"/><path d=\"M 815.0 470.8589038369608 835.0 470.8589038369608\" stroke=\"fuchsia\" stroke-width=\"2\"/><path d=\"M 710.0 510 710.0 470.11778463519096\" stroke=\"red\" stroke-width=\"2\"/><path d=\"M 720.0 510 720.0 470.11778463519096\" stroke=\"red\" stroke-width=\"2\"/><path d=\"M 710.0 470.11778463519096 720.0 470.11778463519096\" stroke=\"red\" stroke-width=\"2\"/><path d=\"M 87.5 473.058374594646 87.5 468.3974571777421\" stroke=\"green\" stroke-width=\"2\"/><path d=\"M 110.0 510 110.0 468.3974571777421\" stroke=\"green\" stroke-width=\"2\"/><path d=\"M 87.5 468.3974571777421 110.0 468.3974571777421\" stroke=\"green\" stroke-width=\"2\"/><path d=\"M 235.0 495.86102314216004 235.0 466.1386091304902\" stroke=\"purple\" stroke-width=\"2\"/><path d=\"M 262.5 485.91391635534876 262.5 466.1386091304902\" stroke=\"purple\" stroke-width=\"2\"/><path d=\"M 235.0 466.1386091304902 262.5 466.1386091304902\" stroke=\"purple\" stroke-width=\"2\"/><path d=\"M 50.0 510 50.0 464.96637256373907\" stroke=\"green\" stroke-width=\"2\"/><path d=\"M 65.0 477.44229823712413 65.0 464.96637256373907\" stroke=\"green\" stroke-width=\"2\"/><path d=\"M 50.0 464.96637256373907 65.0 464.96637256373907\" stroke=\"green\" stroke-width=\"2\"/><path d=\"M 430.0 510 430.0 463.7901944056177\" stroke=\"blue\" stroke-width=\"2\"/><path d=\"M 440.0 510 440.0 463.7901944056177\" stroke=\"blue\" stroke-width=\"2\"/><path d=\"M 430.0 463.7901944056177 440.0 463.7901944056177\" stroke=\"blue\" stroke-width=\"2\"/><path d=\"M 610.0 510 610.0 462.79248241151504\" stroke=\"blue\" stroke-width=\"2\"/><path d=\"M 620.0 510 620.0 462.79248241151504\" stroke=\"blue\" stroke-width=\"2\"/><path d=\"M 610.0 462.79248241151504 620.0 462.79248241151504\" stroke=\"blue\" stroke-width=\"2\"/><path d=\"M 688.75 472.3671988997942 688.75 461.3256182835179\" stroke=\"red\" stroke-width=\"2\"/><path d=\"M 715.0 470.11778463519096 715.0 461.3256182835179\" stroke=\"red\" stroke-width=\"2\"/><path d=\"M 688.75 461.3256182835179 715.0 461.3256182835179\" stroke=\"red\" stroke-width=\"2\"/><path d=\"M 860.0 510 860.0 461.01821552360394\" stroke=\"orange\" stroke-width=\"2\"/><path d=\"M 875.0 499.6610532569112 875.0 461.01821552360394\" stroke=\"orange\" stroke-width=\"2\"/><path d=\"M 860.0 461.01821552360394 875.0 461.01821552360394\" stroke=\"orange\" stroke-width=\"2\"/><path d=\"M 360.0 510 360.0 457.6867003838561\" stroke=\"yellow\" stroke-width=\"2\"/><path d=\"M 370.0 510 370.0 457.6867003838561\" stroke=\"yellow\" stroke-width=\"2\"/><path d=\"M 360.0 457.6867003838561 370.0 457.6867003838561\" stroke=\"yellow\" stroke-width=\"2\"/><path d=\"M 648.75 475.35984779679495 648.75 452.5765494406627\" stroke=\"red\" stroke-width=\"2\"/><path d=\"M 701.875 461.3256182835179 701.875 452.5765494406627\" stroke=\"red\" stroke-width=\"2\"/><path d=\"M 648.75 452.5765494406627 701.875 452.5765494406627\" stroke=\"red\" stroke-width=\"2\"/><path d=\"M 482.5 482.51175121994214 482.5 451.7890915717144\" stroke=\"blue\" stroke-width=\"2\"/><path d=\"M 512.5 472.18770948492636 512.5 451.7890915717144\" stroke=\"blue\" stroke-width=\"2\"/><path d=\"M 482.5 451.7890915717144 512.5 451.7890915717144\" stroke=\"blue\" stroke-width=\"2\"/><path d=\"M 322.5 476.2766349837297 322.5 450.25298126977026\" stroke=\"yellow\" stroke-width=\"2\"/><path d=\"M 345.0 479.46459713295314 345.0 450.25298126977026\" stroke=\"yellow\" stroke-width=\"2\"/><path d=\"M 322.5 450.25298126977026 345.0 450.25298126977026\" stroke=\"yellow\" stroke-width=\"2\"/><path d=\"M 435.0 463.7901944056177 435.0 449.4915113562063\" stroke=\"blue\" stroke-width=\"2\"/><path d=\"M 455.0 489.13892345959124 455.0 449.4915113562063\" stroke=\"blue\" stroke-width=\"2\"/><path d=\"M 435.0 449.4915113562063 455.0 449.4915113562063\" stroke=\"blue\" stroke-width=\"2\"/><path d=\"M 675.3125 452.5765494406627 675.3125 449.3692621760205\" stroke=\"red\" stroke-width=\"2\"/><path d=\"M 730.0 510 730.0 449.3692621760205\" stroke=\"red\" stroke-width=\"2\"/><path d=\"M 675.3125 449.3692621760205 730.0 449.3692621760205\" stroke=\"red\" stroke-width=\"2\"/><path d=\"M 195.0 496.3776804058257 195.0 448.64240153509365\" stroke=\"purple\" stroke-width=\"2\"/><path d=\"M 215.0 475.689506230605 215.0 448.64240153509365\" stroke=\"purple\" stroke-width=\"2\"/><path d=\"M 195.0 448.64240153509365 215.0 448.64240153509365\" stroke=\"purple\" stroke-width=\"2\"/><path d=\"M 365.0 457.6867003838561 365.0 448.42825155728093\" stroke=\"yellow\" stroke-width=\"2\"/><path d=\"M 385.0 500.95896772550464 385.0 448.42825155728093\" stroke=\"yellow\" stroke-width=\"2\"/><path d=\"M 365.0 448.42825155728093 385.0 448.42825155728093\" stroke=\"yellow\" stroke-width=\"2\"/><path d=\"M 130.0 510 130.0 448.41675349505095\" stroke=\"green\" stroke-width=\"2\"/><path d=\"M 145.0 474.4848353038294 145.0 448.41675349505095\" stroke=\"green\" stroke-width=\"2\"/><path d=\"M 130.0 448.41675349505095 145.0 448.41675349505095\" stroke=\"green\" stroke-width=\"2\"/><path d=\"M 57.5 464.96637256373907 57.5 438.66951562746846\" stroke=\"green\" stroke-width=\"2\"/><path d=\"M 98.75 468.3974571777421 98.75 438.66951562746846\" stroke=\"green\" stroke-width=\"2\"/><path d=\"M 57.5 438.66951562746846 98.75 438.66951562746846\" stroke=\"green\" stroke-width=\"2\"/><path d=\"M 545.0 471.74031151425527 545.0 437.7852933999277\" stroke=\"blue\" stroke-width=\"2\"/><path d=\"M 560.0 510 560.0 437.7852933999277\" stroke=\"blue\" stroke-width=\"2\"/><path d=\"M 545.0 437.7852933999277 560.0 437.7852933999277\" stroke=\"blue\" stroke-width=\"2\"/><path d=\"M 285.0 494.13408880486304 285.0 427.5005454283224\" stroke=\"purple\" stroke-width=\"2\"/><path d=\"M 300.0 510 300.0 427.5005454283224\" stroke=\"purple\" stroke-width=\"2\"/><path d=\"M 285.0 427.5005454283224 300.0 427.5005454283224\" stroke=\"purple\" stroke-width=\"2\"/><path d=\"M 745.0 483.7972876390656 745.0 423.7360895764687\" stroke=\"red\" stroke-width=\"2\"/><path d=\"M 765.0 484.8710319456701 765.0 423.7360895764687\" stroke=\"red\" stroke-width=\"2\"/><path d=\"M 745.0 423.7360895764687 765.0 423.7360895764687\" stroke=\"red\" stroke-width=\"2\"/><path d=\"M 78.125 438.66951562746846 78.125 419.2472189151099\" stroke=\"green\" stroke-width=\"2\"/><path d=\"M 120.0 510 120.0 419.2472189151099\" stroke=\"green\" stroke-width=\"2\"/><path d=\"M 78.125 419.2472189151099 120.0 419.2472189151099\" stroke=\"green\" stroke-width=\"2\"/><path d=\"M 867.5 461.01821552360394 867.5 416.04571286142357\" stroke=\"orange\" stroke-width=\"2\"/><path d=\"M 913.75 496.30581893256726 913.75 416.04571286142357\" stroke=\"orange\" stroke-width=\"2\"/><path d=\"M 867.5 416.04571286142357 913.75 416.04571286142357\" stroke=\"orange\" stroke-width=\"2\"/><path d=\"M 552.5 437.7852933999277 552.5 414.77231796608964\" stroke=\"blue\" stroke-width=\"2\"/><path d=\"M 581.25 474.0343998536539 581.25 414.77231796608964\" stroke=\"blue\" stroke-width=\"2\"/><path d=\"M 552.5 414.77231796608964 581.25 414.77231796608964\" stroke=\"blue\" stroke-width=\"2\"/><path d=\"M 497.5 451.7890915717144 497.5 409.53160156182605\" stroke=\"blue\" stroke-width=\"2\"/><path d=\"M 530.0 510 530.0 409.53160156182605\" stroke=\"blue\" stroke-width=\"2\"/><path d=\"M 497.5 409.53160156182605 530.0 409.53160156182605\" stroke=\"blue\" stroke-width=\"2\"/><path d=\"M 99.0625 419.2472189151099 99.0625 406.81141122410355\" stroke=\"green\" stroke-width=\"2\"/><path d=\"M 137.5 448.41675349505095 137.5 406.81141122410355\" stroke=\"green\" stroke-width=\"2\"/><path d=\"M 99.0625 406.81141122410355 137.5 406.81141122410355\" stroke=\"green\" stroke-width=\"2\"/><path d=\"M 825.0 470.8589038369608 825.0 406.22924078692233\" stroke=\"fuchsia\" stroke-width=\"2\"/><path d=\"M 850.0 510 850.0 406.22924078692233\" stroke=\"fuchsia\" stroke-width=\"2\"/><path d=\"M 825.0 406.22924078692233 850.0 406.22924078692233\" stroke=\"fuchsia\" stroke-width=\"2\"/><path d=\"M 755.0 423.7360895764687 755.0 402.29902568515365\" stroke=\"red\" stroke-width=\"2\"/><path d=\"M 792.5 472.18037830959275 792.5 402.29902568515365\" stroke=\"red\" stroke-width=\"2\"/><path d=\"M 755.0 402.29902568515365 792.5 402.29902568515365\" stroke=\"red\" stroke-width=\"2\"/><path d=\"M 170.0 510 170.0 397.5269349215739\" stroke=\"olive\" stroke-width=\"2\"/><path d=\"M 180.0 510 180.0 397.5269349215739\" stroke=\"olive\" stroke-width=\"2\"/><path d=\"M 170.0 397.5269349215739 180.0 397.5269349215739\" stroke=\"olive\" stroke-width=\"2\"/><path d=\"M 970.0 486.2958948669565 970.0 395.55655559386986\" stroke=\"orange\" stroke-width=\"2\"/><path d=\"M 1000.0 510 1000.0 395.55655559386986\" stroke=\"orange\" stroke-width=\"2\"/><path d=\"M 970.0 395.55655559386986 1000.0 395.55655559386986\" stroke=\"orange\" stroke-width=\"2\"/><path d=\"M 412.5 474.88040277904275 412.5 393.44217637459406\" stroke=\"blue\" stroke-width=\"2\"/><path d=\"M 445.0 449.4915113562063 445.0 393.44217637459406\" stroke=\"blue\" stroke-width=\"2\"/><path d=\"M 412.5 393.44217637459406 445.0 393.44217637459406\" stroke=\"blue\" stroke-width=\"2\"/><path d=\"M 566.875 414.77231796608964 566.875 388.8905023316155\" stroke=\"blue\" stroke-width=\"2\"/><path d=\"M 615.0 462.79248241151504 615.0 388.8905023316155\" stroke=\"blue\" stroke-width=\"2\"/><path d=\"M 566.875 388.8905023316155 615.0 388.8905023316155\" stroke=\"blue\" stroke-width=\"2\"/><path d=\"M 15.0 482.19222998636945 15.0 388.85363158981113\" stroke=\"green\" stroke-width=\"2\"/><path d=\"M 35.0 494.06853053411885 35.0 388.85363158981113\" stroke=\"green\" stroke-width=\"2\"/><path d=\"M 15.0 388.85363158981113 35.0 388.85363158981113\" stroke=\"green\" stroke-width=\"2\"/><path d=\"M 118.28125 406.81141122410355 118.28125 384.4534636849065\" stroke=\"green\" stroke-width=\"2\"/><path d=\"M 160.0 510 160.0 384.4534636849065\" stroke=\"green\" stroke-width=\"2\"/><path d=\"M 118.28125 384.4534636849065 160.0 384.4534636849065\" stroke=\"green\" stroke-width=\"2\"/><path d=\"M 205.0 448.64240153509365 205.0 369.79365784789115\" stroke=\"purple\" stroke-width=\"2\"/><path d=\"M 248.75 466.1386091304902 248.75 369.79365784789115\" stroke=\"purple\" stroke-width=\"2\"/><path d=\"M 205.0 369.79365784789115 248.75 369.79365784789115\" stroke=\"purple\" stroke-width=\"2\"/><path d=\"M 513.75 409.53160156182605 513.75 360.48274134108124\" stroke=\"blue\" stroke-width=\"2\"/><path d=\"M 590.9375 388.8905023316155 590.9375 360.48274134108124\" stroke=\"blue\" stroke-width=\"2\"/><path d=\"M 513.75 360.48274134108124 590.9375 360.48274134108124\" stroke=\"blue\" stroke-width=\"2\"/><path d=\"M 226.875 369.79365784789115 226.875 343.9381433246142\" stroke=\"purple\" stroke-width=\"2\"/><path d=\"M 292.5 427.5005454283224 292.5 343.9381433246142\" stroke=\"purple\" stroke-width=\"2\"/><path d=\"M 226.875 343.9381433246142 292.5 343.9381433246142\" stroke=\"purple\" stroke-width=\"2\"/><path d=\"M 333.75 450.25298126977026 333.75 336.8077094854465\" stroke=\"yellow\" stroke-width=\"2\"/><path d=\"M 375.0 448.42825155728093 375.0 336.8077094854465\" stroke=\"yellow\" stroke-width=\"2\"/><path d=\"M 333.75 336.8077094854465 375.0 336.8077094854465\" stroke=\"yellow\" stroke-width=\"2\"/><path d=\"M 890.625 416.04571286142357 890.625 333.178105097328\" stroke=\"orange\" stroke-width=\"2\"/><path d=\"M 985.0 395.55655559386986 985.0 333.178105097328\" stroke=\"orange\" stroke-width=\"2\"/><path d=\"M 890.625 333.178105097328 985.0 333.178105097328\" stroke=\"orange\" stroke-width=\"2\"/><path d=\"M 702.65625 449.3692621760205 702.65625 329.5892750694662\" stroke=\"red\" stroke-width=\"2\"/><path d=\"M 773.75 402.29902568515365 773.75 329.5892750694662\" stroke=\"red\" stroke-width=\"2\"/><path d=\"M 702.65625 329.5892750694662 773.75 329.5892750694662\" stroke=\"red\" stroke-width=\"2\"/><path d=\"M 25.0 388.85363158981113 25.0 318.34272723426943\" stroke=\"green\" stroke-width=\"2\"/><path d=\"M 139.140625 384.4534636849065 139.140625 318.34272723426943\" stroke=\"green\" stroke-width=\"2\"/><path d=\"M 25.0 318.34272723426943 139.140625 318.34272723426943\" stroke=\"green\" stroke-width=\"2\"/><path d=\"M 428.75 393.44217637459406 428.75 316.7744385296705\" stroke=\"blue\" stroke-width=\"2\"/><path d=\"M 552.34375 360.48274134108124 552.34375 316.7744385296705\" stroke=\"blue\" stroke-width=\"2\"/><path d=\"M 428.75 316.7744385296705 552.34375 316.7744385296705\" stroke=\"blue\" stroke-width=\"2\"/><path d=\"M 82.0703125 318.34272723426943 82.0703125 310.44215934135\" stroke=\"black\" stroke-width=\"2\"/><path d=\"M 175.0 397.5269349215739 175.0 310.44215934135\" stroke=\"black\" stroke-width=\"2\"/><path d=\"M 82.0703125 310.44215934135 175.0 310.44215934135\" stroke=\"black\" stroke-width=\"2\"/><path d=\"M 128.53515625 310.44215934135 128.53515625 282.81416271249725\" stroke=\"black\" stroke-width=\"2\"/><path d=\"M 259.6875 343.9381433246142 259.6875 282.81416271249725\" stroke=\"black\" stroke-width=\"2\"/><path d=\"M 128.53515625 282.81416271249725 259.6875 282.81416271249725\" stroke=\"black\" stroke-width=\"2\"/><path d=\"M 738.203125 329.5892750694662 738.203125 260.09755026376774\" stroke=\"black\" stroke-width=\"2\"/><path d=\"M 837.5 406.22924078692233 837.5 260.09755026376774\" stroke=\"black\" stroke-width=\"2\"/><path d=\"M 738.203125 260.09755026376774 837.5 260.09755026376774\" stroke=\"black\" stroke-width=\"2\"/><path d=\"M 787.8515625 260.09755026376774 787.8515625 226.22070144081346\" stroke=\"black\" stroke-width=\"2\"/><path d=\"M 937.8125 333.178105097328 937.8125 226.22070144081346\" stroke=\"black\" stroke-width=\"2\"/><path d=\"M 787.8515625 226.22070144081346 937.8125 226.22070144081346\" stroke=\"black\" stroke-width=\"2\"/><path d=\"M 194.111328125 282.81416271249725 194.111328125 207.33243159388257\" stroke=\"black\" stroke-width=\"2\"/><path d=\"M 354.375 336.8077094854465 354.375 207.33243159388257\" stroke=\"black\" stroke-width=\"2\"/><path d=\"M 194.111328125 207.33243159388257 354.375 207.33243159388257\" stroke=\"black\" stroke-width=\"2\"/><path d=\"M 274.2431640625 207.33243159388257 274.2431640625 93.57154711095137\" stroke=\"black\" stroke-width=\"2\"/><path d=\"M 490.546875 316.7744385296705 490.546875 93.57154711095137\" stroke=\"black\" stroke-width=\"2\"/><path d=\"M 274.2431640625 93.57154711095137 490.546875 93.57154711095137\" stroke=\"black\" stroke-width=\"2\"/><path d=\"M 382.39501953125 93.57154711095137 382.39501953125 10.0\" stroke=\"black\" stroke-width=\"2\"/><path d=\"M 862.83203125 226.22070144081346 862.83203125 10.0\" stroke=\"black\" stroke-width=\"2\"/><path d=\"M 382.39501953125 10.0 862.83203125 10.0\" stroke=\"black\" stroke-width=\"2\"/></svg>"
          },
          "metadata": {},
          "execution_count": 644
        }
      ]
    },
    {
      "cell_type": "markdown",
      "source": [
        "**Metrics**"
      ],
      "metadata": {
        "id": "CHLK71_EhbxC"
      }
    },
    {
      "cell_type": "code",
      "source": [
        "nodelist = list(G_reduced.nodes)\n",
        "labels = list(cut_straight(dendrogram, n_clusters=8, return_dendrogram=False))\n",
        "\n",
        "community_dend = [[],[],[],[],[],[],[],[]]\n",
        "i = 0\n",
        "for node in nodelist:\n",
        "  community_dend[labels[i]].append(node)\n",
        "  i += 1\n",
        "\n",
        "_ = compute_metrics(G_reduced, community_dend)"
      ],
      "metadata": {
        "colab": {
          "base_uri": "https://localhost:8080/"
        },
        "outputId": "3ff9835d-cfb4-4a2e-e08a-899b389e56e0",
        "id": "jW4VlzHlhbxC"
      },
      "execution_count": 645,
      "outputs": [
        {
          "output_type": "stream",
          "name": "stdout",
          "text": [
            "Coverage:  0.33424657534246577\n",
            "Performance:  0.7763636363636364\n",
            "Modularity:  0.24371611441712127\n"
          ]
        }
      ]
    },
    {
      "cell_type": "markdown",
      "source": [
        "### Big clam"
      ],
      "metadata": {
        "id": "yffGUDAKUKPL"
      }
    },
    {
      "cell_type": "code",
      "source": [
        "G_copy = G.copy()\n",
        "G_copy = nx.convert_node_labels_to_integers(G_copy, first_label=0, ordering='sorted')\n",
        "\n",
        "index_list = [index for index in range(G.number_of_nodes())]\n",
        "node_list = sorted([node for node in G.nodes()])\n",
        "\n",
        "clusters = big_clam(G_copy)\n",
        "communities = clusters.communities\n",
        "\n",
        "dictionary_bigClam = {}\n",
        "for idx in index_list:\n",
        "  dictionary_bigClam[idx] = node_list[idx]\n",
        "\n",
        "print('Number of communities:', len(communities))"
      ],
      "metadata": {
        "colab": {
          "base_uri": "https://localhost:8080/"
        },
        "outputId": "daff4cd9-5a07-438f-8332-ab3eaeb50cf3",
        "id": "SFFdEBTvUKPM"
      },
      "execution_count": 165,
      "outputs": [
        {
          "output_type": "stream",
          "name": "stdout",
          "text": [
            "Number of communities: 4\n"
          ]
        }
      ]
    },
    {
      "cell_type": "code",
      "source": [
        "bigClam_comm = [[],[],[],[]]\n",
        "for c in range(len(communities)):\n",
        "  for idx in range(len(communities[c])):\n",
        "    bigClam_comm[c].append(dictionary_bigClam[communities[c][idx]])\n",
        "\n",
        "print(bigClam_comm[0])\n",
        "print(bigClam_comm[1])\n",
        "print(bigClam_comm[2])"
      ],
      "metadata": {
        "colab": {
          "base_uri": "https://localhost:8080/"
        },
        "outputId": "1e1c6b49-7706-4f85-a00b-f22d0c523c6b",
        "id": "ikIdlir8UKPM"
      },
      "execution_count": 166,
      "outputs": [
        {
          "output_type": "stream",
          "name": "stdout",
          "text": [
            "['across', 'add', 'administer', 'administration', 'adult', 'agency', 'air', 'allow', 'amid', 'among', 'analysis', 'animal', 'announce', 'another', 'antibody', 'approval', 'approve', 'around', 'arrive', 'ask', 'australia', 'authority', 'authorization', 'average', 'back', 'bad', 'ban', 'base', 'batch', 'become', 'begin', 'benefit', 'big', 'billion', 'black', 'block', 'boost', 'brain', 'break', 'breaking', 'bring', 'british', 'call', 'campaign', 'canada', 'care', 'cause', 'change', 'chief', 'child', 'chile', 'cite', 'city', 'close', 'come', 'committee', 'company', 'concern', 'confirm', 'consider', 'continue', 'contract', 'control', 'could', 'coverage', 'crisis', 'daily', 'data', 'deal', 'decide', 'decision', 'decline', 'deliver', 'delivery', 'detect', 'develop', 'director', 'disease', 'disorder', 'doctor', 'donate', 'double', 'drive', 'drug', 'due', 'early', 'ease', 'economy', 'effect', 'effective', 'efficacy', 'effort', 'emergency', 'end', 'even', 'event', 'ever', 'every', 'exclusive', 'executive', 'expand', 'expect', 'expert', 'export', 'extra', 'face', 'facebook', 'fall', 'fauci', 'fear', 'federal', 'fight', 'find', 'five', 'follow', 'forecast', 'foreign', 'former', 'forward', 'fourth', 'france', 'free', 'french', 'fully', 'fund', 'game', 'germany', 'global', 'goal', 'government', 'group', 'growth', 'half', 'hard', 'hit', 'home', 'hop', 'hope', 'hospital', 'hospitalization', 'hour', 'house', 'illness', 'impact', 'include', 'increase', 'infectious', 'information', 'inoculation', 'institute', 'intensive', 'investigate', 'investigation', 'issue', 'jab', 'japan', 'joe', 'join', 'know', 'large', 'last', 'late', 'launch', 'lead', 'leader', 'least', 'level', 'life', 'like', 'likely', 'limit', 'link', 'local', 'long', 'look', 'lose', 'low', 'major', 'make', 'maker', 'many', 'march', 'mark', 'mask', 'mass', 'may', 'medical', 'medicine', 'medium', 'meet', 'michigan', 'minister', 'ministry', 'misinformation', 'much', 'must', 'nation', 'national', 'need', 'news', 'next', 'number', 'offer', 'office', 'old', 'open', 'order', 'organization', 'outweigh', 'overseas', 'part', 'pass', 'passport', 'patient', 'pause', 'person', 'plan', 'population', 'positive', 'possible', 'potential', 'prevent', 'prevention', 'prime', 'problem', 'produce', 'program', 'protect', 'protection', 'province', 'public', 'rare', 'reach', 'reason', 'recommend', 'record', 'regulator', 'release', 'remain', 'reopen', 'require', 'research', 'researcher', 'response', 'restriction', 'result', 'resume', 'review', 'right', 'rise', 'russia', 'safe', 'safety', 'school', 'scientist', 'secretary', 'see', 'seek', 'send', 'senior', 'service', 'seven', 'several', 'share', 'shipment', 'show', 'side', 'sign', 'since', 'single', 'site', 'six', 'slow', 'social', 'soon', 'source', 'south', 'speak', 'special', 'spike', 'spread', 'start', 'still', 'stop', 'strain', 'student', 'study', 'suffer', 'supply', 'surge', 'surpass', 'suspend', 'symptomatic', 'take', 'target', 'team', 'thailand', 'third', 'threat', 'threaten', 'three', 'time', 'tokyo', 'top', 'total', 'track', 'travel', 'trial', 'trump', 'two', 'union', 'united', 'university', 'update', 'vaccinate', 'variant', 'virus', 'want', 'war', 'warn', 'wave', 'way', 'well', 'white', 'win', 'within', 'without', 'woman', 'worker', 'york', 'young', 'yunnan']\n",
            "['accord', 'african', 'age', 'blood', 'brazil', 'case', 'china', 'clinical', 'clot', 'commission', 'country', 'day', 'death', 'delay', 'dos', 'dose', 'economic', 'eligible', 'far', 'first', 'get', 'give', 'governor', 'health', 'help', 'high', 'india', 'international', 'johnson', 'korea', 'live', 'million', 'nearly', 'new', 'official', 'one', 'origin', 'pandemic', 'people', 'president', 'rate', 'receive', 'register', 'report', 'say', 'set', 'severe', 'shot', 'state', 'test', 'toll', 'urge', 'use', 'vaccination', 'watch', 'week', 'work', 'world', 'would', 'year']\n",
            "['infection', 'month', 'risk', 'second']\n"
          ]
        }
      ]
    },
    {
      "cell_type": "code",
      "source": [
        "for node in G.nodes():\n",
        "  if node in bigClam_comm[0] and node in bigClam_comm[1]:\n",
        "    print(node + ' is present in communities 0 and 1')\n",
        "  if node in bigClam_comm[0] and node in bigClam_comm[2]:\n",
        "    print(node + ' is present in communities 0 and 2')\n",
        "  if node in bigClam_comm[0] and node in bigClam_comm[3]:\n",
        "    print(node + ' is present in communities 1 and 2')\n",
        "  if node in bigClam_comm[1] and node in bigClam_comm[2]:\n",
        "    print(node + ' is present in communities 0 and 1')\n",
        "  if node in bigClam_comm[1] and node in bigClam_comm[3]:\n",
        "    print(node + ' is present in communities 0 and 2')\n",
        "  if node in bigClam_comm[2] and node in bigClam_comm[3]:\n",
        "    print(node + ' is present in communities 1 and 2')"
      ],
      "metadata": {
        "id": "8KhLwZmIUKPM"
      },
      "execution_count": 168,
      "outputs": []
    },
    {
      "cell_type": "markdown",
      "source": [
        "no overlapping"
      ],
      "metadata": {
        "id": "2RCJW7LmUKPM"
      }
    },
    {
      "cell_type": "code",
      "source": [
        "threshold = 0.001\n",
        "for i in range(len(bigClam_comm)):\n",
        "  sum_China, sum_USA, sum_China_USA = community_check(bigClam_comm[i], freq_dict_China, freq_dict_USA, G_China, G_USA, threshold)\n",
        "  print('Community: ', i)\n",
        "  print('China: ', round(100 * sum_China / len(bigClam_comm[i])),'%')\n",
        "  print('USA: ', round(100 * sum_USA / len(bigClam_comm[i])),'%')\n",
        "  print('China&USA: ', round(100 * sum_China_USA / len(bigClam_comm[i])),'%')\n",
        "  print()"
      ],
      "metadata": {
        "colab": {
          "base_uri": "https://localhost:8080/"
        },
        "outputId": "66370121-fa52-4118-a61a-13e57e7dae27",
        "id": "XdmZZ7X5UKPM"
      },
      "execution_count": 169,
      "outputs": [
        {
          "output_type": "stream",
          "name": "stdout",
          "text": [
            "Community:  0\n",
            "China:  5 %\n",
            "USA:  17 %\n",
            "China&USA:  77 %\n",
            "\n",
            "Community:  1\n",
            "China:  20 %\n",
            "USA:  7 %\n",
            "China&USA:  73 %\n",
            "\n",
            "Community:  2\n",
            "China:  0 %\n",
            "USA:  0 %\n",
            "China&USA:  100 %\n",
            "\n",
            "Community:  3\n",
            "China:  50 %\n",
            "USA:  0 %\n",
            "China&USA:  50 %\n",
            "\n"
          ]
        }
      ]
    },
    {
      "cell_type": "markdown",
      "source": [
        "**Metrics**"
      ],
      "metadata": {
        "id": "5BfbWPEWUKPM"
      }
    },
    {
      "cell_type": "code",
      "source": [
        "_ = compute_metrics(G, bigClam_comm)"
      ],
      "metadata": {
        "colab": {
          "base_uri": "https://localhost:8080/"
        },
        "outputId": "455a9913-788f-4895-c2b3-9719e825c4a1",
        "id": "sExqfBjeUKPM"
      },
      "execution_count": 170,
      "outputs": [
        {
          "output_type": "stream",
          "name": "stdout",
          "text": [
            "Coverage:  0.39913544668587897\n",
            "Performance:  0.27669835322709263\n",
            "Modularity:  -0.033367932337866744\n"
          ]
        }
      ]
    },
    {
      "cell_type": "markdown",
      "source": [
        "#### display"
      ],
      "metadata": {
        "id": "tIOhhfhoUKPM"
      }
    },
    {
      "cell_type": "code",
      "source": [
        "colors = list(G.nodes)\n",
        "i = 0\n",
        "dict_nodes = {}\n",
        "for node in colors:\n",
        "  if node in bigClam_comm[0]:\n",
        "    colors[i] = 'violet'\n",
        "    dict_nodes[node] = 0\n",
        "  if node in bigClam_comm[1]:\n",
        "    colors[i] = 'lightcoral'\n",
        "    dict_nodes[node] = 1\n",
        "  if node in bigClam_comm[2]:\n",
        "    colors[i] = 'lawngreen'\n",
        "    dict_nodes[node] = 2\n",
        "  i += 1"
      ],
      "metadata": {
        "id": "3gG2KEHvUKPM"
      },
      "execution_count": null,
      "outputs": []
    },
    {
      "cell_type": "code",
      "source": [
        "pos = community_layout(G, dict_nodes)\n",
        "fig = plt.figure(1, figsize=(200, 80), dpi=60)\n",
        "nx.draw_networkx(G, pos, node_color=colors, node_size=5000, with_labels=True,\n",
        "                 font_size =50,width=0.05)\n",
        "plt.show()"
      ],
      "metadata": {
        "id": "sLLPQu-ZUKPM"
      },
      "execution_count": null,
      "outputs": []
    },
    {
      "cell_type": "markdown",
      "source": [
        "# PageRank Networks: inside/outside separate"
      ],
      "metadata": {
        "id": "dycEp0JEBbPx"
      }
    },
    {
      "cell_type": "markdown",
      "source": [
        "## **All periods**"
      ],
      "metadata": {
        "id": "w8_mBjW0BbPy"
      }
    },
    {
      "cell_type": "markdown",
      "source": [
        "### Download data"
      ],
      "metadata": {
        "id": "ybDRwR6FBbPy"
      }
    },
    {
      "cell_type": "code",
      "source": [
        "edges_China = pd.read_csv('/content/edgelist_China.csv')\n",
        "edges_USA = pd.read_csv('/content/edgelist_USA.csv')\n",
        "\n",
        "net_China, _ = network_from_edges(edges_China)\n",
        "net_USA, _ = network_from_edges(edges_USA)\n",
        "\n",
        "G_China = get_graph(net_China)\n",
        "G_USA = get_graph(net_USA)"
      ],
      "metadata": {
        "id": "-t-qtFXmBbPy"
      },
      "execution_count": 434,
      "outputs": []
    },
    {
      "cell_type": "code",
      "source": [
        "print('USA is connected: ', nx.is_connected(G_USA))\n",
        "print('China is connected: ', nx.is_connected(G_China))"
      ],
      "metadata": {
        "colab": {
          "base_uri": "https://localhost:8080/"
        },
        "id": "Z4jZSmhuXBGR",
        "outputId": "5599bee3-61d6-46bd-df1d-8ef878ec3dfc"
      },
      "execution_count": 435,
      "outputs": [
        {
          "output_type": "stream",
          "name": "stdout",
          "text": [
            "USA is connected:  True\n",
            "China is connected:  False\n"
          ]
        }
      ]
    },
    {
      "cell_type": "code",
      "source": [
        "for c in nx.connected_components(G_China):\n",
        "  print(c)"
      ],
      "metadata": {
        "colab": {
          "base_uri": "https://localhost:8080/"
        },
        "id": "uJEHLWjgCWrx",
        "outputId": "fe5db3e7-7588-4a77-a266-a5a5bb579b5c"
      },
      "execution_count": 436,
      "outputs": [
        {
          "output_type": "stream",
          "name": "stdout",
          "text": [
            "{'record', 'wave', 'urge', 'build', 'single', 'launch', 'express', 'start', 'step', 'country', 'phone', 'look', 'emergency', 'brazil', 'due', 'traditional', 'complete', 'leave', 'rise', 'ambassador', 'clinical', 'cause', 'surpass', 'first', 'detect', 'update', 'front', 'man', 'office', 'aid', 'effect', 'south', 'community', 'medical', 'issue', 'miss', 'sign', 'headline', 'combat', 'deal', 'trade', 'send', 'mask', 'japan', 'continue', 'symptom', 'mark', 'official', 'quarantine', 'concern', 'ensure', 'plasma', 'makeshift', 'become', 'top', 'prevention', 'tourism', 'register', 'wife', 'president', 'also', 'way', 'critical', 'link', 'taiwan', 'allow', 'coronavirus', 'die', 'check', 'director', 'release', 'dose', 'expect', 'confident', 'france', 'close', 'child', 'work', 'hubei', 'include', 'school', 'amid', 'spring', 'take', 'good', 'reporter', 'least', 'nearly', 'end', 'state', 'agency', 'safe', 'campaign', 'white', 'situation', 'join', 'nation', 'result', 'measure', 'jab', 'effort', 'staff', 'overseas', 'curb', 'world', 'family', 'pneumonia', 'help', 'march', 'transmit', 'stop', 'possible', 'xinhua', 'still', 'global', 'mild', 'economy', 'confirm', 'facility', 'say', 'health', 'low', 'secretary', 'vaccination', 'team', 'resident', 'epidemic', 'old', 'pandemic', 'prime', 'house', 'chief', 'reopen', 'twitter', 'test', 'return', 'get', 'like', 'treatment', 'general', 'remain', 'area', 'keep', 'qingdao', 'wish', 'population', 'condition', 'night', 'seven', 'boost', 'trump', 'part', 'experience', 'military', 'information', 'across', 'flight', 'add', 'brief', 'recovery', 'early', 'company', 'suspect', 'four', 'care', 'capital', 'solidarity', 'strong', 'asian', 'fully', 'receive', 'festival', 'large', 'together', 'billion', 'extend', 'hand', 'china', 'last', 'open', 'love', 'long', 'million', 'construction', 'follow', 'back', 'vice', 'story', 'african', 'line', 'cruise', 'donate', 'infection', 'pass', 'confidence', 'student', 'hospital', 'would', 'risk', 'lead', 'new', 'death', 'drop', 'university', 'national', 'hong', 'origin', 'video', 'find', 'clot', 'fund', 'spike', 'warn', 'holiday', 'people', 'effective', 'donation', 'week', 'hold', 'negative', 'vaccinate', 'order', 'region', 'one', 'bed', 'past', 'reach', 'contain', 'trial', 'surge', 'chile', 'well', 'home', 'system', 'conference', 'kill', 'life', 'next', 'positive', 'stay', 'read', 'impact', 'jinping', 'executive', 'consecutive', 'shanghai', 'total', 'authority', 'research', 'head', 'travel', 'diagnosis', 'dollar', 'russia', 'joint', 'see', 'dos', 'another', 'york', 'fight', 'variant', 'import', 'contact', 'base', 'india', 'prevent', 'increase', 'age', 'opinion', 'organization', 'medicine', 'within', 'five', 'central', 'protect', 'support', 'disease', 'case', 'social', 'resume', 'east', 'suspend', 'two', 'market', 'production', 'set', 'level', 'minister', 'city', 'recover', 'late', 'use', 'virus', 'news', 'italy', 'meet', 'baby', 'free', 'stand', 'big', 'plan', 'doctor', 'data', 'far', 'grow', 'service', 'model', 'deliver', 'around', 'industry', 'give', 'drug', 'medium', 'visit', 'batch', 'inside', 'hard', 'safety', 'year', 'approve', 'government', 'claim', 'drive', 'arrive', 'shot', 'response', 'face', 'call', 'many', 'number', 'johnson', 'second', 'spread', 'despite', 'announce', 'cure', 'korea', 'currently', 'leader', 'may', 'live', 'post', 'suspected', 'local', 'economic', 'novel', 'since', 'expert', 'month', 'side', 'press', 'medic', 'administer', 'report', 'watch', 'develop', 'daily', 'public', 'ship', 'center', 'special', 'come', 'severe', 'leishenshan', 'germany', 'infect', 'province', 'researcher', 'outbreak', 'foreign', 'beijing', 'hope', 'move', 'statement', 'party', 'control', 'study', 'transmission', 'accord', 'supply', 'governor', 'outside', 'passenger', 'discharge', 'toll', 'produce', 'acid', 'yunnan', 'provide', 'challenge', 'international', 'percent', 'show', 'self', 'anti', 'woman', 'commission', 'bring', 'could', 'restriction', 'epicenter', 'figure', 'period', 'begin', 'third', 'blood', 'put', 'group', 'day', 'time', 'win', 'share', 'africa', 'united', 'senior', 'cite', 'battle', 'macao', 'full', 'institute', 'hit', 'six', 'hour', 'treat', 'make', 'offer', 'vaccine', 'ministry', 'worker', 'business', 'wang', 'tourist', 'rate', 'tell', 'covid', 'high', 'development', 'patient', 'talk', 'three', 'confirmed', 'relate', 'need', 'nurse'}\n",
            "{'non', 'essential'}\n"
          ]
        }
      ]
    },
    {
      "cell_type": "code",
      "source": [
        "G_China.remove_node('non')\n",
        "G_China.remove_node('essential')\n",
        "G_China.remove_node('coronavirus')\n",
        "G_China.remove_node('covid')\n",
        "G_China.remove_node('vaccine')\n",
        "\n",
        "G_USA.remove_node('coronavirus')\n",
        "G_USA.remove_node('covid')\n",
        "G_USA.remove_node('vaccine')"
      ],
      "metadata": {
        "id": "_AQTz-vXCjO7"
      },
      "execution_count": 437,
      "outputs": []
    },
    {
      "cell_type": "code",
      "source": [
        "print('USA is connected: ', nx.is_connected(G_USA))\n",
        "print('China is connected: ', nx.is_connected(G_China))"
      ],
      "metadata": {
        "colab": {
          "base_uri": "https://localhost:8080/"
        },
        "outputId": "2ad35568-94ea-488e-d81a-0654aeab192b",
        "id": "-D9sCKohW80x"
      },
      "execution_count": 438,
      "outputs": [
        {
          "output_type": "stream",
          "name": "stdout",
          "text": [
            "USA is connected:  True\n",
            "China is connected:  False\n"
          ]
        }
      ]
    },
    {
      "cell_type": "code",
      "source": [
        "for c in nx.connected_components(G_China):\n",
        "  print(c)"
      ],
      "metadata": {
        "colab": {
          "base_uri": "https://localhost:8080/"
        },
        "id": "ziZmhZelXSdX",
        "outputId": "155c917f-d94e-4f67-aad5-3c51299293a9"
      },
      "execution_count": 439,
      "outputs": [
        {
          "output_type": "stream",
          "name": "stdout",
          "text": [
            "{'record', 'wave', 'build', 'single', 'launch', 'express', 'start', 'step', 'country', 'phone', 'look', 'emergency', 'brazil', 'due', 'traditional', 'complete', 'leave', 'rise', 'ambassador', 'clinical', 'cause', 'surpass', 'first', 'detect', 'update', 'front', 'man', 'aid', 'effect', 'south', 'community', 'medical', 'issue', 'miss', 'sign', 'headline', 'combat', 'deal', 'trade', 'send', 'mask', 'japan', 'continue', 'symptom', 'official', 'quarantine', 'concern', 'ensure', 'plasma', 'makeshift', 'become', 'top', 'prevention', 'tourism', 'register', 'wife', 'president', 'also', 'way', 'critical', 'link', 'taiwan', 'die', 'check', 'director', 'release', 'dose', 'expect', 'confident', 'close', 'child', 'work', 'hubei', 'include', 'amid', 'spring', 'take', 'good', 'reporter', 'least', 'nearly', 'end', 'state', 'agency', 'safe', 'white', 'situation', 'join', 'nation', 'result', 'measure', 'jab', 'effort', 'staff', 'overseas', 'curb', 'world', 'family', 'pneumonia', 'help', 'march', 'transmit', 'stop', 'possible', 'xinhua', 'still', 'global', 'mild', 'economy', 'confirm', 'facility', 'say', 'health', 'low', 'secretary', 'vaccination', 'team', 'resident', 'epidemic', 'old', 'pandemic', 'prime', 'house', 'chief', 'twitter', 'test', 'return', 'get', 'like', 'treatment', 'general', 'remain', 'area', 'keep', 'qingdao', 'wish', 'population', 'condition', 'seven', 'boost', 'trump', 'part', 'experience', 'military', 'information', 'across', 'flight', 'add', 'brief', 'recovery', 'company', 'suspect', 'four', 'capital', 'solidarity', 'strong', 'fully', 'receive', 'festival', 'large', 'together', 'billion', 'extend', 'hand', 'china', 'last', 'love', 'long', 'million', 'construction', 'follow', 'back', 'vice', 'story', 'african', 'line', 'cruise', 'donate', 'infection', 'pass', 'confidence', 'student', 'hospital', 'risk', 'lead', 'new', 'death', 'drop', 'university', 'national', 'hong', 'origin', 'video', 'find', 'clot', 'fund', 'spike', 'warn', 'holiday', 'people', 'effective', 'donation', 'week', 'hold', 'negative', 'vaccinate', 'region', 'one', 'bed', 'past', 'reach', 'contain', 'trial', 'surge', 'home', 'system', 'conference', 'kill', 'life', 'next', 'positive', 'stay', 'read', 'impact', 'jinping', 'executive', 'consecutive', 'total', 'authority', 'research', 'head', 'travel', 'diagnosis', 'dollar', 'russia', 'joint', 'see', 'dos', 'another', 'york', 'fight', 'variant', 'import', 'contact', 'base', 'india', 'prevent', 'increase', 'age', 'opinion', 'organization', 'medicine', 'within', 'five', 'central', 'protect', 'support', 'disease', 'case', 'social', 'resume', 'east', 'suspend', 'two', 'market', 'production', 'set', 'level', 'minister', 'city', 'recover', 'late', 'use', 'virus', 'news', 'italy', 'meet', 'baby', 'stand', 'plan', 'doctor', 'data', 'far', 'grow', 'service', 'model', 'deliver', 'around', 'industry', 'give', 'drug', 'medium', 'visit', 'batch', 'inside', 'hard', 'year', 'approve', 'government', 'arrive', 'shot', 'response', 'face', 'call', 'many', 'number', 'johnson', 'second', 'spread', 'despite', 'announce', 'cure', 'korea', 'leader', 'may', 'live', 'post', 'suspected', 'local', 'economic', 'novel', 'since', 'expert', 'month', 'side', 'press', 'medic', 'administer', 'report', 'watch', 'develop', 'daily', 'public', 'ship', 'center', 'special', 'come', 'severe', 'leishenshan', 'germany', 'infect', 'province', 'researcher', 'outbreak', 'foreign', 'beijing', 'move', 'statement', 'party', 'control', 'study', 'transmission', 'accord', 'supply', 'governor', 'outside', 'passenger', 'discharge', 'toll', 'produce', 'acid', 'yunnan', 'provide', 'challenge', 'international', 'show', 'self', 'anti', 'woman', 'commission', 'bring', 'could', 'restriction', 'epicenter', 'figure', 'period', 'begin', 'third', 'blood', 'put', 'group', 'day', 'time', 'win', 'share', 'africa', 'united', 'senior', 'cite', 'battle', 'macao', 'full', 'hit', 'six', 'hour', 'treat', 'make', 'offer', 'ministry', 'worker', 'wang', 'rate', 'tell', 'high', 'development', 'patient', 'talk', 'three', 'confirmed', 'need', 'nurse'}\n",
            "{'office'}\n",
            "{'tourist'}\n",
            "{'france'}\n",
            "{'care'}\n",
            "{'currently'}\n",
            "{'free'}\n",
            "{'big'}\n",
            "{'hope'}\n",
            "{'percent'}\n",
            "{'early'}\n",
            "{'urge'}\n",
            "{'order'}\n",
            "{'institute'}\n",
            "{'reopen', 'school'}\n",
            "{'open'}\n",
            "{'drive'}\n",
            "{'allow'}\n",
            "{'mark'}\n",
            "{'claim'}\n",
            "{'business'}\n",
            "{'campaign'}\n",
            "{'night'}\n",
            "{'asian'}\n",
            "{'chile'}\n",
            "{'relate'}\n",
            "{'well'}\n",
            "{'safety'}\n",
            "{'would'}\n",
            "{'shanghai'}\n"
          ]
        }
      ]
    },
    {
      "cell_type": "code",
      "source": [
        "disconn_keys = []\n",
        "for c in nx.connected_components(G_China):\n",
        "  if len(c) == 1:\n",
        "    disconn_keys.append(list(c)[0])\n",
        "  if len(c) == 2:\n",
        "    disconn_keys.append(list(c)[0])\n",
        "    disconn_keys.append(list(c)[1])\n",
        "\n",
        "for key in disconn_keys:\n",
        "  G_China.remove_node(key)"
      ],
      "metadata": {
        "id": "dA9H1SPFXVPT"
      },
      "execution_count": 440,
      "outputs": []
    },
    {
      "cell_type": "code",
      "source": [
        "print('China is connected: ', nx.is_connected(G_China))"
      ],
      "metadata": {
        "colab": {
          "base_uri": "https://localhost:8080/"
        },
        "id": "sdfjC7QpXsj_",
        "outputId": "af5f7fca-e331-41db-cc83-b5e7ec741cc4"
      },
      "execution_count": 441,
      "outputs": [
        {
          "output_type": "stream",
          "name": "stdout",
          "text": [
            "China is connected:  True\n"
          ]
        }
      ]
    },
    {
      "cell_type": "code",
      "source": [
        "print('China:')\n",
        "print('Nodes: ',len(G_China.nodes()))\n",
        "print('Edges: ',len(G_China.edges()))\n",
        "print('Is connected: ',nx.is_connected(G_China))\n",
        "print()\n",
        "print('USA:')\n",
        "print('Nodes: ',len(G_USA.nodes()))\n",
        "print('Edges: ',len(G_USA.edges()))\n",
        "print('Is connected: ',nx.is_connected(G_USA))\n",
        "print()"
      ],
      "metadata": {
        "outputId": "88003668-7979-4295-a9f7-7c986f6e4aa1",
        "colab": {
          "base_uri": "https://localhost:8080/"
        },
        "id": "uDQyEV5mBbPz"
      },
      "execution_count": 442,
      "outputs": [
        {
          "output_type": "stream",
          "name": "stdout",
          "text": [
            "China:\n",
            "Nodes:  411\n",
            "Edges:  2492\n",
            "Is connected:  True\n",
            "\n",
            "USA:\n",
            "Nodes:  518\n",
            "Edges:  7558\n",
            "Is connected:  True\n",
            "\n"
          ]
        }
      ]
    },
    {
      "cell_type": "code",
      "source": [
        "def threshold(vector,threshold):\n",
        "\n",
        "  l = [(el,vector[el]) for el in vector if vector[el] >= threshold ]\n",
        "\n",
        "  return pd.DataFrame(l)\n",
        "\n",
        "def threshold_reverse(vector,threshold):\n",
        "\n",
        "  l = [(el,vector[el]) for el in vector if vector[el] < threshold ]\n",
        "\n",
        "  return pd.DataFrame(l)"
      ],
      "metadata": {
        "id": "15O82solcD1M"
      },
      "execution_count": 443,
      "outputs": []
    },
    {
      "cell_type": "code",
      "source": [
        "# PageRank for reducing the graph\n",
        "pr_China = nx.algorithms.pagerank(G_China, alpha = 1)\n",
        "pr_China = dict(sorted(pr_China.items(), key=lambda item: item[1],reverse = True))\n",
        "\n",
        "thr_C = 0.001\n",
        "print(len(threshold(pr_China,thr_C)))\n",
        "\n",
        "pr_USA = nx.algorithms.pagerank(G_USA, alpha = 1)\n",
        "pr_USA = dict(sorted(pr_USA.items(), key=lambda item: item[1],reverse = True))\n",
        "\n",
        "thr_U = 0.00134\n",
        "print(len(threshold(pr_USA,thr_U)))"
      ],
      "metadata": {
        "outputId": "205bd7b9-f3bf-47e4-9429-4b5792de94f0",
        "colab": {
          "base_uri": "https://localhost:8080/"
        },
        "id": "OoN9l1dKBbPz"
      },
      "execution_count": 444,
      "outputs": [
        {
          "output_type": "stream",
          "name": "stdout",
          "text": [
            "150\n",
            "150\n"
          ]
        }
      ]
    },
    {
      "cell_type": "code",
      "source": [
        "G_reduced_China = G_China.copy()\n",
        "nodes_to_delete = list(threshold_reverse(pr_China,thr_C)[0])\n",
        "for n in nodes_to_delete:\n",
        "    G_reduced_China.remove_node(n)\n",
        "\n",
        "print(nx.is_connected(G_reduced_China))\n",
        "\n",
        "G_reduced_USA = G_USA.copy()\n",
        "nodes_to_delete = list(threshold_reverse(pr_USA,thr_U)[0])\n",
        "for n in nodes_to_delete:\n",
        "    G_reduced_USA.remove_node(n)\n",
        "\n",
        "print(nx.is_connected(G_reduced_USA))"
      ],
      "metadata": {
        "outputId": "377a171c-bec9-4456-8dda-238ce9c9efdc",
        "colab": {
          "base_uri": "https://localhost:8080/"
        },
        "id": "r0b3SBR_BbPz"
      },
      "execution_count": 445,
      "outputs": [
        {
          "output_type": "stream",
          "name": "stdout",
          "text": [
            "True\n",
            "True\n"
          ]
        }
      ]
    },
    {
      "cell_type": "markdown",
      "source": [
        "### Louvain Community Detection"
      ],
      "metadata": {
        "id": "kLqi-gceBbP7"
      }
    },
    {
      "cell_type": "markdown",
      "source": [
        "CHINA"
      ],
      "metadata": {
        "id": "hjD3V_vCELuX"
      }
    },
    {
      "cell_type": "code",
      "source": [
        "community_louv = community_louvain.best_partition(G_reduced_China,weight='weight')"
      ],
      "metadata": {
        "id": "XAchzWEjBbP7"
      },
      "execution_count": 455,
      "outputs": []
    },
    {
      "cell_type": "code",
      "source": [
        "max = np.max(list(community_louv.values()))\n",
        "community_louvain_list = []\n",
        "for i in range(max+1):\n",
        "  community_louvain_list.append([])\n",
        "for key in list(community_louv.keys()):\n",
        "  community_louvain_list[community_louv[key]].append(key)\n",
        "for i in range(max+1):\n",
        "  print(community_louvain_list[i])"
      ],
      "metadata": {
        "colab": {
          "base_uri": "https://localhost:8080/"
        },
        "outputId": "0dae06b7-f771-4688-d3f7-01f4cb3f5361",
        "id": "vjH-6_6CBbP8"
      },
      "execution_count": 456,
      "outputs": [
        {
          "output_type": "stream",
          "name": "stdout",
          "text": [
            "['china', 'novel', 'people', 'medium', 'make', 'take', 'medical', 'worker', 'across', 'outbreak', 'support', 'help', 'fight', 'express', 'contain', 'epidemic', 'supply', 'effort', 'send', 'amid', 'virus', 'donate', 'show', 'work', 'combat', 'measure', 'city', 'battle', 'win', 'beijing', 'pneumonia', 'spread', 'call', 'government', 'cause', 'staff']\n",
            "['arrive', 'hospital', 'day', 'treatment', 'start', 'second', 'infect', 'see', 'patient', 'year', 'old', 'discharge', 'first', 'recover', 'makeshift', 'receive', 'month', 'recovery', 'time', 'build', 'construction', 'batch', 'dose', 'vaccination', 'treat', 'leishenshan']\n",
            "['world', 'health', 'organization', 'international', 'expert', 'country', 'say', 'foreign', 'minister', 'use', 'authority', 'global', 'economy', 'million', 'prime', 'ministry', 'public', 'emergency', 'pandemic', 'approve', 'administer', 'dos', 'blood', 'clot']\n",
            "['disease', 'live', 'state', 'prevention', 'late', 'official', 'hold', 'control', 'update', 'press', 'conference', 'center', 'africa']\n",
            "['announce', 'japan', 'trump', 'president', 'test', 'doctor', 'quarantine', 'positive', 'cruise', 'ship', 'house', 'white']\n",
            "['case', 'outside', 'confirm', 'central', 'epicenter', 'since', 'hubei', 'province', 'local', 'number', 'include', 'daily', 'week', 'total', 'one', 'national', 'commission', 'high', 'new', 'accord', 'death', 'confirmed', 'report', 'suspected', 'macao', 'taiwan', 'infection', 'bring', 'two', 'past', 'overseas', 'brazil', 'last', 'three', 'toll', 'data', 'record', 'hour', 'register']\n"
          ]
        }
      ]
    },
    {
      "cell_type": "code",
      "source": [
        "_ = compute_metrics(G_reduced_China, community_louvain_list)"
      ],
      "metadata": {
        "colab": {
          "base_uri": "https://localhost:8080/"
        },
        "id": "7WQPxxWXdy7-",
        "outputId": "85e4f21c-84d2-4262-a981-fa5308528d4b"
      },
      "execution_count": 457,
      "outputs": [
        {
          "output_type": "stream",
          "name": "stdout",
          "text": [
            "Coverage:  0.40426758938869667\n",
            "Performance:  0.7809395973154363\n",
            "Modularity:  0.2567156619360618\n"
          ]
        }
      ]
    },
    {
      "cell_type": "markdown",
      "source": [
        "USA"
      ],
      "metadata": {
        "id": "kGS7ihxxE5FB"
      }
    },
    {
      "cell_type": "code",
      "source": [
        "community_louv = community_louvain.best_partition(G_reduced_USA,weight='weight')"
      ],
      "metadata": {
        "id": "Bhy_gsiRE5FB"
      },
      "execution_count": 458,
      "outputs": []
    },
    {
      "cell_type": "code",
      "source": [
        "max = np.max(list(community_louv.values()))\n",
        "community_louvain_list = []\n",
        "for i in range(max+1):\n",
        "  community_louvain_list.append([])\n",
        "for key in list(community_louv.keys()):\n",
        "  community_louvain_list[community_louv[key]].append(key)\n",
        "for i in range(max+1):\n",
        "  print(community_louvain_list[i])"
      ],
      "metadata": {
        "colab": {
          "base_uri": "https://localhost:8080/"
        },
        "outputId": "b42c2863-6cee-43de-c94c-f61b30113b94",
        "id": "_ZvqCZ9YE5FB"
      },
      "execution_count": 459,
      "outputs": [
        {
          "output_type": "stream",
          "name": "stdout",
          "text": [
            "['south', 'confirm', 'case', 'rise', 'death', 'amid', 'report', 'total', 'number', 'infection', 'new', 'toll', 'hit', 'million', 'second', 'record', 'see', 'big', 'country', 'restriction', 'month', 'day', 'york', 'australia', 'set', 'accord', 'india', 'united', 'state', 'increase', 'high', 'daily', 'wave', 'surge', 'brazil', 'vaccination', 'dos']\n",
            "['disease', 'center', 'control']\n",
            "['time', 'say', 'first', 'patient', 'drug', 'three', 'home', 'test', 'positive', 'since', 'hospital', 'end', 'get', 'year', 'work', 'president', 'need', 'doctor', 'face', 'mask', 'help', 'may', 'know', 'official', 'symptom', 'week', 'plan', 'make', 'take', 'last', 'house', 'trump', 'return', 'medical', 'back', 'pandemic', 'include', 'still', 'announce', 'administration', 'top', 'lady', 'would', 'response', 'white', 'campaign', 'fauci', 'presidential', 'election', 'debate', 'joe']\n",
            "['could', 'china', 'outbreak', 'late', 'world', 'people', 'infect', 'update', 'die', 'warn', 'least', 'concern', 'spread', 'follow', 'government', 'health', 'virus', 'global', 'due', 'city', 'public', 'emergency', 'novel', 'authority', 'around', 'travel', 'expert', 'organization', 'minister', 'national', 'close', 'continue']\n",
            "['two', 'cruise', 'ship', 'quarantine', 'fear', 'japan', 'passenger']\n",
            "['use', 'risk', 'receive', 'early', 'one', 'trial', 'study', 'rare', 'result', 'show', 'find', 'data', 'blood', 'johnson', 'adult', 'pause', 'dose', 'clinical', 'shot', 'clot']\n"
          ]
        }
      ]
    },
    {
      "cell_type": "code",
      "source": [
        "_ = compute_metrics(G_reduced_USA, community_louvain_list)"
      ],
      "metadata": {
        "colab": {
          "base_uri": "https://localhost:8080/"
        },
        "id": "ewmInBgFd4k0",
        "outputId": "61f393c5-b399-4074-9ced-f3767aa866e0"
      },
      "execution_count": 460,
      "outputs": [
        {
          "output_type": "stream",
          "name": "stdout",
          "text": [
            "Coverage:  0.3556298773690078\n",
            "Performance:  0.6700671140939597\n",
            "Modularity:  0.20940980601052975\n"
          ]
        }
      ]
    },
    {
      "cell_type": "markdown",
      "source": [
        "## **JanFeb2020**"
      ],
      "metadata": {
        "id": "fX-qjDptBbQA"
      }
    },
    {
      "cell_type": "markdown",
      "source": [
        "### Download data"
      ],
      "metadata": {
        "id": "UEkLxdWGYbTP"
      }
    },
    {
      "cell_type": "code",
      "source": [
        "period = '_JanFeb2020'\n",
        "edges_China = pd.read_csv('/content/edgelist_China'+period+'.csv')\n",
        "edges_USA = pd.read_csv('/content/edgelist_USA'+period+'.csv')\n",
        "\n",
        "net_China, _ = network_from_edges(edges_China)\n",
        "net_USA, _ = network_from_edges(edges_USA)\n",
        "\n",
        "G_China = get_graph(net_China)\n",
        "G_USA = get_graph(net_USA)"
      ],
      "metadata": {
        "id": "BVeDkih4YbTP"
      },
      "execution_count": 473,
      "outputs": []
    },
    {
      "cell_type": "code",
      "source": [
        "print('USA is connected: ', nx.is_connected(G_USA))\n",
        "print('China is connected: ', nx.is_connected(G_China))"
      ],
      "metadata": {
        "colab": {
          "base_uri": "https://localhost:8080/"
        },
        "outputId": "3edac519-68e0-4b92-89f9-35b97cb90419",
        "id": "u2rRz1QjYbTP"
      },
      "execution_count": 474,
      "outputs": [
        {
          "output_type": "stream",
          "name": "stdout",
          "text": [
            "USA is connected:  True\n",
            "China is connected:  False\n"
          ]
        }
      ]
    },
    {
      "cell_type": "code",
      "source": [
        "for c in nx.connected_components(G_China):\n",
        "  print(c)"
      ],
      "metadata": {
        "colab": {
          "base_uri": "https://localhost:8080/"
        },
        "outputId": "1034cb76-4c46-4f24-8b98-0850fd6dac05",
        "id": "UDqIEW8TYbTP"
      },
      "execution_count": 475,
      "outputs": [
        {
          "output_type": "stream",
          "name": "stdout",
          "text": [
            "{'korea', 'reach', 'bed', 'economy', 'confirm', 'build', 'facility', 'say', 'contain', 'health', 'leader', 'may', 'live', 'express', 'start', 'message', 'suspected', 'step', 'team', 'novel', 'home', 'resident', 'local', 'country', 'epidemic', 'phone', 'look', 'conference', 'life', 'since', 'expert', 'positive', 'emergency', 'stay', 'old', 'read', 'due', 'impact', 'month', 'prime', 'traditional', 'complete', 'chief', 'leave', 'press', 'rise', 'cause', 'medic', 'clinical', 'test', 'jinping', 'set', 'first', 'get', 'report', 'like', 'update', 'observation', 'total', 'front', 'daily', 'public', 'ship', 'authority', 'center', 'treatment', 'special', 'research', 'travel', 'general', 'aid', 'remain', 'keep', 'severe', 'leishenshan', 'joint', 'see', 'infect', 'wish', 'province', 'another', 'south', 'community', 'outbreak', 'foreign', 'researcher', 'beijing', 'fight', 'medical', 'condition', 'miss', 'tackle', 'control', 'prevent', 'headline', 'combat', 'opinion', 'trade', 'organization', 'transmission', 'accord', 'medicine', 'within', 'send', 'military', 'mother', 'mask', 'japan', 'five', 'central', 'information', 'across', 'temporary', 'support', 'flight', 'brief', 'recovery', 'symptom', 'disease', 'case', 'supply', 'newly', 'outside', 'company', 'resume', 'suspect', 'social', 'four', 'official', 'east', 'suspend', 'quarantine', 'passenger', 'two', 'create', 'solidarity', 'production', 'makeshift', 'discharge', 'strong', 'minister', 'level', 'become', 'market', 'prevention', 'receive', 'acid', 'large', 'best', 'city', 'recover', 'mild', 'late', 'together', 'international', 'show', 'use', 'extend', 'virus', 'woman', 'commission', 'bring', 'president', 'hand', 'meet', 'robot', 'china', 'epicenter', 'critical', 'figure', 'citizen', 'baby', 'stand', 'taiwan', 'begin', 'doctor', 'love', 'put', 'group', 'data', 'day', 'coronavirus', 'die', 'check', 'director', 'far', 'release', 'million', 'win', 'time', 'share', 'nurse', 'model', 'dead', 'expect', 'victory', 'deliver', 'construction', 'confident', 'follow', 'back', 'around', 'battle', 'macao', 'full', 'give', 'close', 'plasma', 'line', 'child', 'cruise', 'work', 'include', 'hubei', 'drug', 'donate', 'amid', 'thank', 'infection', 'medium', 'visit', 'confidence', 'batch', 'inside', 'take', 'hit', 'good', 'student', 'hard', 'hospital', 'reporter', 'treat', 'make', 'admit', 'offer', 'new', 'lead', 'vaccine', 'death', 'yuan', 'alone', 'end', 'drop', 'state', 'university', 'worker', 'ministry', 'national', 'hong', 'year', 'wang', 'situation', 'video', 'friendship', 'find', 'government', 'join', 'fund', 'rate', 'people', 'nation', 'tell', 'covid', 'measure', 'effort', 'arrive', 'staff', 'high', 'development', 'patient', 'face', 'response', 'talk', 'call', 'world', 'week', 'curb', 'provincial', 'many', 'three', 'hold', 'negative', 'confirmed', 'family', 'pneumonia', 'number', 'help', 'need', 'stop', 'second', 'xinhua', 'spread', 'region', 'one', 'global', 'cure'}\n",
            "{'police', 'officer'}\n",
            "{'billion', 'dollar'}\n",
            "{'festival', 'spring'}\n"
          ]
        }
      ]
    },
    {
      "cell_type": "code",
      "source": [
        "G_China.remove_node('police')\n",
        "G_China.remove_node('officer')\n",
        "G_China.remove_node('billion')\n",
        "G_China.remove_node('dollar')\n",
        "G_China.remove_node('festival')\n",
        "G_China.remove_node('spring')\n",
        "G_China.remove_node('coronavirus')\n",
        "G_China.remove_node('covid')\n",
        "G_China.remove_node('vaccine')\n",
        "\n",
        "G_USA.remove_node('coronavirus')\n",
        "G_USA.remove_node('covid')\n",
        "G_USA.remove_node('vaccine')"
      ],
      "metadata": {
        "id": "EI3L94bPYbTQ"
      },
      "execution_count": 476,
      "outputs": []
    },
    {
      "cell_type": "code",
      "source": [
        "print('USA is connected: ', nx.is_connected(G_USA))\n",
        "print('China is connected: ', nx.is_connected(G_China))"
      ],
      "metadata": {
        "colab": {
          "base_uri": "https://localhost:8080/"
        },
        "outputId": "c3f29cf4-7622-45c9-9e2e-f9ec22a7f37e",
        "id": "72jXYC4yYbTQ"
      },
      "execution_count": 477,
      "outputs": [
        {
          "output_type": "stream",
          "name": "stdout",
          "text": [
            "USA is connected:  False\n",
            "China is connected:  True\n"
          ]
        }
      ]
    },
    {
      "cell_type": "code",
      "source": [
        "for c in nx.connected_components(G_USA):\n",
        "  print(c)"
      ],
      "metadata": {
        "colab": {
          "base_uri": "https://localhost:8080/"
        },
        "outputId": "4ef41f9b-cc6a-4023-88d6-e8659633ba01",
        "id": "REixAQg3YbTQ"
      },
      "execution_count": 478,
      "outputs": [
        {
          "output_type": "stream",
          "name": "stdout",
          "text": [
            "{'record', 'urge', 'build', 'start', 'step', 'country', 'foundation', 'emergency', 'fear', 'much', 'due', 'rise', 'leave', 'quarter', 'cause', 'stock', 'first', 'update', 'man', 'thailand', 'dock', 'singapore', 'scientist', 'investor', 'employee', 'south', 'related', 'medical', 'issue', 'mobile', 'port', 'trade', 'evacuee', 'malaysia', 'already', 'mask', 'japan', 'fall', 'continue', 'symptom', 'official', 'quarantine', 'concern', 'become', 'top', 'prevention', 'flu', 'firm', 'human', 'police', 'diamond', 'president', 'way', 'monitor', 'die', 'expect', 'france', 'close', 'price', 'work', 'include', 'hubei', 'amid', 'try', 'take', 'must', 'least', 'nearly', 'source', 'end', 'state', 'result', 'basis', 'measure', 'effort', 'curb', 'japanese', 'world', 'family', 'help', 'stop', 'facebook', 'still', 'global', 'economy', 'confirm', 'say', 'health', 'australian', 'major', 'revenue', 'resident', 'epidemic', 'liner', 'old', 'pandemic', 'cancel', 'traveler', 'chief', 'airport', 'test', 'return', 'like', 'treatment', 'remain', 'know', 'keep', 'advise', 'shut', 'advisory', 'trump', 'wash', 'part', 'washington', 'across', 'flight', 'early', 'company', 'infectious', 'diagnose', 'large', 'billion', 'hand', 'china', 'last', 'oil', 'princess', 'long', 'ban', 'million', 'raise', 'follow', 'great', 'back', 'avoid', 'cruise', 'infection', 'pass', 'student', 'hospital', 'would', 'new', 'lead', 'risk', 'death', 'away', 'drop', 'national', 'hong', 'video', 'find', 'spike', 'warn', 'holiday', 'people', 'aboard', 'week', 'negative', 'apple', 'order', 'demand', 'one', 'contain', 'store', 'fast', 'home', 'kill', 'life', 'positive', 'impact', 'california', 'jinping', 'yet', 'total', 'jump', 'authority', 'travel', 'see', 'recently', 'another', 'fight', 'contact', 'base', 'prevent', 'increase', 'congress', 'organization', 'central', 'disease', 'case', 'social', 'suspend', 'two', 'hundred', 'market', 'level', 'minister', 'city', 'late', 'use', 'virus', 'fatal', 'chain', 'delta', 'stand', 'respiratory', 'big', 'doctor', 'far', 'grow', 'around', 'drug', 'medium', 'fatality', 'lunar', 'carry', 'year', 'government', 'cambodia', 'crew', 'slow', 'arrive', 'response', 'face', 'many', 'number', 'second', 'place', 'spread', 'despite', 'announce', 'street', 'korea', 'may', 'declare', 'live', 'economic', 'novel', 'since', 'expert', 'consider', 'deadly', 'board', 'dow', 'illness', 'department', 'report', 'ship', 'public', 'australia', 'center', 'wall', 'germany', 'infect', 'province', 'outbreak', 'foreign', 'beijing', 'move', 'statement', 'control', 'study', 'accord', 'transmission', 'additional', 'air', 'spreading', 'supply', 'newly', 'outside', 'passenger', 'toll', 'restrict', 'sell', 'globally', 'international', 'show', 'commission', 'bring', 'could', 'restriction', 'epicenter', 'citizen', 'begin', 'affect', 'day', 'surgical', 'time', 'united', 'dead', 'battle', 'sale', 'disembark', 'border', 'wear', 'hit', 'treat', 'make', 'ministry', 'worker', 'evacuate', 'business', 'among', 'person', 'contagious', 'shortage', 'rate', 'tell', 'high', 'patient', 'development', 'three', 'confirmed', 'temporarily', 'need', 'beyond'}\n",
            "{'come'}\n",
            "{'bad'}\n",
            "{'line'}\n",
            "{'university'}\n",
            "{'climb'}\n",
            "{'run'}\n",
            "{'combat'}\n",
            "{'director'}\n",
            "{'threat'}\n",
            "{'effect'}\n",
            "{'anyone'}\n",
            "{'protest'}\n",
            "{'put'}\n",
            "{'cough', 'sneeze', 'protect'}\n",
            "{'news'}\n",
            "{'asian'}\n",
            "{'call'}\n",
            "{'get'}\n",
            "{'several'}\n",
            "{'british'}\n",
            "{'hurt'}\n",
            "{'hold'}\n",
            "{'question'}\n",
            "{'visit'}\n",
            "{'infected'}\n",
            "{'give'}\n",
            "{'nine'}\n",
            "{'change'}\n",
            "{'fly'}\n",
            "{'military'}\n",
            "{'serious'}\n",
            "{'warning'}\n",
            "{'plan'}\n",
            "{'point'}\n",
            "{'resort', 'five', 'contract'}\n",
            "{'month'}\n",
            "{'trial'}\n",
            "{'group'}\n",
            "{'identify'}\n",
            "{'staff'}\n",
            "{'woman'}\n",
            "{'force'}\n",
            "{'potential'}\n",
            "{'today'}\n",
            "{'check'}\n",
            "{'pull'}\n",
            "{'full'}\n",
            "{'bank'}\n",
            "{'thousand'}\n",
            "{'limit'}\n",
            "{'area'}\n",
            "{'meet'}\n",
            "{'panic'}\n",
            "{'shanghai'}\n",
            "{'low'}\n",
            "{'weigh'}\n",
            "{'set'}\n",
            "{'service'}\n",
            "{'almost'}\n",
            "{'discover'}\n",
            "{'food'}\n",
            "{'event'}\n",
            "{'worry'}\n",
            "{'officer'}\n",
            "{'look'}\n",
            "{'financial'}\n",
            "{'crisis'}\n",
            "{'whether'}\n",
            "{'likely'}\n",
            "{'dollar'}\n",
            "{'reduce'}\n",
            "{'release'}\n",
            "{'factory'}\n",
            "{'good'}\n",
            "{'appear'}\n",
            "{'screen'}\n",
            "{'six'}\n",
            "{'often'}\n",
            "{'mount'}\n",
            "{'local'}\n",
            "{'form'}\n",
            "{'administration'}\n",
            "{'tokyo'}\n",
            "{'implement'}\n",
            "{'asia'}\n",
            "{'sector'}\n",
            "{'dozen'}\n",
            "{'san'}\n",
            "{'growth'}\n",
            "{'share'}\n",
            "{'daily'}\n",
            "{'entry'}\n",
            "{'industry'}\n",
            "{'pose'}\n",
            "{'head'}\n",
            "{'meeting'}\n",
            "{'disrupt'}\n",
            "{'possible'}\n",
            "{'cut'}\n",
            "{'data'}\n",
            "{'bill'}\n",
            "{'race'}\n",
            "{'near'}\n",
            "{'scramble'}\n",
            "{'blow'}\n",
            "{'fell'}\n",
            "{'production'}\n",
            "{'snake'}\n",
            "{'seek'}\n",
            "{'robot'}\n",
            "{'ease'}\n",
            "{'policy'}\n"
          ]
        }
      ]
    },
    {
      "cell_type": "code",
      "source": [
        "disconn_keys = []\n",
        "for c in nx.connected_components(G_USA):\n",
        "  if len(c) == 1:\n",
        "    disconn_keys.append(list(c)[0])\n",
        "  if len(c) == 3:\n",
        "    disconn_keys.append(list(c)[0])\n",
        "    disconn_keys.append(list(c)[1])\n",
        "    disconn_keys.append(list(c)[2])\n",
        "\n",
        "for key in disconn_keys:\n",
        "  G_USA.remove_node(key)"
      ],
      "metadata": {
        "id": "uNRRaFC2YbTQ"
      },
      "execution_count": 479,
      "outputs": []
    },
    {
      "cell_type": "code",
      "source": [
        "print('USA is connected: ', nx.is_connected(G_USA))"
      ],
      "metadata": {
        "colab": {
          "base_uri": "https://localhost:8080/"
        },
        "outputId": "661869ac-7233-416c-d2fa-4b44f1839884",
        "id": "LWq8HyrJYbTQ"
      },
      "execution_count": 480,
      "outputs": [
        {
          "output_type": "stream",
          "name": "stdout",
          "text": [
            "USA is connected:  True\n"
          ]
        }
      ]
    },
    {
      "cell_type": "code",
      "source": [
        "print('China:')\n",
        "print('Nodes: ',len(G_China.nodes()))\n",
        "print('Edges: ',len(G_China.edges()))\n",
        "print('Is connected: ',nx.is_connected(G_China))\n",
        "print()\n",
        "print('USA:')\n",
        "print('Nodes: ',len(G_USA.nodes()))\n",
        "print('Edges: ',len(G_USA.edges()))\n",
        "print('Is connected: ',nx.is_connected(G_USA))\n",
        "print()"
      ],
      "metadata": {
        "outputId": "b1e3a592-cb33-4820-9338-767f0c17f0bb",
        "colab": {
          "base_uri": "https://localhost:8080/"
        },
        "id": "ycPQbwwbYbTQ"
      },
      "execution_count": 481,
      "outputs": [
        {
          "output_type": "stream",
          "name": "stdout",
          "text": [
            "China:\n",
            "Nodes:  293\n",
            "Edges:  1300\n",
            "Is connected:  True\n",
            "\n",
            "USA:\n",
            "Nodes:  316\n",
            "Edges:  1305\n",
            "Is connected:  True\n",
            "\n"
          ]
        }
      ]
    },
    {
      "cell_type": "code",
      "source": [
        "def threshold(vector,threshold):\n",
        "\n",
        "  l = [(el,vector[el]) for el in vector if vector[el] >= threshold ]\n",
        "\n",
        "  return pd.DataFrame(l)\n",
        "\n",
        "def threshold_reverse(vector,threshold):\n",
        "\n",
        "  l = [(el,vector[el]) for el in vector if vector[el] < threshold ]\n",
        "\n",
        "  return pd.DataFrame(l)"
      ],
      "metadata": {
        "id": "JsZ8W2lQYbTQ"
      },
      "execution_count": 482,
      "outputs": []
    },
    {
      "cell_type": "code",
      "source": [
        "# PageRank for reducing the graph\n",
        "pr_China = nx.algorithms.pagerank(G_China, alpha = 1)\n",
        "pr_China = dict(sorted(pr_China.items(), key=lambda item: item[1],reverse = True))\n",
        "\n",
        "thr_C = 0.000657\n",
        "print(len(threshold(pr_China,thr_C)))\n",
        "\n",
        "pr_USA = nx.algorithms.pagerank(G_USA, alpha = 1)\n",
        "pr_USA = dict(sorted(pr_USA.items(), key=lambda item: item[1],reverse = True))\n",
        "\n",
        "thr_U = 0.0007581\n",
        "print(len(threshold(pr_USA,thr_U)))"
      ],
      "metadata": {
        "outputId": "ca30b7da-4755-4629-b94f-f77c957de66f",
        "colab": {
          "base_uri": "https://localhost:8080/"
        },
        "id": "B6NllgbiYbTQ"
      },
      "execution_count": 483,
      "outputs": [
        {
          "output_type": "stream",
          "name": "stdout",
          "text": [
            "150\n",
            "150\n"
          ]
        }
      ]
    },
    {
      "cell_type": "code",
      "source": [
        "G_reduced_China = G_China.copy()\n",
        "nodes_to_delete = list(threshold_reverse(pr_China,thr_C)[0])\n",
        "for n in nodes_to_delete:\n",
        "    G_reduced_China.remove_node(n)\n",
        "\n",
        "print(nx.is_connected(G_reduced_China))\n",
        "\n",
        "G_reduced_USA = G_USA.copy()\n",
        "nodes_to_delete = list(threshold_reverse(pr_USA,thr_U)[0])\n",
        "for n in nodes_to_delete:\n",
        "    G_reduced_USA.remove_node(n)\n",
        "\n",
        "print(nx.is_connected(G_reduced_USA))"
      ],
      "metadata": {
        "outputId": "d89add04-a01d-4c39-d3f8-d47b82a630a5",
        "colab": {
          "base_uri": "https://localhost:8080/"
        },
        "id": "AXiFVDUXYbTQ"
      },
      "execution_count": 484,
      "outputs": [
        {
          "output_type": "stream",
          "name": "stdout",
          "text": [
            "True\n",
            "True\n"
          ]
        }
      ]
    },
    {
      "cell_type": "markdown",
      "source": [
        "### Louvain Community Detection"
      ],
      "metadata": {
        "id": "AeZilnURFOEc"
      }
    },
    {
      "cell_type": "markdown",
      "source": [
        "CHINA"
      ],
      "metadata": {
        "id": "dakvaXhhFOEc"
      }
    },
    {
      "cell_type": "code",
      "source": [
        "community_louv = community_louvain.best_partition(G_reduced_China,weight='weight')"
      ],
      "metadata": {
        "id": "Xh8lV46pFOEc"
      },
      "execution_count": 490,
      "outputs": []
    },
    {
      "cell_type": "code",
      "source": [
        "max = np.max(list(community_louv.values()))\n",
        "community_louvain_list = []\n",
        "for i in range(max+1):\n",
        "  community_louvain_list.append([])\n",
        "for key in list(community_louv.keys()):\n",
        "  community_louvain_list[community_louv[key]].append(key)\n",
        "for i in range(max+1):\n",
        "  print(community_louvain_list[i])"
      ],
      "metadata": {
        "colab": {
          "base_uri": "https://localhost:8080/"
        },
        "outputId": "9922c1c3-e993-4d66-875e-f92d80df2167",
        "id": "xhz03XRqFOEc"
      },
      "execution_count": 491,
      "outputs": [
        {
          "output_type": "stream",
          "name": "stdout",
          "text": [
            "['china', 'novel', 'face', 'people', 'medium', 'world', 'make', 'disease', 'take', 'health', 'organization', 'team', 'international', 'expert', 'country', 'medical', 'worker', 'across', 'outbreak', 'support', 'help', 'fight', 'express', 'contain', 'epidemic', 'supply', 'chief', 'say', 'effort', 'send', 'amid', 'virus', 'foreign', 'minister', 'mask', 'donate', 'show', 'work', 'combat', 'around', 'development', 'die', 'measure', 'city', 'battle', 'win', 'global', 'spread', 'response', 'president', 'solidarity', 'leader', 'million', 'phone', 'call', 'together', 'doctor', 'public', 'emergency', 'cause', 'curb', 'stay', 'strong', 'time', 'director', 'confident', 'confidence', 'center', 'staff', 'xinhua', 'jinping', 'community', 'authority']\n",
            "['outside', 'confirm', 'case', 'central', 'epicenter', 'hubei', 'province', 'number', 'include', 'total', 'one', 'new', 'pneumonia', 'death', 'confirmed', 'discharge', 'report', 'suspected', 'another', 'macao', 'taiwan', 'infection', 'bring', 'two', 'region', 'level', 'dead', 'drop', 'suspect', 'three']\n",
            "['japan', 'test', 'quarantine', 'cruise', 'ship']\n",
            "['hospital', 'day', 'treatment', 'use', 'start', 'second', 'beijing', 'infect', 'see', 'patient', 'year', 'old', 'first', 'put', 'recover', 'makeshift', 'month', 'baby', 'cure', 'build', 'model', 'treat', 'leishenshan', 'receive', 'construction', 'recovery', 'plasma', 'symptom', 'bed', 'expect']\n",
            "['live', 'brief', 'prevention', 'late', 'official', 'hold', 'control', 'national', 'commission', 'update', 'press', 'conference']\n"
          ]
        }
      ]
    },
    {
      "cell_type": "code",
      "source": [
        "_ = compute_metrics(G_reduced_China, community_louvain_list)"
      ],
      "metadata": {
        "colab": {
          "base_uri": "https://localhost:8080/"
        },
        "id": "CF_AoC8Me0lq",
        "outputId": "d303fbaf-ec3a-4c83-8c78-58b57726e0bc"
      },
      "execution_count": 492,
      "outputs": [
        {
          "output_type": "stream",
          "name": "stdout",
          "text": [
            "Coverage:  0.5935483870967742\n",
            "Performance:  0.69834451901566\n",
            "Modularity:  0.3052855681001033\n"
          ]
        }
      ]
    },
    {
      "cell_type": "markdown",
      "source": [
        "USA"
      ],
      "metadata": {
        "id": "08edhC3lFOEd"
      }
    },
    {
      "cell_type": "code",
      "source": [
        "community_louv = community_louvain.best_partition(G_reduced_USA,weight='weight')"
      ],
      "metadata": {
        "id": "9jpZhJGGFOEd"
      },
      "execution_count": 493,
      "outputs": []
    },
    {
      "cell_type": "code",
      "source": [
        "max = np.max(list(community_louv.values()))\n",
        "community_louvain_list = []\n",
        "for i in range(max+1):\n",
        "  community_louvain_list.append([])\n",
        "for key in list(community_louv.keys()):\n",
        "  community_louvain_list[community_louv[key]].append(key)\n",
        "for i in range(max+1):\n",
        "  print(community_louvain_list[i])"
      ],
      "metadata": {
        "colab": {
          "base_uri": "https://localhost:8080/"
        },
        "outputId": "260e9a65-0c98-4b1e-82a9-9c6200bc63bc",
        "id": "wjQO6CnPFOEd"
      },
      "execution_count": 494,
      "outputs": [
        {
          "output_type": "stream",
          "name": "stdout",
          "text": [
            "['bring', 'south', 'korea', 'confirm', 'case', 'rise', 'hubei', 'province', 'death', 'first', 'report', 'three', 'total', 'number', 'infection', 'new', 'toll', 'risk', 'second', 'end', 'record', 'outside', 'lunar', 'year', 'holiday', 'country', 'authority', 'know', 'national', 'commission', 'day', 'confirmed', 'man', 'human', 'accord', 'include', 'across', 'increase', 'high', 'top']\n",
            "['evacuate', 'two', 'diamond', 'princess', 'cruise', 'ship', 'test', 'positive', 'quarantine', 'government', 'japan', 'hong', 'become', 'week', 'passenger', 'dock', 'board']\n",
            "['could', 'world', 'say', 'patient', 'drug', 'concern', 'hospital', 'health', 'global', 'early', 'doctor', 'public', 'declare', 'emergency', 'official', 'organization', 'take', 'medical', 'international', 'treatment']\n",
            "['china', 'outbreak', 'late', 'epidemic', 'update', 'warn', 'amid', 'business', 'hit', 'follow', 'economy', 'citizen', 'fear', 'million', 'level', 'due', 'city', 'contain', 'president', 'deadly', 'face', 'mask', 'help', 'big', 'like', 'around', 'travel', 'may', 'live', 'effort', 'illness', 'suspend', 'flight', 'stock', 'company', 'avoid', 'one', 'close', 'epicenter', 'medium', 'apple', 'impact', 'department', 'raise', 'united', 'state', 'market', 'beyond', 'spreading', 'development']\n",
            "['disease', 'center', 'control', 'prevention']\n",
            "['people', 'infect', 'die', 'least', 'spread', 'globally', 'already', 'kill', 'virus', 'novel', 'fatal', 'study', 'cause', 'great', 'continue', 'find', 'lead', 'contagious', 'related']\n"
          ]
        }
      ]
    },
    {
      "cell_type": "code",
      "source": [
        "_ = compute_metrics(G_reduced_USA, community_louvain_list)"
      ],
      "metadata": {
        "colab": {
          "base_uri": "https://localhost:8080/"
        },
        "id": "dDAMzZXae4bA",
        "outputId": "95a87f39-5d94-46df-b06f-fa0f2d614099"
      },
      "execution_count": 495,
      "outputs": [
        {
          "output_type": "stream",
          "name": "stdout",
          "text": [
            "Coverage:  0.45489443378119004\n",
            "Performance:  0.7671588366890381\n",
            "Modularity:  0.26990218047270764\n"
          ]
        }
      ]
    },
    {
      "cell_type": "markdown",
      "source": [
        "## **SeptOct2020**"
      ],
      "metadata": {
        "id": "-6p6v0kDBbQJ"
      }
    },
    {
      "cell_type": "markdown",
      "source": [
        "### Download data"
      ],
      "metadata": {
        "id": "Ksu7KcemZ5y7"
      }
    },
    {
      "cell_type": "code",
      "source": [
        "period = '_SeptOct2020'\n",
        "edges_China = pd.read_csv('/content/edgelist_China'+period+'.csv')\n",
        "edges_USA = pd.read_csv('/content/edgelist_USA'+period+'.csv')\n",
        "\n",
        "net_China, _ = network_from_edges(edges_China)\n",
        "net_USA, _ = network_from_edges(edges_USA)\n",
        "\n",
        "G_China = get_graph(net_China)\n",
        "G_USA = get_graph(net_USA)"
      ],
      "metadata": {
        "id": "AeXVm4KiZ5y7"
      },
      "execution_count": 496,
      "outputs": []
    },
    {
      "cell_type": "code",
      "source": [
        "print('USA is connected: ', nx.is_connected(G_USA))\n",
        "print('China is connected: ', nx.is_connected(G_China))"
      ],
      "metadata": {
        "colab": {
          "base_uri": "https://localhost:8080/"
        },
        "outputId": "162f7ac0-ae13-421e-ae2e-7d84a2caf196",
        "id": "J9gT0QtOZ5y7"
      },
      "execution_count": 497,
      "outputs": [
        {
          "output_type": "stream",
          "name": "stdout",
          "text": [
            "USA is connected:  True\n",
            "China is connected:  False\n"
          ]
        }
      ]
    },
    {
      "cell_type": "code",
      "source": [
        "for c in nx.connected_components(G_China):\n",
        "  print(c)"
      ],
      "metadata": {
        "colab": {
          "base_uri": "https://localhost:8080/"
        },
        "outputId": "a2fffe2f-58b1-44d8-9949-06b3970a1a28",
        "id": "Pp0A2IiaZ5y7"
      },
      "execution_count": 498,
      "outputs": [
        {
          "output_type": "stream",
          "name": "stdout",
          "text": [
            "{'global', 'reach', 'record', 'past', 'wave', 'economy', 'confirm', 'say', 'health', 'may', 'live', 'trial', 'surge', 'post', 'secretary', 'locally', 'local', 'economic', 'country', 'epidemic', 'since', 'expert', 'positive', 'brazil', 'pandemic', 'due', 'prime', 'house', 'rise', 'surpass', 'reopen', 'cause', 'leave', 'twitter', 'clinical', 'test', 'jinping', 'first', 'report', 'get', 'total', 'watch', 'develop', 'daily', 'authority', 'center', 'general', 'diagnosis', 'remain', 'russia', 'qingdao', 'see', 'sar', 'dos', 'wish', 'outbreak', 'reed', 'york', 'sept', 'fight', 'import', 'medical', 'statement', 'india', 'control', 'boost', 'increase', 'study', 'organization', 'accord', 'trump', 'send', 'across', 'support', 'continue', 'recovery', 'disease', 'case', 'governor', 'official', 'quarantine', 'two', 'set', 'minister', 'toll', 'top', 'prevention', 'city', 'late', 'tourism', 'walter', 'international', 'protection', 'joe', 'show', 'virus', 'register', 'wife', 'commission', 'bring', 'president', 'italy', 'china', 'restriction', 'golden', 'doctor', 'lady', 'day', 'coronavirus', 'far', 'tally', 'million', 'time', 'africa', 'united', 'cite', 'expect', 'around', 'vice', 'close', 'work', 'include', 'amid', 'infection', 'medium', 'take', 'hit', 'six', 'hospital', 'hard', 'hour', 'make', 'speedy', 'new', 'risk', 'vaccine', 'death', 'end', 'ministry', 'state', 'university', 'national', 'year', 'white', 'find', 'join', 'holiday', 'people', 'nation', 'covid', 'high', 'development', 'response', 'face', 'call', 'overseas', 'world', 'week', 'presidential', 'negative', 'confirmed', 'need', 'number', 'help', 'johnson', 'transmit', 'second', 'xinhua', 'spread', 'region', 'one', 'announce'}\n",
            "{'billion', 'dollar'}\n"
          ]
        }
      ]
    },
    {
      "cell_type": "code",
      "source": [
        "G_China.remove_node('billion')\n",
        "G_China.remove_node('dollar')\n",
        "G_China.remove_node('coronavirus')\n",
        "G_China.remove_node('covid')\n",
        "G_China.remove_node('vaccine')\n",
        "\n",
        "G_USA.remove_node('coronavirus')\n",
        "G_USA.remove_node('covid')\n",
        "G_USA.remove_node('vaccine')"
      ],
      "metadata": {
        "id": "aQZor2GWZ5y7"
      },
      "execution_count": 499,
      "outputs": []
    },
    {
      "cell_type": "code",
      "source": [
        "print('USA is connected: ', nx.is_connected(G_USA))\n",
        "print('China is connected: ', nx.is_connected(G_China))"
      ],
      "metadata": {
        "colab": {
          "base_uri": "https://localhost:8080/"
        },
        "outputId": "5d63326d-520a-4127-b181-afd27552c8c0",
        "id": "bzgFJG8zZ5y8"
      },
      "execution_count": 500,
      "outputs": [
        {
          "output_type": "stream",
          "name": "stdout",
          "text": [
            "USA is connected:  False\n",
            "China is connected:  False\n"
          ]
        }
      ]
    },
    {
      "cell_type": "code",
      "source": [
        "for c in nx.connected_components(G_USA):\n",
        "  print(c)"
      ],
      "metadata": {
        "colab": {
          "base_uri": "https://localhost:8080/"
        },
        "outputId": "43214da5-9b39-4c94-8c88-a187950263e9",
        "id": "NVSTKNaRZ5y8"
      },
      "execution_count": 501,
      "outputs": [
        {
          "output_type": "stream",
          "name": "stdout",
          "text": [
            "{'jersey', 'record', 'ask', 'wave', 'urge', 'single', 'happen', 'start', 'message', 'country', 'look', 'expose', 'young', 'rally', 'emergency', 'much', 'fear', 'brazil', 'due', 'rise', 'surpass', 'leave', 'cause', 'clinical', 'stock', 'authorization', 'serious', 'first', 'update', 'even', 'relief', 'office', 'aid', 'turn', 'effect', 'maker', 'scientist', 'investor', 'job', 'employee', 'south', 'seek', 'medical', 'issue', 'sign', 'deal', 'already', 'ten', 'send', 'mask', 'fauci', 'fall', 'right', 'candidate', 'continue', 'symptom', 'mark', 'court', 'winter', 'official', 'quarantine', 'review', 'supporter', 'cut', 'concern', 'previous', 'become', 'top', 'flu', 'firm', 'joe', 'race', 'package', 'wife', 'president', 'way', 'also', 'half', 'clear', 'allow', 'die', 'struggle', 'director', 'release', 'dose', 'food', 'stage', 'expect', 'france', 'close', 'child', 'work', 'include', 'school', 'amid', 'believe', 'try', 'take', 'good', 'speaker', 'nancy', 'least', 'nearly', 'democrat', 'immune', 'source', 'end', 'state', 'safe', 'campaign', 'compare', 'white', 'trail', 'season', 'join', 'behind', 'thing', 'nation', 'result', 'measure', 'adult', 'effort', 'staff', 'curb', 'world', 'potential', 'family', 'help', 'tweet', 'stop', 'think', 'possible', 'still', 'global', 'exclusive', 'economy', 'confirm', 'facility', 'immunity', 'say', 'really', 'health', 'major', 'secretary', 'low', 'team', 'resident', 'real', 'senate', 'old', 'pandemic', 'appear', 'prime', 'house', 'chief', 'bar', 'twitter', 'test', 'return', 'get', 'like', 'republican', 'treatment', 'sen', 'general', 'remain', 'know', 'keep', 'bank', 'shut', 'reed', 'condition', 'night', 'seven', 'trump', 'part', 'experience', 'military', 'across', 'flight', 'add', 'early', 'recovery', 'company', 'four', 'care', 'strong', 'decline', 'diagnose', 'receive', 'large', 'thousand', 'walter', 'event', 'billion', 'breaking', 'china', 'last', 'open', 'oil', 'long', 'lady', 'million', 'raise', 'restaurant', 'political', 'town', 'follow', 'back', 'vice', 'available', 'avoid', 'morning', 'infection', 'without', 'pass', 'boom', 'student', 'hospital', 'would', 'new', 'lead', 'risk', 'death', 'university', 'national', 'video', 'find', 'resurgence', 'spike', 'fund', 'warn', 'physician', 'people', 'administration', 'effective', 'week', 'hold', 'negative', 'want', 'demand', 'order', 'treasury', 'one', 'past', 'reach', 'small', 'volunteer', 'contain', 'tough', 'kamala', 'approval', 'trial', 'surge', 'well', 'home', 'system', 'worry', 'kill', 'life', 'next', 'positive', 'stay', 'might', 'impact', 'several', 'yet', 'feel', 'authority', 'research', 'head', 'recent', 'travel', 'diagnosis', 'force', 'task', 'russia', 'stimulus', 'ahead', 'see', 'activity', 'another', 'york', 'fight', 'contact', 'member', 'push', 'base', 'election', 'india', 'prevent', 'increase', 'hick', 'age', 'congress', 'financial', 'organization', 'enough', 'within', 'five', 'protect', 'future', 'support', 'bill', 'case', 'disease', 'social', 'two', 'trend', 'market', 'level', 'set', 'minister', 'city', 'recover', 'late', 'question', 'contract', 'voter', 'use', 'virus', 'news', 'italy', 'british', 'impose', 'federal', 'catch', 'free', 'big', 'plan', 'doctor', 'data', 'delay', 'far', 'standard', 'senator', 'deliver', 'around', 'industry', 'give', 'change', 'drug', 'protest', 'former', 'hard', 'french', 'trillion', 'safety', 'nationwide', 'august', 'year', 'approve', 'government', 'claim', 'almost', 'debate', 'slow', 'shot', 'poll', 'handling', 'response', 'face', 'call', 'lose', 'many', 'aide', 'crisis', 'experimental', 'number', 'johnson', 'majority', 'second', 'place', 'spread', 'despite', 'announce', 'pause', 'korea', 'may', 'leader', 'live', 'vulnerable', 'post', 'likely', 'local', 'economic', 'whether', 'term', 'pay', 'since', 'expert', 'month', 'side', 'rule', 'soon', 'milestone', 'illness', 'play', 'report', 'democratic', 'watch', 'develop', 'daily', 'public', 'australia', 'center', 'come', 'severe', 'ease', 'germany', 'penny', 'infect', 'researcher', 'adviser', 'outbreak', 'player', 'nominee', 'hope', 'vote', 'move', 'statement', 'america', 'party', 'reduce', 'supreme', 'control', 'north', 'study', 'accord', 'air', 'bubble', 'protocol', 'governor', 'outside', 'plastic', 'mayor', 'toll', 'produce', 'provide', 'war', 'challenge', 'international', 'show', 'woman', 'could', 'restriction', 'begin', 'game', 'third', 'less', 'climate', 'put', 'group', 'day', 'analysis', 'time', 'win', 'share', 'antibody', 'africa', 'united', 'senior', 'battle', 'institute', 'bad', 'wear', 'amy', 'hit', 'hall', 'today', 'six', 'hour', 'treat', 'make', 'offer', 'worker', 'business', 'mike', 'among', 'person', 'participant', 'rate', 'tell', 'coverage', 'high', 'patient', 'talk', 'promise', 'presidential', 'three', 'loss', 'benefit', 'need'}\n",
            "{'survive'}\n",
            "{'full'}\n",
            "{'suffer'}\n",
            "{'break'}\n",
            "{'service'}\n",
            "{'little'}\n",
            "{'story'}\n",
            "{'bring'}\n",
            "{'gathering'}\n",
            "{'supply'}\n",
            "{'problem'}\n",
            "{'meet'}\n",
            "{'cost'}\n",
            "{'nine'}\n",
            "{'boost'}\n",
            "{'street'}\n"
          ]
        }
      ]
    },
    {
      "cell_type": "code",
      "source": [
        "disconn_keys = []\n",
        "for c in nx.connected_components(G_USA):\n",
        "  if len(c) == 1:\n",
        "    disconn_keys.append(list(c)[0])\n",
        "\n",
        "for key in disconn_keys:\n",
        "  G_USA.remove_node(key)"
      ],
      "metadata": {
        "id": "zExj39rrZ5y8"
      },
      "execution_count": 502,
      "outputs": []
    },
    {
      "cell_type": "code",
      "source": [
        "print('USA is connected: ', nx.is_connected(G_USA))"
      ],
      "metadata": {
        "colab": {
          "base_uri": "https://localhost:8080/"
        },
        "outputId": "d3157f9d-a50d-464a-978b-68600eca5be7",
        "id": "Wo33X-s6Z5y8"
      },
      "execution_count": 503,
      "outputs": [
        {
          "output_type": "stream",
          "name": "stdout",
          "text": [
            "USA is connected:  True\n"
          ]
        }
      ]
    },
    {
      "cell_type": "code",
      "source": [
        "for c in nx.connected_components(G_China):\n",
        "  print(c)"
      ],
      "metadata": {
        "colab": {
          "base_uri": "https://localhost:8080/"
        },
        "outputId": "bf2d4153-31a2-4ead-d5b4-708b6440a1e5",
        "id": "aaZolGmKaG6f"
      },
      "execution_count": 504,
      "outputs": [
        {
          "output_type": "stream",
          "name": "stdout",
          "text": [
            "{'global', 'past', 'record', 'reach', 'economy', 'confirm', 'say', 'health', 'may', 'surge', 'locally', 'local', 'economic', 'country', 'epidemic', 'since', 'expert', 'positive', 'brazil', 'pandemic', 'due', 'prime', 'house', 'rise', 'surpass', 'leave', 'twitter', 'test', 'jinping', 'first', 'report', 'total', 'daily', 'authority', 'center', 'diagnosis', 'remain', 'russia', 'qingdao', 'see', 'sar', 'wish', 'reed', 'york', 'fight', 'import', 'medical', 'statement', 'india', 'control', 'boost', 'increase', 'organization', 'accord', 'trump', 'send', 'support', 'recovery', 'disease', 'case', 'governor', 'official', 'quarantine', 'two', 'set', 'minister', 'toll', 'prevention', 'city', 'tourism', 'walter', 'protection', 'show', 'joe', 'register', 'wife', 'commission', 'bring', 'president', 'italy', 'china', 'golden', 'doctor', 'lady', 'day', 'far', 'tally', 'million', 'time', 'africa', 'cite', 'united', 'expect', 'vice', 'include', 'amid', 'infection', 'medium', 'take', 'six', 'hard', 'hospital', 'hour', 'speedy', 'new', 'risk', 'death', 'end', 'ministry', 'state', 'university', 'national', 'year', 'white', 'find', 'holiday', 'people', 'nation', 'high', 'overseas', 'development', 'world', 'week', 'presidential', 'negative', 'confirmed', 'number', 'transmit', 'spread', 'region', 'one', 'announce'}\n",
            "{'outbreak'}\n",
            "{'watch', 'sept', 'late'}\n",
            "{'second', 'wave'}\n",
            "{'live'}\n",
            "{'continue'}\n",
            "{'study'}\n",
            "{'virus'}\n",
            "{'cause'}\n",
            "{'close'}\n",
            "{'xinhua'}\n",
            "{'across'}\n",
            "{'face'}\n",
            "{'around'}\n",
            "{'restriction'}\n",
            "{'help'}\n",
            "{'hit'}\n",
            "{'need'}\n",
            "{'make'}\n",
            "{'international'}\n",
            "{'get'}\n",
            "{'work'}\n",
            "{'reopen'}\n",
            "{'top'}\n",
            "{'post'}\n",
            "{'response'}\n",
            "{'secretary'}\n",
            "{'general'}\n",
            "{'call'}\n",
            "{'trial', 'clinical'}\n",
            "{'dos'}\n",
            "{'johnson'}\n",
            "{'join'}\n",
            "{'develop'}\n"
          ]
        }
      ]
    },
    {
      "cell_type": "code",
      "source": [
        "disconn_keys = []\n",
        "for c in nx.connected_components(G_China):\n",
        "  if len(c) == 1:\n",
        "    disconn_keys.append(list(c)[0])\n",
        "  if len(c) == 2:\n",
        "    disconn_keys.append(list(c)[0])\n",
        "    disconn_keys.append(list(c)[1])\n",
        "  if len(c) == 3:\n",
        "    disconn_keys.append(list(c)[0])\n",
        "    disconn_keys.append(list(c)[1])\n",
        "    disconn_keys.append(list(c)[2])\n",
        "\n",
        "for key in disconn_keys:\n",
        "  G_China.remove_node(key)"
      ],
      "metadata": {
        "id": "H6XFQiXAaG6g"
      },
      "execution_count": 505,
      "outputs": []
    },
    {
      "cell_type": "code",
      "source": [
        "print('China is connected: ', nx.is_connected(G_China))"
      ],
      "metadata": {
        "colab": {
          "base_uri": "https://localhost:8080/"
        },
        "outputId": "44e3255d-befb-41b9-f82e-13f7f6be6fbd",
        "id": "_0DZUepkaG6g"
      },
      "execution_count": 506,
      "outputs": [
        {
          "output_type": "stream",
          "name": "stdout",
          "text": [
            "China is connected:  True\n"
          ]
        }
      ]
    },
    {
      "cell_type": "code",
      "source": [
        "print('China:')\n",
        "print('Nodes: ',len(G_China.nodes()))\n",
        "print('Edges: ',len(G_China.edges()))\n",
        "print('Is connected: ',nx.is_connected(G_China))\n",
        "print()\n",
        "print('USA:')\n",
        "print('Nodes: ',len(G_USA.nodes()))\n",
        "print('Edges: ',len(G_USA.edges()))\n",
        "print('Is connected: ',nx.is_connected(G_USA))\n",
        "print()"
      ],
      "metadata": {
        "outputId": "27fada22-3a5e-4789-cbb1-8a57148edb2d",
        "colab": {
          "base_uri": "https://localhost:8080/"
        },
        "id": "ci3gm5VvZ5y8"
      },
      "execution_count": 507,
      "outputs": [
        {
          "output_type": "stream",
          "name": "stdout",
          "text": [
            "China:\n",
            "Nodes:  132\n",
            "Edges:  389\n",
            "Is connected:  True\n",
            "\n",
            "USA:\n",
            "Nodes:  493\n",
            "Edges:  3842\n",
            "Is connected:  True\n",
            "\n"
          ]
        }
      ]
    },
    {
      "cell_type": "code",
      "source": [
        "def threshold(vector,threshold):\n",
        "\n",
        "  l = [(el,vector[el]) for el in vector if vector[el] >= threshold ]\n",
        "\n",
        "  return pd.DataFrame(l)\n",
        "\n",
        "def threshold_reverse(vector,threshold):\n",
        "\n",
        "  l = [(el,vector[el]) for el in vector if vector[el] < threshold ]\n",
        "\n",
        "  return pd.DataFrame(l)"
      ],
      "metadata": {
        "id": "n38uWB9_Z5y8"
      },
      "execution_count": 508,
      "outputs": []
    },
    {
      "cell_type": "code",
      "source": [
        "# PageRank for reducing the graph\n",
        "pr_China = nx.algorithms.pagerank(G_China, alpha = 1)\n",
        "pr_China = dict(sorted(pr_China.items(), key=lambda item: item[1],reverse = True))\n",
        "\n",
        "thr_C = 0\n",
        "print(len(threshold(pr_China,thr_C)))\n",
        "\n",
        "pr_USA = nx.algorithms.pagerank(G_USA, alpha = 1)\n",
        "pr_USA = dict(sorted(pr_USA.items(), key=lambda item: item[1],reverse = True))\n",
        "\n",
        "thr_U = 0.00149\n",
        "print(len(threshold(pr_USA,thr_U)))"
      ],
      "metadata": {
        "outputId": "2039e32d-bfd5-4cd6-cf79-9980e3c571e0",
        "colab": {
          "base_uri": "https://localhost:8080/"
        },
        "id": "aaWegCTzZ5y8"
      },
      "execution_count": 509,
      "outputs": [
        {
          "output_type": "stream",
          "name": "stdout",
          "text": [
            "132\n",
            "131\n"
          ]
        }
      ]
    },
    {
      "cell_type": "code",
      "source": [
        "G_reduced_China = G_China.copy()\n",
        "\n",
        "print(nx.is_connected(G_reduced_China))\n",
        "\n",
        "G_reduced_USA = G_USA.copy()\n",
        "nodes_to_delete = list(threshold_reverse(pr_USA,thr_U)[0])\n",
        "for n in nodes_to_delete:\n",
        "    G_reduced_USA.remove_node(n)\n",
        "\n",
        "print(nx.is_connected(G_reduced_USA))"
      ],
      "metadata": {
        "outputId": "aa473ee2-629a-4cb8-ccf6-ed5a5381ca4e",
        "colab": {
          "base_uri": "https://localhost:8080/"
        },
        "id": "iJODNwNNZ5y8"
      },
      "execution_count": 510,
      "outputs": [
        {
          "output_type": "stream",
          "name": "stdout",
          "text": [
            "True\n",
            "True\n"
          ]
        }
      ]
    },
    {
      "cell_type": "markdown",
      "source": [
        "### Louvain Community Detection"
      ],
      "metadata": {
        "id": "WISWNsYzIyNe"
      }
    },
    {
      "cell_type": "markdown",
      "source": [
        "CHINA"
      ],
      "metadata": {
        "id": "FkfwxT0GIyNe"
      }
    },
    {
      "cell_type": "code",
      "source": [
        "community_louv = community_louvain.best_partition(G_reduced_China,weight='weight')"
      ],
      "metadata": {
        "id": "utsoU44vIyNe"
      },
      "execution_count": 512,
      "outputs": []
    },
    {
      "cell_type": "code",
      "source": [
        "max = np.max(list(community_louv.values()))\n",
        "community_louvain_list = []\n",
        "for i in range(max+1):\n",
        "  community_louvain_list.append([])\n",
        "for key in list(community_louv.keys()):\n",
        "  community_louvain_list[community_louv[key]].append(key)\n",
        "for i in range(max+1):\n",
        "  print(community_louvain_list[i])"
      ],
      "metadata": {
        "colab": {
          "base_uri": "https://localhost:8080/"
        },
        "outputId": "64f11571-1dcd-4765-c6bf-3957af037ae5",
        "id": "tQyPyaXoIyNe"
      },
      "execution_count": 513,
      "outputs": [
        {
          "output_type": "stream",
          "name": "stdout",
          "text": [
            "['state', 'united', 'nation']\n",
            "['daily', 'case', 'infection', 'high', 'number', 'new', 'record', 'report', 'since', 'see', 'take', 'confirm', 'one', 'health', 'accord', 'ministry', 'register', 'overseas', 'national', 'commission', 'announce', 'university', 'local', 'increase', 'surge', 'official', 'bring', 'total', 'confirmed', 'tally', 'rise', 'death', 'protection', 'past', 'hour', 'city', 'far', 'include', 'russia', 'qingdao', 'two', 'authority', 'six', 'locally', 'transmit', 'region', 'sar', 'import', 'toll', 'york', 'may', 'set', 'italy', 'governor', 'cite']\n",
            "['surpass', 'million', 'pandemic', 'country', 'global', 'world', 'amid', 'due', 'development', 'india', 'brazil', 'organization']\n",
            "['week', 'china', 'day', 'year', 'economy', 'recovery', 'epidemic', 'holiday', 'find', 'economic', 'fight', 'medium', 'support', 'show', 'tourism', 'hard', 'golden', 'boost', 'end', 'expect']\n",
            "['africa', 'center', 'reach', 'control', 'disease', 'prevention']\n",
            "['first', 'people', 'positive', 'say', 'test', 'minister', 'spread', 'president', 'trump', 'white', 'house', 'time', 'expert', 'remain', 'jinping', 'presidential', 'prime', 'doctor', 'risk', 'statement', 'lady', 'leave', 'walter', 'twitter', 'vice', 'reed', 'medical', 'wife', 'quarantine', 'joe', 'negative', 'hospital', 'diagnosis', 'send', 'wish', 'speedy']\n"
          ]
        }
      ]
    },
    {
      "cell_type": "code",
      "source": [
        "_ = compute_metrics(G_reduced_China, community_louvain_list)"
      ],
      "metadata": {
        "colab": {
          "base_uri": "https://localhost:8080/"
        },
        "id": "kJsFJ6ltfOUX",
        "outputId": "fd5ce72c-ef41-463c-ad1a-2229e09b392c"
      },
      "execution_count": 514,
      "outputs": [
        {
          "output_type": "stream",
          "name": "stdout",
          "text": [
            "Coverage:  0.7069408740359897\n",
            "Performance:  0.7423085820032385\n",
            "Modularity:  0.37270457166435067\n"
          ]
        }
      ]
    },
    {
      "cell_type": "markdown",
      "source": [
        "USA"
      ],
      "metadata": {
        "id": "PjNPwxgJIyNe"
      }
    },
    {
      "cell_type": "code",
      "source": [
        "community_louv = community_louvain.best_partition(G_reduced_USA,weight='weight')"
      ],
      "metadata": {
        "id": "k2Mij0OmIyNe"
      },
      "execution_count": 515,
      "outputs": []
    },
    {
      "cell_type": "code",
      "source": [
        "max = np.max(list(community_louv.values()))\n",
        "community_louvain_list = []\n",
        "for i in range(max+1):\n",
        "  community_louvain_list.append([])\n",
        "for key in list(community_louv.keys()):\n",
        "  community_louvain_list[community_louv[key]].append(key)\n",
        "for i in range(max+1):\n",
        "  print(community_louvain_list[i])"
      ],
      "metadata": {
        "colab": {
          "base_uri": "https://localhost:8080/"
        },
        "outputId": "84dad8d7-69e0-496b-cc85-fa21c8ccad42",
        "id": "o4KC36swIyNe"
      },
      "execution_count": 516,
      "outputs": [
        {
          "output_type": "stream",
          "name": "stdout",
          "text": [
            "['global', 'could', 'world', 'one', 'health', 'pandemic', 'people', 'use', 'may', 'accord', 'face', 'mask', 'work', 'time', 'disease', 'die', 'help', 'emergency', 'year', 'public', 'expert', 'home']\n",
            "['case', 'million', 'death', 'china', 'record', 'day', 'new', 'rise', 'since', 'spread', 'india', 'see', 'month', 'week', 'report', 'second', 'country', 'high', 'daily', 'number', 'infection', 'increase', 'australia', 'outbreak', 'last', 'wave', 'state', 'surge', 'hit', 'city', 'restriction', 'two', 'york']\n",
            "['say', 'test', 'plan', 'doctor', 'trump', 'negative', 'president', 'diagnosis', 'experimental', 'drug', 'hospital', 'white', 'house', 'treatment', 'military', 'positive', 'staff', 'official', 'patient', 'virus', 'symptom', 'three', 'risk', 'top', 'take', 'still', 'chief', 'announce', 'presidential', 'nominee', 'joe', 'late', 'election', 'close', 'administration', 'campaign', 'first', 'antibody', 'back', 'return', 'debate', 'democratic', 'relief', 'aid', 'vice', 'mike', 'penny', 'medical', 'quarantine', 'aide', 'former', 'lady', 'hope', 'bill', 'would', 'deal', 'speaker']\n",
            "['candidate', 'trial', 'follow', 'make', 'study', 'result', 'minister', 'volunteer', 'clinical', 'get', 'prime', 'government', 'show', 'want', 'johnson', 'old', 'early', 'data', 'adult']\n"
          ]
        }
      ]
    },
    {
      "cell_type": "code",
      "source": [
        "_ = compute_metrics(G_reduced_USA, community_louvain_list)"
      ],
      "metadata": {
        "colab": {
          "base_uri": "https://localhost:8080/"
        },
        "id": "9IOUpJ-7fRTi",
        "outputId": "c711b35e-3eb3-4ce4-9c99-ac84908e4522"
      },
      "execution_count": 517,
      "outputs": [
        {
          "output_type": "stream",
          "name": "stdout",
          "text": [
            "Coverage:  0.4859349145063431\n",
            "Performance:  0.6973576042278332\n",
            "Modularity:  0.2649461030088732\n"
          ]
        }
      ]
    },
    {
      "cell_type": "markdown",
      "source": [
        "## **MarchApril2021**"
      ],
      "metadata": {
        "id": "lOBKoxyaBbQS"
      }
    },
    {
      "cell_type": "markdown",
      "source": [
        "### Download data"
      ],
      "metadata": {
        "id": "VtFlqFUGb5HW"
      }
    },
    {
      "cell_type": "code",
      "source": [
        "period = '_MarchApril2021'\n",
        "edges_China = pd.read_csv('/content/edgelist_China'+period+'.csv')\n",
        "edges_USA = pd.read_csv('/content/edgelist_USA'+period+'.csv')\n",
        "\n",
        "net_China, _ = network_from_edges(edges_China)\n",
        "net_USA, _ = network_from_edges(edges_USA)\n",
        "\n",
        "G_China = get_graph(net_China)\n",
        "G_USA = get_graph(net_USA)"
      ],
      "metadata": {
        "id": "jBbB7KQ7b5HW"
      },
      "execution_count": 518,
      "outputs": []
    },
    {
      "cell_type": "code",
      "source": [
        "print('USA is connected: ', nx.is_connected(G_USA))\n",
        "print('China is connected: ', nx.is_connected(G_China))"
      ],
      "metadata": {
        "colab": {
          "base_uri": "https://localhost:8080/"
        },
        "outputId": "ddb68f45-b272-4e69-cf30-b691d524fed9",
        "id": "mpOiubXcb5HW"
      },
      "execution_count": 519,
      "outputs": [
        {
          "output_type": "stream",
          "name": "stdout",
          "text": [
            "USA is connected:  True\n",
            "China is connected:  True\n"
          ]
        }
      ]
    },
    {
      "cell_type": "code",
      "source": [
        "G_China.remove_node('coronavirus')\n",
        "G_China.remove_node('covid')\n",
        "G_China.remove_node('vaccine')\n",
        "\n",
        "G_USA.remove_node('coronavirus')\n",
        "G_USA.remove_node('covid')\n",
        "G_USA.remove_node('vaccine')"
      ],
      "metadata": {
        "id": "JASHb4PXb5HW"
      },
      "execution_count": 520,
      "outputs": []
    },
    {
      "cell_type": "code",
      "source": [
        "print('USA is connected: ', nx.is_connected(G_USA))\n",
        "print('China is connected: ', nx.is_connected(G_China))"
      ],
      "metadata": {
        "colab": {
          "base_uri": "https://localhost:8080/"
        },
        "outputId": "b8851a3a-dbaf-4611-f2c2-76fe3c9ad36a",
        "id": "hecxPq7xb5HW"
      },
      "execution_count": 521,
      "outputs": [
        {
          "output_type": "stream",
          "name": "stdout",
          "text": [
            "USA is connected:  False\n",
            "China is connected:  False\n"
          ]
        }
      ]
    },
    {
      "cell_type": "code",
      "source": [
        "for c in nx.connected_components(G_USA):\n",
        "  print(c)"
      ],
      "metadata": {
        "colab": {
          "base_uri": "https://localhost:8080/"
        },
        "outputId": "e470840c-067f-4e59-d517-9e15581304f3",
        "id": "B3Nlly81b5HW"
      },
      "execution_count": 522,
      "outputs": [
        {
          "output_type": "stream",
          "name": "stdout",
          "text": [
            "{'record', 'ask', 'wave', 'urge', 'single', 'fourth', 'start', 'country', 'look', 'young', 'emergency', 'much', 'brazil', 'due', 'rise', 'surpass', 'cause', 'clinical', 'authorization', 'first', 'update', 'even', 'office', 'thailand', 'effect', 'maker', 'scientist', 'south', 'speak', 'seek', 'medical', 'issue', 'union', 'send', 'intensive', 'mask', 'fauci', 'fall', 'right', 'continue', 'official', 'review', 'committee', 'concern', 'reason', 'block', 'become', 'top', 'outweigh', 'joe', 'president', 'way', 'evidence', 'suffer', 'half', 'link', 'allow', 'director', 'survivor', 'forward', 'dose', 'expect', 'program', 'france', 'close', 'child', 'work', 'include', 'school', 'amid', 'take', 'must', 'least', 'nearly', 'source', 'end', 'state', 'agency', 'safe', 'campaign', 'white', 'join', 'nation', 'result', 'forecast', 'adult', 'effort', 'efficacy', 'world', 'potential', 'help', 'possible', 'stop', 'facebook', 'still', 'global', 'exclusive', 'delivery', 'say', 'eligible', 'health', 'major', 'low', 'vaccination', 'team', 'old', 'pandemic', 'prime', 'passport', 'house', 'chief', 'growth', 'test', 'hop', 'black', 'get', 'remain', 'know', 'population', 'boost', 'trump', 'part', 'regulator', 'information', 'across', 'add', 'early', 'company', 'infectious', 'care', 'require', 'decline', 'fully', 'receive', 'large', 'recommend', 'brain', 'event', 'breaking', 'open', 'china', 'last', 'ban', 'million', 'follow', 'back', 'african', 'infection', 'without', 'student', 'hospital', 'would', 'risk', 'new', 'death', 'university', 'origin', 'find', 'clot', 'spike', 'fund', 'warn', 'people', 'administration', 'effective', 'michigan', 'week', 'want', 'vaccinate', 'order', 'one', 'bed', 'reach', 'approval', 'trial', 'surge', 'well', 'home', 'next', 'positive', 'executive', 'several', 'total', 'research', 'travel', 'monetary', 'see', 'dos', 'another', 'neurological', 'york', 'expand', 'fight', 'variant', 'base', 'india', 'prevent', 'increase', 'age', 'misinformation', 'organization', 'medicine', 'within', 'investigation', 'protect', 'disease', 'case', 'social', 'resume', 'canada', 'suspend', 'break', 'two', 'set', 'minister', 'site', 'contract', 'protection', 'use', 'virus', 'guinea', 'british', 'meet', 'free', 'federal', 'big', 'plan', 'doctor', 'data', 'delay', 'extra', 'far', 'deliver', 'around', 'give', 'drug', 'medium', 'batch', 'french', 'safety', 'year', 'approve', 'government', 'hospitalization', 'drive', 'shot', 'poll', 'response', 'face', 'call', 'many', 'crisis', 'number', 'johnson', 'second', 'spread', 'announce', 'pause', 'korea', 'symptomatic', 'may', 'leader', 'live', 'likely', 'economic', 'since', 'expert', 'consider', 'month', 'side', 'soon', 'illness', 'administer', 'report', 'develop', 'daily', 'public', 'australia', 'special', 'come', 'rare', 'severe', 'ease', 'germany', 'researcher', 'hope', 'control', 'decide', 'north', 'study', 'accord', 'air', 'decision', 'track', 'supply', 'governor', 'export', 'toll', 'produce', 'war', 'international', 'show', 'serum', 'woman', 'could', 'restriction', 'begin', 'blood', 'third', 'day', 'analysis', 'time', 'win', 'antibody', 'africa', 'united', 'senior', 'every', 'institute', 'bad', 'wear', 'hit', 'six', 'make', 'offer', 'goal', 'ministry', 'average', 'among', 'person', 'rate', 'coverage', 'high', 'patient', 'problem', 'promise', 'three', 'benefit', 'need', 'card', 'disorder'}\n",
            "{'city'}\n",
            "{'worker'}\n",
            "{'head'}\n",
            "{'curb'}\n",
            "{'change'}\n",
            "{'line'}\n",
            "{'japan', 'game', 'tokyo'}\n",
            "{'jab'}\n",
            "{'fear'}\n",
            "{'push'}\n",
            "{'national'}\n",
            "{'highly'}\n",
            "{'speed'}\n",
            "{'mark'}\n",
            "{'long'}\n",
            "{'former'}\n",
            "{'region'}\n",
            "{'strong'}\n",
            "{'investigate'}\n",
            "{'step'}\n",
            "{'dozen'}\n",
            "{'thousand'}\n",
            "{'capital'}\n",
            "{'leave'}\n",
            "{'struggle'}\n",
            "{'bring'}\n",
            "{'measure'}\n",
            "{'symptom'}\n",
            "{'human'}\n",
            "{'group'}\n",
            "{'lose'}\n",
            "{'battle'}\n",
            "{'impose'}\n",
            "{'worry'}\n",
            "{'lead'}\n",
            "{'despite'}\n",
            "{'gathering'}\n",
            "{'shortage'}\n",
            "{'economy'}\n",
            "{'policy'}\n",
            "{'grow'}\n",
            "{'whether'}\n",
            "{'picture'}\n",
            "{'yet'}\n",
            "{'pressure'}\n",
            "{'russia'}\n",
            "{'election'}\n",
            "{'like'}\n",
            "{'demand'}\n",
            "{'good'}\n",
            "{'behind'}\n",
            "{'turn'}\n",
            "{'drop'}\n",
            "{'level'}\n",
            "{'system'}\n",
            "{'late'}\n",
            "{'march'}\n",
            "{'double'}\n",
            "{'affect'}\n",
            "{'halt'}\n",
            "{'easter'}\n",
            "{'write'}\n",
            "{'hong'}\n",
            "{'place'}\n",
            "{'raise'}\n",
            "{'slow'}\n",
            "{'lift'}\n",
            "{'animal'}\n",
            "{'america'}\n",
            "{'pay'}\n",
            "{'access'}\n",
            "{'point'}\n",
            "{'full'}\n",
            "{'poor'}\n",
            "{'family'}\n",
            "{'die'}\n",
            "{'california'}\n",
            "{'put'}\n",
            "{'relief'}\n",
            "{'hold'}\n",
            "{'share'}\n",
            "{'experience'}\n",
            "{'spring'}\n",
            "{'community'}\n",
            "{'extend'}\n",
            "{'release'}\n",
            "{'resident'}\n",
            "{'support'}\n",
            "{'fresh'}\n",
            "{'roll'}\n",
            "{'massive'}\n",
            "{'border'}\n",
            "{'cost'}\n",
            "{'tell'}\n",
            "{'outbreak'}\n",
            "{'claim'}\n",
            "{'post'}\n",
            "{'longer'}\n",
            "{'inoculation'}\n",
            "{'ever'}\n",
            "{'ahead'}\n",
            "{'service'}\n",
            "{'story'}\n",
            "{'keep'}\n",
            "{'today'}\n",
            "{'reopen'}\n",
            "{'wait'}\n",
            "{'center'}\n",
            "{'five'}\n",
            "{'race'}\n",
            "{'return'}\n",
            "{'impact'}\n",
            "{'macron'}\n",
            "{'quarter'}\n",
            "{'great'}\n",
            "{'life'}\n",
            "{'limit'}\n",
            "{'move'}\n",
            "{'billion'}\n",
            "{'business'}\n",
            "{'ship'}\n",
            "{'member'}\n",
            "{'beach'}\n",
            "{'small'}\n",
            "{'question'}\n",
            "{'alternative'}\n",
            "{'rule'}\n",
            "{'seven'}\n",
            "{'lawmaker'}\n",
            "{'summer'}\n",
            "{'also'}\n",
            "{'cite'}\n",
            "{'deal'}\n",
            "{'launch'}\n",
            "{'pass'}\n",
            "{'prepare'}\n",
            "{'sign'}\n",
            "{'june'}\n",
            "{'threaten'}\n",
            "{'think'}\n",
            "{'eligibility'}\n",
            "{'target'}\n",
            "{'ramp'}\n",
            "{'hesitancy'}\n",
            "{'threat'}\n"
          ]
        }
      ]
    },
    {
      "cell_type": "code",
      "source": [
        "disconn_keys = []\n",
        "for c in nx.connected_components(G_USA):\n",
        "  if len(c) == 1:\n",
        "    disconn_keys.append(list(c)[0])\n",
        "  if len(c) == 3:\n",
        "    disconn_keys.append(list(c)[0])\n",
        "    disconn_keys.append(list(c)[1])\n",
        "    disconn_keys.append(list(c)[2])\n",
        "\n",
        "for key in disconn_keys:\n",
        "  G_USA.remove_node(key)"
      ],
      "metadata": {
        "id": "tF_MdcLnb5HX"
      },
      "execution_count": 523,
      "outputs": []
    },
    {
      "cell_type": "code",
      "source": [
        "print('USA is connected: ', nx.is_connected(G_USA))"
      ],
      "metadata": {
        "colab": {
          "base_uri": "https://localhost:8080/"
        },
        "outputId": "7eefdc07-289e-42d0-daa8-45d7ece93608",
        "id": "TC-x3p95b5HX"
      },
      "execution_count": 524,
      "outputs": [
        {
          "output_type": "stream",
          "name": "stdout",
          "text": [
            "USA is connected:  True\n"
          ]
        }
      ]
    },
    {
      "cell_type": "code",
      "source": [
        "for c in nx.connected_components(G_China):\n",
        "  print(c)"
      ],
      "metadata": {
        "colab": {
          "base_uri": "https://localhost:8080/"
        },
        "outputId": "9e2c4900-0801-4e67-ddd5-d2fd0042c9d3",
        "id": "zuoykZBvcINE"
      },
      "execution_count": 525,
      "outputs": [
        {
          "output_type": "stream",
          "name": "stdout",
          "text": [
            "{'record', 'confirm', 'say', 'health', 'surge', 'locally', 'vaccination', 'start', 'local', 'country', 'since', 'expert', 'emergency', 'brazil', 'pandemic', 'side', 'prime', 'plant', 'first', 'administer', 'report', 'get', 'total', 'develop', 'daily', 'authority', 'center', 'rare', 'effect', 'dos', 'province', 'south', 'foreign', 'york', 'variant', 'shipment', 'control', 'age', 'organization', 'accord', 'medicine', 'across', 'disease', 'case', 'company', 'official', 'minister', 'toll', 'produce', 'receive', 'prevention', 'yunnan', 'city', 'late', 'show', 'use', 'virus', 'register', 'animal', 'news', 'commission', 'president', 'hand', 'china', 'last', 'purchase', 'link', 'blood', 'data', 'day', 'million', 'dose', 'africa', 'united', 'include', 'donate', 'infection', 'batch', 'least', 'nearly', 'make', 'new', 'risk', 'goal', 'death', 'ministry', 'state', 'agency', 'national', 'origin', 'approve', 'year', 'clot', 'people', 'jab', 'arrive', 'michigan', 'shot', 'donation', 'high', 'overseas', 'ruin', 'world', 'number', 'johnson', 'march', 'transmit', 'vaccinate', 'possible', 'second', 'one', 'global', 'pause'}\n",
            "{'week'}\n",
            "{'announce'}\n",
            "{'government'}\n",
            "{'give'}\n",
            "{'far'}\n",
            "{'close'}\n",
            "{'hour'}\n",
            "{'see'}\n",
            "{'continue'}\n",
            "{'restriction'}\n",
            "{'take'}\n",
            "{'life'}\n",
            "{'many'}\n",
            "{'find'}\n",
            "{'amid'}\n",
            "{'asian'}\n",
            "{'call'}\n",
            "{'surpass'}\n",
            "{'third'}\n",
            "{'reopen', 'school'}\n",
            "{'follow'}\n",
            "{'increase'}\n",
            "{'group'}\n",
            "{'rise'}\n",
            "{'hard', 'hit'}\n",
            "{'warn'}\n",
            "{'fight'}\n",
            "{'two'}\n",
            "{'test', 'positive'}\n",
            "{'become'}\n",
            "{'end'}\n",
            "{'inoculate'}\n",
            "{'top'}\n",
            "{'capital'}\n",
            "{'base'}\n",
            "{'india'}\n",
            "{'director'}\n",
            "{'part'}\n",
            "{'spread'}\n",
            "{'watch'}\n",
            "{'three'}\n",
            "{'month'}\n",
            "{'low'}\n",
            "{'face'}\n",
            "{'study'}\n",
            "{'help'}\n",
            "{'work'}\n",
            "{'bring'}\n",
            "{'phase', 'trial', 'clinical'}\n",
            "{'immunization'}\n",
            "{'economy'}\n",
            "{'population'}\n",
            "{'live'}\n",
            "{'begin'}\n",
            "{'institute'}\n",
            "{'african'}\n",
            "{'percent'}\n",
            "{'international'}\n",
            "{'chile'}\n",
            "{'due'}\n",
            "{'lead'}\n",
            "{'may'}\n",
            "{'region'}\n",
            "{'time'}\n",
            "{'release'}\n",
            "{'campaign'}\n",
            "{'effective'}\n",
            "{'four'}\n",
            "{'single'}\n",
            "{'joint'}\n",
            "{'russia'}\n",
            "{'measure'}\n",
            "{'pharmaceutical'}\n",
            "{'beijing'}\n",
            "{'adult'}\n",
            "{'distribute'}\n",
            "{'safety'}\n",
            "{'airport'}\n",
            "{'regulator'}\n",
            "{'eligible'}\n",
            "{'around'}\n",
            "{'inoculation'}\n",
            "{'production'}\n",
            "{'shanghai'}\n",
            "{'cambodia'}\n",
            "{'provide'}\n",
            "{'efficacy'}\n",
            "{'launch'}\n",
            "{'export'}\n",
            "{'supply'}\n",
            "{'safe'}\n",
            "{'khan'}\n",
            "{'program'}\n",
            "{'firm'}\n",
            "{'trust'}\n"
          ]
        }
      ]
    },
    {
      "cell_type": "code",
      "source": [
        "disconn_keys = []\n",
        "for c in nx.connected_components(G_China):\n",
        "  if len(c) == 1:\n",
        "    disconn_keys.append(list(c)[0])\n",
        "  if len(c) == 2:\n",
        "    disconn_keys.append(list(c)[0])\n",
        "    disconn_keys.append(list(c)[1])\n",
        "  if len(c) == 3:\n",
        "    disconn_keys.append(list(c)[0])\n",
        "    disconn_keys.append(list(c)[1])\n",
        "    disconn_keys.append(list(c)[2])\n",
        "\n",
        "for key in disconn_keys:\n",
        "  G_China.remove_node(key)"
      ],
      "metadata": {
        "id": "x7urHIAXcINE"
      },
      "execution_count": 526,
      "outputs": []
    },
    {
      "cell_type": "code",
      "source": [
        "print('China is connected: ', nx.is_connected(G_China))"
      ],
      "metadata": {
        "colab": {
          "base_uri": "https://localhost:8080/"
        },
        "outputId": "51a21d68-eca6-4142-a55d-53fe4a708877",
        "id": "-eQciab0cINF"
      },
      "execution_count": 527,
      "outputs": [
        {
          "output_type": "stream",
          "name": "stdout",
          "text": [
            "China is connected:  True\n"
          ]
        }
      ]
    },
    {
      "cell_type": "code",
      "source": [
        "print('China:')\n",
        "print('Nodes: ',len(G_China.nodes()))\n",
        "print('Edges: ',len(G_China.edges()))\n",
        "print('Is connected: ',nx.is_connected(G_China))\n",
        "print()\n",
        "print('USA:')\n",
        "print('Nodes: ',len(G_USA.nodes()))\n",
        "print('Edges: ',len(G_USA.edges()))\n",
        "print('Is connected: ',nx.is_connected(G_USA))\n",
        "print()"
      ],
      "metadata": {
        "outputId": "ced387e7-686f-449c-e37a-a5d66fadffbb",
        "colab": {
          "base_uri": "https://localhost:8080/"
        },
        "id": "Vg_6d8A0b5HX"
      },
      "execution_count": 528,
      "outputs": [
        {
          "output_type": "stream",
          "name": "stdout",
          "text": [
            "China:\n",
            "Nodes:  113\n",
            "Edges:  361\n",
            "Is connected:  True\n",
            "\n",
            "USA:\n",
            "Nodes:  341\n",
            "Edges:  1390\n",
            "Is connected:  True\n",
            "\n"
          ]
        }
      ]
    },
    {
      "cell_type": "code",
      "source": [
        "def threshold(vector,threshold):\n",
        "\n",
        "  l = [(el,vector[el]) for el in vector if vector[el] >= threshold ]\n",
        "\n",
        "  return pd.DataFrame(l)\n",
        "\n",
        "def threshold_reverse(vector,threshold):\n",
        "\n",
        "  l = [(el,vector[el]) for el in vector if vector[el] < threshold ]\n",
        "\n",
        "  return pd.DataFrame(l)"
      ],
      "metadata": {
        "id": "lzm6AfmNb5HX"
      },
      "execution_count": 529,
      "outputs": []
    },
    {
      "cell_type": "code",
      "source": [
        "# PageRank for reducing the graph\n",
        "pr_China = nx.algorithms.pagerank(G_China, alpha = 1)\n",
        "pr_China = dict(sorted(pr_China.items(), key=lambda item: item[1],reverse = True))\n",
        "\n",
        "thr_C = 0\n",
        "print(len(threshold(pr_China,thr_C)))\n",
        "\n",
        "pr_USA = nx.algorithms.pagerank(G_USA, alpha = 1)\n",
        "pr_USA = dict(sorted(pr_USA.items(), key=lambda item: item[1],reverse = True))\n",
        "\n",
        "thr_U = 0.0018\n",
        "print(len(threshold(pr_USA,thr_U)))"
      ],
      "metadata": {
        "outputId": "0badfc9c-6e98-4d4a-eb37-ec87bb9192d0",
        "colab": {
          "base_uri": "https://localhost:8080/"
        },
        "id": "E1x4k_cyb5HX"
      },
      "execution_count": 530,
      "outputs": [
        {
          "output_type": "stream",
          "name": "stdout",
          "text": [
            "113\n",
            "114\n"
          ]
        }
      ]
    },
    {
      "cell_type": "code",
      "source": [
        "print(nx.is_connected(G_reduced_China))\n",
        "\n",
        "G_reduced_USA = G_USA.copy()\n",
        "nodes_to_delete = list(threshold_reverse(pr_USA,thr_U)[0])\n",
        "for n in nodes_to_delete:\n",
        "    G_reduced_USA.remove_node(n)\n",
        "\n",
        "print(nx.is_connected(G_reduced_USA))"
      ],
      "metadata": {
        "outputId": "e56941d5-33aa-4b9c-b1c2-e40cfa408034",
        "colab": {
          "base_uri": "https://localhost:8080/"
        },
        "id": "9IBwo_rCb5HX"
      },
      "execution_count": 531,
      "outputs": [
        {
          "output_type": "stream",
          "name": "stdout",
          "text": [
            "True\n",
            "True\n"
          ]
        }
      ]
    },
    {
      "cell_type": "markdown",
      "source": [
        "### Louvain Community Detection"
      ],
      "metadata": {
        "id": "rA655zejJyjy"
      }
    },
    {
      "cell_type": "markdown",
      "source": [
        "CHINA"
      ],
      "metadata": {
        "id": "Ql1xkttKJyjy"
      }
    },
    {
      "cell_type": "code",
      "source": [
        "community_louv = community_louvain.best_partition(G_reduced_China,weight='weight')"
      ],
      "metadata": {
        "id": "Iqpwjm-rJyjy"
      },
      "execution_count": 536,
      "outputs": []
    },
    {
      "cell_type": "code",
      "source": [
        "max = np.max(list(community_louv.values()))\n",
        "community_louvain_list = []\n",
        "for i in range(max+1):\n",
        "  community_louvain_list.append([])\n",
        "for key in list(community_louv.keys()):\n",
        "  community_louvain_list[community_louv[key]].append(key)\n",
        "for i in range(max+1):\n",
        "  print(community_louvain_list[i])"
      ],
      "metadata": {
        "colab": {
          "base_uri": "https://localhost:8080/"
        },
        "outputId": "0198ca9c-43e6-4f60-81e1-864c4d2e8dc2",
        "id": "KIneF6PHJyjy"
      },
      "execution_count": 537,
      "outputs": [
        {
          "output_type": "stream",
          "name": "stdout",
          "text": [
            "['daily', 'case', 'infection', 'high', 'number', 'new', 'record', 'report', 'since', 'surpass', 'million', 'take', 'confirm', 'one', 'health', 'country', 'accord', 'ministry', 'register', 'overseas', 'national', 'commission', 'university', 'local', 'increase', 'surge', 'official', 'bring', 'total', 'confirmed', 'tally', 'rise', 'death', 'protection', 'past', 'hour', 'far', 'include', 'russia', 'two', 'authority', 'six', 'locally', 'transmit', 'region', 'sar', 'import', 'toll', 'york', 'may', 'set', 'italy', 'governor', 'india', 'brazil', 'cite']\n",
            "['see', 'week', 'pandemic', 'city', 'china', 'day', 'qingdao', 'year', 'economy', 'amid', 'recovery', 'due', 'epidemic', 'holiday', 'find', 'economic', 'fight', 'medium', 'support', 'show', 'tourism', 'hard', 'golden', 'boost', 'end', 'expect']\n",
            "['global', 'world', 'development', 'organization']\n",
            "['first', 'announce', 'people', 'positive', 'africa', 'center', 'say', 'state', 'test', 'minister', 'spread', 'president', 'trump', 'white', 'house', 'time', 'expert', 'reach', 'united', 'control', 'nation', 'remain', 'jinping', 'presidential', 'prime', 'disease', 'prevention', 'doctor', 'risk', 'statement', 'lady', 'leave', 'walter', 'twitter', 'vice', 'reed', 'medical', 'wife', 'quarantine', 'joe', 'negative', 'hospital', 'diagnosis', 'send', 'wish', 'speedy']\n"
          ]
        }
      ]
    },
    {
      "cell_type": "code",
      "source": [
        "_ = compute_metrics(G_reduced_China, community_louvain_list)"
      ],
      "metadata": {
        "colab": {
          "base_uri": "https://localhost:8080/"
        },
        "id": "EdyfjsT3fbNE",
        "outputId": "b54dc420-f342-49b1-c3a7-55cc5e30c7c8"
      },
      "execution_count": 538,
      "outputs": [
        {
          "output_type": "stream",
          "name": "stdout",
          "text": [
            "Coverage:  0.7506426735218509\n",
            "Performance:  0.6864445986583391\n",
            "Modularity:  0.3629753184077904\n"
          ]
        }
      ]
    },
    {
      "cell_type": "markdown",
      "source": [
        "USA"
      ],
      "metadata": {
        "id": "EToQzn-UJyjy"
      }
    },
    {
      "cell_type": "code",
      "source": [
        "community_louv = community_louvain.best_partition(G_reduced_USA,weight='weight')"
      ],
      "metadata": {
        "id": "xDfPjf1LJyjy"
      },
      "execution_count": 539,
      "outputs": []
    },
    {
      "cell_type": "code",
      "source": [
        "max = np.max(list(community_louv.values()))\n",
        "community_louvain_list = []\n",
        "for i in range(max+1):\n",
        "  community_louvain_list.append([])\n",
        "for key in list(community_louv.keys()):\n",
        "  community_louvain_list[community_louv[key]].append(key)\n",
        "for i in range(max+1):\n",
        "  print(community_louvain_list[i])"
      ],
      "metadata": {
        "colab": {
          "base_uri": "https://localhost:8080/"
        },
        "outputId": "45f6f439-f08d-41f3-b3c5-fb53c498d35d",
        "id": "A8caRNO0Jyjy"
      },
      "execution_count": 540,
      "outputs": [
        {
          "output_type": "stream",
          "name": "stdout",
          "text": [
            "['state', 'month', 'india', 'new', 'daily', 'infection', 'high', 'report', 'case', 'study', 'brazil', 'variant', 'record', 'rise', 'accord', 'death', 'virus', 'wave', 'day', 'third', 'china', 'hit', 'surge', 'amid', 'number']\n",
            "['say', 'trial', 'supply', 'disease', 'could', 'expert', 'south', 'effective', 'prevent', 'child', 'due', 'show', 'top', 'president', 'week', 'may', 'need', 'data', 'analysis', 'safe', 'symptomatic', 'efficacy', 'infectious']\n",
            "['year', 'receive', 'people', 'two', 'least', 'million', 'first', 'way', 'make', 'dos', 'much', 'one', 'vaccinate', 'vaccination', 'adult', 'get', 'population', 'second', 'university', 'australia', 'take', 'administer', 'dose', 'plan']\n",
            "['pandemic', 'patient', 'leader', 'speak', 'air', 'team', 'doctor', 'response', 'war', 'white', 'house', 'fauci', 'special']\n",
            "['six', 'emergency', 'risk', 'blood', 'clot', 'use', 'johnson', 'shot', 'find', 'medicine', 'regulator', 'possible', 'link', 'effect', 'concern', 'side', 'agency', 'rare', 'recommend', 'pause', 'benefit', 'age', 'drug']\n",
            "['health', 'world', 'global', 'official', 'country', 'minister']\n"
          ]
        }
      ]
    },
    {
      "cell_type": "code",
      "source": [
        "_ = compute_metrics(G_reduced_USA, community_louvain_list)"
      ],
      "metadata": {
        "colab": {
          "base_uri": "https://localhost:8080/"
        },
        "id": "2g_e3hQcfesj",
        "outputId": "e3c08a06-4b00-4e6f-ac40-e7bd941ef389"
      },
      "execution_count": 541,
      "outputs": [
        {
          "output_type": "stream",
          "name": "stdout",
          "text": [
            "Coverage:  0.47919010123734535\n",
            "Performance:  0.8118304611085235\n",
            "Modularity:  0.3316358062871719\n"
          ]
        }
      ]
    }
  ]
}