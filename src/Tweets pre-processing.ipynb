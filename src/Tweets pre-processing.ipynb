{
  "nbformat": 4,
  "nbformat_minor": 0,
  "metadata": {
    "colab": {
      "name": "Summary_all_periods.ipynb",
      "provenance": [],
      "collapsed_sections": []
    },
    "kernelspec": {
      "name": "python3",
      "display_name": "Python 3"
    },
    "language_info": {
      "name": "python"
    }
  },
  "cells": [
    {
      "cell_type": "code",
      "source": [
        "#notebook to download the csv of edges and nodes of a given network\n",
        "import os\n",
        "import requests \n",
        "import time\n",
        "import string\n",
        "import networkx as nx\n",
        "import itertools\n",
        "import networkx as nx\n",
        "import pandas as pd\n",
        "import json\n",
        "import re\n",
        "import math\n",
        "import numpy as np\n",
        "import matplotlib.pyplot as plt\n",
        "from sklearn.feature_extraction.text import TfidfVectorizer\n",
        "import nltk\n",
        "from nltk.corpus import stopwords\n",
        "\n",
        "from nltk.corpus import wordnet as wn #importing it\n",
        "from nltk.stem.wordnet import WordNetLemmatizer #importing wordnet lemmatizer\n",
        "from nltk import pos_tag #part-of-speech-tagger\n",
        "from collections import defaultdict #defaultdict returns default value for non-existant keys you try to  access based on the function you passed in the constructor\n",
        "from google.colab import files\n",
        "\n",
        "pd.set_option('display.max_rows', None)\n",
        "pd.set_option('display.max_columns', None)\n",
        "pd.set_option('display.width', None)\n",
        "\n",
        "nltk.download('stopwords')"
      ],
      "metadata": {
        "colab": {
          "base_uri": "https://localhost:8080/"
        },
        "id": "DRcCylkZqDPi",
        "outputId": "69e515c8-5947-440c-ab5e-fc455ee3bb05"
      },
      "execution_count": 5,
      "outputs": [
        {
          "output_type": "stream",
          "name": "stdout",
          "text": [
            "[nltk_data] Downloading package stopwords to /root/nltk_data...\n",
            "[nltk_data]   Package stopwords is already up-to-date!\n"
          ]
        },
        {
          "output_type": "execute_result",
          "data": {
            "text/plain": [
              "True"
            ]
          },
          "metadata": {},
          "execution_count": 5
        }
      ]
    },
    {
      "cell_type": "code",
      "source": [
        "def extract_text(df):       #extract the text from the tweets and RT\n",
        "                            #works ONLY on .csv file\n",
        "  list_strings = []\n",
        "  for index in range(len(df)):\n",
        "    if index % 1000 == 0:\n",
        "      print(str(index)+' / '+str(len(df)))\n",
        "    text = df.loc[index]['text']                          #if it is nor trucated nor a RT  i take \"text\"\n",
        "    string = -1\n",
        "    if (df.loc[index,\"truncated\"] == True):                 #if it is trucated I take \"extended_tweet\"\n",
        "        string = df.loc[index,\"extended_tweet\"]\n",
        "    if type(df.loc[index,\"retweeted_status\"]) != float:     #if it is a RT I take retweeted_status\n",
        "        string = df.loc[index,\"retweeted_status\"]\n",
        "    if type(string) == str :\n",
        "        if(re.search('full_text\\':(.+?)https',string) != None):     #if I find \"full_text\"\n",
        "          s = re.search('full_text\\':(.+?)https',string).group(1)\n",
        "        if(re.search('text\\':(.+?)https',string)!= None):\n",
        "          s = re.search('text\\':(.+?)https',string).group(1)\n",
        "        else: \n",
        "          continue\n",
        "        list_strings.append(s)\n",
        "        #print(s)         \n",
        "    else:\n",
        "      list_strings.append(text)\n",
        "      #print(text)\n",
        "      \n",
        "\n",
        "  return list_strings"
      ],
      "metadata": {
        "id": "CGa_FVVGqDSJ"
      },
      "execution_count": 6,
      "outputs": []
    },
    {
      "cell_type": "code",
      "source": [
        "# Cleaning, lemmatising and pos tagging tweets\n",
        "\n",
        "nltk.download('words')\n",
        "WORDS = set(nltk.corpus.words.words()) #the last two lines serve to download the corpus of standard English language words\n",
        "nltk.download('stopwords') #downloading stopwords\n",
        "STOP_WORDS = set(nltk.corpus.stopwords.words(\"english\")) #taking the stop words from English language\n",
        "nltk.download('wordnet') #downloading wordnet\n",
        "nltk.download('averaged_perceptron_tagger') #downloading tagger\n",
        "tag_map = defaultdict(lambda : wn.NOUN) #here we define that wn.NOUN is the default value for the dict\n",
        "tag_map['J'] = wn.ADJ\n",
        "tag_map['V'] = wn.VERB\n",
        "tag_map['R'] = wn.ADV\n",
        "\n",
        "def lemma_pos_cleaner(tweet):\n",
        "\n",
        "    tweet = re.sub(\"@[A-Za-z0-9]+\",\"\",tweet) # remove mentions\n",
        "    tweet = re.sub(\"#[A-Za-z0-9]+\", \"\",tweet) # remove hashtags\n",
        "    tweet = re.sub(r\"(?:\\@|http?\\://|https?\\://|www)\\S+\", \"\", tweet) # remove http links\n",
        "    tweet = \" \".join(tweet.split())\n",
        "    tweet = str.lower(tweet) #to lowercase \n",
        "    tweet = re.sub(\"'\",\" \",tweet) # remove aphostrophe\n",
        "\n",
        "    #basically we use pos_tag function on tokens that we get by applying wordpunct tokenization\n",
        "    #to tweet (it separates all the words and symbols)\n",
        "    #then we pass the token along with it's wordnet pos value that we get from the tag_map dictionary (noun, adjective, verb or adverb) to the lemma function (the WordNetLemmatizer())\n",
        "    lemma_function = WordNetLemmatizer()\n",
        "    tweet = \" \".join(lemma_function.lemmatize(token, tag_map[tag[0]]) for token, tag in nltk.pos_tag(nltk.wordpunct_tokenize(tweet))) #lemmatize\n",
        "  \n",
        "\n",
        "    # francesco: I removed also all 2 letters words and added specific words, words that appears frequently but are discarded because they are not in the english language\n",
        "    SPECIFIC_WORDS = ['virus', 'coronavirus', 'covid19', 'covid', 'trump', 'hubei', 'beijing', 'xinjiang', 'jinping', 'korea', 'xinhua', 'india', 'taiwan','johnson','singapore', 'africa', 'japanese', 'france', 'asian', 'australia', 'french', 'asia', 'leishenshan', 'british', 'qingdao', 'fauci', 'america',  'california', 'sichuan', 'malaysia', 'huawei','thailand', 'shandong', 'italy', 'philippines', 'germany', 'facebook', 'african', 'shenzhen', 'tokyo', 'russian','uygur', '5g', 'pompeo', 'vietnam', 'australian', 'cambodia', 'zhejiang', 'yunnan', 'guangdong', 'korean', 'iran', 'washington']\n",
        "    tweet = \" \".join(w for w in nltk.wordpunct_tokenize(tweet) if (w in WORDS or w in SPECIFIC_WORDS) and len(w)>2 and w not in STOP_WORDS ) #remove stop words\n",
        "   \n",
        "    return tweet"
      ],
      "metadata": {
        "colab": {
          "base_uri": "https://localhost:8080/"
        },
        "id": "GD0LDoYVqDUh",
        "outputId": "d7734a32-ac31-4df8-bfa1-7d646176b058"
      },
      "execution_count": 7,
      "outputs": [
        {
          "output_type": "stream",
          "name": "stdout",
          "text": [
            "[nltk_data] Downloading package words to /root/nltk_data...\n",
            "[nltk_data]   Package words is already up-to-date!\n",
            "[nltk_data] Downloading package stopwords to /root/nltk_data...\n",
            "[nltk_data]   Package stopwords is already up-to-date!\n",
            "[nltk_data] Downloading package wordnet to /root/nltk_data...\n",
            "[nltk_data]   Package wordnet is already up-to-date!\n",
            "[nltk_data] Downloading package averaged_perceptron_tagger to\n",
            "[nltk_data]     /root/nltk_data...\n",
            "[nltk_data]   Package averaged_perceptron_tagger is already up-to-\n",
            "[nltk_data]       date!\n"
          ]
        }
      ]
    },
    {
      "cell_type": "code",
      "source": [
        "def frequency_dictionary(df):\n",
        "  unique_words = {}\n",
        "\n",
        "  for row in df:\n",
        "    for word in row.split():\n",
        "      #if the word is encountered for the first time add to dict as key and set its value to 0\n",
        "      unique_words.setdefault(word,0)\n",
        "      #increase the value (i.e the count) of the word by 1 every time it is encountered\n",
        "      unique_words[word] += 1\n",
        "\n",
        "  return unique_words"
      ],
      "metadata": {
        "id": "MAfOr8vR4P88"
      },
      "execution_count": 8,
      "outputs": []
    },
    {
      "cell_type": "code",
      "source": [
        "period = ''  # '', '_JanFeb2020', '_MarchApril2021', '_SeptOct2020'"
      ],
      "metadata": {
        "id": "o-GUlzAVOwk_"
      },
      "execution_count": 242,
      "outputs": []
    },
    {
      "cell_type": "code",
      "source": [
        "China = pd.read_csv('/content/China'+period+'.csv')\n",
        "USA = pd.read_csv('/content/USA'+period+'.csv')\n",
        "China_USA = pd.read_csv('/content/China&USA'+period+'.csv')"
      ],
      "metadata": {
        "colab": {
          "base_uri": "https://localhost:8080/"
        },
        "id": "suPdLaUx1Ct8",
        "outputId": "364d85bc-30fa-44bd-b4ef-7d6f36c6687f"
      },
      "execution_count": 243,
      "outputs": [
        {
          "output_type": "stream",
          "name": "stderr",
          "text": [
            "/usr/local/lib/python3.7/dist-packages/IPython/core/interactiveshell.py:2718: DtypeWarning: Columns (34,35,38) have mixed types.Specify dtype option on import or set low_memory=False.\n",
            "  interactivity=interactivity, compiler=compiler, result=result)\n",
            "/usr/local/lib/python3.7/dist-packages/IPython/core/interactiveshell.py:2718: DtypeWarning: Columns (38) have mixed types.Specify dtype option on import or set low_memory=False.\n",
            "  interactivity=interactivity, compiler=compiler, result=result)\n"
          ]
        }
      ]
    },
    {
      "cell_type": "code",
      "source": [
        "# number of tweets:\n",
        "print('China: ', len(China))\n",
        "print('USA: ', len(USA))\n",
        "print('China&USA: ', len(China_USA))"
      ],
      "metadata": {
        "colab": {
          "base_uri": "https://localhost:8080/"
        },
        "id": "OeO9nxO6Br3x",
        "outputId": "f85daad8-7889-4623-8cbb-3d2f443482ab"
      },
      "execution_count": 244,
      "outputs": [
        {
          "output_type": "stream",
          "name": "stdout",
          "text": [
            "China:  9350\n",
            "USA:  19865\n",
            "China&USA:  29215\n"
          ]
        }
      ]
    },
    {
      "cell_type": "code",
      "source": [
        "text_China = extract_text(China)\n",
        "text_USA = extract_text(USA)\n",
        "text_China_USA = extract_text(China_USA)"
      ],
      "metadata": {
        "colab": {
          "base_uri": "https://localhost:8080/"
        },
        "id": "-WI3Rz9T1Cxo",
        "outputId": "16c1c3fd-c08f-4f70-d5e0-4cd0bf51f150"
      },
      "execution_count": 245,
      "outputs": [
        {
          "output_type": "stream",
          "name": "stdout",
          "text": [
            "0 / 9350\n",
            "1000 / 9350\n",
            "2000 / 9350\n",
            "3000 / 9350\n",
            "4000 / 9350\n",
            "5000 / 9350\n",
            "6000 / 9350\n",
            "7000 / 9350\n",
            "8000 / 9350\n",
            "9000 / 9350\n",
            "0 / 19865\n",
            "1000 / 19865\n",
            "2000 / 19865\n",
            "3000 / 19865\n",
            "4000 / 19865\n",
            "5000 / 19865\n",
            "6000 / 19865\n",
            "7000 / 19865\n",
            "8000 / 19865\n",
            "9000 / 19865\n",
            "10000 / 19865\n",
            "11000 / 19865\n",
            "12000 / 19865\n",
            "13000 / 19865\n",
            "14000 / 19865\n",
            "15000 / 19865\n",
            "16000 / 19865\n",
            "17000 / 19865\n",
            "18000 / 19865\n",
            "19000 / 19865\n",
            "0 / 29215\n",
            "1000 / 29215\n",
            "2000 / 29215\n",
            "3000 / 29215\n",
            "4000 / 29215\n",
            "5000 / 29215\n",
            "6000 / 29215\n",
            "7000 / 29215\n",
            "8000 / 29215\n",
            "9000 / 29215\n",
            "10000 / 29215\n",
            "11000 / 29215\n",
            "12000 / 29215\n",
            "13000 / 29215\n",
            "14000 / 29215\n",
            "15000 / 29215\n",
            "16000 / 29215\n",
            "17000 / 29215\n",
            "18000 / 29215\n",
            "19000 / 29215\n",
            "20000 / 29215\n",
            "21000 / 29215\n",
            "22000 / 29215\n",
            "23000 / 29215\n",
            "24000 / 29215\n",
            "25000 / 29215\n",
            "26000 / 29215\n",
            "27000 / 29215\n",
            "28000 / 29215\n",
            "29000 / 29215\n"
          ]
        }
      ]
    },
    {
      "cell_type": "code",
      "source": [
        "cleaned_text_China = [lemma_pos_cleaner(txt) for txt in text_China]\n",
        "cleaned_text_USA = [lemma_pos_cleaner(txt) for txt in text_USA]\n",
        "cleaned_text_China_USA = [lemma_pos_cleaner(txt) for txt in text_China_USA]\n",
        "\n",
        "print('China:')\n",
        "print(cleaned_text_China[0:10])\n",
        "print()\n",
        "print('USA:')\n",
        "print(cleaned_text_USA[0:10])\n",
        "print()\n",
        "print('China&USA:')\n",
        "print(cleaned_text_China_USA[0:10])"
      ],
      "metadata": {
        "id": "6q4JI_jV1C2Q",
        "colab": {
          "base_uri": "https://localhost:8080/"
        },
        "outputId": "4963891e-8a1d-4f47-ed43-7380dbe56878"
      },
      "execution_count": 246,
      "outputs": [
        {
          "output_type": "stream",
          "name": "stdout",
          "text": [
            "China:\n",
            "['talk university challenge china face deal misconception people medium watch', 'spring always bring along lively saturate sea colorful bloom flower look collection flower blossom across china enjoy upcoming new season', 'mean carnival brazil year one samba school take inspiration china', 'china world make great stride track infectious disease take unexpected turn make hard track', 'fake news story case covid lead protest evacuation people', 'transmission outside china graphic', 'world health organization announce lead team international expert currently china', 'outside china confirm case novel covid half cruise ship dock japan rest scatter among country mostly asia', 'five cargo aircraft airway head city beijing shanghai carry ton medical supply gratis include million mask hand send epidemic prevention supply purchase china government', 'case miss jinping chair lead body meeting covid control']\n",
            "\n",
            "USA:\n",
            "['shameful attack bus carry evacuee china coronavirus outbreak', 'china hubei say people province prison system also infect coronavirus', 'china coronavirus outbreak late update', 'china foreign journalist coronavirus death climb', 'china coronavirus outbreak late update', 'least people china die spread country', 'aid agency warn patient china run drug amid coronavirus', 'china revoke press credential three wall street journal coronavirus opinion piece deem racist late', 'least people china report recover coronavirus survivor recall ordeal', 'concern china mass surveillance system use combat spread coronavirus']\n",
            "\n",
            "China&USA:\n",
            "['talk university challenge china face deal misconception people medium watch', 'spring always bring along lively saturate sea colorful bloom flower look collection flower blossom across china enjoy upcoming new season', 'mean carnival brazil year one samba school take inspiration china', 'china world make great stride track infectious disease take unexpected turn make hard track', 'fake news story case covid lead protest evacuation people', 'transmission outside china graphic', 'world health organization announce lead team international expert currently china', 'outside china confirm case novel covid half cruise ship dock japan rest scatter among country mostly asia', 'five cargo aircraft airway head city beijing shanghai carry ton medical supply gratis include million mask hand send epidemic prevention supply purchase china government', 'case miss jinping chair lead body meeting covid control']\n"
          ]
        }
      ]
    },
    {
      "cell_type": "code",
      "source": [
        "freq_dict_China = frequency_dictionary(cleaned_text_China)\n",
        "freq_dict_China = dict(sorted(freq_dict_China.items(), key=lambda item: item[1], reverse = True))   #order from more frequent to less frequent word\n",
        "\n",
        "freq_dict_USA = frequency_dictionary(cleaned_text_USA)\n",
        "freq_dict_USA = dict(sorted(freq_dict_USA.items(), key=lambda item: item[1], reverse = True))   #order from more frequent to less frequent word\n",
        "\n",
        "freq_dict_China_USA = frequency_dictionary(cleaned_text_China_USA)\n",
        "freq_dict_China_USA = dict(sorted(freq_dict_China_USA.items(), key=lambda item: item[1], reverse = True))   #order from more frequent to less frequent word\n",
        "\n",
        "# number of words in the cleaned tweets:\n",
        "print('China: ', len(list(freq_dict_China)))\n",
        "print('USA: ', len(list(freq_dict_USA)))\n",
        "print('China&USA: ', len(list(freq_dict_China_USA)))"
      ],
      "metadata": {
        "colab": {
          "base_uri": "https://localhost:8080/"
        },
        "id": "MCiw0q7t4UER",
        "outputId": "0ef89e12-c0ee-4526-c23a-ec71716eac84"
      },
      "execution_count": 332,
      "outputs": [
        {
          "output_type": "stream",
          "name": "stdout",
          "text": [
            "China:  5699\n",
            "USA:  6476\n",
            "China&USA:  8185\n"
          ]
        }
      ]
    },
    {
      "cell_type": "code",
      "source": [
        "# Most frequent words\n",
        "print('China')\n",
        "print([key for key in freq_dict_China.keys() if freq_dict_China[key]>200])\n",
        "print()\n",
        "print('USA')\n",
        "print([key for key in freq_dict_USA.keys() if freq_dict_USA[key]>400])\n",
        "print()\n",
        "print('China&USA')\n",
        "print([key for key in freq_dict_China_USA.keys() if freq_dict_China_USA[key]>600])"
      ],
      "metadata": {
        "colab": {
          "base_uri": "https://localhost:8080/"
        },
        "id": "y29OU9Cd5Auv",
        "outputId": "6b8bc914-6855-40b6-c498-7b193fb161da"
      },
      "execution_count": 196,
      "outputs": [
        {
          "output_type": "stream",
          "name": "stdout",
          "text": [
            "China\n",
            "['china', 'covid', 'novel', 'case', 'coronavirus', 'say', 'new', 'hospital', 'vaccine', 'outbreak', 'people', 'report', 'patient', 'fight', 'country', 'health', 'day', 'city', 'province', 'year', 'confirm', 'first', 'world', 'epidemic', 'death', 'live', 'national', 'medical', 'president', 'amid', 'million', 'hubei', 'one', 'take', 'support', 'virus', 'control', 'battle', 'help', 'test', 'see', 'pandemic', 'official', 'infection', 'show', 'work', 'number', 'effort', 'global', 'two', 'late', 'expert', 'receive', 'make', 'total', 'central', 'time', 'watch', 'accord', 'use', 'measure', 'state', 'across', 'high', 'discharge', 'bring', 'development', 'infect']\n",
            "\n",
            "USA\n",
            "['coronavirus', 'covid', 'china', 'say', 'vaccine', 'case', 'new', 'outbreak', 'virus', 'test', 'trump', 'death', 'people', 'report', 'president', 'health', 'spread', 'first', 'state', 'country', 'day', 'world', 'pandemic', 'million', 'positive', 'rise', 'late', 'year', 'infection', 'city', 'global', 'official', 'week', 'two', 'hit', 'get', 'one', 'take', 'house', 'johnson', 'amid', 'month', 'use', 'hospital', 'could', 'trial', 'may', 'travel', 'due', 'confirm', 'government', 'toll', 'japan', 'quarantine', 'accord', 'ship', 'fear', 'record', 'risk', 'make', 'cruise', 'number', 'white', 'india', 'help', 'second', 'high', 'plan', 'study', 'surge']\n",
            "\n",
            "China&USA\n",
            "['china', 'covid', 'coronavirus', 'say', 'vaccine', 'case', 'new', 'outbreak', 'people', 'report', 'virus', 'health', 'death', 'test', 'president', 'novel', 'country', 'trump', 'first', 'hospital', 'day', 'world', 'spread', 'year', 'city', 'state', 'million', 'pandemic', 'patient', 'confirm', 'fight', 'infection', 'one', 'take', 'positive', 'amid', 'late', 'official', 'global', 'two', 'rise', 'week', 'national', 'get', 'help', 'province', 'use', 'hit', 'number', 'see', 'make', 'accord', 'medical', 'show', 'work', 'month', 'government', 'live', 'time', 'travel', 'epidemic', 'high', 'house', 'control', 'second', 'due', 'hubei', 'johnson', 'trial', 'may', 'could']\n"
          ]
        }
      ]
    },
    {
      "cell_type": "markdown",
      "source": [
        "# less frequent words"
      ],
      "metadata": {
        "id": "9oHPXYbpINWh"
      }
    },
    {
      "cell_type": "code",
      "source": [
        "# less frequent words:\n",
        "print('Less frequent China: ', len([key for key in freq_dict_China.keys() if freq_dict_China[key]<10]))\n",
        "print('More frequent China: ', len([key for key in freq_dict_China.keys() if freq_dict_China[key]>=10]))\n",
        "less_frequent_words_China = [key for key in freq_dict_China.keys() if freq_dict_China[key]<10]\n",
        "\n",
        "print('Less frequent USA: ', len([key for key in freq_dict_USA.keys() if freq_dict_USA[key]<10]))\n",
        "print('More frequent USA:', len([key for key in freq_dict_USA.keys() if freq_dict_USA[key]>=10]))\n",
        "less_frequent_words_USA = [key for key in freq_dict_USA.keys() if freq_dict_USA[key]<10]\n",
        "\n",
        "print('Less frequent China&USA: ', len([key for key in freq_dict_China_USA.keys() if freq_dict_China_USA[key]<10]))\n",
        "print('More frequent China&USA: ', len([key for key in freq_dict_China_USA.keys() if freq_dict_China_USA[key]>=10]))\n",
        "less_frequent_words_China_USA = [key for key in freq_dict_China_USA.keys() if freq_dict_China_USA[key]<10]"
      ],
      "metadata": {
        "colab": {
          "base_uri": "https://localhost:8080/"
        },
        "id": "sgiQzaHD5zAb",
        "outputId": "5a905443-ff76-4cf1-c855-c7738d5fcc6b"
      },
      "execution_count": 333,
      "outputs": [
        {
          "output_type": "stream",
          "name": "stdout",
          "text": [
            "Less frequent China:  4155\n",
            "More frequent China:  1544\n",
            "Less frequent USA:  4287\n",
            "More frequent USA: 2189\n",
            "Less frequent China&USA:  5344\n",
            "More frequent China&USA:  2841\n"
          ]
        }
      ]
    },
    {
      "cell_type": "code",
      "source": [
        "# discard less frequent words\n",
        "def clean_words(cleaned_text, unuseful_words):\n",
        "  re_cleaned_text = cleaned_text.copy()\n",
        "  for txt in range(len(re_cleaned_text)):\n",
        "    if txt % 2000 == 0:\n",
        "      print(txt, '/',len(re_cleaned_text))\n",
        "    w = re_cleaned_text[txt].split()\n",
        "    for word in unuseful_words:\n",
        "      while word in w:\n",
        "        w.remove(word)\n",
        "    re_cleaned_text[txt] = ' '.join(w)\n",
        "  return re_cleaned_text"
      ],
      "metadata": {
        "id": "wGHsUAKwkg4q"
      },
      "execution_count": 334,
      "outputs": []
    },
    {
      "cell_type": "code",
      "source": [
        "cleaned_mostfreq_text_China = clean_words(cleaned_text_China, less_frequent_words_China)\n",
        "cleaned_mostfreq_text_USA = clean_words(cleaned_text_USA, less_frequent_words_USA)\n",
        "cleaned_mostfreq_text_China_USA = clean_words(cleaned_text_China_USA, less_frequent_words_China_USA)"
      ],
      "metadata": {
        "colab": {
          "base_uri": "https://localhost:8080/"
        },
        "id": "ZmlqtzHp6lh8",
        "outputId": "bb56a723-7666-4105-ccd3-9641d717fe18"
      },
      "execution_count": 335,
      "outputs": [
        {
          "output_type": "stream",
          "name": "stdout",
          "text": [
            "0 / 9268\n",
            "2000 / 9268\n",
            "4000 / 9268\n",
            "6000 / 9268\n",
            "8000 / 9268\n",
            "0 / 19860\n",
            "2000 / 19860\n",
            "4000 / 19860\n",
            "6000 / 19860\n",
            "8000 / 19860\n",
            "10000 / 19860\n",
            "12000 / 19860\n",
            "14000 / 19860\n",
            "16000 / 19860\n",
            "18000 / 19860\n",
            "0 / 29128\n",
            "2000 / 29128\n",
            "4000 / 29128\n",
            "6000 / 29128\n",
            "8000 / 29128\n",
            "10000 / 29128\n",
            "12000 / 29128\n",
            "14000 / 29128\n",
            "16000 / 29128\n",
            "18000 / 29128\n",
            "20000 / 29128\n",
            "22000 / 29128\n",
            "24000 / 29128\n",
            "26000 / 29128\n",
            "28000 / 29128\n"
          ]
        }
      ]
    },
    {
      "cell_type": "code",
      "source": [
        "freq_dict_China = frequency_dictionary(cleaned_mostfreq_text_China)\n",
        "freq_dict_China = dict(sorted(freq_dict_China.items(), key=lambda item: item[1], reverse = True))   #order from more frequent to less frequent word\n",
        "\n",
        "freq_dict_USA = frequency_dictionary(cleaned_mostfreq_text_USA)\n",
        "freq_dict_USA = dict(sorted(freq_dict_USA.items(), key=lambda item: item[1], reverse = True))   #order from more frequent to less frequent word\n",
        "\n",
        "freq_dict_China_USA = frequency_dictionary(cleaned_mostfreq_text_China_USA)\n",
        "freq_dict_China_USA = dict(sorted(freq_dict_China_USA.items(), key=lambda item: item[1], reverse = True))   #order from more frequent to less frequent word\n",
        "\n",
        "# number of words in the cleaned tweets:\n",
        "print('China: ', len(list(freq_dict_China)))\n",
        "print('USA: ', len(list(freq_dict_USA)))\n",
        "print('China&USA: ', len(list(freq_dict_China_USA)))"
      ],
      "metadata": {
        "colab": {
          "base_uri": "https://localhost:8080/"
        },
        "id": "2KHj5-o57f8y",
        "outputId": "791d25fa-f07b-4a40-cced-c9bc0ef610d3"
      },
      "execution_count": 337,
      "outputs": [
        {
          "output_type": "stream",
          "name": "stdout",
          "text": [
            "China:  1544\n",
            "USA:  2189\n",
            "China&USA:  2841\n"
          ]
        }
      ]
    },
    {
      "cell_type": "markdown",
      "source": [
        "# Build Network"
      ],
      "metadata": {
        "id": "1davLfA3HNV2"
      }
    },
    {
      "cell_type": "code",
      "source": [
        "df_China = pd.DataFrame.from_dict(freq_dict_China, orient='index').reset_index()\n",
        "df_China.rename(columns = {'index':'Word', 0:'Count'}, inplace=True)\n",
        "df_China.sort_values(by=['Count'], ascending=False, inplace=True)\n",
        "df_China.reset_index(inplace=True)\n",
        "df_China.drop(columns=\"index\",inplace=True)\n",
        "\n",
        "df_USA = pd.DataFrame.from_dict(freq_dict_USA, orient='index').reset_index()\n",
        "df_USA.rename(columns = {'index':'Word', 0:'Count'}, inplace=True)\n",
        "df_USA.sort_values(by=['Count'], ascending=False, inplace=True)\n",
        "df_USA.reset_index(inplace=True)\n",
        "df_USA.drop(columns=\"index\",inplace=True)\n",
        "\n",
        "df_China_USA = pd.DataFrame.from_dict(freq_dict_China_USA, orient='index').reset_index()\n",
        "df_China_USA.rename(columns = {'index':'Word', 0:'Count'}, inplace=True)\n",
        "df_China_USA.sort_values(by=['Count'], ascending=False, inplace=True)\n",
        "df_China_USA.reset_index(inplace=True)\n",
        "df_China_USA.drop(columns=\"index\",inplace=True)\n",
        "\n",
        "print('China')\n",
        "print(df_China.iloc[0:30])\n",
        "print()\n",
        "print('USA')\n",
        "print(df_USA.iloc[0:30])\n",
        "print()\n",
        "print('China&USA')\n",
        "print(df_China_USA.iloc[0:30])\n",
        "print()"
      ],
      "metadata": {
        "colab": {
          "base_uri": "https://localhost:8080/"
        },
        "id": "IxPPnevj890b",
        "outputId": "df111561-eb3e-4205-c1b1-9d626e1c616a"
      },
      "execution_count": 338,
      "outputs": [
        {
          "output_type": "stream",
          "name": "stdout",
          "text": [
            "China\n",
            "           Word  Count\n",
            "0         china   5101\n",
            "1         covid   1749\n",
            "2         novel   1402\n",
            "3          case   1359\n",
            "4   coronavirus   1264\n",
            "5           say   1158\n",
            "6           new   1128\n",
            "7      hospital   1014\n",
            "8       vaccine    960\n",
            "9      outbreak    877\n",
            "10       people    757\n",
            "11       report    705\n",
            "12      patient    685\n",
            "13        fight    683\n",
            "14      country    640\n",
            "15       health    638\n",
            "16          day    594\n",
            "17         city    573\n",
            "18     province    571\n",
            "19         year    552\n",
            "20      confirm    542\n",
            "21        first    510\n",
            "22        world    492\n",
            "23     epidemic    460\n",
            "24        death    446\n",
            "25         live    443\n",
            "26     national    442\n",
            "27      medical    440\n",
            "28    president    434\n",
            "29         amid    396\n",
            "\n",
            "USA\n",
            "           Word  Count\n",
            "0   coronavirus   7552\n",
            "1         covid   7261\n",
            "2         china   5151\n",
            "3           say   3474\n",
            "4       vaccine   3383\n",
            "5          case   2560\n",
            "6           new   2489\n",
            "7      outbreak   1619\n",
            "8         virus   1536\n",
            "9          test   1424\n",
            "10        trump   1396\n",
            "11        death   1340\n",
            "12       people   1305\n",
            "13       report   1268\n",
            "14    president   1245\n",
            "15       health   1229\n",
            "16       spread   1117\n",
            "17        first   1035\n",
            "18        state    973\n",
            "19      country    915\n",
            "20          day    870\n",
            "21        world    862\n",
            "22     pandemic    857\n",
            "23      million    792\n",
            "24     positive    759\n",
            "25         rise    745\n",
            "26         late    661\n",
            "27         year    653\n",
            "28    infection    648\n",
            "29         city    630\n",
            "\n",
            "China&USA\n",
            "           Word  Count\n",
            "0         china  10252\n",
            "1         covid   9010\n",
            "2   coronavirus   8816\n",
            "3           say   4632\n",
            "4       vaccine   4343\n",
            "5          case   3919\n",
            "6           new   3617\n",
            "7      outbreak   2496\n",
            "8        people   2062\n",
            "9        report   1973\n",
            "10        virus   1884\n",
            "11       health   1867\n",
            "12        death   1786\n",
            "13         test   1752\n",
            "14    president   1679\n",
            "15        novel   1585\n",
            "16      country   1555\n",
            "17        trump   1549\n",
            "18        first   1545\n",
            "19     hospital   1529\n",
            "20          day   1464\n",
            "21        world   1354\n",
            "22       spread   1313\n",
            "23         year   1205\n",
            "24         city   1203\n",
            "25        state   1189\n",
            "26      million   1187\n",
            "27     pandemic   1169\n",
            "28      patient   1076\n",
            "29      confirm   1032\n",
            "\n"
          ]
        }
      ]
    },
    {
      "cell_type": "code",
      "source": [
        "keys_China = freq_dict_China.keys()  \n",
        "keys_USA = freq_dict_USA.keys()  \n",
        "keys_China_USA = freq_dict_China_USA.keys()  "
      ],
      "metadata": {
        "id": "zHmEpbLtr46D"
      },
      "execution_count": 339,
      "outputs": []
    },
    {
      "cell_type": "code",
      "source": [
        "def create_network(cleaned_text):\n",
        "  network = {}\n",
        "  #connect the word that appear in the same tweets\n",
        "  for row in cleaned_text:\n",
        "    combined_list = [word for word in str.split(row)]\n",
        "    #for pair in itertools.product(combined_list, combined_list):\n",
        "    #print(combined_list)\n",
        "    for pair in itertools.product(combined_list, combined_list):\n",
        "          #exclude self-loops and count each pair only once because our graph is undirected and we do not take self-loops into account\n",
        "          if pair[0]!=pair[1] and not(pair[::-1] in network):\n",
        "              network.setdefault(pair,0)\n",
        "              network[pair] += 1 \n",
        "  network_df = pd.DataFrame.from_dict(network, orient=\"index\")\n",
        "  network_df.columns = [\"weight\"]\n",
        "  network_df.sort_values(by=\"weight\",inplace=True, ascending=False)\n",
        "  return network, network_df"
      ],
      "metadata": {
        "id": "nUAWB6lT1DAd"
      },
      "execution_count": 340,
      "outputs": []
    },
    {
      "cell_type": "code",
      "source": [
        "network_China, network_df_China = create_network(cleaned_mostfreq_text_China)\n",
        "network_USA, network_df_USA = create_network(cleaned_mostfreq_text_USA)\n",
        "network_China_USA, network_df_China_USA = create_network(cleaned_mostfreq_text_China_USA)"
      ],
      "metadata": {
        "id": "7vR_r37vAGye"
      },
      "execution_count": 341,
      "outputs": []
    },
    {
      "cell_type": "code",
      "source": [
        "print('China:')\n",
        "print(network_df_China.iloc[0:30])\n",
        "print()\n",
        "print('USA:')\n",
        "print(network_df_USA.iloc[0:30])\n",
        "print()\n",
        "print('China&USA:')\n",
        "print(network_df_China_USA.iloc[0:30])\n",
        "print()"
      ],
      "metadata": {
        "colab": {
          "base_uri": "https://localhost:8080/"
        },
        "id": "RxMWDZua_b-l",
        "outputId": "5fe2f27a-8c61-490e-aae7-1ab72050376a"
      },
      "execution_count": 342,
      "outputs": [
        {
          "output_type": "stream",
          "name": "stdout",
          "text": [
            "China:\n",
            "                      weight\n",
            "(china, novel)          1031\n",
            "(china, say)             766\n",
            "(new, case)              758\n",
            "(china, coronavirus)     662\n",
            "(confirm, case)          653\n",
            "(china, outbreak)        650\n",
            "(case, report)           632\n",
            "(china, case)            602\n",
            "(vaccine, covid)         586\n",
            "(china, new)             581\n",
            "(china, fight)           578\n",
            "(patient, hospital)      572\n",
            "(china, covid)           551\n",
            "(novel, coronavirus)     499\n",
            "(china, province)        441\n",
            "(report, new)            434\n",
            "(case, death)            432\n",
            "(china, people)          418\n",
            "(epidemic, china)        401\n",
            "(novel, outbreak)        394\n",
            "(china, country)         394\n",
            "(china, support)         391\n",
            "(china, national)        356\n",
            "(year, china)            352\n",
            "(china, hospital)        348\n",
            "(day, china)             343\n",
            "(city, china)            339\n",
            "(case, covid)            333\n",
            "(china, vaccine)         330\n",
            "(china, report)          326\n",
            "\n",
            "USA:\n",
            "                         weight\n",
            "(china, coronavirus)       2665\n",
            "(vaccine, covid)           2212\n",
            "(say, covid)               1470\n",
            "(coronavirus, case)        1312\n",
            "(coronavirus, outbreak)    1210\n",
            "(say, coronavirus)         1171\n",
            "(president, trump)         1077\n",
            "(covid, case)              1074\n",
            "(new, covid)               1060\n",
            "(new, coronavirus)         1040\n",
            "(china, outbreak)           945\n",
            "(new, case)                 932\n",
            "(vaccine, say)              921\n",
            "(spread, coronavirus)       807\n",
            "(test, covid)               793\n",
            "(china, case)               763\n",
            "(test, positive)            761\n",
            "(coronavirus, death)        752\n",
            "(china, virus)              748\n",
            "(china, say)                734\n",
            "(china, new)                718\n",
            "(covid, trump)              713\n",
            "(case, report)              637\n",
            "(people, coronavirus)       626\n",
            "(test, coronavirus)         617\n",
            "(coronavirus, health)       614\n",
            "(china, death)              600\n",
            "(covid, president)          597\n",
            "(trump, say)                586\n",
            "(report, covid)             575\n",
            "\n",
            "China&USA:\n",
            "                         weight\n",
            "(china, coronavirus)       3327\n",
            "(vaccine, covid)           2798\n",
            "(covid, say)               1740\n",
            "(new, case)                1690\n",
            "(coronavirus, case)        1603\n",
            "(china, outbreak)          1595\n",
            "(china, say)               1500\n",
            "(coronavirus, outbreak)    1451\n",
            "(case, covid)              1407\n",
            "(china, case)              1365\n",
            "(new, covid)               1307\n",
            "(china, new)               1299\n",
            "(say, coronavirus)         1292\n",
            "(coronavirus, new)         1272\n",
            "(case, report)             1269\n",
            "(president, trump)         1191\n",
            "(china, novel)             1116\n",
            "(say, vaccine)             1102\n",
            "(confirm, case)            1090\n",
            "(report, new)               989\n",
            "(china, virus)              982\n",
            "(covid, test)               917\n",
            "(test, positive)            914\n",
            "(china, covid)              912\n",
            "(china, people)             895\n",
            "(spread, coronavirus)       863\n",
            "(coronavirus, death)        835\n",
            "(case, death)               831\n",
            "(china, death)              817\n",
            "(report, covid)             798\n",
            "\n"
          ]
        }
      ]
    },
    {
      "cell_type": "markdown",
      "source": [
        "#Graph\n"
      ],
      "metadata": {
        "id": "gfvo8x0Ku78D"
      }
    },
    {
      "cell_type": "code",
      "source": [
        "def get_graph(network):\n",
        "  up_weighted = []\n",
        "  for edge in network:\n",
        "      #we can filter edges by weight by uncommenting the next line and setting desired weight threshold\n",
        "      up_weighted.append((edge[0],edge[1],network[edge]))\n",
        "      \n",
        "  #print(network)\n",
        "  #print(up_weighted[0:10])\n",
        "  G = nx.Graph()\n",
        "  G.add_weighted_edges_from(up_weighted)\n",
        "  return G"
      ],
      "metadata": {
        "id": "2NGKuSuYAo-K"
      },
      "execution_count": 343,
      "outputs": []
    },
    {
      "cell_type": "code",
      "source": [
        "G_China = get_graph(network_China)\n",
        "G_USA = get_graph(network_USA)\n",
        "G_China_USA = get_graph(network_China_USA)"
      ],
      "metadata": {
        "id": "TbpTF19bBKJq"
      },
      "execution_count": 344,
      "outputs": []
    },
    {
      "cell_type": "code",
      "source": [
        "print('China:')\n",
        "print('Nodes: ',len(G_China.nodes()))\n",
        "print('Edges: ',len(G_China.edges()))\n",
        "print('Is connected: ',nx.is_connected(G_China))\n",
        "print()\n",
        "print('USA:')\n",
        "print('Nodes: ',len(G_USA.nodes()))\n",
        "print('Edges: ',len(G_USA.edges()))\n",
        "print('Is connected: ',nx.is_connected(G_USA))\n",
        "print()\n",
        "print('China&USA:')\n",
        "print('Nodes: ',len(G_China_USA.nodes()))\n",
        "print('Edges: ',len(G_China_USA.edges()))\n",
        "print('Is connected: ',nx.is_connected(G_China_USA))"
      ],
      "metadata": {
        "id": "W178ljb9rM6Z",
        "colab": {
          "base_uri": "https://localhost:8080/"
        },
        "outputId": "5da2396b-13c3-4f1a-ebd2-3664cf23e19a"
      },
      "execution_count": 345,
      "outputs": [
        {
          "output_type": "stream",
          "name": "stdout",
          "text": [
            "China:\n",
            "Nodes:  1544\n",
            "Edges:  155608\n",
            "Is connected:  True\n",
            "\n",
            "USA:\n",
            "Nodes:  2189\n",
            "Edges:  241243\n",
            "Is connected:  True\n",
            "\n",
            "China&USA:\n",
            "Nodes:  2841\n",
            "Edges:  391709\n",
            "Is connected:  True\n"
          ]
        }
      ]
    },
    {
      "cell_type": "markdown",
      "source": [
        "# PageRank"
      ],
      "metadata": {
        "id": "1LYNr4McLtWD"
      }
    },
    {
      "cell_type": "code",
      "execution_count": 346,
      "metadata": {
        "id": "P6qJVv9vHIr1"
      },
      "outputs": [],
      "source": [
        "# Calculating the pagerank on graph G, teleportation probability here is 0.15 but since the graph is strongly connected we can set it to zero if we want\n",
        "pr_China = nx.algorithms.pagerank(G_China,alpha = 1)\n",
        "pr_China = dict(sorted(pr_China.items(), key=lambda item: item[1],reverse  = True))\n",
        "\n",
        "pr_USA = nx.algorithms.pagerank(G_USA,alpha = 1)\n",
        "pr_USA = dict(sorted(pr_USA.items(), key=lambda item: item[1],reverse  = True))\n",
        "\n",
        "pr_China_USA = nx.algorithms.pagerank(G_China_USA,alpha = 1)\n",
        "pr_China_USA = dict(sorted(pr_China_USA.items(), key=lambda item: item[1],reverse  = True))"
      ]
    },
    {
      "cell_type": "code",
      "execution_count": 209,
      "metadata": {
        "id": "BcVoAXxqpqLd"
      },
      "outputs": [],
      "source": [
        "def threshold(vector,threshold):\n",
        "\n",
        "  l = [(el,vector[el]) for el in vector if vector[el] >= threshold ]\n",
        "\n",
        "  return pd.DataFrame(l)"
      ]
    },
    {
      "cell_type": "code",
      "source": [
        "def threshold_reverse(vector,threshold):\n",
        "\n",
        "  l = [(el,vector[el]) for el in vector if vector[el] < threshold ]\n",
        "\n",
        "  return pd.DataFrame(l)"
      ],
      "metadata": {
        "id": "7-UFIOEJL6bY"
      },
      "execution_count": 210,
      "outputs": []
    },
    {
      "cell_type": "code",
      "execution_count": 347,
      "metadata": {
        "colab": {
          "base_uri": "https://localhost:8080/"
        },
        "id": "7cUhquN72cI6",
        "outputId": "a4f00033-0d9d-48b1-fd7a-0deb8867bf31"
      },
      "outputs": [
        {
          "output_type": "stream",
          "name": "stdout",
          "text": [
            "China:  535\n",
            "\n",
            "              0         1\n",
            "0         china  0.049056\n",
            "1         covid  0.015826\n",
            "2         novel  0.014044\n",
            "3          case  0.013756\n",
            "4           say  0.013302\n",
            "5   coronavirus  0.011657\n",
            "6           new  0.011316\n",
            "7      hospital  0.009887\n",
            "8      outbreak  0.008688\n",
            "9        people  0.008281\n",
            "10      vaccine  0.008055\n",
            "11       report  0.007584\n",
            "12       health  0.007343\n",
            "13      country  0.007220\n",
            "14      patient  0.006858\n",
            "15          day  0.006804\n",
            "16         city  0.006623\n",
            "17     province  0.006577\n",
            "18        fight  0.006524\n",
            "19         year  0.006342\n",
            "20      confirm  0.005906\n",
            "21        world  0.005463\n",
            "22        first  0.005377\n",
            "23     national  0.005043\n",
            "24      medical  0.004922\n",
            "25     epidemic  0.004891\n",
            "26        death  0.004849\n",
            "27          one  0.004541\n",
            "28    president  0.004418\n",
            "29        hubei  0.004361\n",
            "\n",
            "USA:  558\n",
            "\n",
            "              0         1\n",
            "0   coronavirus  0.032657\n",
            "1         covid  0.030116\n",
            "2         china  0.021297\n",
            "3           say  0.018382\n",
            "4       vaccine  0.014874\n",
            "5           new  0.011662\n",
            "6          case  0.011305\n",
            "7         trump  0.008764\n",
            "8      outbreak  0.008150\n",
            "9     president  0.007667\n",
            "10       people  0.007585\n",
            "11        virus  0.007457\n",
            "12       health  0.007156\n",
            "13         test  0.007087\n",
            "14        death  0.006131\n",
            "15       report  0.005772\n",
            "16        first  0.005461\n",
            "17        state  0.005310\n",
            "18      country  0.005210\n",
            "19       spread  0.005172\n",
            "20     pandemic  0.004923\n",
            "21        world  0.004782\n",
            "22          day  0.004741\n",
            "23     positive  0.003924\n",
            "24         year  0.003809\n",
            "25      million  0.003753\n",
            "26     official  0.003691\n",
            "27        house  0.003532\n",
            "28         week  0.003529\n",
            "29          one  0.003456\n",
            "\n",
            "China&USA:  528\n",
            "\n",
            "              0         1\n",
            "0         china  0.029816\n",
            "1   coronavirus  0.024644\n",
            "2         covid  0.024497\n",
            "3           say  0.016159\n",
            "4       vaccine  0.012130\n",
            "5          case  0.011534\n",
            "6           new  0.011078\n",
            "7      outbreak  0.008029\n",
            "8        people  0.007590\n",
            "9        health  0.006943\n",
            "10    president  0.006396\n",
            "11        trump  0.006137\n",
            "12       report  0.006084\n",
            "13        virus  0.006067\n",
            "14      country  0.005694\n",
            "15         test  0.005632\n",
            "16        death  0.005421\n",
            "17        novel  0.005302\n",
            "18          day  0.005233\n",
            "19        first  0.005231\n",
            "20     hospital  0.004886\n",
            "21        world  0.004885\n",
            "22         year  0.004558\n",
            "23         city  0.004355\n",
            "24     pandemic  0.004217\n",
            "25        state  0.004124\n",
            "26       spread  0.004014\n",
            "27      million  0.003793\n",
            "28          one  0.003694\n",
            "29      patient  0.003547\n"
          ]
        }
      ],
      "source": [
        "thr = 0.0004\n",
        "print('China: ', len(threshold(pr_China,thr)))\n",
        "print()\n",
        "print(threshold(pr_China,thr).iloc[:30])\n",
        "print()\n",
        "print('USA: ', len(threshold(pr_USA,thr)))\n",
        "print()\n",
        "print(threshold(pr_USA,thr).iloc[:30])\n",
        "print()\n",
        "print('China&USA: ', len(threshold(pr_China_USA,thr)))\n",
        "print()\n",
        "print(threshold(pr_China_USA,thr).iloc[:30])"
      ]
    },
    {
      "cell_type": "markdown",
      "metadata": {
        "id": "mIqlZ2nZ9qKW"
      },
      "source": [
        "# TF-IDF"
      ]
    },
    {
      "cell_type": "code",
      "execution_count": 145,
      "metadata": {
        "id": "gVbC8VFA9pgw"
      },
      "outputs": [],
      "source": [
        "tfidf = TfidfVectorizer(ngram_range=(1,1))   # ngram range can be changed to obtain measures regarding n grams instead of single words\n",
        "\n",
        "X_China = tfidf.fit_transform(cleaned_mostfreq_text_China).toarray()    # entry (i,j) if Tfidf measure of word_list[j] in document i\n",
        "word_list_China = tfidf.get_feature_names_out()\n",
        "\n",
        "X_USA = tfidf.fit_transform(cleaned_mostfreq_text_USA).toarray()\n",
        "word_list_USA = tfidf.get_feature_names_out()\n",
        "\n",
        "X_China_USA = tfidf.fit_transform(cleaned_mostfreq_text_China_USA).toarray()\n",
        "word_list_China_USA = tfidf.get_feature_names_out()\n"
      ]
    },
    {
      "cell_type": "code",
      "execution_count": 146,
      "metadata": {
        "id": "8k8fcvKX-yah"
      },
      "outputs": [],
      "source": [
        "tfidf_df_China = pd.DataFrame(X_China,columns = word_list_China)\n",
        "\n",
        "tfidf_df_USA = pd.DataFrame(X_USA,columns = word_list_USA)\n",
        "\n",
        "tfidf_df_China_USA = pd.DataFrame(X_China_USA,columns = word_list_China_USA)"
      ]
    },
    {
      "cell_type": "code",
      "execution_count": 147,
      "metadata": {
        "id": "MUr9_93WCKsj"
      },
      "outputs": [],
      "source": [
        "tfidf_word_measure_China = np.mean(tfidf_df_China,axis = 0)\n",
        "tfidf_word_measure_China = tfidf_word_measure_China.sort_values(ascending = False)\n",
        "tfidf_word_measure_USA = np.mean(tfidf_df_USA,axis = 0)\n",
        "tfidf_word_measure_USA = tfidf_word_measure_USA.sort_values(ascending = False)\n",
        "tfidf_word_measure_China_USA = np.mean(tfidf_df_China_USA,axis = 0)\n",
        "tfidf_word_measure_China_USA = tfidf_word_measure_China_USA.sort_values(ascending = False)"
      ]
    },
    {
      "cell_type": "code",
      "source": [
        "print('China:')\n",
        "print(tfidf_word_measure_China[0:30])\n",
        "print()\n",
        "print('USA:')\n",
        "print(tfidf_word_measure_USA[0:30])\n",
        "print()\n",
        "print('China&USA:')\n",
        "print(tfidf_word_measure_China_USA[0:30])\n",
        "print()"
      ],
      "metadata": {
        "colab": {
          "base_uri": "https://localhost:8080/"
        },
        "id": "dknv21f3XimF",
        "outputId": "8150b361-0d8e-423e-aa5d-c13996d46656"
      },
      "execution_count": 148,
      "outputs": [
        {
          "output_type": "stream",
          "name": "stdout",
          "text": [
            "China:\n",
            "china          0.057308\n",
            "covid          0.032324\n",
            "case           0.029068\n",
            "novel          0.027613\n",
            "coronavirus    0.027073\n",
            "new            0.025310\n",
            "vaccine        0.022850\n",
            "hospital       0.022707\n",
            "say            0.020790\n",
            "outbreak       0.019451\n",
            "report         0.017290\n",
            "fight          0.016928\n",
            "patient        0.016614\n",
            "people         0.015870\n",
            "confirm        0.014493\n",
            "watch          0.014340\n",
            "health         0.014284\n",
            "country        0.013984\n",
            "day            0.013548\n",
            "live           0.013418\n",
            "province       0.012843\n",
            "first          0.012796\n",
            "city           0.012772\n",
            "death          0.012311\n",
            "year           0.012188\n",
            "epidemic       0.011602\n",
            "world          0.011589\n",
            "amid           0.011068\n",
            "medical        0.011029\n",
            "president      0.010939\n",
            "dtype: float64\n",
            "\n",
            "USA:\n",
            "coronavirus    0.049964\n",
            "covid          0.048798\n",
            "china          0.041922\n",
            "vaccine        0.031179\n",
            "case           0.028552\n",
            "say            0.027605\n",
            "new            0.026548\n",
            "report         0.017858\n",
            "death          0.017717\n",
            "outbreak       0.017472\n",
            "virus          0.016565\n",
            "test           0.015995\n",
            "spread         0.014530\n",
            "people         0.013397\n",
            "health         0.013062\n",
            "trump          0.012856\n",
            "first          0.012383\n",
            "late           0.012188\n",
            "president      0.011931\n",
            "day            0.011101\n",
            "million        0.010975\n",
            "state          0.010970\n",
            "rise           0.010859\n",
            "country        0.010296\n",
            "world          0.009803\n",
            "positive       0.009788\n",
            "pandemic       0.009250\n",
            "infection      0.009202\n",
            "hit            0.008676\n",
            "confirm        0.008293\n",
            "dtype: float64\n",
            "\n",
            "China&USA:\n",
            "china          0.045025\n",
            "coronavirus    0.043023\n",
            "covid          0.042952\n",
            "case           0.027940\n",
            "vaccine        0.027795\n",
            "new            0.025418\n",
            "say            0.024504\n",
            "outbreak       0.017287\n",
            "report         0.017267\n",
            "death          0.015772\n",
            "virus          0.013790\n",
            "people         0.013533\n",
            "test           0.013425\n",
            "health         0.013030\n",
            "first          0.012086\n",
            "novel          0.011913\n",
            "hospital       0.011772\n",
            "spread         0.011647\n",
            "day            0.011458\n",
            "president      0.011083\n",
            "country        0.011067\n",
            "late           0.010992\n",
            "million        0.010479\n",
            "trump          0.010238\n",
            "confirm        0.010151\n",
            "world          0.009885\n",
            "state          0.009265\n",
            "infection      0.009075\n",
            "city           0.009012\n",
            "patient        0.008779\n",
            "dtype: float64\n",
            "\n"
          ]
        }
      ]
    },
    {
      "cell_type": "markdown",
      "source": [
        "# reduced graph"
      ],
      "metadata": {
        "id": "4nkLA8k0LB7b"
      }
    },
    {
      "cell_type": "code",
      "source": [
        "# less important words:\n",
        "less_important_words_China = list(threshold_reverse(pr_China,thr)[0])\n",
        "\n",
        "less_important_words_USA = list(threshold_reverse(pr_USA,thr)[0])\n",
        "\n",
        "less_important_words_China_USA = list(threshold_reverse(pr_China_USA,thr)[0])"
      ],
      "metadata": {
        "id": "6ndwCL9oLpDA"
      },
      "execution_count": 350,
      "outputs": []
    },
    {
      "cell_type": "code",
      "source": [
        "cleaned_mostimp_text_China = clean_words(cleaned_mostfreq_text_China,less_important_words_China)\n",
        "cleaned_mostimp_text_USA = clean_words(cleaned_mostfreq_text_USA,less_important_words_USA)\n",
        "cleaned_mostimp_text_China_USA = clean_words(cleaned_mostfreq_text_China_USA,less_important_words_China_USA)"
      ],
      "metadata": {
        "colab": {
          "base_uri": "https://localhost:8080/"
        },
        "id": "TOA3UEyBunzo",
        "outputId": "95976902-fcea-40c6-a456-5a1fed15a0ab"
      },
      "execution_count": 351,
      "outputs": [
        {
          "output_type": "stream",
          "name": "stdout",
          "text": [
            "0 / 9268\n",
            "2000 / 9268\n",
            "4000 / 9268\n",
            "6000 / 9268\n",
            "8000 / 9268\n",
            "0 / 19860\n",
            "2000 / 19860\n",
            "4000 / 19860\n",
            "6000 / 19860\n",
            "8000 / 19860\n",
            "10000 / 19860\n",
            "12000 / 19860\n",
            "14000 / 19860\n",
            "16000 / 19860\n",
            "18000 / 19860\n",
            "0 / 29128\n",
            "2000 / 29128\n",
            "4000 / 29128\n",
            "6000 / 29128\n",
            "8000 / 29128\n",
            "10000 / 29128\n",
            "12000 / 29128\n",
            "14000 / 29128\n",
            "16000 / 29128\n",
            "18000 / 29128\n",
            "20000 / 29128\n",
            "22000 / 29128\n",
            "24000 / 29128\n",
            "26000 / 29128\n",
            "28000 / 29128\n"
          ]
        }
      ]
    },
    {
      "cell_type": "code",
      "source": [
        "freq_dict_China = frequency_dictionary(cleaned_mostimp_text_China)\n",
        "freq_dict_China = dict(sorted(freq_dict_China.items(), key=lambda item: item[1], reverse = True))   #order from more frequent to less frequent word\n",
        "\n",
        "freq_dict_USA = frequency_dictionary(cleaned_mostimp_text_USA)\n",
        "freq_dict_USA = dict(sorted(freq_dict_USA.items(), key=lambda item: item[1], reverse = True))   #order from more frequent to less frequent word\n",
        "\n",
        "freq_dict_China_USA = frequency_dictionary(cleaned_mostimp_text_China_USA)\n",
        "freq_dict_China_USA = dict(sorted(freq_dict_China_USA.items(), key=lambda item: item[1], reverse = True))   #order from more frequent to less frequent word\n",
        "\n",
        "# number of words in the cleaned tweets:\n",
        "print('China: ', len(list(freq_dict_China)))\n",
        "print('USA: ', len(list(freq_dict_USA)))\n",
        "print('China&USA: ', len(list(freq_dict_China_USA)))"
      ],
      "metadata": {
        "colab": {
          "base_uri": "https://localhost:8080/"
        },
        "outputId": "bf9ccaaa-8004-46ab-fb23-2c673f9768eb",
        "id": "X2ObCNtJLpDB"
      },
      "execution_count": 352,
      "outputs": [
        {
          "output_type": "stream",
          "name": "stdout",
          "text": [
            "China:  535\n",
            "USA:  558\n",
            "China&USA:  528\n"
          ]
        }
      ]
    },
    {
      "cell_type": "code",
      "source": [
        "df_China = pd.DataFrame.from_dict(freq_dict_China, orient='index').reset_index()\n",
        "df_China.rename(columns = {'index':'Word', 0:'Count'}, inplace=True)\n",
        "df_China.sort_values(by=['Count'], ascending=False, inplace=True)\n",
        "df_China.reset_index(inplace=True)\n",
        "df_China.drop(columns=\"index\",inplace=True)\n",
        "\n",
        "df_USA = pd.DataFrame.from_dict(freq_dict_USA, orient='index').reset_index()\n",
        "df_USA.rename(columns = {'index':'Word', 0:'Count'}, inplace=True)\n",
        "df_USA.sort_values(by=['Count'], ascending=False, inplace=True)\n",
        "df_USA.reset_index(inplace=True)\n",
        "df_USA.drop(columns=\"index\",inplace=True)\n",
        "\n",
        "df_China_USA = pd.DataFrame.from_dict(freq_dict_China_USA, orient='index').reset_index()\n",
        "df_China_USA.rename(columns = {'index':'Word', 0:'Count'}, inplace=True)\n",
        "df_China_USA.sort_values(by=['Count'], ascending=False, inplace=True)\n",
        "df_China_USA.reset_index(inplace=True)\n",
        "df_China_USA.drop(columns=\"index\",inplace=True)\n",
        "\n",
        "print('China')\n",
        "print(df_China.iloc[0:30])\n",
        "print()\n",
        "print('USA')\n",
        "print(df_USA.iloc[0:30])\n",
        "print()\n",
        "print('China&USA')\n",
        "print(df_China_USA.iloc[0:30])\n",
        "print()"
      ],
      "metadata": {
        "colab": {
          "base_uri": "https://localhost:8080/"
        },
        "outputId": "170f662c-680b-40d9-8e28-0e2ce7692fd2",
        "id": "DfrViAqzNnb9"
      },
      "execution_count": 353,
      "outputs": [
        {
          "output_type": "stream",
          "name": "stdout",
          "text": [
            "China\n",
            "           Word  Count\n",
            "0         china   5101\n",
            "1         covid   1749\n",
            "2         novel   1402\n",
            "3          case   1359\n",
            "4   coronavirus   1264\n",
            "5           say   1158\n",
            "6           new   1128\n",
            "7      hospital   1014\n",
            "8       vaccine    960\n",
            "9      outbreak    877\n",
            "10       people    757\n",
            "11       report    705\n",
            "12      patient    685\n",
            "13        fight    683\n",
            "14      country    640\n",
            "15       health    638\n",
            "16          day    594\n",
            "17         city    573\n",
            "18     province    571\n",
            "19         year    552\n",
            "20      confirm    542\n",
            "21        first    510\n",
            "22        world    492\n",
            "23     epidemic    460\n",
            "24        death    446\n",
            "25         live    443\n",
            "26     national    442\n",
            "27      medical    440\n",
            "28    president    434\n",
            "29         amid    396\n",
            "\n",
            "USA\n",
            "           Word  Count\n",
            "0   coronavirus   7552\n",
            "1         covid   7261\n",
            "2         china   5151\n",
            "3           say   3474\n",
            "4       vaccine   3383\n",
            "5          case   2560\n",
            "6           new   2489\n",
            "7      outbreak   1619\n",
            "8         virus   1536\n",
            "9          test   1424\n",
            "10        trump   1396\n",
            "11        death   1340\n",
            "12       people   1305\n",
            "13       report   1268\n",
            "14    president   1245\n",
            "15       health   1229\n",
            "16       spread   1117\n",
            "17        first   1035\n",
            "18        state    973\n",
            "19      country    915\n",
            "20          day    870\n",
            "21        world    862\n",
            "22     pandemic    857\n",
            "23      million    792\n",
            "24     positive    759\n",
            "25         rise    745\n",
            "26         late    661\n",
            "27         year    653\n",
            "28    infection    648\n",
            "29         city    630\n",
            "\n",
            "China&USA\n",
            "           Word  Count\n",
            "0         china  10252\n",
            "1         covid   9010\n",
            "2   coronavirus   8816\n",
            "3           say   4632\n",
            "4       vaccine   4343\n",
            "5          case   3919\n",
            "6           new   3617\n",
            "7      outbreak   2496\n",
            "8        people   2062\n",
            "9        report   1973\n",
            "10        virus   1884\n",
            "11       health   1867\n",
            "12        death   1786\n",
            "13         test   1752\n",
            "14    president   1679\n",
            "15        novel   1585\n",
            "16      country   1555\n",
            "17        trump   1549\n",
            "18        first   1545\n",
            "19     hospital   1529\n",
            "20          day   1464\n",
            "21        world   1354\n",
            "22       spread   1313\n",
            "23         year   1205\n",
            "24         city   1203\n",
            "25        state   1189\n",
            "26      million   1187\n",
            "27     pandemic   1169\n",
            "28      patient   1076\n",
            "29      confirm   1032\n",
            "\n"
          ]
        }
      ]
    },
    {
      "cell_type": "code",
      "source": [
        "keys_China = freq_dict_China.keys()  \n",
        "keys_USA = freq_dict_USA.keys()  \n",
        "keys_China_USA = freq_dict_China_USA.keys()  "
      ],
      "metadata": {
        "id": "Q52SCkkKNncF"
      },
      "execution_count": 354,
      "outputs": []
    },
    {
      "cell_type": "code",
      "source": [
        "network_China, network_df_China = create_network(cleaned_mostimp_text_China)\n",
        "network_USA, network_df_USA = create_network(cleaned_mostimp_text_USA)\n",
        "network_China_USA, network_df_China_USA = create_network(cleaned_mostimp_text_China_USA)"
      ],
      "metadata": {
        "id": "bPn3tfv7NncF"
      },
      "execution_count": 355,
      "outputs": []
    },
    {
      "cell_type": "code",
      "source": [
        "print('China:')\n",
        "print(network_df_China.iloc[0:30])\n",
        "print()\n",
        "print('USA:')\n",
        "print(network_df_USA.iloc[0:30])\n",
        "print()\n",
        "print('China&USA:')\n",
        "print(network_df_China_USA.iloc[0:30])\n",
        "print()"
      ],
      "metadata": {
        "colab": {
          "base_uri": "https://localhost:8080/"
        },
        "outputId": "3b4e0ded-b903-45b0-fa68-2fc1c205ab55",
        "id": "MVggBElVNncF"
      },
      "execution_count": 356,
      "outputs": [
        {
          "output_type": "stream",
          "name": "stdout",
          "text": [
            "China:\n",
            "                      weight\n",
            "(china, novel)          1031\n",
            "(china, say)             766\n",
            "(new, case)              758\n",
            "(china, coronavirus)     662\n",
            "(confirm, case)          653\n",
            "(china, outbreak)        650\n",
            "(case, report)           632\n",
            "(china, case)            602\n",
            "(vaccine, covid)         586\n",
            "(china, new)             581\n",
            "(china, fight)           578\n",
            "(patient, hospital)      572\n",
            "(china, covid)           551\n",
            "(novel, coronavirus)     499\n",
            "(china, province)        441\n",
            "(report, new)            434\n",
            "(case, death)            432\n",
            "(china, people)          418\n",
            "(epidemic, china)        401\n",
            "(china, country)         394\n",
            "(novel, outbreak)        394\n",
            "(china, support)         391\n",
            "(china, national)        356\n",
            "(year, china)            352\n",
            "(china, hospital)        348\n",
            "(day, china)             343\n",
            "(city, china)            339\n",
            "(case, covid)            333\n",
            "(china, vaccine)         330\n",
            "(china, report)          326\n",
            "\n",
            "USA:\n",
            "                         weight\n",
            "(china, coronavirus)       2665\n",
            "(vaccine, covid)           2212\n",
            "(say, covid)               1470\n",
            "(coronavirus, case)        1312\n",
            "(coronavirus, outbreak)    1210\n",
            "(say, coronavirus)         1171\n",
            "(president, trump)         1077\n",
            "(covid, case)              1074\n",
            "(new, covid)               1060\n",
            "(new, coronavirus)         1040\n",
            "(china, outbreak)           945\n",
            "(new, case)                 932\n",
            "(vaccine, say)              921\n",
            "(spread, coronavirus)       807\n",
            "(test, covid)               793\n",
            "(china, case)               763\n",
            "(test, positive)            761\n",
            "(coronavirus, death)        752\n",
            "(china, virus)              748\n",
            "(china, say)                734\n",
            "(china, new)                718\n",
            "(covid, trump)              713\n",
            "(case, report)              637\n",
            "(people, coronavirus)       626\n",
            "(test, coronavirus)         617\n",
            "(coronavirus, health)       614\n",
            "(china, death)              600\n",
            "(covid, president)          597\n",
            "(trump, say)                586\n",
            "(report, covid)             575\n",
            "\n",
            "China&USA:\n",
            "                         weight\n",
            "(china, coronavirus)       3327\n",
            "(vaccine, covid)           2798\n",
            "(covid, say)               1740\n",
            "(new, case)                1690\n",
            "(coronavirus, case)        1603\n",
            "(china, outbreak)          1595\n",
            "(china, say)               1500\n",
            "(coronavirus, outbreak)    1451\n",
            "(case, covid)              1407\n",
            "(china, case)              1365\n",
            "(new, covid)               1307\n",
            "(china, new)               1299\n",
            "(say, coronavirus)         1292\n",
            "(coronavirus, new)         1272\n",
            "(case, report)             1269\n",
            "(president, trump)         1191\n",
            "(china, novel)             1116\n",
            "(say, vaccine)             1102\n",
            "(confirm, case)            1090\n",
            "(report, new)               989\n",
            "(china, virus)              982\n",
            "(covid, test)               917\n",
            "(test, positive)            914\n",
            "(china, covid)              912\n",
            "(china, people)             895\n",
            "(spread, coronavirus)       863\n",
            "(coronavirus, death)        835\n",
            "(case, death)               831\n",
            "(china, death)              817\n",
            "(report, covid)             798\n",
            "\n"
          ]
        }
      ]
    },
    {
      "cell_type": "code",
      "source": [
        "def get_graph(network):\n",
        "  up_weighted = []\n",
        "  for edge in network:\n",
        "      #we can filter edges by weight by uncommenting the next line and setting desired weight threshold\n",
        "      up_weighted.append((edge[0],edge[1],network[edge]))\n",
        "      \n",
        "  #print(network)\n",
        "  #print(up_weighted[0:10])\n",
        "  G = nx.Graph()\n",
        "  G.add_weighted_edges_from(up_weighted)\n",
        "  return G"
      ],
      "metadata": {
        "id": "fmQTFAb3NncF"
      },
      "execution_count": 357,
      "outputs": []
    },
    {
      "cell_type": "code",
      "source": [
        "G_China = get_graph(network_China)\n",
        "G_USA = get_graph(network_USA)\n",
        "G_China_USA = get_graph(network_China_USA)"
      ],
      "metadata": {
        "id": "zNrH5boVNncF"
      },
      "execution_count": 358,
      "outputs": []
    },
    {
      "cell_type": "code",
      "source": [
        "print('China:')\n",
        "print('Nodes: ',len(G_China.nodes()))\n",
        "print('Edges: ',len(G_China.edges()))\n",
        "print('Is connected: ',nx.is_connected(G_China))\n",
        "print()\n",
        "print('USA:')\n",
        "print('Nodes: ',len(G_USA.nodes()))\n",
        "print('Edges: ',len(G_USA.edges()))\n",
        "print('Is connected: ',nx.is_connected(G_USA))\n",
        "print()\n",
        "print('China&USA:')\n",
        "print('Nodes: ',len(G_China_USA.nodes()))\n",
        "print('Edges: ',len(G_China_USA.edges()))\n",
        "print('Is connected: ',nx.is_connected(G_China_USA))"
      ],
      "metadata": {
        "colab": {
          "base_uri": "https://localhost:8080/"
        },
        "outputId": "89d68546-c826-46c5-8f72-c50b4ef0f21e",
        "id": "kx5041hFNncF"
      },
      "execution_count": 359,
      "outputs": [
        {
          "output_type": "stream",
          "name": "stdout",
          "text": [
            "China:\n",
            "Nodes:  535\n",
            "Edges:  60212\n",
            "Is connected:  True\n",
            "\n",
            "USA:\n",
            "Nodes:  558\n",
            "Edges:  80614\n",
            "Is connected:  True\n",
            "\n",
            "China&USA:\n",
            "Nodes:  528\n",
            "Edges:  90025\n",
            "Is connected:  True\n"
          ]
        }
      ]
    },
    {
      "cell_type": "markdown",
      "source": [
        "#Save edge list"
      ],
      "metadata": {
        "id": "p4SvWlzSfzFv"
      }
    },
    {
      "cell_type": "code",
      "source": [
        "filename = './edgelist_China.csv'\n",
        "nx.write_weighted_edgelist(G_China, filename, delimiter=\",\")\n",
        "#add header with appropriate column names (works on colab and Linux/Mac(?))\n",
        "!sed -i.bak 1i\"Source,Target,Weight\" ./edgelist_China.csv\n",
        "files.download(\"edgelist_China.csv\")\n",
        "\n",
        "filename = './edgelist_USA.csv'\n",
        "nx.write_weighted_edgelist(G_USA, filename, delimiter=\",\")\n",
        "#add header with appropriate column names (works on colab and Linux/Mac(?))\n",
        "!sed -i.bak 1i\"Source,Target,Weight\" ./edgelist_USA.csv\n",
        "files.download(\"edgelist_USA.csv\")\n",
        "\n",
        "filename = './edgelist_China_USA.csv'\n",
        "nx.write_weighted_edgelist(G_China_USA, filename, delimiter=\",\")\n",
        "#add header with appropriate column names (works on colab and Linux/Mac(?))\n",
        "!sed -i.bak 1i\"Source,Target,Weight\" ./edgelist_China_USA.csv\n",
        "files.download(\"edgelist_China_USA.csv\")"
      ],
      "metadata": {
        "id": "zgmmRGRCrM9J",
        "colab": {
          "base_uri": "https://localhost:8080/",
          "height": 17
        },
        "outputId": "ec8f20ce-e974-4d36-af8a-0cacdf1b28a7"
      },
      "execution_count": 360,
      "outputs": [
        {
          "output_type": "display_data",
          "data": {
            "application/javascript": [
              "\n",
              "    async function download(id, filename, size) {\n",
              "      if (!google.colab.kernel.accessAllowed) {\n",
              "        return;\n",
              "      }\n",
              "      const div = document.createElement('div');\n",
              "      const label = document.createElement('label');\n",
              "      label.textContent = `Downloading \"${filename}\": `;\n",
              "      div.appendChild(label);\n",
              "      const progress = document.createElement('progress');\n",
              "      progress.max = size;\n",
              "      div.appendChild(progress);\n",
              "      document.body.appendChild(div);\n",
              "\n",
              "      const buffers = [];\n",
              "      let downloaded = 0;\n",
              "\n",
              "      const channel = await google.colab.kernel.comms.open(id);\n",
              "      // Send a message to notify the kernel that we're ready.\n",
              "      channel.send({})\n",
              "\n",
              "      for await (const message of channel.messages) {\n",
              "        // Send a message to notify the kernel that we're ready.\n",
              "        channel.send({})\n",
              "        if (message.buffers) {\n",
              "          for (const buffer of message.buffers) {\n",
              "            buffers.push(buffer);\n",
              "            downloaded += buffer.byteLength;\n",
              "            progress.value = downloaded;\n",
              "          }\n",
              "        }\n",
              "      }\n",
              "      const blob = new Blob(buffers, {type: 'application/binary'});\n",
              "      const a = document.createElement('a');\n",
              "      a.href = window.URL.createObjectURL(blob);\n",
              "      a.download = filename;\n",
              "      div.appendChild(a);\n",
              "      a.click();\n",
              "      div.remove();\n",
              "    }\n",
              "  "
            ],
            "text/plain": [
              "<IPython.core.display.Javascript object>"
            ]
          },
          "metadata": {}
        },
        {
          "output_type": "display_data",
          "data": {
            "application/javascript": [
              "download(\"download_4615a127-2994-4c5b-a475-841a5828f0f7\", \"edgelist_China.csv\", 952058)"
            ],
            "text/plain": [
              "<IPython.core.display.Javascript object>"
            ]
          },
          "metadata": {}
        },
        {
          "output_type": "display_data",
          "data": {
            "application/javascript": [
              "\n",
              "    async function download(id, filename, size) {\n",
              "      if (!google.colab.kernel.accessAllowed) {\n",
              "        return;\n",
              "      }\n",
              "      const div = document.createElement('div');\n",
              "      const label = document.createElement('label');\n",
              "      label.textContent = `Downloading \"${filename}\": `;\n",
              "      div.appendChild(label);\n",
              "      const progress = document.createElement('progress');\n",
              "      progress.max = size;\n",
              "      div.appendChild(progress);\n",
              "      document.body.appendChild(div);\n",
              "\n",
              "      const buffers = [];\n",
              "      let downloaded = 0;\n",
              "\n",
              "      const channel = await google.colab.kernel.comms.open(id);\n",
              "      // Send a message to notify the kernel that we're ready.\n",
              "      channel.send({})\n",
              "\n",
              "      for await (const message of channel.messages) {\n",
              "        // Send a message to notify the kernel that we're ready.\n",
              "        channel.send({})\n",
              "        if (message.buffers) {\n",
              "          for (const buffer of message.buffers) {\n",
              "            buffers.push(buffer);\n",
              "            downloaded += buffer.byteLength;\n",
              "            progress.value = downloaded;\n",
              "          }\n",
              "        }\n",
              "      }\n",
              "      const blob = new Blob(buffers, {type: 'application/binary'});\n",
              "      const a = document.createElement('a');\n",
              "      a.href = window.URL.createObjectURL(blob);\n",
              "      a.download = filename;\n",
              "      div.appendChild(a);\n",
              "      a.click();\n",
              "      div.remove();\n",
              "    }\n",
              "  "
            ],
            "text/plain": [
              "<IPython.core.display.Javascript object>"
            ]
          },
          "metadata": {}
        },
        {
          "output_type": "display_data",
          "data": {
            "application/javascript": [
              "download(\"download_7873a73a-a5bf-4cef-a139-313c8e989fcd\", \"edgelist_USA.csv\", 1245017)"
            ],
            "text/plain": [
              "<IPython.core.display.Javascript object>"
            ]
          },
          "metadata": {}
        },
        {
          "output_type": "display_data",
          "data": {
            "application/javascript": [
              "\n",
              "    async function download(id, filename, size) {\n",
              "      if (!google.colab.kernel.accessAllowed) {\n",
              "        return;\n",
              "      }\n",
              "      const div = document.createElement('div');\n",
              "      const label = document.createElement('label');\n",
              "      label.textContent = `Downloading \"${filename}\": `;\n",
              "      div.appendChild(label);\n",
              "      const progress = document.createElement('progress');\n",
              "      progress.max = size;\n",
              "      div.appendChild(progress);\n",
              "      document.body.appendChild(div);\n",
              "\n",
              "      const buffers = [];\n",
              "      let downloaded = 0;\n",
              "\n",
              "      const channel = await google.colab.kernel.comms.open(id);\n",
              "      // Send a message to notify the kernel that we're ready.\n",
              "      channel.send({})\n",
              "\n",
              "      for await (const message of channel.messages) {\n",
              "        // Send a message to notify the kernel that we're ready.\n",
              "        channel.send({})\n",
              "        if (message.buffers) {\n",
              "          for (const buffer of message.buffers) {\n",
              "            buffers.push(buffer);\n",
              "            downloaded += buffer.byteLength;\n",
              "            progress.value = downloaded;\n",
              "          }\n",
              "        }\n",
              "      }\n",
              "      const blob = new Blob(buffers, {type: 'application/binary'});\n",
              "      const a = document.createElement('a');\n",
              "      a.href = window.URL.createObjectURL(blob);\n",
              "      a.download = filename;\n",
              "      div.appendChild(a);\n",
              "      a.click();\n",
              "      div.remove();\n",
              "    }\n",
              "  "
            ],
            "text/plain": [
              "<IPython.core.display.Javascript object>"
            ]
          },
          "metadata": {}
        },
        {
          "output_type": "display_data",
          "data": {
            "application/javascript": [
              "download(\"download_641bd270-7553-49b2-a829-703b027c297c\", \"edgelist_China_USA.csv\", 1405903)"
            ],
            "text/plain": [
              "<IPython.core.display.Javascript object>"
            ]
          },
          "metadata": {}
        }
      ]
    },
    {
      "cell_type": "markdown",
      "source": [
        "\n",
        "\n",
        "\n",
        "\n",
        "# Create Node List\n",
        "\n",
        "\n"
      ],
      "metadata": {
        "id": "nWHLO7AhdwzR"
      }
    },
    {
      "cell_type": "code",
      "source": [
        "def nodes(freq_dict, name):\n",
        "  word_nodes = pd.DataFrame.from_dict(freq_dict,orient=\"index\")\n",
        "  word_nodes.reset_index(inplace=True)\n",
        "  word_nodes[\"Label\"] = word_nodes[\"index\"]\n",
        "  word_nodes.rename(columns={\"index\":\"Id\",0:\"delete\"},inplace=True)\n",
        "  word_nodes = word_nodes.drop(columns=['delete'])\n",
        "  nodelist = pd.DataFrame()\n",
        "  nodelist = nodelist.append(word_nodes, ignore_index=True)\n",
        "\n",
        "  nodelist = nodelist.to_csv(\"nodelist_\"+name+\".csv\",index=False)\n",
        "  files.download(\"nodelist_\"+name+\".csv\")\n",
        "  return nodelist, word_nodes"
      ],
      "metadata": {
        "id": "v2GYb2BQFzET"
      },
      "execution_count": 361,
      "outputs": []
    },
    {
      "cell_type": "code",
      "source": [
        "nodelist_China, word_nodes_China = nodes(freq_dict_China,\"China\")\n",
        "nodelist_USA, word_nodes_USA = nodes(freq_dict_USA,\"USA\")\n",
        "nodelist_China_USA, word_nodes_China_USA = nodes(freq_dict_China_USA,\"China_USA\")\n",
        "\n",
        "print('China:')\n",
        "print(word_nodes_China.head())\n",
        "print()\n",
        "print('USA:')\n",
        "print(word_nodes_USA.head())\n",
        "print()\n",
        "print('China&USA:')\n",
        "print(word_nodes_China_USA.head())\n",
        "print()"
      ],
      "metadata": {
        "colab": {
          "base_uri": "https://localhost:8080/",
          "height": 434
        },
        "id": "EmQrEHV0F1QY",
        "outputId": "cf8d4a1f-e189-4a75-94bc-3813a55a35bb"
      },
      "execution_count": 362,
      "outputs": [
        {
          "output_type": "display_data",
          "data": {
            "application/javascript": [
              "\n",
              "    async function download(id, filename, size) {\n",
              "      if (!google.colab.kernel.accessAllowed) {\n",
              "        return;\n",
              "      }\n",
              "      const div = document.createElement('div');\n",
              "      const label = document.createElement('label');\n",
              "      label.textContent = `Downloading \"${filename}\": `;\n",
              "      div.appendChild(label);\n",
              "      const progress = document.createElement('progress');\n",
              "      progress.max = size;\n",
              "      div.appendChild(progress);\n",
              "      document.body.appendChild(div);\n",
              "\n",
              "      const buffers = [];\n",
              "      let downloaded = 0;\n",
              "\n",
              "      const channel = await google.colab.kernel.comms.open(id);\n",
              "      // Send a message to notify the kernel that we're ready.\n",
              "      channel.send({})\n",
              "\n",
              "      for await (const message of channel.messages) {\n",
              "        // Send a message to notify the kernel that we're ready.\n",
              "        channel.send({})\n",
              "        if (message.buffers) {\n",
              "          for (const buffer of message.buffers) {\n",
              "            buffers.push(buffer);\n",
              "            downloaded += buffer.byteLength;\n",
              "            progress.value = downloaded;\n",
              "          }\n",
              "        }\n",
              "      }\n",
              "      const blob = new Blob(buffers, {type: 'application/binary'});\n",
              "      const a = document.createElement('a');\n",
              "      a.href = window.URL.createObjectURL(blob);\n",
              "      a.download = filename;\n",
              "      div.appendChild(a);\n",
              "      a.click();\n",
              "      div.remove();\n",
              "    }\n",
              "  "
            ],
            "text/plain": [
              "<IPython.core.display.Javascript object>"
            ]
          },
          "metadata": {}
        },
        {
          "output_type": "display_data",
          "data": {
            "application/javascript": [
              "download(\"download_e869f8c4-3951-4578-826e-a0b948dabd13\", \"nodelist_China.csv\", 7429)"
            ],
            "text/plain": [
              "<IPython.core.display.Javascript object>"
            ]
          },
          "metadata": {}
        },
        {
          "output_type": "display_data",
          "data": {
            "application/javascript": [
              "\n",
              "    async function download(id, filename, size) {\n",
              "      if (!google.colab.kernel.accessAllowed) {\n",
              "        return;\n",
              "      }\n",
              "      const div = document.createElement('div');\n",
              "      const label = document.createElement('label');\n",
              "      label.textContent = `Downloading \"${filename}\": `;\n",
              "      div.appendChild(label);\n",
              "      const progress = document.createElement('progress');\n",
              "      progress.max = size;\n",
              "      div.appendChild(progress);\n",
              "      document.body.appendChild(div);\n",
              "\n",
              "      const buffers = [];\n",
              "      let downloaded = 0;\n",
              "\n",
              "      const channel = await google.colab.kernel.comms.open(id);\n",
              "      // Send a message to notify the kernel that we're ready.\n",
              "      channel.send({})\n",
              "\n",
              "      for await (const message of channel.messages) {\n",
              "        // Send a message to notify the kernel that we're ready.\n",
              "        channel.send({})\n",
              "        if (message.buffers) {\n",
              "          for (const buffer of message.buffers) {\n",
              "            buffers.push(buffer);\n",
              "            downloaded += buffer.byteLength;\n",
              "            progress.value = downloaded;\n",
              "          }\n",
              "        }\n",
              "      }\n",
              "      const blob = new Blob(buffers, {type: 'application/binary'});\n",
              "      const a = document.createElement('a');\n",
              "      a.href = window.URL.createObjectURL(blob);\n",
              "      a.download = filename;\n",
              "      div.appendChild(a);\n",
              "      a.click();\n",
              "      div.remove();\n",
              "    }\n",
              "  "
            ],
            "text/plain": [
              "<IPython.core.display.Javascript object>"
            ]
          },
          "metadata": {}
        },
        {
          "output_type": "display_data",
          "data": {
            "application/javascript": [
              "download(\"download_8bd36f18-6ee6-48d3-85eb-3892a758b9ed\", \"nodelist_USA.csv\", 7531)"
            ],
            "text/plain": [
              "<IPython.core.display.Javascript object>"
            ]
          },
          "metadata": {}
        },
        {
          "output_type": "display_data",
          "data": {
            "application/javascript": [
              "\n",
              "    async function download(id, filename, size) {\n",
              "      if (!google.colab.kernel.accessAllowed) {\n",
              "        return;\n",
              "      }\n",
              "      const div = document.createElement('div');\n",
              "      const label = document.createElement('label');\n",
              "      label.textContent = `Downloading \"${filename}\": `;\n",
              "      div.appendChild(label);\n",
              "      const progress = document.createElement('progress');\n",
              "      progress.max = size;\n",
              "      div.appendChild(progress);\n",
              "      document.body.appendChild(div);\n",
              "\n",
              "      const buffers = [];\n",
              "      let downloaded = 0;\n",
              "\n",
              "      const channel = await google.colab.kernel.comms.open(id);\n",
              "      // Send a message to notify the kernel that we're ready.\n",
              "      channel.send({})\n",
              "\n",
              "      for await (const message of channel.messages) {\n",
              "        // Send a message to notify the kernel that we're ready.\n",
              "        channel.send({})\n",
              "        if (message.buffers) {\n",
              "          for (const buffer of message.buffers) {\n",
              "            buffers.push(buffer);\n",
              "            downloaded += buffer.byteLength;\n",
              "            progress.value = downloaded;\n",
              "          }\n",
              "        }\n",
              "      }\n",
              "      const blob = new Blob(buffers, {type: 'application/binary'});\n",
              "      const a = document.createElement('a');\n",
              "      a.href = window.URL.createObjectURL(blob);\n",
              "      a.download = filename;\n",
              "      div.appendChild(a);\n",
              "      a.click();\n",
              "      div.remove();\n",
              "    }\n",
              "  "
            ],
            "text/plain": [
              "<IPython.core.display.Javascript object>"
            ]
          },
          "metadata": {}
        },
        {
          "output_type": "display_data",
          "data": {
            "application/javascript": [
              "download(\"download_100e4654-46a4-4a48-8960-88405c700850\", \"nodelist_China_USA.csv\", 7175)"
            ],
            "text/plain": [
              "<IPython.core.display.Javascript object>"
            ]
          },
          "metadata": {}
        },
        {
          "output_type": "stream",
          "name": "stdout",
          "text": [
            "China:\n",
            "            Id        Label\n",
            "0        china        china\n",
            "1        covid        covid\n",
            "2        novel        novel\n",
            "3         case         case\n",
            "4  coronavirus  coronavirus\n",
            "\n",
            "USA:\n",
            "            Id        Label\n",
            "0  coronavirus  coronavirus\n",
            "1        covid        covid\n",
            "2        china        china\n",
            "3          say          say\n",
            "4      vaccine      vaccine\n",
            "\n",
            "China&USA:\n",
            "            Id        Label\n",
            "0        china        china\n",
            "1        covid        covid\n",
            "2  coronavirus  coronavirus\n",
            "3          say          say\n",
            "4      vaccine      vaccine\n",
            "\n"
          ]
        }
      ]
    }
  ]
}