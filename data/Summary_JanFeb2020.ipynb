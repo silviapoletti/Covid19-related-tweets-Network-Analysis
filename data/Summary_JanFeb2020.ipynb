{
  "nbformat": 4,
  "nbformat_minor": 0,
  "metadata": {
    "colab": {
      "name": "Summary_JanFeb2020.ipynb",
      "provenance": [],
      "collapsed_sections": []
    },
    "kernelspec": {
      "name": "python3",
      "display_name": "Python 3"
    },
    "language_info": {
      "name": "python"
    },
    "accelerator": "GPU"
  },
  "cells": [
    {
      "cell_type": "code",
      "source": [
        "#notebook to download the csv of edges and nodes of a given network\n",
        "import os\n",
        "import requests \n",
        "import time\n",
        "import string\n",
        "import networkx as nx\n",
        "import itertools\n",
        "import pandas as pd\n",
        "import json\n",
        "import re\n",
        "import math\n",
        "import numpy as np\n",
        "import matplotlib.pyplot as plt\n",
        "from sklearn.feature_extraction.text import TfidfVectorizer\n",
        "import nltk\n",
        "from nltk.corpus import stopwords\n",
        "\n",
        "from nltk.corpus import wordnet as wn #importing it\n",
        "from nltk.stem.wordnet import WordNetLemmatizer #importing wordnet lemmatizer\n",
        "from nltk import pos_tag #part-of-speech-tagger\n",
        "from collections import defaultdict #defaultdict returns default value for non-existant keys you try to  access based on the function you passed in the constructor\n",
        "from google.colab import files\n",
        "\n",
        "pd.set_option('display.max_rows', None)\n",
        "pd.set_option('display.max_columns', None)\n",
        "pd.set_option('display.width', None)\n",
        "\n",
        "nltk.download('stopwords')"
      ],
      "metadata": {
        "colab": {
          "base_uri": "https://localhost:8080/"
        },
        "id": "DRcCylkZqDPi",
        "outputId": "2fe79134-9577-4d31-853c-db5657afa87e"
      },
      "execution_count": 1,
      "outputs": [
        {
          "output_type": "stream",
          "name": "stdout",
          "text": [
            "[nltk_data] Downloading package stopwords to /root/nltk_data...\n",
            "[nltk_data]   Unzipping corpora/stopwords.zip.\n"
          ]
        },
        {
          "output_type": "execute_result",
          "data": {
            "text/plain": [
              "True"
            ]
          },
          "metadata": {},
          "execution_count": 1
        }
      ]
    },
    {
      "cell_type": "code",
      "source": [
        "def extract_text(df):       #extract the text from the tweets and RT\n",
        "                            #works ONLY on .csv file\n",
        "  list_strings = []\n",
        "  for index in range(len(df)):\n",
        "    if index % 1000 == 0:\n",
        "      print(str(index)+' / '+str(len(df)))\n",
        "    text = df.loc[index]['text']                          #if it is nor trucated nor a RT  i take \"text\"\n",
        "    string = -1\n",
        "    if (df.loc[index,\"truncated\"] == True):                 #if it is trucated I take \"extended_tweet\"\n",
        "        string = df.loc[index,\"extended_tweet\"]\n",
        "    if type(df.loc[index,\"retweeted_status\"]) != float:     #if it is a RT I take retweeted_status\n",
        "        string = df.loc[index,\"retweeted_status\"]\n",
        "    if type(string) == str :\n",
        "        if(re.search('full_text\\':(.+?)https',string) != None):     #if I find \"full_text\"\n",
        "          s = re.search('full_text\\':(.+?)https',string).group(1)\n",
        "        if(re.search('text\\':(.+?)https',string)!= None):\n",
        "          s = re.search('text\\':(.+?)https',string).group(1)\n",
        "        else: \n",
        "          continue\n",
        "        list_strings.append(s)\n",
        "        #print(s)         \n",
        "    else:\n",
        "      list_strings.append(text)\n",
        "      #print(text)\n",
        "      \n",
        "\n",
        "  return list_strings"
      ],
      "metadata": {
        "id": "CGa_FVVGqDSJ"
      },
      "execution_count": 2,
      "outputs": []
    },
    {
      "cell_type": "code",
      "source": [
        "# Cleaning, lemmatising and pos tagging tweets\n",
        "\n",
        "nltk.download('words')\n",
        "WORDS = set(nltk.corpus.words.words()) #the last two lines serve to download the corpus of standard English language words\n",
        "nltk.download('stopwords') #downloading stopwords\n",
        "STOP_WORDS = set(nltk.corpus.stopwords.words(\"english\")) #taking the stop words from English language\n",
        "nltk.download('wordnet') #downloading wordnet\n",
        "nltk.download('averaged_perceptron_tagger') #downloading tagger\n",
        "tag_map = defaultdict(lambda : wn.NOUN) #here we define that wn.NOUN is the default value for the dict\n",
        "tag_map['J'] = wn.ADJ\n",
        "tag_map['V'] = wn.VERB\n",
        "tag_map['R'] = wn.ADV\n",
        "\n",
        "def lemma_pos_cleaner(tweet):\n",
        "\n",
        "    tweet = re.sub(\"@[A-Za-z0-9]+\",\"\",tweet) # remove mentions\n",
        "    tweet = re.sub(\"#[A-Za-z0-9]+\", \"\",tweet) # remove hashtags\n",
        "    tweet = re.sub(r\"(?:\\@|http?\\://|https?\\://|www)\\S+\", \"\", tweet) # remove http links\n",
        "    tweet = \" \".join(tweet.split())\n",
        "    tweet = str.lower(tweet) #to lowercase \n",
        "    tweet = re.sub(\"'\",\" \",tweet) # remove aphostrophe\n",
        "\n",
        "    #basically we use pos_tag function on tokens that we get by applying wordpunct tokenization\n",
        "    #to tweet (it separates all the words and symbols)\n",
        "    #then we pass the token along with it's wordnet pos value that we get from the tag_map dictionary (noun, adjective, verb or adverb) to the lemma function (the WordNetLemmatizer())\n",
        "    lemma_function = WordNetLemmatizer()\n",
        "    tweet = \" \".join(lemma_function.lemmatize(token, tag_map[tag[0]]) for token, tag in nltk.pos_tag(nltk.wordpunct_tokenize(tweet))) #lemmatize\n",
        "  \n",
        "\n",
        "    # francesco: I removed also all 2 letters words and added specific words, words that appears frequently but are discarded because they are not in the english language\n",
        "    SPECIFIC_WORDS = ['virus', 'coronavirus', 'covid19', 'covid', 'trump', 'hubei', 'beijing', 'xinjiang', 'jinping', 'korea', 'xinhua', 'india', 'taiwan','johnson','singapore', 'africa', 'japanese', 'france', 'asian', 'australia', 'french', 'asia', 'leishenshan', 'british', 'qingdao', 'fauci', 'america',  'california', 'sichuan', 'malaysia', 'huawei','thailand', 'shandong', 'italy', 'philippines', 'germany', 'facebook', 'african', 'shenzhen', 'tokyo', 'russian','uygur', '5g', 'pompeo', 'vietnam', 'australian', 'cambodia', 'zhejiang', 'yunnan', 'guangdong', 'korean', 'iran', 'washington']\n",
        "    tweet = \" \".join(w for w in nltk.wordpunct_tokenize(tweet) if (w in WORDS or w in SPECIFIC_WORDS) and len(w)>2 and w not in STOP_WORDS ) #remove stop words\n",
        "   \n",
        "    return tweet"
      ],
      "metadata": {
        "colab": {
          "base_uri": "https://localhost:8080/"
        },
        "id": "GD0LDoYVqDUh",
        "outputId": "aa092e05-4ffc-4bb9-c476-c38e6bce8467"
      },
      "execution_count": 3,
      "outputs": [
        {
          "output_type": "stream",
          "name": "stdout",
          "text": [
            "[nltk_data] Downloading package words to /root/nltk_data...\n",
            "[nltk_data]   Unzipping corpora/words.zip.\n",
            "[nltk_data] Downloading package stopwords to /root/nltk_data...\n",
            "[nltk_data]   Package stopwords is already up-to-date!\n",
            "[nltk_data] Downloading package wordnet to /root/nltk_data...\n",
            "[nltk_data]   Unzipping corpora/wordnet.zip.\n",
            "[nltk_data] Downloading package averaged_perceptron_tagger to\n",
            "[nltk_data]     /root/nltk_data...\n",
            "[nltk_data]   Unzipping taggers/averaged_perceptron_tagger.zip.\n"
          ]
        }
      ]
    },
    {
      "cell_type": "code",
      "source": [
        "def frequency_dictionary(df):\n",
        "  unique_words = {}\n",
        "\n",
        "  for row in df:\n",
        "    for word in row.split():\n",
        "      #if the word is encountered for the first time add to dict as key and set its value to 0\n",
        "      unique_words.setdefault(word,0)\n",
        "      #increase the value (i.e the count) of the word by 1 every time it is encountered\n",
        "      unique_words[word] += 1\n",
        "\n",
        "  return unique_words"
      ],
      "metadata": {
        "id": "MAfOr8vR4P88"
      },
      "execution_count": 4,
      "outputs": []
    },
    {
      "cell_type": "code",
      "source": [
        "# discard less frequent words\n",
        "def clean_words(cleaned_text, unuseful_words):\n",
        "  re_cleaned_text = cleaned_text.copy()\n",
        "  for txt in range(len(re_cleaned_text)):\n",
        "    if txt % 2000 == 0:\n",
        "      print(txt, '/',len(re_cleaned_text))\n",
        "    w = re_cleaned_text[txt].split()\n",
        "    for word in unuseful_words:\n",
        "      while word in w:\n",
        "        w.remove(word)\n",
        "    re_cleaned_text[txt] = ' '.join(w)\n",
        "  return re_cleaned_text"
      ],
      "metadata": {
        "id": "_qrTtTxDgYKz"
      },
      "execution_count": 50,
      "outputs": []
    },
    {
      "cell_type": "code",
      "source": [
        "period = '_JanFeb2020'  # '', '_JanFeb2020', '_MarchApril2021', '_SeptOct2020'"
      ],
      "metadata": {
        "id": "o-GUlzAVOwk_"
      },
      "execution_count": 11,
      "outputs": []
    },
    {
      "cell_type": "code",
      "source": [
        "China = pd.read_csv('/content/China'+period+'.csv')\n",
        "USA = pd.read_csv('/content/USA'+period+'.csv')\n",
        "China_USA = pd.read_csv('/content/China&USA'+period+'.csv')"
      ],
      "metadata": {
        "id": "suPdLaUx1Ct8"
      },
      "execution_count": 12,
      "outputs": []
    },
    {
      "cell_type": "code",
      "source": [
        "# number of tweets:\n",
        "print('China: ', len(China))\n",
        "print('USA: ', len(USA))\n",
        "print('China&USA: ', len(China_USA))"
      ],
      "metadata": {
        "colab": {
          "base_uri": "https://localhost:8080/"
        },
        "id": "OeO9nxO6Br3x",
        "outputId": "f36c198d-122b-4610-a797-ecc33a035645"
      },
      "execution_count": 13,
      "outputs": [
        {
          "output_type": "stream",
          "name": "stdout",
          "text": [
            "China:  2459\n",
            "USA:  3185\n",
            "China&USA:  5644\n"
          ]
        }
      ]
    },
    {
      "cell_type": "code",
      "source": [
        "text_China = extract_text(China)\n",
        "text_USA = extract_text(USA)\n",
        "text_China_USA = extract_text(China_USA)"
      ],
      "metadata": {
        "colab": {
          "base_uri": "https://localhost:8080/"
        },
        "id": "-WI3Rz9T1Cxo",
        "outputId": "3900651f-7fad-483d-ff41-b063e312c270"
      },
      "execution_count": 14,
      "outputs": [
        {
          "output_type": "stream",
          "name": "stdout",
          "text": [
            "0 / 2459\n",
            "1000 / 2459\n",
            "2000 / 2459\n",
            "0 / 3185\n",
            "1000 / 3185\n",
            "2000 / 3185\n",
            "3000 / 3185\n",
            "0 / 5644\n",
            "1000 / 5644\n",
            "2000 / 5644\n",
            "3000 / 5644\n",
            "4000 / 5644\n",
            "5000 / 5644\n"
          ]
        }
      ]
    },
    {
      "cell_type": "code",
      "source": [
        "cleaned_text_China = [lemma_pos_cleaner(txt) for txt in text_China]\n",
        "cleaned_text_USA = [lemma_pos_cleaner(txt) for txt in text_USA]\n",
        "cleaned_text_China_USA = [lemma_pos_cleaner(txt) for txt in text_China_USA]\n",
        "\n",
        "print('China:')\n",
        "print(cleaned_text_China[0:10])\n",
        "print()\n",
        "print('USA:')\n",
        "print(cleaned_text_USA[0:10])\n",
        "print()\n",
        "print('China&USA:')\n",
        "print(cleaned_text_China_USA[0:10])"
      ],
      "metadata": {
        "id": "6q4JI_jV1C2Q",
        "colab": {
          "base_uri": "https://localhost:8080/"
        },
        "outputId": "5c5dbf72-f624-4cdc-dda2-2022c44edea5"
      },
      "execution_count": 15,
      "outputs": [
        {
          "output_type": "stream",
          "name": "stdout",
          "text": [
            "China:\n",
            "['talk university challenge china face deal misconception people medium watch', 'traditional medicine use battle covid answer may surprise', 'italy report first death year old man northern new case report', 'evacuee diamond princess cruise ship land hong hong infect', 'fear stop one couple get marry wedding guest include couple wore surgical mask ceremony', 'group molecular biologist might invent portable device detect infect', 'china world make great stride track infectious disease take unexpected turn make hard track', 'member expert advisory committee say important use technology fight', 'world health organization announce lead team international expert currently china', 'outside china confirm case novel covid half cruise ship dock japan rest scatter among country mostly asia']\n",
            "\n",
            "USA:\n",
            "['coronavirus bring anti sentiment south korea', 'coronavirus issue could come bad time start line muller boston university', 'claim two life iran', 'happen catch new', 'vaccine available', 'first case confirm', 'case discover north italy hundred test', 'shameful attack bus carry evacuee china coronavirus outbreak', 'south korea confirm coronavirus case rise read late', 'world grip epidemic dangerous coronavirus racism']\n",
            "\n",
            "China&USA:\n",
            "['talk university challenge china face deal misconception people medium watch', 'traditional medicine use battle covid answer may surprise', 'italy report first death year old man northern new case report', 'evacuee diamond princess cruise ship land hong hong infect', 'fear stop one couple get marry wedding guest include couple wore surgical mask ceremony', 'group molecular biologist might invent portable device detect infect', 'china world make great stride track infectious disease take unexpected turn make hard track', 'member expert advisory committee say important use technology fight', 'world health organization announce lead team international expert currently china', 'outside china confirm case novel covid half cruise ship dock japan rest scatter among country mostly asia']\n"
          ]
        }
      ]
    },
    {
      "cell_type": "code",
      "source": [
        "freq_dict_China = frequency_dictionary(cleaned_text_China)\n",
        "freq_dict_China = dict(sorted(freq_dict_China.items(), key=lambda item: item[1], reverse = True))   #order from more frequent to less frequent word\n",
        "\n",
        "freq_dict_USA = frequency_dictionary(cleaned_text_USA)\n",
        "freq_dict_USA = dict(sorted(freq_dict_USA.items(), key=lambda item: item[1], reverse = True))   #order from more frequent to less frequent word\n",
        "\n",
        "freq_dict_China_USA = frequency_dictionary(cleaned_text_China_USA)\n",
        "freq_dict_China_USA = dict(sorted(freq_dict_China_USA.items(), key=lambda item: item[1], reverse = True))   #order from more frequent to less frequent word\n",
        "\n",
        "# number of words in the cleaned tweets:\n",
        "print('China: ', len(list(freq_dict_China)))\n",
        "print('USA: ', len(list(freq_dict_USA)))\n",
        "print('China&USA: ', len(list(freq_dict_China_USA)))"
      ],
      "metadata": {
        "colab": {
          "base_uri": "https://localhost:8080/"
        },
        "id": "MCiw0q7t4UER",
        "outputId": "88247fec-33f5-4f4a-c26c-9ca9ef9d5852"
      },
      "execution_count": 16,
      "outputs": [
        {
          "output_type": "stream",
          "name": "stdout",
          "text": [
            "China:  2893\n",
            "USA:  2740\n",
            "China&USA:  3946\n"
          ]
        }
      ]
    },
    {
      "cell_type": "code",
      "source": [
        "# Most frequent words\n",
        "print('China')\n",
        "print([key for key in freq_dict_China.keys() if freq_dict_China[key]>100])\n",
        "print()\n",
        "print('USA')\n",
        "print([key for key in freq_dict_USA.keys() if freq_dict_USA[key]>100])\n",
        "print()\n",
        "print('China&USA')\n",
        "print([key for key in freq_dict_China_USA.keys() if freq_dict_China_USA[key]>200])"
      ],
      "metadata": {
        "colab": {
          "base_uri": "https://localhost:8080/"
        },
        "id": "y29OU9Cd5Auv",
        "outputId": "a82382a0-4e61-4851-ad13-5a5166e0618e"
      },
      "execution_count": 25,
      "outputs": [
        {
          "output_type": "stream",
          "name": "stdout",
          "text": [
            "China\n",
            "['china', 'novel', 'coronavirus', 'case', 'outbreak', 'hospital', 'patient', 'new', 'fight', 'say', 'confirm', 'people', 'hubei', 'epidemic', 'report', 'medical', 'live', 'health', 'province', 'battle', 'death', 'control', 'support', 'amid', 'day', 'discharge', 'virus', 'infection', 'take', 'official', 'covid', 'first', 'city', 'country', 'effort', 'one', 'infect']\n",
            "\n",
            "USA\n",
            "['coronavirus', 'china', 'outbreak', 'case', 'say', 'new', 'spread', 'death', 'health', 'people', 'late', 'cruise', 'ship', 'first', 'report', 'confirm', 'world', 'quarantine', 'virus', 'test', 'japan', 'country', 'fear', 'toll', 'global', 'state', 'travel', 'rise', 'city', 'two', 'day', 'official', 'due', 'hong', 'flight', 'infect', 'beyond', 'number', 'hit', 'passenger', 'amid', 'novel']\n",
            "\n",
            "China&USA\n",
            "['coronavirus', 'china', 'outbreak', 'case', 'novel', 'new', 'say', 'hospital', 'people', 'spread', 'death', 'health', 'confirm', 'patient', 'report', 'fight', 'late', 'first', 'virus', 'world', 'hubei', 'cruise', 'day', 'ship', 'country', 'epidemic', 'amid', 'city', 'official', 'province', 'test', 'medical', 'infect', 'two', 'live', 'control', 'number', 'quarantine']\n"
          ]
        }
      ]
    },
    {
      "cell_type": "markdown",
      "source": [
        "# less frequent words: not performed on data with only covid, coronavirus, vaccine keys"
      ],
      "metadata": {
        "id": "9oHPXYbpINWh"
      }
    },
    {
      "cell_type": "code",
      "source": [
        "# less frequent words:\n",
        "thr = 2\n",
        "print('Less frequent China: ', len([key for key in freq_dict_China.keys() if freq_dict_China[key]<thr]))\n",
        "print('More frequent China: ', len([key for key in freq_dict_China.keys() if freq_dict_China[key]>=thr]))\n",
        "less_frequent_words_China = [key for key in freq_dict_China.keys() if freq_dict_China[key]<thr]\n",
        "print()\n",
        "print('Less frequent USA: ', len([key for key in freq_dict_USA.keys() if freq_dict_USA[key]<thr]))\n",
        "print('More frequent USA:', len([key for key in freq_dict_USA.keys() if freq_dict_USA[key]>=thr]))\n",
        "less_frequent_words_USA = [key for key in freq_dict_USA.keys() if freq_dict_USA[key]<thr]\n",
        "print()\n",
        "print('Less frequent China&USA: ', len([key for key in freq_dict_China_USA.keys() if freq_dict_China_USA[key]<thr]))\n",
        "print('More frequent China&USA: ', len([key for key in freq_dict_China_USA.keys() if freq_dict_China_USA[key]>=thr]))\n",
        "less_frequent_words_China_USA = [key for key in freq_dict_China_USA.keys() if freq_dict_China_USA[key]<thr]"
      ],
      "metadata": {
        "colab": {
          "base_uri": "https://localhost:8080/"
        },
        "id": "sgiQzaHD5zAb",
        "outputId": "fb9e2fde-5a52-4ce5-a9ad-402ceec94818"
      },
      "execution_count": 32,
      "outputs": [
        {
          "output_type": "stream",
          "name": "stdout",
          "text": [
            "Less frequent China:  1132\n",
            "More frequent China:  1761\n",
            "\n",
            "Less frequent USA:  820\n",
            "More frequent USA: 1920\n",
            "\n",
            "Less frequent China&USA:  1288\n",
            "More frequent China&USA:  2658\n"
          ]
        }
      ]
    },
    {
      "cell_type": "code",
      "source": [
        "# discard less frequent words\n",
        "def clean_words(cleaned_text, unuseful_words):\n",
        "  re_cleaned_text = cleaned_text.copy()\n",
        "  for txt in range(len(re_cleaned_text)):\n",
        "    if txt % 2000 == 0:\n",
        "      print(txt, '/',len(re_cleaned_text))\n",
        "    w = re_cleaned_text[txt].split()\n",
        "    for word in unuseful_words:\n",
        "      while word in w:\n",
        "        w.remove(word)\n",
        "    re_cleaned_text[txt] = ' '.join(w)\n",
        "  return re_cleaned_text"
      ],
      "metadata": {
        "id": "wGHsUAKwkg4q"
      },
      "execution_count": null,
      "outputs": []
    },
    {
      "cell_type": "code",
      "source": [
        "cleaned_mostfreq_text_China = clean_words(cleaned_text_China, less_frequent_words_China)\n",
        "cleaned_mostfreq_text_USA = clean_words(cleaned_text_USA, less_frequent_words_USA)\n",
        "cleaned_mostfreq_text_China_USA = clean_words(cleaned_text_China_USA, less_frequent_words_China_USA)"
      ],
      "metadata": {
        "colab": {
          "base_uri": "https://localhost:8080/"
        },
        "id": "ZmlqtzHp6lh8",
        "outputId": "337c39ff-9fa1-4262-992c-f64708f0b7c2"
      },
      "execution_count": null,
      "outputs": [
        {
          "output_type": "stream",
          "name": "stdout",
          "text": [
            "0 / 2438\n",
            "2000 / 2438\n",
            "0 / 3185\n",
            "2000 / 3185\n",
            "0 / 5623\n",
            "2000 / 5623\n",
            "4000 / 5623\n"
          ]
        }
      ]
    },
    {
      "cell_type": "code",
      "source": [
        "freq_dict_China = frequency_dictionary(cleaned_mostfreq_text_China)\n",
        "freq_dict_China = dict(sorted(freq_dict_China.items(), key=lambda item: item[1], reverse = True))   #order from more frequent to less frequent word\n",
        "\n",
        "freq_dict_USA = frequency_dictionary(cleaned_mostfreq_text_USA)\n",
        "freq_dict_USA = dict(sorted(freq_dict_USA.items(), key=lambda item: item[1], reverse = True))   #order from more frequent to less frequent word\n",
        "\n",
        "freq_dict_China_USA = frequency_dictionary(cleaned_mostfreq_text_China_USA)\n",
        "freq_dict_China_USA = dict(sorted(freq_dict_China_USA.items(), key=lambda item: item[1], reverse = True))   #order from more frequent to less frequent word\n",
        "\n",
        "# number of words in the cleaned tweets:\n",
        "print('China: ', len(list(freq_dict_China)))\n",
        "print('USA: ', len(list(freq_dict_USA)))\n",
        "print('China&USA: ', len(list(freq_dict_China_USA)))"
      ],
      "metadata": {
        "colab": {
          "base_uri": "https://localhost:8080/"
        },
        "id": "2KHj5-o57f8y",
        "outputId": "a93b1c2f-f043-4cda-8694-4ed382162367"
      },
      "execution_count": null,
      "outputs": [
        {
          "output_type": "stream",
          "name": "stdout",
          "text": [
            "China:  497\n",
            "USA:  576\n",
            "China&USA:  941\n"
          ]
        }
      ]
    },
    {
      "cell_type": "markdown",
      "source": [
        "# Build Network"
      ],
      "metadata": {
        "id": "1davLfA3HNV2"
      }
    },
    {
      "cell_type": "code",
      "source": [
        "df_China = pd.DataFrame.from_dict(freq_dict_China, orient='index').reset_index()\n",
        "df_China.rename(columns = {'index':'Word', 0:'Count'}, inplace=True)\n",
        "df_China.sort_values(by=['Count'], ascending=False, inplace=True)\n",
        "df_China.reset_index(inplace=True)\n",
        "df_China.drop(columns=\"index\",inplace=True)\n",
        "\n",
        "df_USA = pd.DataFrame.from_dict(freq_dict_USA, orient='index').reset_index()\n",
        "df_USA.rename(columns = {'index':'Word', 0:'Count'}, inplace=True)\n",
        "df_USA.sort_values(by=['Count'], ascending=False, inplace=True)\n",
        "df_USA.reset_index(inplace=True)\n",
        "df_USA.drop(columns=\"index\",inplace=True)\n",
        "\n",
        "df_China_USA = pd.DataFrame.from_dict(freq_dict_China_USA, orient='index').reset_index()\n",
        "df_China_USA.rename(columns = {'index':'Word', 0:'Count'}, inplace=True)\n",
        "df_China_USA.sort_values(by=['Count'], ascending=False, inplace=True)\n",
        "df_China_USA.reset_index(inplace=True)\n",
        "df_China_USA.drop(columns=\"index\",inplace=True)\n",
        "\n",
        "print('China')\n",
        "print(df_China.iloc[0:30])\n",
        "print()\n",
        "print('USA')\n",
        "print(df_USA.iloc[0:30])\n",
        "print()\n",
        "print('China&USA')\n",
        "print(df_China_USA.iloc[0:30])\n",
        "print()"
      ],
      "metadata": {
        "colab": {
          "base_uri": "https://localhost:8080/"
        },
        "id": "IxPPnevj890b",
        "outputId": "2a4ee86a-d40e-4c4a-d80b-041e030b9fec"
      },
      "execution_count": 33,
      "outputs": [
        {
          "output_type": "stream",
          "name": "stdout",
          "text": [
            "China\n",
            "           Word  Count\n",
            "0         china   1126\n",
            "1         novel    834\n",
            "2   coronavirus    560\n",
            "3          case    496\n",
            "4      outbreak    469\n",
            "5      hospital    441\n",
            "6       patient    338\n",
            "7           new    328\n",
            "8         fight    298\n",
            "9           say    261\n",
            "10      confirm    258\n",
            "11       people    221\n",
            "12        hubei    189\n",
            "13     epidemic    187\n",
            "14       report    175\n",
            "15      medical    173\n",
            "16         live    169\n",
            "17       health    159\n",
            "18     province    158\n",
            "19       battle    157\n",
            "20        death    152\n",
            "21      control    149\n",
            "22      support    145\n",
            "23         amid    142\n",
            "24          day    131\n",
            "25    discharge    120\n",
            "26        virus    118\n",
            "27    infection    114\n",
            "28         take    111\n",
            "29     official    110\n",
            "\n",
            "USA\n",
            "           Word  Count\n",
            "0   coronavirus   2696\n",
            "1         china   1323\n",
            "2      outbreak    631\n",
            "3          case    539\n",
            "4           say    397\n",
            "5           new    394\n",
            "6        spread    381\n",
            "7         death    317\n",
            "8        health    293\n",
            "9        people    270\n",
            "10         late    240\n",
            "11       cruise    220\n",
            "12         ship    216\n",
            "13        first    192\n",
            "14       report    191\n",
            "15      confirm    189\n",
            "16        world    189\n",
            "17   quarantine    162\n",
            "18        virus    160\n",
            "19        japan    159\n",
            "20         test    159\n",
            "21         fear    153\n",
            "22      country    153\n",
            "23         toll    149\n",
            "24       global    145\n",
            "25        state    143\n",
            "26       travel    137\n",
            "27         rise    136\n",
            "28         city    134\n",
            "29          two    133\n",
            "\n",
            "China&USA\n",
            "           Word  Count\n",
            "0   coronavirus   3256\n",
            "1         china   2449\n",
            "2      outbreak   1100\n",
            "3          case   1035\n",
            "4         novel    937\n",
            "5           new    722\n",
            "6           say    658\n",
            "7      hospital    520\n",
            "8        people    491\n",
            "9        spread    475\n",
            "10        death    469\n",
            "11       health    452\n",
            "12      confirm    447\n",
            "13      patient    428\n",
            "14       report    366\n",
            "15        fight    351\n",
            "16         late    340\n",
            "17        first    301\n",
            "18        virus    278\n",
            "19        world    277\n",
            "20        hubei    277\n",
            "21       cruise    262\n",
            "22          day    262\n",
            "23         ship    260\n",
            "24      country    260\n",
            "25     epidemic    253\n",
            "26         amid    246\n",
            "27         city    243\n",
            "28     official    241\n",
            "29     province    231\n",
            "\n"
          ]
        }
      ]
    },
    {
      "cell_type": "code",
      "source": [
        "keys_China = freq_dict_China.keys()  \n",
        "keys_USA = freq_dict_USA.keys()  \n",
        "keys_China_USA = freq_dict_China_USA.keys()  "
      ],
      "metadata": {
        "id": "zHmEpbLtr46D"
      },
      "execution_count": 34,
      "outputs": []
    },
    {
      "cell_type": "code",
      "source": [
        "def create_network(cleaned_text):\n",
        "  network = {}\n",
        "  #connect the word that appear in the same tweets\n",
        "  for row in cleaned_text:\n",
        "    combined_list = [word for word in str.split(row)]\n",
        "    #for pair in itertools.product(combined_list, combined_list):\n",
        "    #print(combined_list)\n",
        "    for pair in itertools.product(combined_list, combined_list):\n",
        "          #exclude self-loops and count each pair only once because our graph is undirected and we do not take self-loops into account\n",
        "          if pair[0]!=pair[1] and not(pair[::-1] in network):\n",
        "              network.setdefault(pair,0)\n",
        "              network[pair] += 1 \n",
        "  network_df = pd.DataFrame.from_dict(network, orient=\"index\")\n",
        "  network_df.columns = [\"weight\"]\n",
        "  network_df.sort_values(by=\"weight\",inplace=True, ascending=False)\n",
        "  return network, network_df"
      ],
      "metadata": {
        "id": "nUAWB6lT1DAd"
      },
      "execution_count": 35,
      "outputs": []
    },
    {
      "cell_type": "code",
      "source": [
        "network_China, network_df_China = create_network(cleaned_text_China)\n",
        "network_USA, network_df_USA = create_network(cleaned_text_USA)\n",
        "network_China_USA, network_df_China_USA = create_network(cleaned_text_China_USA)"
      ],
      "metadata": {
        "id": "7vR_r37vAGye"
      },
      "execution_count": 37,
      "outputs": []
    },
    {
      "cell_type": "code",
      "source": [
        "print('China:')\n",
        "print(network_df_China.iloc[0:30])\n",
        "print()\n",
        "print('USA:')\n",
        "print(network_df_USA.iloc[0:30])\n",
        "print()\n",
        "print('China&USA:')\n",
        "print(network_df_China_USA.iloc[0:30])\n",
        "print()"
      ],
      "metadata": {
        "colab": {
          "base_uri": "https://localhost:8080/"
        },
        "id": "RxMWDZua_b-l",
        "outputId": "ed65ade7-1722-40eb-92e0-77a7b39ac655"
      },
      "execution_count": 38,
      "outputs": [
        {
          "output_type": "stream",
          "name": "stdout",
          "text": [
            "China:\n",
            "                         weight\n",
            "(china, novel)              493\n",
            "(confirm, case)             323\n",
            "(china, outbreak)           296\n",
            "(china, coronavirus)        291\n",
            "(novel, coronavirus)        280\n",
            "(patient, hospital)         265\n",
            "(new, case)                 256\n",
            "(china, case)               236\n",
            "(china, fight)              226\n",
            "(novel, outbreak)           226\n",
            "(report, case)              212\n",
            "(death, case)               191\n",
            "(say, china)                169\n",
            "(china, new)                164\n",
            "(new, confirm)              155\n",
            "(china, support)            147\n",
            "(china, confirm)            139\n",
            "(report, new)               135\n",
            "(case, novel)               132\n",
            "(china, epidemic)           127\n",
            "(case, coronavirus)         126\n",
            "(death, new)                125\n",
            "(fight, novel)              125\n",
            "(hospital, novel)           122\n",
            "(china, hospital)           120\n",
            "(province, case)            119\n",
            "(report, confirm)           119\n",
            "(coronavirus, outbreak)     119\n",
            "(discharge, hospital)       117\n",
            "(china, battle)             117\n",
            "\n",
            "USA:\n",
            "                         weight\n",
            "(china, coronavirus)       1153\n",
            "(coronavirus, outbreak)     561\n",
            "(coronavirus, case)         486\n",
            "(china, outbreak)           354\n",
            "(spread, coronavirus)       343\n",
            "(new, coronavirus)          340\n",
            "(say, coronavirus)          328\n",
            "(coronavirus, death)        262\n",
            "(coronavirus, health)       241\n",
            "(china, case)               240\n",
            "(china, death)              231\n",
            "(people, coronavirus)       215\n",
            "(cruise, ship)              204\n",
            "(china, spread)             197\n",
            "(cruise, coronavirus)       186\n",
            "(coronavirus, late)         182\n",
            "(china, new)                181\n",
            "(ship, coronavirus)         181\n",
            "(case, confirm)             176\n",
            "(china, say)                173\n",
            "(china, late)               173\n",
            "(report, coronavirus)       166\n",
            "(confirm, coronavirus)      165\n",
            "(coronavirus, first)        162\n",
            "(china, people)             152\n",
            "(test, coronavirus)         152\n",
            "(world, coronavirus)        152\n",
            "(death, toll)               143\n",
            "(coronavirus, fear)         142\n",
            "(coronavirus, japan)        139\n",
            "\n",
            "China&USA:\n",
            "                         weight\n",
            "(china, coronavirus)       1444\n",
            "(coronavirus, outbreak)     680\n",
            "(china, outbreak)           650\n",
            "(case, coronavirus)         612\n",
            "(china, novel)              533\n",
            "(confirm, case)             499\n",
            "(china, case)               476\n",
            "(coronavirus, new)          433\n",
            "(new, case)                 385\n",
            "(novel, coronavirus)        383\n",
            "(say, coronavirus)          372\n",
            "(coronavirus, spread)       372\n",
            "(china, new)                345\n",
            "(say, china)                342\n",
            "(death, china)              321\n",
            "(death, case)               309\n",
            "(report, case)              292\n",
            "(coronavirus, death)        289\n",
            "(patient, hospital)         276\n",
            "(health, coronavirus)       271\n",
            "(novel, outbreak)           257\n",
            "(china, people)             254\n",
            "(people, coronavirus)       254\n",
            "(cruise, ship)              251\n",
            "(china, fight)              248\n",
            "(china, spread)             242\n",
            "(confirm, coronavirus)      231\n",
            "(china, late)               225\n",
            "(china, confirm)            215\n",
            "(report, coronavirus)       214\n",
            "\n"
          ]
        }
      ]
    },
    {
      "cell_type": "markdown",
      "source": [
        "#Graph\n"
      ],
      "metadata": {
        "id": "gfvo8x0Ku78D"
      }
    },
    {
      "cell_type": "code",
      "source": [
        "def get_graph(network):\n",
        "  G = nx.Graph()\n",
        "  for edge in network:\n",
        "      G.add_edge(edge[0], edge[1], weight=network[edge])\n",
        "  return G"
      ],
      "metadata": {
        "id": "2NGKuSuYAo-K"
      },
      "execution_count": 57,
      "outputs": []
    },
    {
      "cell_type": "code",
      "source": [
        "G_China = get_graph(network_China)\n",
        "G_USA = get_graph(network_USA)\n",
        "G_China_USA = get_graph(network_China_USA)"
      ],
      "metadata": {
        "id": "TbpTF19bBKJq"
      },
      "execution_count": 41,
      "outputs": []
    },
    {
      "cell_type": "code",
      "source": [
        "print('China:')\n",
        "print('Nodes: ',len(G_China.nodes()))\n",
        "print('Edges: ',len(G_China.edges()))\n",
        "print('Is connected: ',nx.is_connected(G_China))\n",
        "print()\n",
        "print('USA:')\n",
        "print('Nodes: ',len(G_USA.nodes()))\n",
        "print('Edges: ',len(G_USA.edges()))\n",
        "print('Is connected: ',nx.is_connected(G_USA))\n",
        "print()\n",
        "print('China&USA:')\n",
        "print('Nodes: ',len(G_China_USA.nodes()))\n",
        "print('Edges: ',len(G_China_USA.edges()))\n",
        "print('Is connected: ',nx.is_connected(G_China_USA))"
      ],
      "metadata": {
        "id": "W178ljb9rM6Z",
        "colab": {
          "base_uri": "https://localhost:8080/"
        },
        "outputId": "37a7c31c-6899-4f2b-c7d7-476b9e2c9566"
      },
      "execution_count": 42,
      "outputs": [
        {
          "output_type": "stream",
          "name": "stdout",
          "text": [
            "China:\n",
            "Nodes:  2893\n",
            "Edges:  83425\n",
            "Is connected:  True\n",
            "\n",
            "USA:\n",
            "Nodes:  2740\n",
            "Edges:  76627\n",
            "Is connected:  True\n",
            "\n",
            "China&USA:\n",
            "Nodes:  3946\n",
            "Edges:  144653\n",
            "Is connected:  True\n"
          ]
        }
      ]
    },
    {
      "cell_type": "markdown",
      "source": [
        "# PageRank"
      ],
      "metadata": {
        "id": "1LYNr4McLtWD"
      }
    },
    {
      "cell_type": "code",
      "execution_count": 43,
      "metadata": {
        "id": "P6qJVv9vHIr1"
      },
      "outputs": [],
      "source": [
        "# Calculating the pagerank on graph G, teleportation probability here is 0.15 but since the graph is strongly connected we can set it to zero if we want\n",
        "pr_China = nx.algorithms.pagerank(G_China,alpha = 1)\n",
        "pr_China = dict(sorted(pr_China.items(), key=lambda item: item[1],reverse  = True))\n",
        "\n",
        "pr_USA = nx.algorithms.pagerank(G_USA,alpha = 1)\n",
        "pr_USA = dict(sorted(pr_USA.items(), key=lambda item: item[1],reverse  = True))\n",
        "\n",
        "pr_China_USA = nx.algorithms.pagerank(G_China_USA,alpha = 1)\n",
        "pr_China_USA = dict(sorted(pr_China_USA.items(), key=lambda item: item[1],reverse  = True))"
      ]
    },
    {
      "cell_type": "code",
      "execution_count": 44,
      "metadata": {
        "id": "BcVoAXxqpqLd"
      },
      "outputs": [],
      "source": [
        "def threshold(vector,threshold):\n",
        "\n",
        "  l = [(el,vector[el]) for el in vector if vector[el] >= threshold ]\n",
        "\n",
        "  return pd.DataFrame(l)"
      ]
    },
    {
      "cell_type": "code",
      "source": [
        "def threshold_reverse(vector,threshold):\n",
        "\n",
        "  l = [(el,vector[el]) for el in vector if vector[el] < threshold ]\n",
        "\n",
        "  return pd.DataFrame(l)"
      ],
      "metadata": {
        "id": "7-UFIOEJL6bY"
      },
      "execution_count": 45,
      "outputs": []
    },
    {
      "cell_type": "code",
      "execution_count": 46,
      "metadata": {
        "colab": {
          "base_uri": "https://localhost:8080/"
        },
        "id": "7cUhquN72cI6",
        "outputId": "552e5500-1b69-4ce6-d11b-96ca04479a8f"
      },
      "outputs": [
        {
          "output_type": "stream",
          "name": "stdout",
          "text": [
            "China:  467\n",
            "\n",
            "              0         1\n",
            "0         china  0.038716\n",
            "1         novel  0.028719\n",
            "2   coronavirus  0.017859\n",
            "3          case  0.016549\n",
            "4      outbreak  0.016076\n",
            "5      hospital  0.014473\n",
            "6       patient  0.011330\n",
            "7           say  0.010865\n",
            "8           new  0.010741\n",
            "9         fight  0.010002\n",
            "10      confirm  0.009148\n",
            "11       people  0.008910\n",
            "12     epidemic  0.006814\n",
            "13        hubei  0.006706\n",
            "14      medical  0.006684\n",
            "15       health  0.006355\n",
            "16     province  0.006287\n",
            "17       report  0.006146\n",
            "18        death  0.005576\n",
            "19       battle  0.005470\n",
            "20      support  0.005420\n",
            "21        virus  0.005025\n",
            "22      control  0.004980\n",
            "23          day  0.004889\n",
            "24          one  0.004765\n",
            "25         amid  0.004547\n",
            "26         city  0.004440\n",
            "27         take  0.004437\n",
            "28         live  0.004171\n",
            "29      country  0.004169\n",
            "\n",
            "USA:  467\n",
            "\n",
            "              0         1\n",
            "0   coronavirus  0.065659\n",
            "1         china  0.034819\n",
            "2      outbreak  0.019553\n",
            "3          case  0.014994\n",
            "4           say  0.012874\n",
            "5           new  0.010815\n",
            "6        spread  0.010356\n",
            "7        health  0.010356\n",
            "8        people  0.009335\n",
            "9         death  0.008686\n",
            "10         ship  0.006473\n",
            "11       cruise  0.006394\n",
            "12        world  0.006335\n",
            "13        virus  0.005880\n",
            "14      country  0.005244\n",
            "15        first  0.005236\n",
            "16   quarantine  0.005102\n",
            "17       report  0.005097\n",
            "18      confirm  0.004972\n",
            "19       travel  0.004948\n",
            "20       global  0.004927\n",
            "21          day  0.004819\n",
            "22        state  0.004743\n",
            "23     official  0.004673\n",
            "24         test  0.004588\n",
            "25        japan  0.004541\n",
            "26         city  0.004503\n",
            "27          two  0.004280\n",
            "28         late  0.004271\n",
            "29         toll  0.004189\n",
            "\n",
            "China&USA:  460\n",
            "\n",
            "              0         1\n",
            "0   coronavirus  0.043280\n",
            "1         china  0.036645\n",
            "2      outbreak  0.017924\n",
            "3          case  0.015732\n",
            "4         novel  0.015643\n",
            "5           say  0.011932\n",
            "6           new  0.010784\n",
            "7        people  0.009136\n",
            "8        health  0.008485\n",
            "9      hospital  0.008112\n",
            "10        death  0.007233\n",
            "11       spread  0.007154\n",
            "12      confirm  0.006933\n",
            "13      patient  0.006891\n",
            "14       report  0.005591\n",
            "15        virus  0.005481\n",
            "16        fight  0.005377\n",
            "17        world  0.004954\n",
            "18          day  0.004853\n",
            "19      country  0.004741\n",
            "20        first  0.004623\n",
            "21        hubei  0.004619\n",
            "22         city  0.004475\n",
            "23     province  0.004316\n",
            "24      medical  0.004248\n",
            "25     epidemic  0.004231\n",
            "26         ship  0.004215\n",
            "27       cruise  0.004149\n",
            "28     official  0.004140\n",
            "29       number  0.004017\n"
          ]
        }
      ],
      "source": [
        "thr = 0.0004\n",
        "print('China: ', len(threshold(pr_China,thr)))\n",
        "print()\n",
        "print(threshold(pr_China,thr).iloc[:30])\n",
        "print()\n",
        "print('USA: ', len(threshold(pr_USA,thr)))\n",
        "print()\n",
        "print(threshold(pr_USA,thr).iloc[:30])\n",
        "print()\n",
        "print('China&USA: ', len(threshold(pr_China_USA,thr)))\n",
        "print()\n",
        "print(threshold(pr_China_USA,thr).iloc[:30])"
      ]
    },
    {
      "cell_type": "markdown",
      "metadata": {
        "id": "mIqlZ2nZ9qKW"
      },
      "source": [
        "# TF-IDF: not performed"
      ]
    },
    {
      "cell_type": "code",
      "execution_count": null,
      "metadata": {
        "id": "gVbC8VFA9pgw"
      },
      "outputs": [],
      "source": [
        "tfidf = TfidfVectorizer(ngram_range=(1,1))   # ngram range can be changed to obtain measures regarding n grams instead of single words\n",
        "\n",
        "X_China = tfidf.fit_transform(cleaned_text_China).toarray()    # entry (i,j) if Tfidf measure of word_list[j] in document i\n",
        "word_list_China = tfidf.get_feature_names_out()\n",
        "\n",
        "X_USA = tfidf.fit_transform(cleaned_text_USA).toarray()\n",
        "word_list_USA = tfidf.get_feature_names_out()\n",
        "\n",
        "X_China_USA = tfidf.fit_transform(cleaned_text_China_USA).toarray()\n",
        "word_list_China_USA = tfidf.get_feature_names_out()\n"
      ]
    },
    {
      "cell_type": "code",
      "execution_count": null,
      "metadata": {
        "id": "8k8fcvKX-yah"
      },
      "outputs": [],
      "source": [
        "tfidf_df_China = pd.DataFrame(X_China,columns = word_list_China)\n",
        "\n",
        "tfidf_df_USA = pd.DataFrame(X_USA,columns = word_list_USA)\n",
        "\n",
        "tfidf_df_China_USA = pd.DataFrame(X_China_USA,columns = word_list_China_USA)"
      ]
    },
    {
      "cell_type": "code",
      "execution_count": null,
      "metadata": {
        "id": "MUr9_93WCKsj"
      },
      "outputs": [],
      "source": [
        "tfidf_word_measure_China = np.mean(tfidf_df_China,axis = 0)\n",
        "tfidf_word_measure_China = tfidf_word_measure_China.sort_values(ascending = False)\n",
        "tfidf_word_measure_USA = np.mean(tfidf_df_USA,axis = 0)\n",
        "tfidf_word_measure_USA = tfidf_word_measure_USA.sort_values(ascending = False)\n",
        "tfidf_word_measure_China_USA = np.mean(tfidf_df_China_USA,axis = 0)\n",
        "tfidf_word_measure_China_USA = tfidf_word_measure_China_USA.sort_values(ascending = False)"
      ]
    },
    {
      "cell_type": "code",
      "source": [
        "print('China:')\n",
        "print(tfidf_word_measure_China[0:30])\n",
        "print()\n",
        "print('USA:')\n",
        "print(tfidf_word_measure_USA[0:30])\n",
        "print()\n",
        "print('China&USA:')\n",
        "print(tfidf_word_measure_China_USA[0:30])\n",
        "print()"
      ],
      "metadata": {
        "colab": {
          "base_uri": "https://localhost:8080/"
        },
        "id": "dknv21f3XimF",
        "outputId": "be7d3fd2-d1cb-41ef-af97-37a9994ef55c"
      },
      "execution_count": null,
      "outputs": [
        {
          "output_type": "stream",
          "name": "stdout",
          "text": [
            "China:\n",
            "covid          0.076069\n",
            "watch          0.059429\n",
            "coronavirus    0.047427\n",
            "case           0.044577\n",
            "china          0.037314\n",
            "say            0.037011\n",
            "new            0.035957\n",
            "test           0.032966\n",
            "report         0.031964\n",
            "president      0.029373\n",
            "pandemic       0.029153\n",
            "vaccine        0.026741\n",
            "trump          0.026549\n",
            "update         0.026117\n",
            "health         0.025600\n",
            "country        0.024406\n",
            "positive       0.023640\n",
            "million        0.020711\n",
            "world          0.020349\n",
            "people         0.020237\n",
            "death          0.019359\n",
            "accord         0.017701\n",
            "late           0.017458\n",
            "sept           0.016890\n",
            "year           0.016416\n",
            "global         0.016072\n",
            "day            0.015739\n",
            "number         0.015450\n",
            "national       0.014457\n",
            "infection      0.014375\n",
            "dtype: float64\n",
            "\n",
            "USA:\n",
            "covid          0.063696\n",
            "coronavirus    0.043593\n",
            "case           0.032740\n",
            "say            0.031375\n",
            "new            0.030973\n",
            "vaccine        0.029819\n",
            "trump          0.026958\n",
            "test           0.026622\n",
            "president      0.021916\n",
            "report         0.021543\n",
            "positive       0.017711\n",
            "pandemic       0.016017\n",
            "death          0.015852\n",
            "day            0.013833\n",
            "house          0.012634\n",
            "infection      0.012417\n",
            "million        0.012382\n",
            "health         0.012242\n",
            "rise           0.012128\n",
            "state          0.011852\n",
            "trial          0.011631\n",
            "people         0.011513\n",
            "record         0.011287\n",
            "china          0.011244\n",
            "first          0.010940\n",
            "world          0.010269\n",
            "white          0.010210\n",
            "week           0.009885\n",
            "month          0.009750\n",
            "one            0.009536\n",
            "dtype: float64\n",
            "\n",
            "China&USA:\n",
            "covid          0.060835\n",
            "coronavirus    0.041928\n",
            "case           0.033042\n",
            "new            0.030410\n",
            "say            0.029997\n",
            "vaccine        0.027990\n",
            "test           0.025911\n",
            "trump          0.025467\n",
            "report         0.022188\n",
            "president      0.021459\n",
            "positive       0.017466\n",
            "pandemic       0.016267\n",
            "death          0.015868\n",
            "day            0.013524\n",
            "china          0.013455\n",
            "health         0.013341\n",
            "million        0.012933\n",
            "house          0.012178\n",
            "infection      0.012158\n",
            "people         0.011836\n",
            "state          0.011514\n",
            "rise           0.011490\n",
            "watch          0.011118\n",
            "record         0.010997\n",
            "world          0.010822\n",
            "country        0.010764\n",
            "trial          0.010702\n",
            "first          0.010654\n",
            "white          0.009986\n",
            "week           0.009475\n",
            "dtype: float64\n",
            "\n"
          ]
        }
      ]
    },
    {
      "cell_type": "markdown",
      "source": [
        "# reduced graph"
      ],
      "metadata": {
        "id": "4nkLA8k0LB7b"
      }
    },
    {
      "cell_type": "code",
      "source": [
        "# less important words:\n",
        "less_important_words_China = list(threshold_reverse(pr_China,thr)[0])\n",
        "\n",
        "less_important_words_USA = list(threshold_reverse(pr_USA,thr)[0])\n",
        "\n",
        "less_important_words_China_USA = list(threshold_reverse(pr_China_USA,thr)[0])"
      ],
      "metadata": {
        "id": "6ndwCL9oLpDA"
      },
      "execution_count": 47,
      "outputs": []
    },
    {
      "cell_type": "code",
      "source": [
        "cleaned_mostimp_text_China = clean_words(cleaned_text_China,less_important_words_China)\n",
        "cleaned_mostimp_text_USA = clean_words(cleaned_text_USA,less_important_words_USA)\n",
        "cleaned_mostimp_text_China_USA = clean_words(cleaned_text_China_USA,less_important_words_China_USA)"
      ],
      "metadata": {
        "colab": {
          "base_uri": "https://localhost:8080/"
        },
        "id": "TOA3UEyBunzo",
        "outputId": "92900887-679d-42f0-a075-12a00f46db6c"
      },
      "execution_count": 51,
      "outputs": [
        {
          "output_type": "stream",
          "name": "stdout",
          "text": [
            "0 / 2438\n",
            "2000 / 2438\n",
            "0 / 3185\n",
            "2000 / 3185\n",
            "0 / 5623\n",
            "2000 / 5623\n",
            "4000 / 5623\n"
          ]
        }
      ]
    },
    {
      "cell_type": "code",
      "source": [
        "freq_dict_China = frequency_dictionary(cleaned_mostimp_text_China)\n",
        "freq_dict_China = dict(sorted(freq_dict_China.items(), key=lambda item: item[1], reverse = True))   #order from more frequent to less frequent word\n",
        "\n",
        "freq_dict_USA = frequency_dictionary(cleaned_mostimp_text_USA)\n",
        "freq_dict_USA = dict(sorted(freq_dict_USA.items(), key=lambda item: item[1], reverse = True))   #order from more frequent to less frequent word\n",
        "\n",
        "freq_dict_China_USA = frequency_dictionary(cleaned_mostimp_text_China_USA)\n",
        "freq_dict_China_USA = dict(sorted(freq_dict_China_USA.items(), key=lambda item: item[1], reverse = True))   #order from more frequent to less frequent word\n",
        "\n",
        "# number of words in the cleaned tweets:\n",
        "print('China: ', len(list(freq_dict_China)))\n",
        "print('USA: ', len(list(freq_dict_USA)))\n",
        "print('China&USA: ', len(list(freq_dict_China_USA)))"
      ],
      "metadata": {
        "colab": {
          "base_uri": "https://localhost:8080/"
        },
        "outputId": "f07cf6ac-cad7-4e41-ff5b-1e843e7a501a",
        "id": "X2ObCNtJLpDB"
      },
      "execution_count": 52,
      "outputs": [
        {
          "output_type": "stream",
          "name": "stdout",
          "text": [
            "China:  467\n",
            "USA:  467\n",
            "China&USA:  460\n"
          ]
        }
      ]
    },
    {
      "cell_type": "code",
      "source": [
        "df_China = pd.DataFrame.from_dict(freq_dict_China, orient='index').reset_index()\n",
        "df_China.rename(columns = {'index':'Word', 0:'Count'}, inplace=True)\n",
        "df_China.sort_values(by=['Count'], ascending=False, inplace=True)\n",
        "df_China.reset_index(inplace=True)\n",
        "df_China.drop(columns=\"index\",inplace=True)\n",
        "\n",
        "df_USA = pd.DataFrame.from_dict(freq_dict_USA, orient='index').reset_index()\n",
        "df_USA.rename(columns = {'index':'Word', 0:'Count'}, inplace=True)\n",
        "df_USA.sort_values(by=['Count'], ascending=False, inplace=True)\n",
        "df_USA.reset_index(inplace=True)\n",
        "df_USA.drop(columns=\"index\",inplace=True)\n",
        "\n",
        "df_China_USA = pd.DataFrame.from_dict(freq_dict_China_USA, orient='index').reset_index()\n",
        "df_China_USA.rename(columns = {'index':'Word', 0:'Count'}, inplace=True)\n",
        "df_China_USA.sort_values(by=['Count'], ascending=False, inplace=True)\n",
        "df_China_USA.reset_index(inplace=True)\n",
        "df_China_USA.drop(columns=\"index\",inplace=True)\n",
        "\n",
        "print('China')\n",
        "print(df_China.iloc[0:30])\n",
        "print()\n",
        "print('USA')\n",
        "print(df_USA.iloc[0:30])\n",
        "print()\n",
        "print('China&USA')\n",
        "print(df_China_USA.iloc[0:30])\n",
        "print()"
      ],
      "metadata": {
        "colab": {
          "base_uri": "https://localhost:8080/"
        },
        "outputId": "c51d5aa0-fd8d-48ba-e6e6-85a84509191a",
        "id": "DfrViAqzNnb9"
      },
      "execution_count": 53,
      "outputs": [
        {
          "output_type": "stream",
          "name": "stdout",
          "text": [
            "China\n",
            "           Word  Count\n",
            "0         china   1126\n",
            "1         novel    834\n",
            "2   coronavirus    560\n",
            "3          case    496\n",
            "4      outbreak    469\n",
            "5      hospital    441\n",
            "6       patient    338\n",
            "7           new    328\n",
            "8         fight    298\n",
            "9           say    261\n",
            "10      confirm    258\n",
            "11       people    221\n",
            "12        hubei    189\n",
            "13     epidemic    187\n",
            "14       report    175\n",
            "15      medical    173\n",
            "16         live    169\n",
            "17       health    159\n",
            "18     province    158\n",
            "19       battle    157\n",
            "20        death    152\n",
            "21      control    149\n",
            "22      support    145\n",
            "23         amid    142\n",
            "24          day    131\n",
            "25    discharge    120\n",
            "26        virus    118\n",
            "27    infection    114\n",
            "28         take    111\n",
            "29     official    110\n",
            "\n",
            "USA\n",
            "           Word  Count\n",
            "0   coronavirus   2696\n",
            "1         china   1323\n",
            "2      outbreak    631\n",
            "3          case    539\n",
            "4           say    397\n",
            "5           new    394\n",
            "6        spread    381\n",
            "7         death    317\n",
            "8        health    293\n",
            "9        people    270\n",
            "10         late    240\n",
            "11       cruise    220\n",
            "12         ship    216\n",
            "13        first    192\n",
            "14       report    191\n",
            "15        world    189\n",
            "16      confirm    189\n",
            "17   quarantine    162\n",
            "18        virus    160\n",
            "19         test    159\n",
            "20        japan    159\n",
            "21      country    153\n",
            "22         fear    153\n",
            "23         toll    149\n",
            "24       global    145\n",
            "25        state    143\n",
            "26       travel    137\n",
            "27         rise    136\n",
            "28         city    134\n",
            "29          two    133\n",
            "\n",
            "China&USA\n",
            "           Word  Count\n",
            "0   coronavirus   3256\n",
            "1         china   2449\n",
            "2      outbreak   1100\n",
            "3          case   1035\n",
            "4         novel    937\n",
            "5           new    722\n",
            "6           say    658\n",
            "7      hospital    520\n",
            "8        people    491\n",
            "9        spread    475\n",
            "10        death    469\n",
            "11       health    452\n",
            "12      confirm    447\n",
            "13      patient    428\n",
            "14       report    366\n",
            "15        fight    351\n",
            "16         late    340\n",
            "17        first    301\n",
            "18        virus    278\n",
            "19        world    277\n",
            "20        hubei    277\n",
            "21       cruise    262\n",
            "22          day    262\n",
            "23         ship    260\n",
            "24      country    260\n",
            "25     epidemic    253\n",
            "26         amid    246\n",
            "27         city    243\n",
            "28     official    241\n",
            "29     province    231\n",
            "\n"
          ]
        }
      ]
    },
    {
      "cell_type": "code",
      "source": [
        "keys_China = freq_dict_China.keys()  \n",
        "keys_USA = freq_dict_USA.keys()  \n",
        "keys_China_USA = freq_dict_China_USA.keys()  "
      ],
      "metadata": {
        "id": "Q52SCkkKNncF"
      },
      "execution_count": 54,
      "outputs": []
    },
    {
      "cell_type": "code",
      "source": [
        "network_China, network_df_China = create_network(cleaned_mostimp_text_China)\n",
        "network_USA, network_df_USA = create_network(cleaned_mostimp_text_USA)\n",
        "network_China_USA, network_df_China_USA = create_network(cleaned_mostimp_text_China_USA)"
      ],
      "metadata": {
        "id": "bPn3tfv7NncF"
      },
      "execution_count": 55,
      "outputs": []
    },
    {
      "cell_type": "code",
      "source": [
        "print('China:')\n",
        "print(network_df_China.iloc[0:30])\n",
        "print()\n",
        "print('USA:')\n",
        "print(network_df_USA.iloc[0:30])\n",
        "print()\n",
        "print('China&USA:')\n",
        "print(network_df_China_USA.iloc[0:30])\n",
        "print()"
      ],
      "metadata": {
        "colab": {
          "base_uri": "https://localhost:8080/"
        },
        "outputId": "a4d77adf-16c2-48ed-85e7-87d62e50514a",
        "id": "MVggBElVNncF"
      },
      "execution_count": 56,
      "outputs": [
        {
          "output_type": "stream",
          "name": "stdout",
          "text": [
            "China:\n",
            "                         weight\n",
            "(china, novel)              493\n",
            "(confirm, case)             323\n",
            "(china, outbreak)           296\n",
            "(china, coronavirus)        291\n",
            "(novel, coronavirus)        280\n",
            "(patient, hospital)         265\n",
            "(new, case)                 256\n",
            "(china, case)               236\n",
            "(novel, outbreak)           226\n",
            "(china, fight)              226\n",
            "(report, case)              212\n",
            "(death, case)               191\n",
            "(say, china)                169\n",
            "(china, new)                164\n",
            "(new, confirm)              155\n",
            "(china, support)            147\n",
            "(china, confirm)            139\n",
            "(report, new)               135\n",
            "(case, novel)               132\n",
            "(china, epidemic)           127\n",
            "(case, coronavirus)         126\n",
            "(death, new)                125\n",
            "(fight, novel)              125\n",
            "(hospital, novel)           122\n",
            "(china, hospital)           120\n",
            "(province, case)            119\n",
            "(report, confirm)           119\n",
            "(coronavirus, outbreak)     119\n",
            "(discharge, hospital)       117\n",
            "(china, battle)             117\n",
            "\n",
            "USA:\n",
            "                         weight\n",
            "(china, coronavirus)       1153\n",
            "(coronavirus, outbreak)     561\n",
            "(coronavirus, case)         486\n",
            "(china, outbreak)           354\n",
            "(spread, coronavirus)       343\n",
            "(new, coronavirus)          340\n",
            "(say, coronavirus)          328\n",
            "(coronavirus, death)        262\n",
            "(coronavirus, health)       241\n",
            "(china, case)               240\n",
            "(china, death)              231\n",
            "(people, coronavirus)       215\n",
            "(cruise, ship)              204\n",
            "(china, spread)             197\n",
            "(cruise, coronavirus)       186\n",
            "(coronavirus, late)         182\n",
            "(ship, coronavirus)         181\n",
            "(china, new)                181\n",
            "(case, confirm)             176\n",
            "(china, say)                173\n",
            "(china, late)               173\n",
            "(report, coronavirus)       166\n",
            "(confirm, coronavirus)      165\n",
            "(coronavirus, first)        162\n",
            "(test, coronavirus)         152\n",
            "(world, coronavirus)        152\n",
            "(china, people)             152\n",
            "(death, toll)               143\n",
            "(coronavirus, fear)         142\n",
            "(coronavirus, japan)        139\n",
            "\n",
            "China&USA:\n",
            "                         weight\n",
            "(china, coronavirus)       1444\n",
            "(coronavirus, outbreak)     680\n",
            "(china, outbreak)           650\n",
            "(case, coronavirus)         612\n",
            "(china, novel)              533\n",
            "(confirm, case)             499\n",
            "(china, case)               476\n",
            "(coronavirus, new)          433\n",
            "(new, case)                 385\n",
            "(novel, coronavirus)        383\n",
            "(coronavirus, spread)       372\n",
            "(say, coronavirus)          372\n",
            "(china, new)                345\n",
            "(say, china)                342\n",
            "(death, china)              321\n",
            "(death, case)               309\n",
            "(report, case)              292\n",
            "(coronavirus, death)        289\n",
            "(patient, hospital)         276\n",
            "(health, coronavirus)       271\n",
            "(novel, outbreak)           257\n",
            "(china, people)             254\n",
            "(people, coronavirus)       254\n",
            "(cruise, ship)              251\n",
            "(china, fight)              248\n",
            "(china, spread)             242\n",
            "(confirm, coronavirus)      231\n",
            "(china, late)               225\n",
            "(china, confirm)            215\n",
            "(health, china)             214\n",
            "\n"
          ]
        }
      ]
    },
    {
      "cell_type": "code",
      "source": [
        "G_China = get_graph(network_China)\n",
        "G_USA = get_graph(network_USA)\n",
        "G_China_USA = get_graph(network_China_USA)"
      ],
      "metadata": {
        "id": "zNrH5boVNncF"
      },
      "execution_count": 58,
      "outputs": []
    },
    {
      "cell_type": "code",
      "source": [
        "print('China:')\n",
        "print('Nodes: ',len(G_China.nodes()))\n",
        "print('Edges: ',len(G_China.edges()))\n",
        "print('Is connected: ',nx.is_connected(G_China))\n",
        "print()\n",
        "print('USA:')\n",
        "print('Nodes: ',len(G_USA.nodes()))\n",
        "print('Edges: ',len(G_USA.edges()))\n",
        "print('Is connected: ',nx.is_connected(G_USA))\n",
        "print()\n",
        "print('China&USA:')\n",
        "print('Nodes: ',len(G_China_USA.nodes()))\n",
        "print('Edges: ',len(G_China_USA.edges()))\n",
        "print('Is connected: ',nx.is_connected(G_China_USA))"
      ],
      "metadata": {
        "colab": {
          "base_uri": "https://localhost:8080/"
        },
        "outputId": "f3adfb38-4174-4d9c-c15f-76e2f984921d",
        "id": "kx5041hFNncF"
      },
      "execution_count": 59,
      "outputs": [
        {
          "output_type": "stream",
          "name": "stdout",
          "text": [
            "China:\n",
            "Nodes:  467\n",
            "Edges:  28897\n",
            "Is connected:  True\n",
            "\n",
            "USA:\n",
            "Nodes:  467\n",
            "Edges:  27827\n",
            "Is connected:  True\n",
            "\n",
            "China&USA:\n",
            "Nodes:  460\n",
            "Edges:  40466\n",
            "Is connected:  True\n"
          ]
        }
      ]
    },
    {
      "cell_type": "markdown",
      "source": [
        "#Save edge list"
      ],
      "metadata": {
        "id": "p4SvWlzSfzFv"
      }
    },
    {
      "cell_type": "code",
      "source": [
        "filename = './edgelist_China'+period+'.csv'\n",
        "nx.write_weighted_edgelist(G_China, filename, delimiter=\",\")\n",
        "#add header with appropriate column names (works on colab and Linux/Mac(?))\n",
        "!sed -i.bak 1i\"Source,Target,Weight\" ./edgelist_China_JanFeb2020.csv\n",
        "files.download('edgelist_China'+period+'.csv')\n",
        "\n",
        "filename = './edgelist_USA'+period+'.csv'\n",
        "nx.write_weighted_edgelist(G_USA, filename, delimiter=\",\")\n",
        "#add header with appropriate column names (works on colab and Linux/Mac(?))\n",
        "!sed -i.bak 1i\"Source,Target,Weight\" ./edgelist_USA_JanFeb2020.csv\n",
        "files.download('edgelist_USA'+period+'.csv')\n",
        "\n",
        "filename = './edgelist_China_USA'+period+'.csv'\n",
        "nx.write_weighted_edgelist(G_China_USA, filename, delimiter=\",\")\n",
        "#add header with appropriate column names (works on colab and Linux/Mac(?))\n",
        "!sed -i.bak 1i\"Source,Target,Weight\" ./edgelist_China_USA_JanFeb2020.csv\n",
        "files.download('edgelist_China_USA'+period+'.csv')"
      ],
      "metadata": {
        "id": "zgmmRGRCrM9J",
        "colab": {
          "base_uri": "https://localhost:8080/",
          "height": 17
        },
        "outputId": "6b9fe56b-b563-46db-95c6-43d4b9533e5d"
      },
      "execution_count": 60,
      "outputs": [
        {
          "output_type": "display_data",
          "data": {
            "application/javascript": [
              "\n",
              "    async function download(id, filename, size) {\n",
              "      if (!google.colab.kernel.accessAllowed) {\n",
              "        return;\n",
              "      }\n",
              "      const div = document.createElement('div');\n",
              "      const label = document.createElement('label');\n",
              "      label.textContent = `Downloading \"${filename}\": `;\n",
              "      div.appendChild(label);\n",
              "      const progress = document.createElement('progress');\n",
              "      progress.max = size;\n",
              "      div.appendChild(progress);\n",
              "      document.body.appendChild(div);\n",
              "\n",
              "      const buffers = [];\n",
              "      let downloaded = 0;\n",
              "\n",
              "      const channel = await google.colab.kernel.comms.open(id);\n",
              "      // Send a message to notify the kernel that we're ready.\n",
              "      channel.send({})\n",
              "\n",
              "      for await (const message of channel.messages) {\n",
              "        // Send a message to notify the kernel that we're ready.\n",
              "        channel.send({})\n",
              "        if (message.buffers) {\n",
              "          for (const buffer of message.buffers) {\n",
              "            buffers.push(buffer);\n",
              "            downloaded += buffer.byteLength;\n",
              "            progress.value = downloaded;\n",
              "          }\n",
              "        }\n",
              "      }\n",
              "      const blob = new Blob(buffers, {type: 'application/binary'});\n",
              "      const a = document.createElement('a');\n",
              "      a.href = window.URL.createObjectURL(blob);\n",
              "      a.download = filename;\n",
              "      div.appendChild(a);\n",
              "      a.click();\n",
              "      div.remove();\n",
              "    }\n",
              "  "
            ],
            "text/plain": [
              "<IPython.core.display.Javascript object>"
            ]
          },
          "metadata": {}
        },
        {
          "output_type": "display_data",
          "data": {
            "application/javascript": [
              "download(\"download_4af12749-cd1a-44e9-8f57-17ab1cae08e8\", \"edgelist_China_JanFeb2020.csv\", 456636)"
            ],
            "text/plain": [
              "<IPython.core.display.Javascript object>"
            ]
          },
          "metadata": {}
        },
        {
          "output_type": "display_data",
          "data": {
            "application/javascript": [
              "\n",
              "    async function download(id, filename, size) {\n",
              "      if (!google.colab.kernel.accessAllowed) {\n",
              "        return;\n",
              "      }\n",
              "      const div = document.createElement('div');\n",
              "      const label = document.createElement('label');\n",
              "      label.textContent = `Downloading \"${filename}\": `;\n",
              "      div.appendChild(label);\n",
              "      const progress = document.createElement('progress');\n",
              "      progress.max = size;\n",
              "      div.appendChild(progress);\n",
              "      document.body.appendChild(div);\n",
              "\n",
              "      const buffers = [];\n",
              "      let downloaded = 0;\n",
              "\n",
              "      const channel = await google.colab.kernel.comms.open(id);\n",
              "      // Send a message to notify the kernel that we're ready.\n",
              "      channel.send({})\n",
              "\n",
              "      for await (const message of channel.messages) {\n",
              "        // Send a message to notify the kernel that we're ready.\n",
              "        channel.send({})\n",
              "        if (message.buffers) {\n",
              "          for (const buffer of message.buffers) {\n",
              "            buffers.push(buffer);\n",
              "            downloaded += buffer.byteLength;\n",
              "            progress.value = downloaded;\n",
              "          }\n",
              "        }\n",
              "      }\n",
              "      const blob = new Blob(buffers, {type: 'application/binary'});\n",
              "      const a = document.createElement('a');\n",
              "      a.href = window.URL.createObjectURL(blob);\n",
              "      a.download = filename;\n",
              "      div.appendChild(a);\n",
              "      a.click();\n",
              "      div.remove();\n",
              "    }\n",
              "  "
            ],
            "text/plain": [
              "<IPython.core.display.Javascript object>"
            ]
          },
          "metadata": {}
        },
        {
          "output_type": "display_data",
          "data": {
            "application/javascript": [
              "download(\"download_88c8646e-fa06-481a-9a3a-25481f82af37\", \"edgelist_USA_JanFeb2020.csv\", 434007)"
            ],
            "text/plain": [
              "<IPython.core.display.Javascript object>"
            ]
          },
          "metadata": {}
        },
        {
          "output_type": "display_data",
          "data": {
            "application/javascript": [
              "\n",
              "    async function download(id, filename, size) {\n",
              "      if (!google.colab.kernel.accessAllowed) {\n",
              "        return;\n",
              "      }\n",
              "      const div = document.createElement('div');\n",
              "      const label = document.createElement('label');\n",
              "      label.textContent = `Downloading \"${filename}\": `;\n",
              "      div.appendChild(label);\n",
              "      const progress = document.createElement('progress');\n",
              "      progress.max = size;\n",
              "      div.appendChild(progress);\n",
              "      document.body.appendChild(div);\n",
              "\n",
              "      const buffers = [];\n",
              "      let downloaded = 0;\n",
              "\n",
              "      const channel = await google.colab.kernel.comms.open(id);\n",
              "      // Send a message to notify the kernel that we're ready.\n",
              "      channel.send({})\n",
              "\n",
              "      for await (const message of channel.messages) {\n",
              "        // Send a message to notify the kernel that we're ready.\n",
              "        channel.send({})\n",
              "        if (message.buffers) {\n",
              "          for (const buffer of message.buffers) {\n",
              "            buffers.push(buffer);\n",
              "            downloaded += buffer.byteLength;\n",
              "            progress.value = downloaded;\n",
              "          }\n",
              "        }\n",
              "      }\n",
              "      const blob = new Blob(buffers, {type: 'application/binary'});\n",
              "      const a = document.createElement('a');\n",
              "      a.href = window.URL.createObjectURL(blob);\n",
              "      a.download = filename;\n",
              "      div.appendChild(a);\n",
              "      a.click();\n",
              "      div.remove();\n",
              "    }\n",
              "  "
            ],
            "text/plain": [
              "<IPython.core.display.Javascript object>"
            ]
          },
          "metadata": {}
        },
        {
          "output_type": "display_data",
          "data": {
            "application/javascript": [
              "download(\"download_db3b11f2-64d4-47c6-b0ca-01d4afb72bc3\", \"edgelist_China_USA_JanFeb2020.csv\", 633440)"
            ],
            "text/plain": [
              "<IPython.core.display.Javascript object>"
            ]
          },
          "metadata": {}
        }
      ]
    },
    {
      "cell_type": "markdown",
      "source": [
        "\n",
        "\n",
        "\n",
        "\n",
        "# Create Node List\n",
        "\n",
        "\n"
      ],
      "metadata": {
        "id": "nWHLO7AhdwzR"
      }
    },
    {
      "cell_type": "code",
      "source": [
        "def nodes(freq_dict, name):\n",
        "  word_nodes = pd.DataFrame.from_dict(freq_dict,orient=\"index\")\n",
        "  word_nodes.reset_index(inplace=True)\n",
        "  word_nodes[\"Label\"] = word_nodes[\"index\"]\n",
        "  word_nodes.rename(columns={\"index\":\"Id\",0:\"delete\"},inplace=True)\n",
        "  word_nodes = word_nodes.drop(columns=['delete'])\n",
        "  nodelist = pd.DataFrame()\n",
        "  nodelist = nodelist.append(word_nodes, ignore_index=True)\n",
        "\n",
        "  nodelist = nodelist.to_csv(\"nodelist_\"+name+\".csv\",index=False)\n",
        "  files.download(\"nodelist_\"+name+\".csv\")\n",
        "  return nodelist, word_nodes"
      ],
      "metadata": {
        "id": "v2GYb2BQFzET"
      },
      "execution_count": 61,
      "outputs": []
    },
    {
      "cell_type": "code",
      "source": [
        "nodelist_China, word_nodes_China = nodes(freq_dict_China,'China'+period)\n",
        "nodelist_USA, word_nodes_USA = nodes(freq_dict_USA,'USA_'+period)\n",
        "nodelist_China_USA, word_nodes_China_USA = nodes(freq_dict_China_USA,'China_USA'+period)\n",
        "\n",
        "print('China:')\n",
        "print(word_nodes_China.head())\n",
        "print()\n",
        "print('USA:')\n",
        "print(word_nodes_USA.head())\n",
        "print()\n",
        "print('China&USA:')\n",
        "print(word_nodes_China_USA.head())\n",
        "print()"
      ],
      "metadata": {
        "colab": {
          "base_uri": "https://localhost:8080/",
          "height": 434
        },
        "id": "EmQrEHV0F1QY",
        "outputId": "955e8bdc-a1f2-4af5-dca8-2aa066092802"
      },
      "execution_count": 62,
      "outputs": [
        {
          "output_type": "display_data",
          "data": {
            "application/javascript": [
              "\n",
              "    async function download(id, filename, size) {\n",
              "      if (!google.colab.kernel.accessAllowed) {\n",
              "        return;\n",
              "      }\n",
              "      const div = document.createElement('div');\n",
              "      const label = document.createElement('label');\n",
              "      label.textContent = `Downloading \"${filename}\": `;\n",
              "      div.appendChild(label);\n",
              "      const progress = document.createElement('progress');\n",
              "      progress.max = size;\n",
              "      div.appendChild(progress);\n",
              "      document.body.appendChild(div);\n",
              "\n",
              "      const buffers = [];\n",
              "      let downloaded = 0;\n",
              "\n",
              "      const channel = await google.colab.kernel.comms.open(id);\n",
              "      // Send a message to notify the kernel that we're ready.\n",
              "      channel.send({})\n",
              "\n",
              "      for await (const message of channel.messages) {\n",
              "        // Send a message to notify the kernel that we're ready.\n",
              "        channel.send({})\n",
              "        if (message.buffers) {\n",
              "          for (const buffer of message.buffers) {\n",
              "            buffers.push(buffer);\n",
              "            downloaded += buffer.byteLength;\n",
              "            progress.value = downloaded;\n",
              "          }\n",
              "        }\n",
              "      }\n",
              "      const blob = new Blob(buffers, {type: 'application/binary'});\n",
              "      const a = document.createElement('a');\n",
              "      a.href = window.URL.createObjectURL(blob);\n",
              "      a.download = filename;\n",
              "      div.appendChild(a);\n",
              "      a.click();\n",
              "      div.remove();\n",
              "    }\n",
              "  "
            ],
            "text/plain": [
              "<IPython.core.display.Javascript object>"
            ]
          },
          "metadata": {}
        },
        {
          "output_type": "display_data",
          "data": {
            "application/javascript": [
              "download(\"download_fde560db-ef95-41e3-8f5e-d19662e741a1\", \"nodelist_China_JanFeb2020.csv\", 6451)"
            ],
            "text/plain": [
              "<IPython.core.display.Javascript object>"
            ]
          },
          "metadata": {}
        },
        {
          "output_type": "display_data",
          "data": {
            "application/javascript": [
              "\n",
              "    async function download(id, filename, size) {\n",
              "      if (!google.colab.kernel.accessAllowed) {\n",
              "        return;\n",
              "      }\n",
              "      const div = document.createElement('div');\n",
              "      const label = document.createElement('label');\n",
              "      label.textContent = `Downloading \"${filename}\": `;\n",
              "      div.appendChild(label);\n",
              "      const progress = document.createElement('progress');\n",
              "      progress.max = size;\n",
              "      div.appendChild(progress);\n",
              "      document.body.appendChild(div);\n",
              "\n",
              "      const buffers = [];\n",
              "      let downloaded = 0;\n",
              "\n",
              "      const channel = await google.colab.kernel.comms.open(id);\n",
              "      // Send a message to notify the kernel that we're ready.\n",
              "      channel.send({})\n",
              "\n",
              "      for await (const message of channel.messages) {\n",
              "        // Send a message to notify the kernel that we're ready.\n",
              "        channel.send({})\n",
              "        if (message.buffers) {\n",
              "          for (const buffer of message.buffers) {\n",
              "            buffers.push(buffer);\n",
              "            downloaded += buffer.byteLength;\n",
              "            progress.value = downloaded;\n",
              "          }\n",
              "        }\n",
              "      }\n",
              "      const blob = new Blob(buffers, {type: 'application/binary'});\n",
              "      const a = document.createElement('a');\n",
              "      a.href = window.URL.createObjectURL(blob);\n",
              "      a.download = filename;\n",
              "      div.appendChild(a);\n",
              "      a.click();\n",
              "      div.remove();\n",
              "    }\n",
              "  "
            ],
            "text/plain": [
              "<IPython.core.display.Javascript object>"
            ]
          },
          "metadata": {}
        },
        {
          "output_type": "display_data",
          "data": {
            "application/javascript": [
              "download(\"download_ab20f83b-0ce8-47f4-85e8-81beb4493200\", \"nodelist_USA__JanFeb2020.csv\", 6363)"
            ],
            "text/plain": [
              "<IPython.core.display.Javascript object>"
            ]
          },
          "metadata": {}
        },
        {
          "output_type": "display_data",
          "data": {
            "application/javascript": [
              "\n",
              "    async function download(id, filename, size) {\n",
              "      if (!google.colab.kernel.accessAllowed) {\n",
              "        return;\n",
              "      }\n",
              "      const div = document.createElement('div');\n",
              "      const label = document.createElement('label');\n",
              "      label.textContent = `Downloading \"${filename}\": `;\n",
              "      div.appendChild(label);\n",
              "      const progress = document.createElement('progress');\n",
              "      progress.max = size;\n",
              "      div.appendChild(progress);\n",
              "      document.body.appendChild(div);\n",
              "\n",
              "      const buffers = [];\n",
              "      let downloaded = 0;\n",
              "\n",
              "      const channel = await google.colab.kernel.comms.open(id);\n",
              "      // Send a message to notify the kernel that we're ready.\n",
              "      channel.send({})\n",
              "\n",
              "      for await (const message of channel.messages) {\n",
              "        // Send a message to notify the kernel that we're ready.\n",
              "        channel.send({})\n",
              "        if (message.buffers) {\n",
              "          for (const buffer of message.buffers) {\n",
              "            buffers.push(buffer);\n",
              "            downloaded += buffer.byteLength;\n",
              "            progress.value = downloaded;\n",
              "          }\n",
              "        }\n",
              "      }\n",
              "      const blob = new Blob(buffers, {type: 'application/binary'});\n",
              "      const a = document.createElement('a');\n",
              "      a.href = window.URL.createObjectURL(blob);\n",
              "      a.download = filename;\n",
              "      div.appendChild(a);\n",
              "      a.click();\n",
              "      div.remove();\n",
              "    }\n",
              "  "
            ],
            "text/plain": [
              "<IPython.core.display.Javascript object>"
            ]
          },
          "metadata": {}
        },
        {
          "output_type": "display_data",
          "data": {
            "application/javascript": [
              "download(\"download_3806347c-a310-461c-897a-df45741a4097\", \"nodelist_China_USA_JanFeb2020.csv\", 6287)"
            ],
            "text/plain": [
              "<IPython.core.display.Javascript object>"
            ]
          },
          "metadata": {}
        },
        {
          "output_type": "stream",
          "name": "stdout",
          "text": [
            "China:\n",
            "            Id        Label\n",
            "0        china        china\n",
            "1        novel        novel\n",
            "2  coronavirus  coronavirus\n",
            "3         case         case\n",
            "4     outbreak     outbreak\n",
            "\n",
            "USA:\n",
            "            Id        Label\n",
            "0  coronavirus  coronavirus\n",
            "1        china        china\n",
            "2     outbreak     outbreak\n",
            "3         case         case\n",
            "4          say          say\n",
            "\n",
            "China&USA:\n",
            "            Id        Label\n",
            "0  coronavirus  coronavirus\n",
            "1        china        china\n",
            "2     outbreak     outbreak\n",
            "3         case         case\n",
            "4        novel        novel\n",
            "\n"
          ]
        }
      ]
    }
  ]
}